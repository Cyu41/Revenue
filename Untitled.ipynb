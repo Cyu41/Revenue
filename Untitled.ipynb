{
 "cells": [
  {
   "cell_type": "code",
   "execution_count": 10,
   "id": "ce6e442e",
   "metadata": {},
   "outputs": [],
   "source": [
    "import pandas as pd\n",
    "import plotly.express as px\n",
    "import plotly.graph_objects as go\n",
    "import plotly.figure_factory as ff  # 圖形工廠\n",
    "from plotly.subplots import make_subplots  # 繪製子圖\n",
    "import numpy as np\n",
    "from Upload_git import upload\n",
    "from os import system\n",
    "import time\n",
    "from time import ctime, sleep\n",
    "from Upload_git import upload\n",
    "import schedule\n",
    "import psycopg2\n",
    "import psycopg2.extras as extras\n",
    "from sqlalchemy import create_engine\n",
    "from sklearn.linear_model import LinearRegression\n",
    "from statsmodels.regression.rolling import RollingOLS, RollingWLS\n",
    "# from scipy import stats"
   ]
  },
  {
   "cell_type": "code",
   "execution_count": 494,
   "id": "9ca490f7",
   "metadata": {},
   "outputs": [
    {
     "name": "stdout",
     "output_type": "stream",
     "text": [
      "2023-02-13 09:21:36,294 INFO sqlalchemy.engine.Engine select pg_catalog.version()\n",
      "2023-02-13 09:21:36,296 INFO sqlalchemy.engine.Engine [raw sql] {}\n",
      "2023-02-13 09:21:36,703 INFO sqlalchemy.engine.Engine select current_schema()\n",
      "2023-02-13 09:21:36,705 INFO sqlalchemy.engine.Engine [raw sql] {}\n",
      "2023-02-13 09:21:37,116 INFO sqlalchemy.engine.Engine show standard_conforming_strings\n",
      "2023-02-13 09:21:37,117 INFO sqlalchemy.engine.Engine [raw sql] {}\n",
      "2023-02-13 09:21:37,528 INFO sqlalchemy.engine.Engine select relname from pg_class c join pg_namespace n on n.oid=c.relnamespace where pg_catalog.pg_table_is_visible(c.oid) and relname=%(name)s\n",
      "2023-02-13 09:21:37,529 INFO sqlalchemy.engine.Engine [generated in 0.00147s] {'name': 'industry'}\n",
      "2023-02-13 09:21:38,168 INFO sqlalchemy.engine.Engine SELECT c.relname FROM pg_class c JOIN pg_namespace n ON n.oid = c.relnamespace WHERE n.nspname = %(schema)s AND c.relkind in ('r', 'p')\n",
      "2023-02-13 09:21:38,170 INFO sqlalchemy.engine.Engine [generated in 0.00214s] {'schema': 'public'}\n",
      "2023-02-13 09:21:38,582 INFO sqlalchemy.engine.Engine \n",
      "            SELECT c.oid\n",
      "            FROM pg_catalog.pg_class c\n",
      "            LEFT JOIN pg_catalog.pg_namespace n ON n.oid = c.relnamespace\n",
      "            WHERE (pg_catalog.pg_table_is_visible(c.oid))\n",
      "            AND c.relname = %(table_name)s AND c.relkind in\n",
      "            ('r', 'v', 'm', 'f', 'p')\n",
      "        \n",
      "2023-02-13 09:21:38,584 INFO sqlalchemy.engine.Engine [generated in 0.00169s] {'table_name': 'industry'}\n",
      "2023-02-13 09:21:38,789 INFO sqlalchemy.engine.Engine \n",
      "            SELECT a.attname,\n",
      "              pg_catalog.format_type(a.atttypid, a.atttypmod),\n",
      "              (\n",
      "                SELECT pg_catalog.pg_get_expr(d.adbin, d.adrelid)\n",
      "                FROM pg_catalog.pg_attrdef d\n",
      "                WHERE d.adrelid = a.attrelid AND d.adnum = a.attnum\n",
      "                AND a.atthasdef\n",
      "              ) AS DEFAULT,\n",
      "              a.attnotnull,\n",
      "              a.attrelid as table_oid,\n",
      "              pgd.description as comment,\n",
      "              a.attgenerated as generated,\n",
      "                              (SELECT json_build_object(\n",
      "                    'always', a.attidentity = 'a',\n",
      "                    'start', s.seqstart,\n",
      "                    'increment', s.seqincrement,\n",
      "                    'minvalue', s.seqmin,\n",
      "                    'maxvalue', s.seqmax,\n",
      "                    'cache', s.seqcache,\n",
      "                    'cycle', s.seqcycle)\n",
      "                FROM pg_catalog.pg_sequence s\n",
      "                JOIN pg_catalog.pg_class c on s.seqrelid = c.\"oid\"\n",
      "                WHERE c.relkind = 'S'\n",
      "                AND a.attidentity != ''\n",
      "                AND s.seqrelid = pg_catalog.pg_get_serial_sequence(\n",
      "                    a.attrelid::regclass::text, a.attname\n",
      "                )::regclass::oid\n",
      "                ) as identity_options                \n",
      "            FROM pg_catalog.pg_attribute a\n",
      "            LEFT JOIN pg_catalog.pg_description pgd ON (\n",
      "                pgd.objoid = a.attrelid AND pgd.objsubid = a.attnum)\n",
      "            WHERE a.attrelid = %(table_oid)s\n",
      "            AND a.attnum > 0 AND NOT a.attisdropped\n",
      "            ORDER BY a.attnum\n",
      "        \n",
      "2023-02-13 09:21:38,790 INFO sqlalchemy.engine.Engine [generated in 0.00131s] {'table_oid': 16461}\n",
      "2023-02-13 09:21:39,000 INFO sqlalchemy.engine.Engine \n",
      "            SELECT t.typname as \"name\",\n",
      "               pg_catalog.format_type(t.typbasetype, t.typtypmod) as \"attype\",\n",
      "               not t.typnotnull as \"nullable\",\n",
      "               t.typdefault as \"default\",\n",
      "               pg_catalog.pg_type_is_visible(t.oid) as \"visible\",\n",
      "               n.nspname as \"schema\"\n",
      "            FROM pg_catalog.pg_type t\n",
      "               LEFT JOIN pg_catalog.pg_namespace n ON n.oid = t.typnamespace\n",
      "            WHERE t.typtype = 'd'\n",
      "        \n",
      "2023-02-13 09:21:39,001 INFO sqlalchemy.engine.Engine [generated in 0.00129s] {}\n",
      "2023-02-13 09:21:39,205 INFO sqlalchemy.engine.Engine \n",
      "            SELECT t.typname as \"name\",\n",
      "               -- no enum defaults in 8.4 at least\n",
      "               -- t.typdefault as \"default\",\n",
      "               pg_catalog.pg_type_is_visible(t.oid) as \"visible\",\n",
      "               n.nspname as \"schema\",\n",
      "               e.enumlabel as \"label\"\n",
      "            FROM pg_catalog.pg_type t\n",
      "                 LEFT JOIN pg_catalog.pg_namespace n ON n.oid = t.typnamespace\n",
      "                 LEFT JOIN pg_catalog.pg_enum e ON t.oid = e.enumtypid\n",
      "            WHERE t.typtype = 'e'\n",
      "        ORDER BY \"schema\", \"name\", e.oid\n",
      "2023-02-13 09:21:39,207 INFO sqlalchemy.engine.Engine [generated in 0.00193s] {}\n",
      "2023-02-13 09:21:39,416 INFO sqlalchemy.engine.Engine \n",
      "                SELECT a.attname\n",
      "                FROM pg_attribute a JOIN (\n",
      "                    SELECT unnest(ix.indkey) attnum,\n",
      "                           generate_subscripts(ix.indkey, 1) ord\n",
      "                    FROM pg_index ix\n",
      "                    WHERE ix.indrelid = %(table_oid)s AND ix.indisprimary\n",
      "                    ) k ON a.attnum=k.attnum\n",
      "                WHERE a.attrelid = %(table_oid)s\n",
      "                ORDER BY k.ord\n",
      "            \n",
      "2023-02-13 09:21:39,417 INFO sqlalchemy.engine.Engine [generated in 0.00068s] {'table_oid': 16461}\n",
      "2023-02-13 09:21:39,620 INFO sqlalchemy.engine.Engine \n",
      "        SELECT conname\n",
      "           FROM  pg_catalog.pg_constraint r\n",
      "           WHERE r.conrelid = %(table_oid)s AND r.contype = 'p'\n",
      "           ORDER BY 1\n",
      "        \n",
      "2023-02-13 09:21:39,621 INFO sqlalchemy.engine.Engine [generated in 0.00070s] {'table_oid': 16461}\n",
      "2023-02-13 09:21:39,824 INFO sqlalchemy.engine.Engine \n",
      "          SELECT r.conname,\n",
      "                pg_catalog.pg_get_constraintdef(r.oid, true) as condef,\n",
      "                n.nspname as conschema\n",
      "          FROM  pg_catalog.pg_constraint r,\n",
      "                pg_namespace n,\n",
      "                pg_class c\n",
      "\n",
      "          WHERE r.conrelid = %(table)s AND\n",
      "                r.contype = 'f' AND\n",
      "                c.oid = confrelid AND\n",
      "                n.oid = c.relnamespace\n",
      "          ORDER BY 1\n",
      "        \n",
      "2023-02-13 09:21:39,825 INFO sqlalchemy.engine.Engine [generated in 0.00146s] {'table': 16461}\n",
      "2023-02-13 09:21:40,031 INFO sqlalchemy.engine.Engine \n",
      "              SELECT\n",
      "                  i.relname as relname,\n",
      "                  ix.indisunique, ix.indexprs,\n",
      "                  a.attname, a.attnum, c.conrelid, ix.indkey::varchar,\n",
      "                  ix.indoption::varchar, i.reloptions, am.amname,\n",
      "                  pg_get_expr(ix.indpred, ix.indrelid),\n",
      "                  ix.indnkeyatts as indnkeyatts\n",
      "              FROM\n",
      "                  pg_class t\n",
      "                        join pg_index ix on t.oid = ix.indrelid\n",
      "                        join pg_class i on i.oid = ix.indexrelid\n",
      "                        left outer join\n",
      "                            pg_attribute a\n",
      "                            on t.oid = a.attrelid and a.attnum = ANY(ix.indkey)\n",
      "                        left outer join\n",
      "                            pg_constraint c\n",
      "                            on (ix.indrelid = c.conrelid and\n",
      "                                ix.indexrelid = c.conindid and\n",
      "                                c.contype in ('p', 'u', 'x'))\n",
      "                        left outer join\n",
      "                            pg_am am\n",
      "                            on i.relam = am.oid\n",
      "              WHERE\n",
      "                  t.relkind IN ('r', 'v', 'f', 'm', 'p')\n",
      "                  and t.oid = %(table_oid)s\n",
      "                  and ix.indisprimary = 'f'\n",
      "              ORDER BY\n",
      "                  t.relname,\n",
      "                  i.relname\n",
      "            \n",
      "2023-02-13 09:21:40,032 INFO sqlalchemy.engine.Engine [generated in 0.00160s] {'table_oid': 16461}\n",
      "2023-02-13 09:21:40,240 INFO sqlalchemy.engine.Engine \n",
      "            SELECT\n",
      "                cons.conname as name,\n",
      "                cons.conkey as key,\n",
      "                a.attnum as col_num,\n",
      "                a.attname as col_name\n",
      "            FROM\n",
      "                pg_catalog.pg_constraint cons\n",
      "                join pg_attribute a\n",
      "                  on cons.conrelid = a.attrelid AND\n",
      "                    a.attnum = ANY(cons.conkey)\n",
      "            WHERE\n",
      "                cons.conrelid = %(table_oid)s AND\n",
      "                cons.contype = 'u'\n",
      "        \n",
      "2023-02-13 09:21:40,241 INFO sqlalchemy.engine.Engine [generated in 0.00119s] {'table_oid': 16461}\n",
      "2023-02-13 09:21:40,447 INFO sqlalchemy.engine.Engine \n",
      "            SELECT\n",
      "                cons.conname as name,\n",
      "                pg_get_constraintdef(cons.oid) as src\n",
      "            FROM\n",
      "                pg_catalog.pg_constraint cons\n",
      "            WHERE\n",
      "                cons.conrelid = %(table_oid)s AND\n",
      "                cons.contype = 'c'\n",
      "        \n"
     ]
    },
    {
     "name": "stdout",
     "output_type": "stream",
     "text": [
      "2023-02-13 09:21:40,449 INFO sqlalchemy.engine.Engine [generated in 0.00151s] {'table_oid': 16461}\n",
      "2023-02-13 09:21:40,652 INFO sqlalchemy.engine.Engine \n",
      "            SELECT\n",
      "                pgd.description as table_comment\n",
      "            FROM\n",
      "                pg_catalog.pg_description pgd\n",
      "            WHERE\n",
      "                pgd.objsubid = 0 AND\n",
      "                pgd.objoid = %(table_oid)s\n",
      "        \n",
      "2023-02-13 09:21:40,654 INFO sqlalchemy.engine.Engine [generated in 0.00262s] {'table_oid': 16461}\n",
      "2023-02-13 09:21:41,074 INFO sqlalchemy.engine.Engine SELECT industry.index, industry.\"公司簡稱\", industry.\"TSE新產業名\", industry.\"TEJ子產業名\", industry.\"Unnamed: 3\", industry.\"TSE新產業名.1\", industry.\"TEJ子產業名.1\", industry.\"Unnamed: 6\", industry.\"公司簡稱.1\", industry.\"TSE新產業名.2\", industry.\"TEJ子產業名.2\", industry.\"Unnamed: 10\", industry.\"Unnamed: 11\", industry.\"單月營收(千元)\", industry.\"單月營收(千元).1\", industry.\"單月營收(千元).2\", industry.\"單月營收(千元).3\", industry.\"單月營收(千元).4\", industry.\"單月營收(千元).5\", industry.\"單月營收(千元).6\", industry.\"單月營收(千元).7\", industry.\"單月營收(千元).8\", industry.\"單月營收(千元).9\", industry.\"單月營收(千元).10\", industry.\"單月營收(千元).11\", industry.\"Unnamed: 24\", industry.\"Unnamed: 25\", industry.\"單月營收(千元).12\", industry.\"單月營收(千元).13\", industry.\"單月營收(千元).14\", industry.\"單月營收(千元).15\", industry.\"單月營收(千元).16\", industry.\"單月營收(千元).17\", industry.\"單月營收(千元).18\", industry.\"單月營收(千元).19\", industry.\"單月營收(千元).20\", industry.\"單月營收(千元).21\", industry.\"單月營收(千元).22\", industry.\"單月營收(千元).23\", industry.\"Unnamed: 38\", industry.\"Unnamed: 39\", industry.\"單月營收(千元).24\", industry.\"單月營收(千元).25\", industry.\"單月營收(千元).26\", industry.\"單月營收(千元).27\", industry.\"單月營收(千元).28\", industry.\"單月營收(千元).29\", industry.\"單月營收(千元).30\", industry.\"單月營收(千元).31\", industry.\"單月營收(千元).32\", industry.\"單月營收(千元).33\", industry.\"單月營收(千元).34\", industry.\"單月營收(千元).35\", industry.\"Unnamed: 52\", industry.\"Unnamed: 53\", industry.\"單月營收(千元).36\", industry.\"單月營收(千元).37\", industry.\"單月營收(千元).38\", industry.\"單月營收(千元).39\", industry.\"單月營收(千元).40\", industry.\"單月營收(千元).41\", industry.\"單月營收(千元).42\", industry.\"單月營收(千元).43\", industry.\"單月營收(千元).44\", industry.\"單月營收(千元).45\", industry.\"單月營收(千元).46\", industry.\"單月營收(千元).47\", industry.\"Unnamed: 66\", industry.\"Unnamed: 67\", industry.\"去年單月營收(千元)\", industry.\"去年單月營收(千元).1\", industry.\"去年單月營收(千元).2\", industry.\"去年單月營收(千元).3\", industry.\"去年單月營收(千元).4\", industry.\"去年單月營收(千元).5\", industry.\"去年單月營收(千元).6\", industry.\"去年單月營收(千元).7\", industry.\"去年單月營收(千元).8\", industry.\"去年單月營收(千元).9\", industry.\"去年單月營收(千元).10\", industry.\"去年單月營收(千元).11\" \n",
      "FROM industry\n",
      "2023-02-13 09:21:41,075 INFO sqlalchemy.engine.Engine [generated in 0.00115s] {}\n",
      "2023-02-13 09:21:43,374 INFO sqlalchemy.engine.Engine select relname from pg_class c join pg_namespace n on n.oid=c.relnamespace where pg_catalog.pg_table_is_visible(c.oid) and relname=%(name)s\n",
      "2023-02-13 09:21:43,376 INFO sqlalchemy.engine.Engine [cached since 5.849s ago] {'name': 'tej_revenue'}\n",
      "2023-02-13 09:21:43,983 INFO sqlalchemy.engine.Engine SELECT c.relname FROM pg_class c JOIN pg_namespace n ON n.oid = c.relnamespace WHERE n.nspname = %(schema)s AND c.relkind in ('r', 'p')\n",
      "2023-02-13 09:21:43,984 INFO sqlalchemy.engine.Engine [cached since 5.817s ago] {'schema': 'public'}\n",
      "2023-02-13 09:21:44,393 INFO sqlalchemy.engine.Engine \n",
      "            SELECT c.oid\n",
      "            FROM pg_catalog.pg_class c\n",
      "            LEFT JOIN pg_catalog.pg_namespace n ON n.oid = c.relnamespace\n",
      "            WHERE (pg_catalog.pg_table_is_visible(c.oid))\n",
      "            AND c.relname = %(table_name)s AND c.relkind in\n",
      "            ('r', 'v', 'm', 'f', 'p')\n",
      "        \n",
      "2023-02-13 09:21:44,394 INFO sqlalchemy.engine.Engine [cached since 5.812s ago] {'table_name': 'tej_revenue'}\n",
      "2023-02-13 09:21:44,597 INFO sqlalchemy.engine.Engine \n",
      "            SELECT a.attname,\n",
      "              pg_catalog.format_type(a.atttypid, a.atttypmod),\n",
      "              (\n",
      "                SELECT pg_catalog.pg_get_expr(d.adbin, d.adrelid)\n",
      "                FROM pg_catalog.pg_attrdef d\n",
      "                WHERE d.adrelid = a.attrelid AND d.adnum = a.attnum\n",
      "                AND a.atthasdef\n",
      "              ) AS DEFAULT,\n",
      "              a.attnotnull,\n",
      "              a.attrelid as table_oid,\n",
      "              pgd.description as comment,\n",
      "              a.attgenerated as generated,\n",
      "                              (SELECT json_build_object(\n",
      "                    'always', a.attidentity = 'a',\n",
      "                    'start', s.seqstart,\n",
      "                    'increment', s.seqincrement,\n",
      "                    'minvalue', s.seqmin,\n",
      "                    'maxvalue', s.seqmax,\n",
      "                    'cache', s.seqcache,\n",
      "                    'cycle', s.seqcycle)\n",
      "                FROM pg_catalog.pg_sequence s\n",
      "                JOIN pg_catalog.pg_class c on s.seqrelid = c.\"oid\"\n",
      "                WHERE c.relkind = 'S'\n",
      "                AND a.attidentity != ''\n",
      "                AND s.seqrelid = pg_catalog.pg_get_serial_sequence(\n",
      "                    a.attrelid::regclass::text, a.attname\n",
      "                )::regclass::oid\n",
      "                ) as identity_options                \n",
      "            FROM pg_catalog.pg_attribute a\n",
      "            LEFT JOIN pg_catalog.pg_description pgd ON (\n",
      "                pgd.objoid = a.attrelid AND pgd.objsubid = a.attnum)\n",
      "            WHERE a.attrelid = %(table_oid)s\n",
      "            AND a.attnum > 0 AND NOT a.attisdropped\n",
      "            ORDER BY a.attnum\n",
      "        \n",
      "2023-02-13 09:21:44,599 INFO sqlalchemy.engine.Engine [cached since 5.81s ago] {'table_oid': 16512}\n",
      "2023-02-13 09:21:44,801 INFO sqlalchemy.engine.Engine \n",
      "            SELECT t.typname as \"name\",\n",
      "               pg_catalog.format_type(t.typbasetype, t.typtypmod) as \"attype\",\n",
      "               not t.typnotnull as \"nullable\",\n",
      "               t.typdefault as \"default\",\n",
      "               pg_catalog.pg_type_is_visible(t.oid) as \"visible\",\n",
      "               n.nspname as \"schema\"\n",
      "            FROM pg_catalog.pg_type t\n",
      "               LEFT JOIN pg_catalog.pg_namespace n ON n.oid = t.typnamespace\n",
      "            WHERE t.typtype = 'd'\n",
      "        \n",
      "2023-02-13 09:21:44,802 INFO sqlalchemy.engine.Engine [cached since 5.802s ago] {}\n",
      "2023-02-13 09:21:45,007 INFO sqlalchemy.engine.Engine \n",
      "            SELECT t.typname as \"name\",\n",
      "               -- no enum defaults in 8.4 at least\n",
      "               -- t.typdefault as \"default\",\n",
      "               pg_catalog.pg_type_is_visible(t.oid) as \"visible\",\n",
      "               n.nspname as \"schema\",\n",
      "               e.enumlabel as \"label\"\n",
      "            FROM pg_catalog.pg_type t\n",
      "                 LEFT JOIN pg_catalog.pg_namespace n ON n.oid = t.typnamespace\n",
      "                 LEFT JOIN pg_catalog.pg_enum e ON t.oid = e.enumtypid\n",
      "            WHERE t.typtype = 'e'\n",
      "        ORDER BY \"schema\", \"name\", e.oid\n",
      "2023-02-13 09:21:45,008 INFO sqlalchemy.engine.Engine [cached since 5.804s ago] {}\n",
      "2023-02-13 09:21:45,412 INFO sqlalchemy.engine.Engine \n",
      "                SELECT a.attname\n",
      "                FROM pg_attribute a JOIN (\n",
      "                    SELECT unnest(ix.indkey) attnum,\n",
      "                           generate_subscripts(ix.indkey, 1) ord\n",
      "                    FROM pg_index ix\n",
      "                    WHERE ix.indrelid = %(table_oid)s AND ix.indisprimary\n",
      "                    ) k ON a.attnum=k.attnum\n",
      "                WHERE a.attrelid = %(table_oid)s\n",
      "                ORDER BY k.ord\n",
      "            \n",
      "2023-02-13 09:21:45,413 INFO sqlalchemy.engine.Engine [cached since 5.997s ago] {'table_oid': 16512}\n",
      "2023-02-13 09:21:45,614 INFO sqlalchemy.engine.Engine \n",
      "        SELECT conname\n",
      "           FROM  pg_catalog.pg_constraint r\n",
      "           WHERE r.conrelid = %(table_oid)s AND r.contype = 'p'\n",
      "           ORDER BY 1\n",
      "        \n",
      "2023-02-13 09:21:45,615 INFO sqlalchemy.engine.Engine [cached since 5.995s ago] {'table_oid': 16512}\n",
      "2023-02-13 09:21:45,820 INFO sqlalchemy.engine.Engine \n",
      "          SELECT r.conname,\n",
      "                pg_catalog.pg_get_constraintdef(r.oid, true) as condef,\n",
      "                n.nspname as conschema\n",
      "          FROM  pg_catalog.pg_constraint r,\n",
      "                pg_namespace n,\n",
      "                pg_class c\n",
      "\n",
      "          WHERE r.conrelid = %(table)s AND\n",
      "                r.contype = 'f' AND\n",
      "                c.oid = confrelid AND\n",
      "                n.oid = c.relnamespace\n",
      "          ORDER BY 1\n",
      "        \n",
      "2023-02-13 09:21:45,821 INFO sqlalchemy.engine.Engine [cached since 5.998s ago] {'table': 16512}\n",
      "2023-02-13 09:21:46,036 INFO sqlalchemy.engine.Engine \n",
      "              SELECT\n",
      "                  i.relname as relname,\n",
      "                  ix.indisunique, ix.indexprs,\n",
      "                  a.attname, a.attnum, c.conrelid, ix.indkey::varchar,\n",
      "                  ix.indoption::varchar, i.reloptions, am.amname,\n",
      "                  pg_get_expr(ix.indpred, ix.indrelid),\n",
      "                  ix.indnkeyatts as indnkeyatts\n",
      "              FROM\n",
      "                  pg_class t\n",
      "                        join pg_index ix on t.oid = ix.indrelid\n",
      "                        join pg_class i on i.oid = ix.indexrelid\n",
      "                        left outer join\n",
      "                            pg_attribute a\n",
      "                            on t.oid = a.attrelid and a.attnum = ANY(ix.indkey)\n",
      "                        left outer join\n",
      "                            pg_constraint c\n",
      "                            on (ix.indrelid = c.conrelid and\n",
      "                                ix.indexrelid = c.conindid and\n",
      "                                c.contype in ('p', 'u', 'x'))\n",
      "                        left outer join\n",
      "                            pg_am am\n",
      "                            on i.relam = am.oid\n",
      "              WHERE\n",
      "                  t.relkind IN ('r', 'v', 'f', 'm', 'p')\n",
      "                  and t.oid = %(table_oid)s\n",
      "                  and ix.indisprimary = 'f'\n",
      "              ORDER BY\n",
      "                  t.relname,\n",
      "                  i.relname\n",
      "            \n"
     ]
    },
    {
     "name": "stdout",
     "output_type": "stream",
     "text": [
      "2023-02-13 09:21:46,037 INFO sqlalchemy.engine.Engine [cached since 6.006s ago] {'table_oid': 16512}\n",
      "2023-02-13 09:21:46,239 INFO sqlalchemy.engine.Engine \n",
      "            SELECT\n",
      "                cons.conname as name,\n",
      "                cons.conkey as key,\n",
      "                a.attnum as col_num,\n",
      "                a.attname as col_name\n",
      "            FROM\n",
      "                pg_catalog.pg_constraint cons\n",
      "                join pg_attribute a\n",
      "                  on cons.conrelid = a.attrelid AND\n",
      "                    a.attnum = ANY(cons.conkey)\n",
      "            WHERE\n",
      "                cons.conrelid = %(table_oid)s AND\n",
      "                cons.contype = 'u'\n",
      "        \n",
      "2023-02-13 09:21:46,240 INFO sqlalchemy.engine.Engine [cached since 6s ago] {'table_oid': 16512}\n",
      "2023-02-13 09:21:46,448 INFO sqlalchemy.engine.Engine \n",
      "            SELECT\n",
      "                cons.conname as name,\n",
      "                pg_get_constraintdef(cons.oid) as src\n",
      "            FROM\n",
      "                pg_catalog.pg_constraint cons\n",
      "            WHERE\n",
      "                cons.conrelid = %(table_oid)s AND\n",
      "                cons.contype = 'c'\n",
      "        \n",
      "2023-02-13 09:21:46,449 INFO sqlalchemy.engine.Engine [cached since 6.002s ago] {'table_oid': 16512}\n",
      "2023-02-13 09:21:46,652 INFO sqlalchemy.engine.Engine \n",
      "            SELECT\n",
      "                pgd.description as table_comment\n",
      "            FROM\n",
      "                pg_catalog.pg_description pgd\n",
      "            WHERE\n",
      "                pgd.objsubid = 0 AND\n",
      "                pgd.objoid = %(table_oid)s\n",
      "        \n",
      "2023-02-13 09:21:46,653 INFO sqlalchemy.engine.Engine [cached since 6.002s ago] {'table_oid': 16512}\n",
      "2023-02-13 09:21:47,060 INFO sqlalchemy.engine.Engine SELECT tej_revenue.index, tej_revenue.st_code, tej_revenue.st_name, tej_revenue.rev_period, tej_revenue.declaration_date, tej_revenue.rev, tej_revenue.declaration_year, tej_revenue.declaration_month, tej_revenue.new_industry_name, tej_revenue.minor_industry_name \n",
      "FROM tej_revenue\n",
      "2023-02-13 09:21:47,060 INFO sqlalchemy.engine.Engine [generated in 0.00072s] {}\n"
     ]
    }
   ],
   "source": [
    "\"\"\"\n",
    "connect to db\n",
    "\"\"\"\n",
    "host='database-1.cyn7ldoposru.us-east-1.rds.amazonaws.com'\n",
    "port='5432'\n",
    "user='Yu'\n",
    "password='m#WA12J#'\n",
    "database=\"JQC_Revenue1\"\n",
    "\n",
    "engine = create_engine('postgresql://{}:{}@{}:{}/{}'.format(\n",
    "        user, password, host, port, database), echo=True)\n",
    "\n",
    "stock_info = pd.read_csv('stock_info.csv')\n",
    "stock_info.st_code = stock_info.st_code.astype(str)\n",
    "\n",
    "\"\"\"\n",
    "callback input & output detail \n",
    "\"\"\"\n",
    "revenue = pd.read_sql('industry', engine)\n",
    "new_industry_name = revenue['TSE新產業名.1'].dropna()\n",
    "minor_industry_name = revenue['TEJ子產業名.1'].dropna()\n",
    "db = pd.read_sql('tej_revenue', engine).drop('index', axis=1)"
   ]
  },
  {
   "cell_type": "markdown",
   "id": "eef24ac3",
   "metadata": {},
   "source": [
    "### 先做：中華電信 (2412)、台積電 (2330)、中鋼 (2002)，變化少的。\n",
    "1. 營業費用接近營收的固定比率"
   ]
  },
  {
   "cell_type": "code",
   "execution_count": 109,
   "id": "59d82f15",
   "metadata": {},
   "outputs": [],
   "source": [
    "# df = pd.read_excel('2015income_stat.xlsx')\n",
    "# df['營業收入淨額'] = round(df['營業收入淨額']/1000, 1)\n",
    "# df['營業成本'] = round(df['營業成本']/1000, 1)\n",
    "# df['營業毛利'] = round(df['營業毛利']/1000, 1)\n",
    "# df['營業費用'] = round(df['營業費用']/1000, 1)\n",
    "# df['其他收益及費損淨額'] = round(df['其他收益及費損淨額']/1000, 1)\n",
    "# df['營業利益'] = round(df['營業利益']/1000, 1)\n",
    "# df['營業外收入及支出'] = round(df['營業外收入及支出']/1000, 1)\n",
    "# df['稅前淨利'] = round(df['稅前淨利']/1000, 1)\n",
    "# df['所得稅費用'] = round(df['所得稅費用'], 1)\n",
    "# df['其他綜合損益－OCI'] = round(df['其他綜合損益－OCI']/1000, 1)\n",
    "# df['所得稅費用'] = round(df['所得稅費用']/1000, 1)\n",
    "# df['稀釋稅後淨利'] = round(df['稀釋稅後淨利']/1000, 1)\n",
    "# df['歸屬非控制權益淨利（損）'] = round(df['歸屬非控制權益淨利（損）']/1000, 1)\n",
    "# df['稅後淨利est'] = df['營業收入淨額'] - df['營業成本'] - df['營業費用'] + df['其他收益及費損淨額']+ df['營業外收入及支出'] - df['所得稅費用'] - df['歸屬非控制權益淨利（損）']\n",
    "# df['eps_est'] = round(df['稅後淨利est']/df['加權平均股數']*1000, 2)\n",
    "df = df.loc[:, ['代號', '名稱', '年/月', '加權平均股數', '營業收入淨額', '營業成本', '營業毛利', '營業費用',\n",
    "                '其他收益及費損淨額', '營業利益', '營業外收入及支出', '稅前淨利', '所得稅費用', \n",
    "                '歸屬非控制權益淨利（損）', '稅後淨利est', '每股盈餘']]\n",
    "# orig_df = df\n",
    "\n",
    "df = df[(df['營業成本'].isna() == False) & (df['營業毛利'].isna() == False) & (df['代號'] <= '9999')]\n"
   ]
  },
  {
   "cell_type": "code",
   "execution_count": 214,
   "id": "c9eefb15",
   "metadata": {},
   "outputs": [
    {
     "name": "stderr",
     "output_type": "stream",
     "text": [
      "/Users/yuchun/opt/anaconda3/lib/python3.9/site-packages/statsmodels/regression/rolling.py:255: RuntimeWarning: divide by zero encountered in double_scalars\n",
      "  s2 = ssr / (nobs - tot_params)\n",
      "/Users/yuchun/opt/anaconda3/lib/python3.9/site-packages/statsmodels/regression/rolling.py:255: RuntimeWarning: divide by zero encountered in double_scalars\n",
      "  s2 = ssr / (nobs - tot_params)\n"
     ]
    },
    {
     "data": {
      "text/html": [
       "<div>\n",
       "<style scoped>\n",
       "    .dataframe tbody tr th:only-of-type {\n",
       "        vertical-align: middle;\n",
       "    }\n",
       "\n",
       "    .dataframe tbody tr th {\n",
       "        vertical-align: top;\n",
       "    }\n",
       "\n",
       "    .dataframe thead th {\n",
       "        text-align: right;\n",
       "    }\n",
       "</style>\n",
       "<table border=\"1\" class=\"dataframe\">\n",
       "  <thead>\n",
       "    <tr style=\"text-align: right;\">\n",
       "      <th></th>\n",
       "      <th>代號</th>\n",
       "      <th>名稱</th>\n",
       "      <th>年/月</th>\n",
       "      <th>營業收入淨額q</th>\n",
       "      <th>加權平均股數</th>\n",
       "      <th>營業收入淨額</th>\n",
       "      <th>營業成本</th>\n",
       "      <th>營業毛利</th>\n",
       "      <th>營業費用</th>\n",
       "      <th>其他收益及費損淨額</th>\n",
       "      <th>...</th>\n",
       "      <th>tax</th>\n",
       "      <th>controless_pnl</th>\n",
       "      <th>est_cost</th>\n",
       "      <th>est_gmp</th>\n",
       "      <th>est_expense</th>\n",
       "      <th>est_opm</th>\n",
       "      <th>ebit</th>\n",
       "      <th>tax_expense</th>\n",
       "      <th>net_income_margin</th>\n",
       "      <th>eps_est</th>\n",
       "    </tr>\n",
       "  </thead>\n",
       "  <tbody>\n",
       "    <tr>\n",
       "      <th>11</th>\n",
       "      <td>2412</td>\n",
       "      <td>中華電</td>\n",
       "      <td>2016/03</td>\n",
       "      <td>56944.2</td>\n",
       "      <td>7757447.0</td>\n",
       "      <td>56944.2</td>\n",
       "      <td>35105.7</td>\n",
       "      <td>21838.5</td>\n",
       "      <td>8048.7</td>\n",
       "      <td>-6.4</td>\n",
       "      <td>...</td>\n",
       "      <td>0.8</td>\n",
       "      <td>NaN</td>\n",
       "      <td>NaN</td>\n",
       "      <td>NaN</td>\n",
       "      <td>NaN</td>\n",
       "      <td>NaN</td>\n",
       "      <td>NaN</td>\n",
       "      <td>NaN</td>\n",
       "      <td>NaN</td>\n",
       "      <td>NaN</td>\n",
       "    </tr>\n",
       "    <tr>\n",
       "      <th>12</th>\n",
       "      <td>2412</td>\n",
       "      <td>中華電</td>\n",
       "      <td>2016/06</td>\n",
       "      <td>56195.4</td>\n",
       "      <td>7757447.0</td>\n",
       "      <td>56195.4</td>\n",
       "      <td>35253.2</td>\n",
       "      <td>20942.2</td>\n",
       "      <td>8055.8</td>\n",
       "      <td>-10.7</td>\n",
       "      <td>...</td>\n",
       "      <td>0.8</td>\n",
       "      <td>NaN</td>\n",
       "      <td>NaN</td>\n",
       "      <td>NaN</td>\n",
       "      <td>NaN</td>\n",
       "      <td>NaN</td>\n",
       "      <td>NaN</td>\n",
       "      <td>NaN</td>\n",
       "      <td>NaN</td>\n",
       "      <td>NaN</td>\n",
       "    </tr>\n",
       "    <tr>\n",
       "      <th>13</th>\n",
       "      <td>2412</td>\n",
       "      <td>中華電</td>\n",
       "      <td>2016/09</td>\n",
       "      <td>58518.0</td>\n",
       "      <td>7757447.0</td>\n",
       "      <td>58518.0</td>\n",
       "      <td>38515.4</td>\n",
       "      <td>20002.6</td>\n",
       "      <td>8501.5</td>\n",
       "      <td>-10.1</td>\n",
       "      <td>...</td>\n",
       "      <td>0.8</td>\n",
       "      <td>NaN</td>\n",
       "      <td>NaN</td>\n",
       "      <td>NaN</td>\n",
       "      <td>NaN</td>\n",
       "      <td>NaN</td>\n",
       "      <td>NaN</td>\n",
       "      <td>NaN</td>\n",
       "      <td>NaN</td>\n",
       "      <td>NaN</td>\n",
       "    </tr>\n",
       "    <tr>\n",
       "      <th>14</th>\n",
       "      <td>2412</td>\n",
       "      <td>中華電</td>\n",
       "      <td>2016/12</td>\n",
       "      <td>58351.1</td>\n",
       "      <td>7757447.0</td>\n",
       "      <td>58333.9</td>\n",
       "      <td>38677.5</td>\n",
       "      <td>19656.4</td>\n",
       "      <td>9231.7</td>\n",
       "      <td>-469.5</td>\n",
       "      <td>...</td>\n",
       "      <td>0.8</td>\n",
       "      <td>NaN</td>\n",
       "      <td>NaN</td>\n",
       "      <td>NaN</td>\n",
       "      <td>NaN</td>\n",
       "      <td>NaN</td>\n",
       "      <td>NaN</td>\n",
       "      <td>NaN</td>\n",
       "      <td>NaN</td>\n",
       "      <td>NaN</td>\n",
       "    </tr>\n",
       "    <tr>\n",
       "      <th>15</th>\n",
       "      <td>2412</td>\n",
       "      <td>中華電</td>\n",
       "      <td>2017/03</td>\n",
       "      <td>54533.4</td>\n",
       "      <td>7757447.0</td>\n",
       "      <td>54533.4</td>\n",
       "      <td>34620.8</td>\n",
       "      <td>19912.6</td>\n",
       "      <td>8367.2</td>\n",
       "      <td>-12.1</td>\n",
       "      <td>...</td>\n",
       "      <td>0.8</td>\n",
       "      <td>NaN</td>\n",
       "      <td>NaN</td>\n",
       "      <td>NaN</td>\n",
       "      <td>NaN</td>\n",
       "      <td>NaN</td>\n",
       "      <td>NaN</td>\n",
       "      <td>NaN</td>\n",
       "      <td>NaN</td>\n",
       "      <td>NaN</td>\n",
       "    </tr>\n",
       "    <tr>\n",
       "      <th>16</th>\n",
       "      <td>2412</td>\n",
       "      <td>中華電</td>\n",
       "      <td>2017/06</td>\n",
       "      <td>55671.1</td>\n",
       "      <td>7757447.0</td>\n",
       "      <td>55671.1</td>\n",
       "      <td>35078.0</td>\n",
       "      <td>20593.2</td>\n",
       "      <td>8269.2</td>\n",
       "      <td>-4.6</td>\n",
       "      <td>...</td>\n",
       "      <td>0.8</td>\n",
       "      <td>273.77</td>\n",
       "      <td>35979.257</td>\n",
       "      <td>19691.843</td>\n",
       "      <td>8894.805</td>\n",
       "      <td>10797.038</td>\n",
       "      <td>11171.198</td>\n",
       "      <td>2234.2396</td>\n",
       "      <td>8663.1884</td>\n",
       "      <td>1.12</td>\n",
       "    </tr>\n",
       "    <tr>\n",
       "      <th>17</th>\n",
       "      <td>2412</td>\n",
       "      <td>中華電</td>\n",
       "      <td>2017/09</td>\n",
       "      <td>56424.9</td>\n",
       "      <td>7757447.0</td>\n",
       "      <td>56424.9</td>\n",
       "      <td>35655.4</td>\n",
       "      <td>20769.5</td>\n",
       "      <td>8336.1</td>\n",
       "      <td>-16.9</td>\n",
       "      <td>...</td>\n",
       "      <td>0.8</td>\n",
       "      <td>298.30</td>\n",
       "      <td>37683.006</td>\n",
       "      <td>18741.894</td>\n",
       "      <td>9196.155</td>\n",
       "      <td>9545.739</td>\n",
       "      <td>9937.739</td>\n",
       "      <td>1987.5478</td>\n",
       "      <td>7651.8912</td>\n",
       "      <td>0.99</td>\n",
       "    </tr>\n",
       "    <tr>\n",
       "      <th>18</th>\n",
       "      <td>2412</td>\n",
       "      <td>中華電</td>\n",
       "      <td>2017/12</td>\n",
       "      <td>60924.4</td>\n",
       "      <td>7757447.0</td>\n",
       "      <td>60884.7</td>\n",
       "      <td>41483.4</td>\n",
       "      <td>19401.4</td>\n",
       "      <td>8896.8</td>\n",
       "      <td>-70.8</td>\n",
       "      <td>...</td>\n",
       "      <td>0.8</td>\n",
       "      <td>321.63</td>\n",
       "      <td>43857.312</td>\n",
       "      <td>17067.088</td>\n",
       "      <td>11676.578</td>\n",
       "      <td>5390.510</td>\n",
       "      <td>5651.080</td>\n",
       "      <td>1130.2160</td>\n",
       "      <td>4199.2340</td>\n",
       "      <td>0.54</td>\n",
       "    </tr>\n",
       "    <tr>\n",
       "      <th>19</th>\n",
       "      <td>2412</td>\n",
       "      <td>中華電</td>\n",
       "      <td>2018/03</td>\n",
       "      <td>53632.4</td>\n",
       "      <td>7757447.0</td>\n",
       "      <td>53632.4</td>\n",
       "      <td>34450.4</td>\n",
       "      <td>19182.0</td>\n",
       "      <td>8167.2</td>\n",
       "      <td>-71.3</td>\n",
       "      <td>...</td>\n",
       "      <td>0.8</td>\n",
       "      <td>291.13</td>\n",
       "      <td>34287.808</td>\n",
       "      <td>19344.592</td>\n",
       "      <td>9009.124</td>\n",
       "      <td>10335.468</td>\n",
       "      <td>10548.898</td>\n",
       "      <td>2109.7796</td>\n",
       "      <td>8147.9884</td>\n",
       "      <td>1.05</td>\n",
       "    </tr>\n",
       "    <tr>\n",
       "      <th>20</th>\n",
       "      <td>2412</td>\n",
       "      <td>中華電</td>\n",
       "      <td>2018/06</td>\n",
       "      <td>53658.4</td>\n",
       "      <td>7757447.0</td>\n",
       "      <td>53658.4</td>\n",
       "      <td>33192.4</td>\n",
       "      <td>20465.9</td>\n",
       "      <td>8403.5</td>\n",
       "      <td>-9.2</td>\n",
       "      <td>...</td>\n",
       "      <td>0.8</td>\n",
       "      <td>284.37</td>\n",
       "      <td>34561.536</td>\n",
       "      <td>19096.864</td>\n",
       "      <td>8576.930</td>\n",
       "      <td>10519.934</td>\n",
       "      <td>10733.364</td>\n",
       "      <td>2146.6728</td>\n",
       "      <td>8302.3212</td>\n",
       "      <td>1.07</td>\n",
       "    </tr>\n",
       "    <tr>\n",
       "      <th>21</th>\n",
       "      <td>2412</td>\n",
       "      <td>中華電</td>\n",
       "      <td>2018/09</td>\n",
       "      <td>52704.9</td>\n",
       "      <td>7757447.0</td>\n",
       "      <td>52704.9</td>\n",
       "      <td>34431.5</td>\n",
       "      <td>18273.4</td>\n",
       "      <td>7847.9</td>\n",
       "      <td>-8.8</td>\n",
       "      <td>...</td>\n",
       "      <td>0.8</td>\n",
       "      <td>280.93</td>\n",
       "      <td>33072.155</td>\n",
       "      <td>19632.745</td>\n",
       "      <td>8560.749</td>\n",
       "      <td>11071.996</td>\n",
       "      <td>11356.866</td>\n",
       "      <td>2271.3732</td>\n",
       "      <td>8804.5628</td>\n",
       "      <td>1.13</td>\n",
       "    </tr>\n",
       "    <tr>\n",
       "      <th>22</th>\n",
       "      <td>2412</td>\n",
       "      <td>中華電</td>\n",
       "      <td>2018/12</td>\n",
       "      <td>55463.4</td>\n",
       "      <td>7757447.0</td>\n",
       "      <td>55487.6</td>\n",
       "      <td>37471.2</td>\n",
       "      <td>18016.4</td>\n",
       "      <td>7985.9</td>\n",
       "      <td>199.7</td>\n",
       "      <td>...</td>\n",
       "      <td>0.8</td>\n",
       "      <td>242.60</td>\n",
       "      <td>39915.110</td>\n",
       "      <td>15548.290</td>\n",
       "      <td>9063.852</td>\n",
       "      <td>6484.438</td>\n",
       "      <td>6758.108</td>\n",
       "      <td>1351.6216</td>\n",
       "      <td>5163.8864</td>\n",
       "      <td>0.67</td>\n",
       "    </tr>\n",
       "    <tr>\n",
       "      <th>23</th>\n",
       "      <td>2412</td>\n",
       "      <td>中華電</td>\n",
       "      <td>2019/03</td>\n",
       "      <td>51331.2</td>\n",
       "      <td>7757447.0</td>\n",
       "      <td>51331.2</td>\n",
       "      <td>33480.8</td>\n",
       "      <td>17850.4</td>\n",
       "      <td>7444.1</td>\n",
       "      <td>-4.5</td>\n",
       "      <td>...</td>\n",
       "      <td>0.8</td>\n",
       "      <td>240.80</td>\n",
       "      <td>33126.420</td>\n",
       "      <td>18204.780</td>\n",
       "      <td>7637.746</td>\n",
       "      <td>10567.034</td>\n",
       "      <td>10879.364</td>\n",
       "      <td>2175.8728</td>\n",
       "      <td>8462.6912</td>\n",
       "      <td>1.09</td>\n",
       "    </tr>\n",
       "    <tr>\n",
       "      <th>24</th>\n",
       "      <td>2412</td>\n",
       "      <td>中華電</td>\n",
       "      <td>2019/06</td>\n",
       "      <td>50108.2</td>\n",
       "      <td>7757447.0</td>\n",
       "      <td>50108.2</td>\n",
       "      <td>32267.3</td>\n",
       "      <td>17840.9</td>\n",
       "      <td>7532.1</td>\n",
       "      <td>-4.7</td>\n",
       "      <td>...</td>\n",
       "      <td>0.8</td>\n",
       "      <td>228.20</td>\n",
       "      <td>33245.656</td>\n",
       "      <td>16862.544</td>\n",
       "      <td>7790.374</td>\n",
       "      <td>9072.170</td>\n",
       "      <td>9351.500</td>\n",
       "      <td>1870.3000</td>\n",
       "      <td>7253.0000</td>\n",
       "      <td>0.93</td>\n",
       "    </tr>\n",
       "    <tr>\n",
       "      <th>25</th>\n",
       "      <td>2412</td>\n",
       "      <td>中華電</td>\n",
       "      <td>2019/09</td>\n",
       "      <td>50848.2</td>\n",
       "      <td>7757447.0</td>\n",
       "      <td>50848.2</td>\n",
       "      <td>33019.1</td>\n",
       "      <td>17829.0</td>\n",
       "      <td>7800.4</td>\n",
       "      <td>-19.3</td>\n",
       "      <td>...</td>\n",
       "      <td>0.8</td>\n",
       "      <td>202.70</td>\n",
       "      <td>33048.768</td>\n",
       "      <td>17799.432</td>\n",
       "      <td>7686.558</td>\n",
       "      <td>10112.874</td>\n",
       "      <td>10500.804</td>\n",
       "      <td>2100.1608</td>\n",
       "      <td>8197.9432</td>\n",
       "      <td>1.06</td>\n",
       "    </tr>\n",
       "    <tr>\n",
       "      <th>26</th>\n",
       "      <td>2412</td>\n",
       "      <td>中華電</td>\n",
       "      <td>2019/12</td>\n",
       "      <td>55232.8</td>\n",
       "      <td>7757447.0</td>\n",
       "      <td>55232.6</td>\n",
       "      <td>37185.3</td>\n",
       "      <td>18047.2</td>\n",
       "      <td>8017.8</td>\n",
       "      <td>-98.8</td>\n",
       "      <td>...</td>\n",
       "      <td>0.8</td>\n",
       "      <td>223.60</td>\n",
       "      <td>35310.832</td>\n",
       "      <td>19921.968</td>\n",
       "      <td>7575.860</td>\n",
       "      <td>12346.108</td>\n",
       "      <td>12721.708</td>\n",
       "      <td>2544.3416</td>\n",
       "      <td>9953.7664</td>\n",
       "      <td>1.28</td>\n",
       "    </tr>\n",
       "    <tr>\n",
       "      <th>27</th>\n",
       "      <td>2412</td>\n",
       "      <td>中華電</td>\n",
       "      <td>2020/03</td>\n",
       "      <td>48149.4</td>\n",
       "      <td>7757447.0</td>\n",
       "      <td>48150.0</td>\n",
       "      <td>30390.8</td>\n",
       "      <td>17759.2</td>\n",
       "      <td>7228.4</td>\n",
       "      <td>-0.7</td>\n",
       "      <td>...</td>\n",
       "      <td>0.8</td>\n",
       "      <td>237.97</td>\n",
       "      <td>32666.710</td>\n",
       "      <td>15482.690</td>\n",
       "      <td>7323.984</td>\n",
       "      <td>8158.706</td>\n",
       "      <td>8430.506</td>\n",
       "      <td>1686.1012</td>\n",
       "      <td>6506.4348</td>\n",
       "      <td>0.84</td>\n",
       "    </tr>\n",
       "    <tr>\n",
       "      <th>28</th>\n",
       "      <td>2412</td>\n",
       "      <td>中華電</td>\n",
       "      <td>2020/06</td>\n",
       "      <td>47807.9</td>\n",
       "      <td>7757447.0</td>\n",
       "      <td>47807.9</td>\n",
       "      <td>29801.2</td>\n",
       "      <td>18006.6</td>\n",
       "      <td>7384.4</td>\n",
       "      <td>-11.2</td>\n",
       "      <td>...</td>\n",
       "      <td>0.8</td>\n",
       "      <td>237.77</td>\n",
       "      <td>31441.534</td>\n",
       "      <td>16366.366</td>\n",
       "      <td>7103.851</td>\n",
       "      <td>9262.515</td>\n",
       "      <td>9483.485</td>\n",
       "      <td>1896.6970</td>\n",
       "      <td>7349.0180</td>\n",
       "      <td>0.95</td>\n",
       "    </tr>\n",
       "    <tr>\n",
       "      <th>29</th>\n",
       "      <td>2412</td>\n",
       "      <td>中華電</td>\n",
       "      <td>2020/09</td>\n",
       "      <td>52171.4</td>\n",
       "      <td>7757447.0</td>\n",
       "      <td>52171.3</td>\n",
       "      <td>34505.9</td>\n",
       "      <td>17665.4</td>\n",
       "      <td>7228.9</td>\n",
       "      <td>285.7</td>\n",
       "      <td>...</td>\n",
       "      <td>0.8</td>\n",
       "      <td>268.03</td>\n",
       "      <td>32811.464</td>\n",
       "      <td>19359.936</td>\n",
       "      <td>7992.466</td>\n",
       "      <td>11367.470</td>\n",
       "      <td>11649.270</td>\n",
       "      <td>2329.8540</td>\n",
       "      <td>9051.3860</td>\n",
       "      <td>1.17</td>\n",
       "    </tr>\n",
       "    <tr>\n",
       "      <th>30</th>\n",
       "      <td>2412</td>\n",
       "      <td>中華電</td>\n",
       "      <td>2020/12</td>\n",
       "      <td>59483.6</td>\n",
       "      <td>7757447.0</td>\n",
       "      <td>59479.8</td>\n",
       "      <td>42330.9</td>\n",
       "      <td>17148.9</td>\n",
       "      <td>7972.0</td>\n",
       "      <td>1321.4</td>\n",
       "      <td>...</td>\n",
       "      <td>0.8</td>\n",
       "      <td>299.47</td>\n",
       "      <td>36209.916</td>\n",
       "      <td>23273.684</td>\n",
       "      <td>8757.832</td>\n",
       "      <td>14515.852</td>\n",
       "      <td>14690.952</td>\n",
       "      <td>2938.1904</td>\n",
       "      <td>11453.2916</td>\n",
       "      <td>1.48</td>\n",
       "    </tr>\n",
       "    <tr>\n",
       "      <th>31</th>\n",
       "      <td>2412</td>\n",
       "      <td>中華電</td>\n",
       "      <td>2021/03</td>\n",
       "      <td>50101.0</td>\n",
       "      <td>7757447.0</td>\n",
       "      <td>50101.0</td>\n",
       "      <td>31892.9</td>\n",
       "      <td>18208.1</td>\n",
       "      <td>7106.7</td>\n",
       "      <td>2.6</td>\n",
       "      <td>...</td>\n",
       "      <td>0.8</td>\n",
       "      <td>306.80</td>\n",
       "      <td>29685.200</td>\n",
       "      <td>20415.800</td>\n",
       "      <td>8325.360</td>\n",
       "      <td>12090.440</td>\n",
       "      <td>12279.710</td>\n",
       "      <td>2455.9420</td>\n",
       "      <td>9516.9680</td>\n",
       "      <td>1.23</td>\n",
       "    </tr>\n",
       "    <tr>\n",
       "      <th>32</th>\n",
       "      <td>2412</td>\n",
       "      <td>中華電</td>\n",
       "      <td>2021/06</td>\n",
       "      <td>49601.1</td>\n",
       "      <td>7757447.0</td>\n",
       "      <td>49601.1</td>\n",
       "      <td>31058.2</td>\n",
       "      <td>18542.9</td>\n",
       "      <td>7260.4</td>\n",
       "      <td>0.2</td>\n",
       "      <td>...</td>\n",
       "      <td>0.8</td>\n",
       "      <td>324.37</td>\n",
       "      <td>30672.399</td>\n",
       "      <td>18928.701</td>\n",
       "      <td>7407.665</td>\n",
       "      <td>11521.036</td>\n",
       "      <td>11763.836</td>\n",
       "      <td>2352.7672</td>\n",
       "      <td>9086.6988</td>\n",
       "      <td>1.17</td>\n",
       "    </tr>\n",
       "    <tr>\n",
       "      <th>33</th>\n",
       "      <td>2412</td>\n",
       "      <td>中華電</td>\n",
       "      <td>2021/09</td>\n",
       "      <td>50885.5</td>\n",
       "      <td>7757447.0</td>\n",
       "      <td>50885.5</td>\n",
       "      <td>32045.8</td>\n",
       "      <td>18839.7</td>\n",
       "      <td>7392.9</td>\n",
       "      <td>-4.9</td>\n",
       "      <td>...</td>\n",
       "      <td>0.8</td>\n",
       "      <td>338.70</td>\n",
       "      <td>31000.715</td>\n",
       "      <td>19884.785</td>\n",
       "      <td>7760.255</td>\n",
       "      <td>12124.530</td>\n",
       "      <td>12387.930</td>\n",
       "      <td>2477.5860</td>\n",
       "      <td>9571.6440</td>\n",
       "      <td>1.23</td>\n",
       "    </tr>\n",
       "    <tr>\n",
       "      <th>34</th>\n",
       "      <td>2412</td>\n",
       "      <td>中華電</td>\n",
       "      <td>2021/12</td>\n",
       "      <td>59890.3</td>\n",
       "      <td>7757447.0</td>\n",
       "      <td>59890.3</td>\n",
       "      <td>40113.8</td>\n",
       "      <td>19776.5</td>\n",
       "      <td>8307.9</td>\n",
       "      <td>-367.3</td>\n",
       "      <td>...</td>\n",
       "      <td>0.8</td>\n",
       "      <td>355.13</td>\n",
       "      <td>30978.564</td>\n",
       "      <td>28911.736</td>\n",
       "      <td>12063.889</td>\n",
       "      <td>16847.847</td>\n",
       "      <td>17111.247</td>\n",
       "      <td>3422.2494</td>\n",
       "      <td>13333.8676</td>\n",
       "      <td>1.72</td>\n",
       "    </tr>\n",
       "    <tr>\n",
       "      <th>35</th>\n",
       "      <td>2412</td>\n",
       "      <td>中華電</td>\n",
       "      <td>2022/03</td>\n",
       "      <td>51294.7</td>\n",
       "      <td>7757447.0</td>\n",
       "      <td>51294.7</td>\n",
       "      <td>31690.9</td>\n",
       "      <td>19603.8</td>\n",
       "      <td>7942.6</td>\n",
       "      <td>-1.4</td>\n",
       "      <td>...</td>\n",
       "      <td>0.8</td>\n",
       "      <td>355.13</td>\n",
       "      <td>40745.228</td>\n",
       "      <td>10549.472</td>\n",
       "      <td>5167.876</td>\n",
       "      <td>5381.596</td>\n",
       "      <td>5539.926</td>\n",
       "      <td>1107.9852</td>\n",
       "      <td>4076.8108</td>\n",
       "      <td>0.53</td>\n",
       "    </tr>\n",
       "    <tr>\n",
       "      <th>36</th>\n",
       "      <td>2412</td>\n",
       "      <td>中華電</td>\n",
       "      <td>2022/06</td>\n",
       "      <td>52435.7</td>\n",
       "      <td>7757447.0</td>\n",
       "      <td>52435.7</td>\n",
       "      <td>32345.8</td>\n",
       "      <td>20089.9</td>\n",
       "      <td>8060.8</td>\n",
       "      <td>-3.1</td>\n",
       "      <td>...</td>\n",
       "      <td>0.8</td>\n",
       "      <td>339.77</td>\n",
       "      <td>32356.668</td>\n",
       "      <td>20079.032</td>\n",
       "      <td>7401.953</td>\n",
       "      <td>12677.079</td>\n",
       "      <td>12834.079</td>\n",
       "      <td>2566.8158</td>\n",
       "      <td>9927.4932</td>\n",
       "      <td>1.28</td>\n",
       "    </tr>\n",
       "    <tr>\n",
       "      <th>37</th>\n",
       "      <td>2412</td>\n",
       "      <td>中華電</td>\n",
       "      <td>2022/09</td>\n",
       "      <td>53508.7</td>\n",
       "      <td>7757447.0</td>\n",
       "      <td>53507.8</td>\n",
       "      <td>33174.8</td>\n",
       "      <td>20333.0</td>\n",
       "      <td>8149.6</td>\n",
       "      <td>-1.6</td>\n",
       "      <td>...</td>\n",
       "      <td>0.8</td>\n",
       "      <td>358.70</td>\n",
       "      <td>32578.482</td>\n",
       "      <td>20930.218</td>\n",
       "      <td>7499.388</td>\n",
       "      <td>13430.830</td>\n",
       "      <td>13673.570</td>\n",
       "      <td>2734.7140</td>\n",
       "      <td>10580.1560</td>\n",
       "      <td>1.36</td>\n",
       "    </tr>\n",
       "    <tr>\n",
       "      <th>38</th>\n",
       "      <td>2412</td>\n",
       "      <td>中華電</td>\n",
       "      <td>2022/12</td>\n",
       "      <td>59501.0</td>\n",
       "      <td>7757447.0</td>\n",
       "      <td>NaN</td>\n",
       "      <td>NaN</td>\n",
       "      <td>NaN</td>\n",
       "      <td>NaN</td>\n",
       "      <td>NaN</td>\n",
       "      <td>...</td>\n",
       "      <td>0.8</td>\n",
       "      <td>387.20</td>\n",
       "      <td>34943.710</td>\n",
       "      <td>24557.290</td>\n",
       "      <td>7500.670</td>\n",
       "      <td>17056.620</td>\n",
       "      <td>17246.690</td>\n",
       "      <td>3449.3380</td>\n",
       "      <td>13410.1520</td>\n",
       "      <td>1.73</td>\n",
       "    </tr>\n",
       "    <tr>\n",
       "      <th>39</th>\n",
       "      <td>2412</td>\n",
       "      <td>中華電</td>\n",
       "      <td>NaN</td>\n",
       "      <td>NaN</td>\n",
       "      <td>7757447.0</td>\n",
       "      <td>NaN</td>\n",
       "      <td>NaN</td>\n",
       "      <td>NaN</td>\n",
       "      <td>NaN</td>\n",
       "      <td>NaN</td>\n",
       "      <td>...</td>\n",
       "      <td>0.8</td>\n",
       "      <td>NaN</td>\n",
       "      <td>NaN</td>\n",
       "      <td>NaN</td>\n",
       "      <td>NaN</td>\n",
       "      <td>NaN</td>\n",
       "      <td>NaN</td>\n",
       "      <td>NaN</td>\n",
       "      <td>NaN</td>\n",
       "      <td>NaN</td>\n",
       "    </tr>\n",
       "  </tbody>\n",
       "</table>\n",
       "<p>29 rows × 33 columns</p>\n",
       "</div>"
      ],
      "text/plain": [
       "      代號   名稱      年/月  營業收入淨額q     加權平均股數   營業收入淨額     營業成本     營業毛利    營業費用  \\\n",
       "11  2412  中華電  2016/03  56944.2  7757447.0  56944.2  35105.7  21838.5  8048.7   \n",
       "12  2412  中華電  2016/06  56195.4  7757447.0  56195.4  35253.2  20942.2  8055.8   \n",
       "13  2412  中華電  2016/09  58518.0  7757447.0  58518.0  38515.4  20002.6  8501.5   \n",
       "14  2412  中華電  2016/12  58351.1  7757447.0  58333.9  38677.5  19656.4  9231.7   \n",
       "15  2412  中華電  2017/03  54533.4  7757447.0  54533.4  34620.8  19912.6  8367.2   \n",
       "16  2412  中華電  2017/06  55671.1  7757447.0  55671.1  35078.0  20593.2  8269.2   \n",
       "17  2412  中華電  2017/09  56424.9  7757447.0  56424.9  35655.4  20769.5  8336.1   \n",
       "18  2412  中華電  2017/12  60924.4  7757447.0  60884.7  41483.4  19401.4  8896.8   \n",
       "19  2412  中華電  2018/03  53632.4  7757447.0  53632.4  34450.4  19182.0  8167.2   \n",
       "20  2412  中華電  2018/06  53658.4  7757447.0  53658.4  33192.4  20465.9  8403.5   \n",
       "21  2412  中華電  2018/09  52704.9  7757447.0  52704.9  34431.5  18273.4  7847.9   \n",
       "22  2412  中華電  2018/12  55463.4  7757447.0  55487.6  37471.2  18016.4  7985.9   \n",
       "23  2412  中華電  2019/03  51331.2  7757447.0  51331.2  33480.8  17850.4  7444.1   \n",
       "24  2412  中華電  2019/06  50108.2  7757447.0  50108.2  32267.3  17840.9  7532.1   \n",
       "25  2412  中華電  2019/09  50848.2  7757447.0  50848.2  33019.1  17829.0  7800.4   \n",
       "26  2412  中華電  2019/12  55232.8  7757447.0  55232.6  37185.3  18047.2  8017.8   \n",
       "27  2412  中華電  2020/03  48149.4  7757447.0  48150.0  30390.8  17759.2  7228.4   \n",
       "28  2412  中華電  2020/06  47807.9  7757447.0  47807.9  29801.2  18006.6  7384.4   \n",
       "29  2412  中華電  2020/09  52171.4  7757447.0  52171.3  34505.9  17665.4  7228.9   \n",
       "30  2412  中華電  2020/12  59483.6  7757447.0  59479.8  42330.9  17148.9  7972.0   \n",
       "31  2412  中華電  2021/03  50101.0  7757447.0  50101.0  31892.9  18208.1  7106.7   \n",
       "32  2412  中華電  2021/06  49601.1  7757447.0  49601.1  31058.2  18542.9  7260.4   \n",
       "33  2412  中華電  2021/09  50885.5  7757447.0  50885.5  32045.8  18839.7  7392.9   \n",
       "34  2412  中華電  2021/12  59890.3  7757447.0  59890.3  40113.8  19776.5  8307.9   \n",
       "35  2412  中華電  2022/03  51294.7  7757447.0  51294.7  31690.9  19603.8  7942.6   \n",
       "36  2412  中華電  2022/06  52435.7  7757447.0  52435.7  32345.8  20089.9  8060.8   \n",
       "37  2412  中華電  2022/09  53508.7  7757447.0  53507.8  33174.8  20333.0  8149.6   \n",
       "38  2412  中華電  2022/12  59501.0  7757447.0      NaN      NaN      NaN     NaN   \n",
       "39  2412  中華電      NaN      NaN  7757447.0      NaN      NaN      NaN     NaN   \n",
       "\n",
       "    其他收益及費損淨額  ...  tax  controless_pnl   est_cost    est_gmp  est_expense  \\\n",
       "11       -6.4  ...  0.8             NaN        NaN        NaN          NaN   \n",
       "12      -10.7  ...  0.8             NaN        NaN        NaN          NaN   \n",
       "13      -10.1  ...  0.8             NaN        NaN        NaN          NaN   \n",
       "14     -469.5  ...  0.8             NaN        NaN        NaN          NaN   \n",
       "15      -12.1  ...  0.8             NaN        NaN        NaN          NaN   \n",
       "16       -4.6  ...  0.8          273.77  35979.257  19691.843     8894.805   \n",
       "17      -16.9  ...  0.8          298.30  37683.006  18741.894     9196.155   \n",
       "18      -70.8  ...  0.8          321.63  43857.312  17067.088    11676.578   \n",
       "19      -71.3  ...  0.8          291.13  34287.808  19344.592     9009.124   \n",
       "20       -9.2  ...  0.8          284.37  34561.536  19096.864     8576.930   \n",
       "21       -8.8  ...  0.8          280.93  33072.155  19632.745     8560.749   \n",
       "22      199.7  ...  0.8          242.60  39915.110  15548.290     9063.852   \n",
       "23       -4.5  ...  0.8          240.80  33126.420  18204.780     7637.746   \n",
       "24       -4.7  ...  0.8          228.20  33245.656  16862.544     7790.374   \n",
       "25      -19.3  ...  0.8          202.70  33048.768  17799.432     7686.558   \n",
       "26      -98.8  ...  0.8          223.60  35310.832  19921.968     7575.860   \n",
       "27       -0.7  ...  0.8          237.97  32666.710  15482.690     7323.984   \n",
       "28      -11.2  ...  0.8          237.77  31441.534  16366.366     7103.851   \n",
       "29      285.7  ...  0.8          268.03  32811.464  19359.936     7992.466   \n",
       "30     1321.4  ...  0.8          299.47  36209.916  23273.684     8757.832   \n",
       "31        2.6  ...  0.8          306.80  29685.200  20415.800     8325.360   \n",
       "32        0.2  ...  0.8          324.37  30672.399  18928.701     7407.665   \n",
       "33       -4.9  ...  0.8          338.70  31000.715  19884.785     7760.255   \n",
       "34     -367.3  ...  0.8          355.13  30978.564  28911.736    12063.889   \n",
       "35       -1.4  ...  0.8          355.13  40745.228  10549.472     5167.876   \n",
       "36       -3.1  ...  0.8          339.77  32356.668  20079.032     7401.953   \n",
       "37       -1.6  ...  0.8          358.70  32578.482  20930.218     7499.388   \n",
       "38        NaN  ...  0.8          387.20  34943.710  24557.290     7500.670   \n",
       "39        NaN  ...  0.8             NaN        NaN        NaN          NaN   \n",
       "\n",
       "      est_opm       ebit  tax_expense  net_income_margin  eps_est  \n",
       "11        NaN        NaN          NaN                NaN      NaN  \n",
       "12        NaN        NaN          NaN                NaN      NaN  \n",
       "13        NaN        NaN          NaN                NaN      NaN  \n",
       "14        NaN        NaN          NaN                NaN      NaN  \n",
       "15        NaN        NaN          NaN                NaN      NaN  \n",
       "16  10797.038  11171.198    2234.2396          8663.1884     1.12  \n",
       "17   9545.739   9937.739    1987.5478          7651.8912     0.99  \n",
       "18   5390.510   5651.080    1130.2160          4199.2340     0.54  \n",
       "19  10335.468  10548.898    2109.7796          8147.9884     1.05  \n",
       "20  10519.934  10733.364    2146.6728          8302.3212     1.07  \n",
       "21  11071.996  11356.866    2271.3732          8804.5628     1.13  \n",
       "22   6484.438   6758.108    1351.6216          5163.8864     0.67  \n",
       "23  10567.034  10879.364    2175.8728          8462.6912     1.09  \n",
       "24   9072.170   9351.500    1870.3000          7253.0000     0.93  \n",
       "25  10112.874  10500.804    2100.1608          8197.9432     1.06  \n",
       "26  12346.108  12721.708    2544.3416          9953.7664     1.28  \n",
       "27   8158.706   8430.506    1686.1012          6506.4348     0.84  \n",
       "28   9262.515   9483.485    1896.6970          7349.0180     0.95  \n",
       "29  11367.470  11649.270    2329.8540          9051.3860     1.17  \n",
       "30  14515.852  14690.952    2938.1904         11453.2916     1.48  \n",
       "31  12090.440  12279.710    2455.9420          9516.9680     1.23  \n",
       "32  11521.036  11763.836    2352.7672          9086.6988     1.17  \n",
       "33  12124.530  12387.930    2477.5860          9571.6440     1.23  \n",
       "34  16847.847  17111.247    3422.2494         13333.8676     1.72  \n",
       "35   5381.596   5539.926    1107.9852          4076.8108     0.53  \n",
       "36  12677.079  12834.079    2566.8158          9927.4932     1.28  \n",
       "37  13430.830  13673.570    2734.7140         10580.1560     1.36  \n",
       "38  17056.620  17246.690    3449.3380         13410.1520     1.73  \n",
       "39        NaN        NaN          NaN                NaN      NaN  \n",
       "\n",
       "[29 rows x 33 columns]"
      ]
     },
     "execution_count": 214,
     "metadata": {},
     "output_type": "execute_result"
    }
   ],
   "source": [
    "st_input = '2412'\n",
    "\n",
    "data = df[df['代號'] == st_input]\n",
    "data = pd.merge(db_for[db_for['代號'] == st_input], data, how='outer')\n",
    "\n",
    "\n",
    "model = RollingOLS.from_formula(\"營業毛利 ~ 營業收入淨額\", data=data, window=5)\n",
    "gpm_reg = model.fit()\n",
    "gpm_reg = round(gpm_reg.params.rename({'Intercept':'gpm_fixed_cost', '營業收入淨額':'gpm_variable_cost'}, axis=1), 2)\n",
    "\n",
    "# operating profit margin\n",
    "model = RollingOLS.from_formula(\"營業利益 ~ 營業收入淨額\", data=data, window=5)\n",
    "opm_reg = model.fit()\n",
    "opm_reg = round(opm_reg.params.rename({'Intercept':'opm_fixed_cost', '營業收入淨額':'opm_variable_cost'}, axis=1), 2)\n",
    "\n",
    "result = pd.concat([data, gpm_reg], axis=1)\n",
    "result = pd.concat([result, opm_reg], axis=1)\n",
    "result['other_expense'] = trimmean(result['其他收益及費損淨額'])\n",
    "result['non_operating_pnl'] = trimmean(result['營業外收入及支出'])\n",
    "result['tax'] = 0.8\n",
    "result['controless_pnl'] = trimmean(result['歸屬非控制權益淨利（損）'])\n",
    "\n",
    "# estimate forecasting data\n",
    "result = pd.concat([result.loc[:, ['代號', '名稱', '年/月', '營業收入淨額q', '加權平均股數', '營業收入淨額', '營業成本', '營業毛利', \n",
    "                                   '營業費用','其他收益及費損淨額', '營業利益', '營業外收入及支出', '稅前淨利', \n",
    "                                   '所得稅費用', '歸屬非控制權益淨利（損）', '稅後淨利est', '每股盈餘']].shift(-1), \n",
    "                    result.loc[:, ['gpm_fixed_cost', 'gpm_variable_cost', 'opm_fixed_cost', 'opm_variable_cost',\n",
    "                                   'other_expense', 'non_operating_pnl', 'tax', 'controless_pnl']]], axis=1)\n",
    "result['代號'] = result['代號'].fillna(method='ffill')\n",
    "result['名稱'] = result['名稱'].fillna(method='ffill')\n",
    "result['加權平均股數'] = result['加權平均股數'].fillna(method='ffill')\n",
    "result = result[result['加權平均股數'] > 0]\n",
    "result['營業收入淨額q'] = result['營業收入淨額q'].astype(float)\n",
    "result['est_cost'] = result['營業收入淨額q'] - (result['營業收入淨額q']*result.gpm_variable_cost + result.gpm_fixed_cost)\n",
    "result['est_gmp'] = result['營業收入淨額q']*result.gpm_variable_cost + result.gpm_fixed_cost\n",
    "\n",
    "result['est_expense'] = result['est_gmp'] - (result['營業收入淨額q']*result.opm_variable_cost + result.opm_fixed_cost)\n",
    "result['est_opm'] = result.est_gmp - result.est_expense\n",
    "\n",
    "result['ebit'] = result['est_opm'] + result['other_expense'] + result['non_operating_pnl']\n",
    "result['tax_expense'] = result['ebit']*0.2\n",
    "result['net_income_margin'] = result['ebit']*0.8 - result['controless_pnl']\n",
    "result['eps_est'] = round(result.net_income_margin*1000/ result['加權平均股數'], 2)\n",
    "\n",
    "result"
   ]
  },
  {
   "cell_type": "code",
   "execution_count": 215,
   "id": "e51db6e1",
   "metadata": {
    "scrolled": false
   },
   "outputs": [],
   "source": [
    "st_input = '2412'\n",
    "\n",
    "data = df[df['代號'] == st_input]\n",
    "data = pd.merge(db_for, data)\n",
    "\n",
    "\n",
    "def trimmean(data):\n",
    "    rolling_num = 5\n",
    "    count = round((data.rolling(rolling_num).sum() - data.rolling(rolling_num).max() \n",
    "                   - data.rolling(rolling_num).min())/3, 2)\n",
    "    return count\n",
    "\n",
    "\n",
    "def forecasting_eps(data):\n",
    "    if data.shape[0] < 5:\n",
    "        pass\n",
    "    else:\n",
    "        try:\n",
    "            # gross profit margin\n",
    "            model = RollingOLS.from_formula(\"營業毛利 ~ 營業收入淨額\", data=data, window=5)\n",
    "            gpm_reg = model.fit()\n",
    "            gpm_reg = round(gpm_reg.params.rename({'Intercept':'gpm_fixed_cost', '營業收入淨額':'gpm_variable_cost'}, axis=1), 2)\n",
    "\n",
    "            # operating profit margin\n",
    "            model = RollingOLS.from_formula(\"營業利益 ~ 營業收入淨額\", data=data, window=5)\n",
    "            opm_reg = model.fit()\n",
    "            opm_reg = round(opm_reg.params.rename({'Intercept':'opm_fixed_cost', '營業收入淨額':'opm_variable_cost'}, axis=1), 2)\n",
    "            \n",
    "            result = pd.concat([data, gpm_reg], axis=1)\n",
    "            result = pd.concat([result, opm_reg], axis=1)\n",
    "            result['other_expense'] = trimmean(result['其他收益及費損淨額'])\n",
    "            result['non_operating_pnl'] = trimmean(result['營業外收入及支出'])\n",
    "            result['tax'] = 0.8\n",
    "            result['controless_pnl'] = trimmean(result['歸屬非控制權益淨利（損）'])\n",
    "\n",
    "            # estimate forecasting data\n",
    "            result = pd.concat([result.loc[:, ['代號', '名稱', '年/月', '營業收入淨額q', '加權平均股數', '營業收入淨額', '營業成本', '營業毛利', \n",
    "                                               '營業費用','其他收益及費損淨額', '營業利益', '營業外收入及支出', '稅前淨利', \n",
    "                                               '所得稅費用', '歸屬非控制權益淨利（損）', '稅後淨利est', '每股盈餘']].shift(-1), \n",
    "                                result.loc[:, ['gpm_fixed_cost', 'gpm_variable_cost', 'opm_fixed_cost', 'opm_variable_cost',\n",
    "                                               'other_expense', 'non_operating_pnl', 'tax', 'controless_pnl']]], axis=1)\n",
    "            result['代號'] = result['代號'].fillna(method='ffill')\n",
    "            result['名稱'] = result['名稱'].fillna(method='ffill')\n",
    "            result['加權平均股數'] = result['加權平均股數'].fillna(method='ffill')\n",
    "            result = result[result['加權平均股數'] > 0]\n",
    "            result['營業收入淨額q'] = result['營業收入淨額q'].astype(float)\n",
    "            result['est_cost'] = result['營業收入淨額q'] - (result['營業收入淨額q']*result.gpm_variable_cost + result.gpm_fixed_cost)\n",
    "            result['est_gmp'] = result['營業收入淨額q']*result.gpm_variable_cost + result.gpm_fixed_cost\n",
    "\n",
    "            result['est_expense'] = result['est_gmp'] - (result['營業收入淨額q']*result.opm_variable_cost + result.opm_fixed_cost)\n",
    "            result['est_opm'] = result.est_gmp - result.est_expense\n",
    "\n",
    "            result['ebit'] = result['est_opm'] + result['other_expense'] + result['non_operating_pnl']\n",
    "            result['tax_expense'] = result['ebit']*0.2\n",
    "            result['net_income_margin'] = result['ebit']*0.8 - result['controless_pnl']\n",
    "            result['eps_est'] = round(result.net_income_margin*1000/ result['加權平均股數'], 2)\n",
    "            return result.tail(6)\n",
    "        except Exception as e:\n",
    "            print(data.head(1)['代號'].values[0], e)\n",
    "            pass\n",
    "\n",
    "\n",
    "\n",
    "def weighted_forecasting_eps(data):\n",
    "    if data.shape[0] < 5:\n",
    "        pass\n",
    "    else:\n",
    "        try:\n",
    "            t = data.rolling(5)\n",
    "            def get_wet_reg(data):\n",
    "                if data.shape[0] < 5 :\n",
    "                    return []\n",
    "                data = data.tail(5)\n",
    "                sample_weight = [1, 1, 2, 3, 5]\n",
    "\n",
    "                gpm = LinearRegression()\n",
    "                gpm.fit(np.array(data['營業收入淨額']).reshape(-1, 1), np.array(data['營業毛利']), sample_weight)\n",
    "                gpm_intercept = round(gpm.intercept_, 2)\n",
    "                gpm_coef = gpm.coef_[0]\n",
    "\n",
    "                opm = LinearRegression()\n",
    "                opm.fit(np.array(data['營業收入淨額']).reshape(-1, 1), np.array(data['營業利益']), sample_weight)\n",
    "                opm_intercept = round(opm.intercept_, 2)\n",
    "                opm_coef = opm.coef_[0]\n",
    "                return [gpm_intercept, round(gpm_coef, 2), opm_intercept, round(opm_coef, 2)]\n",
    "\n",
    "            WLS = pd.DataFrame((map(get_wet_reg,t))).set_axis(['gpm_fixed_cost', 'gpm_variable_cost', \n",
    "                                                               'opm_fixed_cost', 'opm_variable_cost'], axis=1)\n",
    "\n",
    "            result = pd.concat([data.reset_index(drop=True), WLS], axis=1)\n",
    "            result['other_expense'] = trimmean(result['其他收益及費損淨額'])\n",
    "            result['non_operating_pnl'] = trimmean(result['營業外收入及支出'])\n",
    "            result['tax'] = 0.8\n",
    "            result['controless_pnl'] = trimmean(result['歸屬非控制權益淨利（損）'])\n",
    "\n",
    "            # estimate forecasting data\n",
    "            result = pd.concat([result.loc[:, ['代號', '名稱', '年/月', '營業收入淨額q', '加權平均股數', '營業收入淨額', '營業成本', '營業毛利', \n",
    "                                               '營業費用','其他收益及費損淨額', '營業利益', '營業外收入及支出', '稅前淨利', \n",
    "                                               '所得稅費用', '歸屬非控制權益淨利（損）', '稅後淨利est', '每股盈餘']].shift(-1), \n",
    "                                result.loc[:, ['gpm_fixed_cost', 'gpm_variable_cost', 'opm_fixed_cost', 'opm_variable_cost',\n",
    "                                               'other_expense', 'non_operating_pnl', 'tax', 'controless_pnl']]], axis=1)\n",
    "            result['代號'] = result['代號'].fillna(method='ffill')\n",
    "            result['名稱'] = result['名稱'].fillna(method='ffill')\n",
    "            result['加權平均股數'] = result['加權平均股數'].fillna(method='ffill')\n",
    "            result = result[result['加權平均股數'] > 0]\n",
    "            result['營業收入淨額q'] = result['營業收入淨額q'].astype(float)\n",
    "            result['est_cost'] = result['營業收入淨額q'] - (result['營業收入淨額q']*result.gpm_variable_cost + result.gpm_fixed_cost)\n",
    "            result['est_gmp'] = result['營業收入淨額q']*result.gpm_variable_cost + result.gpm_fixed_cost\n",
    "\n",
    "            result['est_expense'] = result['est_gmp'] - (result['營業收入淨額q']*result.opm_variable_cost + result.opm_fixed_cost)\n",
    "            result['est_opm'] = result.est_gmp - result.est_expense\n",
    "\n",
    "            result['ebit'] = result['est_opm'] + result['other_expense'] + result['non_operating_pnl']\n",
    "            result['tax_expense'] = result['ebit']*0.2\n",
    "            result['net_income_margin'] = result['ebit']*0.8 - result['controless_pnl']\n",
    "            result['eps_est'] = round(result.net_income_margin*1000/ result['加權平均股數'], 2)\n",
    "            return result.tail(6)\n",
    "        except Exception as e:\n",
    "            print(data.head(1)['代號'].values[0], e)\n",
    "            pass\n",
    "\n",
    "\n",
    "\n",
    "# f1 = forecasting_eps(data)\n",
    "# f1 = f1.loc[:, ['代號', '名稱', '年/月', '營業收入淨額', 'est_cost', 'est_gmp', 'est_expense', 'other_expense',\n",
    "#            'est_opm', 'non_operating_pnl', 'ebit', 'tax_expense', 'controless_pnl','net_income_margin', \n",
    "#            'eps_est', '加權平均股數']]\n",
    "# f1.rename({'est_cost':'營業成本', 'est_gmp':'營業毛利', 'est_expense':'營業費用','other_expense':'其他收益及費損淨額', \n",
    "#            'est_opm':'營業利益', 'non_operating_pnl':'營業外收入及支出', 'ebit':'稅前淨利', 'tax_expense':'所得稅費用', \n",
    "#            'controless_pnl':'歸屬非控制權益淨利（損）', 'net_income_margin':'稅後淨利', 'eps_est':'每股盈餘'}, \n",
    "#           axis=1).transpose()\n",
    "\n",
    "# weighted_forecasting_eps(data)\n",
    "# # result.transpose()"
   ]
  },
  {
   "cell_type": "markdown",
   "id": "f145a426",
   "metadata": {},
   "source": [
    "料、工、費</br>\n",
    "消費、管理、研發 </br>\n",
    "分兩列：成本跟費用一起估</br>\n",
    "真實的情況：對著他做追蹤，這個報表是要幫助我們找要有的東西，</br>\n",
    "例如：找今年成長最多的，看市場沒發現的標的。</br>\n",
    "財報一年公告四次，但營收公告十二次</br>\n",
    "\n",
    "穩定的：營業淨利5%以內，看EPS</br>\n",
    "非常不穩定：15%以內都算好的</br>"
   ]
  },
  {
   "cell_type": "markdown",
   "id": "9a26fe41",
   "metadata": {},
   "source": [
    "1. 沒有發布日期跟財報年月的都是產業或指數"
   ]
  },
  {
   "cell_type": "code",
   "execution_count": 282,
   "id": "7037118d",
   "metadata": {
    "collapsed": true,
    "jupyter": {
     "outputs_hidden": true
    },
    "tags": []
   },
   "outputs": [
    {
     "name": "stdout",
     "output_type": "stream",
     "text": [
      "2023-02-07 17:07:46,418 INFO sqlalchemy.engine.Engine select pg_catalog.version()\n",
      "2023-02-07 17:07:46,429 INFO sqlalchemy.engine.Engine [raw sql] {}\n",
      "2023-02-07 17:07:46,835 INFO sqlalchemy.engine.Engine select current_schema()\n",
      "2023-02-07 17:07:46,836 INFO sqlalchemy.engine.Engine [raw sql] {}\n",
      "2023-02-07 17:07:47,237 INFO sqlalchemy.engine.Engine show standard_conforming_strings\n",
      "2023-02-07 17:07:47,238 INFO sqlalchemy.engine.Engine [raw sql] {}\n",
      "2023-02-07 17:07:47,647 INFO sqlalchemy.engine.Engine select relname from pg_class c join pg_namespace n on n.oid=c.relnamespace where pg_catalog.pg_table_is_visible(c.oid) and relname=%(name)s\n",
      "2023-02-07 17:07:47,647 INFO sqlalchemy.engine.Engine [generated in 0.00115s] {'name': 'industry'}\n",
      "2023-02-07 17:07:48,254 INFO sqlalchemy.engine.Engine SELECT c.relname FROM pg_class c JOIN pg_namespace n ON n.oid = c.relnamespace WHERE n.nspname = %(schema)s AND c.relkind in ('r', 'p')\n",
      "2023-02-07 17:07:48,255 INFO sqlalchemy.engine.Engine [generated in 0.00088s] {'schema': 'public'}\n",
      "2023-02-07 17:07:48,669 INFO sqlalchemy.engine.Engine \n",
      "            SELECT c.oid\n",
      "            FROM pg_catalog.pg_class c\n",
      "            LEFT JOIN pg_catalog.pg_namespace n ON n.oid = c.relnamespace\n",
      "            WHERE (pg_catalog.pg_table_is_visible(c.oid))\n",
      "            AND c.relname = %(table_name)s AND c.relkind in\n",
      "            ('r', 'v', 'm', 'f', 'p')\n",
      "        \n",
      "2023-02-07 17:07:48,670 INFO sqlalchemy.engine.Engine [generated in 0.00148s] {'table_name': 'industry'}\n",
      "2023-02-07 17:07:48,880 INFO sqlalchemy.engine.Engine \n",
      "            SELECT a.attname,\n",
      "              pg_catalog.format_type(a.atttypid, a.atttypmod),\n",
      "              (\n",
      "                SELECT pg_catalog.pg_get_expr(d.adbin, d.adrelid)\n",
      "                FROM pg_catalog.pg_attrdef d\n",
      "                WHERE d.adrelid = a.attrelid AND d.adnum = a.attnum\n",
      "                AND a.atthasdef\n",
      "              ) AS DEFAULT,\n",
      "              a.attnotnull,\n",
      "              a.attrelid as table_oid,\n",
      "              pgd.description as comment,\n",
      "              a.attgenerated as generated,\n",
      "                              (SELECT json_build_object(\n",
      "                    'always', a.attidentity = 'a',\n",
      "                    'start', s.seqstart,\n",
      "                    'increment', s.seqincrement,\n",
      "                    'minvalue', s.seqmin,\n",
      "                    'maxvalue', s.seqmax,\n",
      "                    'cache', s.seqcache,\n",
      "                    'cycle', s.seqcycle)\n",
      "                FROM pg_catalog.pg_sequence s\n",
      "                JOIN pg_catalog.pg_class c on s.seqrelid = c.\"oid\"\n",
      "                WHERE c.relkind = 'S'\n",
      "                AND a.attidentity != ''\n",
      "                AND s.seqrelid = pg_catalog.pg_get_serial_sequence(\n",
      "                    a.attrelid::regclass::text, a.attname\n",
      "                )::regclass::oid\n",
      "                ) as identity_options                \n",
      "            FROM pg_catalog.pg_attribute a\n",
      "            LEFT JOIN pg_catalog.pg_description pgd ON (\n",
      "                pgd.objoid = a.attrelid AND pgd.objsubid = a.attnum)\n",
      "            WHERE a.attrelid = %(table_oid)s\n",
      "            AND a.attnum > 0 AND NOT a.attisdropped\n",
      "            ORDER BY a.attnum\n",
      "        \n",
      "2023-02-07 17:07:48,881 INFO sqlalchemy.engine.Engine [generated in 0.00166s] {'table_oid': 16461}\n",
      "2023-02-07 17:07:49,095 INFO sqlalchemy.engine.Engine \n",
      "            SELECT t.typname as \"name\",\n",
      "               pg_catalog.format_type(t.typbasetype, t.typtypmod) as \"attype\",\n",
      "               not t.typnotnull as \"nullable\",\n",
      "               t.typdefault as \"default\",\n",
      "               pg_catalog.pg_type_is_visible(t.oid) as \"visible\",\n",
      "               n.nspname as \"schema\"\n",
      "            FROM pg_catalog.pg_type t\n",
      "               LEFT JOIN pg_catalog.pg_namespace n ON n.oid = t.typnamespace\n",
      "            WHERE t.typtype = 'd'\n",
      "        \n",
      "2023-02-07 17:07:49,096 INFO sqlalchemy.engine.Engine [generated in 0.00132s] {}\n",
      "2023-02-07 17:07:49,301 INFO sqlalchemy.engine.Engine \n",
      "            SELECT t.typname as \"name\",\n",
      "               -- no enum defaults in 8.4 at least\n",
      "               -- t.typdefault as \"default\",\n",
      "               pg_catalog.pg_type_is_visible(t.oid) as \"visible\",\n",
      "               n.nspname as \"schema\",\n",
      "               e.enumlabel as \"label\"\n",
      "            FROM pg_catalog.pg_type t\n",
      "                 LEFT JOIN pg_catalog.pg_namespace n ON n.oid = t.typnamespace\n",
      "                 LEFT JOIN pg_catalog.pg_enum e ON t.oid = e.enumtypid\n",
      "            WHERE t.typtype = 'e'\n",
      "        ORDER BY \"schema\", \"name\", e.oid\n",
      "2023-02-07 17:07:49,302 INFO sqlalchemy.engine.Engine [generated in 0.00088s] {}\n",
      "2023-02-07 17:07:49,527 INFO sqlalchemy.engine.Engine \n",
      "                SELECT a.attname\n",
      "                FROM pg_attribute a JOIN (\n",
      "                    SELECT unnest(ix.indkey) attnum,\n",
      "                           generate_subscripts(ix.indkey, 1) ord\n",
      "                    FROM pg_index ix\n",
      "                    WHERE ix.indrelid = %(table_oid)s AND ix.indisprimary\n",
      "                    ) k ON a.attnum=k.attnum\n",
      "                WHERE a.attrelid = %(table_oid)s\n",
      "                ORDER BY k.ord\n",
      "            \n",
      "2023-02-07 17:07:49,529 INFO sqlalchemy.engine.Engine [generated in 0.00216s] {'table_oid': 16461}\n",
      "2023-02-07 17:07:49,731 INFO sqlalchemy.engine.Engine \n",
      "        SELECT conname\n",
      "           FROM  pg_catalog.pg_constraint r\n",
      "           WHERE r.conrelid = %(table_oid)s AND r.contype = 'p'\n",
      "           ORDER BY 1\n",
      "        \n",
      "2023-02-07 17:07:49,732 INFO sqlalchemy.engine.Engine [generated in 0.00079s] {'table_oid': 16461}\n",
      "2023-02-07 17:07:49,958 INFO sqlalchemy.engine.Engine \n",
      "          SELECT r.conname,\n",
      "                pg_catalog.pg_get_constraintdef(r.oid, true) as condef,\n",
      "                n.nspname as conschema\n",
      "          FROM  pg_catalog.pg_constraint r,\n",
      "                pg_namespace n,\n",
      "                pg_class c\n",
      "\n",
      "          WHERE r.conrelid = %(table)s AND\n",
      "                r.contype = 'f' AND\n",
      "                c.oid = confrelid AND\n",
      "                n.oid = c.relnamespace\n",
      "          ORDER BY 1\n",
      "        \n",
      "2023-02-07 17:07:49,976 INFO sqlalchemy.engine.Engine [generated in 0.01833s] {'table': 16461}\n",
      "2023-02-07 17:07:50,181 INFO sqlalchemy.engine.Engine \n",
      "              SELECT\n",
      "                  i.relname as relname,\n",
      "                  ix.indisunique, ix.indexprs,\n",
      "                  a.attname, a.attnum, c.conrelid, ix.indkey::varchar,\n",
      "                  ix.indoption::varchar, i.reloptions, am.amname,\n",
      "                  pg_get_expr(ix.indpred, ix.indrelid),\n",
      "                  ix.indnkeyatts as indnkeyatts\n",
      "              FROM\n",
      "                  pg_class t\n",
      "                        join pg_index ix on t.oid = ix.indrelid\n",
      "                        join pg_class i on i.oid = ix.indexrelid\n",
      "                        left outer join\n",
      "                            pg_attribute a\n",
      "                            on t.oid = a.attrelid and a.attnum = ANY(ix.indkey)\n",
      "                        left outer join\n",
      "                            pg_constraint c\n",
      "                            on (ix.indrelid = c.conrelid and\n",
      "                                ix.indexrelid = c.conindid and\n",
      "                                c.contype in ('p', 'u', 'x'))\n",
      "                        left outer join\n",
      "                            pg_am am\n",
      "                            on i.relam = am.oid\n",
      "              WHERE\n",
      "                  t.relkind IN ('r', 'v', 'f', 'm', 'p')\n",
      "                  and t.oid = %(table_oid)s\n",
      "                  and ix.indisprimary = 'f'\n",
      "              ORDER BY\n",
      "                  t.relname,\n",
      "                  i.relname\n",
      "            \n",
      "2023-02-07 17:07:50,182 INFO sqlalchemy.engine.Engine [generated in 0.00073s] {'table_oid': 16461}\n",
      "2023-02-07 17:07:50,393 INFO sqlalchemy.engine.Engine \n",
      "            SELECT\n",
      "                cons.conname as name,\n",
      "                cons.conkey as key,\n",
      "                a.attnum as col_num,\n",
      "                a.attname as col_name\n",
      "            FROM\n",
      "                pg_catalog.pg_constraint cons\n",
      "                join pg_attribute a\n",
      "                  on cons.conrelid = a.attrelid AND\n",
      "                    a.attnum = ANY(cons.conkey)\n",
      "            WHERE\n",
      "                cons.conrelid = %(table_oid)s AND\n",
      "                cons.contype = 'u'\n",
      "        \n",
      "2023-02-07 17:07:50,396 INFO sqlalchemy.engine.Engine [generated in 0.00339s] {'table_oid': 16461}\n",
      "2023-02-07 17:07:50,602 INFO sqlalchemy.engine.Engine \n",
      "            SELECT\n",
      "                cons.conname as name,\n",
      "                pg_get_constraintdef(cons.oid) as src\n",
      "            FROM\n",
      "                pg_catalog.pg_constraint cons\n",
      "            WHERE\n",
      "                cons.conrelid = %(table_oid)s AND\n",
      "                cons.contype = 'c'\n",
      "        \n"
     ]
    },
    {
     "name": "stdout",
     "output_type": "stream",
     "text": [
      "2023-02-07 17:07:50,603 INFO sqlalchemy.engine.Engine [generated in 0.00124s] {'table_oid': 16461}\n",
      "2023-02-07 17:07:50,818 INFO sqlalchemy.engine.Engine \n",
      "            SELECT\n",
      "                pgd.description as table_comment\n",
      "            FROM\n",
      "                pg_catalog.pg_description pgd\n",
      "            WHERE\n",
      "                pgd.objsubid = 0 AND\n",
      "                pgd.objoid = %(table_oid)s\n",
      "        \n",
      "2023-02-07 17:07:50,820 INFO sqlalchemy.engine.Engine [generated in 0.00145s] {'table_oid': 16461}\n",
      "2023-02-07 17:07:51,247 INFO sqlalchemy.engine.Engine SELECT industry.index, industry.\"公司簡稱\", industry.\"TSE新產業名\", industry.\"TEJ子產業名\", industry.\"Unnamed: 3\", industry.\"TSE新產業名.1\", industry.\"TEJ子產業名.1\", industry.\"Unnamed: 6\", industry.\"公司簡稱.1\", industry.\"TSE新產業名.2\", industry.\"TEJ子產業名.2\", industry.\"Unnamed: 10\", industry.\"Unnamed: 11\", industry.\"單月營收(千元)\", industry.\"單月營收(千元).1\", industry.\"單月營收(千元).2\", industry.\"單月營收(千元).3\", industry.\"單月營收(千元).4\", industry.\"單月營收(千元).5\", industry.\"單月營收(千元).6\", industry.\"單月營收(千元).7\", industry.\"單月營收(千元).8\", industry.\"單月營收(千元).9\", industry.\"單月營收(千元).10\", industry.\"單月營收(千元).11\", industry.\"Unnamed: 24\", industry.\"Unnamed: 25\", industry.\"單月營收(千元).12\", industry.\"單月營收(千元).13\", industry.\"單月營收(千元).14\", industry.\"單月營收(千元).15\", industry.\"單月營收(千元).16\", industry.\"單月營收(千元).17\", industry.\"單月營收(千元).18\", industry.\"單月營收(千元).19\", industry.\"單月營收(千元).20\", industry.\"單月營收(千元).21\", industry.\"單月營收(千元).22\", industry.\"單月營收(千元).23\", industry.\"Unnamed: 38\", industry.\"Unnamed: 39\", industry.\"單月營收(千元).24\", industry.\"單月營收(千元).25\", industry.\"單月營收(千元).26\", industry.\"單月營收(千元).27\", industry.\"單月營收(千元).28\", industry.\"單月營收(千元).29\", industry.\"單月營收(千元).30\", industry.\"單月營收(千元).31\", industry.\"單月營收(千元).32\", industry.\"單月營收(千元).33\", industry.\"單月營收(千元).34\", industry.\"單月營收(千元).35\", industry.\"Unnamed: 52\", industry.\"Unnamed: 53\", industry.\"單月營收(千元).36\", industry.\"單月營收(千元).37\", industry.\"單月營收(千元).38\", industry.\"單月營收(千元).39\", industry.\"單月營收(千元).40\", industry.\"單月營收(千元).41\", industry.\"單月營收(千元).42\", industry.\"單月營收(千元).43\", industry.\"單月營收(千元).44\", industry.\"單月營收(千元).45\", industry.\"單月營收(千元).46\", industry.\"單月營收(千元).47\", industry.\"Unnamed: 66\", industry.\"Unnamed: 67\", industry.\"去年單月營收(千元)\", industry.\"去年單月營收(千元).1\", industry.\"去年單月營收(千元).2\", industry.\"去年單月營收(千元).3\", industry.\"去年單月營收(千元).4\", industry.\"去年單月營收(千元).5\", industry.\"去年單月營收(千元).6\", industry.\"去年單月營收(千元).7\", industry.\"去年單月營收(千元).8\", industry.\"去年單月營收(千元).9\", industry.\"去年單月營收(千元).10\", industry.\"去年單月營收(千元).11\" \n",
      "FROM industry\n",
      "2023-02-07 17:07:51,248 INFO sqlalchemy.engine.Engine [generated in 0.00078s] {}\n"
     ]
    }
   ],
   "source": [
    "\"\"\"\n",
    "connect to db\n",
    "\"\"\"\n",
    "host='database-1.cyn7ldoposru.us-east-1.rds.amazonaws.com'\n",
    "port='5432'\n",
    "user='Yu'\n",
    "password='m#WA12J#'\n",
    "database=\"JQC_Revenue1\"\n",
    "\n",
    "engine = create_engine('postgresql://{}:{}@{}:{}/{}'.format(\n",
    "        user, password, host, port, database), echo=True)\n",
    "\n",
    "stock_info = pd.read_csv('stock_info.csv')\n",
    "stock_info.st_code = stock_info.st_code.astype(str)\n",
    "\n",
    "\"\"\"\n",
    "callback input & output detail \n",
    "\"\"\"\n",
    "revenue = pd.read_sql('industry', engine)\n",
    "new_industry_name = revenue['TSE新產業名.1'].dropna()\n",
    "minor_industry_name = revenue['TEJ子產業名.1'].dropna()"
   ]
  },
  {
   "cell_type": "code",
   "execution_count": 448,
   "id": "b86b256d",
   "metadata": {},
   "outputs": [
    {
     "name": "stdout",
     "output_type": "stream",
     "text": [
      "2023-02-11 14:50:48,992 INFO sqlalchemy.engine.Engine select relname from pg_class c join pg_namespace n on n.oid=c.relnamespace where pg_catalog.pg_table_is_visible(c.oid) and relname=%(name)s\n",
      "2023-02-11 14:50:48,996 INFO sqlalchemy.engine.Engine [cached since 2.5e+04s ago] {'name': \"\\n        select st_code, st_name, rev_period, declaration_date, rev\\n        from tej_revenue\\n        where new_industry_name = 'M2328 電子零組件';\\n        \"}\n",
      "2023-02-11 14:50:50,553 INFO sqlalchemy.engine.Engine \n",
      "        select st_code, st_name, rev_period, declaration_date, rev\n",
      "        from tej_revenue\n",
      "        where new_industry_name = 'M2328 電子零組件';\n",
      "        \n",
      "2023-02-11 14:50:50,555 INFO sqlalchemy.engine.Engine [raw sql] {}\n"
     ]
    }
   ],
   "source": [
    "import revenue_function as fn\n",
    "dropdown1 = new_industry_name[1]\n",
    "dropdown2 = minor_industry_name[1] #minor_industry_name[5] #None\n",
    "st_input = '2402'\n",
    "\n",
    "def get_latest(data):\n",
    "    latest = data.drop_duplicates(subset='st_code', keep='last')\n",
    "    # latest = latest.drop('index', axis=1)\n",
    "    latest = latest.sort_values('declaration_date', ascending=True)\n",
    "    latest = latest.loc[:, ['st_code', 'st_name', 'declaration_date', 'rev', 'mom', 'yoy']]\n",
    "    latest = latest.set_axis(['公司代碼', '公司簡稱', '最新公告月份', '營收', 'MOM%', 'YOY%'], axis=1)\n",
    "    return latest.to_dict('records')\n",
    "\n",
    "\n",
    "# def update_table(dropdown1, dropdown2, st_input):\n",
    "if st_input is None or st_input == '':\n",
    "    try:\n",
    "        if (dropdown1 is not new_industry_name[0]) and (dropdown2 is minor_industry_name[0]):\n",
    "            mask = (\"new_industry_name = '\" + dropdown1 + \"'\")\n",
    "\n",
    "        elif (dropdown2 is not minor_industry_name[0]) and (dropdown1 is new_industry_name[0]):\n",
    "            mask = (\"minor_industry_name = '\" + dropdown2 + \"'\")\n",
    "\n",
    "        elif (dropdown1 is not new_industry_name[0]) and (dropdown2 is not minor_industry_name[0]):\n",
    "            mask = (\"new_industry_name = '\" + dropdown1 + \"' and \" + \"minor_industry_name = '\" + dropdown2 + \"'\")\n",
    "\n",
    "        # 從 db 撈資料\n",
    "        st_search = \"\"\"\n",
    "        select st_code, st_name, rev_period, declaration_date, rev\n",
    "        from tej_revenue\n",
    "        where {};\n",
    "        \"\"\".format(mask)\n",
    "\n",
    "        data = pd.read_sql(st_search, engine)\n",
    "        data = data.groupby(by='st_code', as_index=False).apply(fn.get_st_mom_yoy).reset_index(drop=True,\n",
    "                                                                                                inplace=False)\n",
    "\n",
    "        # 產業最新營收公布情形\n",
    "        latest = get_latest(data)\n",
    "\n",
    "        # 產業總營收狀況\n",
    "        data = data.groupby(by='rev_period', as_index=False).agg({'rev': 'sum'})\n",
    "        data = fn.get_st_mom_yoy(data)\n",
    "\n",
    "        # 預測資料\n",
    "        data_predict = fn.predict(data)\n",
    "\n",
    "        # 繪圖\n",
    "        title = dropdown1 + ' '\n",
    "        REV = fn.get_revpic(data, data_predict, (title + ' 各年度月營收'))\n",
    "        MOM = fn.get_mompic(data, data_predict, (title + ' 各年度月營收'))\n",
    "        YOY = fn.get_yoypic(data, data_predict, (title + ' 各年度月營收'))\n",
    "\n",
    "        # 整理營收資訊表\n",
    "        table = data.pivot_table(values='rev', index='Year', columns='month').reset_index()\n",
    "        data_predict.Year = data_predict.Year + str(' 預估值')\n",
    "        table = pd.concat([table, data_predict.tail(12).pivot_table(index='Year', columns='month', values='rev').reset_index()],axis=0)\n",
    "        # return table.to_dict('records'), latest, REV, MOM, YOY\n",
    "    \n",
    "    except KeyError:\n",
    "        print(\"跳警示通知：該分類沒有相關個股，請重新選擇，並reset\")\n",
    "\n",
    "\n",
    "else:\n",
    "    try:\n",
    "        if (st_input.isdigit() == True):\n",
    "            industry = stock_info[stock_info.st_code == st_input].new_industry_name.values[0]\n",
    "            mask = (\"new_industry_name = '\" + industry + \"'\")\n",
    "            st_mask = 'st_code'\n",
    "\n",
    "        else:\n",
    "            industry = stock_info[stock_info.st_name == st_input].new_industry_name.values[0]\n",
    "            mask = (\"new_industry_name = '\" + industry + \"'\")\n",
    "            st_mask = 'st_name'\n",
    "\n",
    "        # 從 db 撈資料\n",
    "        st_search = \"\"\"\n",
    "        select st_code, st_name, rev_period, declaration_date, rev\n",
    "        from tej_revenue\n",
    "        where {};\n",
    "        \"\"\".format(mask)\n",
    "        data = pd.read_sql(st_search, engine)\n",
    "        data = data.groupby(by='st_code', as_index=False).apply(fn.get_st_mom_yoy).reset_index(drop=True,\n",
    "                                                                                                inplace=False)\n",
    "        data['rev'] = round(data['rev']/1000, 1)\n",
    "        forecast_data = df[df['代號'] == st_input]\n",
    "        forecast_data = pd.merge(db_for, forecast_data)\n",
    "        \n",
    "        \n",
    "        # 產業最新營收公布情形\n",
    "        latest = fn.get_latest(data)\n",
    "\n",
    "        # 轉換成個股總營收\n",
    "        data = data[data[st_mask] == st_input]\n",
    "        data = fn.get_st_mom_yoy(data)\n",
    "\n",
    "        # 預測資料\n",
    "        data_predict = fn.predict(data)\n",
    "\n",
    "        # 繪圖\n",
    "        title = data.st_code[0] + ' ' + data.st_name[0]\n",
    "        REV = fn.get_revpic(data, data_predict, (title + ' 各年度月營收'))\n",
    "        MOM = fn.get_mompic(data, data_predict, (title + ' 各年度月營收'))\n",
    "        YOY = fn.get_yoypic(data, data_predict, (title + ' 各年度月營收'))\n",
    "        \n",
    "        \n",
    "        # 預測 eps\n",
    "        forecast_df = pd.concat([data, data_predict.tail(12)], axis=0)\n",
    "        forecast_df['rev_period'] = forecast_df.Year.str[0:4] + '/' + forecast_df.month\n",
    "        forecast_df = forecast_df.sort_values(['st_code', 'rev_period'])\n",
    "        forecast_df['營業收入淨額q'] = np.where(forecast_df.rev_period.str[5:7].isin(['03', '06', '09', '12']), \n",
    "                                          forecast_df.rev.rolling(3).sum(), 'None')\n",
    "        forecast_df = forecast_df[forecast_df['營業收入淨額q'] != 'None'].loc[:, ['st_code', 'st_name', 'rev_period', '營業收入淨額q']]\n",
    "        forecast_df = forecast_df.rename({'st_code':'代號', 'st_name':'名稱', 'rev_period':'年/月'}, axis=1)\n",
    "\n",
    "        forecast_data = df[df['代號'] == st_input]\n",
    "\n",
    "        forecast_table = forecast_income_statement(forecast_estimation(forecast_data, forecast_df))\n",
    "        forecast_weight_table = forecast_income_statement(weighted_forecast_estimation(forecast_data, forecast_df))\n",
    "        \n",
    "        # 整理營收資訊表\n",
    "        data = data[data.Year >= '2017']\n",
    "        table = data.pivot_table(values='rev', index='Year', columns='month').reset_index()\n",
    "        data_predict.Year = data_predict.Year + str(' 預估值')\n",
    "        table = pd.concat([table, data_predict.tail(12).pivot_table(index='Year', columns='month', values='rev').reset_index()],axis=0)\n",
    "        # return table.to_dict('records'), latest, REV, MOM, YOY\n",
    "        \n",
    "    except IndexError:\n",
    "        print('跳警示通知：查無該股票營收，請重新輸入，並reset')"
   ]
  },
  {
   "cell_type": "code",
   "execution_count": 451,
   "id": "c8cd4ed1",
   "metadata": {},
   "outputs": [
    {
     "data": {
      "text/html": [
       "<div>\n",
       "<style scoped>\n",
       "    .dataframe tbody tr th:only-of-type {\n",
       "        vertical-align: middle;\n",
       "    }\n",
       "\n",
       "    .dataframe tbody tr th {\n",
       "        vertical-align: top;\n",
       "    }\n",
       "\n",
       "    .dataframe thead th {\n",
       "        text-align: right;\n",
       "    }\n",
       "</style>\n",
       "<table border=\"1\" class=\"dataframe\">\n",
       "  <thead>\n",
       "    <tr style=\"text-align: right;\">\n",
       "      <th></th>\n",
       "      <th>代號</th>\n",
       "      <th>名稱</th>\n",
       "      <th>年/月</th>\n",
       "      <th>營業收入淨額q</th>\n",
       "      <th>營業成本</th>\n",
       "      <th>營業毛利</th>\n",
       "      <th>營業費用</th>\n",
       "      <th>其他收益及費損淨額</th>\n",
       "      <th>營業利益</th>\n",
       "      <th>營業外收入及支出</th>\n",
       "      <th>稅前淨利</th>\n",
       "      <th>所得稅費用</th>\n",
       "      <th>歸屬非控制權益淨利（損）</th>\n",
       "      <th>稅後淨利</th>\n",
       "      <th>加權平均股數</th>\n",
       "      <th>每股盈餘</th>\n",
       "    </tr>\n",
       "  </thead>\n",
       "  <tbody>\n",
       "    <tr>\n",
       "      <th>0</th>\n",
       "      <td>2402</td>\n",
       "      <td>毅嘉</td>\n",
       "      <td>2021/09</td>\n",
       "      <td>1610.0</td>\n",
       "      <td>1384.180</td>\n",
       "      <td>225.820</td>\n",
       "      <td>163.480</td>\n",
       "      <td>0.0</td>\n",
       "      <td>62.340</td>\n",
       "      <td>5.70</td>\n",
       "      <td>68.040</td>\n",
       "      <td>13.6080</td>\n",
       "      <td>0.0</td>\n",
       "      <td>54.4320</td>\n",
       "      <td>297536.0</td>\n",
       "      <td>0.18</td>\n",
       "    </tr>\n",
       "    <tr>\n",
       "      <th>1</th>\n",
       "      <td>2402</td>\n",
       "      <td>毅嘉</td>\n",
       "      <td>2021/12</td>\n",
       "      <td>1610.2</td>\n",
       "      <td>1385.718</td>\n",
       "      <td>224.482</td>\n",
       "      <td>150.800</td>\n",
       "      <td>0.0</td>\n",
       "      <td>73.682</td>\n",
       "      <td>7.57</td>\n",
       "      <td>81.252</td>\n",
       "      <td>16.2504</td>\n",
       "      <td>0.0</td>\n",
       "      <td>65.0016</td>\n",
       "      <td>297536.0</td>\n",
       "      <td>0.22</td>\n",
       "    </tr>\n",
       "    <tr>\n",
       "      <th>2</th>\n",
       "      <td>2402</td>\n",
       "      <td>毅嘉</td>\n",
       "      <td>2022/03</td>\n",
       "      <td>1752.1</td>\n",
       "      <td>1505.586</td>\n",
       "      <td>246.514</td>\n",
       "      <td>171.564</td>\n",
       "      <td>0.0</td>\n",
       "      <td>74.950</td>\n",
       "      <td>10.70</td>\n",
       "      <td>85.650</td>\n",
       "      <td>17.1300</td>\n",
       "      <td>0.0</td>\n",
       "      <td>68.5200</td>\n",
       "      <td>297536.0</td>\n",
       "      <td>0.23</td>\n",
       "    </tr>\n",
       "    <tr>\n",
       "      <th>3</th>\n",
       "      <td>2402</td>\n",
       "      <td>毅嘉</td>\n",
       "      <td>2022/06</td>\n",
       "      <td>1684.7</td>\n",
       "      <td>1475.111</td>\n",
       "      <td>209.589</td>\n",
       "      <td>157.485</td>\n",
       "      <td>0.0</td>\n",
       "      <td>52.104</td>\n",
       "      <td>12.37</td>\n",
       "      <td>64.474</td>\n",
       "      <td>12.8948</td>\n",
       "      <td>0.0</td>\n",
       "      <td>51.5792</td>\n",
       "      <td>297536.0</td>\n",
       "      <td>0.17</td>\n",
       "    </tr>\n",
       "    <tr>\n",
       "      <th>4</th>\n",
       "      <td>2402</td>\n",
       "      <td>毅嘉</td>\n",
       "      <td>2022/09</td>\n",
       "      <td>2081.7</td>\n",
       "      <td>1866.192</td>\n",
       "      <td>215.508</td>\n",
       "      <td>161.792</td>\n",
       "      <td>0.0</td>\n",
       "      <td>53.716</td>\n",
       "      <td>18.13</td>\n",
       "      <td>71.846</td>\n",
       "      <td>14.3692</td>\n",
       "      <td>0.0</td>\n",
       "      <td>57.4768</td>\n",
       "      <td>297536.0</td>\n",
       "      <td>0.19</td>\n",
       "    </tr>\n",
       "    <tr>\n",
       "      <th>5</th>\n",
       "      <td>2402</td>\n",
       "      <td>毅嘉</td>\n",
       "      <td>2022/12 預估值</td>\n",
       "      <td>2135.9</td>\n",
       "      <td>1847.227</td>\n",
       "      <td>288.673</td>\n",
       "      <td>182.963</td>\n",
       "      <td>0.0</td>\n",
       "      <td>105.710</td>\n",
       "      <td>23.37</td>\n",
       "      <td>129.080</td>\n",
       "      <td>25.8160</td>\n",
       "      <td>0.0</td>\n",
       "      <td>103.2640</td>\n",
       "      <td>297536.0</td>\n",
       "      <td>0.35</td>\n",
       "    </tr>\n",
       "  </tbody>\n",
       "</table>\n",
       "</div>"
      ],
      "text/plain": [
       "     代號  名稱          年/月  營業收入淨額q      營業成本     營業毛利     營業費用  其他收益及費損淨額  \\\n",
       "0  2402  毅嘉      2021/09   1610.0  1384.180  225.820  163.480        0.0   \n",
       "1  2402  毅嘉      2021/12   1610.2  1385.718  224.482  150.800        0.0   \n",
       "2  2402  毅嘉      2022/03   1752.1  1505.586  246.514  171.564        0.0   \n",
       "3  2402  毅嘉      2022/06   1684.7  1475.111  209.589  157.485        0.0   \n",
       "4  2402  毅嘉      2022/09   2081.7  1866.192  215.508  161.792        0.0   \n",
       "5  2402  毅嘉  2022/12 預估值   2135.9  1847.227  288.673  182.963        0.0   \n",
       "\n",
       "      營業利益  營業外收入及支出     稅前淨利    所得稅費用  歸屬非控制權益淨利（損）      稅後淨利    加權平均股數  每股盈餘  \n",
       "0   62.340      5.70   68.040  13.6080           0.0   54.4320  297536.0  0.18  \n",
       "1   73.682      7.57   81.252  16.2504           0.0   65.0016  297536.0  0.22  \n",
       "2   74.950     10.70   85.650  17.1300           0.0   68.5200  297536.0  0.23  \n",
       "3   52.104     12.37   64.474  12.8948           0.0   51.5792  297536.0  0.17  \n",
       "4   53.716     18.13   71.846  14.3692           0.0   57.4768  297536.0  0.19  \n",
       "5  105.710     23.37  129.080  25.8160           0.0  103.2640  297536.0  0.35  "
      ]
     },
     "execution_count": 451,
     "metadata": {},
     "output_type": "execute_result"
    }
   ],
   "source": [
    "weighted_forecast_estimation(forecast_data, forecast_df).tail(10).transpose()\n",
    "# forecast_income_statement(weighted_forecast_estimation(forecast_data, forecast_df))\n",
    "forecast_table#.to_dict('records')"
   ]
  },
  {
   "cell_type": "code",
   "execution_count": 447,
   "id": "767b10db",
   "metadata": {
    "scrolled": true
   },
   "outputs": [
    {
     "data": {
      "application/vnd.plotly.v1+json": {
       "config": {
        "plotlyServerURL": "https://plot.ly"
       },
       "data": [
        {
         "name": "2017",
         "opacity": 0.7,
         "type": "bar",
         "x": [
          "01",
          "02",
          "03",
          "04",
          "05",
          "06",
          "07",
          "08",
          "09",
          "10",
          "11",
          "12"
         ],
         "y": [
          615.6,
          530.6,
          588.6,
          529.9,
          595.9,
          683.6,
          652.9,
          832.6,
          830.8,
          918.1,
          831.2,
          852.3
         ]
        },
        {
         "name": "2018",
         "opacity": 0.7,
         "type": "bar",
         "x": [
          "01",
          "02",
          "03",
          "04",
          "05",
          "06",
          "07",
          "08",
          "09",
          "10",
          "11",
          "12"
         ],
         "y": [
          825.8,
          727.3,
          738.2,
          767.3,
          828.9,
          765.3,
          729.8,
          735.4,
          630.2,
          635.2,
          569.2,
          665.7
         ]
        },
        {
         "name": "2019",
         "opacity": 0.7,
         "type": "bar",
         "x": [
          "01",
          "02",
          "03",
          "04",
          "05",
          "06",
          "07",
          "08",
          "09",
          "10",
          "11",
          "12"
         ],
         "y": [
          609.9,
          566.1,
          645.3,
          696.8,
          685.4,
          722.7,
          701.5,
          639.7,
          701.5,
          668.2,
          676.7,
          626.2
         ]
        },
        {
         "name": "2020",
         "opacity": 0.7,
         "type": "bar",
         "x": [
          "01",
          "02",
          "03",
          "04",
          "05",
          "06",
          "07",
          "08",
          "09",
          "10",
          "11",
          "12"
         ],
         "y": [
          635.7,
          529.5,
          604.9,
          589.5,
          588.5,
          626.2,
          656.6,
          616.5,
          706.8,
          669.2,
          677.8,
          865.4
         ]
        },
        {
         "name": "2021",
         "opacity": 0.7,
         "type": "bar",
         "x": [
          "01",
          "02",
          "03",
          "04",
          "05",
          "06",
          "07",
          "08",
          "09",
          "10",
          "11",
          "12"
         ],
         "y": [
          704.6,
          560,
          717.3,
          707.4,
          705.1,
          801.8,
          869.1,
          873.7,
          778.3,
          753.1,
          756.6,
          952.7
         ]
        },
        {
         "name": "2022",
         "opacity": 0.7,
         "type": "bar",
         "x": [
          "01",
          "02",
          "03",
          "04",
          "05",
          "06",
          "07",
          "08",
          "09",
          "10",
          "11",
          "12"
         ],
         "y": [
          935.8,
          747.4,
          1178.9,
          889.3,
          1193,
          1410.2,
          1523.8,
          1479.5,
          1588.9,
          1628.7,
          1891.5,
          1855.1
         ]
        },
        {
         "marker": {
          "color": "black",
          "line": {
           "color": "black"
          },
          "pattern": {
           "fillmode": "replace",
           "shape": "\\"
          }
         },
         "name": "預估值",
         "opacity": 1,
         "type": "bar",
         "x": [
          "12",
          "01",
          "02",
          "03",
          "04",
          "05",
          "06",
          "07",
          "08",
          "09",
          "10",
          "11",
          "12"
         ],
         "y": [
          null,
          1298,
          1081,
          1278,
          1265,
          1283,
          1394,
          1449,
          1453,
          1420,
          1387,
          1369,
          1647
         ]
        }
       ],
       "layout": {
        "barmode": "group",
        "hovermode": "x unified",
        "legend": {
         "title": {
          "text": "年份"
         }
        },
        "template": {
         "data": {
          "bar": [
           {
            "error_x": {
             "color": "#2a3f5f"
            },
            "error_y": {
             "color": "#2a3f5f"
            },
            "marker": {
             "line": {
              "color": "#E5ECF6",
              "width": 0.5
             },
             "pattern": {
              "fillmode": "overlay",
              "size": 10,
              "solidity": 0.2
             }
            },
            "type": "bar"
           }
          ],
          "barpolar": [
           {
            "marker": {
             "line": {
              "color": "#E5ECF6",
              "width": 0.5
             },
             "pattern": {
              "fillmode": "overlay",
              "size": 10,
              "solidity": 0.2
             }
            },
            "type": "barpolar"
           }
          ],
          "carpet": [
           {
            "aaxis": {
             "endlinecolor": "#2a3f5f",
             "gridcolor": "white",
             "linecolor": "white",
             "minorgridcolor": "white",
             "startlinecolor": "#2a3f5f"
            },
            "baxis": {
             "endlinecolor": "#2a3f5f",
             "gridcolor": "white",
             "linecolor": "white",
             "minorgridcolor": "white",
             "startlinecolor": "#2a3f5f"
            },
            "type": "carpet"
           }
          ],
          "choropleth": [
           {
            "colorbar": {
             "outlinewidth": 0,
             "ticks": ""
            },
            "type": "choropleth"
           }
          ],
          "contour": [
           {
            "colorbar": {
             "outlinewidth": 0,
             "ticks": ""
            },
            "colorscale": [
             [
              0,
              "#0d0887"
             ],
             [
              0.1111111111111111,
              "#46039f"
             ],
             [
              0.2222222222222222,
              "#7201a8"
             ],
             [
              0.3333333333333333,
              "#9c179e"
             ],
             [
              0.4444444444444444,
              "#bd3786"
             ],
             [
              0.5555555555555556,
              "#d8576b"
             ],
             [
              0.6666666666666666,
              "#ed7953"
             ],
             [
              0.7777777777777778,
              "#fb9f3a"
             ],
             [
              0.8888888888888888,
              "#fdca26"
             ],
             [
              1,
              "#f0f921"
             ]
            ],
            "type": "contour"
           }
          ],
          "contourcarpet": [
           {
            "colorbar": {
             "outlinewidth": 0,
             "ticks": ""
            },
            "type": "contourcarpet"
           }
          ],
          "heatmap": [
           {
            "colorbar": {
             "outlinewidth": 0,
             "ticks": ""
            },
            "colorscale": [
             [
              0,
              "#0d0887"
             ],
             [
              0.1111111111111111,
              "#46039f"
             ],
             [
              0.2222222222222222,
              "#7201a8"
             ],
             [
              0.3333333333333333,
              "#9c179e"
             ],
             [
              0.4444444444444444,
              "#bd3786"
             ],
             [
              0.5555555555555556,
              "#d8576b"
             ],
             [
              0.6666666666666666,
              "#ed7953"
             ],
             [
              0.7777777777777778,
              "#fb9f3a"
             ],
             [
              0.8888888888888888,
              "#fdca26"
             ],
             [
              1,
              "#f0f921"
             ]
            ],
            "type": "heatmap"
           }
          ],
          "heatmapgl": [
           {
            "colorbar": {
             "outlinewidth": 0,
             "ticks": ""
            },
            "colorscale": [
             [
              0,
              "#0d0887"
             ],
             [
              0.1111111111111111,
              "#46039f"
             ],
             [
              0.2222222222222222,
              "#7201a8"
             ],
             [
              0.3333333333333333,
              "#9c179e"
             ],
             [
              0.4444444444444444,
              "#bd3786"
             ],
             [
              0.5555555555555556,
              "#d8576b"
             ],
             [
              0.6666666666666666,
              "#ed7953"
             ],
             [
              0.7777777777777778,
              "#fb9f3a"
             ],
             [
              0.8888888888888888,
              "#fdca26"
             ],
             [
              1,
              "#f0f921"
             ]
            ],
            "type": "heatmapgl"
           }
          ],
          "histogram": [
           {
            "marker": {
             "pattern": {
              "fillmode": "overlay",
              "size": 10,
              "solidity": 0.2
             }
            },
            "type": "histogram"
           }
          ],
          "histogram2d": [
           {
            "colorbar": {
             "outlinewidth": 0,
             "ticks": ""
            },
            "colorscale": [
             [
              0,
              "#0d0887"
             ],
             [
              0.1111111111111111,
              "#46039f"
             ],
             [
              0.2222222222222222,
              "#7201a8"
             ],
             [
              0.3333333333333333,
              "#9c179e"
             ],
             [
              0.4444444444444444,
              "#bd3786"
             ],
             [
              0.5555555555555556,
              "#d8576b"
             ],
             [
              0.6666666666666666,
              "#ed7953"
             ],
             [
              0.7777777777777778,
              "#fb9f3a"
             ],
             [
              0.8888888888888888,
              "#fdca26"
             ],
             [
              1,
              "#f0f921"
             ]
            ],
            "type": "histogram2d"
           }
          ],
          "histogram2dcontour": [
           {
            "colorbar": {
             "outlinewidth": 0,
             "ticks": ""
            },
            "colorscale": [
             [
              0,
              "#0d0887"
             ],
             [
              0.1111111111111111,
              "#46039f"
             ],
             [
              0.2222222222222222,
              "#7201a8"
             ],
             [
              0.3333333333333333,
              "#9c179e"
             ],
             [
              0.4444444444444444,
              "#bd3786"
             ],
             [
              0.5555555555555556,
              "#d8576b"
             ],
             [
              0.6666666666666666,
              "#ed7953"
             ],
             [
              0.7777777777777778,
              "#fb9f3a"
             ],
             [
              0.8888888888888888,
              "#fdca26"
             ],
             [
              1,
              "#f0f921"
             ]
            ],
            "type": "histogram2dcontour"
           }
          ],
          "mesh3d": [
           {
            "colorbar": {
             "outlinewidth": 0,
             "ticks": ""
            },
            "type": "mesh3d"
           }
          ],
          "parcoords": [
           {
            "line": {
             "colorbar": {
              "outlinewidth": 0,
              "ticks": ""
             }
            },
            "type": "parcoords"
           }
          ],
          "pie": [
           {
            "automargin": true,
            "type": "pie"
           }
          ],
          "scatter": [
           {
            "marker": {
             "colorbar": {
              "outlinewidth": 0,
              "ticks": ""
             }
            },
            "type": "scatter"
           }
          ],
          "scatter3d": [
           {
            "line": {
             "colorbar": {
              "outlinewidth": 0,
              "ticks": ""
             }
            },
            "marker": {
             "colorbar": {
              "outlinewidth": 0,
              "ticks": ""
             }
            },
            "type": "scatter3d"
           }
          ],
          "scattercarpet": [
           {
            "marker": {
             "colorbar": {
              "outlinewidth": 0,
              "ticks": ""
             }
            },
            "type": "scattercarpet"
           }
          ],
          "scattergeo": [
           {
            "marker": {
             "colorbar": {
              "outlinewidth": 0,
              "ticks": ""
             }
            },
            "type": "scattergeo"
           }
          ],
          "scattergl": [
           {
            "marker": {
             "colorbar": {
              "outlinewidth": 0,
              "ticks": ""
             }
            },
            "type": "scattergl"
           }
          ],
          "scattermapbox": [
           {
            "marker": {
             "colorbar": {
              "outlinewidth": 0,
              "ticks": ""
             }
            },
            "type": "scattermapbox"
           }
          ],
          "scatterpolar": [
           {
            "marker": {
             "colorbar": {
              "outlinewidth": 0,
              "ticks": ""
             }
            },
            "type": "scatterpolar"
           }
          ],
          "scatterpolargl": [
           {
            "marker": {
             "colorbar": {
              "outlinewidth": 0,
              "ticks": ""
             }
            },
            "type": "scatterpolargl"
           }
          ],
          "scatterternary": [
           {
            "marker": {
             "colorbar": {
              "outlinewidth": 0,
              "ticks": ""
             }
            },
            "type": "scatterternary"
           }
          ],
          "surface": [
           {
            "colorbar": {
             "outlinewidth": 0,
             "ticks": ""
            },
            "colorscale": [
             [
              0,
              "#0d0887"
             ],
             [
              0.1111111111111111,
              "#46039f"
             ],
             [
              0.2222222222222222,
              "#7201a8"
             ],
             [
              0.3333333333333333,
              "#9c179e"
             ],
             [
              0.4444444444444444,
              "#bd3786"
             ],
             [
              0.5555555555555556,
              "#d8576b"
             ],
             [
              0.6666666666666666,
              "#ed7953"
             ],
             [
              0.7777777777777778,
              "#fb9f3a"
             ],
             [
              0.8888888888888888,
              "#fdca26"
             ],
             [
              1,
              "#f0f921"
             ]
            ],
            "type": "surface"
           }
          ],
          "table": [
           {
            "cells": {
             "fill": {
              "color": "#EBF0F8"
             },
             "line": {
              "color": "white"
             }
            },
            "header": {
             "fill": {
              "color": "#C8D4E3"
             },
             "line": {
              "color": "white"
             }
            },
            "type": "table"
           }
          ]
         },
         "layout": {
          "annotationdefaults": {
           "arrowcolor": "#2a3f5f",
           "arrowhead": 0,
           "arrowwidth": 1
          },
          "autotypenumbers": "strict",
          "coloraxis": {
           "colorbar": {
            "outlinewidth": 0,
            "ticks": ""
           }
          },
          "colorscale": {
           "diverging": [
            [
             0,
             "#8e0152"
            ],
            [
             0.1,
             "#c51b7d"
            ],
            [
             0.2,
             "#de77ae"
            ],
            [
             0.3,
             "#f1b6da"
            ],
            [
             0.4,
             "#fde0ef"
            ],
            [
             0.5,
             "#f7f7f7"
            ],
            [
             0.6,
             "#e6f5d0"
            ],
            [
             0.7,
             "#b8e186"
            ],
            [
             0.8,
             "#7fbc41"
            ],
            [
             0.9,
             "#4d9221"
            ],
            [
             1,
             "#276419"
            ]
           ],
           "sequential": [
            [
             0,
             "#0d0887"
            ],
            [
             0.1111111111111111,
             "#46039f"
            ],
            [
             0.2222222222222222,
             "#7201a8"
            ],
            [
             0.3333333333333333,
             "#9c179e"
            ],
            [
             0.4444444444444444,
             "#bd3786"
            ],
            [
             0.5555555555555556,
             "#d8576b"
            ],
            [
             0.6666666666666666,
             "#ed7953"
            ],
            [
             0.7777777777777778,
             "#fb9f3a"
            ],
            [
             0.8888888888888888,
             "#fdca26"
            ],
            [
             1,
             "#f0f921"
            ]
           ],
           "sequentialminus": [
            [
             0,
             "#0d0887"
            ],
            [
             0.1111111111111111,
             "#46039f"
            ],
            [
             0.2222222222222222,
             "#7201a8"
            ],
            [
             0.3333333333333333,
             "#9c179e"
            ],
            [
             0.4444444444444444,
             "#bd3786"
            ],
            [
             0.5555555555555556,
             "#d8576b"
            ],
            [
             0.6666666666666666,
             "#ed7953"
            ],
            [
             0.7777777777777778,
             "#fb9f3a"
            ],
            [
             0.8888888888888888,
             "#fdca26"
            ],
            [
             1,
             "#f0f921"
            ]
           ]
          },
          "colorway": [
           "#636efa",
           "#EF553B",
           "#00cc96",
           "#ab63fa",
           "#FFA15A",
           "#19d3f3",
           "#FF6692",
           "#B6E880",
           "#FF97FF",
           "#FECB52"
          ],
          "font": {
           "color": "#2a3f5f"
          },
          "geo": {
           "bgcolor": "white",
           "lakecolor": "white",
           "landcolor": "#E5ECF6",
           "showlakes": true,
           "showland": true,
           "subunitcolor": "white"
          },
          "hoverlabel": {
           "align": "left"
          },
          "hovermode": "closest",
          "mapbox": {
           "style": "light"
          },
          "paper_bgcolor": "white",
          "plot_bgcolor": "#E5ECF6",
          "polar": {
           "angularaxis": {
            "gridcolor": "white",
            "linecolor": "white",
            "ticks": ""
           },
           "bgcolor": "#E5ECF6",
           "radialaxis": {
            "gridcolor": "white",
            "linecolor": "white",
            "ticks": ""
           }
          },
          "scene": {
           "xaxis": {
            "backgroundcolor": "#E5ECF6",
            "gridcolor": "white",
            "gridwidth": 2,
            "linecolor": "white",
            "showbackground": true,
            "ticks": "",
            "zerolinecolor": "white"
           },
           "yaxis": {
            "backgroundcolor": "#E5ECF6",
            "gridcolor": "white",
            "gridwidth": 2,
            "linecolor": "white",
            "showbackground": true,
            "ticks": "",
            "zerolinecolor": "white"
           },
           "zaxis": {
            "backgroundcolor": "#E5ECF6",
            "gridcolor": "white",
            "gridwidth": 2,
            "linecolor": "white",
            "showbackground": true,
            "ticks": "",
            "zerolinecolor": "white"
           }
          },
          "shapedefaults": {
           "line": {
            "color": "#2a3f5f"
           }
          },
          "ternary": {
           "aaxis": {
            "gridcolor": "white",
            "linecolor": "white",
            "ticks": ""
           },
           "baxis": {
            "gridcolor": "white",
            "linecolor": "white",
            "ticks": ""
           },
           "bgcolor": "#E5ECF6",
           "caxis": {
            "gridcolor": "white",
            "linecolor": "white",
            "ticks": ""
           }
          },
          "title": {
           "x": 0.05
          },
          "xaxis": {
           "automargin": true,
           "gridcolor": "white",
           "linecolor": "white",
           "ticks": "",
           "title": {
            "standoff": 15
           },
           "zerolinecolor": "white",
           "zerolinewidth": 2
          },
          "yaxis": {
           "automargin": true,
           "gridcolor": "white",
           "linecolor": "white",
           "ticks": "",
           "title": {
            "standoff": 15
           },
           "zerolinecolor": "white",
           "zerolinewidth": 2
          }
         }
        },
        "title": {
         "text": "3558 神準 各年度月營收"
        },
        "xaxis": {
         "title": {
          "text": "月份"
         }
        },
        "yaxis": {
         "title": {
          "text": "累計營收"
         }
        }
       }
      },
      "text/html": [
       "<div>                            <div id=\"9661ef1e-2779-46cf-90aa-cf3f468228d0\" class=\"plotly-graph-div\" style=\"height:525px; width:100%;\"></div>            <script type=\"text/javascript\">                require([\"plotly\"], function(Plotly) {                    window.PLOTLYENV=window.PLOTLYENV || {};                                    if (document.getElementById(\"9661ef1e-2779-46cf-90aa-cf3f468228d0\")) {                    Plotly.newPlot(                        \"9661ef1e-2779-46cf-90aa-cf3f468228d0\",                        [{\"name\":\"2017\",\"opacity\":0.7,\"x\":[\"01\",\"02\",\"03\",\"04\",\"05\",\"06\",\"07\",\"08\",\"09\",\"10\",\"11\",\"12\"],\"y\":[615.6,530.6,588.6,529.9,595.9,683.6,652.9,832.6,830.8,918.1,831.2,852.3],\"type\":\"bar\"},{\"name\":\"2018\",\"opacity\":0.7,\"x\":[\"01\",\"02\",\"03\",\"04\",\"05\",\"06\",\"07\",\"08\",\"09\",\"10\",\"11\",\"12\"],\"y\":[825.8,727.3,738.2,767.3,828.9,765.3,729.8,735.4,630.2,635.2,569.2,665.7],\"type\":\"bar\"},{\"name\":\"2019\",\"opacity\":0.7,\"x\":[\"01\",\"02\",\"03\",\"04\",\"05\",\"06\",\"07\",\"08\",\"09\",\"10\",\"11\",\"12\"],\"y\":[609.9,566.1,645.3,696.8,685.4,722.7,701.5,639.7,701.5,668.2,676.7,626.2],\"type\":\"bar\"},{\"name\":\"2020\",\"opacity\":0.7,\"x\":[\"01\",\"02\",\"03\",\"04\",\"05\",\"06\",\"07\",\"08\",\"09\",\"10\",\"11\",\"12\"],\"y\":[635.7,529.5,604.9,589.5,588.5,626.2,656.6,616.5,706.8,669.2,677.8,865.4],\"type\":\"bar\"},{\"name\":\"2021\",\"opacity\":0.7,\"x\":[\"01\",\"02\",\"03\",\"04\",\"05\",\"06\",\"07\",\"08\",\"09\",\"10\",\"11\",\"12\"],\"y\":[704.6,560.0,717.3,707.4,705.1,801.8,869.1,873.7,778.3,753.1,756.6,952.7],\"type\":\"bar\"},{\"name\":\"2022\",\"opacity\":0.7,\"x\":[\"01\",\"02\",\"03\",\"04\",\"05\",\"06\",\"07\",\"08\",\"09\",\"10\",\"11\",\"12\"],\"y\":[935.8,747.4,1178.9,889.3,1193.0,1410.2,1523.8,1479.5,1588.9,1628.7,1891.5,1855.1],\"type\":\"bar\"},{\"marker\":{\"color\":\"black\",\"line\":{\"color\":\"black\"},\"pattern\":{\"fillmode\":\"replace\",\"shape\":\"\\\\\"}},\"name\":\"\\u9810\\u4f30\\u503c\",\"opacity\":1,\"x\":[\"12\",\"01\",\"02\",\"03\",\"04\",\"05\",\"06\",\"07\",\"08\",\"09\",\"10\",\"11\",\"12\"],\"y\":[null,1298.0,1081.0,1278.0,1265.0,1283.0,1394.0,1449.0,1453.0,1420.0,1387.0,1369.0,1647.0],\"type\":\"bar\"}],                        {\"barmode\":\"group\",\"hovermode\":\"x unified\",\"legend\":{\"title\":{\"text\":\"\\u5e74\\u4efd\"}},\"title\":{\"text\":\"3558 \\u795e\\u6e96 \\u5404\\u5e74\\u5ea6\\u6708\\u71df\\u6536\"},\"xaxis\":{\"title\":{\"text\":\"\\u6708\\u4efd\"}},\"yaxis\":{\"title\":{\"text\":\"\\u7d2f\\u8a08\\u71df\\u6536\"}},\"template\":{\"data\":{\"bar\":[{\"error_x\":{\"color\":\"#2a3f5f\"},\"error_y\":{\"color\":\"#2a3f5f\"},\"marker\":{\"line\":{\"color\":\"#E5ECF6\",\"width\":0.5},\"pattern\":{\"fillmode\":\"overlay\",\"size\":10,\"solidity\":0.2}},\"type\":\"bar\"}],\"barpolar\":[{\"marker\":{\"line\":{\"color\":\"#E5ECF6\",\"width\":0.5},\"pattern\":{\"fillmode\":\"overlay\",\"size\":10,\"solidity\":0.2}},\"type\":\"barpolar\"}],\"carpet\":[{\"aaxis\":{\"endlinecolor\":\"#2a3f5f\",\"gridcolor\":\"white\",\"linecolor\":\"white\",\"minorgridcolor\":\"white\",\"startlinecolor\":\"#2a3f5f\"},\"baxis\":{\"endlinecolor\":\"#2a3f5f\",\"gridcolor\":\"white\",\"linecolor\":\"white\",\"minorgridcolor\":\"white\",\"startlinecolor\":\"#2a3f5f\"},\"type\":\"carpet\"}],\"choropleth\":[{\"colorbar\":{\"outlinewidth\":0,\"ticks\":\"\"},\"type\":\"choropleth\"}],\"contour\":[{\"colorbar\":{\"outlinewidth\":0,\"ticks\":\"\"},\"colorscale\":[[0.0,\"#0d0887\"],[0.1111111111111111,\"#46039f\"],[0.2222222222222222,\"#7201a8\"],[0.3333333333333333,\"#9c179e\"],[0.4444444444444444,\"#bd3786\"],[0.5555555555555556,\"#d8576b\"],[0.6666666666666666,\"#ed7953\"],[0.7777777777777778,\"#fb9f3a\"],[0.8888888888888888,\"#fdca26\"],[1.0,\"#f0f921\"]],\"type\":\"contour\"}],\"contourcarpet\":[{\"colorbar\":{\"outlinewidth\":0,\"ticks\":\"\"},\"type\":\"contourcarpet\"}],\"heatmap\":[{\"colorbar\":{\"outlinewidth\":0,\"ticks\":\"\"},\"colorscale\":[[0.0,\"#0d0887\"],[0.1111111111111111,\"#46039f\"],[0.2222222222222222,\"#7201a8\"],[0.3333333333333333,\"#9c179e\"],[0.4444444444444444,\"#bd3786\"],[0.5555555555555556,\"#d8576b\"],[0.6666666666666666,\"#ed7953\"],[0.7777777777777778,\"#fb9f3a\"],[0.8888888888888888,\"#fdca26\"],[1.0,\"#f0f921\"]],\"type\":\"heatmap\"}],\"heatmapgl\":[{\"colorbar\":{\"outlinewidth\":0,\"ticks\":\"\"},\"colorscale\":[[0.0,\"#0d0887\"],[0.1111111111111111,\"#46039f\"],[0.2222222222222222,\"#7201a8\"],[0.3333333333333333,\"#9c179e\"],[0.4444444444444444,\"#bd3786\"],[0.5555555555555556,\"#d8576b\"],[0.6666666666666666,\"#ed7953\"],[0.7777777777777778,\"#fb9f3a\"],[0.8888888888888888,\"#fdca26\"],[1.0,\"#f0f921\"]],\"type\":\"heatmapgl\"}],\"histogram\":[{\"marker\":{\"pattern\":{\"fillmode\":\"overlay\",\"size\":10,\"solidity\":0.2}},\"type\":\"histogram\"}],\"histogram2d\":[{\"colorbar\":{\"outlinewidth\":0,\"ticks\":\"\"},\"colorscale\":[[0.0,\"#0d0887\"],[0.1111111111111111,\"#46039f\"],[0.2222222222222222,\"#7201a8\"],[0.3333333333333333,\"#9c179e\"],[0.4444444444444444,\"#bd3786\"],[0.5555555555555556,\"#d8576b\"],[0.6666666666666666,\"#ed7953\"],[0.7777777777777778,\"#fb9f3a\"],[0.8888888888888888,\"#fdca26\"],[1.0,\"#f0f921\"]],\"type\":\"histogram2d\"}],\"histogram2dcontour\":[{\"colorbar\":{\"outlinewidth\":0,\"ticks\":\"\"},\"colorscale\":[[0.0,\"#0d0887\"],[0.1111111111111111,\"#46039f\"],[0.2222222222222222,\"#7201a8\"],[0.3333333333333333,\"#9c179e\"],[0.4444444444444444,\"#bd3786\"],[0.5555555555555556,\"#d8576b\"],[0.6666666666666666,\"#ed7953\"],[0.7777777777777778,\"#fb9f3a\"],[0.8888888888888888,\"#fdca26\"],[1.0,\"#f0f921\"]],\"type\":\"histogram2dcontour\"}],\"mesh3d\":[{\"colorbar\":{\"outlinewidth\":0,\"ticks\":\"\"},\"type\":\"mesh3d\"}],\"parcoords\":[{\"line\":{\"colorbar\":{\"outlinewidth\":0,\"ticks\":\"\"}},\"type\":\"parcoords\"}],\"pie\":[{\"automargin\":true,\"type\":\"pie\"}],\"scatter\":[{\"marker\":{\"colorbar\":{\"outlinewidth\":0,\"ticks\":\"\"}},\"type\":\"scatter\"}],\"scatter3d\":[{\"line\":{\"colorbar\":{\"outlinewidth\":0,\"ticks\":\"\"}},\"marker\":{\"colorbar\":{\"outlinewidth\":0,\"ticks\":\"\"}},\"type\":\"scatter3d\"}],\"scattercarpet\":[{\"marker\":{\"colorbar\":{\"outlinewidth\":0,\"ticks\":\"\"}},\"type\":\"scattercarpet\"}],\"scattergeo\":[{\"marker\":{\"colorbar\":{\"outlinewidth\":0,\"ticks\":\"\"}},\"type\":\"scattergeo\"}],\"scattergl\":[{\"marker\":{\"colorbar\":{\"outlinewidth\":0,\"ticks\":\"\"}},\"type\":\"scattergl\"}],\"scattermapbox\":[{\"marker\":{\"colorbar\":{\"outlinewidth\":0,\"ticks\":\"\"}},\"type\":\"scattermapbox\"}],\"scatterpolar\":[{\"marker\":{\"colorbar\":{\"outlinewidth\":0,\"ticks\":\"\"}},\"type\":\"scatterpolar\"}],\"scatterpolargl\":[{\"marker\":{\"colorbar\":{\"outlinewidth\":0,\"ticks\":\"\"}},\"type\":\"scatterpolargl\"}],\"scatterternary\":[{\"marker\":{\"colorbar\":{\"outlinewidth\":0,\"ticks\":\"\"}},\"type\":\"scatterternary\"}],\"surface\":[{\"colorbar\":{\"outlinewidth\":0,\"ticks\":\"\"},\"colorscale\":[[0.0,\"#0d0887\"],[0.1111111111111111,\"#46039f\"],[0.2222222222222222,\"#7201a8\"],[0.3333333333333333,\"#9c179e\"],[0.4444444444444444,\"#bd3786\"],[0.5555555555555556,\"#d8576b\"],[0.6666666666666666,\"#ed7953\"],[0.7777777777777778,\"#fb9f3a\"],[0.8888888888888888,\"#fdca26\"],[1.0,\"#f0f921\"]],\"type\":\"surface\"}],\"table\":[{\"cells\":{\"fill\":{\"color\":\"#EBF0F8\"},\"line\":{\"color\":\"white\"}},\"header\":{\"fill\":{\"color\":\"#C8D4E3\"},\"line\":{\"color\":\"white\"}},\"type\":\"table\"}]},\"layout\":{\"annotationdefaults\":{\"arrowcolor\":\"#2a3f5f\",\"arrowhead\":0,\"arrowwidth\":1},\"autotypenumbers\":\"strict\",\"coloraxis\":{\"colorbar\":{\"outlinewidth\":0,\"ticks\":\"\"}},\"colorscale\":{\"diverging\":[[0,\"#8e0152\"],[0.1,\"#c51b7d\"],[0.2,\"#de77ae\"],[0.3,\"#f1b6da\"],[0.4,\"#fde0ef\"],[0.5,\"#f7f7f7\"],[0.6,\"#e6f5d0\"],[0.7,\"#b8e186\"],[0.8,\"#7fbc41\"],[0.9,\"#4d9221\"],[1,\"#276419\"]],\"sequential\":[[0.0,\"#0d0887\"],[0.1111111111111111,\"#46039f\"],[0.2222222222222222,\"#7201a8\"],[0.3333333333333333,\"#9c179e\"],[0.4444444444444444,\"#bd3786\"],[0.5555555555555556,\"#d8576b\"],[0.6666666666666666,\"#ed7953\"],[0.7777777777777778,\"#fb9f3a\"],[0.8888888888888888,\"#fdca26\"],[1.0,\"#f0f921\"]],\"sequentialminus\":[[0.0,\"#0d0887\"],[0.1111111111111111,\"#46039f\"],[0.2222222222222222,\"#7201a8\"],[0.3333333333333333,\"#9c179e\"],[0.4444444444444444,\"#bd3786\"],[0.5555555555555556,\"#d8576b\"],[0.6666666666666666,\"#ed7953\"],[0.7777777777777778,\"#fb9f3a\"],[0.8888888888888888,\"#fdca26\"],[1.0,\"#f0f921\"]]},\"colorway\":[\"#636efa\",\"#EF553B\",\"#00cc96\",\"#ab63fa\",\"#FFA15A\",\"#19d3f3\",\"#FF6692\",\"#B6E880\",\"#FF97FF\",\"#FECB52\"],\"font\":{\"color\":\"#2a3f5f\"},\"geo\":{\"bgcolor\":\"white\",\"lakecolor\":\"white\",\"landcolor\":\"#E5ECF6\",\"showlakes\":true,\"showland\":true,\"subunitcolor\":\"white\"},\"hoverlabel\":{\"align\":\"left\"},\"hovermode\":\"closest\",\"mapbox\":{\"style\":\"light\"},\"paper_bgcolor\":\"white\",\"plot_bgcolor\":\"#E5ECF6\",\"polar\":{\"angularaxis\":{\"gridcolor\":\"white\",\"linecolor\":\"white\",\"ticks\":\"\"},\"bgcolor\":\"#E5ECF6\",\"radialaxis\":{\"gridcolor\":\"white\",\"linecolor\":\"white\",\"ticks\":\"\"}},\"scene\":{\"xaxis\":{\"backgroundcolor\":\"#E5ECF6\",\"gridcolor\":\"white\",\"gridwidth\":2,\"linecolor\":\"white\",\"showbackground\":true,\"ticks\":\"\",\"zerolinecolor\":\"white\"},\"yaxis\":{\"backgroundcolor\":\"#E5ECF6\",\"gridcolor\":\"white\",\"gridwidth\":2,\"linecolor\":\"white\",\"showbackground\":true,\"ticks\":\"\",\"zerolinecolor\":\"white\"},\"zaxis\":{\"backgroundcolor\":\"#E5ECF6\",\"gridcolor\":\"white\",\"gridwidth\":2,\"linecolor\":\"white\",\"showbackground\":true,\"ticks\":\"\",\"zerolinecolor\":\"white\"}},\"shapedefaults\":{\"line\":{\"color\":\"#2a3f5f\"}},\"ternary\":{\"aaxis\":{\"gridcolor\":\"white\",\"linecolor\":\"white\",\"ticks\":\"\"},\"baxis\":{\"gridcolor\":\"white\",\"linecolor\":\"white\",\"ticks\":\"\"},\"bgcolor\":\"#E5ECF6\",\"caxis\":{\"gridcolor\":\"white\",\"linecolor\":\"white\",\"ticks\":\"\"}},\"title\":{\"x\":0.05},\"xaxis\":{\"automargin\":true,\"gridcolor\":\"white\",\"linecolor\":\"white\",\"ticks\":\"\",\"title\":{\"standoff\":15},\"zerolinecolor\":\"white\",\"zerolinewidth\":2},\"yaxis\":{\"automargin\":true,\"gridcolor\":\"white\",\"linecolor\":\"white\",\"ticks\":\"\",\"title\":{\"standoff\":15},\"zerolinecolor\":\"white\",\"zerolinewidth\":2}}}},                        {\"responsive\": true}                    ).then(function(){\n",
       "                            \n",
       "var gd = document.getElementById('9661ef1e-2779-46cf-90aa-cf3f468228d0');\n",
       "var x = new MutationObserver(function (mutations, observer) {{\n",
       "        var display = window.getComputedStyle(gd).display;\n",
       "        if (!display || display === 'none') {{\n",
       "            console.log([gd, 'removed!']);\n",
       "            Plotly.purge(gd);\n",
       "            observer.disconnect();\n",
       "        }}\n",
       "}});\n",
       "\n",
       "// Listen for the removal of the full notebook cells\n",
       "var notebookContainer = gd.closest('#notebook-container');\n",
       "if (notebookContainer) {{\n",
       "    x.observe(notebookContainer, {childList: true});\n",
       "}}\n",
       "\n",
       "// Listen for the clearing of the current output cell\n",
       "var outputEl = gd.closest('.output');\n",
       "if (outputEl) {{\n",
       "    x.observe(outputEl, {childList: true});\n",
       "}}\n",
       "\n",
       "                        })                };                });            </script>        </div>"
      ]
     },
     "metadata": {},
     "output_type": "display_data"
    },
    {
     "data": {
      "application/vnd.plotly.v1+json": {
       "config": {
        "plotlyServerURL": "https://plot.ly"
       },
       "data": [
        {
         "name": "2017",
         "opacity": 0.5,
         "type": "scatter",
         "x": [
          "01",
          "02",
          "03",
          "04",
          "05",
          "06",
          "07",
          "08",
          "09",
          "10",
          "11",
          "12"
         ],
         "y": [
          null,
          -0.1381,
          0.1093,
          -0.0997,
          0.1246,
          0.1472,
          -0.0449,
          0.2752,
          -0.0022,
          0.1051,
          -0.0947,
          0.0254
         ]
        },
        {
         "name": "2018",
         "opacity": 0.5,
         "type": "scatter",
         "x": [
          "01",
          "02",
          "03",
          "04",
          "05",
          "06",
          "07",
          "08",
          "09",
          "10",
          "11",
          "12"
         ],
         "y": [
          -0.0311,
          -0.1193,
          0.015,
          0.0394,
          0.0803,
          -0.0767,
          -0.0464,
          0.0077,
          -0.1431,
          0.0079,
          -0.1039,
          0.1695
         ]
        },
        {
         "name": "2019",
         "opacity": 0.5,
         "type": "scatter",
         "x": [
          "01",
          "02",
          "03",
          "04",
          "05",
          "06",
          "07",
          "08",
          "09",
          "10",
          "11",
          "12"
         ],
         "y": [
          -0.0838,
          -0.0718,
          0.1399,
          0.0798,
          -0.0164,
          0.0544,
          -0.0293,
          -0.0881,
          0.0966,
          -0.0475,
          0.0127,
          -0.0746
         ]
        },
        {
         "name": "2020",
         "opacity": 0.5,
         "type": "scatter",
         "x": [
          "01",
          "02",
          "03",
          "04",
          "05",
          "06",
          "07",
          "08",
          "09",
          "10",
          "11",
          "12"
         ],
         "y": [
          0.0152,
          -0.1671,
          0.1424,
          -0.0255,
          -0.0017,
          0.0641,
          0.0485,
          -0.0611,
          0.1465,
          -0.0532,
          0.0129,
          0.2768
         ]
        },
        {
         "name": "2021",
         "opacity": 0.5,
         "type": "scatter",
         "x": [
          "01",
          "02",
          "03",
          "04",
          "05",
          "06",
          "07",
          "08",
          "09",
          "10",
          "11",
          "12"
         ],
         "y": [
          -0.1858,
          -0.2052,
          0.2809,
          -0.0138,
          -0.0033,
          0.1371,
          0.0839,
          0.0053,
          -0.1092,
          -0.0324,
          0.0046,
          0.2592
         ]
        },
        {
         "name": "2022",
         "opacity": 0.5,
         "type": "scatter",
         "x": [
          "01",
          "02",
          "03",
          "04",
          "05",
          "06",
          "07",
          "08",
          "09",
          "10",
          "11",
          "12"
         ],
         "y": [
          -0.0177,
          -0.2013,
          0.5773,
          -0.2457,
          0.3415,
          0.1821,
          0.0806,
          -0.0291,
          0.0739,
          0.025,
          0.1614,
          -0.0192
         ]
        },
        {
         "connectgaps": false,
         "line": {
          "dash": "dash"
         },
         "name": "2022預估值",
         "type": "scatter",
         "x": [
          "12"
         ],
         "y": [
          -0.019243986254295582
         ]
        },
        {
         "connectgaps": false,
         "line": {
          "dash": "dash"
         },
         "name": "2023預估值",
         "type": "scatter",
         "x": [
          "01",
          "02",
          "03",
          "04",
          "05",
          "06",
          "07",
          "08",
          "09",
          "10",
          "11",
          "12"
         ],
         "y": [
          -0.30030726106409356,
          -0.16718027734976887,
          0.1822386679000925,
          -0.010172143974960876,
          0.014229249011857707,
          0.08651597817614964,
          0.03945480631276901,
          0.0027605244996549345,
          -0.022711631108052306,
          -0.02323943661971831,
          -0.012977649603460706,
          0.20306793279766253
         ]
        }
       ],
       "layout": {
        "hovermode": "x unified",
        "legend": {
         "title": {
          "text": "年份"
         }
        },
        "template": {
         "data": {
          "bar": [
           {
            "error_x": {
             "color": "#2a3f5f"
            },
            "error_y": {
             "color": "#2a3f5f"
            },
            "marker": {
             "line": {
              "color": "#E5ECF6",
              "width": 0.5
             },
             "pattern": {
              "fillmode": "overlay",
              "size": 10,
              "solidity": 0.2
             }
            },
            "type": "bar"
           }
          ],
          "barpolar": [
           {
            "marker": {
             "line": {
              "color": "#E5ECF6",
              "width": 0.5
             },
             "pattern": {
              "fillmode": "overlay",
              "size": 10,
              "solidity": 0.2
             }
            },
            "type": "barpolar"
           }
          ],
          "carpet": [
           {
            "aaxis": {
             "endlinecolor": "#2a3f5f",
             "gridcolor": "white",
             "linecolor": "white",
             "minorgridcolor": "white",
             "startlinecolor": "#2a3f5f"
            },
            "baxis": {
             "endlinecolor": "#2a3f5f",
             "gridcolor": "white",
             "linecolor": "white",
             "minorgridcolor": "white",
             "startlinecolor": "#2a3f5f"
            },
            "type": "carpet"
           }
          ],
          "choropleth": [
           {
            "colorbar": {
             "outlinewidth": 0,
             "ticks": ""
            },
            "type": "choropleth"
           }
          ],
          "contour": [
           {
            "colorbar": {
             "outlinewidth": 0,
             "ticks": ""
            },
            "colorscale": [
             [
              0,
              "#0d0887"
             ],
             [
              0.1111111111111111,
              "#46039f"
             ],
             [
              0.2222222222222222,
              "#7201a8"
             ],
             [
              0.3333333333333333,
              "#9c179e"
             ],
             [
              0.4444444444444444,
              "#bd3786"
             ],
             [
              0.5555555555555556,
              "#d8576b"
             ],
             [
              0.6666666666666666,
              "#ed7953"
             ],
             [
              0.7777777777777778,
              "#fb9f3a"
             ],
             [
              0.8888888888888888,
              "#fdca26"
             ],
             [
              1,
              "#f0f921"
             ]
            ],
            "type": "contour"
           }
          ],
          "contourcarpet": [
           {
            "colorbar": {
             "outlinewidth": 0,
             "ticks": ""
            },
            "type": "contourcarpet"
           }
          ],
          "heatmap": [
           {
            "colorbar": {
             "outlinewidth": 0,
             "ticks": ""
            },
            "colorscale": [
             [
              0,
              "#0d0887"
             ],
             [
              0.1111111111111111,
              "#46039f"
             ],
             [
              0.2222222222222222,
              "#7201a8"
             ],
             [
              0.3333333333333333,
              "#9c179e"
             ],
             [
              0.4444444444444444,
              "#bd3786"
             ],
             [
              0.5555555555555556,
              "#d8576b"
             ],
             [
              0.6666666666666666,
              "#ed7953"
             ],
             [
              0.7777777777777778,
              "#fb9f3a"
             ],
             [
              0.8888888888888888,
              "#fdca26"
             ],
             [
              1,
              "#f0f921"
             ]
            ],
            "type": "heatmap"
           }
          ],
          "heatmapgl": [
           {
            "colorbar": {
             "outlinewidth": 0,
             "ticks": ""
            },
            "colorscale": [
             [
              0,
              "#0d0887"
             ],
             [
              0.1111111111111111,
              "#46039f"
             ],
             [
              0.2222222222222222,
              "#7201a8"
             ],
             [
              0.3333333333333333,
              "#9c179e"
             ],
             [
              0.4444444444444444,
              "#bd3786"
             ],
             [
              0.5555555555555556,
              "#d8576b"
             ],
             [
              0.6666666666666666,
              "#ed7953"
             ],
             [
              0.7777777777777778,
              "#fb9f3a"
             ],
             [
              0.8888888888888888,
              "#fdca26"
             ],
             [
              1,
              "#f0f921"
             ]
            ],
            "type": "heatmapgl"
           }
          ],
          "histogram": [
           {
            "marker": {
             "pattern": {
              "fillmode": "overlay",
              "size": 10,
              "solidity": 0.2
             }
            },
            "type": "histogram"
           }
          ],
          "histogram2d": [
           {
            "colorbar": {
             "outlinewidth": 0,
             "ticks": ""
            },
            "colorscale": [
             [
              0,
              "#0d0887"
             ],
             [
              0.1111111111111111,
              "#46039f"
             ],
             [
              0.2222222222222222,
              "#7201a8"
             ],
             [
              0.3333333333333333,
              "#9c179e"
             ],
             [
              0.4444444444444444,
              "#bd3786"
             ],
             [
              0.5555555555555556,
              "#d8576b"
             ],
             [
              0.6666666666666666,
              "#ed7953"
             ],
             [
              0.7777777777777778,
              "#fb9f3a"
             ],
             [
              0.8888888888888888,
              "#fdca26"
             ],
             [
              1,
              "#f0f921"
             ]
            ],
            "type": "histogram2d"
           }
          ],
          "histogram2dcontour": [
           {
            "colorbar": {
             "outlinewidth": 0,
             "ticks": ""
            },
            "colorscale": [
             [
              0,
              "#0d0887"
             ],
             [
              0.1111111111111111,
              "#46039f"
             ],
             [
              0.2222222222222222,
              "#7201a8"
             ],
             [
              0.3333333333333333,
              "#9c179e"
             ],
             [
              0.4444444444444444,
              "#bd3786"
             ],
             [
              0.5555555555555556,
              "#d8576b"
             ],
             [
              0.6666666666666666,
              "#ed7953"
             ],
             [
              0.7777777777777778,
              "#fb9f3a"
             ],
             [
              0.8888888888888888,
              "#fdca26"
             ],
             [
              1,
              "#f0f921"
             ]
            ],
            "type": "histogram2dcontour"
           }
          ],
          "mesh3d": [
           {
            "colorbar": {
             "outlinewidth": 0,
             "ticks": ""
            },
            "type": "mesh3d"
           }
          ],
          "parcoords": [
           {
            "line": {
             "colorbar": {
              "outlinewidth": 0,
              "ticks": ""
             }
            },
            "type": "parcoords"
           }
          ],
          "pie": [
           {
            "automargin": true,
            "type": "pie"
           }
          ],
          "scatter": [
           {
            "marker": {
             "colorbar": {
              "outlinewidth": 0,
              "ticks": ""
             }
            },
            "type": "scatter"
           }
          ],
          "scatter3d": [
           {
            "line": {
             "colorbar": {
              "outlinewidth": 0,
              "ticks": ""
             }
            },
            "marker": {
             "colorbar": {
              "outlinewidth": 0,
              "ticks": ""
             }
            },
            "type": "scatter3d"
           }
          ],
          "scattercarpet": [
           {
            "marker": {
             "colorbar": {
              "outlinewidth": 0,
              "ticks": ""
             }
            },
            "type": "scattercarpet"
           }
          ],
          "scattergeo": [
           {
            "marker": {
             "colorbar": {
              "outlinewidth": 0,
              "ticks": ""
             }
            },
            "type": "scattergeo"
           }
          ],
          "scattergl": [
           {
            "marker": {
             "colorbar": {
              "outlinewidth": 0,
              "ticks": ""
             }
            },
            "type": "scattergl"
           }
          ],
          "scattermapbox": [
           {
            "marker": {
             "colorbar": {
              "outlinewidth": 0,
              "ticks": ""
             }
            },
            "type": "scattermapbox"
           }
          ],
          "scatterpolar": [
           {
            "marker": {
             "colorbar": {
              "outlinewidth": 0,
              "ticks": ""
             }
            },
            "type": "scatterpolar"
           }
          ],
          "scatterpolargl": [
           {
            "marker": {
             "colorbar": {
              "outlinewidth": 0,
              "ticks": ""
             }
            },
            "type": "scatterpolargl"
           }
          ],
          "scatterternary": [
           {
            "marker": {
             "colorbar": {
              "outlinewidth": 0,
              "ticks": ""
             }
            },
            "type": "scatterternary"
           }
          ],
          "surface": [
           {
            "colorbar": {
             "outlinewidth": 0,
             "ticks": ""
            },
            "colorscale": [
             [
              0,
              "#0d0887"
             ],
             [
              0.1111111111111111,
              "#46039f"
             ],
             [
              0.2222222222222222,
              "#7201a8"
             ],
             [
              0.3333333333333333,
              "#9c179e"
             ],
             [
              0.4444444444444444,
              "#bd3786"
             ],
             [
              0.5555555555555556,
              "#d8576b"
             ],
             [
              0.6666666666666666,
              "#ed7953"
             ],
             [
              0.7777777777777778,
              "#fb9f3a"
             ],
             [
              0.8888888888888888,
              "#fdca26"
             ],
             [
              1,
              "#f0f921"
             ]
            ],
            "type": "surface"
           }
          ],
          "table": [
           {
            "cells": {
             "fill": {
              "color": "#EBF0F8"
             },
             "line": {
              "color": "white"
             }
            },
            "header": {
             "fill": {
              "color": "#C8D4E3"
             },
             "line": {
              "color": "white"
             }
            },
            "type": "table"
           }
          ]
         },
         "layout": {
          "annotationdefaults": {
           "arrowcolor": "#2a3f5f",
           "arrowhead": 0,
           "arrowwidth": 1
          },
          "autotypenumbers": "strict",
          "coloraxis": {
           "colorbar": {
            "outlinewidth": 0,
            "ticks": ""
           }
          },
          "colorscale": {
           "diverging": [
            [
             0,
             "#8e0152"
            ],
            [
             0.1,
             "#c51b7d"
            ],
            [
             0.2,
             "#de77ae"
            ],
            [
             0.3,
             "#f1b6da"
            ],
            [
             0.4,
             "#fde0ef"
            ],
            [
             0.5,
             "#f7f7f7"
            ],
            [
             0.6,
             "#e6f5d0"
            ],
            [
             0.7,
             "#b8e186"
            ],
            [
             0.8,
             "#7fbc41"
            ],
            [
             0.9,
             "#4d9221"
            ],
            [
             1,
             "#276419"
            ]
           ],
           "sequential": [
            [
             0,
             "#0d0887"
            ],
            [
             0.1111111111111111,
             "#46039f"
            ],
            [
             0.2222222222222222,
             "#7201a8"
            ],
            [
             0.3333333333333333,
             "#9c179e"
            ],
            [
             0.4444444444444444,
             "#bd3786"
            ],
            [
             0.5555555555555556,
             "#d8576b"
            ],
            [
             0.6666666666666666,
             "#ed7953"
            ],
            [
             0.7777777777777778,
             "#fb9f3a"
            ],
            [
             0.8888888888888888,
             "#fdca26"
            ],
            [
             1,
             "#f0f921"
            ]
           ],
           "sequentialminus": [
            [
             0,
             "#0d0887"
            ],
            [
             0.1111111111111111,
             "#46039f"
            ],
            [
             0.2222222222222222,
             "#7201a8"
            ],
            [
             0.3333333333333333,
             "#9c179e"
            ],
            [
             0.4444444444444444,
             "#bd3786"
            ],
            [
             0.5555555555555556,
             "#d8576b"
            ],
            [
             0.6666666666666666,
             "#ed7953"
            ],
            [
             0.7777777777777778,
             "#fb9f3a"
            ],
            [
             0.8888888888888888,
             "#fdca26"
            ],
            [
             1,
             "#f0f921"
            ]
           ]
          },
          "colorway": [
           "#636efa",
           "#EF553B",
           "#00cc96",
           "#ab63fa",
           "#FFA15A",
           "#19d3f3",
           "#FF6692",
           "#B6E880",
           "#FF97FF",
           "#FECB52"
          ],
          "font": {
           "color": "#2a3f5f"
          },
          "geo": {
           "bgcolor": "white",
           "lakecolor": "white",
           "landcolor": "#E5ECF6",
           "showlakes": true,
           "showland": true,
           "subunitcolor": "white"
          },
          "hoverlabel": {
           "align": "left"
          },
          "hovermode": "closest",
          "mapbox": {
           "style": "light"
          },
          "paper_bgcolor": "white",
          "plot_bgcolor": "#E5ECF6",
          "polar": {
           "angularaxis": {
            "gridcolor": "white",
            "linecolor": "white",
            "ticks": ""
           },
           "bgcolor": "#E5ECF6",
           "radialaxis": {
            "gridcolor": "white",
            "linecolor": "white",
            "ticks": ""
           }
          },
          "scene": {
           "xaxis": {
            "backgroundcolor": "#E5ECF6",
            "gridcolor": "white",
            "gridwidth": 2,
            "linecolor": "white",
            "showbackground": true,
            "ticks": "",
            "zerolinecolor": "white"
           },
           "yaxis": {
            "backgroundcolor": "#E5ECF6",
            "gridcolor": "white",
            "gridwidth": 2,
            "linecolor": "white",
            "showbackground": true,
            "ticks": "",
            "zerolinecolor": "white"
           },
           "zaxis": {
            "backgroundcolor": "#E5ECF6",
            "gridcolor": "white",
            "gridwidth": 2,
            "linecolor": "white",
            "showbackground": true,
            "ticks": "",
            "zerolinecolor": "white"
           }
          },
          "shapedefaults": {
           "line": {
            "color": "#2a3f5f"
           }
          },
          "ternary": {
           "aaxis": {
            "gridcolor": "white",
            "linecolor": "white",
            "ticks": ""
           },
           "baxis": {
            "gridcolor": "white",
            "linecolor": "white",
            "ticks": ""
           },
           "bgcolor": "#E5ECF6",
           "caxis": {
            "gridcolor": "white",
            "linecolor": "white",
            "ticks": ""
           }
          },
          "title": {
           "x": 0.05
          },
          "xaxis": {
           "automargin": true,
           "gridcolor": "white",
           "linecolor": "white",
           "ticks": "",
           "title": {
            "standoff": 15
           },
           "zerolinecolor": "white",
           "zerolinewidth": 2
          },
          "yaxis": {
           "automargin": true,
           "gridcolor": "white",
           "linecolor": "white",
           "ticks": "",
           "title": {
            "standoff": 15
           },
           "zerolinecolor": "white",
           "zerolinewidth": 2
          }
         }
        },
        "title": {
         "text": "3558 神準 各年度月營收 MOM %"
        },
        "xaxis": {
         "title": {
          "text": "月份"
         }
        },
        "yaxis": {
         "title": {
          "text": "MOM %"
         }
        }
       }
      },
      "text/html": [
       "<div>                            <div id=\"8e6099b2-8bde-4704-a295-9a267b5ca793\" class=\"plotly-graph-div\" style=\"height:525px; width:100%;\"></div>            <script type=\"text/javascript\">                require([\"plotly\"], function(Plotly) {                    window.PLOTLYENV=window.PLOTLYENV || {};                                    if (document.getElementById(\"8e6099b2-8bde-4704-a295-9a267b5ca793\")) {                    Plotly.newPlot(                        \"8e6099b2-8bde-4704-a295-9a267b5ca793\",                        [{\"name\":\"2017\",\"opacity\":0.5,\"x\":[\"01\",\"02\",\"03\",\"04\",\"05\",\"06\",\"07\",\"08\",\"09\",\"10\",\"11\",\"12\"],\"y\":[null,-0.1381,0.1093,-0.0997,0.1246,0.1472,-0.0449,0.2752,-0.0022,0.1051,-0.0947,0.0254],\"type\":\"scatter\"},{\"name\":\"2018\",\"opacity\":0.5,\"x\":[\"01\",\"02\",\"03\",\"04\",\"05\",\"06\",\"07\",\"08\",\"09\",\"10\",\"11\",\"12\"],\"y\":[-0.0311,-0.1193,0.015,0.0394,0.0803,-0.0767,-0.0464,0.0077,-0.1431,0.0079,-0.1039,0.1695],\"type\":\"scatter\"},{\"name\":\"2019\",\"opacity\":0.5,\"x\":[\"01\",\"02\",\"03\",\"04\",\"05\",\"06\",\"07\",\"08\",\"09\",\"10\",\"11\",\"12\"],\"y\":[-0.0838,-0.0718,0.1399,0.0798,-0.0164,0.0544,-0.0293,-0.0881,0.0966,-0.0475,0.0127,-0.0746],\"type\":\"scatter\"},{\"name\":\"2020\",\"opacity\":0.5,\"x\":[\"01\",\"02\",\"03\",\"04\",\"05\",\"06\",\"07\",\"08\",\"09\",\"10\",\"11\",\"12\"],\"y\":[0.0152,-0.1671,0.1424,-0.0255,-0.0017,0.0641,0.0485,-0.0611,0.1465,-0.0532,0.0129,0.2768],\"type\":\"scatter\"},{\"name\":\"2021\",\"opacity\":0.5,\"x\":[\"01\",\"02\",\"03\",\"04\",\"05\",\"06\",\"07\",\"08\",\"09\",\"10\",\"11\",\"12\"],\"y\":[-0.1858,-0.2052,0.2809,-0.0138,-0.0033,0.1371,0.0839,0.0053,-0.1092,-0.0324,0.0046,0.2592],\"type\":\"scatter\"},{\"name\":\"2022\",\"opacity\":0.5,\"x\":[\"01\",\"02\",\"03\",\"04\",\"05\",\"06\",\"07\",\"08\",\"09\",\"10\",\"11\",\"12\"],\"y\":[-0.0177,-0.2013,0.5773,-0.2457,0.3415,0.1821,0.0806,-0.0291,0.0739,0.025,0.1614,-0.0192],\"type\":\"scatter\"},{\"connectgaps\":false,\"line\":{\"dash\":\"dash\"},\"name\":\"2022\\u9810\\u4f30\\u503c\",\"x\":[\"12\"],\"y\":[-0.019243986254295582],\"type\":\"scatter\"},{\"connectgaps\":false,\"line\":{\"dash\":\"dash\"},\"name\":\"2023\\u9810\\u4f30\\u503c\",\"x\":[\"01\",\"02\",\"03\",\"04\",\"05\",\"06\",\"07\",\"08\",\"09\",\"10\",\"11\",\"12\"],\"y\":[-0.30030726106409356,-0.16718027734976887,0.1822386679000925,-0.010172143974960876,0.014229249011857707,0.08651597817614964,0.03945480631276901,0.0027605244996549345,-0.022711631108052306,-0.02323943661971831,-0.012977649603460706,0.20306793279766253],\"type\":\"scatter\"}],                        {\"hovermode\":\"x unified\",\"legend\":{\"title\":{\"text\":\"\\u5e74\\u4efd\"}},\"title\":{\"text\":\"3558 \\u795e\\u6e96 \\u5404\\u5e74\\u5ea6\\u6708\\u71df\\u6536 MOM %\"},\"xaxis\":{\"title\":{\"text\":\"\\u6708\\u4efd\"}},\"yaxis\":{\"title\":{\"text\":\"MOM %\"}},\"template\":{\"data\":{\"bar\":[{\"error_x\":{\"color\":\"#2a3f5f\"},\"error_y\":{\"color\":\"#2a3f5f\"},\"marker\":{\"line\":{\"color\":\"#E5ECF6\",\"width\":0.5},\"pattern\":{\"fillmode\":\"overlay\",\"size\":10,\"solidity\":0.2}},\"type\":\"bar\"}],\"barpolar\":[{\"marker\":{\"line\":{\"color\":\"#E5ECF6\",\"width\":0.5},\"pattern\":{\"fillmode\":\"overlay\",\"size\":10,\"solidity\":0.2}},\"type\":\"barpolar\"}],\"carpet\":[{\"aaxis\":{\"endlinecolor\":\"#2a3f5f\",\"gridcolor\":\"white\",\"linecolor\":\"white\",\"minorgridcolor\":\"white\",\"startlinecolor\":\"#2a3f5f\"},\"baxis\":{\"endlinecolor\":\"#2a3f5f\",\"gridcolor\":\"white\",\"linecolor\":\"white\",\"minorgridcolor\":\"white\",\"startlinecolor\":\"#2a3f5f\"},\"type\":\"carpet\"}],\"choropleth\":[{\"colorbar\":{\"outlinewidth\":0,\"ticks\":\"\"},\"type\":\"choropleth\"}],\"contour\":[{\"colorbar\":{\"outlinewidth\":0,\"ticks\":\"\"},\"colorscale\":[[0.0,\"#0d0887\"],[0.1111111111111111,\"#46039f\"],[0.2222222222222222,\"#7201a8\"],[0.3333333333333333,\"#9c179e\"],[0.4444444444444444,\"#bd3786\"],[0.5555555555555556,\"#d8576b\"],[0.6666666666666666,\"#ed7953\"],[0.7777777777777778,\"#fb9f3a\"],[0.8888888888888888,\"#fdca26\"],[1.0,\"#f0f921\"]],\"type\":\"contour\"}],\"contourcarpet\":[{\"colorbar\":{\"outlinewidth\":0,\"ticks\":\"\"},\"type\":\"contourcarpet\"}],\"heatmap\":[{\"colorbar\":{\"outlinewidth\":0,\"ticks\":\"\"},\"colorscale\":[[0.0,\"#0d0887\"],[0.1111111111111111,\"#46039f\"],[0.2222222222222222,\"#7201a8\"],[0.3333333333333333,\"#9c179e\"],[0.4444444444444444,\"#bd3786\"],[0.5555555555555556,\"#d8576b\"],[0.6666666666666666,\"#ed7953\"],[0.7777777777777778,\"#fb9f3a\"],[0.8888888888888888,\"#fdca26\"],[1.0,\"#f0f921\"]],\"type\":\"heatmap\"}],\"heatmapgl\":[{\"colorbar\":{\"outlinewidth\":0,\"ticks\":\"\"},\"colorscale\":[[0.0,\"#0d0887\"],[0.1111111111111111,\"#46039f\"],[0.2222222222222222,\"#7201a8\"],[0.3333333333333333,\"#9c179e\"],[0.4444444444444444,\"#bd3786\"],[0.5555555555555556,\"#d8576b\"],[0.6666666666666666,\"#ed7953\"],[0.7777777777777778,\"#fb9f3a\"],[0.8888888888888888,\"#fdca26\"],[1.0,\"#f0f921\"]],\"type\":\"heatmapgl\"}],\"histogram\":[{\"marker\":{\"pattern\":{\"fillmode\":\"overlay\",\"size\":10,\"solidity\":0.2}},\"type\":\"histogram\"}],\"histogram2d\":[{\"colorbar\":{\"outlinewidth\":0,\"ticks\":\"\"},\"colorscale\":[[0.0,\"#0d0887\"],[0.1111111111111111,\"#46039f\"],[0.2222222222222222,\"#7201a8\"],[0.3333333333333333,\"#9c179e\"],[0.4444444444444444,\"#bd3786\"],[0.5555555555555556,\"#d8576b\"],[0.6666666666666666,\"#ed7953\"],[0.7777777777777778,\"#fb9f3a\"],[0.8888888888888888,\"#fdca26\"],[1.0,\"#f0f921\"]],\"type\":\"histogram2d\"}],\"histogram2dcontour\":[{\"colorbar\":{\"outlinewidth\":0,\"ticks\":\"\"},\"colorscale\":[[0.0,\"#0d0887\"],[0.1111111111111111,\"#46039f\"],[0.2222222222222222,\"#7201a8\"],[0.3333333333333333,\"#9c179e\"],[0.4444444444444444,\"#bd3786\"],[0.5555555555555556,\"#d8576b\"],[0.6666666666666666,\"#ed7953\"],[0.7777777777777778,\"#fb9f3a\"],[0.8888888888888888,\"#fdca26\"],[1.0,\"#f0f921\"]],\"type\":\"histogram2dcontour\"}],\"mesh3d\":[{\"colorbar\":{\"outlinewidth\":0,\"ticks\":\"\"},\"type\":\"mesh3d\"}],\"parcoords\":[{\"line\":{\"colorbar\":{\"outlinewidth\":0,\"ticks\":\"\"}},\"type\":\"parcoords\"}],\"pie\":[{\"automargin\":true,\"type\":\"pie\"}],\"scatter\":[{\"marker\":{\"colorbar\":{\"outlinewidth\":0,\"ticks\":\"\"}},\"type\":\"scatter\"}],\"scatter3d\":[{\"line\":{\"colorbar\":{\"outlinewidth\":0,\"ticks\":\"\"}},\"marker\":{\"colorbar\":{\"outlinewidth\":0,\"ticks\":\"\"}},\"type\":\"scatter3d\"}],\"scattercarpet\":[{\"marker\":{\"colorbar\":{\"outlinewidth\":0,\"ticks\":\"\"}},\"type\":\"scattercarpet\"}],\"scattergeo\":[{\"marker\":{\"colorbar\":{\"outlinewidth\":0,\"ticks\":\"\"}},\"type\":\"scattergeo\"}],\"scattergl\":[{\"marker\":{\"colorbar\":{\"outlinewidth\":0,\"ticks\":\"\"}},\"type\":\"scattergl\"}],\"scattermapbox\":[{\"marker\":{\"colorbar\":{\"outlinewidth\":0,\"ticks\":\"\"}},\"type\":\"scattermapbox\"}],\"scatterpolar\":[{\"marker\":{\"colorbar\":{\"outlinewidth\":0,\"ticks\":\"\"}},\"type\":\"scatterpolar\"}],\"scatterpolargl\":[{\"marker\":{\"colorbar\":{\"outlinewidth\":0,\"ticks\":\"\"}},\"type\":\"scatterpolargl\"}],\"scatterternary\":[{\"marker\":{\"colorbar\":{\"outlinewidth\":0,\"ticks\":\"\"}},\"type\":\"scatterternary\"}],\"surface\":[{\"colorbar\":{\"outlinewidth\":0,\"ticks\":\"\"},\"colorscale\":[[0.0,\"#0d0887\"],[0.1111111111111111,\"#46039f\"],[0.2222222222222222,\"#7201a8\"],[0.3333333333333333,\"#9c179e\"],[0.4444444444444444,\"#bd3786\"],[0.5555555555555556,\"#d8576b\"],[0.6666666666666666,\"#ed7953\"],[0.7777777777777778,\"#fb9f3a\"],[0.8888888888888888,\"#fdca26\"],[1.0,\"#f0f921\"]],\"type\":\"surface\"}],\"table\":[{\"cells\":{\"fill\":{\"color\":\"#EBF0F8\"},\"line\":{\"color\":\"white\"}},\"header\":{\"fill\":{\"color\":\"#C8D4E3\"},\"line\":{\"color\":\"white\"}},\"type\":\"table\"}]},\"layout\":{\"annotationdefaults\":{\"arrowcolor\":\"#2a3f5f\",\"arrowhead\":0,\"arrowwidth\":1},\"autotypenumbers\":\"strict\",\"coloraxis\":{\"colorbar\":{\"outlinewidth\":0,\"ticks\":\"\"}},\"colorscale\":{\"diverging\":[[0,\"#8e0152\"],[0.1,\"#c51b7d\"],[0.2,\"#de77ae\"],[0.3,\"#f1b6da\"],[0.4,\"#fde0ef\"],[0.5,\"#f7f7f7\"],[0.6,\"#e6f5d0\"],[0.7,\"#b8e186\"],[0.8,\"#7fbc41\"],[0.9,\"#4d9221\"],[1,\"#276419\"]],\"sequential\":[[0.0,\"#0d0887\"],[0.1111111111111111,\"#46039f\"],[0.2222222222222222,\"#7201a8\"],[0.3333333333333333,\"#9c179e\"],[0.4444444444444444,\"#bd3786\"],[0.5555555555555556,\"#d8576b\"],[0.6666666666666666,\"#ed7953\"],[0.7777777777777778,\"#fb9f3a\"],[0.8888888888888888,\"#fdca26\"],[1.0,\"#f0f921\"]],\"sequentialminus\":[[0.0,\"#0d0887\"],[0.1111111111111111,\"#46039f\"],[0.2222222222222222,\"#7201a8\"],[0.3333333333333333,\"#9c179e\"],[0.4444444444444444,\"#bd3786\"],[0.5555555555555556,\"#d8576b\"],[0.6666666666666666,\"#ed7953\"],[0.7777777777777778,\"#fb9f3a\"],[0.8888888888888888,\"#fdca26\"],[1.0,\"#f0f921\"]]},\"colorway\":[\"#636efa\",\"#EF553B\",\"#00cc96\",\"#ab63fa\",\"#FFA15A\",\"#19d3f3\",\"#FF6692\",\"#B6E880\",\"#FF97FF\",\"#FECB52\"],\"font\":{\"color\":\"#2a3f5f\"},\"geo\":{\"bgcolor\":\"white\",\"lakecolor\":\"white\",\"landcolor\":\"#E5ECF6\",\"showlakes\":true,\"showland\":true,\"subunitcolor\":\"white\"},\"hoverlabel\":{\"align\":\"left\"},\"hovermode\":\"closest\",\"mapbox\":{\"style\":\"light\"},\"paper_bgcolor\":\"white\",\"plot_bgcolor\":\"#E5ECF6\",\"polar\":{\"angularaxis\":{\"gridcolor\":\"white\",\"linecolor\":\"white\",\"ticks\":\"\"},\"bgcolor\":\"#E5ECF6\",\"radialaxis\":{\"gridcolor\":\"white\",\"linecolor\":\"white\",\"ticks\":\"\"}},\"scene\":{\"xaxis\":{\"backgroundcolor\":\"#E5ECF6\",\"gridcolor\":\"white\",\"gridwidth\":2,\"linecolor\":\"white\",\"showbackground\":true,\"ticks\":\"\",\"zerolinecolor\":\"white\"},\"yaxis\":{\"backgroundcolor\":\"#E5ECF6\",\"gridcolor\":\"white\",\"gridwidth\":2,\"linecolor\":\"white\",\"showbackground\":true,\"ticks\":\"\",\"zerolinecolor\":\"white\"},\"zaxis\":{\"backgroundcolor\":\"#E5ECF6\",\"gridcolor\":\"white\",\"gridwidth\":2,\"linecolor\":\"white\",\"showbackground\":true,\"ticks\":\"\",\"zerolinecolor\":\"white\"}},\"shapedefaults\":{\"line\":{\"color\":\"#2a3f5f\"}},\"ternary\":{\"aaxis\":{\"gridcolor\":\"white\",\"linecolor\":\"white\",\"ticks\":\"\"},\"baxis\":{\"gridcolor\":\"white\",\"linecolor\":\"white\",\"ticks\":\"\"},\"bgcolor\":\"#E5ECF6\",\"caxis\":{\"gridcolor\":\"white\",\"linecolor\":\"white\",\"ticks\":\"\"}},\"title\":{\"x\":0.05},\"xaxis\":{\"automargin\":true,\"gridcolor\":\"white\",\"linecolor\":\"white\",\"ticks\":\"\",\"title\":{\"standoff\":15},\"zerolinecolor\":\"white\",\"zerolinewidth\":2},\"yaxis\":{\"automargin\":true,\"gridcolor\":\"white\",\"linecolor\":\"white\",\"ticks\":\"\",\"title\":{\"standoff\":15},\"zerolinecolor\":\"white\",\"zerolinewidth\":2}}}},                        {\"responsive\": true}                    ).then(function(){\n",
       "                            \n",
       "var gd = document.getElementById('8e6099b2-8bde-4704-a295-9a267b5ca793');\n",
       "var x = new MutationObserver(function (mutations, observer) {{\n",
       "        var display = window.getComputedStyle(gd).display;\n",
       "        if (!display || display === 'none') {{\n",
       "            console.log([gd, 'removed!']);\n",
       "            Plotly.purge(gd);\n",
       "            observer.disconnect();\n",
       "        }}\n",
       "}});\n",
       "\n",
       "// Listen for the removal of the full notebook cells\n",
       "var notebookContainer = gd.closest('#notebook-container');\n",
       "if (notebookContainer) {{\n",
       "    x.observe(notebookContainer, {childList: true});\n",
       "}}\n",
       "\n",
       "// Listen for the clearing of the current output cell\n",
       "var outputEl = gd.closest('.output');\n",
       "if (outputEl) {{\n",
       "    x.observe(outputEl, {childList: true});\n",
       "}}\n",
       "\n",
       "                        })                };                });            </script>        </div>"
      ]
     },
     "metadata": {},
     "output_type": "display_data"
    },
    {
     "data": {
      "application/vnd.plotly.v1+json": {
       "config": {
        "plotlyServerURL": "https://plot.ly"
       },
       "data": [
        {
         "name": "2017",
         "opacity": 0.5,
         "type": "scatter",
         "x": [
          "01",
          "02",
          "03",
          "04",
          "05",
          "06",
          "07",
          "08",
          "09",
          "10",
          "11",
          "12"
         ],
         "y": [
          null,
          null,
          null,
          null,
          null,
          null,
          null,
          null,
          null,
          null,
          null,
          null
         ]
        },
        {
         "name": "2018",
         "opacity": 0.5,
         "type": "scatter",
         "x": [
          "01",
          "02",
          "03",
          "04",
          "05",
          "06",
          "07",
          "08",
          "09",
          "10",
          "11",
          "12"
         ],
         "y": [
          0.3415,
          0.3707,
          0.2542,
          0.448,
          0.391,
          0.1195,
          0.1178,
          -0.1167,
          -0.2415,
          -0.3081,
          -0.3152,
          -0.2189
         ]
        },
        {
         "name": "2019",
         "opacity": 0.5,
         "type": "scatter",
         "x": [
          "01",
          "02",
          "03",
          "04",
          "05",
          "06",
          "07",
          "08",
          "09",
          "10",
          "11",
          "12"
         ],
         "y": [
          -0.2614,
          -0.2216,
          -0.1258,
          -0.0919,
          -0.1731,
          -0.0557,
          -0.0388,
          -0.1301,
          0.1131,
          0.052,
          0.1889,
          -0.0593
         ]
        },
        {
         "name": "2020",
         "opacity": 0.5,
         "type": "scatter",
         "x": [
          "01",
          "02",
          "03",
          "04",
          "05",
          "06",
          "07",
          "08",
          "09",
          "10",
          "11",
          "12"
         ],
         "y": [
          0.0423,
          -0.0647,
          -0.0626,
          -0.154,
          -0.1414,
          -0.1335,
          -0.064,
          -0.0363,
          0.0076,
          0.0015,
          0.0016,
          0.382
         ]
        },
        {
         "name": "2021",
         "opacity": 0.5,
         "type": "scatter",
         "x": [
          "01",
          "02",
          "03",
          "04",
          "05",
          "06",
          "07",
          "08",
          "09",
          "10",
          "11",
          "12"
         ],
         "y": [
          0.1084,
          0.0576,
          0.1858,
          0.2,
          0.1981,
          0.2804,
          0.3236,
          0.4172,
          0.1012,
          0.1254,
          0.1163,
          0.1009
         ]
        },
        {
         "name": "2022",
         "opacity": 0.5,
         "type": "scatter",
         "x": [
          "01",
          "02",
          "03",
          "04",
          "05",
          "06",
          "07",
          "08",
          "09",
          "10",
          "11",
          "12"
         ],
         "y": [
          0.3281,
          0.3346,
          0.6435,
          0.2571,
          0.692,
          0.7588,
          0.7533,
          0.6934,
          1.0415,
          1.1627,
          1.5,
          0.9472
         ]
        },
        {
         "connectgaps": false,
         "line": {
          "dash": "dash"
         },
         "name": "2022預估值",
         "type": "scatter",
         "x": [
          "12"
         ],
         "y": [
          0.9472
         ]
        },
        {
         "connectgaps": false,
         "line": {
          "dash": "dash"
         },
         "name": "2023預估值",
         "type": "scatter",
         "x": [
          "01",
          "02",
          "03",
          "04",
          "05",
          "06",
          "07",
          "08",
          "09",
          "10",
          "11",
          "12"
         ],
         "y": [
          0.387,
          0.4463,
          0.0841,
          0.4225,
          0.0754,
          -0.0115,
          -0.0491,
          -0.0179,
          -0.1063,
          -0.1484,
          -0.2762,
          -0.1122
         ]
        }
       ],
       "layout": {
        "hovermode": "x unified",
        "legend": {
         "title": {
          "text": "年份"
         }
        },
        "template": {
         "data": {
          "bar": [
           {
            "error_x": {
             "color": "#2a3f5f"
            },
            "error_y": {
             "color": "#2a3f5f"
            },
            "marker": {
             "line": {
              "color": "#E5ECF6",
              "width": 0.5
             },
             "pattern": {
              "fillmode": "overlay",
              "size": 10,
              "solidity": 0.2
             }
            },
            "type": "bar"
           }
          ],
          "barpolar": [
           {
            "marker": {
             "line": {
              "color": "#E5ECF6",
              "width": 0.5
             },
             "pattern": {
              "fillmode": "overlay",
              "size": 10,
              "solidity": 0.2
             }
            },
            "type": "barpolar"
           }
          ],
          "carpet": [
           {
            "aaxis": {
             "endlinecolor": "#2a3f5f",
             "gridcolor": "white",
             "linecolor": "white",
             "minorgridcolor": "white",
             "startlinecolor": "#2a3f5f"
            },
            "baxis": {
             "endlinecolor": "#2a3f5f",
             "gridcolor": "white",
             "linecolor": "white",
             "minorgridcolor": "white",
             "startlinecolor": "#2a3f5f"
            },
            "type": "carpet"
           }
          ],
          "choropleth": [
           {
            "colorbar": {
             "outlinewidth": 0,
             "ticks": ""
            },
            "type": "choropleth"
           }
          ],
          "contour": [
           {
            "colorbar": {
             "outlinewidth": 0,
             "ticks": ""
            },
            "colorscale": [
             [
              0,
              "#0d0887"
             ],
             [
              0.1111111111111111,
              "#46039f"
             ],
             [
              0.2222222222222222,
              "#7201a8"
             ],
             [
              0.3333333333333333,
              "#9c179e"
             ],
             [
              0.4444444444444444,
              "#bd3786"
             ],
             [
              0.5555555555555556,
              "#d8576b"
             ],
             [
              0.6666666666666666,
              "#ed7953"
             ],
             [
              0.7777777777777778,
              "#fb9f3a"
             ],
             [
              0.8888888888888888,
              "#fdca26"
             ],
             [
              1,
              "#f0f921"
             ]
            ],
            "type": "contour"
           }
          ],
          "contourcarpet": [
           {
            "colorbar": {
             "outlinewidth": 0,
             "ticks": ""
            },
            "type": "contourcarpet"
           }
          ],
          "heatmap": [
           {
            "colorbar": {
             "outlinewidth": 0,
             "ticks": ""
            },
            "colorscale": [
             [
              0,
              "#0d0887"
             ],
             [
              0.1111111111111111,
              "#46039f"
             ],
             [
              0.2222222222222222,
              "#7201a8"
             ],
             [
              0.3333333333333333,
              "#9c179e"
             ],
             [
              0.4444444444444444,
              "#bd3786"
             ],
             [
              0.5555555555555556,
              "#d8576b"
             ],
             [
              0.6666666666666666,
              "#ed7953"
             ],
             [
              0.7777777777777778,
              "#fb9f3a"
             ],
             [
              0.8888888888888888,
              "#fdca26"
             ],
             [
              1,
              "#f0f921"
             ]
            ],
            "type": "heatmap"
           }
          ],
          "heatmapgl": [
           {
            "colorbar": {
             "outlinewidth": 0,
             "ticks": ""
            },
            "colorscale": [
             [
              0,
              "#0d0887"
             ],
             [
              0.1111111111111111,
              "#46039f"
             ],
             [
              0.2222222222222222,
              "#7201a8"
             ],
             [
              0.3333333333333333,
              "#9c179e"
             ],
             [
              0.4444444444444444,
              "#bd3786"
             ],
             [
              0.5555555555555556,
              "#d8576b"
             ],
             [
              0.6666666666666666,
              "#ed7953"
             ],
             [
              0.7777777777777778,
              "#fb9f3a"
             ],
             [
              0.8888888888888888,
              "#fdca26"
             ],
             [
              1,
              "#f0f921"
             ]
            ],
            "type": "heatmapgl"
           }
          ],
          "histogram": [
           {
            "marker": {
             "pattern": {
              "fillmode": "overlay",
              "size": 10,
              "solidity": 0.2
             }
            },
            "type": "histogram"
           }
          ],
          "histogram2d": [
           {
            "colorbar": {
             "outlinewidth": 0,
             "ticks": ""
            },
            "colorscale": [
             [
              0,
              "#0d0887"
             ],
             [
              0.1111111111111111,
              "#46039f"
             ],
             [
              0.2222222222222222,
              "#7201a8"
             ],
             [
              0.3333333333333333,
              "#9c179e"
             ],
             [
              0.4444444444444444,
              "#bd3786"
             ],
             [
              0.5555555555555556,
              "#d8576b"
             ],
             [
              0.6666666666666666,
              "#ed7953"
             ],
             [
              0.7777777777777778,
              "#fb9f3a"
             ],
             [
              0.8888888888888888,
              "#fdca26"
             ],
             [
              1,
              "#f0f921"
             ]
            ],
            "type": "histogram2d"
           }
          ],
          "histogram2dcontour": [
           {
            "colorbar": {
             "outlinewidth": 0,
             "ticks": ""
            },
            "colorscale": [
             [
              0,
              "#0d0887"
             ],
             [
              0.1111111111111111,
              "#46039f"
             ],
             [
              0.2222222222222222,
              "#7201a8"
             ],
             [
              0.3333333333333333,
              "#9c179e"
             ],
             [
              0.4444444444444444,
              "#bd3786"
             ],
             [
              0.5555555555555556,
              "#d8576b"
             ],
             [
              0.6666666666666666,
              "#ed7953"
             ],
             [
              0.7777777777777778,
              "#fb9f3a"
             ],
             [
              0.8888888888888888,
              "#fdca26"
             ],
             [
              1,
              "#f0f921"
             ]
            ],
            "type": "histogram2dcontour"
           }
          ],
          "mesh3d": [
           {
            "colorbar": {
             "outlinewidth": 0,
             "ticks": ""
            },
            "type": "mesh3d"
           }
          ],
          "parcoords": [
           {
            "line": {
             "colorbar": {
              "outlinewidth": 0,
              "ticks": ""
             }
            },
            "type": "parcoords"
           }
          ],
          "pie": [
           {
            "automargin": true,
            "type": "pie"
           }
          ],
          "scatter": [
           {
            "marker": {
             "colorbar": {
              "outlinewidth": 0,
              "ticks": ""
             }
            },
            "type": "scatter"
           }
          ],
          "scatter3d": [
           {
            "line": {
             "colorbar": {
              "outlinewidth": 0,
              "ticks": ""
             }
            },
            "marker": {
             "colorbar": {
              "outlinewidth": 0,
              "ticks": ""
             }
            },
            "type": "scatter3d"
           }
          ],
          "scattercarpet": [
           {
            "marker": {
             "colorbar": {
              "outlinewidth": 0,
              "ticks": ""
             }
            },
            "type": "scattercarpet"
           }
          ],
          "scattergeo": [
           {
            "marker": {
             "colorbar": {
              "outlinewidth": 0,
              "ticks": ""
             }
            },
            "type": "scattergeo"
           }
          ],
          "scattergl": [
           {
            "marker": {
             "colorbar": {
              "outlinewidth": 0,
              "ticks": ""
             }
            },
            "type": "scattergl"
           }
          ],
          "scattermapbox": [
           {
            "marker": {
             "colorbar": {
              "outlinewidth": 0,
              "ticks": ""
             }
            },
            "type": "scattermapbox"
           }
          ],
          "scatterpolar": [
           {
            "marker": {
             "colorbar": {
              "outlinewidth": 0,
              "ticks": ""
             }
            },
            "type": "scatterpolar"
           }
          ],
          "scatterpolargl": [
           {
            "marker": {
             "colorbar": {
              "outlinewidth": 0,
              "ticks": ""
             }
            },
            "type": "scatterpolargl"
           }
          ],
          "scatterternary": [
           {
            "marker": {
             "colorbar": {
              "outlinewidth": 0,
              "ticks": ""
             }
            },
            "type": "scatterternary"
           }
          ],
          "surface": [
           {
            "colorbar": {
             "outlinewidth": 0,
             "ticks": ""
            },
            "colorscale": [
             [
              0,
              "#0d0887"
             ],
             [
              0.1111111111111111,
              "#46039f"
             ],
             [
              0.2222222222222222,
              "#7201a8"
             ],
             [
              0.3333333333333333,
              "#9c179e"
             ],
             [
              0.4444444444444444,
              "#bd3786"
             ],
             [
              0.5555555555555556,
              "#d8576b"
             ],
             [
              0.6666666666666666,
              "#ed7953"
             ],
             [
              0.7777777777777778,
              "#fb9f3a"
             ],
             [
              0.8888888888888888,
              "#fdca26"
             ],
             [
              1,
              "#f0f921"
             ]
            ],
            "type": "surface"
           }
          ],
          "table": [
           {
            "cells": {
             "fill": {
              "color": "#EBF0F8"
             },
             "line": {
              "color": "white"
             }
            },
            "header": {
             "fill": {
              "color": "#C8D4E3"
             },
             "line": {
              "color": "white"
             }
            },
            "type": "table"
           }
          ]
         },
         "layout": {
          "annotationdefaults": {
           "arrowcolor": "#2a3f5f",
           "arrowhead": 0,
           "arrowwidth": 1
          },
          "autotypenumbers": "strict",
          "coloraxis": {
           "colorbar": {
            "outlinewidth": 0,
            "ticks": ""
           }
          },
          "colorscale": {
           "diverging": [
            [
             0,
             "#8e0152"
            ],
            [
             0.1,
             "#c51b7d"
            ],
            [
             0.2,
             "#de77ae"
            ],
            [
             0.3,
             "#f1b6da"
            ],
            [
             0.4,
             "#fde0ef"
            ],
            [
             0.5,
             "#f7f7f7"
            ],
            [
             0.6,
             "#e6f5d0"
            ],
            [
             0.7,
             "#b8e186"
            ],
            [
             0.8,
             "#7fbc41"
            ],
            [
             0.9,
             "#4d9221"
            ],
            [
             1,
             "#276419"
            ]
           ],
           "sequential": [
            [
             0,
             "#0d0887"
            ],
            [
             0.1111111111111111,
             "#46039f"
            ],
            [
             0.2222222222222222,
             "#7201a8"
            ],
            [
             0.3333333333333333,
             "#9c179e"
            ],
            [
             0.4444444444444444,
             "#bd3786"
            ],
            [
             0.5555555555555556,
             "#d8576b"
            ],
            [
             0.6666666666666666,
             "#ed7953"
            ],
            [
             0.7777777777777778,
             "#fb9f3a"
            ],
            [
             0.8888888888888888,
             "#fdca26"
            ],
            [
             1,
             "#f0f921"
            ]
           ],
           "sequentialminus": [
            [
             0,
             "#0d0887"
            ],
            [
             0.1111111111111111,
             "#46039f"
            ],
            [
             0.2222222222222222,
             "#7201a8"
            ],
            [
             0.3333333333333333,
             "#9c179e"
            ],
            [
             0.4444444444444444,
             "#bd3786"
            ],
            [
             0.5555555555555556,
             "#d8576b"
            ],
            [
             0.6666666666666666,
             "#ed7953"
            ],
            [
             0.7777777777777778,
             "#fb9f3a"
            ],
            [
             0.8888888888888888,
             "#fdca26"
            ],
            [
             1,
             "#f0f921"
            ]
           ]
          },
          "colorway": [
           "#636efa",
           "#EF553B",
           "#00cc96",
           "#ab63fa",
           "#FFA15A",
           "#19d3f3",
           "#FF6692",
           "#B6E880",
           "#FF97FF",
           "#FECB52"
          ],
          "font": {
           "color": "#2a3f5f"
          },
          "geo": {
           "bgcolor": "white",
           "lakecolor": "white",
           "landcolor": "#E5ECF6",
           "showlakes": true,
           "showland": true,
           "subunitcolor": "white"
          },
          "hoverlabel": {
           "align": "left"
          },
          "hovermode": "closest",
          "mapbox": {
           "style": "light"
          },
          "paper_bgcolor": "white",
          "plot_bgcolor": "#E5ECF6",
          "polar": {
           "angularaxis": {
            "gridcolor": "white",
            "linecolor": "white",
            "ticks": ""
           },
           "bgcolor": "#E5ECF6",
           "radialaxis": {
            "gridcolor": "white",
            "linecolor": "white",
            "ticks": ""
           }
          },
          "scene": {
           "xaxis": {
            "backgroundcolor": "#E5ECF6",
            "gridcolor": "white",
            "gridwidth": 2,
            "linecolor": "white",
            "showbackground": true,
            "ticks": "",
            "zerolinecolor": "white"
           },
           "yaxis": {
            "backgroundcolor": "#E5ECF6",
            "gridcolor": "white",
            "gridwidth": 2,
            "linecolor": "white",
            "showbackground": true,
            "ticks": "",
            "zerolinecolor": "white"
           },
           "zaxis": {
            "backgroundcolor": "#E5ECF6",
            "gridcolor": "white",
            "gridwidth": 2,
            "linecolor": "white",
            "showbackground": true,
            "ticks": "",
            "zerolinecolor": "white"
           }
          },
          "shapedefaults": {
           "line": {
            "color": "#2a3f5f"
           }
          },
          "ternary": {
           "aaxis": {
            "gridcolor": "white",
            "linecolor": "white",
            "ticks": ""
           },
           "baxis": {
            "gridcolor": "white",
            "linecolor": "white",
            "ticks": ""
           },
           "bgcolor": "#E5ECF6",
           "caxis": {
            "gridcolor": "white",
            "linecolor": "white",
            "ticks": ""
           }
          },
          "title": {
           "x": 0.05
          },
          "xaxis": {
           "automargin": true,
           "gridcolor": "white",
           "linecolor": "white",
           "ticks": "",
           "title": {
            "standoff": 15
           },
           "zerolinecolor": "white",
           "zerolinewidth": 2
          },
          "yaxis": {
           "automargin": true,
           "gridcolor": "white",
           "linecolor": "white",
           "ticks": "",
           "title": {
            "standoff": 15
           },
           "zerolinecolor": "white",
           "zerolinewidth": 2
          }
         }
        },
        "title": {
         "text": "3558 神準 各年度月營收 YOY %"
        },
        "xaxis": {
         "title": {
          "text": "月份"
         }
        },
        "yaxis": {
         "title": {
          "text": "YOY %"
         }
        }
       }
      },
      "text/html": [
       "<div>                            <div id=\"2b97e4a5-e6f9-4012-b879-2f3d58ad5cbe\" class=\"plotly-graph-div\" style=\"height:525px; width:100%;\"></div>            <script type=\"text/javascript\">                require([\"plotly\"], function(Plotly) {                    window.PLOTLYENV=window.PLOTLYENV || {};                                    if (document.getElementById(\"2b97e4a5-e6f9-4012-b879-2f3d58ad5cbe\")) {                    Plotly.newPlot(                        \"2b97e4a5-e6f9-4012-b879-2f3d58ad5cbe\",                        [{\"name\":\"2017\",\"opacity\":0.5,\"x\":[\"01\",\"02\",\"03\",\"04\",\"05\",\"06\",\"07\",\"08\",\"09\",\"10\",\"11\",\"12\"],\"y\":[null,null,null,null,null,null,null,null,null,null,null,null],\"type\":\"scatter\"},{\"name\":\"2018\",\"opacity\":0.5,\"x\":[\"01\",\"02\",\"03\",\"04\",\"05\",\"06\",\"07\",\"08\",\"09\",\"10\",\"11\",\"12\"],\"y\":[0.3415,0.3707,0.2542,0.448,0.391,0.1195,0.1178,-0.1167,-0.2415,-0.3081,-0.3152,-0.2189],\"type\":\"scatter\"},{\"name\":\"2019\",\"opacity\":0.5,\"x\":[\"01\",\"02\",\"03\",\"04\",\"05\",\"06\",\"07\",\"08\",\"09\",\"10\",\"11\",\"12\"],\"y\":[-0.2614,-0.2216,-0.1258,-0.0919,-0.1731,-0.0557,-0.0388,-0.1301,0.1131,0.052,0.1889,-0.0593],\"type\":\"scatter\"},{\"name\":\"2020\",\"opacity\":0.5,\"x\":[\"01\",\"02\",\"03\",\"04\",\"05\",\"06\",\"07\",\"08\",\"09\",\"10\",\"11\",\"12\"],\"y\":[0.0423,-0.0647,-0.0626,-0.154,-0.1414,-0.1335,-0.064,-0.0363,0.0076,0.0015,0.0016,0.382],\"type\":\"scatter\"},{\"name\":\"2021\",\"opacity\":0.5,\"x\":[\"01\",\"02\",\"03\",\"04\",\"05\",\"06\",\"07\",\"08\",\"09\",\"10\",\"11\",\"12\"],\"y\":[0.1084,0.0576,0.1858,0.2,0.1981,0.2804,0.3236,0.4172,0.1012,0.1254,0.1163,0.1009],\"type\":\"scatter\"},{\"name\":\"2022\",\"opacity\":0.5,\"x\":[\"01\",\"02\",\"03\",\"04\",\"05\",\"06\",\"07\",\"08\",\"09\",\"10\",\"11\",\"12\"],\"y\":[0.3281,0.3346,0.6435,0.2571,0.692,0.7588,0.7533,0.6934,1.0415,1.1627,1.5,0.9472],\"type\":\"scatter\"},{\"connectgaps\":false,\"line\":{\"dash\":\"dash\"},\"name\":\"2022\\u9810\\u4f30\\u503c\",\"x\":[\"12\"],\"y\":[0.9472],\"type\":\"scatter\"},{\"connectgaps\":false,\"line\":{\"dash\":\"dash\"},\"name\":\"2023\\u9810\\u4f30\\u503c\",\"x\":[\"01\",\"02\",\"03\",\"04\",\"05\",\"06\",\"07\",\"08\",\"09\",\"10\",\"11\",\"12\"],\"y\":[0.387,0.4463,0.0841,0.4225,0.0754,-0.0115,-0.0491,-0.0179,-0.1063,-0.1484,-0.2762,-0.1122],\"type\":\"scatter\"}],                        {\"hovermode\":\"x unified\",\"legend\":{\"title\":{\"text\":\"\\u5e74\\u4efd\"}},\"title\":{\"text\":\"3558 \\u795e\\u6e96 \\u5404\\u5e74\\u5ea6\\u6708\\u71df\\u6536 YOY %\"},\"xaxis\":{\"title\":{\"text\":\"\\u6708\\u4efd\"}},\"yaxis\":{\"title\":{\"text\":\"YOY %\"}},\"template\":{\"data\":{\"bar\":[{\"error_x\":{\"color\":\"#2a3f5f\"},\"error_y\":{\"color\":\"#2a3f5f\"},\"marker\":{\"line\":{\"color\":\"#E5ECF6\",\"width\":0.5},\"pattern\":{\"fillmode\":\"overlay\",\"size\":10,\"solidity\":0.2}},\"type\":\"bar\"}],\"barpolar\":[{\"marker\":{\"line\":{\"color\":\"#E5ECF6\",\"width\":0.5},\"pattern\":{\"fillmode\":\"overlay\",\"size\":10,\"solidity\":0.2}},\"type\":\"barpolar\"}],\"carpet\":[{\"aaxis\":{\"endlinecolor\":\"#2a3f5f\",\"gridcolor\":\"white\",\"linecolor\":\"white\",\"minorgridcolor\":\"white\",\"startlinecolor\":\"#2a3f5f\"},\"baxis\":{\"endlinecolor\":\"#2a3f5f\",\"gridcolor\":\"white\",\"linecolor\":\"white\",\"minorgridcolor\":\"white\",\"startlinecolor\":\"#2a3f5f\"},\"type\":\"carpet\"}],\"choropleth\":[{\"colorbar\":{\"outlinewidth\":0,\"ticks\":\"\"},\"type\":\"choropleth\"}],\"contour\":[{\"colorbar\":{\"outlinewidth\":0,\"ticks\":\"\"},\"colorscale\":[[0.0,\"#0d0887\"],[0.1111111111111111,\"#46039f\"],[0.2222222222222222,\"#7201a8\"],[0.3333333333333333,\"#9c179e\"],[0.4444444444444444,\"#bd3786\"],[0.5555555555555556,\"#d8576b\"],[0.6666666666666666,\"#ed7953\"],[0.7777777777777778,\"#fb9f3a\"],[0.8888888888888888,\"#fdca26\"],[1.0,\"#f0f921\"]],\"type\":\"contour\"}],\"contourcarpet\":[{\"colorbar\":{\"outlinewidth\":0,\"ticks\":\"\"},\"type\":\"contourcarpet\"}],\"heatmap\":[{\"colorbar\":{\"outlinewidth\":0,\"ticks\":\"\"},\"colorscale\":[[0.0,\"#0d0887\"],[0.1111111111111111,\"#46039f\"],[0.2222222222222222,\"#7201a8\"],[0.3333333333333333,\"#9c179e\"],[0.4444444444444444,\"#bd3786\"],[0.5555555555555556,\"#d8576b\"],[0.6666666666666666,\"#ed7953\"],[0.7777777777777778,\"#fb9f3a\"],[0.8888888888888888,\"#fdca26\"],[1.0,\"#f0f921\"]],\"type\":\"heatmap\"}],\"heatmapgl\":[{\"colorbar\":{\"outlinewidth\":0,\"ticks\":\"\"},\"colorscale\":[[0.0,\"#0d0887\"],[0.1111111111111111,\"#46039f\"],[0.2222222222222222,\"#7201a8\"],[0.3333333333333333,\"#9c179e\"],[0.4444444444444444,\"#bd3786\"],[0.5555555555555556,\"#d8576b\"],[0.6666666666666666,\"#ed7953\"],[0.7777777777777778,\"#fb9f3a\"],[0.8888888888888888,\"#fdca26\"],[1.0,\"#f0f921\"]],\"type\":\"heatmapgl\"}],\"histogram\":[{\"marker\":{\"pattern\":{\"fillmode\":\"overlay\",\"size\":10,\"solidity\":0.2}},\"type\":\"histogram\"}],\"histogram2d\":[{\"colorbar\":{\"outlinewidth\":0,\"ticks\":\"\"},\"colorscale\":[[0.0,\"#0d0887\"],[0.1111111111111111,\"#46039f\"],[0.2222222222222222,\"#7201a8\"],[0.3333333333333333,\"#9c179e\"],[0.4444444444444444,\"#bd3786\"],[0.5555555555555556,\"#d8576b\"],[0.6666666666666666,\"#ed7953\"],[0.7777777777777778,\"#fb9f3a\"],[0.8888888888888888,\"#fdca26\"],[1.0,\"#f0f921\"]],\"type\":\"histogram2d\"}],\"histogram2dcontour\":[{\"colorbar\":{\"outlinewidth\":0,\"ticks\":\"\"},\"colorscale\":[[0.0,\"#0d0887\"],[0.1111111111111111,\"#46039f\"],[0.2222222222222222,\"#7201a8\"],[0.3333333333333333,\"#9c179e\"],[0.4444444444444444,\"#bd3786\"],[0.5555555555555556,\"#d8576b\"],[0.6666666666666666,\"#ed7953\"],[0.7777777777777778,\"#fb9f3a\"],[0.8888888888888888,\"#fdca26\"],[1.0,\"#f0f921\"]],\"type\":\"histogram2dcontour\"}],\"mesh3d\":[{\"colorbar\":{\"outlinewidth\":0,\"ticks\":\"\"},\"type\":\"mesh3d\"}],\"parcoords\":[{\"line\":{\"colorbar\":{\"outlinewidth\":0,\"ticks\":\"\"}},\"type\":\"parcoords\"}],\"pie\":[{\"automargin\":true,\"type\":\"pie\"}],\"scatter\":[{\"marker\":{\"colorbar\":{\"outlinewidth\":0,\"ticks\":\"\"}},\"type\":\"scatter\"}],\"scatter3d\":[{\"line\":{\"colorbar\":{\"outlinewidth\":0,\"ticks\":\"\"}},\"marker\":{\"colorbar\":{\"outlinewidth\":0,\"ticks\":\"\"}},\"type\":\"scatter3d\"}],\"scattercarpet\":[{\"marker\":{\"colorbar\":{\"outlinewidth\":0,\"ticks\":\"\"}},\"type\":\"scattercarpet\"}],\"scattergeo\":[{\"marker\":{\"colorbar\":{\"outlinewidth\":0,\"ticks\":\"\"}},\"type\":\"scattergeo\"}],\"scattergl\":[{\"marker\":{\"colorbar\":{\"outlinewidth\":0,\"ticks\":\"\"}},\"type\":\"scattergl\"}],\"scattermapbox\":[{\"marker\":{\"colorbar\":{\"outlinewidth\":0,\"ticks\":\"\"}},\"type\":\"scattermapbox\"}],\"scatterpolar\":[{\"marker\":{\"colorbar\":{\"outlinewidth\":0,\"ticks\":\"\"}},\"type\":\"scatterpolar\"}],\"scatterpolargl\":[{\"marker\":{\"colorbar\":{\"outlinewidth\":0,\"ticks\":\"\"}},\"type\":\"scatterpolargl\"}],\"scatterternary\":[{\"marker\":{\"colorbar\":{\"outlinewidth\":0,\"ticks\":\"\"}},\"type\":\"scatterternary\"}],\"surface\":[{\"colorbar\":{\"outlinewidth\":0,\"ticks\":\"\"},\"colorscale\":[[0.0,\"#0d0887\"],[0.1111111111111111,\"#46039f\"],[0.2222222222222222,\"#7201a8\"],[0.3333333333333333,\"#9c179e\"],[0.4444444444444444,\"#bd3786\"],[0.5555555555555556,\"#d8576b\"],[0.6666666666666666,\"#ed7953\"],[0.7777777777777778,\"#fb9f3a\"],[0.8888888888888888,\"#fdca26\"],[1.0,\"#f0f921\"]],\"type\":\"surface\"}],\"table\":[{\"cells\":{\"fill\":{\"color\":\"#EBF0F8\"},\"line\":{\"color\":\"white\"}},\"header\":{\"fill\":{\"color\":\"#C8D4E3\"},\"line\":{\"color\":\"white\"}},\"type\":\"table\"}]},\"layout\":{\"annotationdefaults\":{\"arrowcolor\":\"#2a3f5f\",\"arrowhead\":0,\"arrowwidth\":1},\"autotypenumbers\":\"strict\",\"coloraxis\":{\"colorbar\":{\"outlinewidth\":0,\"ticks\":\"\"}},\"colorscale\":{\"diverging\":[[0,\"#8e0152\"],[0.1,\"#c51b7d\"],[0.2,\"#de77ae\"],[0.3,\"#f1b6da\"],[0.4,\"#fde0ef\"],[0.5,\"#f7f7f7\"],[0.6,\"#e6f5d0\"],[0.7,\"#b8e186\"],[0.8,\"#7fbc41\"],[0.9,\"#4d9221\"],[1,\"#276419\"]],\"sequential\":[[0.0,\"#0d0887\"],[0.1111111111111111,\"#46039f\"],[0.2222222222222222,\"#7201a8\"],[0.3333333333333333,\"#9c179e\"],[0.4444444444444444,\"#bd3786\"],[0.5555555555555556,\"#d8576b\"],[0.6666666666666666,\"#ed7953\"],[0.7777777777777778,\"#fb9f3a\"],[0.8888888888888888,\"#fdca26\"],[1.0,\"#f0f921\"]],\"sequentialminus\":[[0.0,\"#0d0887\"],[0.1111111111111111,\"#46039f\"],[0.2222222222222222,\"#7201a8\"],[0.3333333333333333,\"#9c179e\"],[0.4444444444444444,\"#bd3786\"],[0.5555555555555556,\"#d8576b\"],[0.6666666666666666,\"#ed7953\"],[0.7777777777777778,\"#fb9f3a\"],[0.8888888888888888,\"#fdca26\"],[1.0,\"#f0f921\"]]},\"colorway\":[\"#636efa\",\"#EF553B\",\"#00cc96\",\"#ab63fa\",\"#FFA15A\",\"#19d3f3\",\"#FF6692\",\"#B6E880\",\"#FF97FF\",\"#FECB52\"],\"font\":{\"color\":\"#2a3f5f\"},\"geo\":{\"bgcolor\":\"white\",\"lakecolor\":\"white\",\"landcolor\":\"#E5ECF6\",\"showlakes\":true,\"showland\":true,\"subunitcolor\":\"white\"},\"hoverlabel\":{\"align\":\"left\"},\"hovermode\":\"closest\",\"mapbox\":{\"style\":\"light\"},\"paper_bgcolor\":\"white\",\"plot_bgcolor\":\"#E5ECF6\",\"polar\":{\"angularaxis\":{\"gridcolor\":\"white\",\"linecolor\":\"white\",\"ticks\":\"\"},\"bgcolor\":\"#E5ECF6\",\"radialaxis\":{\"gridcolor\":\"white\",\"linecolor\":\"white\",\"ticks\":\"\"}},\"scene\":{\"xaxis\":{\"backgroundcolor\":\"#E5ECF6\",\"gridcolor\":\"white\",\"gridwidth\":2,\"linecolor\":\"white\",\"showbackground\":true,\"ticks\":\"\",\"zerolinecolor\":\"white\"},\"yaxis\":{\"backgroundcolor\":\"#E5ECF6\",\"gridcolor\":\"white\",\"gridwidth\":2,\"linecolor\":\"white\",\"showbackground\":true,\"ticks\":\"\",\"zerolinecolor\":\"white\"},\"zaxis\":{\"backgroundcolor\":\"#E5ECF6\",\"gridcolor\":\"white\",\"gridwidth\":2,\"linecolor\":\"white\",\"showbackground\":true,\"ticks\":\"\",\"zerolinecolor\":\"white\"}},\"shapedefaults\":{\"line\":{\"color\":\"#2a3f5f\"}},\"ternary\":{\"aaxis\":{\"gridcolor\":\"white\",\"linecolor\":\"white\",\"ticks\":\"\"},\"baxis\":{\"gridcolor\":\"white\",\"linecolor\":\"white\",\"ticks\":\"\"},\"bgcolor\":\"#E5ECF6\",\"caxis\":{\"gridcolor\":\"white\",\"linecolor\":\"white\",\"ticks\":\"\"}},\"title\":{\"x\":0.05},\"xaxis\":{\"automargin\":true,\"gridcolor\":\"white\",\"linecolor\":\"white\",\"ticks\":\"\",\"title\":{\"standoff\":15},\"zerolinecolor\":\"white\",\"zerolinewidth\":2},\"yaxis\":{\"automargin\":true,\"gridcolor\":\"white\",\"linecolor\":\"white\",\"ticks\":\"\",\"title\":{\"standoff\":15},\"zerolinecolor\":\"white\",\"zerolinewidth\":2}}}},                        {\"responsive\": true}                    ).then(function(){\n",
       "                            \n",
       "var gd = document.getElementById('2b97e4a5-e6f9-4012-b879-2f3d58ad5cbe');\n",
       "var x = new MutationObserver(function (mutations, observer) {{\n",
       "        var display = window.getComputedStyle(gd).display;\n",
       "        if (!display || display === 'none') {{\n",
       "            console.log([gd, 'removed!']);\n",
       "            Plotly.purge(gd);\n",
       "            observer.disconnect();\n",
       "        }}\n",
       "}});\n",
       "\n",
       "// Listen for the removal of the full notebook cells\n",
       "var notebookContainer = gd.closest('#notebook-container');\n",
       "if (notebookContainer) {{\n",
       "    x.observe(notebookContainer, {childList: true});\n",
       "}}\n",
       "\n",
       "// Listen for the clearing of the current output cell\n",
       "var outputEl = gd.closest('.output');\n",
       "if (outputEl) {{\n",
       "    x.observe(outputEl, {childList: true});\n",
       "}}\n",
       "\n",
       "                        })                };                });            </script>        </div>"
      ]
     },
     "metadata": {},
     "output_type": "display_data"
    },
    {
     "data": {
      "text/plain": [
       "(None, None, None)"
      ]
     },
     "execution_count": 447,
     "metadata": {},
     "output_type": "execute_result"
    }
   ],
   "source": [
    "table\n",
    "REV.show(), MOM.show(), YOY.show()"
   ]
  },
  {
   "cell_type": "code",
   "execution_count": 443,
   "id": "fd042f43",
   "metadata": {},
   "outputs": [],
   "source": [
    "def get_wet_reg(data):\n",
    "    if data.shape[0] < 5 :\n",
    "        return []\n",
    "    data = data.tail(5)\n",
    "    sample_weight = [1, 1, 2, 3, 5]\n",
    "\n",
    "    gpm = LinearRegression()\n",
    "    gpm.fit(np.array(data['營業收入淨額']).reshape(-1, 1), np.array(data['營業毛利']), sample_weight)\n",
    "    gpm_intercept = round(gpm.intercept_, 2)\n",
    "    gpm_coef = gpm.coef_[0]\n",
    "\n",
    "    opm = LinearRegression()\n",
    "    opm.fit(np.array(data['營業收入淨額']).reshape(-1, 1), np.array(data['營業利益']), sample_weight)\n",
    "    opm_intercept = round(opm.intercept_, 2)\n",
    "    opm_coef = opm.coef_[0]\n",
    "    return [gpm_intercept, round(gpm_coef, 2), opm_intercept, round(opm_coef, 2)]\n",
    "\n",
    "\n",
    "def forecast_income_statement(data):\n",
    "    data = data.tail(6)\n",
    "    data = data.loc[:, ['代號', '名稱', '年/月', '營業收入淨額q', 'est_cost', 'est_gmp', 'est_expense', 'other_expense',\n",
    "                    'est_opm', 'non_operating_pnl', 'ebit', 'tax_expense', 'controless_pnl','net_income_margin', \n",
    "                    '加權平均股數', 'eps_est']]\n",
    "    data = data.rename({'est_cost':'營業成本', 'est_gmp':'營業毛利', 'est_expense':'營業費用',\n",
    "                            'other_expense':'其他收益及費損淨額', 'est_opm':'營業利益', \n",
    "                            'non_operating_pnl':'營業外收入及支出', 'ebit':'稅前淨利', 'tax_expense':'所得稅費用', \n",
    "                            'controless_pnl':'歸屬非控制權益淨利（損）', 'net_income_margin':'稅後淨利', \n",
    "                            'eps_est':'每股盈餘'}, axis=1).reset_index(drop=True)\n",
    "    return data\n",
    "\n",
    "def weighted_forecast_estimation(forecast_data, forecast_df):\n",
    "    t = forecast_data.rolling(5)\n",
    "    WLS = pd.DataFrame((map(get_wet_reg,t))).set_axis(['gpm_fixed_cost', 'gpm_variable_cost', \n",
    "                                                       'opm_fixed_cost', 'opm_variable_cost'], axis=1)\n",
    "    WLS\n",
    "    forecast_data = pd.concat([forecast_data.reset_index(drop=True), WLS], axis=1)\n",
    "    result = pd.merge(forecast_df, forecast_data, how='outer').sort_values('年/月')\n",
    "\n",
    "    result['other_expense'] = trimmean(result['其他收益及費損淨額'])\n",
    "    result['non_operating_pnl'] = trimmean(result['營業外收入及支出'])\n",
    "    result['tax'] = 0.8\n",
    "    result['controless_pnl'] = trimmean(result['歸屬非控制權益淨利（損）'])\n",
    "\n",
    "    # estimate forecasting data\n",
    "    result = pd.concat([result.loc[:, ['代號', '名稱', '年/月', '營業收入淨額q', '營業收入淨額', '營業成本', '營業毛利', \n",
    "                                       '營業費用','其他收益及費損淨額', '營業利益', '營業外收入及支出', '稅前淨利', \n",
    "                                       '所得稅費用', '歸屬非控制權益淨利（損）', '稅後淨利est','加權平均股數', '每股盈餘']].shift(-1), \n",
    "                        result.loc[:, ['gpm_fixed_cost', 'gpm_variable_cost', 'opm_fixed_cost', 'opm_variable_cost',\n",
    "                                       'other_expense', 'non_operating_pnl', 'tax', 'controless_pnl']]], axis=1)\n",
    "    result['代號'] = result['代號'].fillna(method='ffill')\n",
    "    result['名稱'] = result['名稱'].fillna(method='ffill')\n",
    "    result['加權平均股數'] = result['加權平均股數'].fillna(method='ffill')\n",
    "    result = result[result['加權平均股數'] > 0]\n",
    "    result['營業收入淨額q'] = result['營業收入淨額q'].astype(float)\n",
    "    result['est_cost'] = result['營業收入淨額q'] - (result['營業收入淨額q']*result.gpm_variable_cost + result.gpm_fixed_cost)\n",
    "    result['est_gmp'] = result['營業收入淨額q']*result.gpm_variable_cost + result.gpm_fixed_cost\n",
    "\n",
    "    result['est_expense'] = result['est_gmp'] - (result['營業收入淨額q']*result.opm_variable_cost + result.opm_fixed_cost)\n",
    "    result['est_opm'] = result.est_gmp - result.est_expense\n",
    "\n",
    "    result['ebit'] = result['est_opm'] + result['other_expense'] + result['non_operating_pnl']\n",
    "    result['tax_expense'] = result['ebit']*0.2\n",
    "    result['net_income_margin'] = result['ebit']*0.8 - result['controless_pnl']\n",
    "    result['eps_est'] = round(result.net_income_margin*1000/ result['加權平均股數'], 2)\n",
    "    result = result[result['est_cost'].isna() == False]\n",
    "    result['年/月'].iloc[-1] = result['年/月'].iloc[-1] + ' 預估值'\n",
    "    return result\n",
    "\n",
    "\n",
    "def forecast_estimation(forecast_data, forecast_df):\n",
    "    # gross profit margin\n",
    "    model = RollingOLS.from_formula(\"營業毛利 ~ 營業收入淨額\", data=forecast_data, window=5)\n",
    "    gpm_reg = model.fit()\n",
    "    gpm_reg = round(gpm_reg.params.rename({'Intercept':'gpm_fixed_cost', '營業收入淨額':'gpm_variable_cost'}, axis=1), 2)\n",
    "\n",
    "    # operating profit margin\n",
    "    model = RollingOLS.from_formula(\"營業利益 ~ 營業收入淨額\", data=forecast_data, window=5)\n",
    "    opm_reg = model.fit()\n",
    "    opm_reg = round(opm_reg.params.rename({'Intercept':'opm_fixed_cost', '營業收入淨額':'opm_variable_cost'}, axis=1), 2)\n",
    "\n",
    "    result = pd.concat([forecast_data, gpm_reg], axis=1)\n",
    "    result = pd.concat([result, opm_reg], axis=1)\n",
    "\n",
    "    result = pd.merge(forecast_df, result, how='outer').sort_values('年/月')\n",
    "    result['other_expense'] = trimmean(result['其他收益及費損淨額'])\n",
    "    result['non_operating_pnl'] = trimmean(result['營業外收入及支出'])\n",
    "    result['tax'] = 0.8\n",
    "    result['controless_pnl'] = trimmean(result['歸屬非控制權益淨利（損）'])\n",
    "\n",
    "    # estimate forecasting data\n",
    "    result = pd.concat([result.loc[:, ['代號', '名稱', '年/月', '營業收入淨額q', '營業收入淨額', '營業成本', '營業毛利', \n",
    "                                       '營業費用','其他收益及費損淨額', '營業利益', '營業外收入及支出', '稅前淨利', \n",
    "                                       '所得稅費用', '歸屬非控制權益淨利（損）', '稅後淨利est', '加權平均股數','每股盈餘']].shift(-1), \n",
    "                        result.loc[:, ['gpm_fixed_cost', 'gpm_variable_cost', 'opm_fixed_cost', 'opm_variable_cost',\n",
    "                                       'other_expense', 'non_operating_pnl', 'tax', 'controless_pnl']]], axis=1)\n",
    "    result['代號'] = result['代號'].fillna(method='ffill')\n",
    "    result['名稱'] = result['名稱'].fillna(method='ffill')\n",
    "    result['加權平均股數'] = result['加權平均股數'].fillna(method='ffill')\n",
    "    result = result[result['加權平均股數'] > 0]\n",
    "    result['營業收入淨額q'] = result['營業收入淨額q'].astype(float)\n",
    "    result['est_cost'] = result['營業收入淨額q'] - (result['營業收入淨額q']*result.gpm_variable_cost + result.gpm_fixed_cost)\n",
    "    result['est_gmp'] = result['營業收入淨額q']*result.gpm_variable_cost + result.gpm_fixed_cost\n",
    "\n",
    "    result['est_expense'] = result['est_gmp'] - (result['營業收入淨額q']*result.opm_variable_cost + result.opm_fixed_cost)\n",
    "    result['est_opm'] = result.est_gmp - result.est_expense\n",
    "\n",
    "    result['ebit'] = result['est_opm'] + result['other_expense'] + result['non_operating_pnl']\n",
    "    result['tax_expense'] = result['ebit']*0.2\n",
    "    result['net_income_margin'] = result['ebit']*0.8 - result['controless_pnl']\n",
    "    result['eps_est'] = round(result.net_income_margin*1000/ result['加權平均股數'], 2)\n",
    "    result = result[result['est_cost'].isna() == False]\n",
    "    result['年/月'].iloc[-1] = result['年/月'].iloc[-1] + ' 預估值'\n",
    "    return result"
   ]
  },
  {
   "cell_type": "code",
   "execution_count": 74,
   "id": "1eaeb600",
   "metadata": {
    "collapsed": true
   },
   "outputs": [
    {
     "data": {
      "text/html": [
       "<div>\n",
       "<style scoped>\n",
       "    .dataframe tbody tr th:only-of-type {\n",
       "        vertical-align: middle;\n",
       "    }\n",
       "\n",
       "    .dataframe tbody tr th {\n",
       "        vertical-align: top;\n",
       "    }\n",
       "\n",
       "    .dataframe thead th {\n",
       "        text-align: right;\n",
       "    }\n",
       "</style>\n",
       "<table border=\"1\" class=\"dataframe\">\n",
       "  <thead>\n",
       "    <tr style=\"text-align: right;\">\n",
       "      <th></th>\n",
       "      <th>st_code</th>\n",
       "      <th>st_name</th>\n",
       "      <th>month</th>\n",
       "      <th>new_industry_name</th>\n",
       "      <th>minor_industry_name</th>\n",
       "    </tr>\n",
       "  </thead>\n",
       "  <tbody>\n",
       "    <tr>\n",
       "      <th>0</th>\n",
       "      <td>2801</td>\n",
       "      <td>彰銀</td>\n",
       "      <td>31</td>\n",
       "      <td>M2800 金融業</td>\n",
       "      <td>M28A 本國銀行</td>\n",
       "    </tr>\n",
       "    <tr>\n",
       "      <th>1</th>\n",
       "      <td>2809</td>\n",
       "      <td>京城銀</td>\n",
       "      <td>31</td>\n",
       "      <td>M2800 金融業</td>\n",
       "      <td>M28A 本國銀行</td>\n",
       "    </tr>\n",
       "    <tr>\n",
       "      <th>2</th>\n",
       "      <td>2812</td>\n",
       "      <td>台中銀</td>\n",
       "      <td>31</td>\n",
       "      <td>M2800 金融業</td>\n",
       "      <td>M28A 本國銀行</td>\n",
       "    </tr>\n",
       "    <tr>\n",
       "      <th>3</th>\n",
       "      <td>2816</td>\n",
       "      <td>旺旺保</td>\n",
       "      <td>31</td>\n",
       "      <td>M2800 金融業</td>\n",
       "      <td>M28J 產險業</td>\n",
       "    </tr>\n",
       "    <tr>\n",
       "      <th>4</th>\n",
       "      <td>2820</td>\n",
       "      <td>華票</td>\n",
       "      <td>31</td>\n",
       "      <td>M2800 金融業</td>\n",
       "      <td>M28F 票券公司</td>\n",
       "    </tr>\n",
       "    <tr>\n",
       "      <th>5</th>\n",
       "      <td>2832</td>\n",
       "      <td>台產</td>\n",
       "      <td>31</td>\n",
       "      <td>M2800 金融業</td>\n",
       "      <td>M28J 產險業</td>\n",
       "    </tr>\n",
       "    <tr>\n",
       "      <th>6</th>\n",
       "      <td>2834</td>\n",
       "      <td>臺企銀</td>\n",
       "      <td>31</td>\n",
       "      <td>M2800 金融業</td>\n",
       "      <td>M28A 本國銀行</td>\n",
       "    </tr>\n",
       "    <tr>\n",
       "      <th>7</th>\n",
       "      <td>2836</td>\n",
       "      <td>高雄銀</td>\n",
       "      <td>31</td>\n",
       "      <td>M2800 金融業</td>\n",
       "      <td>M28A 本國銀行</td>\n",
       "    </tr>\n",
       "    <tr>\n",
       "      <th>8</th>\n",
       "      <td>2838</td>\n",
       "      <td>聯邦銀</td>\n",
       "      <td>31</td>\n",
       "      <td>M2800 金融業</td>\n",
       "      <td>M28A 本國銀行</td>\n",
       "    </tr>\n",
       "    <tr>\n",
       "      <th>9</th>\n",
       "      <td>2845</td>\n",
       "      <td>遠東銀</td>\n",
       "      <td>31</td>\n",
       "      <td>M2800 金融業</td>\n",
       "      <td>M28A 本國銀行</td>\n",
       "    </tr>\n",
       "    <tr>\n",
       "      <th>10</th>\n",
       "      <td>2849</td>\n",
       "      <td>安泰銀</td>\n",
       "      <td>31</td>\n",
       "      <td>M2800 金融業</td>\n",
       "      <td>M28A 本國銀行</td>\n",
       "    </tr>\n",
       "    <tr>\n",
       "      <th>11</th>\n",
       "      <td>2850</td>\n",
       "      <td>新產</td>\n",
       "      <td>31</td>\n",
       "      <td>M2800 金融業</td>\n",
       "      <td>M28J 產險業</td>\n",
       "    </tr>\n",
       "    <tr>\n",
       "      <th>12</th>\n",
       "      <td>2851</td>\n",
       "      <td>中再保</td>\n",
       "      <td>31</td>\n",
       "      <td>M2800 金融業</td>\n",
       "      <td>M28J 產險業</td>\n",
       "    </tr>\n",
       "    <tr>\n",
       "      <th>13</th>\n",
       "      <td>2852</td>\n",
       "      <td>第一保</td>\n",
       "      <td>31</td>\n",
       "      <td>M2800 金融業</td>\n",
       "      <td>M28J 產險業</td>\n",
       "    </tr>\n",
       "    <tr>\n",
       "      <th>14</th>\n",
       "      <td>2855</td>\n",
       "      <td>統一證</td>\n",
       "      <td>31</td>\n",
       "      <td>M2800 金融業</td>\n",
       "      <td>M30A 證券</td>\n",
       "    </tr>\n",
       "    <tr>\n",
       "      <th>15</th>\n",
       "      <td>2867</td>\n",
       "      <td>三商壽</td>\n",
       "      <td>31</td>\n",
       "      <td>M2800 金融業</td>\n",
       "      <td>M28I 壽險業</td>\n",
       "    </tr>\n",
       "    <tr>\n",
       "      <th>16</th>\n",
       "      <td>2880</td>\n",
       "      <td>華南金</td>\n",
       "      <td>31</td>\n",
       "      <td>M2800 金融業</td>\n",
       "      <td>M28L 金融控股</td>\n",
       "    </tr>\n",
       "    <tr>\n",
       "      <th>17</th>\n",
       "      <td>2881</td>\n",
       "      <td>富邦金</td>\n",
       "      <td>31</td>\n",
       "      <td>M2800 金融業</td>\n",
       "      <td>M28L 金融控股</td>\n",
       "    </tr>\n",
       "    <tr>\n",
       "      <th>18</th>\n",
       "      <td>2882</td>\n",
       "      <td>國泰金</td>\n",
       "      <td>31</td>\n",
       "      <td>M2800 金融業</td>\n",
       "      <td>M28L 金融控股</td>\n",
       "    </tr>\n",
       "    <tr>\n",
       "      <th>19</th>\n",
       "      <td>2883</td>\n",
       "      <td>開發金</td>\n",
       "      <td>31</td>\n",
       "      <td>M2800 金融業</td>\n",
       "      <td>M28L 金融控股</td>\n",
       "    </tr>\n",
       "    <tr>\n",
       "      <th>20</th>\n",
       "      <td>2884</td>\n",
       "      <td>玉山金</td>\n",
       "      <td>31</td>\n",
       "      <td>M2800 金融業</td>\n",
       "      <td>M28L 金融控股</td>\n",
       "    </tr>\n",
       "    <tr>\n",
       "      <th>21</th>\n",
       "      <td>2885</td>\n",
       "      <td>元大金</td>\n",
       "      <td>31</td>\n",
       "      <td>M2800 金融業</td>\n",
       "      <td>M28L 金融控股</td>\n",
       "    </tr>\n",
       "    <tr>\n",
       "      <th>22</th>\n",
       "      <td>2886</td>\n",
       "      <td>兆豐金</td>\n",
       "      <td>31</td>\n",
       "      <td>M2800 金融業</td>\n",
       "      <td>M28L 金融控股</td>\n",
       "    </tr>\n",
       "    <tr>\n",
       "      <th>23</th>\n",
       "      <td>2887</td>\n",
       "      <td>台新金</td>\n",
       "      <td>31</td>\n",
       "      <td>M2800 金融業</td>\n",
       "      <td>M28L 金融控股</td>\n",
       "    </tr>\n",
       "    <tr>\n",
       "      <th>24</th>\n",
       "      <td>2888</td>\n",
       "      <td>新光金</td>\n",
       "      <td>31</td>\n",
       "      <td>M2800 金融業</td>\n",
       "      <td>M28L 金融控股</td>\n",
       "    </tr>\n",
       "    <tr>\n",
       "      <th>25</th>\n",
       "      <td>2889</td>\n",
       "      <td>國票金</td>\n",
       "      <td>31</td>\n",
       "      <td>M2800 金融業</td>\n",
       "      <td>M28L 金融控股</td>\n",
       "    </tr>\n",
       "    <tr>\n",
       "      <th>26</th>\n",
       "      <td>2890</td>\n",
       "      <td>永豐金</td>\n",
       "      <td>31</td>\n",
       "      <td>M2800 金融業</td>\n",
       "      <td>M28L 金融控股</td>\n",
       "    </tr>\n",
       "    <tr>\n",
       "      <th>27</th>\n",
       "      <td>2891</td>\n",
       "      <td>中信金</td>\n",
       "      <td>31</td>\n",
       "      <td>M2800 金融業</td>\n",
       "      <td>M28L 金融控股</td>\n",
       "    </tr>\n",
       "    <tr>\n",
       "      <th>28</th>\n",
       "      <td>2892</td>\n",
       "      <td>第一金</td>\n",
       "      <td>31</td>\n",
       "      <td>M2800 金融業</td>\n",
       "      <td>M28L 金融控股</td>\n",
       "    </tr>\n",
       "    <tr>\n",
       "      <th>29</th>\n",
       "      <td>2897</td>\n",
       "      <td>王道銀行</td>\n",
       "      <td>30</td>\n",
       "      <td>M2800 金融業</td>\n",
       "      <td>M28A 本國銀行</td>\n",
       "    </tr>\n",
       "    <tr>\n",
       "      <th>30</th>\n",
       "      <td>5864</td>\n",
       "      <td>致和證</td>\n",
       "      <td>28</td>\n",
       "      <td>M2800 金融業</td>\n",
       "      <td>M30A 證券</td>\n",
       "    </tr>\n",
       "    <tr>\n",
       "      <th>31</th>\n",
       "      <td>5876</td>\n",
       "      <td>上海商銀</td>\n",
       "      <td>27</td>\n",
       "      <td>M2800 金融業</td>\n",
       "      <td>M28A 本國銀行</td>\n",
       "    </tr>\n",
       "    <tr>\n",
       "      <th>32</th>\n",
       "      <td>5880</td>\n",
       "      <td>合庫金</td>\n",
       "      <td>31</td>\n",
       "      <td>M2800 金融業</td>\n",
       "      <td>M28L 金融控股</td>\n",
       "    </tr>\n",
       "    <tr>\n",
       "      <th>33</th>\n",
       "      <td>6005</td>\n",
       "      <td>群益證</td>\n",
       "      <td>31</td>\n",
       "      <td>M2800 金融業</td>\n",
       "      <td>M30A 證券</td>\n",
       "    </tr>\n",
       "    <tr>\n",
       "      <th>34</th>\n",
       "      <td>6015</td>\n",
       "      <td>宏遠證</td>\n",
       "      <td>31</td>\n",
       "      <td>M2800 金融業</td>\n",
       "      <td>M30A 證券</td>\n",
       "    </tr>\n",
       "    <tr>\n",
       "      <th>35</th>\n",
       "      <td>6016</td>\n",
       "      <td>康和證</td>\n",
       "      <td>31</td>\n",
       "      <td>M2800 金融業</td>\n",
       "      <td>M30A 證券</td>\n",
       "    </tr>\n",
       "    <tr>\n",
       "      <th>36</th>\n",
       "      <td>6020</td>\n",
       "      <td>大展證</td>\n",
       "      <td>31</td>\n",
       "      <td>M2800 金融業</td>\n",
       "      <td>M30A 證券</td>\n",
       "    </tr>\n",
       "    <tr>\n",
       "      <th>37</th>\n",
       "      <td>6023</td>\n",
       "      <td>元大期</td>\n",
       "      <td>31</td>\n",
       "      <td>M2800 金融業</td>\n",
       "      <td>M30C 期貨</td>\n",
       "    </tr>\n",
       "    <tr>\n",
       "      <th>38</th>\n",
       "      <td>6024</td>\n",
       "      <td>群益期</td>\n",
       "      <td>31</td>\n",
       "      <td>M2800 金融業</td>\n",
       "      <td>M30C 期貨</td>\n",
       "    </tr>\n",
       "    <tr>\n",
       "      <th>39</th>\n",
       "      <td>6026</td>\n",
       "      <td>福邦證</td>\n",
       "      <td>31</td>\n",
       "      <td>M2800 金融業</td>\n",
       "      <td>M30A 證券</td>\n",
       "    </tr>\n",
       "  </tbody>\n",
       "</table>\n",
       "</div>"
      ],
      "text/plain": [
       "   st_code st_name  month new_industry_name minor_industry_name\n",
       "0     2801      彰銀     31         M2800 金融業           M28A 本國銀行\n",
       "1     2809     京城銀     31         M2800 金融業           M28A 本國銀行\n",
       "2     2812     台中銀     31         M2800 金融業           M28A 本國銀行\n",
       "3     2816     旺旺保     31         M2800 金融業            M28J 產險業\n",
       "4     2820      華票     31         M2800 金融業           M28F 票券公司\n",
       "5     2832      台產     31         M2800 金融業            M28J 產險業\n",
       "6     2834     臺企銀     31         M2800 金融業           M28A 本國銀行\n",
       "7     2836     高雄銀     31         M2800 金融業           M28A 本國銀行\n",
       "8     2838     聯邦銀     31         M2800 金融業           M28A 本國銀行\n",
       "9     2845     遠東銀     31         M2800 金融業           M28A 本國銀行\n",
       "10    2849     安泰銀     31         M2800 金融業           M28A 本國銀行\n",
       "11    2850      新產     31         M2800 金融業            M28J 產險業\n",
       "12    2851     中再保     31         M2800 金融業            M28J 產險業\n",
       "13    2852     第一保     31         M2800 金融業            M28J 產險業\n",
       "14    2855     統一證     31         M2800 金融業             M30A 證券\n",
       "15    2867     三商壽     31         M2800 金融業            M28I 壽險業\n",
       "16    2880     華南金     31         M2800 金融業           M28L 金融控股\n",
       "17    2881     富邦金     31         M2800 金融業           M28L 金融控股\n",
       "18    2882     國泰金     31         M2800 金融業           M28L 金融控股\n",
       "19    2883     開發金     31         M2800 金融業           M28L 金融控股\n",
       "20    2884     玉山金     31         M2800 金融業           M28L 金融控股\n",
       "21    2885     元大金     31         M2800 金融業           M28L 金融控股\n",
       "22    2886     兆豐金     31         M2800 金融業           M28L 金融控股\n",
       "23    2887     台新金     31         M2800 金融業           M28L 金融控股\n",
       "24    2888     新光金     31         M2800 金融業           M28L 金融控股\n",
       "25    2889     國票金     31         M2800 金融業           M28L 金融控股\n",
       "26    2890     永豐金     31         M2800 金融業           M28L 金融控股\n",
       "27    2891     中信金     31         M2800 金融業           M28L 金融控股\n",
       "28    2892     第一金     31         M2800 金融業           M28L 金融控股\n",
       "29    2897    王道銀行     30         M2800 金融業           M28A 本國銀行\n",
       "30    5864     致和證     28         M2800 金融業             M30A 證券\n",
       "31    5876    上海商銀     27         M2800 金融業           M28A 本國銀行\n",
       "32    5880     合庫金     31         M2800 金融業           M28L 金融控股\n",
       "33    6005     群益證     31         M2800 金融業             M30A 證券\n",
       "34    6015     宏遠證     31         M2800 金融業             M30A 證券\n",
       "35    6016     康和證     31         M2800 金融業             M30A 證券\n",
       "36    6020     大展證     31         M2800 金融業             M30A 證券\n",
       "37    6023     元大期     31         M2800 金融業             M30C 期貨\n",
       "38    6024     群益期     31         M2800 金融業             M30C 期貨\n",
       "39    6026     福邦證     31         M2800 金融業             M30A 證券"
      ]
     },
     "execution_count": 74,
     "metadata": {},
     "output_type": "execute_result"
    }
   ],
   "source": [
    "\"\"\"\n",
    "資料有缺漏的個股\n",
    "\"\"\"\n",
    "data = df[df['財報年月起日'].isna() != True]\n",
    "data[data.cost.isna() == True].groupby(['period'], as_index=False).agg({'month':'count'})\n",
    "\n",
    "stock_info = pd.read_csv('stock_info.csv')\n",
    "stock_info.st_code = stock_info.st_code.astype(str)\n",
    "pd.merge(data[data.cost.isna() == True].groupby(['st_code', 'st_name'], as_index=False).agg({'month':'count'}), \n",
    "         stock_info, on=['st_code', 'st_name'], how='inner')"
   ]
  },
  {
   "cell_type": "code",
   "execution_count": 279,
   "id": "a2825498",
   "metadata": {},
   "outputs": [],
   "source": [
    "df = pd.read_excel('tej_eps.xlsx')\n",
    "df = df.set_axis(['st_code', 'st_name', 'period', 'quarter', 'month', 'Q/H(Half year)', 'declaration_date', \n",
    "                  '財報年月起日','財報年月迄日', 'rev', 'cost', 'margin', 'expense', 'other_pnl', '營業利益',\n",
    "                  'non_operating', 'ebit', 'tax_exp', 'OCI', 'ttl_comp_income', 'eps'], axis=1)\n",
    "# stock_outstanding = pd.read_excel('/Users/yuchun/Downloads/在外流通率.xlsx')\n",
    "# stock_outstanding = stock_outstanding.rename({'代號':'st_code', '名稱':'st_name', '年月':'period', '流通在外股數(千股)':'outstanding_stock'}, axis=1)\n",
    "# df.loc[:['rev', 'cost', 'margin', 'expense', 'other_pnl', '營業利益','non_operating', 'ebit', 'tax_exp', 'OCI', 'ttl_comp_income', 'eps'])\n",
    "# df['expense%'] = round(df.expense / df.rev, 3)\n",
    "# df['outstanding_stock'] = round(df.ttl_comp_income/df.eps)\n",
    "# data = df[(df.margin.isna() != True) & (df.st_code =='1101')]\n",
    "# data\n",
    "# pd.merge(data, stock_outstanding, on=['st_code','st_name', 'period'], how='inner')\n"
   ]
  },
  {
   "cell_type": "code",
   "execution_count": 495,
   "id": "540c5990",
   "metadata": {
    "collapsed": true
   },
   "outputs": [
    {
     "name": "stdout",
     "output_type": "stream",
     "text": [
      "2023-02-13 09:22:03,101 INFO sqlalchemy.engine.Engine select relname from pg_class c join pg_namespace n on n.oid=c.relnamespace where pg_catalog.pg_table_is_visible(c.oid) and relname=%(name)s\n",
      "2023-02-13 09:22:03,102 INFO sqlalchemy.engine.Engine [cached since 25.58s ago] {'name': 'tej_revenue'}\n",
      "2023-02-13 09:22:03,866 INFO sqlalchemy.engine.Engine SELECT c.relname FROM pg_class c JOIN pg_namespace n ON n.oid = c.relnamespace WHERE n.nspname = %(schema)s AND c.relkind in ('r', 'p')\n",
      "2023-02-13 09:22:03,866 INFO sqlalchemy.engine.Engine [cached since 25.7s ago] {'schema': 'public'}\n",
      "2023-02-13 09:22:04,467 INFO sqlalchemy.engine.Engine \n",
      "            SELECT c.oid\n",
      "            FROM pg_catalog.pg_class c\n",
      "            LEFT JOIN pg_catalog.pg_namespace n ON n.oid = c.relnamespace\n",
      "            WHERE (pg_catalog.pg_table_is_visible(c.oid))\n",
      "            AND c.relname = %(table_name)s AND c.relkind in\n",
      "            ('r', 'v', 'm', 'f', 'p')\n",
      "        \n",
      "2023-02-13 09:22:04,468 INFO sqlalchemy.engine.Engine [cached since 25.89s ago] {'table_name': 'tej_revenue'}\n",
      "2023-02-13 09:22:04,778 INFO sqlalchemy.engine.Engine \n",
      "            SELECT a.attname,\n",
      "              pg_catalog.format_type(a.atttypid, a.atttypmod),\n",
      "              (\n",
      "                SELECT pg_catalog.pg_get_expr(d.adbin, d.adrelid)\n",
      "                FROM pg_catalog.pg_attrdef d\n",
      "                WHERE d.adrelid = a.attrelid AND d.adnum = a.attnum\n",
      "                AND a.atthasdef\n",
      "              ) AS DEFAULT,\n",
      "              a.attnotnull,\n",
      "              a.attrelid as table_oid,\n",
      "              pgd.description as comment,\n",
      "              a.attgenerated as generated,\n",
      "                              (SELECT json_build_object(\n",
      "                    'always', a.attidentity = 'a',\n",
      "                    'start', s.seqstart,\n",
      "                    'increment', s.seqincrement,\n",
      "                    'minvalue', s.seqmin,\n",
      "                    'maxvalue', s.seqmax,\n",
      "                    'cache', s.seqcache,\n",
      "                    'cycle', s.seqcycle)\n",
      "                FROM pg_catalog.pg_sequence s\n",
      "                JOIN pg_catalog.pg_class c on s.seqrelid = c.\"oid\"\n",
      "                WHERE c.relkind = 'S'\n",
      "                AND a.attidentity != ''\n",
      "                AND s.seqrelid = pg_catalog.pg_get_serial_sequence(\n",
      "                    a.attrelid::regclass::text, a.attname\n",
      "                )::regclass::oid\n",
      "                ) as identity_options                \n",
      "            FROM pg_catalog.pg_attribute a\n",
      "            LEFT JOIN pg_catalog.pg_description pgd ON (\n",
      "                pgd.objoid = a.attrelid AND pgd.objsubid = a.attnum)\n",
      "            WHERE a.attrelid = %(table_oid)s\n",
      "            AND a.attnum > 0 AND NOT a.attisdropped\n",
      "            ORDER BY a.attnum\n",
      "        \n",
      "2023-02-13 09:22:04,780 INFO sqlalchemy.engine.Engine [cached since 25.99s ago] {'table_oid': 16512}\n",
      "2023-02-13 09:22:05,082 INFO sqlalchemy.engine.Engine \n",
      "            SELECT t.typname as \"name\",\n",
      "               pg_catalog.format_type(t.typbasetype, t.typtypmod) as \"attype\",\n",
      "               not t.typnotnull as \"nullable\",\n",
      "               t.typdefault as \"default\",\n",
      "               pg_catalog.pg_type_is_visible(t.oid) as \"visible\",\n",
      "               n.nspname as \"schema\"\n",
      "            FROM pg_catalog.pg_type t\n",
      "               LEFT JOIN pg_catalog.pg_namespace n ON n.oid = t.typnamespace\n",
      "            WHERE t.typtype = 'd'\n",
      "        \n",
      "2023-02-13 09:22:05,084 INFO sqlalchemy.engine.Engine [cached since 26.08s ago] {}\n",
      "2023-02-13 09:22:05,301 INFO sqlalchemy.engine.Engine \n",
      "            SELECT t.typname as \"name\",\n",
      "               -- no enum defaults in 8.4 at least\n",
      "               -- t.typdefault as \"default\",\n",
      "               pg_catalog.pg_type_is_visible(t.oid) as \"visible\",\n",
      "               n.nspname as \"schema\",\n",
      "               e.enumlabel as \"label\"\n",
      "            FROM pg_catalog.pg_type t\n",
      "                 LEFT JOIN pg_catalog.pg_namespace n ON n.oid = t.typnamespace\n",
      "                 LEFT JOIN pg_catalog.pg_enum e ON t.oid = e.enumtypid\n",
      "            WHERE t.typtype = 'e'\n",
      "        ORDER BY \"schema\", \"name\", e.oid\n",
      "2023-02-13 09:22:05,302 INFO sqlalchemy.engine.Engine [cached since 26.1s ago] {}\n",
      "2023-02-13 09:22:05,516 INFO sqlalchemy.engine.Engine \n",
      "                SELECT a.attname\n",
      "                FROM pg_attribute a JOIN (\n",
      "                    SELECT unnest(ix.indkey) attnum,\n",
      "                           generate_subscripts(ix.indkey, 1) ord\n",
      "                    FROM pg_index ix\n",
      "                    WHERE ix.indrelid = %(table_oid)s AND ix.indisprimary\n",
      "                    ) k ON a.attnum=k.attnum\n",
      "                WHERE a.attrelid = %(table_oid)s\n",
      "                ORDER BY k.ord\n",
      "            \n",
      "2023-02-13 09:22:05,517 INFO sqlalchemy.engine.Engine [cached since 26.1s ago] {'table_oid': 16512}\n",
      "2023-02-13 09:22:05,719 INFO sqlalchemy.engine.Engine \n",
      "        SELECT conname\n",
      "           FROM  pg_catalog.pg_constraint r\n",
      "           WHERE r.conrelid = %(table_oid)s AND r.contype = 'p'\n",
      "           ORDER BY 1\n",
      "        \n",
      "2023-02-13 09:22:05,720 INFO sqlalchemy.engine.Engine [cached since 26.1s ago] {'table_oid': 16512}\n",
      "2023-02-13 09:22:05,922 INFO sqlalchemy.engine.Engine \n",
      "          SELECT r.conname,\n",
      "                pg_catalog.pg_get_constraintdef(r.oid, true) as condef,\n",
      "                n.nspname as conschema\n",
      "          FROM  pg_catalog.pg_constraint r,\n",
      "                pg_namespace n,\n",
      "                pg_class c\n",
      "\n",
      "          WHERE r.conrelid = %(table)s AND\n",
      "                r.contype = 'f' AND\n",
      "                c.oid = confrelid AND\n",
      "                n.oid = c.relnamespace\n",
      "          ORDER BY 1\n",
      "        \n",
      "2023-02-13 09:22:05,924 INFO sqlalchemy.engine.Engine [cached since 26.1s ago] {'table': 16512}\n",
      "2023-02-13 09:22:06,128 INFO sqlalchemy.engine.Engine \n",
      "              SELECT\n",
      "                  i.relname as relname,\n",
      "                  ix.indisunique, ix.indexprs,\n",
      "                  a.attname, a.attnum, c.conrelid, ix.indkey::varchar,\n",
      "                  ix.indoption::varchar, i.reloptions, am.amname,\n",
      "                  pg_get_expr(ix.indpred, ix.indrelid),\n",
      "                  ix.indnkeyatts as indnkeyatts\n",
      "              FROM\n",
      "                  pg_class t\n",
      "                        join pg_index ix on t.oid = ix.indrelid\n",
      "                        join pg_class i on i.oid = ix.indexrelid\n",
      "                        left outer join\n",
      "                            pg_attribute a\n",
      "                            on t.oid = a.attrelid and a.attnum = ANY(ix.indkey)\n",
      "                        left outer join\n",
      "                            pg_constraint c\n",
      "                            on (ix.indrelid = c.conrelid and\n",
      "                                ix.indexrelid = c.conindid and\n",
      "                                c.contype in ('p', 'u', 'x'))\n",
      "                        left outer join\n",
      "                            pg_am am\n",
      "                            on i.relam = am.oid\n",
      "              WHERE\n",
      "                  t.relkind IN ('r', 'v', 'f', 'm', 'p')\n",
      "                  and t.oid = %(table_oid)s\n",
      "                  and ix.indisprimary = 'f'\n",
      "              ORDER BY\n",
      "                  t.relname,\n",
      "                  i.relname\n",
      "            \n",
      "2023-02-13 09:22:06,129 INFO sqlalchemy.engine.Engine [cached since 26.1s ago] {'table_oid': 16512}\n",
      "2023-02-13 09:22:06,402 INFO sqlalchemy.engine.Engine \n",
      "            SELECT\n",
      "                cons.conname as name,\n",
      "                cons.conkey as key,\n",
      "                a.attnum as col_num,\n",
      "                a.attname as col_name\n",
      "            FROM\n",
      "                pg_catalog.pg_constraint cons\n",
      "                join pg_attribute a\n",
      "                  on cons.conrelid = a.attrelid AND\n",
      "                    a.attnum = ANY(cons.conkey)\n",
      "            WHERE\n",
      "                cons.conrelid = %(table_oid)s AND\n",
      "                cons.contype = 'u'\n",
      "        \n",
      "2023-02-13 09:22:06,403 INFO sqlalchemy.engine.Engine [cached since 26.16s ago] {'table_oid': 16512}\n",
      "2023-02-13 09:22:06,613 INFO sqlalchemy.engine.Engine \n",
      "            SELECT\n",
      "                cons.conname as name,\n",
      "                pg_get_constraintdef(cons.oid) as src\n",
      "            FROM\n",
      "                pg_catalog.pg_constraint cons\n",
      "            WHERE\n",
      "                cons.conrelid = %(table_oid)s AND\n",
      "                cons.contype = 'c'\n",
      "        \n",
      "2023-02-13 09:22:06,614 INFO sqlalchemy.engine.Engine [cached since 26.17s ago] {'table_oid': 16512}\n",
      "2023-02-13 09:22:06,915 INFO sqlalchemy.engine.Engine \n",
      "            SELECT\n",
      "                pgd.description as table_comment\n",
      "            FROM\n",
      "                pg_catalog.pg_description pgd\n",
      "            WHERE\n",
      "                pgd.objsubid = 0 AND\n",
      "                pgd.objoid = %(table_oid)s\n",
      "        \n"
     ]
    },
    {
     "name": "stdout",
     "output_type": "stream",
     "text": [
      "2023-02-13 09:22:06,917 INFO sqlalchemy.engine.Engine [cached since 26.27s ago] {'table_oid': 16512}\n",
      "2023-02-13 09:22:07,335 INFO sqlalchemy.engine.Engine SELECT tej_revenue.index, tej_revenue.st_code, tej_revenue.st_name, tej_revenue.rev_period, tej_revenue.declaration_date, tej_revenue.rev, tej_revenue.declaration_year, tej_revenue.declaration_month, tej_revenue.new_industry_name, tej_revenue.minor_industry_name \n",
      "FROM tej_revenue\n",
      "2023-02-13 09:22:07,335 INFO sqlalchemy.engine.Engine [generated in 0.00078s] {}\n"
     ]
    }
   ],
   "source": [
    "a = pd.read_sql('tej_revenue', engine)"
   ]
  },
  {
   "cell_type": "code",
   "execution_count": 498,
   "id": "4749093a",
   "metadata": {},
   "outputs": [
    {
     "data": {
      "text/html": [
       "<div>\n",
       "<style scoped>\n",
       "    .dataframe tbody tr th:only-of-type {\n",
       "        vertical-align: middle;\n",
       "    }\n",
       "\n",
       "    .dataframe tbody tr th {\n",
       "        vertical-align: top;\n",
       "    }\n",
       "\n",
       "    .dataframe thead th {\n",
       "        text-align: right;\n",
       "    }\n",
       "</style>\n",
       "<table border=\"1\" class=\"dataframe\">\n",
       "  <thead>\n",
       "    <tr style=\"text-align: right;\">\n",
       "      <th></th>\n",
       "      <th>index</th>\n",
       "      <th>st_code</th>\n",
       "      <th>st_name</th>\n",
       "      <th>rev_period</th>\n",
       "      <th>declaration_date</th>\n",
       "      <th>rev</th>\n",
       "      <th>declaration_year</th>\n",
       "      <th>declaration_month</th>\n",
       "      <th>new_industry_name</th>\n",
       "      <th>minor_industry_name</th>\n",
       "    </tr>\n",
       "  </thead>\n",
       "  <tbody>\n",
       "    <tr>\n",
       "      <th>1014</th>\n",
       "      <td>1014</td>\n",
       "      <td>1101</td>\n",
       "      <td>台泥</td>\n",
       "      <td>2013/01</td>\n",
       "      <td>2013/02/18</td>\n",
       "      <td>9134465.0</td>\n",
       "      <td>2013</td>\n",
       "      <td>2</td>\n",
       "      <td>M1100 水泥工業</td>\n",
       "      <td>M11A 水泥製造</td>\n",
       "    </tr>\n",
       "    <tr>\n",
       "      <th>434</th>\n",
       "      <td>434</td>\n",
       "      <td>1102</td>\n",
       "      <td>亞泥</td>\n",
       "      <td>2013/01</td>\n",
       "      <td>2013/02/08</td>\n",
       "      <td>6018213.0</td>\n",
       "      <td>2013</td>\n",
       "      <td>2</td>\n",
       "      <td>M1100 水泥工業</td>\n",
       "      <td>M11A 水泥製造</td>\n",
       "    </tr>\n",
       "    <tr>\n",
       "      <th>1015</th>\n",
       "      <td>1015</td>\n",
       "      <td>1103</td>\n",
       "      <td>嘉泥</td>\n",
       "      <td>2013/01</td>\n",
       "      <td>2013/02/18</td>\n",
       "      <td>288455.0</td>\n",
       "      <td>2013</td>\n",
       "      <td>2</td>\n",
       "      <td>M1100 水泥工業</td>\n",
       "      <td>M11A 水泥製造</td>\n",
       "    </tr>\n",
       "    <tr>\n",
       "      <th>435</th>\n",
       "      <td>435</td>\n",
       "      <td>1104</td>\n",
       "      <td>環泥</td>\n",
       "      <td>2013/01</td>\n",
       "      <td>2013/02/08</td>\n",
       "      <td>486481.0</td>\n",
       "      <td>2013</td>\n",
       "      <td>2</td>\n",
       "      <td>M1100 水泥工業</td>\n",
       "      <td>M11A 水泥製造</td>\n",
       "    </tr>\n",
       "    <tr>\n",
       "      <th>1016</th>\n",
       "      <td>1016</td>\n",
       "      <td>1108</td>\n",
       "      <td>幸福</td>\n",
       "      <td>2013/01</td>\n",
       "      <td>2013/02/18</td>\n",
       "      <td>481802.0</td>\n",
       "      <td>2013</td>\n",
       "      <td>2</td>\n",
       "      <td>M1100 水泥工業</td>\n",
       "      <td>M11A 水泥製造</td>\n",
       "    </tr>\n",
       "    <tr>\n",
       "      <th>...</th>\n",
       "      <td>...</td>\n",
       "      <td>...</td>\n",
       "      <td>...</td>\n",
       "      <td>...</td>\n",
       "      <td>...</td>\n",
       "      <td>...</td>\n",
       "      <td>...</td>\n",
       "      <td>...</td>\n",
       "      <td>...</td>\n",
       "      <td>...</td>\n",
       "    </tr>\n",
       "    <tr>\n",
       "      <th>433</th>\n",
       "      <td>433</td>\n",
       "      <td>9951</td>\n",
       "      <td>皇田</td>\n",
       "      <td>2013/01</td>\n",
       "      <td>2013/02/07</td>\n",
       "      <td>201785.0</td>\n",
       "      <td>2013</td>\n",
       "      <td>2</td>\n",
       "      <td>M1500 電機機械</td>\n",
       "      <td>M15D 汽車組件</td>\n",
       "    </tr>\n",
       "    <tr>\n",
       "      <th>1421</th>\n",
       "      <td>1421</td>\n",
       "      <td>9955</td>\n",
       "      <td>佳龍</td>\n",
       "      <td>2013/01</td>\n",
       "      <td>2013/02/18</td>\n",
       "      <td>394489.0</td>\n",
       "      <td>2013</td>\n",
       "      <td>2</td>\n",
       "      <td>M9900 其他</td>\n",
       "      <td>M99L1 貴金屬回收</td>\n",
       "    </tr>\n",
       "    <tr>\n",
       "      <th>1008</th>\n",
       "      <td>1008</td>\n",
       "      <td>9958</td>\n",
       "      <td>世紀鋼</td>\n",
       "      <td>2013/01</td>\n",
       "      <td>2013/02/08</td>\n",
       "      <td>198944.0</td>\n",
       "      <td>2013</td>\n",
       "      <td>2</td>\n",
       "      <td>M2000 鋼鐵工業</td>\n",
       "      <td>M20A2 鋼筋</td>\n",
       "    </tr>\n",
       "    <tr>\n",
       "      <th>1422</th>\n",
       "      <td>1422</td>\n",
       "      <td>9960</td>\n",
       "      <td>邁達康</td>\n",
       "      <td>2013/01</td>\n",
       "      <td>2013/02/18</td>\n",
       "      <td>52534.0</td>\n",
       "      <td>2013</td>\n",
       "      <td>2</td>\n",
       "      <td>M2900 貿易百貨</td>\n",
       "      <td>M29A9 其他零售</td>\n",
       "    </tr>\n",
       "    <tr>\n",
       "      <th>1009</th>\n",
       "      <td>1009</td>\n",
       "      <td>9962</td>\n",
       "      <td>有益</td>\n",
       "      <td>2013/01</td>\n",
       "      <td>2013/02/08</td>\n",
       "      <td>298876.0</td>\n",
       "      <td>2013</td>\n",
       "      <td>2</td>\n",
       "      <td>M2000 鋼鐵工業</td>\n",
       "      <td>M20A6 不鏽鋼</td>\n",
       "    </tr>\n",
       "  </tbody>\n",
       "</table>\n",
       "<p>1688 rows × 10 columns</p>\n",
       "</div>"
      ],
      "text/plain": [
       "     index st_code st_name rev_period declaration_date        rev  \\\n",
       "1014  1014    1101      台泥    2013/01       2013/02/18  9134465.0   \n",
       "434    434    1102      亞泥    2013/01       2013/02/08  6018213.0   \n",
       "1015  1015    1103      嘉泥    2013/01       2013/02/18   288455.0   \n",
       "435    435    1104      環泥    2013/01       2013/02/08   486481.0   \n",
       "1016  1016    1108      幸福    2013/01       2013/02/18   481802.0   \n",
       "...    ...     ...     ...        ...              ...        ...   \n",
       "433    433    9951      皇田    2013/01       2013/02/07   201785.0   \n",
       "1421  1421    9955      佳龍    2013/01       2013/02/18   394489.0   \n",
       "1008  1008    9958     世紀鋼    2013/01       2013/02/08   198944.0   \n",
       "1422  1422    9960     邁達康    2013/01       2013/02/18    52534.0   \n",
       "1009  1009    9962      有益    2013/01       2013/02/08   298876.0   \n",
       "\n",
       "     declaration_year declaration_month new_industry_name minor_industry_name  \n",
       "1014             2013                 2        M1100 水泥工業           M11A 水泥製造  \n",
       "434              2013                 2        M1100 水泥工業           M11A 水泥製造  \n",
       "1015             2013                 2        M1100 水泥工業           M11A 水泥製造  \n",
       "435              2013                 2        M1100 水泥工業           M11A 水泥製造  \n",
       "1016             2013                 2        M1100 水泥工業           M11A 水泥製造  \n",
       "...               ...               ...               ...                 ...  \n",
       "433              2013                 2        M1500 電機機械           M15D 汽車組件  \n",
       "1421             2013                 2          M9900 其他         M99L1 貴金屬回收  \n",
       "1008             2013                 2        M2000 鋼鐵工業            M20A2 鋼筋  \n",
       "1422             2013                 2        M2900 貿易百貨          M29A9 其他零售  \n",
       "1009             2013                 2        M2000 鋼鐵工業           M20A6 不鏽鋼  \n",
       "\n",
       "[1688 rows x 10 columns]"
      ]
     },
     "execution_count": 498,
     "metadata": {},
     "output_type": "execute_result"
    }
   ],
   "source": [
    "a.drop_duplicates('st_code').sort_values('st_code')"
   ]
  },
  {
   "cell_type": "code",
   "execution_count": null,
   "id": "346c6d16",
   "metadata": {},
   "outputs": [],
   "source": []
  }
 ],
 "metadata": {
  "kernelspec": {
   "display_name": "Python 3 (ipykernel)",
   "language": "python",
   "name": "python3"
  },
  "language_info": {
   "codemirror_mode": {
    "name": "ipython",
    "version": 3
   },
   "file_extension": ".py",
   "mimetype": "text/x-python",
   "name": "python",
   "nbconvert_exporter": "python",
   "pygments_lexer": "ipython3",
   "version": "3.9.12"
  },
  "vscode": {
   "interpreter": {
    "hash": "fae76a53c89e02d9d66740d1fe92d8161e170862926fb0375f474a8df1983dfd"
   }
  }
 },
 "nbformat": 4,
 "nbformat_minor": 5
}
