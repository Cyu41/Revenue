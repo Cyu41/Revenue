{
 "cells": [
  {
   "cell_type": "code",
   "execution_count": 1,
   "id": "7037118d",
   "metadata": {
    "collapsed": true,
    "jupyter": {
     "outputs_hidden": true
    },
    "tags": []
   },
   "outputs": [
    {
     "name": "stdout",
     "output_type": "stream",
     "text": [
      "2023-02-02 11:38:41,925 INFO sqlalchemy.engine.Engine select pg_catalog.version()\n",
      "2023-02-02 11:38:41,927 INFO sqlalchemy.engine.Engine [raw sql] {}\n",
      "2023-02-02 11:38:42,328 INFO sqlalchemy.engine.Engine select current_schema()\n",
      "2023-02-02 11:38:42,330 INFO sqlalchemy.engine.Engine [raw sql] {}\n",
      "2023-02-02 11:38:42,807 INFO sqlalchemy.engine.Engine show standard_conforming_strings\n",
      "2023-02-02 11:38:42,808 INFO sqlalchemy.engine.Engine [raw sql] {}\n",
      "2023-02-02 11:38:43,996 INFO sqlalchemy.engine.Engine select relname from pg_class c join pg_namespace n on n.oid=c.relnamespace where pg_catalog.pg_table_is_visible(c.oid) and relname=%(name)s\n",
      "2023-02-02 11:38:43,997 INFO sqlalchemy.engine.Engine [generated in 0.00152s] {'name': 'industry'}\n",
      "2023-02-02 11:38:44,595 INFO sqlalchemy.engine.Engine SELECT c.relname FROM pg_class c JOIN pg_namespace n ON n.oid = c.relnamespace WHERE n.nspname = %(schema)s AND c.relkind in ('r', 'p')\n",
      "2023-02-02 11:38:44,596 INFO sqlalchemy.engine.Engine [generated in 0.00084s] {'schema': 'public'}\n",
      "2023-02-02 11:38:45,000 INFO sqlalchemy.engine.Engine \n",
      "            SELECT c.oid\n",
      "            FROM pg_catalog.pg_class c\n",
      "            LEFT JOIN pg_catalog.pg_namespace n ON n.oid = c.relnamespace\n",
      "            WHERE (pg_catalog.pg_table_is_visible(c.oid))\n",
      "            AND c.relname = %(table_name)s AND c.relkind in\n",
      "            ('r', 'v', 'm', 'f', 'p')\n",
      "        \n",
      "2023-02-02 11:38:45,001 INFO sqlalchemy.engine.Engine [generated in 0.00150s] {'table_name': 'industry'}\n",
      "2023-02-02 11:38:45,205 INFO sqlalchemy.engine.Engine \n",
      "            SELECT a.attname,\n",
      "              pg_catalog.format_type(a.atttypid, a.atttypmod),\n",
      "              (\n",
      "                SELECT pg_catalog.pg_get_expr(d.adbin, d.adrelid)\n",
      "                FROM pg_catalog.pg_attrdef d\n",
      "                WHERE d.adrelid = a.attrelid AND d.adnum = a.attnum\n",
      "                AND a.atthasdef\n",
      "              ) AS DEFAULT,\n",
      "              a.attnotnull,\n",
      "              a.attrelid as table_oid,\n",
      "              pgd.description as comment,\n",
      "              a.attgenerated as generated,\n",
      "                              (SELECT json_build_object(\n",
      "                    'always', a.attidentity = 'a',\n",
      "                    'start', s.seqstart,\n",
      "                    'increment', s.seqincrement,\n",
      "                    'minvalue', s.seqmin,\n",
      "                    'maxvalue', s.seqmax,\n",
      "                    'cache', s.seqcache,\n",
      "                    'cycle', s.seqcycle)\n",
      "                FROM pg_catalog.pg_sequence s\n",
      "                JOIN pg_catalog.pg_class c on s.seqrelid = c.\"oid\"\n",
      "                WHERE c.relkind = 'S'\n",
      "                AND a.attidentity != ''\n",
      "                AND s.seqrelid = pg_catalog.pg_get_serial_sequence(\n",
      "                    a.attrelid::regclass::text, a.attname\n",
      "                )::regclass::oid\n",
      "                ) as identity_options                \n",
      "            FROM pg_catalog.pg_attribute a\n",
      "            LEFT JOIN pg_catalog.pg_description pgd ON (\n",
      "                pgd.objoid = a.attrelid AND pgd.objsubid = a.attnum)\n",
      "            WHERE a.attrelid = %(table_oid)s\n",
      "            AND a.attnum > 0 AND NOT a.attisdropped\n",
      "            ORDER BY a.attnum\n",
      "        \n",
      "2023-02-02 11:38:45,207 INFO sqlalchemy.engine.Engine [generated in 0.00155s] {'table_oid': 16461}\n",
      "2023-02-02 11:38:45,466 INFO sqlalchemy.engine.Engine \n",
      "            SELECT t.typname as \"name\",\n",
      "               pg_catalog.format_type(t.typbasetype, t.typtypmod) as \"attype\",\n",
      "               not t.typnotnull as \"nullable\",\n",
      "               t.typdefault as \"default\",\n",
      "               pg_catalog.pg_type_is_visible(t.oid) as \"visible\",\n",
      "               n.nspname as \"schema\"\n",
      "            FROM pg_catalog.pg_type t\n",
      "               LEFT JOIN pg_catalog.pg_namespace n ON n.oid = t.typnamespace\n",
      "            WHERE t.typtype = 'd'\n",
      "        \n",
      "2023-02-02 11:38:45,468 INFO sqlalchemy.engine.Engine [generated in 0.00154s] {}\n",
      "2023-02-02 11:38:45,672 INFO sqlalchemy.engine.Engine \n",
      "            SELECT t.typname as \"name\",\n",
      "               -- no enum defaults in 8.4 at least\n",
      "               -- t.typdefault as \"default\",\n",
      "               pg_catalog.pg_type_is_visible(t.oid) as \"visible\",\n",
      "               n.nspname as \"schema\",\n",
      "               e.enumlabel as \"label\"\n",
      "            FROM pg_catalog.pg_type t\n",
      "                 LEFT JOIN pg_catalog.pg_namespace n ON n.oid = t.typnamespace\n",
      "                 LEFT JOIN pg_catalog.pg_enum e ON t.oid = e.enumtypid\n",
      "            WHERE t.typtype = 'e'\n",
      "        ORDER BY \"schema\", \"name\", e.oid\n",
      "2023-02-02 11:38:45,673 INFO sqlalchemy.engine.Engine [generated in 0.00146s] {}\n",
      "2023-02-02 11:38:45,885 INFO sqlalchemy.engine.Engine \n",
      "                SELECT a.attname\n",
      "                FROM pg_attribute a JOIN (\n",
      "                    SELECT unnest(ix.indkey) attnum,\n",
      "                           generate_subscripts(ix.indkey, 1) ord\n",
      "                    FROM pg_index ix\n",
      "                    WHERE ix.indrelid = %(table_oid)s AND ix.indisprimary\n",
      "                    ) k ON a.attnum=k.attnum\n",
      "                WHERE a.attrelid = %(table_oid)s\n",
      "                ORDER BY k.ord\n",
      "            \n",
      "2023-02-02 11:38:45,886 INFO sqlalchemy.engine.Engine [generated in 0.00099s] {'table_oid': 16461}\n",
      "2023-02-02 11:38:46,096 INFO sqlalchemy.engine.Engine \n",
      "        SELECT conname\n",
      "           FROM  pg_catalog.pg_constraint r\n",
      "           WHERE r.conrelid = %(table_oid)s AND r.contype = 'p'\n",
      "           ORDER BY 1\n",
      "        \n",
      "2023-02-02 11:38:46,097 INFO sqlalchemy.engine.Engine [generated in 0.00156s] {'table_oid': 16461}\n",
      "2023-02-02 11:38:46,302 INFO sqlalchemy.engine.Engine \n",
      "          SELECT r.conname,\n",
      "                pg_catalog.pg_get_constraintdef(r.oid, true) as condef,\n",
      "                n.nspname as conschema\n",
      "          FROM  pg_catalog.pg_constraint r,\n",
      "                pg_namespace n,\n",
      "                pg_class c\n",
      "\n",
      "          WHERE r.conrelid = %(table)s AND\n",
      "                r.contype = 'f' AND\n",
      "                c.oid = confrelid AND\n",
      "                n.oid = c.relnamespace\n",
      "          ORDER BY 1\n",
      "        \n",
      "2023-02-02 11:38:46,304 INFO sqlalchemy.engine.Engine [generated in 0.00156s] {'table': 16461}\n",
      "2023-02-02 11:38:46,505 INFO sqlalchemy.engine.Engine \n",
      "              SELECT\n",
      "                  i.relname as relname,\n",
      "                  ix.indisunique, ix.indexprs,\n",
      "                  a.attname, a.attnum, c.conrelid, ix.indkey::varchar,\n",
      "                  ix.indoption::varchar, i.reloptions, am.amname,\n",
      "                  pg_get_expr(ix.indpred, ix.indrelid),\n",
      "                  ix.indnkeyatts as indnkeyatts\n",
      "              FROM\n",
      "                  pg_class t\n",
      "                        join pg_index ix on t.oid = ix.indrelid\n",
      "                        join pg_class i on i.oid = ix.indexrelid\n",
      "                        left outer join\n",
      "                            pg_attribute a\n",
      "                            on t.oid = a.attrelid and a.attnum = ANY(ix.indkey)\n",
      "                        left outer join\n",
      "                            pg_constraint c\n",
      "                            on (ix.indrelid = c.conrelid and\n",
      "                                ix.indexrelid = c.conindid and\n",
      "                                c.contype in ('p', 'u', 'x'))\n",
      "                        left outer join\n",
      "                            pg_am am\n",
      "                            on i.relam = am.oid\n",
      "              WHERE\n",
      "                  t.relkind IN ('r', 'v', 'f', 'm', 'p')\n",
      "                  and t.oid = %(table_oid)s\n",
      "                  and ix.indisprimary = 'f'\n",
      "              ORDER BY\n",
      "                  t.relname,\n",
      "                  i.relname\n",
      "            \n",
      "2023-02-02 11:38:46,507 INFO sqlalchemy.engine.Engine [generated in 0.00185s] {'table_oid': 16461}\n",
      "2023-02-02 11:38:46,713 INFO sqlalchemy.engine.Engine \n",
      "            SELECT\n",
      "                cons.conname as name,\n",
      "                cons.conkey as key,\n",
      "                a.attnum as col_num,\n",
      "                a.attname as col_name\n",
      "            FROM\n",
      "                pg_catalog.pg_constraint cons\n",
      "                join pg_attribute a\n",
      "                  on cons.conrelid = a.attrelid AND\n",
      "                    a.attnum = ANY(cons.conkey)\n",
      "            WHERE\n",
      "                cons.conrelid = %(table_oid)s AND\n",
      "                cons.contype = 'u'\n",
      "        \n",
      "2023-02-02 11:38:46,714 INFO sqlalchemy.engine.Engine [generated in 0.00158s] {'table_oid': 16461}\n",
      "2023-02-02 11:38:46,915 INFO sqlalchemy.engine.Engine \n",
      "            SELECT\n",
      "                cons.conname as name,\n",
      "                pg_get_constraintdef(cons.oid) as src\n",
      "            FROM\n",
      "                pg_catalog.pg_constraint cons\n",
      "            WHERE\n",
      "                cons.conrelid = %(table_oid)s AND\n",
      "                cons.contype = 'c'\n",
      "        \n",
      "2023-02-02 11:38:46,917 INFO sqlalchemy.engine.Engine [generated in 0.00173s] {'table_oid': 16461}\n",
      "2023-02-02 11:38:47,119 INFO sqlalchemy.engine.Engine \n",
      "            SELECT\n",
      "                pgd.description as table_comment\n",
      "            FROM\n",
      "                pg_catalog.pg_description pgd\n",
      "            WHERE\n",
      "                pgd.objsubid = 0 AND\n",
      "                pgd.objoid = %(table_oid)s\n",
      "        \n",
      "2023-02-02 11:38:47,121 INFO sqlalchemy.engine.Engine [generated in 0.00154s] {'table_oid': 16461}\n",
      "2023-02-02 11:38:47,527 INFO sqlalchemy.engine.Engine SELECT industry.index, industry.\"公司簡稱\", industry.\"TSE新產業名\", industry.\"TEJ子產業名\", industry.\"Unnamed: 3\", industry.\"TSE新產業名.1\", industry.\"TEJ子產業名.1\", industry.\"Unnamed: 6\", industry.\"公司簡稱.1\", industry.\"TSE新產業名.2\", industry.\"TEJ子產業名.2\", industry.\"Unnamed: 10\", industry.\"Unnamed: 11\", industry.\"單月營收(千元)\", industry.\"單月營收(千元).1\", industry.\"單月營收(千元).2\", industry.\"單月營收(千元).3\", industry.\"單月營收(千元).4\", industry.\"單月營收(千元).5\", industry.\"單月營收(千元).6\", industry.\"單月營收(千元).7\", industry.\"單月營收(千元).8\", industry.\"單月營收(千元).9\", industry.\"單月營收(千元).10\", industry.\"單月營收(千元).11\", industry.\"Unnamed: 24\", industry.\"Unnamed: 25\", industry.\"單月營收(千元).12\", industry.\"單月營收(千元).13\", industry.\"單月營收(千元).14\", industry.\"單月營收(千元).15\", industry.\"單月營收(千元).16\", industry.\"單月營收(千元).17\", industry.\"單月營收(千元).18\", industry.\"單月營收(千元).19\", industry.\"單月營收(千元).20\", industry.\"單月營收(千元).21\", industry.\"單月營收(千元).22\", industry.\"單月營收(千元).23\", industry.\"Unnamed: 38\", industry.\"Unnamed: 39\", industry.\"單月營收(千元).24\", industry.\"單月營收(千元).25\", industry.\"單月營收(千元).26\", industry.\"單月營收(千元).27\", industry.\"單月營收(千元).28\", industry.\"單月營收(千元).29\", industry.\"單月營收(千元).30\", industry.\"單月營收(千元).31\", industry.\"單月營收(千元).32\", industry.\"單月營收(千元).33\", industry.\"單月營收(千元).34\", industry.\"單月營收(千元).35\", industry.\"Unnamed: 52\", industry.\"Unnamed: 53\", industry.\"單月營收(千元).36\", industry.\"單月營收(千元).37\", industry.\"單月營收(千元).38\", industry.\"單月營收(千元).39\", industry.\"單月營收(千元).40\", industry.\"單月營收(千元).41\", industry.\"單月營收(千元).42\", industry.\"單月營收(千元).43\", industry.\"單月營收(千元).44\", industry.\"單月營收(千元).45\", industry.\"單月營收(千元).46\", industry.\"單月營收(千元).47\", industry.\"Unnamed: 66\", industry.\"Unnamed: 67\", industry.\"去年單月營收(千元)\", industry.\"去年單月營收(千元).1\", industry.\"去年單月營收(千元).2\", industry.\"去年單月營收(千元).3\", industry.\"去年單月營收(千元).4\", industry.\"去年單月營收(千元).5\", industry.\"去年單月營收(千元).6\", industry.\"去年單月營收(千元).7\", industry.\"去年單月營收(千元).8\", industry.\"去年單月營收(千元).9\", industry.\"去年單月營收(千元).10\", industry.\"去年單月營收(千元).11\" \n",
      "FROM industry\n",
      "2023-02-02 11:38:47,528 INFO sqlalchemy.engine.Engine [generated in 0.00097s] {}\n"
     ]
    }
   ],
   "source": [
    "import pandas as pd\n",
    "import plotly.express as px\n",
    "import plotly.graph_objects as go\n",
    "import plotly.figure_factory as ff  # 圖形工廠\n",
    "from plotly.subplots import make_subplots  # 繪製子圖\n",
    "import numpy as np\n",
    "from Upload_git import upload\n",
    "from os import system\n",
    "import time\n",
    "from time import ctime, sleep\n",
    "from Upload_git import upload\n",
    "import schedule\n",
    "import psycopg2\n",
    "import psycopg2.extras as extras\n",
    "from sqlalchemy import create_engine\n",
    "\n",
    "\"\"\"\n",
    "connect to db\n",
    "\"\"\"\n",
    "host='database-1.cyn7ldoposru.us-east-1.rds.amazonaws.com'\n",
    "port='5432'\n",
    "user='Yu'\n",
    "password='m#WA12J#'\n",
    "database=\"JQC_Revenue1\"\n",
    "\n",
    "engine = create_engine('postgresql://{}:{}@{}:{}/{}'.format(\n",
    "        user, password, host, port, database), echo=True)\n",
    "\n",
    "stock_info = pd.read_csv('stock_info.csv')\n",
    "stock_info.st_code = stock_info.st_code.astype(str)\n",
    "\n",
    "\"\"\"\n",
    "callback input & output detail \n",
    "\"\"\"\n",
    "revenue = pd.read_sql('industry', engine)\n",
    "new_industry_name = revenue['TSE新產業名.1'].dropna()\n",
    "minor_industry_name = revenue['TEJ子產業名.1'].dropna()"
   ]
  },
  {
   "cell_type": "code",
   "execution_count": 68,
   "id": "41537938",
   "metadata": {},
   "outputs": [
    {
     "name": "stdout",
     "output_type": "stream",
     "text": [
      "2023-02-02 13:29:42,105 INFO sqlalchemy.engine.Engine select relname from pg_class c join pg_namespace n on n.oid=c.relnamespace where pg_catalog.pg_table_is_visible(c.oid) and relname=%(name)s\n",
      "2023-02-02 13:29:42,106 INFO sqlalchemy.engine.Engine [cached since 3905s ago] {'name': \"\\n        select st_code, st_name, rev_period, declaration_date, rev\\n        from tej_revenue\\n        where new_industry_name = 'M1100 水泥工業' and minor_industry_name = 'M11A 水泥製造';\\n        \"}\n",
      "2023-02-02 13:29:42,710 INFO sqlalchemy.engine.Engine \n",
      "        select st_code, st_name, rev_period, declaration_date, rev\n",
      "        from tej_revenue\n",
      "        where new_industry_name = 'M1100 水泥工業' and minor_industry_name = 'M11A 水泥製造';\n",
      "        \n",
      "2023-02-02 13:29:42,711 INFO sqlalchemy.engine.Engine [raw sql] {}\n"
     ]
    }
   ],
   "source": [
    "import revenue_function as fn\n",
    "dropdown1 = new_industry_name[1]\n",
    "dropdown2 = minor_industry_name[1]\n",
    "st_input = ''\n",
    "\n",
    "def get_latest(data):\n",
    "    latest = data.drop_duplicates(subset='st_code', keep='last')\n",
    "    # latest = latest.drop('index', axis=1)\n",
    "    latest = latest.sort_values('declaration_date', ascending=True)\n",
    "    latest = latest.loc[:, ['st_code', 'st_name', 'declaration_date', 'rev', 'mom', 'yoy']]\n",
    "    latest = latest.set_axis(['公司代碼', '公司簡稱', '最新公告月份', '營收', 'MOM%', 'YOY%'], axis=1)\n",
    "    return latest.to_dict('records')\n",
    "\n",
    "\n",
    "# def update_table(dropdown1, dropdown2, st_input):\n",
    "if st_input is None or st_input == '':\n",
    "    try:\n",
    "        if (dropdown1 is not new_industry_name[0]) and (dropdown2 is minor_industry_name[0]):\n",
    "            mask = (\"new_industry_name = '\" + dropdown1 + \"'\")\n",
    "\n",
    "        elif (dropdown2 is not minor_industry_name[0]) and (dropdown1 is new_industry_name[0]):\n",
    "            mask = (\"minor_industry_name = '\" + dropdown2 + \"'\")\n",
    "\n",
    "        elif (dropdown1 is not new_industry_name[0]) and (dropdown2 is not minor_industry_name[0]):\n",
    "            mask = (\"new_industry_name = '\" + dropdown1 + \"' and \" + \"minor_industry_name = '\" + dropdown2 + \"'\")\n",
    "\n",
    "        # 從 db 撈資料\n",
    "        st_search = \"\"\"\n",
    "        select st_code, st_name, rev_period, declaration_date, rev\n",
    "        from tej_revenue\n",
    "        where {};\n",
    "        \"\"\".format(mask)\n",
    "\n",
    "        data = pd.read_sql(st_search, engine)\n",
    "        data = data.groupby(by='st_code', as_index=False).apply(fn.get_st_mom_yoy).reset_index(drop=True,\n",
    "                                                                                                inplace=False)\n",
    "\n",
    "        # 產業最新營收公布情形\n",
    "        latest = get_latest(data)\n",
    "\n",
    "        # 產業總營收狀況\n",
    "        data = data.groupby(by='rev_period', as_index=False).agg({'rev': 'sum'})\n",
    "        data = fn.get_st_mom_yoy(data)\n",
    "\n",
    "        # 預測資料\n",
    "        data_predict = fn.predict(data)\n",
    "\n",
    "        # 繪圖\n",
    "        title = dropdown1 + ' '\n",
    "        REV = fn.get_revpic(data, data_predict, (title + ' 各年度月營收'))\n",
    "        MOM = fn.get_mompic(data, data_predict, (title + ' 各年度月營收'))\n",
    "        YOY = fn.get_yoypic(data, data_predict, (title + ' 各年度月營收'))\n",
    "\n",
    "        # 整理營收資訊表\n",
    "        table = data.pivot_table(values='rev', index='Year', columns='month').reset_index()\n",
    "        data_predict.Year = data_predict.Year + str(' 預估值')\n",
    "        table = pd.concat([table, data_predict.tail(12).pivot_table(index='Year', columns='month', values='rev').reset_index()],axis=0)\n",
    "        # return table.to_dict('records'), latest, REV, MOM, YOY\n",
    "    \n",
    "    except KeyError:\n",
    "        print(\"跳警示通知：該分類沒有相關個股，請重新選擇，並reset\")\n",
    "\n",
    "\n",
    "else:\n",
    "    try:\n",
    "        if (st_input.isdigit() == True):\n",
    "            industry = stock_info[stock_info.st_code == st_input].new_industry_name.values[0]\n",
    "            mask = (\"new_industry_name = '\" + industry + \"'\")\n",
    "            st_mask = 'st_code'\n",
    "\n",
    "        else:\n",
    "            industry = stock_info[stock_info.st_name == st_input].new_industry_name.values[0]\n",
    "            mask = (\"new_industry_name = '\" + industry + \"'\")\n",
    "            st_mask = 'st_name'\n",
    "\n",
    "        # 從 db 撈資料\n",
    "        st_search = \"\"\"\n",
    "        select st_code, st_name, rev_period, declaration_date, rev\n",
    "        from tej_revenue\n",
    "        where {};\n",
    "        \"\"\".format(mask)\n",
    "        data = pd.read_sql(st_search, engine)\n",
    "        data = data.groupby(by='st_code', as_index=False).apply(fn.get_st_mom_yoy).reset_index(drop=True,\n",
    "                                                                                                inplace=False)\n",
    "\n",
    "        # 產業最新營收公布情形\n",
    "        latest = fn.get_latest(data)\n",
    "\n",
    "        # 轉換成個股總營收\n",
    "        data = data[data[st_mask] == st_input]\n",
    "        data = fn.get_st_mom_yoy(data)\n",
    "\n",
    "        # 預測資料\n",
    "        data_predict = fn.predict(data)\n",
    "\n",
    "        # 繪圖\n",
    "        title = data.st_code[0] + ' ' + data.st_name[0]\n",
    "        REV = fn.get_revpic(data, data_predict, (title + ' 各年度月營收'))\n",
    "        MOM = fn.get_mompic(data, data_predict, (title + ' 各年度月營收'))\n",
    "        YOY = fn.get_yoypic(data, data_predict, (title + ' 各年度月營收'))\n",
    "\n",
    "        # 整理營收資訊表\n",
    "        table = data.pivot_table(values='rev', index='Year', columns='month').reset_index()\n",
    "        data_predict.Year = data_predict.Year + str(' 預估值')\n",
    "        table = pd.concat([table, data_predict.tail(12).pivot_table(index='Year', columns='month', values='rev').reset_index()],axis=0)\n",
    "        # return table.to_dict('records'), latest, REV, MOM, YOY\n",
    "        \n",
    "    except IndexError:\n",
    "        print('跳警示通知：查無該股票營收，請重新輸入，並reset')\n",
    "        \n",
    "# REV.show(), MOM.show(), YOY.show()"
   ]
  },
  {
   "cell_type": "code",
   "execution_count": 25,
   "id": "11e5c281",
   "metadata": {},
   "outputs": [
    {
     "data": {
      "text/html": [
       "<div>\n",
       "<style scoped>\n",
       "    .dataframe tbody tr th:only-of-type {\n",
       "        vertical-align: middle;\n",
       "    }\n",
       "\n",
       "    .dataframe tbody tr th {\n",
       "        vertical-align: top;\n",
       "    }\n",
       "\n",
       "    .dataframe thead th {\n",
       "        text-align: right;\n",
       "    }\n",
       "</style>\n",
       "<table border=\"1\" class=\"dataframe\">\n",
       "  <thead>\n",
       "    <tr style=\"text-align: right;\">\n",
       "      <th></th>\n",
       "      <th>公司代碼</th>\n",
       "      <th>公司簡稱</th>\n",
       "      <th>最新公告月份</th>\n",
       "      <th>營收</th>\n",
       "      <th>MOM%</th>\n",
       "      <th>YOY%</th>\n",
       "    </tr>\n",
       "  </thead>\n",
       "  <tbody>\n",
       "    <tr>\n",
       "      <th>119</th>\n",
       "      <td>1101</td>\n",
       "      <td>台泥</td>\n",
       "      <td>2023/01/10</td>\n",
       "      <td>12584154.0</td>\n",
       "      <td>0.300745</td>\n",
       "      <td>0.162910</td>\n",
       "    </tr>\n",
       "    <tr>\n",
       "      <th>239</th>\n",
       "      <td>1102</td>\n",
       "      <td>亞泥</td>\n",
       "      <td>2023/01/10</td>\n",
       "      <td>8340507.0</td>\n",
       "      <td>0.004147</td>\n",
       "      <td>-0.113063</td>\n",
       "    </tr>\n",
       "    <tr>\n",
       "      <th>359</th>\n",
       "      <td>1103</td>\n",
       "      <td>嘉泥</td>\n",
       "      <td>2023/01/10</td>\n",
       "      <td>228644.0</td>\n",
       "      <td>0.031029</td>\n",
       "      <td>0.333061</td>\n",
       "    </tr>\n",
       "    <tr>\n",
       "      <th>479</th>\n",
       "      <td>1104</td>\n",
       "      <td>環泥</td>\n",
       "      <td>2023/01/10</td>\n",
       "      <td>725055.0</td>\n",
       "      <td>0.147553</td>\n",
       "      <td>0.272864</td>\n",
       "    </tr>\n",
       "    <tr>\n",
       "      <th>599</th>\n",
       "      <td>1108</td>\n",
       "      <td>幸福</td>\n",
       "      <td>2023/01/10</td>\n",
       "      <td>418326.0</td>\n",
       "      <td>0.090035</td>\n",
       "      <td>0.309856</td>\n",
       "    </tr>\n",
       "    <tr>\n",
       "      <th>719</th>\n",
       "      <td>1109</td>\n",
       "      <td>信大</td>\n",
       "      <td>2023/01/10</td>\n",
       "      <td>516142.0</td>\n",
       "      <td>-0.229164</td>\n",
       "      <td>-0.336393</td>\n",
       "    </tr>\n",
       "    <tr>\n",
       "      <th>839</th>\n",
       "      <td>1110</td>\n",
       "      <td>東泥</td>\n",
       "      <td>2023/01/10</td>\n",
       "      <td>167733.0</td>\n",
       "      <td>-0.154213</td>\n",
       "      <td>-0.092717</td>\n",
       "    </tr>\n",
       "  </tbody>\n",
       "</table>\n",
       "</div>"
      ],
      "text/plain": [
       "     公司代碼 公司簡稱      最新公告月份          營收      MOM%      YOY%\n",
       "119  1101   台泥  2023/01/10  12584154.0  0.300745  0.162910\n",
       "239  1102   亞泥  2023/01/10   8340507.0  0.004147 -0.113063\n",
       "359  1103   嘉泥  2023/01/10    228644.0  0.031029  0.333061\n",
       "479  1104   環泥  2023/01/10    725055.0  0.147553  0.272864\n",
       "599  1108   幸福  2023/01/10    418326.0  0.090035  0.309856\n",
       "719  1109   信大  2023/01/10    516142.0 -0.229164 -0.336393\n",
       "839  1110   東泥  2023/01/10    167733.0 -0.154213 -0.092717"
      ]
     },
     "execution_count": 25,
     "metadata": {},
     "output_type": "execute_result"
    }
   ],
   "source": [
    "# latestlatest = 'st_code', 'st_name', 'declaration_date', 'rev', 'mom', 'yoy'\n",
    "# latest.rename({'st_code':'公司代碼', 'st_name':'公司簡稱', 'declaration_date':'最新公告日期', \n",
    "#                'rev':'營收', 'mom':'MOM%', 'yoy':'YOY%'}, axis=1)\n",
    "latest"
   ]
  },
  {
   "cell_type": "code",
   "execution_count": 93,
   "id": "ae0af6a1",
   "metadata": {},
   "outputs": [],
   "source": [
    "def get_yoy(data):\n",
    "    data = data.sort_values('Year')\n",
    "    data['yoy'] = data.rev.diff()/data.rev.shift(1)\n",
    "    return data\n",
    "\n",
    "def get_st_mom_yoy(data):\n",
    "    data['Year'] =  data.rev_period.astype(str).str[0:4]\n",
    "    data['month'] = data.rev_period.astype(str).str[5:7]\n",
    "    data['mom'] = data.rev.diff()/data.rev.shift(1)\n",
    "    yoy = pd.DataFrame()\n",
    "    yoy = data.groupby('month').apply(get_yoy).reset_index(drop=True, inplace=False)\n",
    "    return yoy\n",
    "\n",
    "def get_latest(data):\n",
    "    latest = data.drop_duplicates(subset='st_code', keep='last')\n",
    "    # latest = latest.drop('index', axis=1)\n",
    "    latest = latest.sort_values('declaration_date', ascending=True)\n",
    "    latest = latest.loc[:, ['st_code', 'st_name', 'declaration_date', 'rev', 'mom', 'yoy']]\n",
    "    return latest#.to_dict('records')\n",
    "\n",
    "def get_mompic(st_data, st_predict, pic_title):\n",
    "    MOM_pic = []\n",
    "    for i in st_data.Year.drop_duplicates():\n",
    "        globals()['trace' + str(i)] = go.Scatter(x=st_data[st_data.Year == i].month, y=st_data[st_data.Year == i].mom, name=i, opacity=0.5)\n",
    "        MOM_pic.append(globals()['trace' + str(i)])\n",
    "    for i in st_predict.Year.drop_duplicates():\n",
    "        globals()['trace_predict' + str(i)] = go.Scatter(x=st_predict[st_predict.Year == i].month, y=st_predict[st_predict.Year == i].mom, name=str(i) + '預估值', #marker_color='black',\n",
    "                                                         line=dict(dash = \"dash\"), connectgaps=False)\n",
    "        MOM_pic.append(globals()['trace_predict' + str(i)])\n",
    "    layout = go.Layout(title=pic_title+' MOM %', xaxis_title=\"月份\", yaxis_title=\"MOM %\", hovermode='x unified', legend_title_text='年份')\n",
    "    MOM = go.Figure(data = MOM_pic, layout=layout)\n",
    "    return MOM\n",
    "\n",
    "def get_yoypic(st_yoy, st_predict, pic_title):\n",
    "    YOY_pic = []\n",
    "    for i in st_yoy.Year.drop_duplicates():\n",
    "        globals()['trace' + str(i)] = go.Scatter(x=st_yoy[st_yoy.Year == i].month, y=st_yoy[st_yoy.Year == i].yoy, name=i, opacity=0.5)\n",
    "        YOY_pic.append(globals()['trace' + str(i)])\n",
    "    for i in st_predict.Year.drop_duplicates():\n",
    "        globals()['trace_predict' + str(i)] = go.Scatter(x=st_predict[st_predict.Year == i].month, y=st_predict[st_predict.Year == i].yoy, name=str(i) + '預估值',  #marker_color='black',\n",
    "                                                         line=dict(dash = \"dash\"), connectgaps=False)\n",
    "        YOY_pic.append(globals()['trace_predict' + str(i)])\n",
    "    layout = go.Layout(title=pic_title+' YOY %', xaxis_title=\"月份\", yaxis_title=\"YOY %\", hovermode='x unified', legend_title_text='年份')\n",
    "    YOY = go.Figure(data = YOY_pic, layout=layout)\n",
    "    return YOY\n",
    "\n",
    "\n",
    "def get_revpic(st_data, st_predict, title_name):\n",
    "    REV_pic = []\n",
    "    for i in st_data.Year.drop_duplicates():\n",
    "        globals()['trace' + str(i)] = go.Bar(x=st_data[st_data.Year == i].month, y=st_data[st_data.Year == i].rev, name=i, opacity=0.7)\n",
    "        REV_pic.append(globals()['trace' + str(i)])\n",
    "    trace_predict = go.Bar(x=st_predict.month, y=st_predict.predict_month_rev, opacity=1,\n",
    "                           marker_color='black', name='預估值', marker_pattern_shape=\"\\\\\",\n",
    "                           marker=dict(color=\"white\", line_color=\"black\", pattern_fillmode=\"replace\"))\n",
    "    REV_pic.append(trace_predict)\n",
    "    layout = go.Layout(barmode = 'group', title=title_name, xaxis_title=\"月份\", yaxis_title=\"累計營收\", hovermode='x unified', legend_title_text='年份')\n",
    "    REV = go.Figure(data = REV_pic, layout=layout)\n",
    "    return REV\n",
    "\n",
    "weight = [1, 1, 1, 3, 5]\n",
    "\n",
    "def get_ratio(data):\n",
    "    data['ratio'] = round(data.rev/data.rev.sum(), 4)\n",
    "    return data\n",
    "\n",
    "def get_avg_ratio(data):\n",
    "    roll_num = len(weight)\n",
    "    data = data.sort_values('Year').reset_index(drop=True, inplace=False).tail(roll_num + 1).head(roll_num)  # 抓到最後一年的前 n 年，n 隨權重年份個變\n",
    "    return round(np.average(data.ratio, weights = weight), 4)\n",
    "\n",
    "def predict(data):\n",
    "    a = data.groupby('Year', as_index=False).apply(get_ratio)\n",
    "    ratio = pd.DataFrame(a.groupby('month', as_index=False).apply(get_avg_ratio)).set_axis(['month', 'wt_avg_ratio'],axis=1)\n",
    "    predict = pd.merge(a, ratio, on='month', how='outer').sort_values('rev_period').reset_index(drop=True,inplace=False).tail(12)  # 僅向後預測一年\n",
    "    predict['predict_annul_rev'] = round(predict.rev / predict.ratio)\n",
    "    predict['predict_month_rev'] = round(round(predict['predict_annul_rev'].mean(), 2) * predict.wt_avg_ratio)\n",
    "    predict['Year'] = (predict.Year.astype(int) + 1).astype(str)\n",
    "    predict['rev'] = predict['predict_month_rev']\n",
    "    predict = pd.concat([data.sort_values('rev_period'), predict], axis=0).sort_values(['Year', 'month'])\n",
    "    predict['mom'] = predict.rev.diff() / predict.rev.shift(1)\n",
    "    predict = predict.groupby('month', as_index=False).apply(get_yoy).sort_values(['Year', 'month'])\n",
    "    return predict.tail(13)\n"
   ]
  },
  {
   "cell_type": "code",
   "execution_count": 356,
   "id": "b86b256d",
   "metadata": {},
   "outputs": [
    {
     "name": "stdout",
     "output_type": "stream",
     "text": [
      "2023-01-31 16:26:58,025 INFO sqlalchemy.engine.Engine select relname from pg_class c join pg_namespace n on n.oid=c.relnamespace where pg_catalog.pg_table_is_visible(c.oid) and relname=%(name)s\n",
      "2023-01-31 16:26:58,026 INFO sqlalchemy.engine.Engine [cached since 5.404e+04s ago] {'name': \"\\n        select st_code, st_name, rev_period, declaration_date, rev\\n        from tej_revenue \\n        where new_industry_name = 'M2500 建材營造'; \\n        \"}\n",
      "2023-01-31 16:26:58,614 INFO sqlalchemy.engine.Engine \n",
      "        select st_code, st_name, rev_period, declaration_date, rev\n",
      "        from tej_revenue \n",
      "        where new_industry_name = 'M2500 建材營造'; \n",
      "        \n",
      "2023-01-31 16:26:58,616 INFO sqlalchemy.engine.Engine [raw sql] {}\n"
     ]
    }
   ],
   "source": [
    "dropdown1 = new_industry_name[1]\n",
    "dropdown2 = minor_industry_name[1] #minor_industry_name[5] #None\n",
    "st_input = '2539'\n",
    "\n",
    "\n",
    "if st_input is None or st_input == '':\n",
    "    try:\n",
    "        if dropdown1 is not None and dropdown2 is None or dropdown2 == '':\n",
    "            mask = (\"new_industry_name = '\" + dropdown1 + \"'\")\n",
    "\n",
    "        elif dropdown1 is None and dropdown2 is not None or dropdown1 == '':\n",
    "            mask = (\"minor_industry_name = '\" + dropdown2 + \"'\")\n",
    "\n",
    "        elif dropdown1 is not None and dropdown2 is not None:\n",
    "            mask = (\"new_industry_name = '\" + dropdown1 + \"' and \" + \"minor_industry_name = '\" + dropdown2 + \"'\")\n",
    "\n",
    "        # 從 db 撈資料\n",
    "        st_search = \"\"\"\n",
    "        select st_code, st_name, rev_period, declaration_date, rev\n",
    "        from tej_revenue \n",
    "        where {};\n",
    "        \"\"\".format(mask)\n",
    "\n",
    "        data = pd.read_sql(st_search, engine)\n",
    "        data = data.groupby(by='st_code', as_index=False).apply(get_st_mom_yoy).reset_index(drop=True, inplace=False)\n",
    "\n",
    "        # 產業最新營收公布情形\n",
    "        latest = get_latest(data)\n",
    "\n",
    "        # 產業總營收狀況\n",
    "        data = data.groupby(by='rev_period', as_index=False).agg({'rev':'sum'})\n",
    "        data = get_st_mom_yoy(data)\n",
    "\n",
    "        # 預測資料\n",
    "        data_predict = predict(data)\n",
    "\n",
    "        # 繪圖\n",
    "        title = dropdown1 + ' '\n",
    "        REV = get_revpic(data, data_predict, (title + ' 各年度月營收'))\n",
    "        MOM = get_mompic(data, data_predict, (title + ' 各年度月營收'))\n",
    "        YOY = get_yoypic(data, data_predict, (title + ' 各年度月營收'))\n",
    "\n",
    "        # 整理營收資訊表\n",
    "        table = data.pivot_table(values='rev', index='Year', columns='month').reset_index()\n",
    "        data_predict.Year = data_predict.Year + str(' 預估值')\n",
    "        table = pd.concat([table, data_predict.tail(12).pivot_table(index='Year', columns='month', values='rev').reset_index()],axis=0)\n",
    "\n",
    "    except KeyError:\n",
    "        print('跳警示通知⚠️：該分類沒有相關個股，請重新選擇，並reset')\n",
    "\n",
    "\n",
    "else:\n",
    "    try:\n",
    "        if (st_input.isdigit() == True):\n",
    "            industry = stock_info[stock_info.st_code == st_input].new_industry_name.values[0]\n",
    "            mask = (\"new_industry_name = '\" + industry + \"'\")\n",
    "            st_mask = 'st_code'\n",
    "\n",
    "        else:\n",
    "            industry = stock_info[stock_info.st_name == st_input].new_industry_name.values[0]\n",
    "            mask = (\"new_industry_name = '\" + industry + \"'\")\n",
    "            st_mask = 'st_name'\n",
    "\n",
    "        # 從 db 撈資料\n",
    "        st_search = \"\"\"\n",
    "        select st_code, st_name, rev_period, declaration_date, rev\n",
    "        from tej_revenue \n",
    "        where {}; \n",
    "        \"\"\".format(mask)\n",
    "        data = pd.read_sql(st_search, engine)\n",
    "        data = data.groupby(by='st_code', as_index=False).apply(get_st_mom_yoy).reset_index(drop=True, inplace=False)\n",
    "\n",
    "        # 產業最新營收公布情形\n",
    "        latest = get_latest(data)\n",
    "\n",
    "        # 轉換成個股總營收\n",
    "        data = data[data[st_mask] == st_input]\n",
    "        data = get_st_mom_yoy(data)\n",
    "\n",
    "        # 預測資料\n",
    "        data_predict = predict(data)\n",
    "\n",
    "        # 繪圖\n",
    "        title = data.st_code[0] + ' ' + data.st_name[0]\n",
    "        REV = get_revpic(data, data_predict, (title + ' 各年度月營收'))\n",
    "        MOM = get_mompic(data, data_predict, (title + ' 各年度月營收'))\n",
    "        YOY = get_yoypic(data, data_predict, (title + ' 各年度月營收'))   \n",
    "\n",
    "        # 整理營收資訊表\n",
    "        table = data.pivot_table(values='rev', index='Year', columns='month').reset_index()\n",
    "        data_predict.Year = data_predict.Year + str(' 預估值')\n",
    "        table = pd.concat([table, data_predict.tail(12).pivot_table(index='Year', columns='month', values='rev').reset_index()],axis=0)\n",
    "\n",
    "    except IndexError:\n",
    "        print('跳警示通知⚠️：查無該股票營收，請重新輸入，並reset')"
   ]
  },
  {
   "cell_type": "code",
   "execution_count": 357,
   "id": "833b61d6",
   "metadata": {},
   "outputs": [
    {
     "data": {
      "application/vnd.plotly.v1+json": {
       "config": {
        "plotlyServerURL": "https://plot.ly"
       },
       "data": [
        {
         "name": "2013",
         "opacity": 0.7,
         "type": "bar",
         "x": [
          "01",
          "02",
          "03",
          "04",
          "05",
          "06",
          "07",
          "08",
          "09",
          "10",
          "11",
          "12"
         ],
         "y": [
          250,
          270,
          261,
          261,
          805622,
          150039,
          249,
          261,
          280,
          280,
          280,
          2162470
         ]
        },
        {
         "name": "2014",
         "opacity": 0.7,
         "type": "bar",
         "x": [
          "01",
          "02",
          "03",
          "04",
          "05",
          "06",
          "07",
          "08",
          "09",
          "10",
          "11",
          "12"
         ],
         "y": [
          68326,
          91279,
          131,
          912496,
          323912,
          501623,
          247081,
          570616,
          309288,
          112953,
          314223,
          254454
         ]
        },
        {
         "name": "2015",
         "opacity": 0.7,
         "type": "bar",
         "x": [
          "01",
          "02",
          "03",
          "04",
          "05",
          "06",
          "07",
          "08",
          "09",
          "10",
          "11",
          "12"
         ],
         "y": [
          42170,
          26274,
          32630,
          1402952,
          370044,
          70989,
          12945,
          30864,
          20649,
          448,
          3406,
          1332763
         ]
        },
        {
         "name": "2016",
         "opacity": 0.7,
         "type": "bar",
         "x": [
          "01",
          "02",
          "03",
          "04",
          "05",
          "06",
          "07",
          "08",
          "09",
          "10",
          "11",
          "12"
         ],
         "y": [
          421268,
          22834,
          26980,
          23853,
          42711,
          422,
          8473,
          425,
          17417,
          216,
          1026315,
          1752074
         ]
        },
        {
         "name": "2017",
         "opacity": 0.7,
         "type": "bar",
         "x": [
          "01",
          "02",
          "03",
          "04",
          "05",
          "06",
          "07",
          "08",
          "09",
          "10",
          "11",
          "12"
         ],
         "y": [
          470031,
          142506,
          201620,
          119104,
          140601,
          70864,
          414884,
          835362,
          41465,
          13226,
          1362299,
          369385
         ]
        },
        {
         "name": "2018",
         "opacity": 0.7,
         "type": "bar",
         "x": [
          "01",
          "02",
          "03",
          "04",
          "05",
          "06",
          "07",
          "08",
          "09",
          "10",
          "11",
          "12"
         ],
         "y": [
          356013,
          49,
          10473,
          73,
          73,
          634454,
          410032,
          169291,
          48083,
          1078883,
          273233,
          811445
         ]
        },
        {
         "name": "2019",
         "opacity": 0.7,
         "type": "bar",
         "x": [
          "01",
          "02",
          "03",
          "04",
          "05",
          "06",
          "07",
          "08",
          "09",
          "10",
          "11",
          "12"
         ],
         "y": [
          60528,
          37192,
          82670,
          959824,
          327899,
          183800,
          485938,
          74517,
          656827,
          568195,
          49071,
          3944653
         ]
        },
        {
         "name": "2020",
         "opacity": 0.7,
         "type": "bar",
         "x": [
          "01",
          "02",
          "03",
          "04",
          "05",
          "06",
          "07",
          "08",
          "09",
          "10",
          "11",
          "12"
         ],
         "y": [
          342160,
          337298,
          24785,
          689502,
          12159,
          32552,
          698940,
          238,
          19249,
          515222,
          49228,
          1895156
         ]
        },
        {
         "name": "2021",
         "opacity": 0.7,
         "type": "bar",
         "x": [
          "01",
          "02",
          "03",
          "04",
          "05",
          "06",
          "07",
          "08",
          "09",
          "10",
          "11",
          "12"
         ],
         "y": [
          165651,
          214,
          234,
          263,
          191,
          526,
          190,
          190,
          1985169,
          31555,
          1785385,
          304748
         ]
        },
        {
         "name": "2022",
         "opacity": 0.7,
         "type": "bar",
         "x": [
          "02",
          "04",
          "05",
          "07",
          "08",
          "12"
         ],
         "y": [
          2372,
          2562133,
          604021,
          732130,
          2364287,
          0
         ]
        },
        {
         "marker": {
          "color": "black",
          "line": {
           "color": "black"
          },
          "pattern": {
           "fillmode": "replace",
           "shape": "\\"
          }
         },
         "name": "預估值",
         "opacity": 1,
         "type": "bar",
         "x": [
          "08",
          "08",
          "09",
          "10",
          "11",
          "12",
          "12",
          "02",
          "04",
          "05",
          "07",
          "08",
          "12"
         ],
         "y": [
          null,
          null,
          null,
          null,
          null,
          null,
          null,
          null,
          null,
          null,
          null,
          null,
          null
         ]
        }
       ],
       "layout": {
        "autosize": true,
        "barmode": "group",
        "hovermode": "x unified",
        "legend": {
         "title": {
          "text": "年份"
         }
        },
        "template": {
         "data": {
          "bar": [
           {
            "error_x": {
             "color": "#2a3f5f"
            },
            "error_y": {
             "color": "#2a3f5f"
            },
            "marker": {
             "line": {
              "color": "#E5ECF6",
              "width": 0.5
             },
             "pattern": {
              "fillmode": "overlay",
              "size": 10,
              "solidity": 0.2
             }
            },
            "type": "bar"
           }
          ],
          "barpolar": [
           {
            "marker": {
             "line": {
              "color": "#E5ECF6",
              "width": 0.5
             },
             "pattern": {
              "fillmode": "overlay",
              "size": 10,
              "solidity": 0.2
             }
            },
            "type": "barpolar"
           }
          ],
          "carpet": [
           {
            "aaxis": {
             "endlinecolor": "#2a3f5f",
             "gridcolor": "white",
             "linecolor": "white",
             "minorgridcolor": "white",
             "startlinecolor": "#2a3f5f"
            },
            "baxis": {
             "endlinecolor": "#2a3f5f",
             "gridcolor": "white",
             "linecolor": "white",
             "minorgridcolor": "white",
             "startlinecolor": "#2a3f5f"
            },
            "type": "carpet"
           }
          ],
          "choropleth": [
           {
            "colorbar": {
             "outlinewidth": 0,
             "ticks": ""
            },
            "type": "choropleth"
           }
          ],
          "contour": [
           {
            "colorbar": {
             "outlinewidth": 0,
             "ticks": ""
            },
            "colorscale": [
             [
              0,
              "#0d0887"
             ],
             [
              0.1111111111111111,
              "#46039f"
             ],
             [
              0.2222222222222222,
              "#7201a8"
             ],
             [
              0.3333333333333333,
              "#9c179e"
             ],
             [
              0.4444444444444444,
              "#bd3786"
             ],
             [
              0.5555555555555556,
              "#d8576b"
             ],
             [
              0.6666666666666666,
              "#ed7953"
             ],
             [
              0.7777777777777778,
              "#fb9f3a"
             ],
             [
              0.8888888888888888,
              "#fdca26"
             ],
             [
              1,
              "#f0f921"
             ]
            ],
            "type": "contour"
           }
          ],
          "contourcarpet": [
           {
            "colorbar": {
             "outlinewidth": 0,
             "ticks": ""
            },
            "type": "contourcarpet"
           }
          ],
          "heatmap": [
           {
            "colorbar": {
             "outlinewidth": 0,
             "ticks": ""
            },
            "colorscale": [
             [
              0,
              "#0d0887"
             ],
             [
              0.1111111111111111,
              "#46039f"
             ],
             [
              0.2222222222222222,
              "#7201a8"
             ],
             [
              0.3333333333333333,
              "#9c179e"
             ],
             [
              0.4444444444444444,
              "#bd3786"
             ],
             [
              0.5555555555555556,
              "#d8576b"
             ],
             [
              0.6666666666666666,
              "#ed7953"
             ],
             [
              0.7777777777777778,
              "#fb9f3a"
             ],
             [
              0.8888888888888888,
              "#fdca26"
             ],
             [
              1,
              "#f0f921"
             ]
            ],
            "type": "heatmap"
           }
          ],
          "heatmapgl": [
           {
            "colorbar": {
             "outlinewidth": 0,
             "ticks": ""
            },
            "colorscale": [
             [
              0,
              "#0d0887"
             ],
             [
              0.1111111111111111,
              "#46039f"
             ],
             [
              0.2222222222222222,
              "#7201a8"
             ],
             [
              0.3333333333333333,
              "#9c179e"
             ],
             [
              0.4444444444444444,
              "#bd3786"
             ],
             [
              0.5555555555555556,
              "#d8576b"
             ],
             [
              0.6666666666666666,
              "#ed7953"
             ],
             [
              0.7777777777777778,
              "#fb9f3a"
             ],
             [
              0.8888888888888888,
              "#fdca26"
             ],
             [
              1,
              "#f0f921"
             ]
            ],
            "type": "heatmapgl"
           }
          ],
          "histogram": [
           {
            "marker": {
             "pattern": {
              "fillmode": "overlay",
              "size": 10,
              "solidity": 0.2
             }
            },
            "type": "histogram"
           }
          ],
          "histogram2d": [
           {
            "colorbar": {
             "outlinewidth": 0,
             "ticks": ""
            },
            "colorscale": [
             [
              0,
              "#0d0887"
             ],
             [
              0.1111111111111111,
              "#46039f"
             ],
             [
              0.2222222222222222,
              "#7201a8"
             ],
             [
              0.3333333333333333,
              "#9c179e"
             ],
             [
              0.4444444444444444,
              "#bd3786"
             ],
             [
              0.5555555555555556,
              "#d8576b"
             ],
             [
              0.6666666666666666,
              "#ed7953"
             ],
             [
              0.7777777777777778,
              "#fb9f3a"
             ],
             [
              0.8888888888888888,
              "#fdca26"
             ],
             [
              1,
              "#f0f921"
             ]
            ],
            "type": "histogram2d"
           }
          ],
          "histogram2dcontour": [
           {
            "colorbar": {
             "outlinewidth": 0,
             "ticks": ""
            },
            "colorscale": [
             [
              0,
              "#0d0887"
             ],
             [
              0.1111111111111111,
              "#46039f"
             ],
             [
              0.2222222222222222,
              "#7201a8"
             ],
             [
              0.3333333333333333,
              "#9c179e"
             ],
             [
              0.4444444444444444,
              "#bd3786"
             ],
             [
              0.5555555555555556,
              "#d8576b"
             ],
             [
              0.6666666666666666,
              "#ed7953"
             ],
             [
              0.7777777777777778,
              "#fb9f3a"
             ],
             [
              0.8888888888888888,
              "#fdca26"
             ],
             [
              1,
              "#f0f921"
             ]
            ],
            "type": "histogram2dcontour"
           }
          ],
          "mesh3d": [
           {
            "colorbar": {
             "outlinewidth": 0,
             "ticks": ""
            },
            "type": "mesh3d"
           }
          ],
          "parcoords": [
           {
            "line": {
             "colorbar": {
              "outlinewidth": 0,
              "ticks": ""
             }
            },
            "type": "parcoords"
           }
          ],
          "pie": [
           {
            "automargin": true,
            "type": "pie"
           }
          ],
          "scatter": [
           {
            "marker": {
             "colorbar": {
              "outlinewidth": 0,
              "ticks": ""
             }
            },
            "type": "scatter"
           }
          ],
          "scatter3d": [
           {
            "line": {
             "colorbar": {
              "outlinewidth": 0,
              "ticks": ""
             }
            },
            "marker": {
             "colorbar": {
              "outlinewidth": 0,
              "ticks": ""
             }
            },
            "type": "scatter3d"
           }
          ],
          "scattercarpet": [
           {
            "marker": {
             "colorbar": {
              "outlinewidth": 0,
              "ticks": ""
             }
            },
            "type": "scattercarpet"
           }
          ],
          "scattergeo": [
           {
            "marker": {
             "colorbar": {
              "outlinewidth": 0,
              "ticks": ""
             }
            },
            "type": "scattergeo"
           }
          ],
          "scattergl": [
           {
            "marker": {
             "colorbar": {
              "outlinewidth": 0,
              "ticks": ""
             }
            },
            "type": "scattergl"
           }
          ],
          "scattermapbox": [
           {
            "marker": {
             "colorbar": {
              "outlinewidth": 0,
              "ticks": ""
             }
            },
            "type": "scattermapbox"
           }
          ],
          "scatterpolar": [
           {
            "marker": {
             "colorbar": {
              "outlinewidth": 0,
              "ticks": ""
             }
            },
            "type": "scatterpolar"
           }
          ],
          "scatterpolargl": [
           {
            "marker": {
             "colorbar": {
              "outlinewidth": 0,
              "ticks": ""
             }
            },
            "type": "scatterpolargl"
           }
          ],
          "scatterternary": [
           {
            "marker": {
             "colorbar": {
              "outlinewidth": 0,
              "ticks": ""
             }
            },
            "type": "scatterternary"
           }
          ],
          "surface": [
           {
            "colorbar": {
             "outlinewidth": 0,
             "ticks": ""
            },
            "colorscale": [
             [
              0,
              "#0d0887"
             ],
             [
              0.1111111111111111,
              "#46039f"
             ],
             [
              0.2222222222222222,
              "#7201a8"
             ],
             [
              0.3333333333333333,
              "#9c179e"
             ],
             [
              0.4444444444444444,
              "#bd3786"
             ],
             [
              0.5555555555555556,
              "#d8576b"
             ],
             [
              0.6666666666666666,
              "#ed7953"
             ],
             [
              0.7777777777777778,
              "#fb9f3a"
             ],
             [
              0.8888888888888888,
              "#fdca26"
             ],
             [
              1,
              "#f0f921"
             ]
            ],
            "type": "surface"
           }
          ],
          "table": [
           {
            "cells": {
             "fill": {
              "color": "#EBF0F8"
             },
             "line": {
              "color": "white"
             }
            },
            "header": {
             "fill": {
              "color": "#C8D4E3"
             },
             "line": {
              "color": "white"
             }
            },
            "type": "table"
           }
          ]
         },
         "layout": {
          "annotationdefaults": {
           "arrowcolor": "#2a3f5f",
           "arrowhead": 0,
           "arrowwidth": 1
          },
          "autotypenumbers": "strict",
          "coloraxis": {
           "colorbar": {
            "outlinewidth": 0,
            "ticks": ""
           }
          },
          "colorscale": {
           "diverging": [
            [
             0,
             "#8e0152"
            ],
            [
             0.1,
             "#c51b7d"
            ],
            [
             0.2,
             "#de77ae"
            ],
            [
             0.3,
             "#f1b6da"
            ],
            [
             0.4,
             "#fde0ef"
            ],
            [
             0.5,
             "#f7f7f7"
            ],
            [
             0.6,
             "#e6f5d0"
            ],
            [
             0.7,
             "#b8e186"
            ],
            [
             0.8,
             "#7fbc41"
            ],
            [
             0.9,
             "#4d9221"
            ],
            [
             1,
             "#276419"
            ]
           ],
           "sequential": [
            [
             0,
             "#0d0887"
            ],
            [
             0.1111111111111111,
             "#46039f"
            ],
            [
             0.2222222222222222,
             "#7201a8"
            ],
            [
             0.3333333333333333,
             "#9c179e"
            ],
            [
             0.4444444444444444,
             "#bd3786"
            ],
            [
             0.5555555555555556,
             "#d8576b"
            ],
            [
             0.6666666666666666,
             "#ed7953"
            ],
            [
             0.7777777777777778,
             "#fb9f3a"
            ],
            [
             0.8888888888888888,
             "#fdca26"
            ],
            [
             1,
             "#f0f921"
            ]
           ],
           "sequentialminus": [
            [
             0,
             "#0d0887"
            ],
            [
             0.1111111111111111,
             "#46039f"
            ],
            [
             0.2222222222222222,
             "#7201a8"
            ],
            [
             0.3333333333333333,
             "#9c179e"
            ],
            [
             0.4444444444444444,
             "#bd3786"
            ],
            [
             0.5555555555555556,
             "#d8576b"
            ],
            [
             0.6666666666666666,
             "#ed7953"
            ],
            [
             0.7777777777777778,
             "#fb9f3a"
            ],
            [
             0.8888888888888888,
             "#fdca26"
            ],
            [
             1,
             "#f0f921"
            ]
           ]
          },
          "colorway": [
           "#636efa",
           "#EF553B",
           "#00cc96",
           "#ab63fa",
           "#FFA15A",
           "#19d3f3",
           "#FF6692",
           "#B6E880",
           "#FF97FF",
           "#FECB52"
          ],
          "font": {
           "color": "#2a3f5f"
          },
          "geo": {
           "bgcolor": "white",
           "lakecolor": "white",
           "landcolor": "#E5ECF6",
           "showlakes": true,
           "showland": true,
           "subunitcolor": "white"
          },
          "hoverlabel": {
           "align": "left"
          },
          "hovermode": "closest",
          "mapbox": {
           "style": "light"
          },
          "paper_bgcolor": "white",
          "plot_bgcolor": "#E5ECF6",
          "polar": {
           "angularaxis": {
            "gridcolor": "white",
            "linecolor": "white",
            "ticks": ""
           },
           "bgcolor": "#E5ECF6",
           "radialaxis": {
            "gridcolor": "white",
            "linecolor": "white",
            "ticks": ""
           }
          },
          "scene": {
           "xaxis": {
            "backgroundcolor": "#E5ECF6",
            "gridcolor": "white",
            "gridwidth": 2,
            "linecolor": "white",
            "showbackground": true,
            "ticks": "",
            "zerolinecolor": "white"
           },
           "yaxis": {
            "backgroundcolor": "#E5ECF6",
            "gridcolor": "white",
            "gridwidth": 2,
            "linecolor": "white",
            "showbackground": true,
            "ticks": "",
            "zerolinecolor": "white"
           },
           "zaxis": {
            "backgroundcolor": "#E5ECF6",
            "gridcolor": "white",
            "gridwidth": 2,
            "linecolor": "white",
            "showbackground": true,
            "ticks": "",
            "zerolinecolor": "white"
           }
          },
          "shapedefaults": {
           "line": {
            "color": "#2a3f5f"
           }
          },
          "ternary": {
           "aaxis": {
            "gridcolor": "white",
            "linecolor": "white",
            "ticks": ""
           },
           "baxis": {
            "gridcolor": "white",
            "linecolor": "white",
            "ticks": ""
           },
           "bgcolor": "#E5ECF6",
           "caxis": {
            "gridcolor": "white",
            "linecolor": "white",
            "ticks": ""
           }
          },
          "title": {
           "x": 0.05
          },
          "xaxis": {
           "automargin": true,
           "gridcolor": "white",
           "linecolor": "white",
           "ticks": "",
           "title": {
            "standoff": 15
           },
           "zerolinecolor": "white",
           "zerolinewidth": 2
          },
          "yaxis": {
           "automargin": true,
           "gridcolor": "white",
           "linecolor": "white",
           "ticks": "",
           "title": {
            "standoff": 15
           },
           "zerolinecolor": "white",
           "zerolinewidth": 2
          }
         }
        },
        "title": {
         "text": "2539 櫻花建 各年度月營收"
        },
        "xaxis": {
         "autorange": true,
         "range": [
          -0.5,
          11.5
         ],
         "title": {
          "text": "月份"
         },
         "type": "category"
        },
        "yaxis": {
         "autorange": true,
         "range": [
          0,
          4152266.3157894737
         ],
         "title": {
          "text": "累計營收"
         },
         "type": "linear"
        }
       }
      },
      "image/png": "[encoded data removed]",
      "text/html": [
       "<div>                            <div id=\"e1de5e19-c58b-48fb-ba35-a4f7ebfd180c\" class=\"plotly-graph-div\" style=\"height:525px; width:100%;\"></div>            <script type=\"text/javascript\">                require([\"plotly\"], function(Plotly) {                    window.PLOTLYENV=window.PLOTLYENV || {};                                    if (document.getElementById(\"e1de5e19-c58b-48fb-ba35-a4f7ebfd180c\")) {                    Plotly.newPlot(                        \"e1de5e19-c58b-48fb-ba35-a4f7ebfd180c\",                        [{\"name\":\"2013\",\"opacity\":0.7,\"x\":[\"01\",\"02\",\"03\",\"04\",\"05\",\"06\",\"07\",\"08\",\"09\",\"10\",\"11\",\"12\"],\"y\":[250.0,270.0,261.0,261.0,805622.0,150039.0,249.0,261.0,280.0,280.0,280.0,2162470.0],\"type\":\"bar\"},{\"name\":\"2014\",\"opacity\":0.7,\"x\":[\"01\",\"02\",\"03\",\"04\",\"05\",\"06\",\"07\",\"08\",\"09\",\"10\",\"11\",\"12\"],\"y\":[68326.0,91279.0,131.0,912496.0,323912.0,501623.0,247081.0,570616.0,309288.0,112953.0,314223.0,254454.0],\"type\":\"bar\"},{\"name\":\"2015\",\"opacity\":0.7,\"x\":[\"01\",\"02\",\"03\",\"04\",\"05\",\"06\",\"07\",\"08\",\"09\",\"10\",\"11\",\"12\"],\"y\":[42170.0,26274.0,32630.0,1402952.0,370044.0,70989.0,12945.0,30864.0,20649.0,448.0,3406.0,1332763.0],\"type\":\"bar\"},{\"name\":\"2016\",\"opacity\":0.7,\"x\":[\"01\",\"02\",\"03\",\"04\",\"05\",\"06\",\"07\",\"08\",\"09\",\"10\",\"11\",\"12\"],\"y\":[421268.0,22834.0,26980.0,23853.0,42711.0,422.0,8473.0,425.0,17417.0,216.0,1026315.0,1752074.0],\"type\":\"bar\"},{\"name\":\"2017\",\"opacity\":0.7,\"x\":[\"01\",\"02\",\"03\",\"04\",\"05\",\"06\",\"07\",\"08\",\"09\",\"10\",\"11\",\"12\"],\"y\":[470031.0,142506.0,201620.0,119104.0,140601.0,70864.0,414884.0,835362.0,41465.0,13226.0,1362299.0,369385.0],\"type\":\"bar\"},{\"name\":\"2018\",\"opacity\":0.7,\"x\":[\"01\",\"02\",\"03\",\"04\",\"05\",\"06\",\"07\",\"08\",\"09\",\"10\",\"11\",\"12\"],\"y\":[356013.0,49.0,10473.0,73.0,73.0,634454.0,410032.0,169291.0,48083.0,1078883.0,273233.0,811445.0],\"type\":\"bar\"},{\"name\":\"2019\",\"opacity\":0.7,\"x\":[\"01\",\"02\",\"03\",\"04\",\"05\",\"06\",\"07\",\"08\",\"09\",\"10\",\"11\",\"12\"],\"y\":[60528.0,37192.0,82670.0,959824.0,327899.0,183800.0,485938.0,74517.0,656827.0,568195.0,49071.0,3944653.0],\"type\":\"bar\"},{\"name\":\"2020\",\"opacity\":0.7,\"x\":[\"01\",\"02\",\"03\",\"04\",\"05\",\"06\",\"07\",\"08\",\"09\",\"10\",\"11\",\"12\"],\"y\":[342160.0,337298.0,24785.0,689502.0,12159.0,32552.0,698940.0,238.0,19249.0,515222.0,49228.0,1895156.0],\"type\":\"bar\"},{\"name\":\"2021\",\"opacity\":0.7,\"x\":[\"01\",\"02\",\"03\",\"04\",\"05\",\"06\",\"07\",\"08\",\"09\",\"10\",\"11\",\"12\"],\"y\":[165651.0,214.0,234.0,263.0,191.0,526.0,190.0,190.0,1985169.0,31555.0,1785385.0,304748.0],\"type\":\"bar\"},{\"name\":\"2022\",\"opacity\":0.7,\"x\":[\"02\",\"04\",\"05\",\"07\",\"08\",\"12\"],\"y\":[2372.0,2562133.0,604021.0,732130.0,2364287.0,0.0],\"type\":\"bar\"},{\"marker\":{\"color\":\"black\",\"line\":{\"color\":\"black\"},\"pattern\":{\"fillmode\":\"replace\",\"shape\":\"\\\\\"}},\"name\":\"\\u9810\\u4f30\\u503c\",\"opacity\":1,\"x\":[\"08\",\"08\",\"09\",\"10\",\"11\",\"12\",\"12\",\"02\",\"04\",\"05\",\"07\",\"08\",\"12\"],\"y\":[null,null,null,null,null,null,null,null,null,null,null,null,null],\"type\":\"bar\"}],                        {\"barmode\":\"group\",\"hovermode\":\"x unified\",\"legend\":{\"title\":{\"text\":\"\\u5e74\\u4efd\"}},\"title\":{\"text\":\"2539 \\u6afb\\u82b1\\u5efa \\u5404\\u5e74\\u5ea6\\u6708\\u71df\\u6536\"},\"xaxis\":{\"title\":{\"text\":\"\\u6708\\u4efd\"}},\"yaxis\":{\"title\":{\"text\":\"\\u7d2f\\u8a08\\u71df\\u6536\"}},\"template\":{\"data\":{\"bar\":[{\"error_x\":{\"color\":\"#2a3f5f\"},\"error_y\":{\"color\":\"#2a3f5f\"},\"marker\":{\"line\":{\"color\":\"#E5ECF6\",\"width\":0.5},\"pattern\":{\"fillmode\":\"overlay\",\"size\":10,\"solidity\":0.2}},\"type\":\"bar\"}],\"barpolar\":[{\"marker\":{\"line\":{\"color\":\"#E5ECF6\",\"width\":0.5},\"pattern\":{\"fillmode\":\"overlay\",\"size\":10,\"solidity\":0.2}},\"type\":\"barpolar\"}],\"carpet\":[{\"aaxis\":{\"endlinecolor\":\"#2a3f5f\",\"gridcolor\":\"white\",\"linecolor\":\"white\",\"minorgridcolor\":\"white\",\"startlinecolor\":\"#2a3f5f\"},\"baxis\":{\"endlinecolor\":\"#2a3f5f\",\"gridcolor\":\"white\",\"linecolor\":\"white\",\"minorgridcolor\":\"white\",\"startlinecolor\":\"#2a3f5f\"},\"type\":\"carpet\"}],\"choropleth\":[{\"colorbar\":{\"outlinewidth\":0,\"ticks\":\"\"},\"type\":\"choropleth\"}],\"contour\":[{\"colorbar\":{\"outlinewidth\":0,\"ticks\":\"\"},\"colorscale\":[[0.0,\"#0d0887\"],[0.1111111111111111,\"#46039f\"],[0.2222222222222222,\"#7201a8\"],[0.3333333333333333,\"#9c179e\"],[0.4444444444444444,\"#bd3786\"],[0.5555555555555556,\"#d8576b\"],[0.6666666666666666,\"#ed7953\"],[0.7777777777777778,\"#fb9f3a\"],[0.8888888888888888,\"#fdca26\"],[1.0,\"#f0f921\"]],\"type\":\"contour\"}],\"contourcarpet\":[{\"colorbar\":{\"outlinewidth\":0,\"ticks\":\"\"},\"type\":\"contourcarpet\"}],\"heatmap\":[{\"colorbar\":{\"outlinewidth\":0,\"ticks\":\"\"},\"colorscale\":[[0.0,\"#0d0887\"],[0.1111111111111111,\"#46039f\"],[0.2222222222222222,\"#7201a8\"],[0.3333333333333333,\"#9c179e\"],[0.4444444444444444,\"#bd3786\"],[0.5555555555555556,\"#d8576b\"],[0.6666666666666666,\"#ed7953\"],[0.7777777777777778,\"#fb9f3a\"],[0.8888888888888888,\"#fdca26\"],[1.0,\"#f0f921\"]],\"type\":\"heatmap\"}],\"heatmapgl\":[{\"colorbar\":{\"outlinewidth\":0,\"ticks\":\"\"},\"colorscale\":[[0.0,\"#0d0887\"],[0.1111111111111111,\"#46039f\"],[0.2222222222222222,\"#7201a8\"],[0.3333333333333333,\"#9c179e\"],[0.4444444444444444,\"#bd3786\"],[0.5555555555555556,\"#d8576b\"],[0.6666666666666666,\"#ed7953\"],[0.7777777777777778,\"#fb9f3a\"],[0.8888888888888888,\"#fdca26\"],[1.0,\"#f0f921\"]],\"type\":\"heatmapgl\"}],\"histogram\":[{\"marker\":{\"pattern\":{\"fillmode\":\"overlay\",\"size\":10,\"solidity\":0.2}},\"type\":\"histogram\"}],\"histogram2d\":[{\"colorbar\":{\"outlinewidth\":0,\"ticks\":\"\"},\"colorscale\":[[0.0,\"#0d0887\"],[0.1111111111111111,\"#46039f\"],[0.2222222222222222,\"#7201a8\"],[0.3333333333333333,\"#9c179e\"],[0.4444444444444444,\"#bd3786\"],[0.5555555555555556,\"#d8576b\"],[0.6666666666666666,\"#ed7953\"],[0.7777777777777778,\"#fb9f3a\"],[0.8888888888888888,\"#fdca26\"],[1.0,\"#f0f921\"]],\"type\":\"histogram2d\"}],\"histogram2dcontour\":[{\"colorbar\":{\"outlinewidth\":0,\"ticks\":\"\"},\"colorscale\":[[0.0,\"#0d0887\"],[0.1111111111111111,\"#46039f\"],[0.2222222222222222,\"#7201a8\"],[0.3333333333333333,\"#9c179e\"],[0.4444444444444444,\"#bd3786\"],[0.5555555555555556,\"#d8576b\"],[0.6666666666666666,\"#ed7953\"],[0.7777777777777778,\"#fb9f3a\"],[0.8888888888888888,\"#fdca26\"],[1.0,\"#f0f921\"]],\"type\":\"histogram2dcontour\"}],\"mesh3d\":[{\"colorbar\":{\"outlinewidth\":0,\"ticks\":\"\"},\"type\":\"mesh3d\"}],\"parcoords\":[{\"line\":{\"colorbar\":{\"outlinewidth\":0,\"ticks\":\"\"}},\"type\":\"parcoords\"}],\"pie\":[{\"automargin\":true,\"type\":\"pie\"}],\"scatter\":[{\"marker\":{\"colorbar\":{\"outlinewidth\":0,\"ticks\":\"\"}},\"type\":\"scatter\"}],\"scatter3d\":[{\"line\":{\"colorbar\":{\"outlinewidth\":0,\"ticks\":\"\"}},\"marker\":{\"colorbar\":{\"outlinewidth\":0,\"ticks\":\"\"}},\"type\":\"scatter3d\"}],\"scattercarpet\":[{\"marker\":{\"colorbar\":{\"outlinewidth\":0,\"ticks\":\"\"}},\"type\":\"scattercarpet\"}],\"scattergeo\":[{\"marker\":{\"colorbar\":{\"outlinewidth\":0,\"ticks\":\"\"}},\"type\":\"scattergeo\"}],\"scattergl\":[{\"marker\":{\"colorbar\":{\"outlinewidth\":0,\"ticks\":\"\"}},\"type\":\"scattergl\"}],\"scattermapbox\":[{\"marker\":{\"colorbar\":{\"outlinewidth\":0,\"ticks\":\"\"}},\"type\":\"scattermapbox\"}],\"scatterpolar\":[{\"marker\":{\"colorbar\":{\"outlinewidth\":0,\"ticks\":\"\"}},\"type\":\"scatterpolar\"}],\"scatterpolargl\":[{\"marker\":{\"colorbar\":{\"outlinewidth\":0,\"ticks\":\"\"}},\"type\":\"scatterpolargl\"}],\"scatterternary\":[{\"marker\":{\"colorbar\":{\"outlinewidth\":0,\"ticks\":\"\"}},\"type\":\"scatterternary\"}],\"surface\":[{\"colorbar\":{\"outlinewidth\":0,\"ticks\":\"\"},\"colorscale\":[[0.0,\"#0d0887\"],[0.1111111111111111,\"#46039f\"],[0.2222222222222222,\"#7201a8\"],[0.3333333333333333,\"#9c179e\"],[0.4444444444444444,\"#bd3786\"],[0.5555555555555556,\"#d8576b\"],[0.6666666666666666,\"#ed7953\"],[0.7777777777777778,\"#fb9f3a\"],[0.8888888888888888,\"#fdca26\"],[1.0,\"#f0f921\"]],\"type\":\"surface\"}],\"table\":[{\"cells\":{\"fill\":{\"color\":\"#EBF0F8\"},\"line\":{\"color\":\"white\"}},\"header\":{\"fill\":{\"color\":\"#C8D4E3\"},\"line\":{\"color\":\"white\"}},\"type\":\"table\"}]},\"layout\":{\"annotationdefaults\":{\"arrowcolor\":\"#2a3f5f\",\"arrowhead\":0,\"arrowwidth\":1},\"autotypenumbers\":\"strict\",\"coloraxis\":{\"colorbar\":{\"outlinewidth\":0,\"ticks\":\"\"}},\"colorscale\":{\"diverging\":[[0,\"#8e0152\"],[0.1,\"#c51b7d\"],[0.2,\"#de77ae\"],[0.3,\"#f1b6da\"],[0.4,\"#fde0ef\"],[0.5,\"#f7f7f7\"],[0.6,\"#e6f5d0\"],[0.7,\"#b8e186\"],[0.8,\"#7fbc41\"],[0.9,\"#4d9221\"],[1,\"#276419\"]],\"sequential\":[[0.0,\"#0d0887\"],[0.1111111111111111,\"#46039f\"],[0.2222222222222222,\"#7201a8\"],[0.3333333333333333,\"#9c179e\"],[0.4444444444444444,\"#bd3786\"],[0.5555555555555556,\"#d8576b\"],[0.6666666666666666,\"#ed7953\"],[0.7777777777777778,\"#fb9f3a\"],[0.8888888888888888,\"#fdca26\"],[1.0,\"#f0f921\"]],\"sequentialminus\":[[0.0,\"#0d0887\"],[0.1111111111111111,\"#46039f\"],[0.2222222222222222,\"#7201a8\"],[0.3333333333333333,\"#9c179e\"],[0.4444444444444444,\"#bd3786\"],[0.5555555555555556,\"#d8576b\"],[0.6666666666666666,\"#ed7953\"],[0.7777777777777778,\"#fb9f3a\"],[0.8888888888888888,\"#fdca26\"],[1.0,\"#f0f921\"]]},\"colorway\":[\"#636efa\",\"#EF553B\",\"#00cc96\",\"#ab63fa\",\"#FFA15A\",\"#19d3f3\",\"#FF6692\",\"#B6E880\",\"#FF97FF\",\"#FECB52\"],\"font\":{\"color\":\"#2a3f5f\"},\"geo\":{\"bgcolor\":\"white\",\"lakecolor\":\"white\",\"landcolor\":\"#E5ECF6\",\"showlakes\":true,\"showland\":true,\"subunitcolor\":\"white\"},\"hoverlabel\":{\"align\":\"left\"},\"hovermode\":\"closest\",\"mapbox\":{\"style\":\"light\"},\"paper_bgcolor\":\"white\",\"plot_bgcolor\":\"#E5ECF6\",\"polar\":{\"angularaxis\":{\"gridcolor\":\"white\",\"linecolor\":\"white\",\"ticks\":\"\"},\"bgcolor\":\"#E5ECF6\",\"radialaxis\":{\"gridcolor\":\"white\",\"linecolor\":\"white\",\"ticks\":\"\"}},\"scene\":{\"xaxis\":{\"backgroundcolor\":\"#E5ECF6\",\"gridcolor\":\"white\",\"gridwidth\":2,\"linecolor\":\"white\",\"showbackground\":true,\"ticks\":\"\",\"zerolinecolor\":\"white\"},\"yaxis\":{\"backgroundcolor\":\"#E5ECF6\",\"gridcolor\":\"white\",\"gridwidth\":2,\"linecolor\":\"white\",\"showbackground\":true,\"ticks\":\"\",\"zerolinecolor\":\"white\"},\"zaxis\":{\"backgroundcolor\":\"#E5ECF6\",\"gridcolor\":\"white\",\"gridwidth\":2,\"linecolor\":\"white\",\"showbackground\":true,\"ticks\":\"\",\"zerolinecolor\":\"white\"}},\"shapedefaults\":{\"line\":{\"color\":\"#2a3f5f\"}},\"ternary\":{\"aaxis\":{\"gridcolor\":\"white\",\"linecolor\":\"white\",\"ticks\":\"\"},\"baxis\":{\"gridcolor\":\"white\",\"linecolor\":\"white\",\"ticks\":\"\"},\"bgcolor\":\"#E5ECF6\",\"caxis\":{\"gridcolor\":\"white\",\"linecolor\":\"white\",\"ticks\":\"\"}},\"title\":{\"x\":0.05},\"xaxis\":{\"automargin\":true,\"gridcolor\":\"white\",\"linecolor\":\"white\",\"ticks\":\"\",\"title\":{\"standoff\":15},\"zerolinecolor\":\"white\",\"zerolinewidth\":2},\"yaxis\":{\"automargin\":true,\"gridcolor\":\"white\",\"linecolor\":\"white\",\"ticks\":\"\",\"title\":{\"standoff\":15},\"zerolinecolor\":\"white\",\"zerolinewidth\":2}}}},                        {\"responsive\": true}                    ).then(function(){\n",
       "                            \n",
       "var gd = document.getElementById('e1de5e19-c58b-48fb-ba35-a4f7ebfd180c');\n",
       "var x = new MutationObserver(function (mutations, observer) {{\n",
       "        var display = window.getComputedStyle(gd).display;\n",
       "        if (!display || display === 'none') {{\n",
       "            console.log([gd, 'removed!']);\n",
       "            Plotly.purge(gd);\n",
       "            observer.disconnect();\n",
       "        }}\n",
       "}});\n",
       "\n",
       "// Listen for the removal of the full notebook cells\n",
       "var notebookContainer = gd.closest('#notebook-container');\n",
       "if (notebookContainer) {{\n",
       "    x.observe(notebookContainer, {childList: true});\n",
       "}}\n",
       "\n",
       "// Listen for the clearing of the current output cell\n",
       "var outputEl = gd.closest('.output');\n",
       "if (outputEl) {{\n",
       "    x.observe(outputEl, {childList: true});\n",
       "}}\n",
       "\n",
       "                        })                };                });            </script>        </div>"
      ]
     },
     "metadata": {},
     "output_type": "display_data"
    },
    {
     "data": {
      "application/vnd.plotly.v1+json": {
       "config": {
        "plotlyServerURL": "https://plot.ly"
       },
       "data": [
        {
         "name": "2013",
         "opacity": 0.5,
         "type": "scatter",
         "x": [
          "01",
          "02",
          "03",
          "04",
          "05",
          "06",
          "07",
          "08",
          "09",
          "10",
          "11",
          "12"
         ],
         "y": [
          null,
          0.08,
          -0.03333333333333333,
          0,
          3085.6743295019155,
          -0.8137600512399116,
          -0.9983404314878132,
          0.04819277108433735,
          0.07279693486590039,
          0,
          0,
          7722.107142857143
         ]
        },
        {
         "name": "2014",
         "opacity": 0.5,
         "type": "scatter",
         "x": [
          "01",
          "02",
          "03",
          "04",
          "05",
          "06",
          "07",
          "08",
          "09",
          "10",
          "11",
          "12"
         ],
         "y": [
          -0.9684037235198638,
          0.3359336123876709,
          -0.9985648396673934,
          6964.618320610687,
          -0.6450263891567743,
          0.5486397540072613,
          -0.5074368599525939,
          1.3094288917399557,
          -0.4579752407924068,
          -0.6347966943431365,
          1.7818915832248812,
          -0.19021204685844129
         ]
        },
        {
         "name": "2015",
         "opacity": 0.5,
         "type": "scatter",
         "x": [
          "01",
          "02",
          "03",
          "04",
          "05",
          "06",
          "07",
          "08",
          "09",
          "10",
          "11",
          "12"
         ],
         "y": [
          -0.8342725993696306,
          -0.376950438700498,
          0.24191215650452919,
          41.99577076310144,
          -0.7362390160176542,
          -0.8081606511658073,
          -0.8176478045894434,
          1.3842410196987254,
          -0.33096811819595645,
          -0.9783040340936607,
          6.602678571428571,
          390.29859072225486
         ]
        },
        {
         "name": "2016",
         "opacity": 0.5,
         "type": "scatter",
         "x": [
          "01",
          "02",
          "03",
          "04",
          "05",
          "06",
          "07",
          "08",
          "09",
          "10",
          "11",
          "12"
         ],
         "y": [
          -0.6839137941254372,
          -0.9457969748473656,
          0.18157134098274502,
          -0.1159006671608599,
          0.7905923783171928,
          -0.9901196413102011,
          19.078199052132703,
          -0.9498406703646878,
          39.98117647058824,
          -0.9875983234770627,
          4750.458333333333,
          0.707150338833594
         ]
        },
        {
         "name": "2017",
         "opacity": 0.5,
         "type": "scatter",
         "x": [
          "01",
          "02",
          "03",
          "04",
          "05",
          "06",
          "07",
          "08",
          "09",
          "10",
          "11",
          "12"
         ],
         "y": [
          -0.7317287968430557,
          -0.6968157419404252,
          0.4148176217141734,
          -0.40926495387362366,
          0.18048932025792586,
          -0.4959922048918571,
          4.854651162790698,
          1.0134832868946502,
          -0.9503628367103124,
          -0.6810321958278066,
          102.00158778164221,
          -0.7288517425322928
         ]
        },
        {
         "name": "2018",
         "opacity": 0.5,
         "type": "scatter",
         "x": [
          "01",
          "02",
          "03",
          "04",
          "05",
          "06",
          "07",
          "08",
          "09",
          "10",
          "11",
          "12"
         ],
         "y": [
          -0.03620071199426073,
          -0.9998623645765744,
          212.73469387755102,
          -0.9930296954072376,
          0,
          8690.150684931506,
          -0.3537246199094024,
          -0.5871273461583486,
          -0.7159742691578407,
          21.437930245616954,
          -0.7467445496870374,
          1.9697913502395392
         ]
        },
        {
         "name": "2019",
         "opacity": 0.5,
         "type": "scatter",
         "x": [
          "01",
          "02",
          "03",
          "04",
          "05",
          "06",
          "07",
          "08",
          "09",
          "10",
          "11",
          "12"
         ],
         "y": [
          -0.9254071440454991,
          -0.38554057626222576,
          1.2227898472789847,
          10.610306036046934,
          -0.658375910583607,
          -0.43946154151125805,
          1.6438411316648531,
          -0.8466532767554709,
          7.814458445723795,
          -0.13493964164079736,
          -0.913637043620588,
          79.38664384259542
         ]
        },
        {
         "name": "2020",
         "opacity": 0.5,
         "type": "scatter",
         "x": [
          "01",
          "02",
          "03",
          "04",
          "05",
          "06",
          "07",
          "08",
          "09",
          "10",
          "11",
          "12"
         ],
         "y": [
          -0.913259797503101,
          -0.014209726443768996,
          -0.9265189832136568,
          26.81932620536615,
          -0.9823655333849648,
          1.6771938481783042,
          20.471491767018925,
          -0.9996594843620339,
          79.8781512605042,
          25.766169671151747,
          -0.9044528378058391,
          37.49752173559763
         ]
        },
        {
         "name": "2021",
         "opacity": 0.5,
         "type": "scatter",
         "x": [
          "01",
          "02",
          "03",
          "04",
          "05",
          "06",
          "07",
          "08",
          "09",
          "10",
          "11",
          "12"
         ],
         "y": [
          -0.9125924198324571,
          -0.9987081273279365,
          0.09345794392523364,
          0.12393162393162394,
          -0.2737642585551331,
          1.7539267015706805,
          -0.6387832699619772,
          0,
          10447.257894736842,
          -0.9841046278679548,
          55.58009824116622,
          -0.8293096446984825
         ]
        },
        {
         "name": "2022",
         "opacity": 0.5,
         "type": "scatter",
         "x": [
          "02",
          "04",
          "05",
          "07",
          "08",
          "12"
         ],
         "y": [
          -0.9922165198787195,
          1079.1572512647556,
          -0.7642507239085559,
          0.21209361926158196,
          2.229326758908937,
          -1
         ]
        },
        {
         "connectgaps": false,
         "line": {
          "dash": "dash"
         },
         "name": "2022預估值",
         "type": "scatter",
         "x": [
          "08",
          "08",
          "09",
          "10",
          "11",
          "12",
          "12"
         ],
         "y": [
          null,
          null,
          null,
          null,
          null,
          null,
          null
         ]
        },
        {
         "connectgaps": false,
         "line": {
          "dash": "dash"
         },
         "name": "2023預估值",
         "type": "scatter",
         "x": [
          "02",
          "04",
          "05",
          "07",
          "08",
          "12"
         ],
         "y": [
          null,
          null,
          null,
          null,
          null,
          null
         ]
        }
       ],
       "layout": {
        "autosize": true,
        "hovermode": "x unified",
        "legend": {
         "title": {
          "text": "年份"
         }
        },
        "template": {
         "data": {
          "bar": [
           {
            "error_x": {
             "color": "#2a3f5f"
            },
            "error_y": {
             "color": "#2a3f5f"
            },
            "marker": {
             "line": {
              "color": "#E5ECF6",
              "width": 0.5
             },
             "pattern": {
              "fillmode": "overlay",
              "size": 10,
              "solidity": 0.2
             }
            },
            "type": "bar"
           }
          ],
          "barpolar": [
           {
            "marker": {
             "line": {
              "color": "#E5ECF6",
              "width": 0.5
             },
             "pattern": {
              "fillmode": "overlay",
              "size": 10,
              "solidity": 0.2
             }
            },
            "type": "barpolar"
           }
          ],
          "carpet": [
           {
            "aaxis": {
             "endlinecolor": "#2a3f5f",
             "gridcolor": "white",
             "linecolor": "white",
             "minorgridcolor": "white",
             "startlinecolor": "#2a3f5f"
            },
            "baxis": {
             "endlinecolor": "#2a3f5f",
             "gridcolor": "white",
             "linecolor": "white",
             "minorgridcolor": "white",
             "startlinecolor": "#2a3f5f"
            },
            "type": "carpet"
           }
          ],
          "choropleth": [
           {
            "colorbar": {
             "outlinewidth": 0,
             "ticks": ""
            },
            "type": "choropleth"
           }
          ],
          "contour": [
           {
            "colorbar": {
             "outlinewidth": 0,
             "ticks": ""
            },
            "colorscale": [
             [
              0,
              "#0d0887"
             ],
             [
              0.1111111111111111,
              "#46039f"
             ],
             [
              0.2222222222222222,
              "#7201a8"
             ],
             [
              0.3333333333333333,
              "#9c179e"
             ],
             [
              0.4444444444444444,
              "#bd3786"
             ],
             [
              0.5555555555555556,
              "#d8576b"
             ],
             [
              0.6666666666666666,
              "#ed7953"
             ],
             [
              0.7777777777777778,
              "#fb9f3a"
             ],
             [
              0.8888888888888888,
              "#fdca26"
             ],
             [
              1,
              "#f0f921"
             ]
            ],
            "type": "contour"
           }
          ],
          "contourcarpet": [
           {
            "colorbar": {
             "outlinewidth": 0,
             "ticks": ""
            },
            "type": "contourcarpet"
           }
          ],
          "heatmap": [
           {
            "colorbar": {
             "outlinewidth": 0,
             "ticks": ""
            },
            "colorscale": [
             [
              0,
              "#0d0887"
             ],
             [
              0.1111111111111111,
              "#46039f"
             ],
             [
              0.2222222222222222,
              "#7201a8"
             ],
             [
              0.3333333333333333,
              "#9c179e"
             ],
             [
              0.4444444444444444,
              "#bd3786"
             ],
             [
              0.5555555555555556,
              "#d8576b"
             ],
             [
              0.6666666666666666,
              "#ed7953"
             ],
             [
              0.7777777777777778,
              "#fb9f3a"
             ],
             [
              0.8888888888888888,
              "#fdca26"
             ],
             [
              1,
              "#f0f921"
             ]
            ],
            "type": "heatmap"
           }
          ],
          "heatmapgl": [
           {
            "colorbar": {
             "outlinewidth": 0,
             "ticks": ""
            },
            "colorscale": [
             [
              0,
              "#0d0887"
             ],
             [
              0.1111111111111111,
              "#46039f"
             ],
             [
              0.2222222222222222,
              "#7201a8"
             ],
             [
              0.3333333333333333,
              "#9c179e"
             ],
             [
              0.4444444444444444,
              "#bd3786"
             ],
             [
              0.5555555555555556,
              "#d8576b"
             ],
             [
              0.6666666666666666,
              "#ed7953"
             ],
             [
              0.7777777777777778,
              "#fb9f3a"
             ],
             [
              0.8888888888888888,
              "#fdca26"
             ],
             [
              1,
              "#f0f921"
             ]
            ],
            "type": "heatmapgl"
           }
          ],
          "histogram": [
           {
            "marker": {
             "pattern": {
              "fillmode": "overlay",
              "size": 10,
              "solidity": 0.2
             }
            },
            "type": "histogram"
           }
          ],
          "histogram2d": [
           {
            "colorbar": {
             "outlinewidth": 0,
             "ticks": ""
            },
            "colorscale": [
             [
              0,
              "#0d0887"
             ],
             [
              0.1111111111111111,
              "#46039f"
             ],
             [
              0.2222222222222222,
              "#7201a8"
             ],
             [
              0.3333333333333333,
              "#9c179e"
             ],
             [
              0.4444444444444444,
              "#bd3786"
             ],
             [
              0.5555555555555556,
              "#d8576b"
             ],
             [
              0.6666666666666666,
              "#ed7953"
             ],
             [
              0.7777777777777778,
              "#fb9f3a"
             ],
             [
              0.8888888888888888,
              "#fdca26"
             ],
             [
              1,
              "#f0f921"
             ]
            ],
            "type": "histogram2d"
           }
          ],
          "histogram2dcontour": [
           {
            "colorbar": {
             "outlinewidth": 0,
             "ticks": ""
            },
            "colorscale": [
             [
              0,
              "#0d0887"
             ],
             [
              0.1111111111111111,
              "#46039f"
             ],
             [
              0.2222222222222222,
              "#7201a8"
             ],
             [
              0.3333333333333333,
              "#9c179e"
             ],
             [
              0.4444444444444444,
              "#bd3786"
             ],
             [
              0.5555555555555556,
              "#d8576b"
             ],
             [
              0.6666666666666666,
              "#ed7953"
             ],
             [
              0.7777777777777778,
              "#fb9f3a"
             ],
             [
              0.8888888888888888,
              "#fdca26"
             ],
             [
              1,
              "#f0f921"
             ]
            ],
            "type": "histogram2dcontour"
           }
          ],
          "mesh3d": [
           {
            "colorbar": {
             "outlinewidth": 0,
             "ticks": ""
            },
            "type": "mesh3d"
           }
          ],
          "parcoords": [
           {
            "line": {
             "colorbar": {
              "outlinewidth": 0,
              "ticks": ""
             }
            },
            "type": "parcoords"
           }
          ],
          "pie": [
           {
            "automargin": true,
            "type": "pie"
           }
          ],
          "scatter": [
           {
            "marker": {
             "colorbar": {
              "outlinewidth": 0,
              "ticks": ""
             }
            },
            "type": "scatter"
           }
          ],
          "scatter3d": [
           {
            "line": {
             "colorbar": {
              "outlinewidth": 0,
              "ticks": ""
             }
            },
            "marker": {
             "colorbar": {
              "outlinewidth": 0,
              "ticks": ""
             }
            },
            "type": "scatter3d"
           }
          ],
          "scattercarpet": [
           {
            "marker": {
             "colorbar": {
              "outlinewidth": 0,
              "ticks": ""
             }
            },
            "type": "scattercarpet"
           }
          ],
          "scattergeo": [
           {
            "marker": {
             "colorbar": {
              "outlinewidth": 0,
              "ticks": ""
             }
            },
            "type": "scattergeo"
           }
          ],
          "scattergl": [
           {
            "marker": {
             "colorbar": {
              "outlinewidth": 0,
              "ticks": ""
             }
            },
            "type": "scattergl"
           }
          ],
          "scattermapbox": [
           {
            "marker": {
             "colorbar": {
              "outlinewidth": 0,
              "ticks": ""
             }
            },
            "type": "scattermapbox"
           }
          ],
          "scatterpolar": [
           {
            "marker": {
             "colorbar": {
              "outlinewidth": 0,
              "ticks": ""
             }
            },
            "type": "scatterpolar"
           }
          ],
          "scatterpolargl": [
           {
            "marker": {
             "colorbar": {
              "outlinewidth": 0,
              "ticks": ""
             }
            },
            "type": "scatterpolargl"
           }
          ],
          "scatterternary": [
           {
            "marker": {
             "colorbar": {
              "outlinewidth": 0,
              "ticks": ""
             }
            },
            "type": "scatterternary"
           }
          ],
          "surface": [
           {
            "colorbar": {
             "outlinewidth": 0,
             "ticks": ""
            },
            "colorscale": [
             [
              0,
              "#0d0887"
             ],
             [
              0.1111111111111111,
              "#46039f"
             ],
             [
              0.2222222222222222,
              "#7201a8"
             ],
             [
              0.3333333333333333,
              "#9c179e"
             ],
             [
              0.4444444444444444,
              "#bd3786"
             ],
             [
              0.5555555555555556,
              "#d8576b"
             ],
             [
              0.6666666666666666,
              "#ed7953"
             ],
             [
              0.7777777777777778,
              "#fb9f3a"
             ],
             [
              0.8888888888888888,
              "#fdca26"
             ],
             [
              1,
              "#f0f921"
             ]
            ],
            "type": "surface"
           }
          ],
          "table": [
           {
            "cells": {
             "fill": {
              "color": "#EBF0F8"
             },
             "line": {
              "color": "white"
             }
            },
            "header": {
             "fill": {
              "color": "#C8D4E3"
             },
             "line": {
              "color": "white"
             }
            },
            "type": "table"
           }
          ]
         },
         "layout": {
          "annotationdefaults": {
           "arrowcolor": "#2a3f5f",
           "arrowhead": 0,
           "arrowwidth": 1
          },
          "autotypenumbers": "strict",
          "coloraxis": {
           "colorbar": {
            "outlinewidth": 0,
            "ticks": ""
           }
          },
          "colorscale": {
           "diverging": [
            [
             0,
             "#8e0152"
            ],
            [
             0.1,
             "#c51b7d"
            ],
            [
             0.2,
             "#de77ae"
            ],
            [
             0.3,
             "#f1b6da"
            ],
            [
             0.4,
             "#fde0ef"
            ],
            [
             0.5,
             "#f7f7f7"
            ],
            [
             0.6,
             "#e6f5d0"
            ],
            [
             0.7,
             "#b8e186"
            ],
            [
             0.8,
             "#7fbc41"
            ],
            [
             0.9,
             "#4d9221"
            ],
            [
             1,
             "#276419"
            ]
           ],
           "sequential": [
            [
             0,
             "#0d0887"
            ],
            [
             0.1111111111111111,
             "#46039f"
            ],
            [
             0.2222222222222222,
             "#7201a8"
            ],
            [
             0.3333333333333333,
             "#9c179e"
            ],
            [
             0.4444444444444444,
             "#bd3786"
            ],
            [
             0.5555555555555556,
             "#d8576b"
            ],
            [
             0.6666666666666666,
             "#ed7953"
            ],
            [
             0.7777777777777778,
             "#fb9f3a"
            ],
            [
             0.8888888888888888,
             "#fdca26"
            ],
            [
             1,
             "#f0f921"
            ]
           ],
           "sequentialminus": [
            [
             0,
             "#0d0887"
            ],
            [
             0.1111111111111111,
             "#46039f"
            ],
            [
             0.2222222222222222,
             "#7201a8"
            ],
            [
             0.3333333333333333,
             "#9c179e"
            ],
            [
             0.4444444444444444,
             "#bd3786"
            ],
            [
             0.5555555555555556,
             "#d8576b"
            ],
            [
             0.6666666666666666,
             "#ed7953"
            ],
            [
             0.7777777777777778,
             "#fb9f3a"
            ],
            [
             0.8888888888888888,
             "#fdca26"
            ],
            [
             1,
             "#f0f921"
            ]
           ]
          },
          "colorway": [
           "#636efa",
           "#EF553B",
           "#00cc96",
           "#ab63fa",
           "#FFA15A",
           "#19d3f3",
           "#FF6692",
           "#B6E880",
           "#FF97FF",
           "#FECB52"
          ],
          "font": {
           "color": "#2a3f5f"
          },
          "geo": {
           "bgcolor": "white",
           "lakecolor": "white",
           "landcolor": "#E5ECF6",
           "showlakes": true,
           "showland": true,
           "subunitcolor": "white"
          },
          "hoverlabel": {
           "align": "left"
          },
          "hovermode": "closest",
          "mapbox": {
           "style": "light"
          },
          "paper_bgcolor": "white",
          "plot_bgcolor": "#E5ECF6",
          "polar": {
           "angularaxis": {
            "gridcolor": "white",
            "linecolor": "white",
            "ticks": ""
           },
           "bgcolor": "#E5ECF6",
           "radialaxis": {
            "gridcolor": "white",
            "linecolor": "white",
            "ticks": ""
           }
          },
          "scene": {
           "xaxis": {
            "backgroundcolor": "#E5ECF6",
            "gridcolor": "white",
            "gridwidth": 2,
            "linecolor": "white",
            "showbackground": true,
            "ticks": "",
            "zerolinecolor": "white"
           },
           "yaxis": {
            "backgroundcolor": "#E5ECF6",
            "gridcolor": "white",
            "gridwidth": 2,
            "linecolor": "white",
            "showbackground": true,
            "ticks": "",
            "zerolinecolor": "white"
           },
           "zaxis": {
            "backgroundcolor": "#E5ECF6",
            "gridcolor": "white",
            "gridwidth": 2,
            "linecolor": "white",
            "showbackground": true,
            "ticks": "",
            "zerolinecolor": "white"
           }
          },
          "shapedefaults": {
           "line": {
            "color": "#2a3f5f"
           }
          },
          "ternary": {
           "aaxis": {
            "gridcolor": "white",
            "linecolor": "white",
            "ticks": ""
           },
           "baxis": {
            "gridcolor": "white",
            "linecolor": "white",
            "ticks": ""
           },
           "bgcolor": "#E5ECF6",
           "caxis": {
            "gridcolor": "white",
            "linecolor": "white",
            "ticks": ""
           }
          },
          "title": {
           "x": 0.05
          },
          "xaxis": {
           "automargin": true,
           "gridcolor": "white",
           "linecolor": "white",
           "ticks": "",
           "title": {
            "standoff": 15
           },
           "zerolinecolor": "white",
           "zerolinewidth": 2
          },
          "yaxis": {
           "automargin": true,
           "gridcolor": "white",
           "linecolor": "white",
           "ticks": "",
           "title": {
            "standoff": 15
           },
           "zerolinecolor": "white",
           "zerolinewidth": 2
          }
         }
        },
        "title": {
         "text": "2539 櫻花建 各年度月營收 MOM %"
        },
        "xaxis": {
         "autorange": true,
         "range": [
          -0.6847389558232931,
          11.684738955823294
         ],
         "title": {
          "text": "月份"
         },
         "type": "category"
        },
        "yaxis": {
         "autorange": true,
         "range": [
          -863.2348748083801,
          11309.492769545222
         ],
         "title": {
          "text": "MOM %"
         },
         "type": "linear"
        }
       }
      },
      "image/png": "[encoded data removed]",
      "text/html": [
       "<div>                            <div id=\"1f0ddcde-7f60-4621-a9b3-afe6d3fa4626\" class=\"plotly-graph-div\" style=\"height:525px; width:100%;\"></div>            <script type=\"text/javascript\">                require([\"plotly\"], function(Plotly) {                    window.PLOTLYENV=window.PLOTLYENV || {};                                    if (document.getElementById(\"1f0ddcde-7f60-4621-a9b3-afe6d3fa4626\")) {                    Plotly.newPlot(                        \"1f0ddcde-7f60-4621-a9b3-afe6d3fa4626\",                        [{\"name\":\"2013\",\"opacity\":0.5,\"x\":[\"01\",\"02\",\"03\",\"04\",\"05\",\"06\",\"07\",\"08\",\"09\",\"10\",\"11\",\"12\"],\"y\":[null,0.08,-0.03333333333333333,0.0,3085.6743295019155,-0.8137600512399116,-0.9983404314878132,0.04819277108433735,0.07279693486590039,0.0,0.0,7722.107142857143],\"type\":\"scatter\"},{\"name\":\"2014\",\"opacity\":0.5,\"x\":[\"01\",\"02\",\"03\",\"04\",\"05\",\"06\",\"07\",\"08\",\"09\",\"10\",\"11\",\"12\"],\"y\":[-0.9684037235198638,0.3359336123876709,-0.9985648396673934,6964.618320610687,-0.6450263891567743,0.5486397540072613,-0.5074368599525939,1.3094288917399557,-0.4579752407924068,-0.6347966943431365,1.7818915832248812,-0.19021204685844129],\"type\":\"scatter\"},{\"name\":\"2015\",\"opacity\":0.5,\"x\":[\"01\",\"02\",\"03\",\"04\",\"05\",\"06\",\"07\",\"08\",\"09\",\"10\",\"11\",\"12\"],\"y\":[-0.8342725993696306,-0.376950438700498,0.24191215650452919,41.99577076310144,-0.7362390160176542,-0.8081606511658073,-0.8176478045894434,1.3842410196987254,-0.33096811819595645,-0.9783040340936607,6.602678571428571,390.29859072225486],\"type\":\"scatter\"},{\"name\":\"2016\",\"opacity\":0.5,\"x\":[\"01\",\"02\",\"03\",\"04\",\"05\",\"06\",\"07\",\"08\",\"09\",\"10\",\"11\",\"12\"],\"y\":[-0.6839137941254372,-0.9457969748473656,0.18157134098274502,-0.1159006671608599,0.7905923783171928,-0.9901196413102011,19.078199052132703,-0.9498406703646878,39.98117647058824,-0.9875983234770627,4750.458333333333,0.707150338833594],\"type\":\"scatter\"},{\"name\":\"2017\",\"opacity\":0.5,\"x\":[\"01\",\"02\",\"03\",\"04\",\"05\",\"06\",\"07\",\"08\",\"09\",\"10\",\"11\",\"12\"],\"y\":[-0.7317287968430557,-0.6968157419404252,0.4148176217141734,-0.40926495387362366,0.18048932025792586,-0.4959922048918571,4.854651162790698,1.0134832868946502,-0.9503628367103124,-0.6810321958278066,102.00158778164221,-0.7288517425322928],\"type\":\"scatter\"},{\"name\":\"2018\",\"opacity\":0.5,\"x\":[\"01\",\"02\",\"03\",\"04\",\"05\",\"06\",\"07\",\"08\",\"09\",\"10\",\"11\",\"12\"],\"y\":[-0.03620071199426073,-0.9998623645765744,212.73469387755102,-0.9930296954072376,0.0,8690.150684931506,-0.3537246199094024,-0.5871273461583486,-0.7159742691578407,21.437930245616954,-0.7467445496870374,1.9697913502395392],\"type\":\"scatter\"},{\"name\":\"2019\",\"opacity\":0.5,\"x\":[\"01\",\"02\",\"03\",\"04\",\"05\",\"06\",\"07\",\"08\",\"09\",\"10\",\"11\",\"12\"],\"y\":[-0.9254071440454991,-0.38554057626222576,1.2227898472789847,10.610306036046934,-0.658375910583607,-0.43946154151125805,1.6438411316648531,-0.8466532767554709,7.814458445723795,-0.13493964164079736,-0.913637043620588,79.38664384259542],\"type\":\"scatter\"},{\"name\":\"2020\",\"opacity\":0.5,\"x\":[\"01\",\"02\",\"03\",\"04\",\"05\",\"06\",\"07\",\"08\",\"09\",\"10\",\"11\",\"12\"],\"y\":[-0.913259797503101,-0.014209726443768996,-0.9265189832136568,26.81932620536615,-0.9823655333849648,1.6771938481783042,20.471491767018925,-0.9996594843620339,79.8781512605042,25.766169671151747,-0.9044528378058391,37.49752173559763],\"type\":\"scatter\"},{\"name\":\"2021\",\"opacity\":0.5,\"x\":[\"01\",\"02\",\"03\",\"04\",\"05\",\"06\",\"07\",\"08\",\"09\",\"10\",\"11\",\"12\"],\"y\":[-0.9125924198324571,-0.9987081273279365,0.09345794392523364,0.12393162393162394,-0.2737642585551331,1.7539267015706805,-0.6387832699619772,0.0,10447.257894736842,-0.9841046278679548,55.58009824116622,-0.8293096446984825],\"type\":\"scatter\"},{\"name\":\"2022\",\"opacity\":0.5,\"x\":[\"02\",\"04\",\"05\",\"07\",\"08\",\"12\"],\"y\":[-0.9922165198787195,1079.1572512647556,-0.7642507239085559,0.21209361926158196,2.229326758908937,-1.0],\"type\":\"scatter\"},{\"connectgaps\":false,\"line\":{\"dash\":\"dash\"},\"name\":\"2022\\u9810\\u4f30\\u503c\",\"x\":[\"08\",\"08\",\"09\",\"10\",\"11\",\"12\",\"12\"],\"y\":[null,null,null,null,null,null,null],\"type\":\"scatter\"},{\"connectgaps\":false,\"line\":{\"dash\":\"dash\"},\"name\":\"2023\\u9810\\u4f30\\u503c\",\"x\":[\"02\",\"04\",\"05\",\"07\",\"08\",\"12\"],\"y\":[null,null,null,null,null,null],\"type\":\"scatter\"}],                        {\"hovermode\":\"x unified\",\"legend\":{\"title\":{\"text\":\"\\u5e74\\u4efd\"}},\"title\":{\"text\":\"2539 \\u6afb\\u82b1\\u5efa \\u5404\\u5e74\\u5ea6\\u6708\\u71df\\u6536 MOM %\"},\"xaxis\":{\"title\":{\"text\":\"\\u6708\\u4efd\"}},\"yaxis\":{\"title\":{\"text\":\"MOM %\"}},\"template\":{\"data\":{\"bar\":[{\"error_x\":{\"color\":\"#2a3f5f\"},\"error_y\":{\"color\":\"#2a3f5f\"},\"marker\":{\"line\":{\"color\":\"#E5ECF6\",\"width\":0.5},\"pattern\":{\"fillmode\":\"overlay\",\"size\":10,\"solidity\":0.2}},\"type\":\"bar\"}],\"barpolar\":[{\"marker\":{\"line\":{\"color\":\"#E5ECF6\",\"width\":0.5},\"pattern\":{\"fillmode\":\"overlay\",\"size\":10,\"solidity\":0.2}},\"type\":\"barpolar\"}],\"carpet\":[{\"aaxis\":{\"endlinecolor\":\"#2a3f5f\",\"gridcolor\":\"white\",\"linecolor\":\"white\",\"minorgridcolor\":\"white\",\"startlinecolor\":\"#2a3f5f\"},\"baxis\":{\"endlinecolor\":\"#2a3f5f\",\"gridcolor\":\"white\",\"linecolor\":\"white\",\"minorgridcolor\":\"white\",\"startlinecolor\":\"#2a3f5f\"},\"type\":\"carpet\"}],\"choropleth\":[{\"colorbar\":{\"outlinewidth\":0,\"ticks\":\"\"},\"type\":\"choropleth\"}],\"contour\":[{\"colorbar\":{\"outlinewidth\":0,\"ticks\":\"\"},\"colorscale\":[[0.0,\"#0d0887\"],[0.1111111111111111,\"#46039f\"],[0.2222222222222222,\"#7201a8\"],[0.3333333333333333,\"#9c179e\"],[0.4444444444444444,\"#bd3786\"],[0.5555555555555556,\"#d8576b\"],[0.6666666666666666,\"#ed7953\"],[0.7777777777777778,\"#fb9f3a\"],[0.8888888888888888,\"#fdca26\"],[1.0,\"#f0f921\"]],\"type\":\"contour\"}],\"contourcarpet\":[{\"colorbar\":{\"outlinewidth\":0,\"ticks\":\"\"},\"type\":\"contourcarpet\"}],\"heatmap\":[{\"colorbar\":{\"outlinewidth\":0,\"ticks\":\"\"},\"colorscale\":[[0.0,\"#0d0887\"],[0.1111111111111111,\"#46039f\"],[0.2222222222222222,\"#7201a8\"],[0.3333333333333333,\"#9c179e\"],[0.4444444444444444,\"#bd3786\"],[0.5555555555555556,\"#d8576b\"],[0.6666666666666666,\"#ed7953\"],[0.7777777777777778,\"#fb9f3a\"],[0.8888888888888888,\"#fdca26\"],[1.0,\"#f0f921\"]],\"type\":\"heatmap\"}],\"heatmapgl\":[{\"colorbar\":{\"outlinewidth\":0,\"ticks\":\"\"},\"colorscale\":[[0.0,\"#0d0887\"],[0.1111111111111111,\"#46039f\"],[0.2222222222222222,\"#7201a8\"],[0.3333333333333333,\"#9c179e\"],[0.4444444444444444,\"#bd3786\"],[0.5555555555555556,\"#d8576b\"],[0.6666666666666666,\"#ed7953\"],[0.7777777777777778,\"#fb9f3a\"],[0.8888888888888888,\"#fdca26\"],[1.0,\"#f0f921\"]],\"type\":\"heatmapgl\"}],\"histogram\":[{\"marker\":{\"pattern\":{\"fillmode\":\"overlay\",\"size\":10,\"solidity\":0.2}},\"type\":\"histogram\"}],\"histogram2d\":[{\"colorbar\":{\"outlinewidth\":0,\"ticks\":\"\"},\"colorscale\":[[0.0,\"#0d0887\"],[0.1111111111111111,\"#46039f\"],[0.2222222222222222,\"#7201a8\"],[0.3333333333333333,\"#9c179e\"],[0.4444444444444444,\"#bd3786\"],[0.5555555555555556,\"#d8576b\"],[0.6666666666666666,\"#ed7953\"],[0.7777777777777778,\"#fb9f3a\"],[0.8888888888888888,\"#fdca26\"],[1.0,\"#f0f921\"]],\"type\":\"histogram2d\"}],\"histogram2dcontour\":[{\"colorbar\":{\"outlinewidth\":0,\"ticks\":\"\"},\"colorscale\":[[0.0,\"#0d0887\"],[0.1111111111111111,\"#46039f\"],[0.2222222222222222,\"#7201a8\"],[0.3333333333333333,\"#9c179e\"],[0.4444444444444444,\"#bd3786\"],[0.5555555555555556,\"#d8576b\"],[0.6666666666666666,\"#ed7953\"],[0.7777777777777778,\"#fb9f3a\"],[0.8888888888888888,\"#fdca26\"],[1.0,\"#f0f921\"]],\"type\":\"histogram2dcontour\"}],\"mesh3d\":[{\"colorbar\":{\"outlinewidth\":0,\"ticks\":\"\"},\"type\":\"mesh3d\"}],\"parcoords\":[{\"line\":{\"colorbar\":{\"outlinewidth\":0,\"ticks\":\"\"}},\"type\":\"parcoords\"}],\"pie\":[{\"automargin\":true,\"type\":\"pie\"}],\"scatter\":[{\"marker\":{\"colorbar\":{\"outlinewidth\":0,\"ticks\":\"\"}},\"type\":\"scatter\"}],\"scatter3d\":[{\"line\":{\"colorbar\":{\"outlinewidth\":0,\"ticks\":\"\"}},\"marker\":{\"colorbar\":{\"outlinewidth\":0,\"ticks\":\"\"}},\"type\":\"scatter3d\"}],\"scattercarpet\":[{\"marker\":{\"colorbar\":{\"outlinewidth\":0,\"ticks\":\"\"}},\"type\":\"scattercarpet\"}],\"scattergeo\":[{\"marker\":{\"colorbar\":{\"outlinewidth\":0,\"ticks\":\"\"}},\"type\":\"scattergeo\"}],\"scattergl\":[{\"marker\":{\"colorbar\":{\"outlinewidth\":0,\"ticks\":\"\"}},\"type\":\"scattergl\"}],\"scattermapbox\":[{\"marker\":{\"colorbar\":{\"outlinewidth\":0,\"ticks\":\"\"}},\"type\":\"scattermapbox\"}],\"scatterpolar\":[{\"marker\":{\"colorbar\":{\"outlinewidth\":0,\"ticks\":\"\"}},\"type\":\"scatterpolar\"}],\"scatterpolargl\":[{\"marker\":{\"colorbar\":{\"outlinewidth\":0,\"ticks\":\"\"}},\"type\":\"scatterpolargl\"}],\"scatterternary\":[{\"marker\":{\"colorbar\":{\"outlinewidth\":0,\"ticks\":\"\"}},\"type\":\"scatterternary\"}],\"surface\":[{\"colorbar\":{\"outlinewidth\":0,\"ticks\":\"\"},\"colorscale\":[[0.0,\"#0d0887\"],[0.1111111111111111,\"#46039f\"],[0.2222222222222222,\"#7201a8\"],[0.3333333333333333,\"#9c179e\"],[0.4444444444444444,\"#bd3786\"],[0.5555555555555556,\"#d8576b\"],[0.6666666666666666,\"#ed7953\"],[0.7777777777777778,\"#fb9f3a\"],[0.8888888888888888,\"#fdca26\"],[1.0,\"#f0f921\"]],\"type\":\"surface\"}],\"table\":[{\"cells\":{\"fill\":{\"color\":\"#EBF0F8\"},\"line\":{\"color\":\"white\"}},\"header\":{\"fill\":{\"color\":\"#C8D4E3\"},\"line\":{\"color\":\"white\"}},\"type\":\"table\"}]},\"layout\":{\"annotationdefaults\":{\"arrowcolor\":\"#2a3f5f\",\"arrowhead\":0,\"arrowwidth\":1},\"autotypenumbers\":\"strict\",\"coloraxis\":{\"colorbar\":{\"outlinewidth\":0,\"ticks\":\"\"}},\"colorscale\":{\"diverging\":[[0,\"#8e0152\"],[0.1,\"#c51b7d\"],[0.2,\"#de77ae\"],[0.3,\"#f1b6da\"],[0.4,\"#fde0ef\"],[0.5,\"#f7f7f7\"],[0.6,\"#e6f5d0\"],[0.7,\"#b8e186\"],[0.8,\"#7fbc41\"],[0.9,\"#4d9221\"],[1,\"#276419\"]],\"sequential\":[[0.0,\"#0d0887\"],[0.1111111111111111,\"#46039f\"],[0.2222222222222222,\"#7201a8\"],[0.3333333333333333,\"#9c179e\"],[0.4444444444444444,\"#bd3786\"],[0.5555555555555556,\"#d8576b\"],[0.6666666666666666,\"#ed7953\"],[0.7777777777777778,\"#fb9f3a\"],[0.8888888888888888,\"#fdca26\"],[1.0,\"#f0f921\"]],\"sequentialminus\":[[0.0,\"#0d0887\"],[0.1111111111111111,\"#46039f\"],[0.2222222222222222,\"#7201a8\"],[0.3333333333333333,\"#9c179e\"],[0.4444444444444444,\"#bd3786\"],[0.5555555555555556,\"#d8576b\"],[0.6666666666666666,\"#ed7953\"],[0.7777777777777778,\"#fb9f3a\"],[0.8888888888888888,\"#fdca26\"],[1.0,\"#f0f921\"]]},\"colorway\":[\"#636efa\",\"#EF553B\",\"#00cc96\",\"#ab63fa\",\"#FFA15A\",\"#19d3f3\",\"#FF6692\",\"#B6E880\",\"#FF97FF\",\"#FECB52\"],\"font\":{\"color\":\"#2a3f5f\"},\"geo\":{\"bgcolor\":\"white\",\"lakecolor\":\"white\",\"landcolor\":\"#E5ECF6\",\"showlakes\":true,\"showland\":true,\"subunitcolor\":\"white\"},\"hoverlabel\":{\"align\":\"left\"},\"hovermode\":\"closest\",\"mapbox\":{\"style\":\"light\"},\"paper_bgcolor\":\"white\",\"plot_bgcolor\":\"#E5ECF6\",\"polar\":{\"angularaxis\":{\"gridcolor\":\"white\",\"linecolor\":\"white\",\"ticks\":\"\"},\"bgcolor\":\"#E5ECF6\",\"radialaxis\":{\"gridcolor\":\"white\",\"linecolor\":\"white\",\"ticks\":\"\"}},\"scene\":{\"xaxis\":{\"backgroundcolor\":\"#E5ECF6\",\"gridcolor\":\"white\",\"gridwidth\":2,\"linecolor\":\"white\",\"showbackground\":true,\"ticks\":\"\",\"zerolinecolor\":\"white\"},\"yaxis\":{\"backgroundcolor\":\"#E5ECF6\",\"gridcolor\":\"white\",\"gridwidth\":2,\"linecolor\":\"white\",\"showbackground\":true,\"ticks\":\"\",\"zerolinecolor\":\"white\"},\"zaxis\":{\"backgroundcolor\":\"#E5ECF6\",\"gridcolor\":\"white\",\"gridwidth\":2,\"linecolor\":\"white\",\"showbackground\":true,\"ticks\":\"\",\"zerolinecolor\":\"white\"}},\"shapedefaults\":{\"line\":{\"color\":\"#2a3f5f\"}},\"ternary\":{\"aaxis\":{\"gridcolor\":\"white\",\"linecolor\":\"white\",\"ticks\":\"\"},\"baxis\":{\"gridcolor\":\"white\",\"linecolor\":\"white\",\"ticks\":\"\"},\"bgcolor\":\"#E5ECF6\",\"caxis\":{\"gridcolor\":\"white\",\"linecolor\":\"white\",\"ticks\":\"\"}},\"title\":{\"x\":0.05},\"xaxis\":{\"automargin\":true,\"gridcolor\":\"white\",\"linecolor\":\"white\",\"ticks\":\"\",\"title\":{\"standoff\":15},\"zerolinecolor\":\"white\",\"zerolinewidth\":2},\"yaxis\":{\"automargin\":true,\"gridcolor\":\"white\",\"linecolor\":\"white\",\"ticks\":\"\",\"title\":{\"standoff\":15},\"zerolinecolor\":\"white\",\"zerolinewidth\":2}}}},                        {\"responsive\": true}                    ).then(function(){\n",
       "                            \n",
       "var gd = document.getElementById('1f0ddcde-7f60-4621-a9b3-afe6d3fa4626');\n",
       "var x = new MutationObserver(function (mutations, observer) {{\n",
       "        var display = window.getComputedStyle(gd).display;\n",
       "        if (!display || display === 'none') {{\n",
       "            console.log([gd, 'removed!']);\n",
       "            Plotly.purge(gd);\n",
       "            observer.disconnect();\n",
       "        }}\n",
       "}});\n",
       "\n",
       "// Listen for the removal of the full notebook cells\n",
       "var notebookContainer = gd.closest('#notebook-container');\n",
       "if (notebookContainer) {{\n",
       "    x.observe(notebookContainer, {childList: true});\n",
       "}}\n",
       "\n",
       "// Listen for the clearing of the current output cell\n",
       "var outputEl = gd.closest('.output');\n",
       "if (outputEl) {{\n",
       "    x.observe(outputEl, {childList: true});\n",
       "}}\n",
       "\n",
       "                        })                };                });            </script>        </div>"
      ]
     },
     "metadata": {},
     "output_type": "display_data"
    },
    {
     "data": {
      "application/vnd.plotly.v1+json": {
       "config": {
        "plotlyServerURL": "https://plot.ly"
       },
       "data": [
        {
         "name": "2013",
         "opacity": 0.5,
         "type": "scatter",
         "x": [
          "01",
          "02",
          "03",
          "04",
          "05",
          "06",
          "07",
          "08",
          "09",
          "10",
          "11",
          "12"
         ],
         "y": [
          null,
          null,
          null,
          null,
          null,
          null,
          null,
          null,
          null,
          null,
          null,
          null
         ]
        },
        {
         "name": "2014",
         "opacity": 0.5,
         "type": "scatter",
         "x": [
          "01",
          "02",
          "03",
          "04",
          "05",
          "06",
          "07",
          "08",
          "09",
          "10",
          "11",
          "12"
         ],
         "y": [
          272.304,
          337.07037037037037,
          -0.49808429118773945,
          3495.153256704981,
          -0.5979355082160119,
          2.3432840794726704,
          991.2931726907631,
          2185.2681992337166,
          1103.6,
          402.4035714285714,
          1121.225,
          -0.8823317780131054
         ]
        },
        {
         "name": "2015",
         "opacity": 0.5,
         "type": "scatter",
         "x": [
          "01",
          "02",
          "03",
          "04",
          "05",
          "06",
          "07",
          "08",
          "09",
          "10",
          "11",
          "12"
         ],
         "y": [
          -0.38281181395076547,
          -0.7121572322220884,
          248.08396946564886,
          0.5374883835107223,
          0.14242139840450493,
          -0.8584813694746851,
          -0.9476082742096721,
          -0.9459110855636715,
          -0.9332369830061302,
          -0.9960337485502819,
          -0.989160564312606,
          4.237736486752026
         ]
        },
        {
         "name": "2016",
         "opacity": 0.5,
         "type": "scatter",
         "x": [
          "01",
          "02",
          "03",
          "04",
          "05",
          "06",
          "07",
          "08",
          "09",
          "10",
          "11",
          "12"
         ],
         "y": [
          8.989755750533554,
          -0.13092791352668037,
          -0.17315353968740424,
          -0.9829979928037452,
          -0.8845785906540844,
          -0.9940554170364423,
          -0.3454615681730398,
          -0.9862299118714359,
          -0.15652089689573345,
          -0.5178571428571429,
          300.325601879037,
          0.31461782777583114
         ]
        },
        {
         "name": "2017",
         "opacity": 0.5,
         "type": "scatter",
         "x": [
          "01",
          "02",
          "03",
          "04",
          "05",
          "06",
          "07",
          "08",
          "09",
          "10",
          "11",
          "12"
         ],
         "y": [
          0.11575291738275872,
          5.2409564684242795,
          6.472942920681986,
          3.9932503249067204,
          2.2919154316218306,
          166.92417061611374,
          47.96541956803966,
          1964.5576470588235,
          1.3807199862203594,
          60.23148148148148,
          0.32736927746354677,
          -0.7891727175906954
         ]
        },
        {
         "name": "2018",
         "opacity": 0.5,
         "type": "scatter",
         "x": [
          "01",
          "02",
          "03",
          "04",
          "05",
          "06",
          "07",
          "08",
          "09",
          "10",
          "11",
          "12"
         ],
         "y": [
          -0.24257548970174309,
          -0.9996561548285686,
          -0.9480557484376549,
          -0.9993870902740463,
          -0.9994808002788031,
          7.953121472115602,
          -0.011694835182846289,
          -0.7973441454124081,
          0.15960448571084046,
          80.57288673824286,
          -0.7994324300318799,
          1.1967459425802347
         ]
        },
        {
         "name": "2019",
         "opacity": 0.5,
         "type": "scatter",
         "x": [
          "01",
          "02",
          "03",
          "04",
          "05",
          "06",
          "07",
          "08",
          "09",
          "10",
          "11",
          "12"
         ],
         "y": [
          -0.8299837365489462,
          758.0204081632653,
          6.8936312422419554,
          13147.27397260274,
          4490.767123287671,
          -0.7103020865184868,
          0.18512213680883444,
          -0.5598289336113556,
          12.660274941247426,
          -0.4733488246640275,
          -0.820406027090432,
          3.861269710208332
         ]
        },
        {
         "name": "2020",
         "opacity": 0.5,
         "type": "scatter",
         "x": [
          "01",
          "02",
          "03",
          "04",
          "05",
          "06",
          "07",
          "08",
          "09",
          "10",
          "11",
          "12"
         ],
         "y": [
          4.652920962199313,
          8.069100881910089,
          -0.700193540583041,
          -0.2816370501258564,
          -0.9629184596476354,
          -0.8228944504896627,
          0.4383316390156769,
          -0.9968060979373834,
          -0.9706939574652077,
          -0.09323031705664428,
          0.0031994457011269386,
          -0.5195633177366932
         ]
        },
        {
         "name": "2021",
         "opacity": 0.5,
         "type": "scatter",
         "x": [
          "01",
          "02",
          "03",
          "04",
          "05",
          "06",
          "07",
          "08",
          "09",
          "10",
          "11",
          "12"
         ],
         "y": [
          -0.5158668459200374,
          -0.9993655461935737,
          -0.9905588057292717,
          -0.9996185652833495,
          -0.9842914713381035,
          -0.9838412386335709,
          -0.999728159784817,
          -0.20168067226890757,
          102.131019793236,
          -0.9387545562883572,
          35.26767286909889,
          -0.8391963511183248
         ]
        },
        {
         "name": "2022",
         "opacity": 0.5,
         "type": "scatter",
         "x": [
          "02",
          "04",
          "05",
          "07",
          "08",
          "12"
         ],
         "y": [
          10.08411214953271,
          9740.950570342206,
          3161.413612565445,
          3852.315789473684,
          12442.615789473684,
          -1
         ]
        },
        {
         "connectgaps": false,
         "line": {
          "dash": "dash"
         },
         "name": "2022預估值",
         "type": "scatter",
         "x": [
          "08",
          "08",
          "09",
          "10",
          "11",
          "12",
          "12"
         ],
         "y": [
          null,
          12442.615789473684,
          null,
          null,
          null,
          null,
          -1
         ]
        },
        {
         "connectgaps": false,
         "line": {
          "dash": "dash"
         },
         "name": "2023預估值",
         "type": "scatter",
         "x": [
          "02",
          "04",
          "05",
          "07",
          "08",
          "12"
         ],
         "y": [
          null,
          null,
          null,
          null,
          null,
          null
         ]
        }
       ],
       "layout": {
        "autosize": true,
        "hovermode": "x unified",
        "legend": {
         "title": {
          "text": "年份"
         }
        },
        "template": {
         "data": {
          "bar": [
           {
            "error_x": {
             "color": "#2a3f5f"
            },
            "error_y": {
             "color": "#2a3f5f"
            },
            "marker": {
             "line": {
              "color": "#E5ECF6",
              "width": 0.5
             },
             "pattern": {
              "fillmode": "overlay",
              "size": 10,
              "solidity": 0.2
             }
            },
            "type": "bar"
           }
          ],
          "barpolar": [
           {
            "marker": {
             "line": {
              "color": "#E5ECF6",
              "width": 0.5
             },
             "pattern": {
              "fillmode": "overlay",
              "size": 10,
              "solidity": 0.2
             }
            },
            "type": "barpolar"
           }
          ],
          "carpet": [
           {
            "aaxis": {
             "endlinecolor": "#2a3f5f",
             "gridcolor": "white",
             "linecolor": "white",
             "minorgridcolor": "white",
             "startlinecolor": "#2a3f5f"
            },
            "baxis": {
             "endlinecolor": "#2a3f5f",
             "gridcolor": "white",
             "linecolor": "white",
             "minorgridcolor": "white",
             "startlinecolor": "#2a3f5f"
            },
            "type": "carpet"
           }
          ],
          "choropleth": [
           {
            "colorbar": {
             "outlinewidth": 0,
             "ticks": ""
            },
            "type": "choropleth"
           }
          ],
          "contour": [
           {
            "colorbar": {
             "outlinewidth": 0,
             "ticks": ""
            },
            "colorscale": [
             [
              0,
              "#0d0887"
             ],
             [
              0.1111111111111111,
              "#46039f"
             ],
             [
              0.2222222222222222,
              "#7201a8"
             ],
             [
              0.3333333333333333,
              "#9c179e"
             ],
             [
              0.4444444444444444,
              "#bd3786"
             ],
             [
              0.5555555555555556,
              "#d8576b"
             ],
             [
              0.6666666666666666,
              "#ed7953"
             ],
             [
              0.7777777777777778,
              "#fb9f3a"
             ],
             [
              0.8888888888888888,
              "#fdca26"
             ],
             [
              1,
              "#f0f921"
             ]
            ],
            "type": "contour"
           }
          ],
          "contourcarpet": [
           {
            "colorbar": {
             "outlinewidth": 0,
             "ticks": ""
            },
            "type": "contourcarpet"
           }
          ],
          "heatmap": [
           {
            "colorbar": {
             "outlinewidth": 0,
             "ticks": ""
            },
            "colorscale": [
             [
              0,
              "#0d0887"
             ],
             [
              0.1111111111111111,
              "#46039f"
             ],
             [
              0.2222222222222222,
              "#7201a8"
             ],
             [
              0.3333333333333333,
              "#9c179e"
             ],
             [
              0.4444444444444444,
              "#bd3786"
             ],
             [
              0.5555555555555556,
              "#d8576b"
             ],
             [
              0.6666666666666666,
              "#ed7953"
             ],
             [
              0.7777777777777778,
              "#fb9f3a"
             ],
             [
              0.8888888888888888,
              "#fdca26"
             ],
             [
              1,
              "#f0f921"
             ]
            ],
            "type": "heatmap"
           }
          ],
          "heatmapgl": [
           {
            "colorbar": {
             "outlinewidth": 0,
             "ticks": ""
            },
            "colorscale": [
             [
              0,
              "#0d0887"
             ],
             [
              0.1111111111111111,
              "#46039f"
             ],
             [
              0.2222222222222222,
              "#7201a8"
             ],
             [
              0.3333333333333333,
              "#9c179e"
             ],
             [
              0.4444444444444444,
              "#bd3786"
             ],
             [
              0.5555555555555556,
              "#d8576b"
             ],
             [
              0.6666666666666666,
              "#ed7953"
             ],
             [
              0.7777777777777778,
              "#fb9f3a"
             ],
             [
              0.8888888888888888,
              "#fdca26"
             ],
             [
              1,
              "#f0f921"
             ]
            ],
            "type": "heatmapgl"
           }
          ],
          "histogram": [
           {
            "marker": {
             "pattern": {
              "fillmode": "overlay",
              "size": 10,
              "solidity": 0.2
             }
            },
            "type": "histogram"
           }
          ],
          "histogram2d": [
           {
            "colorbar": {
             "outlinewidth": 0,
             "ticks": ""
            },
            "colorscale": [
             [
              0,
              "#0d0887"
             ],
             [
              0.1111111111111111,
              "#46039f"
             ],
             [
              0.2222222222222222,
              "#7201a8"
             ],
             [
              0.3333333333333333,
              "#9c179e"
             ],
             [
              0.4444444444444444,
              "#bd3786"
             ],
             [
              0.5555555555555556,
              "#d8576b"
             ],
             [
              0.6666666666666666,
              "#ed7953"
             ],
             [
              0.7777777777777778,
              "#fb9f3a"
             ],
             [
              0.8888888888888888,
              "#fdca26"
             ],
             [
              1,
              "#f0f921"
             ]
            ],
            "type": "histogram2d"
           }
          ],
          "histogram2dcontour": [
           {
            "colorbar": {
             "outlinewidth": 0,
             "ticks": ""
            },
            "colorscale": [
             [
              0,
              "#0d0887"
             ],
             [
              0.1111111111111111,
              "#46039f"
             ],
             [
              0.2222222222222222,
              "#7201a8"
             ],
             [
              0.3333333333333333,
              "#9c179e"
             ],
             [
              0.4444444444444444,
              "#bd3786"
             ],
             [
              0.5555555555555556,
              "#d8576b"
             ],
             [
              0.6666666666666666,
              "#ed7953"
             ],
             [
              0.7777777777777778,
              "#fb9f3a"
             ],
             [
              0.8888888888888888,
              "#fdca26"
             ],
             [
              1,
              "#f0f921"
             ]
            ],
            "type": "histogram2dcontour"
           }
          ],
          "mesh3d": [
           {
            "colorbar": {
             "outlinewidth": 0,
             "ticks": ""
            },
            "type": "mesh3d"
           }
          ],
          "parcoords": [
           {
            "line": {
             "colorbar": {
              "outlinewidth": 0,
              "ticks": ""
             }
            },
            "type": "parcoords"
           }
          ],
          "pie": [
           {
            "automargin": true,
            "type": "pie"
           }
          ],
          "scatter": [
           {
            "marker": {
             "colorbar": {
              "outlinewidth": 0,
              "ticks": ""
             }
            },
            "type": "scatter"
           }
          ],
          "scatter3d": [
           {
            "line": {
             "colorbar": {
              "outlinewidth": 0,
              "ticks": ""
             }
            },
            "marker": {
             "colorbar": {
              "outlinewidth": 0,
              "ticks": ""
             }
            },
            "type": "scatter3d"
           }
          ],
          "scattercarpet": [
           {
            "marker": {
             "colorbar": {
              "outlinewidth": 0,
              "ticks": ""
             }
            },
            "type": "scattercarpet"
           }
          ],
          "scattergeo": [
           {
            "marker": {
             "colorbar": {
              "outlinewidth": 0,
              "ticks": ""
             }
            },
            "type": "scattergeo"
           }
          ],
          "scattergl": [
           {
            "marker": {
             "colorbar": {
              "outlinewidth": 0,
              "ticks": ""
             }
            },
            "type": "scattergl"
           }
          ],
          "scattermapbox": [
           {
            "marker": {
             "colorbar": {
              "outlinewidth": 0,
              "ticks": ""
             }
            },
            "type": "scattermapbox"
           }
          ],
          "scatterpolar": [
           {
            "marker": {
             "colorbar": {
              "outlinewidth": 0,
              "ticks": ""
             }
            },
            "type": "scatterpolar"
           }
          ],
          "scatterpolargl": [
           {
            "marker": {
             "colorbar": {
              "outlinewidth": 0,
              "ticks": ""
             }
            },
            "type": "scatterpolargl"
           }
          ],
          "scatterternary": [
           {
            "marker": {
             "colorbar": {
              "outlinewidth": 0,
              "ticks": ""
             }
            },
            "type": "scatterternary"
           }
          ],
          "surface": [
           {
            "colorbar": {
             "outlinewidth": 0,
             "ticks": ""
            },
            "colorscale": [
             [
              0,
              "#0d0887"
             ],
             [
              0.1111111111111111,
              "#46039f"
             ],
             [
              0.2222222222222222,
              "#7201a8"
             ],
             [
              0.3333333333333333,
              "#9c179e"
             ],
             [
              0.4444444444444444,
              "#bd3786"
             ],
             [
              0.5555555555555556,
              "#d8576b"
             ],
             [
              0.6666666666666666,
              "#ed7953"
             ],
             [
              0.7777777777777778,
              "#fb9f3a"
             ],
             [
              0.8888888888888888,
              "#fdca26"
             ],
             [
              1,
              "#f0f921"
             ]
            ],
            "type": "surface"
           }
          ],
          "table": [
           {
            "cells": {
             "fill": {
              "color": "#EBF0F8"
             },
             "line": {
              "color": "white"
             }
            },
            "header": {
             "fill": {
              "color": "#C8D4E3"
             },
             "line": {
              "color": "white"
             }
            },
            "type": "table"
           }
          ]
         },
         "layout": {
          "annotationdefaults": {
           "arrowcolor": "#2a3f5f",
           "arrowhead": 0,
           "arrowwidth": 1
          },
          "autotypenumbers": "strict",
          "coloraxis": {
           "colorbar": {
            "outlinewidth": 0,
            "ticks": ""
           }
          },
          "colorscale": {
           "diverging": [
            [
             0,
             "#8e0152"
            ],
            [
             0.1,
             "#c51b7d"
            ],
            [
             0.2,
             "#de77ae"
            ],
            [
             0.3,
             "#f1b6da"
            ],
            [
             0.4,
             "#fde0ef"
            ],
            [
             0.5,
             "#f7f7f7"
            ],
            [
             0.6,
             "#e6f5d0"
            ],
            [
             0.7,
             "#b8e186"
            ],
            [
             0.8,
             "#7fbc41"
            ],
            [
             0.9,
             "#4d9221"
            ],
            [
             1,
             "#276419"
            ]
           ],
           "sequential": [
            [
             0,
             "#0d0887"
            ],
            [
             0.1111111111111111,
             "#46039f"
            ],
            [
             0.2222222222222222,
             "#7201a8"
            ],
            [
             0.3333333333333333,
             "#9c179e"
            ],
            [
             0.4444444444444444,
             "#bd3786"
            ],
            [
             0.5555555555555556,
             "#d8576b"
            ],
            [
             0.6666666666666666,
             "#ed7953"
            ],
            [
             0.7777777777777778,
             "#fb9f3a"
            ],
            [
             0.8888888888888888,
             "#fdca26"
            ],
            [
             1,
             "#f0f921"
            ]
           ],
           "sequentialminus": [
            [
             0,
             "#0d0887"
            ],
            [
             0.1111111111111111,
             "#46039f"
            ],
            [
             0.2222222222222222,
             "#7201a8"
            ],
            [
             0.3333333333333333,
             "#9c179e"
            ],
            [
             0.4444444444444444,
             "#bd3786"
            ],
            [
             0.5555555555555556,
             "#d8576b"
            ],
            [
             0.6666666666666666,
             "#ed7953"
            ],
            [
             0.7777777777777778,
             "#fb9f3a"
            ],
            [
             0.8888888888888888,
             "#fdca26"
            ],
            [
             1,
             "#f0f921"
            ]
           ]
          },
          "colorway": [
           "#636efa",
           "#EF553B",
           "#00cc96",
           "#ab63fa",
           "#FFA15A",
           "#19d3f3",
           "#FF6692",
           "#B6E880",
           "#FF97FF",
           "#FECB52"
          ],
          "font": {
           "color": "#2a3f5f"
          },
          "geo": {
           "bgcolor": "white",
           "lakecolor": "white",
           "landcolor": "#E5ECF6",
           "showlakes": true,
           "showland": true,
           "subunitcolor": "white"
          },
          "hoverlabel": {
           "align": "left"
          },
          "hovermode": "closest",
          "mapbox": {
           "style": "light"
          },
          "paper_bgcolor": "white",
          "plot_bgcolor": "#E5ECF6",
          "polar": {
           "angularaxis": {
            "gridcolor": "white",
            "linecolor": "white",
            "ticks": ""
           },
           "bgcolor": "#E5ECF6",
           "radialaxis": {
            "gridcolor": "white",
            "linecolor": "white",
            "ticks": ""
           }
          },
          "scene": {
           "xaxis": {
            "backgroundcolor": "#E5ECF6",
            "gridcolor": "white",
            "gridwidth": 2,
            "linecolor": "white",
            "showbackground": true,
            "ticks": "",
            "zerolinecolor": "white"
           },
           "yaxis": {
            "backgroundcolor": "#E5ECF6",
            "gridcolor": "white",
            "gridwidth": 2,
            "linecolor": "white",
            "showbackground": true,
            "ticks": "",
            "zerolinecolor": "white"
           },
           "zaxis": {
            "backgroundcolor": "#E5ECF6",
            "gridcolor": "white",
            "gridwidth": 2,
            "linecolor": "white",
            "showbackground": true,
            "ticks": "",
            "zerolinecolor": "white"
           }
          },
          "shapedefaults": {
           "line": {
            "color": "#2a3f5f"
           }
          },
          "ternary": {
           "aaxis": {
            "gridcolor": "white",
            "linecolor": "white",
            "ticks": ""
           },
           "baxis": {
            "gridcolor": "white",
            "linecolor": "white",
            "ticks": ""
           },
           "bgcolor": "#E5ECF6",
           "caxis": {
            "gridcolor": "white",
            "linecolor": "white",
            "ticks": ""
           }
          },
          "title": {
           "x": 0.05
          },
          "xaxis": {
           "automargin": true,
           "gridcolor": "white",
           "linecolor": "white",
           "ticks": "",
           "title": {
            "standoff": 15
           },
           "zerolinecolor": "white",
           "zerolinewidth": 2
          },
          "yaxis": {
           "automargin": true,
           "gridcolor": "white",
           "linecolor": "white",
           "ticks": "",
           "title": {
            "standoff": 15
           },
           "zerolinecolor": "white",
           "zerolinewidth": 2
          }
         }
        },
        "title": {
         "text": "2539 櫻花建 各年度月營收 YOY %"
        },
        "xaxis": {
         "autorange": true,
         "range": [
          -0.6847389558232931,
          11.684738955823294
         ],
         "title": {
          "text": "月份"
         },
         "type": "category"
        },
        "yaxis": {
         "autorange": true,
         "range": [
          -1086.0517356031387,
          14232.325708205877
         ],
         "title": {
          "text": "YOY %"
         }
        }
       }
      },
      "image/png": "[encoded data removed]",
      "text/html": [
       "<div>                            <div id=\"46014a32-416c-44b5-b724-536e9a48b1c8\" class=\"plotly-graph-div\" style=\"height:525px; width:100%;\"></div>            <script type=\"text/javascript\">                require([\"plotly\"], function(Plotly) {                    window.PLOTLYENV=window.PLOTLYENV || {};                                    if (document.getElementById(\"46014a32-416c-44b5-b724-536e9a48b1c8\")) {                    Plotly.newPlot(                        \"46014a32-416c-44b5-b724-536e9a48b1c8\",                        [{\"name\":\"2013\",\"opacity\":0.5,\"x\":[\"01\",\"02\",\"03\",\"04\",\"05\",\"06\",\"07\",\"08\",\"09\",\"10\",\"11\",\"12\"],\"y\":[null,null,null,null,null,null,null,null,null,null,null,null],\"type\":\"scatter\"},{\"name\":\"2014\",\"opacity\":0.5,\"x\":[\"01\",\"02\",\"03\",\"04\",\"05\",\"06\",\"07\",\"08\",\"09\",\"10\",\"11\",\"12\"],\"y\":[272.304,337.07037037037037,-0.49808429118773945,3495.153256704981,-0.5979355082160119,2.3432840794726704,991.2931726907631,2185.2681992337166,1103.6,402.4035714285714,1121.225,-0.8823317780131054],\"type\":\"scatter\"},{\"name\":\"2015\",\"opacity\":0.5,\"x\":[\"01\",\"02\",\"03\",\"04\",\"05\",\"06\",\"07\",\"08\",\"09\",\"10\",\"11\",\"12\"],\"y\":[-0.38281181395076547,-0.7121572322220884,248.08396946564886,0.5374883835107223,0.14242139840450493,-0.8584813694746851,-0.9476082742096721,-0.9459110855636715,-0.9332369830061302,-0.9960337485502819,-0.989160564312606,4.237736486752026],\"type\":\"scatter\"},{\"name\":\"2016\",\"opacity\":0.5,\"x\":[\"01\",\"02\",\"03\",\"04\",\"05\",\"06\",\"07\",\"08\",\"09\",\"10\",\"11\",\"12\"],\"y\":[8.989755750533554,-0.13092791352668037,-0.17315353968740424,-0.9829979928037452,-0.8845785906540844,-0.9940554170364423,-0.3454615681730398,-0.9862299118714359,-0.15652089689573345,-0.5178571428571429,300.325601879037,0.31461782777583114],\"type\":\"scatter\"},{\"name\":\"2017\",\"opacity\":0.5,\"x\":[\"01\",\"02\",\"03\",\"04\",\"05\",\"06\",\"07\",\"08\",\"09\",\"10\",\"11\",\"12\"],\"y\":[0.11575291738275872,5.2409564684242795,6.472942920681986,3.9932503249067204,2.2919154316218306,166.92417061611374,47.96541956803966,1964.5576470588235,1.3807199862203594,60.23148148148148,0.32736927746354677,-0.7891727175906954],\"type\":\"scatter\"},{\"name\":\"2018\",\"opacity\":0.5,\"x\":[\"01\",\"02\",\"03\",\"04\",\"05\",\"06\",\"07\",\"08\",\"09\",\"10\",\"11\",\"12\"],\"y\":[-0.24257548970174309,-0.9996561548285686,-0.9480557484376549,-0.9993870902740463,-0.9994808002788031,7.953121472115602,-0.011694835182846289,-0.7973441454124081,0.15960448571084046,80.57288673824286,-0.7994324300318799,1.1967459425802347],\"type\":\"scatter\"},{\"name\":\"2019\",\"opacity\":0.5,\"x\":[\"01\",\"02\",\"03\",\"04\",\"05\",\"06\",\"07\",\"08\",\"09\",\"10\",\"11\",\"12\"],\"y\":[-0.8299837365489462,758.0204081632653,6.8936312422419554,13147.27397260274,4490.767123287671,-0.7103020865184868,0.18512213680883444,-0.5598289336113556,12.660274941247426,-0.4733488246640275,-0.820406027090432,3.861269710208332],\"type\":\"scatter\"},{\"name\":\"2020\",\"opacity\":0.5,\"x\":[\"01\",\"02\",\"03\",\"04\",\"05\",\"06\",\"07\",\"08\",\"09\",\"10\",\"11\",\"12\"],\"y\":[4.652920962199313,8.069100881910089,-0.700193540583041,-0.2816370501258564,-0.9629184596476354,-0.8228944504896627,0.4383316390156769,-0.9968060979373834,-0.9706939574652077,-0.09323031705664428,0.0031994457011269386,-0.5195633177366932],\"type\":\"scatter\"},{\"name\":\"2021\",\"opacity\":0.5,\"x\":[\"01\",\"02\",\"03\",\"04\",\"05\",\"06\",\"07\",\"08\",\"09\",\"10\",\"11\",\"12\"],\"y\":[-0.5158668459200374,-0.9993655461935737,-0.9905588057292717,-0.9996185652833495,-0.9842914713381035,-0.9838412386335709,-0.999728159784817,-0.20168067226890757,102.131019793236,-0.9387545562883572,35.26767286909889,-0.8391963511183248],\"type\":\"scatter\"},{\"name\":\"2022\",\"opacity\":0.5,\"x\":[\"02\",\"04\",\"05\",\"07\",\"08\",\"12\"],\"y\":[10.08411214953271,9740.950570342206,3161.413612565445,3852.315789473684,12442.615789473684,-1.0],\"type\":\"scatter\"},{\"connectgaps\":false,\"line\":{\"dash\":\"dash\"},\"name\":\"2022\\u9810\\u4f30\\u503c\",\"x\":[\"08\",\"08\",\"09\",\"10\",\"11\",\"12\",\"12\"],\"y\":[null,12442.615789473684,null,null,null,null,-1.0],\"type\":\"scatter\"},{\"connectgaps\":false,\"line\":{\"dash\":\"dash\"},\"name\":\"2023\\u9810\\u4f30\\u503c\",\"x\":[\"02\",\"04\",\"05\",\"07\",\"08\",\"12\"],\"y\":[null,null,null,null,null,null],\"type\":\"scatter\"}],                        {\"hovermode\":\"x unified\",\"legend\":{\"title\":{\"text\":\"\\u5e74\\u4efd\"}},\"title\":{\"text\":\"2539 \\u6afb\\u82b1\\u5efa \\u5404\\u5e74\\u5ea6\\u6708\\u71df\\u6536 YOY %\"},\"xaxis\":{\"title\":{\"text\":\"\\u6708\\u4efd\"}},\"yaxis\":{\"title\":{\"text\":\"YOY %\"}},\"template\":{\"data\":{\"bar\":[{\"error_x\":{\"color\":\"#2a3f5f\"},\"error_y\":{\"color\":\"#2a3f5f\"},\"marker\":{\"line\":{\"color\":\"#E5ECF6\",\"width\":0.5},\"pattern\":{\"fillmode\":\"overlay\",\"size\":10,\"solidity\":0.2}},\"type\":\"bar\"}],\"barpolar\":[{\"marker\":{\"line\":{\"color\":\"#E5ECF6\",\"width\":0.5},\"pattern\":{\"fillmode\":\"overlay\",\"size\":10,\"solidity\":0.2}},\"type\":\"barpolar\"}],\"carpet\":[{\"aaxis\":{\"endlinecolor\":\"#2a3f5f\",\"gridcolor\":\"white\",\"linecolor\":\"white\",\"minorgridcolor\":\"white\",\"startlinecolor\":\"#2a3f5f\"},\"baxis\":{\"endlinecolor\":\"#2a3f5f\",\"gridcolor\":\"white\",\"linecolor\":\"white\",\"minorgridcolor\":\"white\",\"startlinecolor\":\"#2a3f5f\"},\"type\":\"carpet\"}],\"choropleth\":[{\"colorbar\":{\"outlinewidth\":0,\"ticks\":\"\"},\"type\":\"choropleth\"}],\"contour\":[{\"colorbar\":{\"outlinewidth\":0,\"ticks\":\"\"},\"colorscale\":[[0.0,\"#0d0887\"],[0.1111111111111111,\"#46039f\"],[0.2222222222222222,\"#7201a8\"],[0.3333333333333333,\"#9c179e\"],[0.4444444444444444,\"#bd3786\"],[0.5555555555555556,\"#d8576b\"],[0.6666666666666666,\"#ed7953\"],[0.7777777777777778,\"#fb9f3a\"],[0.8888888888888888,\"#fdca26\"],[1.0,\"#f0f921\"]],\"type\":\"contour\"}],\"contourcarpet\":[{\"colorbar\":{\"outlinewidth\":0,\"ticks\":\"\"},\"type\":\"contourcarpet\"}],\"heatmap\":[{\"colorbar\":{\"outlinewidth\":0,\"ticks\":\"\"},\"colorscale\":[[0.0,\"#0d0887\"],[0.1111111111111111,\"#46039f\"],[0.2222222222222222,\"#7201a8\"],[0.3333333333333333,\"#9c179e\"],[0.4444444444444444,\"#bd3786\"],[0.5555555555555556,\"#d8576b\"],[0.6666666666666666,\"#ed7953\"],[0.7777777777777778,\"#fb9f3a\"],[0.8888888888888888,\"#fdca26\"],[1.0,\"#f0f921\"]],\"type\":\"heatmap\"}],\"heatmapgl\":[{\"colorbar\":{\"outlinewidth\":0,\"ticks\":\"\"},\"colorscale\":[[0.0,\"#0d0887\"],[0.1111111111111111,\"#46039f\"],[0.2222222222222222,\"#7201a8\"],[0.3333333333333333,\"#9c179e\"],[0.4444444444444444,\"#bd3786\"],[0.5555555555555556,\"#d8576b\"],[0.6666666666666666,\"#ed7953\"],[0.7777777777777778,\"#fb9f3a\"],[0.8888888888888888,\"#fdca26\"],[1.0,\"#f0f921\"]],\"type\":\"heatmapgl\"}],\"histogram\":[{\"marker\":{\"pattern\":{\"fillmode\":\"overlay\",\"size\":10,\"solidity\":0.2}},\"type\":\"histogram\"}],\"histogram2d\":[{\"colorbar\":{\"outlinewidth\":0,\"ticks\":\"\"},\"colorscale\":[[0.0,\"#0d0887\"],[0.1111111111111111,\"#46039f\"],[0.2222222222222222,\"#7201a8\"],[0.3333333333333333,\"#9c179e\"],[0.4444444444444444,\"#bd3786\"],[0.5555555555555556,\"#d8576b\"],[0.6666666666666666,\"#ed7953\"],[0.7777777777777778,\"#fb9f3a\"],[0.8888888888888888,\"#fdca26\"],[1.0,\"#f0f921\"]],\"type\":\"histogram2d\"}],\"histogram2dcontour\":[{\"colorbar\":{\"outlinewidth\":0,\"ticks\":\"\"},\"colorscale\":[[0.0,\"#0d0887\"],[0.1111111111111111,\"#46039f\"],[0.2222222222222222,\"#7201a8\"],[0.3333333333333333,\"#9c179e\"],[0.4444444444444444,\"#bd3786\"],[0.5555555555555556,\"#d8576b\"],[0.6666666666666666,\"#ed7953\"],[0.7777777777777778,\"#fb9f3a\"],[0.8888888888888888,\"#fdca26\"],[1.0,\"#f0f921\"]],\"type\":\"histogram2dcontour\"}],\"mesh3d\":[{\"colorbar\":{\"outlinewidth\":0,\"ticks\":\"\"},\"type\":\"mesh3d\"}],\"parcoords\":[{\"line\":{\"colorbar\":{\"outlinewidth\":0,\"ticks\":\"\"}},\"type\":\"parcoords\"}],\"pie\":[{\"automargin\":true,\"type\":\"pie\"}],\"scatter\":[{\"marker\":{\"colorbar\":{\"outlinewidth\":0,\"ticks\":\"\"}},\"type\":\"scatter\"}],\"scatter3d\":[{\"line\":{\"colorbar\":{\"outlinewidth\":0,\"ticks\":\"\"}},\"marker\":{\"colorbar\":{\"outlinewidth\":0,\"ticks\":\"\"}},\"type\":\"scatter3d\"}],\"scattercarpet\":[{\"marker\":{\"colorbar\":{\"outlinewidth\":0,\"ticks\":\"\"}},\"type\":\"scattercarpet\"}],\"scattergeo\":[{\"marker\":{\"colorbar\":{\"outlinewidth\":0,\"ticks\":\"\"}},\"type\":\"scattergeo\"}],\"scattergl\":[{\"marker\":{\"colorbar\":{\"outlinewidth\":0,\"ticks\":\"\"}},\"type\":\"scattergl\"}],\"scattermapbox\":[{\"marker\":{\"colorbar\":{\"outlinewidth\":0,\"ticks\":\"\"}},\"type\":\"scattermapbox\"}],\"scatterpolar\":[{\"marker\":{\"colorbar\":{\"outlinewidth\":0,\"ticks\":\"\"}},\"type\":\"scatterpolar\"}],\"scatterpolargl\":[{\"marker\":{\"colorbar\":{\"outlinewidth\":0,\"ticks\":\"\"}},\"type\":\"scatterpolargl\"}],\"scatterternary\":[{\"marker\":{\"colorbar\":{\"outlinewidth\":0,\"ticks\":\"\"}},\"type\":\"scatterternary\"}],\"surface\":[{\"colorbar\":{\"outlinewidth\":0,\"ticks\":\"\"},\"colorscale\":[[0.0,\"#0d0887\"],[0.1111111111111111,\"#46039f\"],[0.2222222222222222,\"#7201a8\"],[0.3333333333333333,\"#9c179e\"],[0.4444444444444444,\"#bd3786\"],[0.5555555555555556,\"#d8576b\"],[0.6666666666666666,\"#ed7953\"],[0.7777777777777778,\"#fb9f3a\"],[0.8888888888888888,\"#fdca26\"],[1.0,\"#f0f921\"]],\"type\":\"surface\"}],\"table\":[{\"cells\":{\"fill\":{\"color\":\"#EBF0F8\"},\"line\":{\"color\":\"white\"}},\"header\":{\"fill\":{\"color\":\"#C8D4E3\"},\"line\":{\"color\":\"white\"}},\"type\":\"table\"}]},\"layout\":{\"annotationdefaults\":{\"arrowcolor\":\"#2a3f5f\",\"arrowhead\":0,\"arrowwidth\":1},\"autotypenumbers\":\"strict\",\"coloraxis\":{\"colorbar\":{\"outlinewidth\":0,\"ticks\":\"\"}},\"colorscale\":{\"diverging\":[[0,\"#8e0152\"],[0.1,\"#c51b7d\"],[0.2,\"#de77ae\"],[0.3,\"#f1b6da\"],[0.4,\"#fde0ef\"],[0.5,\"#f7f7f7\"],[0.6,\"#e6f5d0\"],[0.7,\"#b8e186\"],[0.8,\"#7fbc41\"],[0.9,\"#4d9221\"],[1,\"#276419\"]],\"sequential\":[[0.0,\"#0d0887\"],[0.1111111111111111,\"#46039f\"],[0.2222222222222222,\"#7201a8\"],[0.3333333333333333,\"#9c179e\"],[0.4444444444444444,\"#bd3786\"],[0.5555555555555556,\"#d8576b\"],[0.6666666666666666,\"#ed7953\"],[0.7777777777777778,\"#fb9f3a\"],[0.8888888888888888,\"#fdca26\"],[1.0,\"#f0f921\"]],\"sequentialminus\":[[0.0,\"#0d0887\"],[0.1111111111111111,\"#46039f\"],[0.2222222222222222,\"#7201a8\"],[0.3333333333333333,\"#9c179e\"],[0.4444444444444444,\"#bd3786\"],[0.5555555555555556,\"#d8576b\"],[0.6666666666666666,\"#ed7953\"],[0.7777777777777778,\"#fb9f3a\"],[0.8888888888888888,\"#fdca26\"],[1.0,\"#f0f921\"]]},\"colorway\":[\"#636efa\",\"#EF553B\",\"#00cc96\",\"#ab63fa\",\"#FFA15A\",\"#19d3f3\",\"#FF6692\",\"#B6E880\",\"#FF97FF\",\"#FECB52\"],\"font\":{\"color\":\"#2a3f5f\"},\"geo\":{\"bgcolor\":\"white\",\"lakecolor\":\"white\",\"landcolor\":\"#E5ECF6\",\"showlakes\":true,\"showland\":true,\"subunitcolor\":\"white\"},\"hoverlabel\":{\"align\":\"left\"},\"hovermode\":\"closest\",\"mapbox\":{\"style\":\"light\"},\"paper_bgcolor\":\"white\",\"plot_bgcolor\":\"#E5ECF6\",\"polar\":{\"angularaxis\":{\"gridcolor\":\"white\",\"linecolor\":\"white\",\"ticks\":\"\"},\"bgcolor\":\"#E5ECF6\",\"radialaxis\":{\"gridcolor\":\"white\",\"linecolor\":\"white\",\"ticks\":\"\"}},\"scene\":{\"xaxis\":{\"backgroundcolor\":\"#E5ECF6\",\"gridcolor\":\"white\",\"gridwidth\":2,\"linecolor\":\"white\",\"showbackground\":true,\"ticks\":\"\",\"zerolinecolor\":\"white\"},\"yaxis\":{\"backgroundcolor\":\"#E5ECF6\",\"gridcolor\":\"white\",\"gridwidth\":2,\"linecolor\":\"white\",\"showbackground\":true,\"ticks\":\"\",\"zerolinecolor\":\"white\"},\"zaxis\":{\"backgroundcolor\":\"#E5ECF6\",\"gridcolor\":\"white\",\"gridwidth\":2,\"linecolor\":\"white\",\"showbackground\":true,\"ticks\":\"\",\"zerolinecolor\":\"white\"}},\"shapedefaults\":{\"line\":{\"color\":\"#2a3f5f\"}},\"ternary\":{\"aaxis\":{\"gridcolor\":\"white\",\"linecolor\":\"white\",\"ticks\":\"\"},\"baxis\":{\"gridcolor\":\"white\",\"linecolor\":\"white\",\"ticks\":\"\"},\"bgcolor\":\"#E5ECF6\",\"caxis\":{\"gridcolor\":\"white\",\"linecolor\":\"white\",\"ticks\":\"\"}},\"title\":{\"x\":0.05},\"xaxis\":{\"automargin\":true,\"gridcolor\":\"white\",\"linecolor\":\"white\",\"ticks\":\"\",\"title\":{\"standoff\":15},\"zerolinecolor\":\"white\",\"zerolinewidth\":2},\"yaxis\":{\"automargin\":true,\"gridcolor\":\"white\",\"linecolor\":\"white\",\"ticks\":\"\",\"title\":{\"standoff\":15},\"zerolinecolor\":\"white\",\"zerolinewidth\":2}}}},                        {\"responsive\": true}                    ).then(function(){\n",
       "                            \n",
       "var gd = document.getElementById('46014a32-416c-44b5-b724-536e9a48b1c8');\n",
       "var x = new MutationObserver(function (mutations, observer) {{\n",
       "        var display = window.getComputedStyle(gd).display;\n",
       "        if (!display || display === 'none') {{\n",
       "            console.log([gd, 'removed!']);\n",
       "            Plotly.purge(gd);\n",
       "            observer.disconnect();\n",
       "        }}\n",
       "}});\n",
       "\n",
       "// Listen for the removal of the full notebook cells\n",
       "var notebookContainer = gd.closest('#notebook-container');\n",
       "if (notebookContainer) {{\n",
       "    x.observe(notebookContainer, {childList: true});\n",
       "}}\n",
       "\n",
       "// Listen for the clearing of the current output cell\n",
       "var outputEl = gd.closest('.output');\n",
       "if (outputEl) {{\n",
       "    x.observe(outputEl, {childList: true});\n",
       "}}\n",
       "\n",
       "                        })                };                });            </script>        </div>"
      ]
     },
     "metadata": {},
     "output_type": "display_data"
    },
    {
     "data": {
      "text/plain": [
       "(    st_code st_name rev_period declaration_date        rev  Year month  \\\n",
       " 0      2539     櫻花建    2013/01       2013/02/08      250.0  2013    01   \n",
       " 1      2539     櫻花建    2013/02       2013/03/08      270.0  2013    02   \n",
       " 2      2539     櫻花建    2013/03       2013/04/08      261.0  2013    03   \n",
       " 3      2539     櫻花建    2013/04       2013/05/09      261.0  2013    04   \n",
       " 4      2539     櫻花建    2013/05       2013/06/10   805622.0  2013    05   \n",
       " ..      ...     ...        ...              ...        ...   ...   ...   \n",
       " 109    2539     櫻花建    2022/04       2022/05/10  2562133.0  2022    04   \n",
       " 110    2539     櫻花建    2022/05       2022/06/08   604021.0  2022    05   \n",
       " 111    2539     櫻花建    2022/07       2022/08/09   732130.0  2022    07   \n",
       " 112    2539     櫻花建    2022/08       2022/09/08  2364287.0  2022    08   \n",
       " 113    2539     櫻花建    2022/12       2023/01/10        0.0  2022    12   \n",
       " \n",
       "              mom           yoy  \n",
       " 0            NaN           NaN  \n",
       " 1       0.080000           NaN  \n",
       " 2      -0.033333           NaN  \n",
       " 3       0.000000           NaN  \n",
       " 4    3085.674330           NaN  \n",
       " ..           ...           ...  \n",
       " 109  1079.157251   9740.950570  \n",
       " 110    -0.764251   3161.413613  \n",
       " 111     0.212094   3852.315789  \n",
       " 112     2.229327  12442.615789  \n",
       " 113    -1.000000     -1.000000  \n",
       " \n",
       " [114 rows x 9 columns],\n",
       " month      Year        01        02        03         04        05        06  \\\n",
       " 0          2013     250.0     270.0     261.0      261.0  805622.0  150039.0   \n",
       " 1          2014   68326.0   91279.0     131.0   912496.0  323912.0  501623.0   \n",
       " 2          2015   42170.0   26274.0   32630.0  1402952.0  370044.0   70989.0   \n",
       " 3          2016  421268.0   22834.0   26980.0    23853.0   42711.0     422.0   \n",
       " 4          2017  470031.0  142506.0  201620.0   119104.0  140601.0   70864.0   \n",
       " 5          2018  356013.0      49.0   10473.0       73.0      73.0  634454.0   \n",
       " 6          2019   60528.0   37192.0   82670.0   959824.0  327899.0  183800.0   \n",
       " 7          2020  342160.0  337298.0   24785.0   689502.0   12159.0   32552.0   \n",
       " 8          2021  165651.0     214.0     234.0      263.0     191.0     526.0   \n",
       " 9          2022       NaN    2372.0       NaN  2562133.0  604021.0       NaN   \n",
       " 0      2022 預估值       NaN       NaN       NaN        NaN       NaN       NaN   \n",
       " 1      2023 預估值       NaN       inf       NaN        inf       inf       NaN   \n",
       " \n",
       " month        07         08         09         10         11         12  \n",
       " 0         249.0      261.0      280.0      280.0      280.0  2162470.0  \n",
       " 1      247081.0   570616.0   309288.0   112953.0   314223.0   254454.0  \n",
       " 2       12945.0    30864.0    20649.0      448.0     3406.0  1332763.0  \n",
       " 3        8473.0      425.0    17417.0      216.0  1026315.0  1752074.0  \n",
       " 4      414884.0   835362.0    41465.0    13226.0  1362299.0   369385.0  \n",
       " 5      410032.0   169291.0    48083.0  1078883.0   273233.0   811445.0  \n",
       " 6      485938.0    74517.0   656827.0   568195.0    49071.0  3944653.0  \n",
       " 7      698940.0      238.0    19249.0   515222.0    49228.0  1895156.0  \n",
       " 8         190.0      190.0  1985169.0    31555.0  1785385.0   304748.0  \n",
       " 9      732130.0  2364287.0        NaN        NaN        NaN        0.0  \n",
       " 0           NaN  2364287.0        inf        inf        inf        NaN  \n",
       " 1           inf        inf        NaN        NaN        NaN        inf  ,\n",
       "      st_code st_name declaration_date        rev          mom       yoy\n",
       " 5901    5508     永信建       2023/01/03   269382.0    -0.184970 -0.790169\n",
       " 1627    2511      太子       2023/01/05  1028642.0     0.623155 -0.454001\n",
       " 5319    4907      富宇       2023/01/05   133435.0  2470.018519 -0.863947\n",
       " 4840    3489      森寶       2023/01/06    93773.0     0.216741 -0.112620\n",
       " 1267    2505      國揚       2023/01/06    82538.0    -0.628934 -0.422157\n",
       " ...      ...     ...              ...        ...          ...       ...\n",
       " 8582    9906     欣巴巴       2023/01/10   242444.0     3.189170  3.075854\n",
       " 4960    3703      欣陸       2023/01/10  2561108.0     0.250407 -0.167887\n",
       " 5080    4113      聯上       2023/01/10      109.0     0.123711 -0.999254\n",
       " 2821    2536      宏普       2023/01/10    12361.0     0.041716 -0.253202\n",
       " 8702    9946    三發地產       2023/01/10    26801.0    -0.798954 -0.773686\n",
       " \n",
       " [75 rows x 6 columns],\n",
       " <function __main__.predict(data)>,\n",
       " None,\n",
       " None,\n",
       " None)"
      ]
     },
     "execution_count": 357,
     "metadata": {},
     "output_type": "execute_result"
    }
   ],
   "source": [
    "data, table, latest, predict, REV.show(), MOM.show(), YOY.show()"
   ]
  },
  {
   "cell_type": "code",
   "execution_count": 179,
   "id": "ba13c11a",
   "metadata": {},
   "outputs": [
    {
     "data": {
      "text/plain": [
       "1     M11A 水泥製造\n",
       "2    M11B 預拌混凝土\n",
       "3     M11C 其他水泥\n",
       "Name: TEJ子產業名.1, dtype: object"
      ]
     },
     "execution_count": 179,
     "metadata": {},
     "output_type": "execute_result"
    }
   ],
   "source": [
    "minor_industry_name[minor_industry_name.str[0:3] == dropdown1[0:3]]"
   ]
  },
  {
   "cell_type": "code",
   "execution_count": 360,
   "id": "66a4fba9",
   "metadata": {},
   "outputs": [
    {
     "data": {
      "text/html": [
       "<div>\n",
       "<style scoped>\n",
       "    .dataframe tbody tr th:only-of-type {\n",
       "        vertical-align: middle;\n",
       "    }\n",
       "\n",
       "    .dataframe tbody tr th {\n",
       "        vertical-align: top;\n",
       "    }\n",
       "\n",
       "    .dataframe thead th {\n",
       "        text-align: right;\n",
       "    }\n",
       "</style>\n",
       "<table border=\"1\" class=\"dataframe\">\n",
       "  <thead>\n",
       "    <tr style=\"text-align: right;\">\n",
       "      <th></th>\n",
       "      <th>bond_code</th>\n",
       "      <th>bond_name</th>\n",
       "      <th>issuer</th>\n",
       "      <th>issuing_date</th>\n",
       "      <th>maturity_date</th>\n",
       "      <th>tenor</th>\n",
       "      <th>issue_amount</th>\n",
       "      <th>st_code</th>\n",
       "    </tr>\n",
       "  </thead>\n",
       "  <tbody>\n",
       "    <tr>\n",
       "      <th>26</th>\n",
       "      <td>25391</td>\n",
       "      <td>櫻花建一</td>\n",
       "      <td>櫻花建設股份有限公司</td>\n",
       "      <td>2018/09/03</td>\n",
       "      <td>2023/09/03</td>\n",
       "      <td>5</td>\n",
       "      <td>200000000</td>\n",
       "      <td>2539</td>\n",
       "    </tr>\n",
       "    <tr>\n",
       "      <th>28</th>\n",
       "      <td>25392</td>\n",
       "      <td>櫻花建二</td>\n",
       "      <td>櫻花建設股份有限公司</td>\n",
       "      <td>2018/09/04</td>\n",
       "      <td>2023/09/04</td>\n",
       "      <td>5</td>\n",
       "      <td>292000000</td>\n",
       "      <td>2539</td>\n",
       "    </tr>\n",
       "  </tbody>\n",
       "</table>\n",
       "</div>"
      ],
      "text/plain": [
       "    bond_code bond_name      issuer issuing_date maturity_date tenor  \\\n",
       "26      25391      櫻花建一  櫻花建設股份有限公司   2018/09/03    2023/09/03     5   \n",
       "28      25392      櫻花建二  櫻花建設股份有限公司   2018/09/04    2023/09/04     5   \n",
       "\n",
       "    issue_amount st_code  \n",
       "26     200000000    2539  \n",
       "28     292000000    2539  "
      ]
     },
     "execution_count": 360,
     "metadata": {},
     "output_type": "execute_result"
    }
   ],
   "source": [
    "df = pd.read_html(\"https://www.tpex.org.tw/web/bond/publish/convertible_bond_search/memo.php?l=zh-tw\")[0]\n",
    "df = df.set_axis(['bond_code', 'bond_name', 'issuer', 'issuing_date', 'maturity_date', 'tenor', 'issue_amount', 'link'], axis=1)\n",
    "df = df.drop('link', axis=1)\n",
    "df['st_code'] = df.bond_code.astype(str).str[0:4]\n",
    "df['tenor'] = df.tenor.str[0]\n",
    "df[df.st_code == '2539']"
   ]
  },
  {
   "cell_type": "markdown",
   "id": "29e550e8",
   "metadata": {},
   "source": [
    "##### Johnny"
   ]
  },
  {
   "cell_type": "code",
   "execution_count": null,
   "id": "de2b41b8",
   "metadata": {},
   "outputs": [
    {
     "name": "stdout",
     "output_type": "stream",
     "text": [
      "----------->  6416\n",
      "2023-02-01 08:23:02,698 INFO sqlalchemy.engine.Engine select relname from pg_class c join pg_namespace n on n.oid=c.relnamespace where pg_catalog.pg_table_is_visible(c.oid) and relname=%(name)s\n",
      "2023-02-01 08:23:02,700 INFO sqlalchemy.engine.Engine [cached since 5.783e+04s ago] {'name': \"\\n            select st_code, st_name, rev_period, declaration_date, rev\\n            from tej_revenue \\n            where new_industry_name = 'M2327 通信網路業'; \\n            \"}\n",
      "2023-02-01 08:23:39,012 INFO sqlalchemy.engine.Engine \n",
      "            select st_code, st_name, rev_period, declaration_date, rev\n",
      "            from tej_revenue \n",
      "            where new_industry_name = 'M2327 通信網路業'; \n",
      "            \n",
      "2023-02-01 08:23:39,013 INFO sqlalchemy.engine.Engine [raw sql] {}\n",
      "----------->  6451\n",
      "2023-02-01 08:23:41,976 INFO sqlalchemy.engine.Engine select relname from pg_class c join pg_namespace n on n.oid=c.relnamespace where pg_catalog.pg_table_is_visible(c.oid) and relname=%(name)s\n",
      "2023-02-01 08:23:41,977 INFO sqlalchemy.engine.Engine [cached since 5.787e+04s ago] {'name': \"\\n            select st_code, st_name, rev_period, declaration_date, rev\\n            from tej_revenue \\n            where new_industry_name = 'M2324 半導體'; \\n            \"}\n",
      "2023-02-01 08:23:42,606 INFO sqlalchemy.engine.Engine \n",
      "            select st_code, st_name, rev_period, declaration_date, rev\n",
      "            from tej_revenue \n",
      "            where new_industry_name = 'M2324 半導體'; \n",
      "            \n",
      "2023-02-01 08:23:42,607 INFO sqlalchemy.engine.Engine [raw sql] {}\n",
      "----------->  6220\n",
      "2023-02-01 08:23:47,119 INFO sqlalchemy.engine.Engine select relname from pg_class c join pg_namespace n on n.oid=c.relnamespace where pg_catalog.pg_table_is_visible(c.oid) and relname=%(name)s\n",
      "2023-02-01 08:23:47,119 INFO sqlalchemy.engine.Engine [cached since 5.788e+04s ago] {'name': \"\\n            select st_code, st_name, rev_period, declaration_date, rev\\n            from tej_revenue \\n            where new_industry_name = 'M2328 電子零組件'; \\n            \"}\n",
      "2023-02-01 08:23:47,742 INFO sqlalchemy.engine.Engine \n",
      "            select st_code, st_name, rev_period, declaration_date, rev\n",
      "            from tej_revenue \n",
      "            where new_industry_name = 'M2328 電子零組件'; \n",
      "            \n",
      "2023-02-01 08:23:47,744 INFO sqlalchemy.engine.Engine [raw sql] {}\n",
      "----------->  2466\n",
      "2023-02-01 08:23:52,161 INFO sqlalchemy.engine.Engine select relname from pg_class c join pg_namespace n on n.oid=c.relnamespace where pg_catalog.pg_table_is_visible(c.oid) and relname=%(name)s\n",
      "2023-02-01 08:23:52,162 INFO sqlalchemy.engine.Engine [cached since 5.788e+04s ago] {'name': \"\\n            select st_code, st_name, rev_period, declaration_date, rev\\n            from tej_revenue \\n            where new_industry_name = 'M2326 光電業'; \\n            \"}\n",
      "2023-02-01 08:23:52,784 INFO sqlalchemy.engine.Engine \n",
      "            select st_code, st_name, rev_period, declaration_date, rev\n",
      "            from tej_revenue \n",
      "            where new_industry_name = 'M2326 光電業'; \n",
      "            \n",
      "2023-02-01 08:23:52,785 INFO sqlalchemy.engine.Engine [raw sql] {}\n",
      "----------->  2228\n",
      "2023-02-01 08:23:55,980 INFO sqlalchemy.engine.Engine select relname from pg_class c join pg_namespace n on n.oid=c.relnamespace where pg_catalog.pg_table_is_visible(c.oid) and relname=%(name)s\n",
      "2023-02-01 08:23:55,980 INFO sqlalchemy.engine.Engine [cached since 5.789e+04s ago] {'name': \"\\n            select st_code, st_name, rev_period, declaration_date, rev\\n            from tej_revenue \\n            where new_industry_name = 'M2200 汽車工業'; \\n            \"}\n",
      "2023-02-01 08:23:56,602 INFO sqlalchemy.engine.Engine \n",
      "            select st_code, st_name, rev_period, declaration_date, rev\n",
      "            from tej_revenue \n",
      "            where new_industry_name = 'M2200 汽車工業'; \n",
      "            \n",
      "2023-02-01 08:23:56,604 INFO sqlalchemy.engine.Engine [raw sql] {}\n",
      "----------->  6532\n",
      "2023-02-01 08:23:58,132 INFO sqlalchemy.engine.Engine select relname from pg_class c join pg_namespace n on n.oid=c.relnamespace where pg_catalog.pg_table_is_visible(c.oid) and relname=%(name)s\n",
      "2023-02-01 08:23:58,133 INFO sqlalchemy.engine.Engine [cached since 5.789e+04s ago] {'name': \"\\n            select st_code, st_name, rev_period, declaration_date, rev\\n            from tej_revenue \\n            where new_industry_name = 'M2324 半導體'; \\n            \"}\n",
      "2023-02-01 08:23:58,755 INFO sqlalchemy.engine.Engine \n",
      "            select st_code, st_name, rev_period, declaration_date, rev\n",
      "            from tej_revenue \n",
      "            where new_industry_name = 'M2324 半導體'; \n",
      "            \n",
      "2023-02-01 08:23:58,757 INFO sqlalchemy.engine.Engine [raw sql] {}\n",
      "----------->  4555\n",
      "2023-02-01 08:24:01,926 INFO sqlalchemy.engine.Engine select relname from pg_class c join pg_namespace n on n.oid=c.relnamespace where pg_catalog.pg_table_is_visible(c.oid) and relname=%(name)s\n",
      "2023-02-01 08:24:01,927 INFO sqlalchemy.engine.Engine [cached since 5.789e+04s ago] {'name': \"\\n            select st_code, st_name, rev_period, declaration_date, rev\\n            from tej_revenue \\n            where new_industry_name = 'M1500 電機機械'; \\n            \"}\n",
      "2023-02-01 08:24:02,549 INFO sqlalchemy.engine.Engine \n",
      "            select st_code, st_name, rev_period, declaration_date, rev\n",
      "            from tej_revenue \n",
      "            where new_industry_name = 'M1500 電機機械'; \n",
      "            \n",
      "2023-02-01 08:24:02,551 INFO sqlalchemy.engine.Engine [raw sql] {}\n",
      "----------->  4167\n",
      "2023-02-01 08:24:04,913 INFO sqlalchemy.engine.Engine select relname from pg_class c join pg_namespace n on n.oid=c.relnamespace where pg_catalog.pg_table_is_visible(c.oid) and relname=%(name)s\n",
      "2023-02-01 08:24:04,914 INFO sqlalchemy.engine.Engine [cached since 5.79e+04s ago] {'name': \"\\n            select st_code, st_name, rev_period, declaration_date, rev\\n            from tej_revenue \\n            where new_industry_name = 'M1722 生技醫療'; \\n            \"}\n",
      "2023-02-01 08:24:05,536 INFO sqlalchemy.engine.Engine \n",
      "            select st_code, st_name, rev_period, declaration_date, rev\n",
      "            from tej_revenue \n",
      "            where new_industry_name = 'M1722 生技醫療'; \n",
      "            \n",
      "2023-02-01 08:24:05,537 INFO sqlalchemy.engine.Engine [raw sql] {}\n",
      "----------->  8933\n",
      "2023-02-01 08:24:08,299 INFO sqlalchemy.engine.Engine select relname from pg_class c join pg_namespace n on n.oid=c.relnamespace where pg_catalog.pg_table_is_visible(c.oid) and relname=%(name)s\n",
      "2023-02-01 08:24:08,300 INFO sqlalchemy.engine.Engine [cached since 5.79e+04s ago] {'name': \"\\n            select st_code, st_name, rev_period, declaration_date, rev\\n            from tej_revenue \\n            where new_industry_name = 'M9900 其他'; \\n            \"}\n",
      "2023-02-01 08:24:08,926 INFO sqlalchemy.engine.Engine \n",
      "            select st_code, st_name, rev_period, declaration_date, rev\n",
      "            from tej_revenue \n",
      "            where new_industry_name = 'M9900 其他'; \n",
      "            \n",
      "2023-02-01 08:24:08,927 INFO sqlalchemy.engine.Engine [raw sql] {}\n",
      "----------->  6189\n",
      "2023-02-01 08:24:12,064 INFO sqlalchemy.engine.Engine select relname from pg_class c join pg_namespace n on n.oid=c.relnamespace where pg_catalog.pg_table_is_visible(c.oid) and relname=%(name)s\n",
      "2023-02-01 08:24:12,065 INFO sqlalchemy.engine.Engine [cached since 5.79e+04s ago] {'name': \"\\n            select st_code, st_name, rev_period, declaration_date, rev\\n            from tej_revenue \\n            where new_industry_name = 'M2329 電子通路業'; \\n            \"}\n",
      "2023-02-01 08:24:12,687 INFO sqlalchemy.engine.Engine \n",
      "            select st_code, st_name, rev_period, declaration_date, rev\n",
      "            from tej_revenue \n",
      "            where new_industry_name = 'M2329 電子通路業'; \n",
      "            \n",
      "2023-02-01 08:24:12,688 INFO sqlalchemy.engine.Engine [raw sql] {}\n",
      "----------->  2731\n",
      "2023-02-01 08:24:14,242 INFO sqlalchemy.engine.Engine select relname from pg_class c join pg_namespace n on n.oid=c.relnamespace where pg_catalog.pg_table_is_visible(c.oid) and relname=%(name)s\n",
      "2023-02-01 08:24:14,243 INFO sqlalchemy.engine.Engine [cached since 5.791e+04s ago] {'name': \"\\n            select st_code, st_name, rev_period, declaration_date, rev\\n            from tej_revenue \\n            where new_industry_name = 'M2700 觀光事業'; \\n            \"}\n",
      "2023-02-01 08:24:14,866 INFO sqlalchemy.engine.Engine \n",
      "            select st_code, st_name, rev_period, declaration_date, rev\n",
      "            from tej_revenue \n",
      "            where new_industry_name = 'M2700 觀光事業'; \n",
      "            \n",
      "2023-02-01 08:24:14,868 INFO sqlalchemy.engine.Engine [raw sql] {}\n",
      "----------->  8042\n",
      "2023-02-01 08:24:16,283 INFO sqlalchemy.engine.Engine select relname from pg_class c join pg_namespace n on n.oid=c.relnamespace where pg_catalog.pg_table_is_visible(c.oid) and relname=%(name)s\n",
      "2023-02-01 08:24:16,283 INFO sqlalchemy.engine.Engine [cached since 5.791e+04s ago] {'name': \"\\n            select st_code, st_name, rev_period, declaration_date, rev\\n            from tej_revenue \\n            where new_industry_name = 'M2328 電子零組件'; \\n            \"}\n",
      "2023-02-01 08:24:16,905 INFO sqlalchemy.engine.Engine \n",
      "            select st_code, st_name, rev_period, declaration_date, rev\n",
      "            from tej_revenue \n",
      "            where new_industry_name = 'M2328 電子零組件'; \n",
      "            \n",
      "2023-02-01 08:24:16,907 INFO sqlalchemy.engine.Engine [raw sql] {}\n",
      "----------->  8104\n",
      "2023-02-01 08:24:22,635 INFO sqlalchemy.engine.Engine select relname from pg_class c join pg_namespace n on n.oid=c.relnamespace where pg_catalog.pg_table_is_visible(c.oid) and relname=%(name)s\n",
      "2023-02-01 08:24:22,635 INFO sqlalchemy.engine.Engine [cached since 5.791e+04s ago] {'name': \"\\n            select st_code, st_name, rev_period, declaration_date, rev\\n            from tej_revenue \\n            where new_industry_name = 'M2326 光電業'; \\n            \"}\n",
      "2023-02-01 08:24:23,256 INFO sqlalchemy.engine.Engine \n",
      "            select st_code, st_name, rev_period, declaration_date, rev\n",
      "            from tej_revenue \n",
      "            where new_industry_name = 'M2326 光電業'; \n",
      "            \n",
      "2023-02-01 08:24:23,257 INFO sqlalchemy.engine.Engine [raw sql] {}\n",
      "----------->  6179\n",
      "2023-02-01 08:24:26,566 INFO sqlalchemy.engine.Engine select relname from pg_class c join pg_namespace n on n.oid=c.relnamespace where pg_catalog.pg_table_is_visible(c.oid) and relname=%(name)s\n",
      "2023-02-01 08:24:26,566 INFO sqlalchemy.engine.Engine [cached since 5.792e+04s ago] {'name': \"\\n            select st_code, st_name, rev_period, declaration_date, rev\\n            from tej_revenue \\n            where new_industry_name = 'M9900 其他'; \\n            \"}\n",
      "2023-02-01 08:24:27,457 INFO sqlalchemy.engine.Engine \n",
      "            select st_code, st_name, rev_period, declaration_date, rev\n",
      "            from tej_revenue \n",
      "            where new_industry_name = 'M9900 其他'; \n",
      "            \n",
      "2023-02-01 08:24:27,457 INFO sqlalchemy.engine.Engine [raw sql] {}\n",
      "----------->  2472\n",
      "2023-02-01 08:24:30,574 INFO sqlalchemy.engine.Engine select relname from pg_class c join pg_namespace n on n.oid=c.relnamespace where pg_catalog.pg_table_is_visible(c.oid) and relname=%(name)s\n",
      "2023-02-01 08:24:30,575 INFO sqlalchemy.engine.Engine [cached since 5.792e+04s ago] {'name': \"\\n            select st_code, st_name, rev_period, declaration_date, rev\\n            from tej_revenue \\n            where new_industry_name = 'M2328 電子零組件'; \\n            \"}\n",
      "2023-02-01 08:24:31,197 INFO sqlalchemy.engine.Engine \n",
      "            select st_code, st_name, rev_period, declaration_date, rev\n",
      "            from tej_revenue \n",
      "            where new_industry_name = 'M2328 電子零組件'; \n",
      "            \n",
      "2023-02-01 08:24:31,198 INFO sqlalchemy.engine.Engine [raw sql] {}\n",
      "----------->  8092\n",
      "2023-02-01 08:24:35,651 INFO sqlalchemy.engine.Engine select relname from pg_class c join pg_namespace n on n.oid=c.relnamespace where pg_catalog.pg_table_is_visible(c.oid) and relname=%(name)s\n",
      "2023-02-01 08:24:35,652 INFO sqlalchemy.engine.Engine [cached since 5.793e+04s ago] {'name': \"\\n            select st_code, st_name, rev_period, declaration_date, rev\\n            from tej_revenue \\n            where new_industry_name = 'M2331 其他電子業'; \\n            \"}\n",
      "2023-02-01 08:24:36,468 INFO sqlalchemy.engine.Engine \n",
      "            select st_code, st_name, rev_period, declaration_date, rev\n",
      "            from tej_revenue \n",
      "            where new_industry_name = 'M2331 其他電子業'; \n",
      "            \n",
      "2023-02-01 08:24:36,469 INFO sqlalchemy.engine.Engine [raw sql] {}\n",
      "----------->  1815\n",
      "2023-02-01 08:24:39,586 INFO sqlalchemy.engine.Engine select relname from pg_class c join pg_namespace n on n.oid=c.relnamespace where pg_catalog.pg_table_is_visible(c.oid) and relname=%(name)s\n",
      "2023-02-01 08:24:39,586 INFO sqlalchemy.engine.Engine [cached since 5.793e+04s ago] {'name': \"\\n            select st_code, st_name, rev_period, declaration_date, rev\\n            from tej_revenue \\n            where new_industry_name = 'M2328 電子零組件'; \\n            \"}\n",
      "2023-02-01 08:24:40,359 INFO sqlalchemy.engine.Engine \n",
      "            select st_code, st_name, rev_period, declaration_date, rev\n",
      "            from tej_revenue \n",
      "            where new_industry_name = 'M2328 電子零組件'; \n",
      "            \n",
      "2023-02-01 08:24:40,360 INFO sqlalchemy.engine.Engine [raw sql] {}\n",
      "----------->  8467\n",
      "2023-02-01 08:24:45,354 INFO sqlalchemy.engine.Engine select relname from pg_class c join pg_namespace n on n.oid=c.relnamespace where pg_catalog.pg_table_is_visible(c.oid) and relname=%(name)s\n",
      "2023-02-01 08:24:45,354 INFO sqlalchemy.engine.Engine [cached since 5.794e+04s ago] {'name': \"\\n            select st_code, st_name, rev_period, declaration_date, rev\\n            from tej_revenue \\n            where new_industry_name = 'M9900 其他'; \\n            \"}\n",
      "2023-02-01 08:24:45,974 INFO sqlalchemy.engine.Engine \n",
      "            select st_code, st_name, rev_period, declaration_date, rev\n",
      "            from tej_revenue \n",
      "            where new_industry_name = 'M9900 其他'; \n",
      "            \n",
      "2023-02-01 08:24:45,975 INFO sqlalchemy.engine.Engine [raw sql] {}\n",
      "----------->  9958\n",
      "2023-02-01 08:24:50,048 INFO sqlalchemy.engine.Engine select relname from pg_class c join pg_namespace n on n.oid=c.relnamespace where pg_catalog.pg_table_is_visible(c.oid) and relname=%(name)s\n",
      "2023-02-01 08:24:50,049 INFO sqlalchemy.engine.Engine [cached since 5.794e+04s ago] {'name': \"\\n            select st_code, st_name, rev_period, declaration_date, rev\\n            from tej_revenue \\n            where new_industry_name = 'M2000 鋼鐵工業'; \\n            \"}\n",
      "2023-02-01 08:24:50,804 INFO sqlalchemy.engine.Engine \n",
      "            select st_code, st_name, rev_period, declaration_date, rev\n",
      "            from tej_revenue \n",
      "            where new_industry_name = 'M2000 鋼鐵工業'; \n",
      "            \n",
      "2023-02-01 08:24:50,804 INFO sqlalchemy.engine.Engine [raw sql] {}\n",
      "----------->  8466\n",
      "2023-02-01 08:24:53,004 INFO sqlalchemy.engine.Engine select relname from pg_class c join pg_namespace n on n.oid=c.relnamespace where pg_catalog.pg_table_is_visible(c.oid) and relname=%(name)s\n",
      "2023-02-01 08:24:53,004 INFO sqlalchemy.engine.Engine [cached since 5.795e+04s ago] {'name': \"\\n            select st_code, st_name, rev_period, declaration_date, rev\\n            from tej_revenue \\n            where new_industry_name = 'M9900 其他'; \\n            \"}\n",
      "2023-02-01 08:24:53,876 INFO sqlalchemy.engine.Engine \n",
      "            select st_code, st_name, rev_period, declaration_date, rev\n",
      "            from tej_revenue \n",
      "            where new_industry_name = 'M9900 其他'; \n",
      "            \n",
      "2023-02-01 08:24:53,876 INFO sqlalchemy.engine.Engine [raw sql] {}\n",
      "----------->  9802\n",
      "2023-02-01 08:24:57,427 INFO sqlalchemy.engine.Engine select relname from pg_class c join pg_namespace n on n.oid=c.relnamespace where pg_catalog.pg_table_is_visible(c.oid) and relname=%(name)s\n",
      "2023-02-01 08:24:57,428 INFO sqlalchemy.engine.Engine [cached since 5.795e+04s ago] {'name': \"\\n            select st_code, st_name, rev_period, declaration_date, rev\\n            from tej_revenue \\n            where new_industry_name = 'M9900 其他'; \\n            \"}\n",
      "2023-02-01 08:24:58,049 INFO sqlalchemy.engine.Engine \n",
      "            select st_code, st_name, rev_period, declaration_date, rev\n",
      "            from tej_revenue \n",
      "            where new_industry_name = 'M9900 其他'; \n",
      "            \n",
      "2023-02-01 08:24:58,050 INFO sqlalchemy.engine.Engine [raw sql] {}\n",
      "----------->  1598\n",
      "2023-02-01 08:25:01,492 INFO sqlalchemy.engine.Engine select relname from pg_class c join pg_namespace n on n.oid=c.relnamespace where pg_catalog.pg_table_is_visible(c.oid) and relname=%(name)s\n",
      "2023-02-01 08:25:01,493 INFO sqlalchemy.engine.Engine [cached since 5.795e+04s ago] {'name': \"\\n            select st_code, st_name, rev_period, declaration_date, rev\\n            from tej_revenue \\n            where new_industry_name = 'M1722 生技醫療'; \\n            \"}\n",
      "2023-02-01 08:25:02,117 INFO sqlalchemy.engine.Engine \n",
      "            select st_code, st_name, rev_period, declaration_date, rev\n",
      "            from tej_revenue \n",
      "            where new_industry_name = 'M1722 生技醫療'; \n",
      "            \n",
      "2023-02-01 08:25:02,118 INFO sqlalchemy.engine.Engine [raw sql] {}\n",
      "----------->  4760\n",
      "2023-02-01 08:25:05,264 INFO sqlalchemy.engine.Engine select relname from pg_class c join pg_namespace n on n.oid=c.relnamespace where pg_catalog.pg_table_is_visible(c.oid) and relname=%(name)s\n",
      "2023-02-01 08:25:05,265 INFO sqlalchemy.engine.Engine [cached since 5.796e+04s ago] {'name': \"\\n            select st_code, st_name, rev_period, declaration_date, rev\\n            from tej_revenue \\n            where new_industry_name = 'M2331 其他電子業'; \\n            \"}\n",
      "2023-02-01 08:25:05,887 INFO sqlalchemy.engine.Engine \n",
      "            select st_code, st_name, rev_period, declaration_date, rev\n",
      "            from tej_revenue \n",
      "            where new_industry_name = 'M2331 其他電子業'; \n",
      "            \n",
      "2023-02-01 08:25:05,888 INFO sqlalchemy.engine.Engine [raw sql] {}\n",
      "----------->  1586\n",
      "2023-02-01 08:25:08,310 INFO sqlalchemy.engine.Engine select relname from pg_class c join pg_namespace n on n.oid=c.relnamespace where pg_catalog.pg_table_is_visible(c.oid) and relname=%(name)s\n",
      "2023-02-01 08:25:08,310 INFO sqlalchemy.engine.Engine [cached since 5.796e+04s ago] {'name': \"\\n            select st_code, st_name, rev_period, declaration_date, rev\\n            from tej_revenue \\n            where new_industry_name = 'M1500 電機機械'; \\n            \"}\n",
      "2023-02-01 08:25:08,932 INFO sqlalchemy.engine.Engine \n",
      "            select st_code, st_name, rev_period, declaration_date, rev\n",
      "            from tej_revenue \n",
      "            where new_industry_name = 'M1500 電機機械'; \n",
      "            \n",
      "2023-02-01 08:25:08,934 INFO sqlalchemy.engine.Engine [raw sql] {}\n",
      "----------->  1586\n",
      "2023-02-01 08:25:11,526 INFO sqlalchemy.engine.Engine select relname from pg_class c join pg_namespace n on n.oid=c.relnamespace where pg_catalog.pg_table_is_visible(c.oid) and relname=%(name)s\n",
      "2023-02-01 08:25:11,526 INFO sqlalchemy.engine.Engine [cached since 5.796e+04s ago] {'name': \"\\n            select st_code, st_name, rev_period, declaration_date, rev\\n            from tej_revenue \\n            where new_industry_name = 'M1500 電機機械'; \\n            \"}\n",
      "2023-02-01 08:25:12,149 INFO sqlalchemy.engine.Engine \n",
      "            select st_code, st_name, rev_period, declaration_date, rev\n",
      "            from tej_revenue \n",
      "            where new_industry_name = 'M1500 電機機械'; \n",
      "            \n",
      "2023-02-01 08:25:12,151 INFO sqlalchemy.engine.Engine [raw sql] {}\n",
      "----------->  6591\n",
      "2023-02-01 08:25:14,780 INFO sqlalchemy.engine.Engine select relname from pg_class c join pg_namespace n on n.oid=c.relnamespace where pg_catalog.pg_table_is_visible(c.oid) and relname=%(name)s\n",
      "2023-02-01 08:25:14,780 INFO sqlalchemy.engine.Engine [cached since 5.797e+04s ago] {'name': \"\\n            select st_code, st_name, rev_period, declaration_date, rev\\n            from tej_revenue \\n            where new_industry_name = 'M2325 電腦及週邊'; \\n            \"}\n",
      "2023-02-01 08:25:15,403 INFO sqlalchemy.engine.Engine \n",
      "            select st_code, st_name, rev_period, declaration_date, rev\n",
      "            from tej_revenue \n",
      "            where new_industry_name = 'M2325 電腦及週邊'; \n",
      "            \n",
      "2023-02-01 08:25:15,404 INFO sqlalchemy.engine.Engine [raw sql] {}\n",
      "----------->  2539\n",
      "2023-02-01 08:25:18,133 INFO sqlalchemy.engine.Engine select relname from pg_class c join pg_namespace n on n.oid=c.relnamespace where pg_catalog.pg_table_is_visible(c.oid) and relname=%(name)s\n",
      "2023-02-01 08:25:18,133 INFO sqlalchemy.engine.Engine [cached since 5.797e+04s ago] {'name': \"\\n            select st_code, st_name, rev_period, declaration_date, rev\\n            from tej_revenue \\n            where new_industry_name = 'M2500 建材營造'; \\n            \"}\n",
      "2023-02-01 08:25:18,758 INFO sqlalchemy.engine.Engine \n",
      "            select st_code, st_name, rev_period, declaration_date, rev\n",
      "            from tej_revenue \n",
      "            where new_industry_name = 'M2500 建材營造'; \n",
      "            \n",
      "2023-02-01 08:25:18,760 INFO sqlalchemy.engine.Engine [raw sql] {}\n",
      "----------->  2937\n",
      "2023-02-01 08:25:20,999 INFO sqlalchemy.engine.Engine select relname from pg_class c join pg_namespace n on n.oid=c.relnamespace where pg_catalog.pg_table_is_visible(c.oid) and relname=%(name)s\n",
      "2023-02-01 08:25:20,999 INFO sqlalchemy.engine.Engine [cached since 5.797e+04s ago] {'name': \"\\n            select st_code, st_name, rev_period, declaration_date, rev\\n            from tej_revenue \\n            where new_industry_name = 'M2900 貿易百貨'; \\n            \"}\n",
      "2023-02-01 08:25:21,621 INFO sqlalchemy.engine.Engine \n",
      "            select st_code, st_name, rev_period, declaration_date, rev\n",
      "            from tej_revenue \n",
      "            where new_industry_name = 'M2900 貿易百貨'; \n",
      "            \n",
      "2023-02-01 08:25:21,623 INFO sqlalchemy.engine.Engine [raw sql] {}\n",
      "----------->  2539\n",
      "2023-02-01 08:25:22,965 INFO sqlalchemy.engine.Engine select relname from pg_class c join pg_namespace n on n.oid=c.relnamespace where pg_catalog.pg_table_is_visible(c.oid) and relname=%(name)s\n",
      "2023-02-01 08:25:22,966 INFO sqlalchemy.engine.Engine [cached since 5.798e+04s ago] {'name': \"\\n            select st_code, st_name, rev_period, declaration_date, rev\\n            from tej_revenue \\n            where new_industry_name = 'M2500 建材營造'; \\n            \"}\n",
      "2023-02-01 08:25:23,589 INFO sqlalchemy.engine.Engine \n",
      "            select st_code, st_name, rev_period, declaration_date, rev\n",
      "            from tej_revenue \n",
      "            where new_industry_name = 'M2500 建材營造'; \n",
      "            \n",
      "2023-02-01 08:25:23,590 INFO sqlalchemy.engine.Engine [raw sql] {}\n",
      "----------->  3363\n",
      "2023-02-01 08:25:25,740 INFO sqlalchemy.engine.Engine select relname from pg_class c join pg_namespace n on n.oid=c.relnamespace where pg_catalog.pg_table_is_visible(c.oid) and relname=%(name)s\n",
      "2023-02-01 08:25:25,740 INFO sqlalchemy.engine.Engine [cached since 5.798e+04s ago] {'name': \"\\n            select st_code, st_name, rev_period, declaration_date, rev\\n            from tej_revenue \\n            where new_industry_name = 'M2327 通信網路業'; \\n            \"}\n",
      "2023-02-01 08:25:26,361 INFO sqlalchemy.engine.Engine \n",
      "            select st_code, st_name, rev_period, declaration_date, rev\n",
      "            from tej_revenue \n",
      "            where new_industry_name = 'M2327 通信網路業'; \n",
      "            \n",
      "2023-02-01 08:25:26,362 INFO sqlalchemy.engine.Engine [raw sql] {}\n",
      "----------->  3092\n",
      "2023-02-01 08:25:28,949 INFO sqlalchemy.engine.Engine select relname from pg_class c join pg_namespace n on n.oid=c.relnamespace where pg_catalog.pg_table_is_visible(c.oid) and relname=%(name)s\n",
      "2023-02-01 08:25:28,950 INFO sqlalchemy.engine.Engine [cached since 5.798e+04s ago] {'name': \"\\n            select st_code, st_name, rev_period, declaration_date, rev\\n            from tej_revenue \\n            where new_industry_name = 'M2328 電子零組件'; \\n            \"}\n",
      "2023-02-01 08:25:29,573 INFO sqlalchemy.engine.Engine \n",
      "            select st_code, st_name, rev_period, declaration_date, rev\n",
      "            from tej_revenue \n",
      "            where new_industry_name = 'M2328 電子零組件'; \n",
      "            \n",
      "2023-02-01 08:25:29,575 INFO sqlalchemy.engine.Engine [raw sql] {}\n",
      "----------->  3202\n",
      "2023-02-01 08:25:34,239 INFO sqlalchemy.engine.Engine select relname from pg_class c join pg_namespace n on n.oid=c.relnamespace where pg_catalog.pg_table_is_visible(c.oid) and relname=%(name)s\n",
      "2023-02-01 08:25:34,239 INFO sqlalchemy.engine.Engine [cached since 5.799e+04s ago] {'name': \"\\n            select st_code, st_name, rev_period, declaration_date, rev\\n            from tej_revenue \\n            where new_industry_name = 'M2328 電子零組件'; \\n            \"}\n",
      "2023-02-01 08:25:35,145 INFO sqlalchemy.engine.Engine \n",
      "            select st_code, st_name, rev_period, declaration_date, rev\n",
      "            from tej_revenue \n",
      "            where new_industry_name = 'M2328 電子零組件'; \n",
      "            \n",
      "2023-02-01 08:25:35,146 INFO sqlalchemy.engine.Engine [raw sql] {}\n",
      "----------->  6496\n",
      "2023-02-01 08:25:39,767 INFO sqlalchemy.engine.Engine select relname from pg_class c join pg_namespace n on n.oid=c.relnamespace where pg_catalog.pg_table_is_visible(c.oid) and relname=%(name)s\n",
      "2023-02-01 08:25:39,768 INFO sqlalchemy.engine.Engine [cached since 5.799e+04s ago] {'name': \"\\n            select st_code, st_name, rev_period, declaration_date, rev\\n            from tej_revenue \\n            where new_industry_name = 'M1722 生技醫療'; \\n            \"}\n",
      "2023-02-01 08:25:40,571 INFO sqlalchemy.engine.Engine \n",
      "            select st_code, st_name, rev_period, declaration_date, rev\n",
      "            from tej_revenue \n",
      "            where new_industry_name = 'M1722 生技醫療'; \n",
      "            \n",
      "2023-02-01 08:25:40,572 INFO sqlalchemy.engine.Engine [raw sql] {}\n",
      "----------->  8044\n",
      "2023-02-01 08:25:43,896 INFO sqlalchemy.engine.Engine select relname from pg_class c join pg_namespace n on n.oid=c.relnamespace where pg_catalog.pg_table_is_visible(c.oid) and relname=%(name)s\n",
      "2023-02-01 08:25:43,897 INFO sqlalchemy.engine.Engine [cached since 5.8e+04s ago] {'name': \"\\n            select st_code, st_name, rev_period, declaration_date, rev\\n            from tej_revenue \\n            where new_industry_name = 'M3400 電子商務'; \\n            \"}\n",
      "2023-02-01 08:25:44,667 INFO sqlalchemy.engine.Engine \n",
      "            select st_code, st_name, rev_period, declaration_date, rev\n",
      "            from tej_revenue \n",
      "            where new_industry_name = 'M3400 電子商務'; \n",
      "            \n",
      "2023-02-01 08:25:44,669 INFO sqlalchemy.engine.Engine [raw sql] {}\n",
      "----------->  3163\n",
      "2023-02-01 08:25:45,594 INFO sqlalchemy.engine.Engine select relname from pg_class c join pg_namespace n on n.oid=c.relnamespace where pg_catalog.pg_table_is_visible(c.oid) and relname=%(name)s\n",
      "2023-02-01 08:25:45,595 INFO sqlalchemy.engine.Engine [cached since 5.8e+04s ago] {'name': \"\\n            select st_code, st_name, rev_period, declaration_date, rev\\n            from tej_revenue \\n            where new_industry_name = 'M2327 通信網路業'; \\n            \"}\n",
      "2023-02-01 08:25:46,408 INFO sqlalchemy.engine.Engine \n",
      "            select st_code, st_name, rev_period, declaration_date, rev\n",
      "            from tej_revenue \n",
      "            where new_industry_name = 'M2327 通信網路業'; \n",
      "            \n",
      "2023-02-01 08:25:46,409 INFO sqlalchemy.engine.Engine [raw sql] {}\n",
      "----------->  3171\n",
      "2023-02-01 08:25:48,935 INFO sqlalchemy.engine.Engine select relname from pg_class c join pg_namespace n on n.oid=c.relnamespace where pg_catalog.pg_table_is_visible(c.oid) and relname=%(name)s\n",
      "2023-02-01 08:25:48,935 INFO sqlalchemy.engine.Engine [cached since 5.8e+04s ago] {'name': \"\\n            select st_code, st_name, rev_period, declaration_date, rev\\n            from tej_revenue \\n            where new_industry_name = 'M2900 貿易百貨'; \\n            \"}\n",
      "2023-02-01 08:25:49,684 INFO sqlalchemy.engine.Engine \n",
      "            select st_code, st_name, rev_period, declaration_date, rev\n",
      "            from tej_revenue \n",
      "            where new_industry_name = 'M2900 貿易百貨'; \n",
      "            \n",
      "2023-02-01 08:25:49,686 INFO sqlalchemy.engine.Engine [raw sql] {}\n",
      "----------->  5309\n",
      "2023-02-01 08:25:51,187 INFO sqlalchemy.engine.Engine select relname from pg_class c join pg_namespace n on n.oid=c.relnamespace where pg_catalog.pg_table_is_visible(c.oid) and relname=%(name)s\n",
      "2023-02-01 08:25:51,188 INFO sqlalchemy.engine.Engine [cached since 5.8e+04s ago] {'name': \"\\n            select st_code, st_name, rev_period, declaration_date, rev\\n            from tej_revenue \\n            where new_industry_name = 'M2328 電子零組件'; \\n            \"}\n",
      "2023-02-01 08:25:51,937 INFO sqlalchemy.engine.Engine \n",
      "            select st_code, st_name, rev_period, declaration_date, rev\n",
      "            from tej_revenue \n",
      "            where new_industry_name = 'M2328 電子零組件'; \n",
      "            \n",
      "2023-02-01 08:25:51,938 INFO sqlalchemy.engine.Engine [raw sql] {}\n",
      "----------->  4433\n",
      "2023-02-01 08:25:56,014 INFO sqlalchemy.engine.Engine select relname from pg_class c join pg_namespace n on n.oid=c.relnamespace where pg_catalog.pg_table_is_visible(c.oid) and relname=%(name)s\n",
      "2023-02-01 08:25:56,015 INFO sqlalchemy.engine.Engine [cached since 5.801e+04s ago] {'name': \"\\n            select st_code, st_name, rev_period, declaration_date, rev\\n            from tej_revenue \\n            where new_industry_name = 'M1400 紡織纖維'; \\n            \"}\n",
      "2023-02-01 08:25:56,750 INFO sqlalchemy.engine.Engine \n",
      "            select st_code, st_name, rev_period, declaration_date, rev\n",
      "            from tej_revenue \n",
      "            where new_industry_name = 'M1400 紡織纖維'; \n",
      "            \n",
      "2023-02-01 08:25:56,751 INFO sqlalchemy.engine.Engine [raw sql] {}\n",
      "----------->  6629\n",
      "2023-02-01 08:25:59,544 INFO sqlalchemy.engine.Engine select relname from pg_class c join pg_namespace n on n.oid=c.relnamespace where pg_catalog.pg_table_is_visible(c.oid) and relname=%(name)s\n",
      "2023-02-01 08:25:59,545 INFO sqlalchemy.engine.Engine [cached since 5.801e+04s ago] {'name': \"\\n            select st_code, st_name, rev_period, declaration_date, rev\\n            from tej_revenue \\n            where new_industry_name = 'M9900 其他'; \\n            \"}\n",
      "2023-02-01 08:26:00,193 INFO sqlalchemy.engine.Engine \n",
      "            select st_code, st_name, rev_period, declaration_date, rev\n",
      "            from tej_revenue \n",
      "            where new_industry_name = 'M9900 其他'; \n",
      "            \n",
      "2023-02-01 08:26:00,194 INFO sqlalchemy.engine.Engine [raw sql] {}\n",
      "跳警示通知⚠️：查無該股票營收，請重新輸入，並reset\n",
      "----------->  5306\n",
      "2023-02-01 08:26:02,766 INFO sqlalchemy.engine.Engine select relname from pg_class c join pg_namespace n on n.oid=c.relnamespace where pg_catalog.pg_table_is_visible(c.oid) and relname=%(name)s\n",
      "2023-02-01 08:26:02,766 INFO sqlalchemy.engine.Engine [cached since 5.801e+04s ago] {'name': \"\\n            select st_code, st_name, rev_period, declaration_date, rev\\n            from tej_revenue \\n            where new_industry_name = 'M9900 其他'; \\n            \"}\n",
      "2023-02-01 08:26:03,394 INFO sqlalchemy.engine.Engine \n",
      "            select st_code, st_name, rev_period, declaration_date, rev\n",
      "            from tej_revenue \n",
      "            where new_industry_name = 'M9900 其他'; \n",
      "            \n",
      "2023-02-01 08:26:03,395 INFO sqlalchemy.engine.Engine [raw sql] {}\n",
      "----------->  5223\n",
      "2023-02-01 08:26:06,687 INFO sqlalchemy.engine.Engine select relname from pg_class c join pg_namespace n on n.oid=c.relnamespace where pg_catalog.pg_table_is_visible(c.oid) and relname=%(name)s\n",
      "2023-02-01 08:26:06,688 INFO sqlalchemy.engine.Engine [cached since 5.802e+04s ago] {'name': \"\\n            select st_code, st_name, rev_period, declaration_date, rev\\n            from tej_revenue \\n            where new_industry_name = 'M2325 電腦及週邊'; \\n            \"}\n",
      "2023-02-01 08:26:07,408 INFO sqlalchemy.engine.Engine \n",
      "            select st_code, st_name, rev_period, declaration_date, rev\n",
      "            from tej_revenue \n",
      "            where new_industry_name = 'M2325 電腦及週邊'; \n",
      "            \n",
      "2023-02-01 08:26:07,409 INFO sqlalchemy.engine.Engine [raw sql] {}\n",
      "跳警示通知⚠️：查無該股票營收，請重新輸入，並reset\n",
      "----------->  6205\n",
      "2023-02-01 08:26:10,083 INFO sqlalchemy.engine.Engine select relname from pg_class c join pg_namespace n on n.oid=c.relnamespace where pg_catalog.pg_table_is_visible(c.oid) and relname=%(name)s\n",
      "2023-02-01 08:26:10,083 INFO sqlalchemy.engine.Engine [cached since 5.802e+04s ago] {'name': \"\\n            select st_code, st_name, rev_period, declaration_date, rev\\n            from tej_revenue \\n            where new_industry_name = 'M2328 電子零組件'; \\n            \"}\n",
      "2023-02-01 08:26:10,880 INFO sqlalchemy.engine.Engine \n",
      "            select st_code, st_name, rev_period, declaration_date, rev\n",
      "            from tej_revenue \n",
      "            where new_industry_name = 'M2328 電子零組件'; \n",
      "            \n",
      "2023-02-01 08:26:10,882 INFO sqlalchemy.engine.Engine [raw sql] {}\n",
      "----------->  1593\n",
      "2023-02-01 08:26:15,876 INFO sqlalchemy.engine.Engine select relname from pg_class c join pg_namespace n on n.oid=c.relnamespace where pg_catalog.pg_table_is_visible(c.oid) and relname=%(name)s\n",
      "2023-02-01 08:26:15,877 INFO sqlalchemy.engine.Engine [cached since 5.803e+04s ago] {'name': \"\\n            select st_code, st_name, rev_period, declaration_date, rev\\n            from tej_revenue \\n            where new_industry_name = 'M1722 生技醫療'; \\n            \"}\n",
      "2023-02-01 08:26:16,513 INFO sqlalchemy.engine.Engine \n",
      "            select st_code, st_name, rev_period, declaration_date, rev\n",
      "            from tej_revenue \n",
      "            where new_industry_name = 'M1722 生技醫療'; \n",
      "            \n",
      "2023-02-01 08:26:16,515 INFO sqlalchemy.engine.Engine [raw sql] {}\n",
      "----------->  5536\n",
      "2023-02-01 08:26:20,403 INFO sqlalchemy.engine.Engine select relname from pg_class c join pg_namespace n on n.oid=c.relnamespace where pg_catalog.pg_table_is_visible(c.oid) and relname=%(name)s\n",
      "2023-02-01 08:26:20,404 INFO sqlalchemy.engine.Engine [cached since 5.803e+04s ago] {'name': \"\\n            select st_code, st_name, rev_period, declaration_date, rev\\n            from tej_revenue \\n            where new_industry_name = 'M2331 其他電子業'; \\n            \"}\n",
      "2023-02-01 08:26:21,067 INFO sqlalchemy.engine.Engine \n",
      "            select st_code, st_name, rev_period, declaration_date, rev\n",
      "            from tej_revenue \n",
      "            where new_industry_name = 'M2331 其他電子業'; \n",
      "            \n",
      "2023-02-01 08:26:21,069 INFO sqlalchemy.engine.Engine [raw sql] {}\n",
      "跳警示通知⚠️：查無該股票營收，請重新輸入，並reset\n",
      "----------->  2243\n",
      "2023-02-01 08:26:23,485 INFO sqlalchemy.engine.Engine select relname from pg_class c join pg_namespace n on n.oid=c.relnamespace where pg_catalog.pg_table_is_visible(c.oid) and relname=%(name)s\n",
      "2023-02-01 08:26:23,486 INFO sqlalchemy.engine.Engine [cached since 5.804e+04s ago] {'name': \"\\n            select st_code, st_name, rev_period, declaration_date, rev\\n            from tej_revenue \\n            where new_industry_name = 'M2200 汽車工業'; \\n            \"}\n",
      "2023-02-01 08:26:24,398 INFO sqlalchemy.engine.Engine \n",
      "            select st_code, st_name, rev_period, declaration_date, rev\n",
      "            from tej_revenue \n",
      "            where new_industry_name = 'M2200 汽車工業'; \n",
      "            \n",
      "2023-02-01 08:26:24,399 INFO sqlalchemy.engine.Engine [raw sql] {}\n",
      "----------->  4807\n",
      "2023-02-01 08:26:25,985 INFO sqlalchemy.engine.Engine select relname from pg_class c join pg_namespace n on n.oid=c.relnamespace where pg_catalog.pg_table_is_visible(c.oid) and relname=%(name)s\n",
      "2023-02-01 08:26:25,986 INFO sqlalchemy.engine.Engine [cached since 5.804e+04s ago] {'name': \"\\n            select st_code, st_name, rev_period, declaration_date, rev\\n            from tej_revenue \\n            where new_industry_name = 'M2900 貿易百貨'; \\n            \"}\n",
      "2023-02-01 08:26:26,752 INFO sqlalchemy.engine.Engine \n",
      "            select st_code, st_name, rev_period, declaration_date, rev\n",
      "            from tej_revenue \n",
      "            where new_industry_name = 'M2900 貿易百貨'; \n",
      "            \n",
      "2023-02-01 08:26:26,754 INFO sqlalchemy.engine.Engine [raw sql] {}\n",
      "----------->  6465\n",
      "2023-02-01 08:26:28,111 INFO sqlalchemy.engine.Engine select relname from pg_class c join pg_namespace n on n.oid=c.relnamespace where pg_catalog.pg_table_is_visible(c.oid) and relname=%(name)s\n",
      "2023-02-01 08:26:28,112 INFO sqlalchemy.engine.Engine [cached since 5.804e+04s ago] {'name': \"\\n            select st_code, st_name, rev_period, declaration_date, rev\\n            from tej_revenue \\n            where new_industry_name = 'M2327 通信網路業'; \\n            \"}\n",
      "2023-02-01 08:26:28,903 INFO sqlalchemy.engine.Engine \n",
      "            select st_code, st_name, rev_period, declaration_date, rev\n",
      "            from tej_revenue \n",
      "            where new_industry_name = 'M2327 通信網路業'; \n",
      "            \n",
      "2023-02-01 08:26:28,904 INFO sqlalchemy.engine.Engine [raw sql] {}\n",
      "----------->  1626\n",
      "2023-02-01 08:26:31,426 INFO sqlalchemy.engine.Engine select relname from pg_class c join pg_namespace n on n.oid=c.relnamespace where pg_catalog.pg_table_is_visible(c.oid) and relname=%(name)s\n",
      "2023-02-01 08:26:31,426 INFO sqlalchemy.engine.Engine [cached since 5.804e+04s ago] {'name': \"\\n            select st_code, st_name, rev_period, declaration_date, rev\\n            from tej_revenue \\n            where new_industry_name = 'M1600 電器電纜'; \\n            \"}\n",
      "2023-02-01 08:26:32,079 INFO sqlalchemy.engine.Engine \n",
      "            select st_code, st_name, rev_period, declaration_date, rev\n",
      "            from tej_revenue \n",
      "            where new_industry_name = 'M1600 電器電纜'; \n",
      "            \n",
      "2023-02-01 08:26:32,080 INFO sqlalchemy.engine.Engine [raw sql] {}\n",
      "----------->  3689\n",
      "2023-02-01 08:26:33,284 INFO sqlalchemy.engine.Engine select relname from pg_class c join pg_namespace n on n.oid=c.relnamespace where pg_catalog.pg_table_is_visible(c.oid) and relname=%(name)s\n",
      "2023-02-01 08:26:33,285 INFO sqlalchemy.engine.Engine [cached since 5.805e+04s ago] {'name': \"\\n            select st_code, st_name, rev_period, declaration_date, rev\\n            from tej_revenue \\n            where new_industry_name = 'M2328 電子零組件'; \\n            \"}\n",
      "2023-02-01 08:26:34,125 INFO sqlalchemy.engine.Engine \n",
      "            select st_code, st_name, rev_period, declaration_date, rev\n",
      "            from tej_revenue \n",
      "            where new_industry_name = 'M2328 電子零組件'; \n",
      "            \n",
      "2023-02-01 08:26:34,127 INFO sqlalchemy.engine.Engine [raw sql] {}\n",
      "----------->  3489\n",
      "2023-02-01 08:26:39,010 INFO sqlalchemy.engine.Engine select relname from pg_class c join pg_namespace n on n.oid=c.relnamespace where pg_catalog.pg_table_is_visible(c.oid) and relname=%(name)s\n",
      "2023-02-01 08:26:39,011 INFO sqlalchemy.engine.Engine [cached since 5.805e+04s ago] {'name': \"\\n            select st_code, st_name, rev_period, declaration_date, rev\\n            from tej_revenue \\n            where new_industry_name = 'M2500 建材營造'; \\n            \"}\n",
      "2023-02-01 08:26:39,757 INFO sqlalchemy.engine.Engine \n",
      "            select st_code, st_name, rev_period, declaration_date, rev\n",
      "            from tej_revenue \n",
      "            where new_industry_name = 'M2500 建材營造'; \n",
      "            \n",
      "2023-02-01 08:26:39,759 INFO sqlalchemy.engine.Engine [raw sql] {}\n",
      "----------->  3023\n",
      "2023-02-01 08:26:43,133 INFO sqlalchemy.engine.Engine select relname from pg_class c join pg_namespace n on n.oid=c.relnamespace where pg_catalog.pg_table_is_visible(c.oid) and relname=%(name)s\n",
      "2023-02-01 08:26:43,133 INFO sqlalchemy.engine.Engine [cached since 5.806e+04s ago] {'name': \"\\n            select st_code, st_name, rev_period, declaration_date, rev\\n            from tej_revenue \\n            where new_industry_name = 'M2328 電子零組件'; \\n            \"}\n",
      "2023-02-01 08:26:43,856 INFO sqlalchemy.engine.Engine \n",
      "            select st_code, st_name, rev_period, declaration_date, rev\n",
      "            from tej_revenue \n",
      "            where new_industry_name = 'M2328 電子零組件'; \n",
      "            \n",
      "2023-02-01 08:26:43,857 INFO sqlalchemy.engine.Engine [raw sql] {}\n",
      "----------->  6196\n",
      "2023-02-01 08:26:48,497 INFO sqlalchemy.engine.Engine select relname from pg_class c join pg_namespace n on n.oid=c.relnamespace where pg_catalog.pg_table_is_visible(c.oid) and relname=%(name)s\n",
      "2023-02-01 08:26:48,497 INFO sqlalchemy.engine.Engine [cached since 5.806e+04s ago] {'name': \"\\n            select st_code, st_name, rev_period, declaration_date, rev\\n            from tej_revenue \\n            where new_industry_name = 'M2331 其他電子業'; \\n            \"}\n",
      "2023-02-01 08:26:49,280 INFO sqlalchemy.engine.Engine \n",
      "            select st_code, st_name, rev_period, declaration_date, rev\n",
      "            from tej_revenue \n",
      "            where new_industry_name = 'M2331 其他電子業'; \n",
      "            \n",
      "2023-02-01 08:26:49,281 INFO sqlalchemy.engine.Engine [raw sql] {}\n",
      "----------->  5546\n",
      "2023-02-01 08:26:52,445 INFO sqlalchemy.engine.Engine select relname from pg_class c join pg_namespace n on n.oid=c.relnamespace where pg_catalog.pg_table_is_visible(c.oid) and relname=%(name)s\n",
      "2023-02-01 08:26:52,446 INFO sqlalchemy.engine.Engine [cached since 5.806e+04s ago] {'name': \"\\n            select st_code, st_name, rev_period, declaration_date, rev\\n            from tej_revenue \\n            where new_industry_name = 'M2500 建材營造'; \\n            \"}\n",
      "2023-02-01 08:26:53,111 INFO sqlalchemy.engine.Engine \n",
      "            select st_code, st_name, rev_period, declaration_date, rev\n",
      "            from tej_revenue \n",
      "            where new_industry_name = 'M2500 建材營造'; \n",
      "            \n",
      "2023-02-01 08:26:53,112 INFO sqlalchemy.engine.Engine [raw sql] {}\n",
      "跳警示通知⚠️：查無該股票營收，請重新輸入，並reset\n",
      "----------->  2888\n",
      "2023-02-01 08:26:55,652 INFO sqlalchemy.engine.Engine select relname from pg_class c join pg_namespace n on n.oid=c.relnamespace where pg_catalog.pg_table_is_visible(c.oid) and relname=%(name)s\n",
      "2023-02-01 08:26:55,652 INFO sqlalchemy.engine.Engine [cached since 5.807e+04s ago] {'name': \"\\n            select st_code, st_name, rev_period, declaration_date, rev\\n            from tej_revenue \\n            where new_industry_name = 'M2800 金融業'; \\n            \"}\n",
      "2023-02-01 08:26:56,551 INFO sqlalchemy.engine.Engine \n",
      "            select st_code, st_name, rev_period, declaration_date, rev\n",
      "            from tej_revenue \n",
      "            where new_industry_name = 'M2800 金融業'; \n",
      "            \n",
      "2023-02-01 08:26:56,552 INFO sqlalchemy.engine.Engine [raw sql] {}\n",
      "----------->  4556\n",
      "2023-02-01 08:26:58,272 INFO sqlalchemy.engine.Engine select relname from pg_class c join pg_namespace n on n.oid=c.relnamespace where pg_catalog.pg_table_is_visible(c.oid) and relname=%(name)s\n",
      "2023-02-01 08:26:58,273 INFO sqlalchemy.engine.Engine [cached since 5.807e+04s ago] {'name': \"\\n            select st_code, st_name, rev_period, declaration_date, rev\\n            from tej_revenue \\n            where new_industry_name = 'M9900 其他'; \\n            \"}\n",
      "2023-02-01 08:26:59,111 INFO sqlalchemy.engine.Engine \n",
      "            select st_code, st_name, rev_period, declaration_date, rev\n",
      "            from tej_revenue \n",
      "            where new_industry_name = 'M9900 其他'; \n",
      "            \n",
      "2023-02-01 08:26:59,112 INFO sqlalchemy.engine.Engine [raw sql] {}\n",
      "----------->  4556\n",
      "2023-02-01 08:27:02,160 INFO sqlalchemy.engine.Engine select relname from pg_class c join pg_namespace n on n.oid=c.relnamespace where pg_catalog.pg_table_is_visible(c.oid) and relname=%(name)s\n",
      "2023-02-01 08:27:02,161 INFO sqlalchemy.engine.Engine [cached since 5.807e+04s ago] {'name': \"\\n            select st_code, st_name, rev_period, declaration_date, rev\\n            from tej_revenue \\n            where new_industry_name = 'M9900 其他'; \\n            \"}\n",
      "2023-02-01 08:27:02,899 INFO sqlalchemy.engine.Engine \n",
      "            select st_code, st_name, rev_period, declaration_date, rev\n",
      "            from tej_revenue \n",
      "            where new_industry_name = 'M9900 其他'; \n",
      "            \n",
      "2023-02-01 08:27:02,900 INFO sqlalchemy.engine.Engine [raw sql] {}\n",
      "----------->  2748\n",
      "2023-02-01 08:27:06,562 INFO sqlalchemy.engine.Engine select relname from pg_class c join pg_namespace n on n.oid=c.relnamespace where pg_catalog.pg_table_is_visible(c.oid) and relname=%(name)s\n",
      "2023-02-01 08:27:06,562 INFO sqlalchemy.engine.Engine [cached since 5.808e+04s ago] {'name': \"\\n            select st_code, st_name, rev_period, declaration_date, rev\\n            from tej_revenue \\n            where new_industry_name = 'M2700 觀光事業'; \\n            \"}\n",
      "2023-02-01 08:27:07,302 INFO sqlalchemy.engine.Engine \n",
      "            select st_code, st_name, rev_period, declaration_date, rev\n",
      "            from tej_revenue \n",
      "            where new_industry_name = 'M2700 觀光事業'; \n",
      "            \n",
      "2023-02-01 08:27:07,302 INFO sqlalchemy.engine.Engine [raw sql] {}\n",
      "----------->  3521\n",
      "2023-02-01 08:27:09,176 INFO sqlalchemy.engine.Engine select relname from pg_class c join pg_namespace n on n.oid=c.relnamespace where pg_catalog.pg_table_is_visible(c.oid) and relname=%(name)s\n",
      "2023-02-01 08:27:09,177 INFO sqlalchemy.engine.Engine [cached since 5.808e+04s ago] {'name': \"\\n            select st_code, st_name, rev_period, declaration_date, rev\\n            from tej_revenue \\n            where new_industry_name = 'M2325 電腦及週邊'; \\n            \"}\n",
      "2023-02-01 08:27:10,068 INFO sqlalchemy.engine.Engine \n",
      "            select st_code, st_name, rev_period, declaration_date, rev\n",
      "            from tej_revenue \n",
      "            where new_industry_name = 'M2325 電腦及週邊'; \n",
      "            \n",
      "2023-02-01 08:27:10,069 INFO sqlalchemy.engine.Engine [raw sql] {}\n",
      "----------->  6655\n",
      "2023-02-01 08:27:12,639 INFO sqlalchemy.engine.Engine select relname from pg_class c join pg_namespace n on n.oid=c.relnamespace where pg_catalog.pg_table_is_visible(c.oid) and relname=%(name)s\n",
      "2023-02-01 08:27:12,640 INFO sqlalchemy.engine.Engine [cached since 5.808e+04s ago] {'name': \"\\n            select st_code, st_name, rev_period, declaration_date, rev\\n            from tej_revenue \\n            where new_industry_name = 'M9900 其他'; \\n            \"}\n",
      "2023-02-01 08:27:13,549 INFO sqlalchemy.engine.Engine \n",
      "            select st_code, st_name, rev_period, declaration_date, rev\n",
      "            from tej_revenue \n",
      "            where new_industry_name = 'M9900 其他'; \n",
      "            \n",
      "2023-02-01 08:27:13,550 INFO sqlalchemy.engine.Engine [raw sql] {}\n",
      "----------->  8462\n",
      "2023-02-01 08:27:17,134 INFO sqlalchemy.engine.Engine select relname from pg_class c join pg_namespace n on n.oid=c.relnamespace where pg_catalog.pg_table_is_visible(c.oid) and relname=%(name)s\n",
      "2023-02-01 08:27:17,134 INFO sqlalchemy.engine.Engine [cached since 5.809e+04s ago] {'name': \"\\n            select st_code, st_name, rev_period, declaration_date, rev\\n            from tej_revenue \\n            where new_industry_name = 'M2700 觀光事業'; \\n            \"}\n",
      "2023-02-01 08:27:17,952 INFO sqlalchemy.engine.Engine \n",
      "            select st_code, st_name, rev_period, declaration_date, rev\n",
      "            from tej_revenue \n",
      "            where new_industry_name = 'M2700 觀光事業'; \n",
      "            \n",
      "2023-02-01 08:27:17,954 INFO sqlalchemy.engine.Engine [raw sql] {}\n",
      "----------->  3346\n",
      "2023-02-01 08:27:19,948 INFO sqlalchemy.engine.Engine select relname from pg_class c join pg_namespace n on n.oid=c.relnamespace where pg_catalog.pg_table_is_visible(c.oid) and relname=%(name)s\n",
      "2023-02-01 08:27:19,949 INFO sqlalchemy.engine.Engine [cached since 5.809e+04s ago] {'name': \"\\n            select st_code, st_name, rev_period, declaration_date, rev\\n            from tej_revenue \\n            where new_industry_name = 'M2200 汽車工業'; \\n            \"}\n",
      "2023-02-01 08:27:20,819 INFO sqlalchemy.engine.Engine \n",
      "            select st_code, st_name, rev_period, declaration_date, rev\n",
      "            from tej_revenue \n",
      "            where new_industry_name = 'M2200 汽車工業'; \n",
      "            \n",
      "2023-02-01 08:27:20,821 INFO sqlalchemy.engine.Engine [raw sql] {}\n",
      "----------->  4433\n",
      "2023-02-01 08:27:22,427 INFO sqlalchemy.engine.Engine select relname from pg_class c join pg_namespace n on n.oid=c.relnamespace where pg_catalog.pg_table_is_visible(c.oid) and relname=%(name)s\n",
      "2023-02-01 08:27:22,427 INFO sqlalchemy.engine.Engine [cached since 5.809e+04s ago] {'name': \"\\n            select st_code, st_name, rev_period, declaration_date, rev\\n            from tej_revenue \\n            where new_industry_name = 'M1400 紡織纖維'; \\n            \"}\n",
      "2023-02-01 08:27:23,174 INFO sqlalchemy.engine.Engine \n",
      "            select st_code, st_name, rev_period, declaration_date, rev\n",
      "            from tej_revenue \n",
      "            where new_industry_name = 'M1400 紡織纖維'; \n",
      "            \n",
      "2023-02-01 08:27:23,175 INFO sqlalchemy.engine.Engine [raw sql] {}\n",
      "----------->  6224\n",
      "2023-02-01 08:27:24,965 INFO sqlalchemy.engine.Engine select relname from pg_class c join pg_namespace n on n.oid=c.relnamespace where pg_catalog.pg_table_is_visible(c.oid) and relname=%(name)s\n",
      "2023-02-01 08:27:24,966 INFO sqlalchemy.engine.Engine [cached since 5.81e+04s ago] {'name': \"\\n            select st_code, st_name, rev_period, declaration_date, rev\\n            from tej_revenue \\n            where new_industry_name = 'M2328 電子零組件'; \\n            \"}\n",
      "2023-02-01 08:27:25,837 INFO sqlalchemy.engine.Engine \n",
      "            select st_code, st_name, rev_period, declaration_date, rev\n",
      "            from tej_revenue \n",
      "            where new_industry_name = 'M2328 電子零組件'; \n",
      "            \n",
      "2023-02-01 08:27:25,838 INFO sqlalchemy.engine.Engine [raw sql] {}\n",
      "----------->  3591\n",
      "2023-02-01 08:27:29,885 INFO sqlalchemy.engine.Engine select relname from pg_class c join pg_namespace n on n.oid=c.relnamespace where pg_catalog.pg_table_is_visible(c.oid) and relname=%(name)s\n",
      "2023-02-01 08:27:29,886 INFO sqlalchemy.engine.Engine [cached since 5.81e+04s ago] {'name': \"\\n            select st_code, st_name, rev_period, declaration_date, rev\\n            from tej_revenue \\n            where new_industry_name = 'M2326 光電業'; \\n            \"}\n",
      "2023-02-01 08:27:30,516 INFO sqlalchemy.engine.Engine \n",
      "            select st_code, st_name, rev_period, declaration_date, rev\n",
      "            from tej_revenue \n",
      "            where new_industry_name = 'M2326 光電業'; \n",
      "            \n",
      "2023-02-01 08:27:30,518 INFO sqlalchemy.engine.Engine [raw sql] {}\n",
      "----------->  1316\n",
      "2023-02-01 08:27:33,688 INFO sqlalchemy.engine.Engine select relname from pg_class c join pg_namespace n on n.oid=c.relnamespace where pg_catalog.pg_table_is_visible(c.oid) and relname=%(name)s\n",
      "2023-02-01 08:27:33,689 INFO sqlalchemy.engine.Engine [cached since 5.811e+04s ago] {'name': \"\\n            select st_code, st_name, rev_period, declaration_date, rev\\n            from tej_revenue \\n            where new_industry_name = 'M2500 建材營造'; \\n            \"}\n",
      "2023-02-01 08:27:34,438 INFO sqlalchemy.engine.Engine \n",
      "            select st_code, st_name, rev_period, declaration_date, rev\n",
      "            from tej_revenue \n",
      "            where new_industry_name = 'M2500 建材營造'; \n",
      "            \n",
      "2023-02-01 08:27:34,440 INFO sqlalchemy.engine.Engine [raw sql] {}\n",
      "----------->  6706\n",
      "2023-02-01 08:27:36,654 INFO sqlalchemy.engine.Engine select relname from pg_class c join pg_namespace n on n.oid=c.relnamespace where pg_catalog.pg_table_is_visible(c.oid) and relname=%(name)s\n",
      "2023-02-01 08:27:36,655 INFO sqlalchemy.engine.Engine [cached since 5.811e+04s ago] {'name': \"\\n            select st_code, st_name, rev_period, declaration_date, rev\\n            from tej_revenue \\n            where new_industry_name = 'M2326 光電業'; \\n            \"}\n",
      "2023-02-01 08:27:37,286 INFO sqlalchemy.engine.Engine \n",
      "            select st_code, st_name, rev_period, declaration_date, rev\n",
      "            from tej_revenue \n",
      "            where new_industry_name = 'M2326 光電業'; \n",
      "            \n",
      "2023-02-01 08:27:37,288 INFO sqlalchemy.engine.Engine [raw sql] {}\n",
      "跳警示通知⚠️：查無該股票營收，請重新輸入，並reset\n",
      "----------->  3484\n",
      "2023-02-01 08:27:40,183 INFO sqlalchemy.engine.Engine select relname from pg_class c join pg_namespace n on n.oid=c.relnamespace where pg_catalog.pg_table_is_visible(c.oid) and relname=%(name)s\n",
      "2023-02-01 08:27:40,184 INFO sqlalchemy.engine.Engine [cached since 5.811e+04s ago] {'name': \"\\n            select st_code, st_name, rev_period, declaration_date, rev\\n            from tej_revenue \\n            where new_industry_name = 'M2328 電子零組件'; \\n            \"}\n",
      "2023-02-01 08:27:41,093 INFO sqlalchemy.engine.Engine \n",
      "            select st_code, st_name, rev_period, declaration_date, rev\n",
      "            from tej_revenue \n",
      "            where new_industry_name = 'M2328 電子零組件'; \n",
      "            \n",
      "2023-02-01 08:27:41,095 INFO sqlalchemy.engine.Engine [raw sql] {}\n",
      "----------->  6414\n",
      "2023-02-01 08:27:46,417 INFO sqlalchemy.engine.Engine select relname from pg_class c join pg_namespace n on n.oid=c.relnamespace where pg_catalog.pg_table_is_visible(c.oid) and relname=%(name)s\n",
      "2023-02-01 08:27:46,418 INFO sqlalchemy.engine.Engine [cached since 5.812e+04s ago] {'name': \"\\n            select st_code, st_name, rev_period, declaration_date, rev\\n            from tej_revenue \\n            where new_industry_name = 'M2325 電腦及週邊'; \\n            \"}\n",
      "2023-02-01 08:27:47,040 INFO sqlalchemy.engine.Engine \n",
      "            select st_code, st_name, rev_period, declaration_date, rev\n",
      "            from tej_revenue \n",
      "            where new_industry_name = 'M2325 電腦及週邊'; \n",
      "            \n",
      "2023-02-01 08:27:47,041 INFO sqlalchemy.engine.Engine [raw sql] {}\n",
      "----------->  5457\n",
      "2023-02-01 08:27:50,648 INFO sqlalchemy.engine.Engine select relname from pg_class c join pg_namespace n on n.oid=c.relnamespace where pg_catalog.pg_table_is_visible(c.oid) and relname=%(name)s\n",
      "2023-02-01 08:27:50,648 INFO sqlalchemy.engine.Engine [cached since 5.812e+04s ago] {'name': \"\\n            select st_code, st_name, rev_period, declaration_date, rev\\n            from tej_revenue \\n            where new_industry_name = 'M2328 電子零組件'; \\n            \"}\n",
      "2023-02-01 08:27:51,538 INFO sqlalchemy.engine.Engine \n",
      "            select st_code, st_name, rev_period, declaration_date, rev\n",
      "            from tej_revenue \n",
      "            where new_industry_name = 'M2328 電子零組件'; \n",
      "            \n",
      "2023-02-01 08:27:51,540 INFO sqlalchemy.engine.Engine [raw sql] {}\n",
      "----------->  3631\n",
      "2023-02-01 08:27:55,789 INFO sqlalchemy.engine.Engine select relname from pg_class c join pg_namespace n on n.oid=c.relnamespace where pg_catalog.pg_table_is_visible(c.oid) and relname=%(name)s\n",
      "2023-02-01 08:27:55,790 INFO sqlalchemy.engine.Engine [cached since 5.813e+04s ago] {'name': \"\\n            select st_code, st_name, rev_period, declaration_date, rev\\n            from tej_revenue \\n            where new_industry_name = 'M2328 電子零組件'; \\n            \"}\n",
      "2023-02-01 08:27:56,657 INFO sqlalchemy.engine.Engine \n",
      "            select st_code, st_name, rev_period, declaration_date, rev\n",
      "            from tej_revenue \n",
      "            where new_industry_name = 'M2328 電子零組件'; \n",
      "            \n",
      "2023-02-01 08:27:56,658 INFO sqlalchemy.engine.Engine [raw sql] {}\n",
      "----------->  3416\n",
      "2023-02-01 08:28:01,787 INFO sqlalchemy.engine.Engine select relname from pg_class c join pg_namespace n on n.oid=c.relnamespace where pg_catalog.pg_table_is_visible(c.oid) and relname=%(name)s\n",
      "2023-02-01 08:28:01,787 INFO sqlalchemy.engine.Engine [cached since 5.813e+04s ago] {'name': \"\\n            select st_code, st_name, rev_period, declaration_date, rev\\n            from tej_revenue \\n            where new_industry_name = 'M2325 電腦及週邊'; \\n            \"}\n",
      "2023-02-01 08:28:02,697 INFO sqlalchemy.engine.Engine \n",
      "            select st_code, st_name, rev_period, declaration_date, rev\n",
      "            from tej_revenue \n",
      "            where new_industry_name = 'M2325 電腦及週邊'; \n",
      "            \n",
      "2023-02-01 08:28:02,699 INFO sqlalchemy.engine.Engine [raw sql] {}\n",
      "----------->  8171\n",
      "2023-02-01 08:28:06,302 INFO sqlalchemy.engine.Engine select relname from pg_class c join pg_namespace n on n.oid=c.relnamespace where pg_catalog.pg_table_is_visible(c.oid) and relname=%(name)s\n",
      "2023-02-01 08:28:06,303 INFO sqlalchemy.engine.Engine [cached since 5.814e+04s ago] {'name': \"\\n            select st_code, st_name, rev_period, declaration_date, rev\\n            from tej_revenue \\n            where new_industry_name = 'M2327 通信網路業'; \\n            \"}\n",
      "2023-02-01 08:28:06,998 INFO sqlalchemy.engine.Engine \n",
      "            select st_code, st_name, rev_period, declaration_date, rev\n",
      "            from tej_revenue \n",
      "            where new_industry_name = 'M2327 通信網路業'; \n",
      "            \n",
      "2023-02-01 08:28:06,999 INFO sqlalchemy.engine.Engine [raw sql] {}\n",
      "----------->  3149\n",
      "2023-02-01 08:28:09,439 INFO sqlalchemy.engine.Engine select relname from pg_class c join pg_namespace n on n.oid=c.relnamespace where pg_catalog.pg_table_is_visible(c.oid) and relname=%(name)s\n",
      "2023-02-01 08:28:09,440 INFO sqlalchemy.engine.Engine [cached since 5.814e+04s ago] {'name': \"\\n            select st_code, st_name, rev_period, declaration_date, rev\\n            from tej_revenue \\n            where new_industry_name = 'M2326 光電業'; \\n            \"}\n",
      "2023-02-01 08:28:10,275 INFO sqlalchemy.engine.Engine \n",
      "            select st_code, st_name, rev_period, declaration_date, rev\n",
      "            from tej_revenue \n",
      "            where new_industry_name = 'M2326 光電業'; \n",
      "            \n",
      "2023-02-01 08:28:10,276 INFO sqlalchemy.engine.Engine [raw sql] {}\n"
     ]
    }
   ],
   "source": [
    "johnny = pd.DataFrame()\n",
    "need = ['st_code', 'st_name', 'Year', 'month', 'rev', 'yoy', 'mom']\n",
    "\n",
    "for i in df.st_code:\n",
    "    print('-----------> ', i)\n",
    "    data = look_up(i)\n",
    "    if data != None:\n",
    "        table = pd.concat([data[0][data[0].Year >= '2022'].loc[:, need], \n",
    "                           data[1].loc[:, need].tail(12)], axis=0).reset_index(drop=True, inplace=False)\n",
    "        johnny = pd.concat([johnny, table], axis=0)"
   ]
  },
  {
   "cell_type": "code",
   "execution_count": 350,
   "id": "675bec58",
   "metadata": {},
   "outputs": [],
   "source": [
    "johnny.reset_index(drop=True).to_csv('營收預估值.csv', header=True, encoding='utf_8_sig')\n",
    "# df[df.st_code == '6761']"
   ]
  },
  {
   "cell_type": "code",
   "execution_count": 345,
   "id": "423a563f",
   "metadata": {},
   "outputs": [
    {
     "name": "stdout",
     "output_type": "stream",
     "text": [
      "6629\n"
     ]
    }
   ],
   "source": [
    "i = '6629'\n",
    "def look_up(st_input):\n",
    "    if st_input is None or st_input == '':\n",
    "        try:\n",
    "            if dropdown1 is not None and dropdown2 is None or dropdown2 == '':\n",
    "                mask = (\"new_industry_name = '\" + dropdown1 + \"'\")\n",
    "\n",
    "            elif dropdown1 is None and dropdown2 is not None or dropdown1 == '':\n",
    "                mask = (\"minor_industry_name = '\" + dropdown2 + \"'\")\n",
    "\n",
    "            elif dropdown1 is not None and dropdown2 is not None:\n",
    "                mask = (\"new_industry_name = '\" + dropdown1 + \"' and \" + \"minor_industry_name = '\" + dropdown2 + \"'\")\n",
    "\n",
    "            # 從 db 撈資料\n",
    "            st_search = \"\"\"\n",
    "            select st_code, st_name, rev_period, declaration_date, rev\n",
    "            from tej_revenue \n",
    "            where {};\n",
    "            \"\"\".format(mask)\n",
    "\n",
    "            data = pd.read_sql(st_search, engine)\n",
    "            data = data.groupby(by='st_code', as_index=False).apply(get_st_mom_yoy).reset_index(drop=True, inplace=False)\n",
    "\n",
    "            # 產業最新營收公布情形\n",
    "            latest = get_latest(data)\n",
    "\n",
    "            # 產業總營收狀況\n",
    "            data = data.groupby(by='rev_period', as_index=False).agg({'rev':'sum'})\n",
    "            data = get_st_mom_yoy(data)\n",
    "\n",
    "            # 預測資料\n",
    "            data_predict = predict(data)\n",
    "\n",
    "            # 繪圖\n",
    "            title = dropdown1 + ' '\n",
    "            REV = get_revpic(data, data_predict, (title + ' 各年度月營收'))\n",
    "            MOM = get_mompic(data, data_predict, (title + ' 各年度月營收'))\n",
    "            YOY = get_yoypic(data, data_predict, (title + ' 各年度月營收'))\n",
    "\n",
    "            # 整理營收資訊表\n",
    "            table = data.pivot_table(values='rev', index='Year', columns='month').reset_index()\n",
    "            data_predict.Year = data_predict.Year + str(' 預估值')\n",
    "            table = pd.concat([table, data_predict.tail(12).pivot_table(index='Year', columns='month', values='rev').reset_index()],axis=0)\n",
    "\n",
    "        except KeyError:\n",
    "            print('跳警示通知⚠️：該分類沒有相關個股，請重新選擇，並reset')\n",
    "\n",
    "\n",
    "    else:\n",
    "        try:\n",
    "            if (st_input.isdigit() == True):\n",
    "                industry = stock_info[stock_info.st_code == st_input].new_industry_name.values[0]\n",
    "                mask = (\"new_industry_name = '\" + industry + \"'\")\n",
    "                st_mask = 'st_code'\n",
    "\n",
    "            else:\n",
    "                industry = stock_info[stock_info.st_name == st_input].new_industry_name.values[0]\n",
    "                mask = (\"new_industry_name = '\" + industry + \"'\")\n",
    "                st_mask = 'st_name'\n",
    "\n",
    "            # 從 db 撈資料\n",
    "            st_search = \"\"\"\n",
    "            select st_code, st_name, rev_period, declaration_date, rev\n",
    "            from tej_revenue \n",
    "            where {}; \n",
    "            \"\"\".format(mask)\n",
    "            data = pd.read_sql(st_search, engine)\n",
    "            data = data.groupby(by='st_code', as_index=False).apply(get_st_mom_yoy).reset_index(drop=True, inplace=False)\n",
    "\n",
    "            # 產業最新營收公布情形\n",
    "            latest = get_latest(data)\n",
    "\n",
    "            # 轉換成個股總營收\n",
    "            data = data[data[st_mask] == st_input]\n",
    "            data = get_st_mom_yoy(data)\n",
    "\n",
    "            # 預測資料\n",
    "            data_predict = predict(data)\n",
    "\n",
    "            # 繪圖\n",
    "            title = data.st_code[0] + ' ' + data.st_name[0]\n",
    "            REV = get_revpic(data, data_predict, (title + ' 各年度月營收'))\n",
    "            MOM = get_mompic(data, data_predict, (title + ' 各年度月營收'))\n",
    "            YOY = get_yoypic(data, data_predict, (title + ' 各年度月營收'))   \n",
    "\n",
    "            # 整理營收資訊表\n",
    "            table = data.pivot_table(values='rev', index='Year', columns='month').reset_index()\n",
    "            data_predict.Year = data_predict.Year + str(' 預估值')\n",
    "            table = pd.concat([table, data_predict.tail(12).pivot_table(index='Year', columns='month', values='rev').reset_index()],axis=0)\n",
    "\n",
    "            return (data, data_predict)\n",
    "        except Exception:\n",
    "            print('跳警示通知⚠️：查無該股票營收，請重新輸入，並reset')\n",
    "            pass\n",
    "#             \n",
    "\n",
    "print(i)\n"
   ]
  },
  {
   "cell_type": "code",
   "execution_count": null,
   "id": "876079f6",
   "metadata": {},
   "outputs": [],
   "source": []
  }
 ],
 "metadata": {
  "kernelspec": {
   "display_name": "Python 3 (ipykernel)",
   "language": "python",
   "name": "python3"
  },
  "language_info": {
   "codemirror_mode": {
    "name": "ipython",
    "version": 3
   },
   "file_extension": ".py",
   "mimetype": "text/x-python",
   "name": "python",
   "nbconvert_exporter": "python",
   "pygments_lexer": "ipython3",
   "version": "3.9.12"
  },
  "vscode": {
   "interpreter": {
    "hash": "fae76a53c89e02d9d66740d1fe92d8161e170862926fb0375f474a8df1983dfd"
   }
  }
 },
 "nbformat": 4,
 "nbformat_minor": 5
}
