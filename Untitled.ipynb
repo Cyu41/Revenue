{
 "cells": [
  {
   "cell_type": "code",
   "execution_count": 572,
   "id": "8b9709be",
   "metadata": {},
   "outputs": [],
   "source": [
    "import pandas as pd\n",
    "import plotly.express as px\n",
    "import plotly.graph_objects as go\n",
    "import plotly.figure_factory as ff  # 圖形工廠\n",
    "from plotly.subplots import make_subplots  # 繪製子圖\n",
    "import numpy as np\n",
    "from Upload_git import upload\n",
    "from os import system\n",
    "import time\n",
    "from time import ctime, sleep\n",
    "from Upload_git import upload\n",
    "import schedule\n",
    "import psycopg2\n",
    "import psycopg2.extras as extras\n",
    "from sqlalchemy import create_engine\n",
    "from sklearn.linear_model import LinearRegression\n",
    "from statsmodels.regression.rolling import RollingOLS, RollingWLS"
   ]
  },
  {
   "cell_type": "markdown",
   "id": "2e49baae",
   "metadata": {},
   "source": [
    "### 先做：中華電信 (2412)、台積電 (2330)、中鋼 (2002)，變化少的。\n",
    "1. 營業費用接近營收的固定比率"
   ]
  },
  {
   "cell_type": "code",
   "execution_count": 620,
   "id": "fd74d282",
   "metadata": {
    "scrolled": false
   },
   "outputs": [],
   "source": [
    "st_input = '2330'\n",
    "data = df[df['代號'] == st_input].loc[:, ['代號', '名稱', '年/月', '加權平均股數', '營業收入淨額', '營業成本', '營業毛利', \n",
    "                                        '營業費用','其他收益及費損淨額', '營業外收入及支出', '稅前淨利', '所得稅費用', \n",
    "                                        '歸屬非控制權益淨利（損）', '完整公式', '每股盈餘']]\n",
    "\n",
    "mod = RollingOLS.from_formula(\"營業毛利 ~ 營業收入淨額\", data=data, window=3)\n",
    "rres = mod.fit()\n",
    "result = pd.concat([data, round(rres.params.rename({'Intercept':'fixed_cost', \n",
    "                                                    '營業收入淨額':'variable_cost'}, axis=1), 2)], axis=1)\n",
    "\n",
    "result['margin'] = result['營業收入淨額'] * result['variable_cost'] + result['fixed_cost']\n",
    "\n",
    "result['expense%'] = round(round(result['營業費用']/result['營業收入淨額'], 2).rolling(5).mean(), 2) \n",
    "\n",
    "def get_roll_avg(data):\n",
    "    rolling_num = 5\n",
    "    count = round((data.rolling(rolling_num).sum() - data.rolling(rolling_num).max() \n",
    "                   - data.rolling(rolling_num).min())/3, 2)\n",
    "    return count\n",
    "\n",
    "result['other_expense'] = get_roll_avg(result['其他收益及費損淨額'])\n",
    "result['non_operating'] = get_roll_avg(result['營業外收入及支出'])\n",
    "\n",
    "# EBIT\n",
    "result['ebit'] = result['margin'] - result['營業收入淨額'] * result['expense%'] + result['other_expense'] + result['non_operating']\n",
    "\n",
    "result['tax'] = 1 - round((result['所得稅費用']/result['稅前淨利']).rolling(5).mean(), 2)\n",
    "result['tax'] = 0.8\n",
    "\n",
    "result['non_control'] = get_roll_avg(result['歸屬非控制權益淨利（損）'])\n",
    "\n",
    "result = pd.concat([result.loc[:, ['代號', '名稱', '年/月', '營業收入淨額', '營業毛利','其他收益及費損淨額', '營業外收入及支出',\n",
    "                                   '稅前淨利', '完整公式', '每股盈餘' , \n",
    "                                   '加權平均股數']].shift(-1), \n",
    "                   result.loc[:, ['fixed_cost', 'variable_cost','margin', 'expense%', \n",
    "                                  'other_expense', 'non_operating', 'ebit',\n",
    "                                 'tax', 'non_control']]], \n",
    "                   axis=1)\n",
    "\n",
    "result['forecast'] = round(((result['營業收入淨額'] * result['variable_cost'] + result['fixed_cost'])  # 營業成本\n",
    "                            - (result['expense%']*result['營業收入淨額'])                              # 營業費用\n",
    "                            + result['other_expense']                                       # 其他收益及費損淨額\n",
    "                            + result['non_operating'])                                        # 營業外收入及支出\n",
    "                            * result.tax                                                            # 所得稅費用\n",
    "                            - result['non_control'], 1)                                 # 歸屬非控制權益淨利（損）\n",
    "\n",
    "\n",
    "result['eps'] = round(result['forecast']/result['加權平均股數']*1000, 2)\n",
    "\n",
    "# result.loc[:, ['代號', '名稱', '年/月', '營業收入淨額', '完整公式', 'forecast', '每股盈餘', 'eps']]\n",
    "result_rolling3 = result#.transpose()"
   ]
  },
  {
   "cell_type": "code",
   "execution_count": 674,
   "id": "8ce5310b",
   "metadata": {},
   "outputs": [
    {
     "data": {
      "text/plain": [
       "Index(['代號', '名稱', '年/月', '營業收入淨額', '營業成本', '營業毛利', '聯屬公司已（未）實現銷貨利益',\n",
       "       '已實現銷貨毛利', '營業費用', '  研究發展費', '  預期信用減損（損失）利益－營業費用', '其他收益及費損淨額',\n",
       "       '營業利益', '  利息收入', '其他收入', '其他利益及損失', '財務成本', '採權益法之關聯企業及合資損益之份額',\n",
       "       '預期信用減損（損失）利益', '除列按攤銷後成本衡量金融資產淨損益', '金融資產重分類淨損益', '營業外收入及支出－其他',\n",
       "       '營業外收入及支出', '稅前淨利', '所得稅費用', '繼續營業單位損益', '停業單位損益', '合併前非屬共同控制股權損益',\n",
       "       '其他損益調整項－非常項目及累計影響數', '合併總損益', '  不重分類至損益之項目－OCI',\n",
       "       '  後續可能重分類至損益之項目－OCI', '  合併前非屬共同控制股權綜合損益淨額－OCI', '其他綜合損益－OCI',\n",
       "       '本期綜合損益總額', '歸屬母公司淨利（損）', '歸屬非控制權益淨利（損）', '歸屬共同控制下前手權益淨利（損）',\n",
       "       '綜合損益歸屬母公司', '綜合損益歸屬非控制權益', '綜合損益歸屬共同控制下前手權益', '每股盈餘', '加權平均股數',\n",
       "       '發放特別股股息', '稀釋稅後淨利', '每股盈餘－完全稀釋', '加權平均股數－稀釋', '稅前息前淨利', '稅前息前折舊前淨利',\n",
       "       '常續性稅後淨利', '營業費用率', '稅率(A)', '稅率(B)', '稅後對答案', 'eps對答案', '完整公式',\n",
       "       'eps完整公式'],\n",
       "      dtype='object')"
      ]
     },
     "execution_count": 674,
     "metadata": {},
     "output_type": "execute_result"
    }
   ],
   "source": [
    "df.columns"
   ]
  },
  {
   "cell_type": "code",
   "execution_count": 701,
   "id": "1d43dcd7",
   "metadata": {
    "collapsed": true
   },
   "outputs": [
    {
     "data": {
      "text/html": [
       "<div>\n",
       "<style scoped>\n",
       "    .dataframe tbody tr th:only-of-type {\n",
       "        vertical-align: middle;\n",
       "    }\n",
       "\n",
       "    .dataframe tbody tr th {\n",
       "        vertical-align: top;\n",
       "    }\n",
       "\n",
       "    .dataframe thead th {\n",
       "        text-align: right;\n",
       "    }\n",
       "</style>\n",
       "<table border=\"1\" class=\"dataframe\">\n",
       "  <thead>\n",
       "    <tr style=\"text-align: right;\">\n",
       "      <th></th>\n",
       "      <th>9822</th>\n",
       "      <th>9823</th>\n",
       "      <th>9824</th>\n",
       "      <th>9825</th>\n",
       "      <th>9826</th>\n",
       "      <th>9827</th>\n",
       "      <th>9828</th>\n",
       "      <th>9829</th>\n",
       "      <th>9830</th>\n",
       "      <th>9831</th>\n",
       "      <th>...</th>\n",
       "      <th>9839</th>\n",
       "      <th>9840</th>\n",
       "      <th>9841</th>\n",
       "      <th>9842</th>\n",
       "      <th>9843</th>\n",
       "      <th>9844</th>\n",
       "      <th>9845</th>\n",
       "      <th>9846</th>\n",
       "      <th>9847</th>\n",
       "      <th>9848</th>\n",
       "    </tr>\n",
       "  </thead>\n",
       "  <tbody>\n",
       "    <tr>\n",
       "      <th>代號</th>\n",
       "      <td>2412</td>\n",
       "      <td>2412</td>\n",
       "      <td>2412</td>\n",
       "      <td>2412</td>\n",
       "      <td>2412</td>\n",
       "      <td>2412</td>\n",
       "      <td>2412</td>\n",
       "      <td>2412</td>\n",
       "      <td>2412</td>\n",
       "      <td>2412</td>\n",
       "      <td>...</td>\n",
       "      <td>2412</td>\n",
       "      <td>2412</td>\n",
       "      <td>2412</td>\n",
       "      <td>2412</td>\n",
       "      <td>2412</td>\n",
       "      <td>2412</td>\n",
       "      <td>2412</td>\n",
       "      <td>2412</td>\n",
       "      <td>2412</td>\n",
       "      <td>2412</td>\n",
       "    </tr>\n",
       "    <tr>\n",
       "      <th>名稱</th>\n",
       "      <td>中華電</td>\n",
       "      <td>中華電</td>\n",
       "      <td>中華電</td>\n",
       "      <td>中華電</td>\n",
       "      <td>中華電</td>\n",
       "      <td>中華電</td>\n",
       "      <td>中華電</td>\n",
       "      <td>中華電</td>\n",
       "      <td>中華電</td>\n",
       "      <td>中華電</td>\n",
       "      <td>...</td>\n",
       "      <td>中華電</td>\n",
       "      <td>中華電</td>\n",
       "      <td>中華電</td>\n",
       "      <td>中華電</td>\n",
       "      <td>中華電</td>\n",
       "      <td>中華電</td>\n",
       "      <td>中華電</td>\n",
       "      <td>中華電</td>\n",
       "      <td>中華電</td>\n",
       "      <td>中華電</td>\n",
       "    </tr>\n",
       "    <tr>\n",
       "      <th>年/月</th>\n",
       "      <td>2016/03</td>\n",
       "      <td>2016/06</td>\n",
       "      <td>2016/09</td>\n",
       "      <td>2016/12</td>\n",
       "      <td>2017/03</td>\n",
       "      <td>2017/06</td>\n",
       "      <td>2017/09</td>\n",
       "      <td>2017/12</td>\n",
       "      <td>2018/03</td>\n",
       "      <td>2018/06</td>\n",
       "      <td>...</td>\n",
       "      <td>2020/06</td>\n",
       "      <td>2020/09</td>\n",
       "      <td>2020/12</td>\n",
       "      <td>2021/03</td>\n",
       "      <td>2021/06</td>\n",
       "      <td>2021/09</td>\n",
       "      <td>2021/12</td>\n",
       "      <td>2022/03</td>\n",
       "      <td>2022/06</td>\n",
       "      <td>2022/09</td>\n",
       "    </tr>\n",
       "    <tr>\n",
       "      <th>營業收入淨額</th>\n",
       "      <td>56944.2</td>\n",
       "      <td>56195.4</td>\n",
       "      <td>58518.0</td>\n",
       "      <td>58333.9</td>\n",
       "      <td>54533.4</td>\n",
       "      <td>55671.1</td>\n",
       "      <td>56424.9</td>\n",
       "      <td>60884.7</td>\n",
       "      <td>53632.4</td>\n",
       "      <td>53658.4</td>\n",
       "      <td>...</td>\n",
       "      <td>47807.9</td>\n",
       "      <td>52171.3</td>\n",
       "      <td>59479.8</td>\n",
       "      <td>50101.0</td>\n",
       "      <td>49601.1</td>\n",
       "      <td>50885.5</td>\n",
       "      <td>59890.3</td>\n",
       "      <td>51294.7</td>\n",
       "      <td>52435.7</td>\n",
       "      <td>53507.8</td>\n",
       "    </tr>\n",
       "    <tr>\n",
       "      <th>營業成本</th>\n",
       "      <td>35105.7</td>\n",
       "      <td>35253.2</td>\n",
       "      <td>38515.4</td>\n",
       "      <td>38677.5</td>\n",
       "      <td>34620.8</td>\n",
       "      <td>35078.0</td>\n",
       "      <td>35655.4</td>\n",
       "      <td>41483.4</td>\n",
       "      <td>34450.4</td>\n",
       "      <td>33192.4</td>\n",
       "      <td>...</td>\n",
       "      <td>29801.2</td>\n",
       "      <td>34505.9</td>\n",
       "      <td>42330.9</td>\n",
       "      <td>31892.9</td>\n",
       "      <td>31058.2</td>\n",
       "      <td>32045.8</td>\n",
       "      <td>40113.8</td>\n",
       "      <td>31690.9</td>\n",
       "      <td>32345.8</td>\n",
       "      <td>33174.8</td>\n",
       "    </tr>\n",
       "    <tr>\n",
       "      <th>營業費用</th>\n",
       "      <td>8048.7</td>\n",
       "      <td>8055.8</td>\n",
       "      <td>8501.5</td>\n",
       "      <td>9231.7</td>\n",
       "      <td>8367.2</td>\n",
       "      <td>8269.2</td>\n",
       "      <td>8336.1</td>\n",
       "      <td>8896.8</td>\n",
       "      <td>8167.2</td>\n",
       "      <td>8403.5</td>\n",
       "      <td>...</td>\n",
       "      <td>7384.4</td>\n",
       "      <td>7228.9</td>\n",
       "      <td>7972.0</td>\n",
       "      <td>7106.7</td>\n",
       "      <td>7260.4</td>\n",
       "      <td>7392.9</td>\n",
       "      <td>8307.9</td>\n",
       "      <td>7942.6</td>\n",
       "      <td>8060.8</td>\n",
       "      <td>8149.6</td>\n",
       "    </tr>\n",
       "    <tr>\n",
       "      <th>其他收益及費損淨額</th>\n",
       "      <td>-6.4</td>\n",
       "      <td>-10.7</td>\n",
       "      <td>-10.1</td>\n",
       "      <td>-469.5</td>\n",
       "      <td>-12.1</td>\n",
       "      <td>-4.6</td>\n",
       "      <td>-16.9</td>\n",
       "      <td>-70.8</td>\n",
       "      <td>-71.3</td>\n",
       "      <td>-9.2</td>\n",
       "      <td>...</td>\n",
       "      <td>-11.2</td>\n",
       "      <td>285.7</td>\n",
       "      <td>1321.4</td>\n",
       "      <td>2.6</td>\n",
       "      <td>0.2</td>\n",
       "      <td>-4.9</td>\n",
       "      <td>-367.3</td>\n",
       "      <td>-1.4</td>\n",
       "      <td>-3.1</td>\n",
       "      <td>-1.6</td>\n",
       "    </tr>\n",
       "    <tr>\n",
       "      <th>營業外收入及支出</th>\n",
       "      <td>500.5</td>\n",
       "      <td>614.5</td>\n",
       "      <td>388.9</td>\n",
       "      <td>-226.6</td>\n",
       "      <td>266.0</td>\n",
       "      <td>554.0</td>\n",
       "      <td>165.9</td>\n",
       "      <td>308.2</td>\n",
       "      <td>140.1</td>\n",
       "      <td>477.4</td>\n",
       "      <td>...</td>\n",
       "      <td>332.1</td>\n",
       "      <td>103.1</td>\n",
       "      <td>-87.2</td>\n",
       "      <td>216.4</td>\n",
       "      <td>182.2</td>\n",
       "      <td>659.7</td>\n",
       "      <td>78.5</td>\n",
       "      <td>14.5</td>\n",
       "      <td>476.9</td>\n",
       "      <td>24.4</td>\n",
       "    </tr>\n",
       "    <tr>\n",
       "      <th>所得稅費用</th>\n",
       "      <td>2356.6</td>\n",
       "      <td>2157.1</td>\n",
       "      <td>1961.6</td>\n",
       "      <td>1677.3</td>\n",
       "      <td>1955.9</td>\n",
       "      <td>2095.3</td>\n",
       "      <td>2083.1</td>\n",
       "      <td>1820.2</td>\n",
       "      <td>2086.0</td>\n",
       "      <td>2467.3</td>\n",
       "      <td>...</td>\n",
       "      <td>2090.2</td>\n",
       "      <td>2109.5</td>\n",
       "      <td>1821.6</td>\n",
       "      <td>2198.7</td>\n",
       "      <td>2195.5</td>\n",
       "      <td>2368.7</td>\n",
       "      <td>2108.8</td>\n",
       "      <td>2283.4</td>\n",
       "      <td>2467.4</td>\n",
       "      <td>2430.1</td>\n",
       "    </tr>\n",
       "    <tr>\n",
       "      <th>歸屬非控制權益淨利（損）</th>\n",
       "      <td>259.5</td>\n",
       "      <td>271.5</td>\n",
       "      <td>341.5</td>\n",
       "      <td>290.3</td>\n",
       "      <td>250.0</td>\n",
       "      <td>333.1</td>\n",
       "      <td>345.9</td>\n",
       "      <td>239.7</td>\n",
       "      <td>270.0</td>\n",
       "      <td>201.9</td>\n",
       "      <td>...</td>\n",
       "      <td>278.9</td>\n",
       "      <td>378.9</td>\n",
       "      <td>377.5</td>\n",
       "      <td>316.7</td>\n",
       "      <td>321.9</td>\n",
       "      <td>366.0</td>\n",
       "      <td>436.7</td>\n",
       "      <td>331.4</td>\n",
       "      <td>378.7</td>\n",
       "      <td>416.9</td>\n",
       "    </tr>\n",
       "    <tr>\n",
       "      <th>完整公式</th>\n",
       "      <td>11667.8</td>\n",
       "      <td>11061.6</td>\n",
       "      <td>9576.8</td>\n",
       "      <td>7761.0</td>\n",
       "      <td>9593.4</td>\n",
       "      <td>10444.9</td>\n",
       "      <td>10153.4</td>\n",
       "      <td>8682.0</td>\n",
       "      <td>8727.6</td>\n",
       "      <td>9861.5</td>\n",
       "      <td>...</td>\n",
       "      <td>8574.1</td>\n",
       "      <td>8336.9</td>\n",
       "      <td>8212.0</td>\n",
       "      <td>8805.0</td>\n",
       "      <td>8947.5</td>\n",
       "      <td>9366.9</td>\n",
       "      <td>8634.3</td>\n",
       "      <td>9059.5</td>\n",
       "      <td>9656.8</td>\n",
       "      <td>9359.2</td>\n",
       "    </tr>\n",
       "    <tr>\n",
       "      <th>每股盈餘</th>\n",
       "      <td>1.5</td>\n",
       "      <td>1.43</td>\n",
       "      <td>1.23</td>\n",
       "      <td>1.0</td>\n",
       "      <td>1.24</td>\n",
       "      <td>1.35</td>\n",
       "      <td>1.31</td>\n",
       "      <td>1.12</td>\n",
       "      <td>1.13</td>\n",
       "      <td>1.27</td>\n",
       "      <td>...</td>\n",
       "      <td>1.11</td>\n",
       "      <td>1.07</td>\n",
       "      <td>1.06</td>\n",
       "      <td>1.14</td>\n",
       "      <td>1.15</td>\n",
       "      <td>1.21</td>\n",
       "      <td>1.11</td>\n",
       "      <td>1.17</td>\n",
       "      <td>1.24</td>\n",
       "      <td>1.21</td>\n",
       "    </tr>\n",
       "    <tr>\n",
       "      <th>eps完整公式</th>\n",
       "      <td>1.5</td>\n",
       "      <td>1.43</td>\n",
       "      <td>1.23</td>\n",
       "      <td>1.0</td>\n",
       "      <td>1.24</td>\n",
       "      <td>1.35</td>\n",
       "      <td>1.31</td>\n",
       "      <td>1.12</td>\n",
       "      <td>1.13</td>\n",
       "      <td>1.27</td>\n",
       "      <td>...</td>\n",
       "      <td>1.11</td>\n",
       "      <td>1.07</td>\n",
       "      <td>1.06</td>\n",
       "      <td>1.14</td>\n",
       "      <td>1.15</td>\n",
       "      <td>1.21</td>\n",
       "      <td>1.11</td>\n",
       "      <td>1.17</td>\n",
       "      <td>1.24</td>\n",
       "      <td>1.21</td>\n",
       "    </tr>\n",
       "    <tr>\n",
       "      <th>加權平均股數</th>\n",
       "      <td>7757447</td>\n",
       "      <td>7757447</td>\n",
       "      <td>7757447</td>\n",
       "      <td>7757447</td>\n",
       "      <td>7757447</td>\n",
       "      <td>7757447</td>\n",
       "      <td>7757447</td>\n",
       "      <td>7757447</td>\n",
       "      <td>7757447</td>\n",
       "      <td>7757447</td>\n",
       "      <td>...</td>\n",
       "      <td>7757447</td>\n",
       "      <td>7757447</td>\n",
       "      <td>7757447</td>\n",
       "      <td>7757447</td>\n",
       "      <td>7757447</td>\n",
       "      <td>7757447</td>\n",
       "      <td>7757447</td>\n",
       "      <td>7757447</td>\n",
       "      <td>7757447</td>\n",
       "      <td>7757447</td>\n",
       "    </tr>\n",
       "    <tr>\n",
       "      <th>稅率(A)</th>\n",
       "      <td>16.5</td>\n",
       "      <td>15.99</td>\n",
       "      <td>16.51</td>\n",
       "      <td>17.24</td>\n",
       "      <td>16.58</td>\n",
       "      <td>16.28</td>\n",
       "      <td>16.56</td>\n",
       "      <td>16.94</td>\n",
       "      <td>18.82</td>\n",
       "      <td>19.69</td>\n",
       "      <td>...</td>\n",
       "      <td>19.1</td>\n",
       "      <td>19.49</td>\n",
       "      <td>17.5</td>\n",
       "      <td>19.42</td>\n",
       "      <td>19.15</td>\n",
       "      <td>19.57</td>\n",
       "      <td>18.86</td>\n",
       "      <td>19.56</td>\n",
       "      <td>19.73</td>\n",
       "      <td>19.91</td>\n",
       "    </tr>\n",
       "    <tr>\n",
       "      <th>稅率(B)</th>\n",
       "      <td>16.5</td>\n",
       "      <td>15.99</td>\n",
       "      <td>16.51</td>\n",
       "      <td>17.24</td>\n",
       "      <td>16.58</td>\n",
       "      <td>16.28</td>\n",
       "      <td>16.56</td>\n",
       "      <td>16.94</td>\n",
       "      <td>18.82</td>\n",
       "      <td>19.69</td>\n",
       "      <td>...</td>\n",
       "      <td>19.1</td>\n",
       "      <td>19.49</td>\n",
       "      <td>17.5</td>\n",
       "      <td>19.42</td>\n",
       "      <td>19.15</td>\n",
       "      <td>19.57</td>\n",
       "      <td>18.86</td>\n",
       "      <td>19.56</td>\n",
       "      <td>19.73</td>\n",
       "      <td>19.91</td>\n",
       "    </tr>\n",
       "  </tbody>\n",
       "</table>\n",
       "<p>16 rows × 27 columns</p>\n",
       "</div>"
      ],
      "text/plain": [
       "                 9822     9823     9824     9825     9826     9827     9828  \\\n",
       "代號               2412     2412     2412     2412     2412     2412     2412   \n",
       "名稱                中華電      中華電      中華電      中華電      中華電      中華電      中華電   \n",
       "年/月           2016/03  2016/06  2016/09  2016/12  2017/03  2017/06  2017/09   \n",
       "營業收入淨額        56944.2  56195.4  58518.0  58333.9  54533.4  55671.1  56424.9   \n",
       "營業成本          35105.7  35253.2  38515.4  38677.5  34620.8  35078.0  35655.4   \n",
       "營業費用           8048.7   8055.8   8501.5   9231.7   8367.2   8269.2   8336.1   \n",
       "其他收益及費損淨額        -6.4    -10.7    -10.1   -469.5    -12.1     -4.6    -16.9   \n",
       "營業外收入及支出        500.5    614.5    388.9   -226.6    266.0    554.0    165.9   \n",
       "所得稅費用          2356.6   2157.1   1961.6   1677.3   1955.9   2095.3   2083.1   \n",
       "歸屬非控制權益淨利（損）    259.5    271.5    341.5    290.3    250.0    333.1    345.9   \n",
       "完整公式          11667.8  11061.6   9576.8   7761.0   9593.4  10444.9  10153.4   \n",
       "每股盈餘              1.5     1.43     1.23      1.0     1.24     1.35     1.31   \n",
       "eps完整公式           1.5     1.43     1.23      1.0     1.24     1.35     1.31   \n",
       "加權平均股數        7757447  7757447  7757447  7757447  7757447  7757447  7757447   \n",
       "稅率(A)            16.5    15.99    16.51    17.24    16.58    16.28    16.56   \n",
       "稅率(B)            16.5    15.99    16.51    17.24    16.58    16.28    16.56   \n",
       "\n",
       "                 9829     9830     9831  ...     9839     9840     9841  \\\n",
       "代號               2412     2412     2412  ...     2412     2412     2412   \n",
       "名稱                中華電      中華電      中華電  ...      中華電      中華電      中華電   \n",
       "年/月           2017/12  2018/03  2018/06  ...  2020/06  2020/09  2020/12   \n",
       "營業收入淨額        60884.7  53632.4  53658.4  ...  47807.9  52171.3  59479.8   \n",
       "營業成本          41483.4  34450.4  33192.4  ...  29801.2  34505.9  42330.9   \n",
       "營業費用           8896.8   8167.2   8403.5  ...   7384.4   7228.9   7972.0   \n",
       "其他收益及費損淨額       -70.8    -71.3     -9.2  ...    -11.2    285.7   1321.4   \n",
       "營業外收入及支出        308.2    140.1    477.4  ...    332.1    103.1    -87.2   \n",
       "所得稅費用          1820.2   2086.0   2467.3  ...   2090.2   2109.5   1821.6   \n",
       "歸屬非控制權益淨利（損）    239.7    270.0    201.9  ...    278.9    378.9    377.5   \n",
       "完整公式           8682.0   8727.6   9861.5  ...   8574.1   8336.9   8212.0   \n",
       "每股盈餘             1.12     1.13     1.27  ...     1.11     1.07     1.06   \n",
       "eps完整公式          1.12     1.13     1.27  ...     1.11     1.07     1.06   \n",
       "加權平均股數        7757447  7757447  7757447  ...  7757447  7757447  7757447   \n",
       "稅率(A)           16.94    18.82    19.69  ...     19.1    19.49     17.5   \n",
       "稅率(B)           16.94    18.82    19.69  ...     19.1    19.49     17.5   \n",
       "\n",
       "                 9842     9843     9844     9845     9846     9847     9848  \n",
       "代號               2412     2412     2412     2412     2412     2412     2412  \n",
       "名稱                中華電      中華電      中華電      中華電      中華電      中華電      中華電  \n",
       "年/月           2021/03  2021/06  2021/09  2021/12  2022/03  2022/06  2022/09  \n",
       "營業收入淨額        50101.0  49601.1  50885.5  59890.3  51294.7  52435.7  53507.8  \n",
       "營業成本          31892.9  31058.2  32045.8  40113.8  31690.9  32345.8  33174.8  \n",
       "營業費用           7106.7   7260.4   7392.9   8307.9   7942.6   8060.8   8149.6  \n",
       "其他收益及費損淨額         2.6      0.2     -4.9   -367.3     -1.4     -3.1     -1.6  \n",
       "營業外收入及支出        216.4    182.2    659.7     78.5     14.5    476.9     24.4  \n",
       "所得稅費用          2198.7   2195.5   2368.7   2108.8   2283.4   2467.4   2430.1  \n",
       "歸屬非控制權益淨利（損）    316.7    321.9    366.0    436.7    331.4    378.7    416.9  \n",
       "完整公式           8805.0   8947.5   9366.9   8634.3   9059.5   9656.8   9359.2  \n",
       "每股盈餘             1.14     1.15     1.21     1.11     1.17     1.24     1.21  \n",
       "eps完整公式          1.14     1.15     1.21     1.11     1.17     1.24     1.21  \n",
       "加權平均股數        7757447  7757447  7757447  7757447  7757447  7757447  7757447  \n",
       "稅率(A)           19.42    19.15    19.57    18.86    19.56    19.73    19.91  \n",
       "稅率(B)           19.42    19.15    19.57    18.86    19.56    19.73    19.91  \n",
       "\n",
       "[16 rows x 27 columns]"
      ]
     },
     "execution_count": 701,
     "metadata": {},
     "output_type": "execute_result"
    }
   ],
   "source": [
    "df = pd.read_excel('2015income_stat.xlsx')\n",
    "df['營業收入淨額'] = round(df['營業收入淨額']/1000, 1)\n",
    "df['營業成本'] = round(df['營業成本']/1000, 1)\n",
    "df['營業毛利'] = round(df['營業毛利']/1000, 1)\n",
    "df['營業費用'] = round(df['營業費用']/1000, 1)\n",
    "df['其他收益及費損淨額'] = round(df['其他收益及費損淨額']/1000, 1)\n",
    "df['營業利益'] = round(df['營業利益']/1000, 1)\n",
    "df['營業外收入及支出'] = round(df['營業外收入及支出']/1000, 1)\n",
    "df['稅前淨利'] = round(df['稅前淨利']/1000, 1)\n",
    "df['所得稅費用'] = round(df['所得稅費用'], 1)\n",
    "df['其他綜合損益－OCI'] = round(df['其他綜合損益－OCI']/1000, 1)\n",
    "df['綜合損益歸屬母公司'] = round(df['綜合損益歸屬母公司']/1000, 1)\n",
    "df['所得稅費用'] = round(df['所得稅費用']/1000, 1)\n",
    "df['稀釋稅後淨利'] = round(df['稀釋稅後淨利']/1000, 1)\n",
    "df['歸屬非控制權益淨利（損）'] = round(df['歸屬非控制權益淨利（損）']/1000, 1)\n",
    "df['常續性稅後淨利'] = round(df['常續性稅後淨利']/1000, 1)\n",
    "df['稅後對答案'] = round(df['稅前淨利']-df['所得稅費用']-df['歸屬非控制權益淨利（損）'], 2)\n",
    "df['eps對答案'] = round(df['稀釋稅後淨利']/df['加權平均股數']*1000, 2)\n",
    "df['eps對答案'] = np.where(df['eps對答案'].isna() == True, round((df['稅前淨利']-df['所得稅費用']-df['歸屬非控制權益淨利（損）'])/df['加權平均股數']*1000, 2), df['eps對答案'])\n",
    "df['完整公式'] = df['營業收入淨額'] - df['營業成本'] - df['營業費用'] + df['其他收益及費損淨額']+ df['營業外收入及支出'] - df['所得稅費用'] - df['歸屬非控制權益淨利（損）']\n",
    "df['eps完整公式'] = round(df['完整公式']/df['加權平均股數']*1000, 2)\n",
    "\n",
    "df[df['代號'] == '2412'].loc[:, ['代號', '名稱', '年/月', '營業收入淨額', '營業成本', '營業費用', '其他收益及費損淨額', \n",
    "                               '營業外收入及支出', \n",
    "                               '所得稅費用', '歸屬非控制權益淨利（損）', '完整公式', '每股盈餘', 'eps完整公式',\n",
    "                               '加權平均股數', '稅率(A)', '稅率(B)']].transpose()\n",
    "# df.columns\n",
    "\n",
    "# df[df['代號'] == '2412'].transpose()"
   ]
  },
  {
   "cell_type": "code",
   "execution_count": null,
   "id": "a78f7430",
   "metadata": {},
   "outputs": [],
   "source": []
  },
  {
   "cell_type": "code",
   "execution_count": 691,
   "id": "26d57a07",
   "metadata": {},
   "outputs": [],
   "source": [
    "def forecast(result):\n",
    "    result['margin'] = result['營業收入淨額'] * result['variable_cost'] + result['fixed_cost']\n",
    "\n",
    "#     result['expense%'] = round(round(result['營業費用']/result['營業收入淨額'], 2).rolling(5).mean(), 2) \n",
    "\n",
    "    def get_roll_avg(data):\n",
    "        rolling_num = 5\n",
    "        count = round((data.rolling(rolling_num).sum() - data.rolling(rolling_num).max() \n",
    "                       - data.rolling(rolling_num).min())/3, 2)\n",
    "        return count\n",
    "\n",
    "    result['other_expense'] = get_roll_avg(result['其他收益及費損淨額'])\n",
    "    result['non_operating'] = get_roll_avg(result['營業外收入及支出'])\n",
    "\n",
    "    # EBIT\n",
    "#     result['ebit'] = result['margin'] - result['營業收入淨額'] * result['expense%'] + result['other_expense'] + result['non_operating']\n",
    "\n",
    "    result['tax'] = 1 - round((result['所得稅費用']/result['稅前淨利']).rolling(5).mean(), 2)\n",
    "    result['tax'] = 0.8\n",
    "\n",
    "    result['non_control'] = get_roll_avg(result['歸屬非控制權益淨利（損）'])\n",
    "\n",
    "    result = pd.concat([result.loc[:, ['代號', '名稱', '年/月', '營業收入淨額', '營業毛利','其他收益及費損淨額', '營業外收入及支出',\n",
    "                                       '稅前淨利', '完整公式', '每股盈餘' , \n",
    "                                       '加權平均股數']].shift(-1), \n",
    "                       result.loc[:, ['fixed_cost', 'variable_cost','margin', #'expense%', \n",
    "                                      'other_expense', 'non_operating', #'ebit',\n",
    "                                     'tax', 'non_control']]], \n",
    "                       axis=1)\n",
    "\n",
    "    result['forecast'] = round(((result['營業收入淨額'] * result['variable_cost'] + result['fixed_cost'])  # 營業成本\n",
    "#                                 - (result['expense%']*result['營業收入淨額'])                              # 營業費用\n",
    "#                                 + result['other_expense']                                       # 其他收益及費損淨額\n",
    "                                + result['non_operating'])                                        # 營業外收入及支出\n",
    "                                * result.tax                                                            # 所得稅費用\n",
    "                                - result['non_control'], 1)                                 # 歸屬非控制權益淨利（損）\n",
    "\n",
    "\n",
    "    result['eps'] = round(result['forecast']/result['加權平均股數']*1000, 2)\n",
    "    return result"
   ]
  },
  {
   "cell_type": "markdown",
   "id": "94c76467",
   "metadata": {},
   "source": [
    "料、工、費\n",
    "消費、管理、研發\n",
    "分兩列：成本跟費用一起估\n",
    "真實的情況：對著他做追蹤，這個報表是要幫助我們找要有的東西，\n",
    "例如：找今年成長最多的，看市場沒發現的標的。\n",
    "財報一年公告四次，但營收公告十二次\n",
    "\n",
    "穩定的：營業淨利5%以爲，看EPS\n",
    "非常不穩定：15%以內都算好的"
   ]
  },
  {
   "cell_type": "markdown",
   "id": "dab08d50",
   "metadata": {},
   "source": [
    "### Regression Rolling(3)"
   ]
  },
  {
   "cell_type": "code",
   "execution_count": 692,
   "id": "c9154747",
   "metadata": {},
   "outputs": [],
   "source": [
    "st_input = '2454'\n",
    "data = df[df['代號'] == st_input].loc[:, ['代號', '名稱', '年/月', '加權平均股數', '營業收入淨額', '營業成本', '營業毛利', \n",
    "                                        '營業費用','其他收益及費損淨額', '營業利益', '營業外收入及支出', '稅前淨利', '所得稅費用', \n",
    "                                        '歸屬非控制權益淨利（損）', '完整公式', '每股盈餘']].reset_index(drop=True)\n",
    "\n",
    "mod = RollingOLS.from_formula(\"營業利益 ~ 營業收入淨額\", data=data, window=3)\n",
    "rres = mod.fit()\n",
    "result = pd.concat([data, round(rres.params.rename({'Intercept':'fixed_cost', \n",
    "                                                    '營業收入淨額':'variable_cost'}, axis=1), 2)], axis=1)\n",
    "result.head()\n",
    "result_rolling3 = forecast(result)\n",
    "result_rolling3 = result_rolling3.loc[:, ['代號', '名稱', '年/月', '營業收入淨額', '完整公式', 'forecast', '每股盈餘', 'eps']]\n",
    "result_rolling3 = result_rolling3.rename({'forecast':'forecast_roll_3', 'eps':'eps_roll_3'}, axis=1)"
   ]
  },
  {
   "cell_type": "markdown",
   "id": "8673d797",
   "metadata": {},
   "source": [
    "### Regression Rolling(5)"
   ]
  },
  {
   "cell_type": "code",
   "execution_count": 693,
   "id": "94845c35",
   "metadata": {},
   "outputs": [],
   "source": [
    "data = df[df['代號'] == st_input].loc[:, ['代號', '名稱', '年/月', '加權平均股數', '營業收入淨額', '營業成本', '營業毛利', \n",
    "                                        '營業費用','其他收益及費損淨額', '營業利益', '營業外收入及支出', '稅前淨利', '所得稅費用', \n",
    "                                        '歸屬非控制權益淨利（損）', '完整公式', '每股盈餘']].reset_index(drop=True)\n",
    "\n",
    "mod = RollingOLS.from_formula(\"營業利益 ~ 營業收入淨額\", data=data, window=5)\n",
    "rres = mod.fit()\n",
    "result = pd.concat([data, round(rres.params.rename({'Intercept':'fixed_cost', \n",
    "                                                    '營業收入淨額':'variable_cost'}, axis=1), 2)], axis=1)\n",
    "result.head()\n",
    "result_rolling5 = forecast(result)\n",
    "result_rolling5 = result_rolling5.loc[:, ['代號', '名稱', '年/月', '營業收入淨額', '完整公式', 'forecast', '每股盈餘', 'eps']]\n",
    "result_rolling5 = result_rolling5.rename({'forecast':'forecast_roll_5', 'eps':'eps_roll_5'}, axis=1)\n",
    "\n",
    "# result_rolling5 = result"
   ]
  },
  {
   "cell_type": "markdown",
   "id": "61487bb4",
   "metadata": {},
   "source": [
    "### 加權重的版本，rolling(5)"
   ]
  },
  {
   "cell_type": "code",
   "execution_count": 694,
   "id": "7f58f719",
   "metadata": {},
   "outputs": [],
   "source": [
    "t = data.rolling(5)\n",
    "def get_wet_reg(data):\n",
    "    if data.shape[0] < 5 :\n",
    "        return []\n",
    "    data = data.tail(5)\n",
    "    sample_weight = [1, 1, 2, 3, 5]\n",
    "    lm = LinearRegression()\n",
    "    lm.fit(np.array(data['營業收入淨額']).reshape(-1, 1), np.array(data['營業利益']), sample_weight)\n",
    "    intercept = round(lm.intercept_, 2)\n",
    "    coef = lm.coef_[0]\n",
    "    return [intercept, round(coef,2)]\n",
    "WLS = pd.DataFrame((map(get_wet_reg,t))).set_axis(['fixed_cost', 'variable_cost'], axis=1)\n",
    "WLS = pd.concat([data.reset_index(drop=True), WLS], axis=1)\n",
    "WLS.head()\n",
    "result_wls5 = forecast(WLS)\n",
    "result_wls5 = result_wls5.loc[:, ['代號', '名稱', '年/月', '營業收入淨額', '完整公式', 'forecast', '每股盈餘', 'eps']]\n",
    "result_wls5 = result_wls5.rename({'forecast':'forecast_wls_roll_5', 'eps':'eps_wls_roll_5'}, axis=1)"
   ]
  },
  {
   "cell_type": "markdown",
   "id": "58823ad7",
   "metadata": {},
   "source": [
    "### 加權重的版本，rolling(3)"
   ]
  },
  {
   "cell_type": "code",
   "execution_count": 695,
   "id": "b7fc4215",
   "metadata": {},
   "outputs": [],
   "source": [
    "t = data.rolling(3)\n",
    "def get_wet_reg(data):\n",
    "    if data.shape[0] < 3 :\n",
    "        return []\n",
    "    data = data.tail(5)\n",
    "    sample_weight = [1, 1, 2]\n",
    "    lm = LinearRegression()\n",
    "    lm.fit(np.array(data['營業收入淨額']).reshape(-1, 1), np.array(data['營業利益']), sample_weight)\n",
    "    intercept = round(lm.intercept_, 2)\n",
    "    coef = lm.coef_[0]\n",
    "    return [intercept, round(coef,2)]\n",
    "WLS = pd.DataFrame((map(get_wet_reg,t))).set_axis(['fixed_cost', 'variable_cost'], axis=1)\n",
    "WLS = pd.concat([data.reset_index(drop=True), WLS], axis=1)\n",
    "WLS.head()\n",
    "result_wls3 = forecast(WLS)\n",
    "result_wls3 = result_wls3.loc[:, ['代號', '名稱', '年/月', '營業收入淨額', '完整公式', 'forecast', '每股盈餘', 'eps']]\n",
    "result_wls3 = result_wls3.rename({'forecast':'forecast_wls_roll_3', 'eps':'eps_wls_roll_3'}, axis=1)"
   ]
  },
  {
   "cell_type": "code",
   "execution_count": 700,
   "id": "93bbef5e",
   "metadata": {},
   "outputs": [
    {
     "data": {
      "text/html": [
       "<div>\n",
       "<style scoped>\n",
       "    .dataframe tbody tr th:only-of-type {\n",
       "        vertical-align: middle;\n",
       "    }\n",
       "\n",
       "    .dataframe tbody tr th {\n",
       "        vertical-align: top;\n",
       "    }\n",
       "\n",
       "    .dataframe thead th {\n",
       "        text-align: right;\n",
       "    }\n",
       "</style>\n",
       "<table border=\"1\" class=\"dataframe\">\n",
       "  <thead>\n",
       "    <tr style=\"text-align: right;\">\n",
       "      <th></th>\n",
       "      <th>代號</th>\n",
       "      <th>名稱</th>\n",
       "      <th>年/月</th>\n",
       "      <th>每股盈餘</th>\n",
       "      <th>eps_roll_5</th>\n",
       "      <th>eps_wls_roll_5</th>\n",
       "      <th>error</th>\n",
       "    </tr>\n",
       "  </thead>\n",
       "  <tbody>\n",
       "    <tr>\n",
       "      <th>4</th>\n",
       "      <td>2454</td>\n",
       "      <td>聯發科</td>\n",
       "      <td>2017/06</td>\n",
       "      <td>1.51</td>\n",
       "      <td>2.24</td>\n",
       "      <td>1.75</td>\n",
       "      <td>0.16</td>\n",
       "    </tr>\n",
       "    <tr>\n",
       "      <th>5</th>\n",
       "      <td>2454</td>\n",
       "      <td>聯發科</td>\n",
       "      <td>2017/09</td>\n",
       "      <td>3.26</td>\n",
       "      <td>2.52</td>\n",
       "      <td>2.42</td>\n",
       "      <td>-0.26</td>\n",
       "    </tr>\n",
       "    <tr>\n",
       "      <th>6</th>\n",
       "      <td>2454</td>\n",
       "      <td>聯發科</td>\n",
       "      <td>2017/12</td>\n",
       "      <td>6.50</td>\n",
       "      <td>2.12</td>\n",
       "      <td>2.40</td>\n",
       "      <td>-0.63</td>\n",
       "    </tr>\n",
       "    <tr>\n",
       "      <th>7</th>\n",
       "      <td>2454</td>\n",
       "      <td>聯發科</td>\n",
       "      <td>2018/03</td>\n",
       "      <td>1.61</td>\n",
       "      <td>1.36</td>\n",
       "      <td>0.93</td>\n",
       "      <td>-0.42</td>\n",
       "    </tr>\n",
       "    <tr>\n",
       "      <th>8</th>\n",
       "      <td>2454</td>\n",
       "      <td>聯發科</td>\n",
       "      <td>2018/06</td>\n",
       "      <td>4.72</td>\n",
       "      <td>2.82</td>\n",
       "      <td>2.76</td>\n",
       "      <td>-0.42</td>\n",
       "    </tr>\n",
       "    <tr>\n",
       "      <th>9</th>\n",
       "      <td>2454</td>\n",
       "      <td>聯發科</td>\n",
       "      <td>2018/09</td>\n",
       "      <td>4.30</td>\n",
       "      <td>3.49</td>\n",
       "      <td>3.31</td>\n",
       "      <td>-0.23</td>\n",
       "    </tr>\n",
       "    <tr>\n",
       "      <th>10</th>\n",
       "      <td>2454</td>\n",
       "      <td>聯發科</td>\n",
       "      <td>2018/12</td>\n",
       "      <td>2.63</td>\n",
       "      <td>3.20</td>\n",
       "      <td>3.24</td>\n",
       "      <td>0.23</td>\n",
       "    </tr>\n",
       "    <tr>\n",
       "      <th>11</th>\n",
       "      <td>2454</td>\n",
       "      <td>聯發科</td>\n",
       "      <td>2019/03</td>\n",
       "      <td>2.17</td>\n",
       "      <td>2.22</td>\n",
       "      <td>2.05</td>\n",
       "      <td>-0.06</td>\n",
       "    </tr>\n",
       "    <tr>\n",
       "      <th>12</th>\n",
       "      <td>2454</td>\n",
       "      <td>聯發科</td>\n",
       "      <td>2019/06</td>\n",
       "      <td>4.11</td>\n",
       "      <td>2.90</td>\n",
       "      <td>2.98</td>\n",
       "      <td>-0.27</td>\n",
       "    </tr>\n",
       "    <tr>\n",
       "      <th>13</th>\n",
       "      <td>2454</td>\n",
       "      <td>聯發科</td>\n",
       "      <td>2019/09</td>\n",
       "      <td>4.38</td>\n",
       "      <td>3.95</td>\n",
       "      <td>4.12</td>\n",
       "      <td>-0.06</td>\n",
       "    </tr>\n",
       "    <tr>\n",
       "      <th>14</th>\n",
       "      <td>2454</td>\n",
       "      <td>聯發科</td>\n",
       "      <td>2019/12</td>\n",
       "      <td>4.03</td>\n",
       "      <td>3.53</td>\n",
       "      <td>3.74</td>\n",
       "      <td>-0.07</td>\n",
       "    </tr>\n",
       "    <tr>\n",
       "      <th>15</th>\n",
       "      <td>2454</td>\n",
       "      <td>聯發科</td>\n",
       "      <td>2020/03</td>\n",
       "      <td>3.64</td>\n",
       "      <td>3.03</td>\n",
       "      <td>3.09</td>\n",
       "      <td>-0.15</td>\n",
       "    </tr>\n",
       "    <tr>\n",
       "      <th>16</th>\n",
       "      <td>2454</td>\n",
       "      <td>聯發科</td>\n",
       "      <td>2020/06</td>\n",
       "      <td>4.58</td>\n",
       "      <td>4.09</td>\n",
       "      <td>4.14</td>\n",
       "      <td>-0.10</td>\n",
       "    </tr>\n",
       "    <tr>\n",
       "      <th>17</th>\n",
       "      <td>2454</td>\n",
       "      <td>聯發科</td>\n",
       "      <td>2020/09</td>\n",
       "      <td>8.42</td>\n",
       "      <td>7.07</td>\n",
       "      <td>7.67</td>\n",
       "      <td>-0.09</td>\n",
       "    </tr>\n",
       "    <tr>\n",
       "      <th>18</th>\n",
       "      <td>2454</td>\n",
       "      <td>聯發科</td>\n",
       "      <td>2020/12</td>\n",
       "      <td>9.37</td>\n",
       "      <td>7.81</td>\n",
       "      <td>7.92</td>\n",
       "      <td>-0.15</td>\n",
       "    </tr>\n",
       "    <tr>\n",
       "      <th>19</th>\n",
       "      <td>2454</td>\n",
       "      <td>聯發科</td>\n",
       "      <td>2021/03</td>\n",
       "      <td>16.21</td>\n",
       "      <td>9.41</td>\n",
       "      <td>9.32</td>\n",
       "      <td>-0.43</td>\n",
       "    </tr>\n",
       "    <tr>\n",
       "      <th>20</th>\n",
       "      <td>2454</td>\n",
       "      <td>聯發科</td>\n",
       "      <td>2021/06</td>\n",
       "      <td>17.44</td>\n",
       "      <td>12.90</td>\n",
       "      <td>13.32</td>\n",
       "      <td>-0.24</td>\n",
       "    </tr>\n",
       "    <tr>\n",
       "      <th>21</th>\n",
       "      <td>2454</td>\n",
       "      <td>聯發科</td>\n",
       "      <td>2021/09</td>\n",
       "      <td>17.92</td>\n",
       "      <td>15.81</td>\n",
       "      <td>15.99</td>\n",
       "      <td>-0.11</td>\n",
       "    </tr>\n",
       "    <tr>\n",
       "      <th>22</th>\n",
       "      <td>2454</td>\n",
       "      <td>聯發科</td>\n",
       "      <td>2021/12</td>\n",
       "      <td>19.03</td>\n",
       "      <td>15.91</td>\n",
       "      <td>16.07</td>\n",
       "      <td>-0.16</td>\n",
       "    </tr>\n",
       "    <tr>\n",
       "      <th>23</th>\n",
       "      <td>2454</td>\n",
       "      <td>聯發科</td>\n",
       "      <td>2022/03</td>\n",
       "      <td>21.02</td>\n",
       "      <td>19.41</td>\n",
       "      <td>19.69</td>\n",
       "      <td>-0.06</td>\n",
       "    </tr>\n",
       "    <tr>\n",
       "      <th>24</th>\n",
       "      <td>2454</td>\n",
       "      <td>聯發科</td>\n",
       "      <td>2022/06</td>\n",
       "      <td>22.39</td>\n",
       "      <td>23.01</td>\n",
       "      <td>22.73</td>\n",
       "      <td>0.02</td>\n",
       "    </tr>\n",
       "    <tr>\n",
       "      <th>25</th>\n",
       "      <td>2454</td>\n",
       "      <td>聯發科</td>\n",
       "      <td>2022/09</td>\n",
       "      <td>19.54</td>\n",
       "      <td>19.01</td>\n",
       "      <td>18.41</td>\n",
       "      <td>-0.06</td>\n",
       "    </tr>\n",
       "  </tbody>\n",
       "</table>\n",
       "</div>"
      ],
      "text/plain": [
       "      代號   名稱      年/月   每股盈餘  eps_roll_5  eps_wls_roll_5  error\n",
       "4   2454  聯發科  2017/06   1.51        2.24            1.75   0.16\n",
       "5   2454  聯發科  2017/09   3.26        2.52            2.42  -0.26\n",
       "6   2454  聯發科  2017/12   6.50        2.12            2.40  -0.63\n",
       "7   2454  聯發科  2018/03   1.61        1.36            0.93  -0.42\n",
       "8   2454  聯發科  2018/06   4.72        2.82            2.76  -0.42\n",
       "9   2454  聯發科  2018/09   4.30        3.49            3.31  -0.23\n",
       "10  2454  聯發科  2018/12   2.63        3.20            3.24   0.23\n",
       "11  2454  聯發科  2019/03   2.17        2.22            2.05  -0.06\n",
       "12  2454  聯發科  2019/06   4.11        2.90            2.98  -0.27\n",
       "13  2454  聯發科  2019/09   4.38        3.95            4.12  -0.06\n",
       "14  2454  聯發科  2019/12   4.03        3.53            3.74  -0.07\n",
       "15  2454  聯發科  2020/03   3.64        3.03            3.09  -0.15\n",
       "16  2454  聯發科  2020/06   4.58        4.09            4.14  -0.10\n",
       "17  2454  聯發科  2020/09   8.42        7.07            7.67  -0.09\n",
       "18  2454  聯發科  2020/12   9.37        7.81            7.92  -0.15\n",
       "19  2454  聯發科  2021/03  16.21        9.41            9.32  -0.43\n",
       "20  2454  聯發科  2021/06  17.44       12.90           13.32  -0.24\n",
       "21  2454  聯發科  2021/09  17.92       15.81           15.99  -0.11\n",
       "22  2454  聯發科  2021/12  19.03       15.91           16.07  -0.16\n",
       "23  2454  聯發科  2022/03  21.02       19.41           19.69  -0.06\n",
       "24  2454  聯發科  2022/06  22.39       23.01           22.73   0.02\n",
       "25  2454  聯發科  2022/09  19.54       19.01           18.41  -0.06"
      ]
     },
     "execution_count": 700,
     "metadata": {},
     "output_type": "execute_result"
    }
   ],
   "source": [
    "a = pd.merge(result_rolling3, result_rolling5, on=['代號', '名稱', '年/月', '營業收入淨額', '完整公式', '每股盈餘'], how='inner')\n",
    "a = pd.merge(a, result_wls3, on=['代號', '名稱', '年/月', '營業收入淨額', '完整公式', '每股盈餘'], how='inner')\n",
    "a = pd.merge(a, result_wls5, on=['代號', '名稱', '年/月', '營業收入淨額', '完整公式', '每股盈餘'], how='inner')\n",
    "a = a.rename({'完整公式':'稅後淨利'}, axis=1)\n",
    "a['error'] = round((a['eps_wls_roll_5'] - a['每股盈餘'])/a['每股盈餘'], 2)\n",
    "\n",
    "a.dropna().loc[:, ['代號', '名稱', '年/月', '每股盈餘', 'eps_roll_5','eps_wls_roll_5', 'error']]"
   ]
  },
  {
   "cell_type": "code",
   "execution_count": 697,
   "id": "b42ad9c9",
   "metadata": {},
   "outputs": [
    {
     "data": {
      "text/html": [
       "<div>\n",
       "<style scoped>\n",
       "    .dataframe tbody tr th:only-of-type {\n",
       "        vertical-align: middle;\n",
       "    }\n",
       "\n",
       "    .dataframe tbody tr th {\n",
       "        vertical-align: top;\n",
       "    }\n",
       "\n",
       "    .dataframe thead th {\n",
       "        text-align: right;\n",
       "    }\n",
       "</style>\n",
       "<table border=\"1\" class=\"dataframe\">\n",
       "  <thead>\n",
       "    <tr style=\"text-align: right;\">\n",
       "      <th></th>\n",
       "      <th>代號</th>\n",
       "      <th>名稱</th>\n",
       "      <th>年/月</th>\n",
       "      <th>稅後淨利</th>\n",
       "      <th>forecast_roll_5</th>\n",
       "      <th>forecast_wls_roll_5</th>\n",
       "    </tr>\n",
       "  </thead>\n",
       "  <tbody>\n",
       "    <tr>\n",
       "      <th>4</th>\n",
       "      <td>2454</td>\n",
       "      <td>聯發科</td>\n",
       "      <td>2017/06</td>\n",
       "      <td>2367.9</td>\n",
       "      <td>3496.1</td>\n",
       "      <td>2738.6</td>\n",
       "    </tr>\n",
       "    <tr>\n",
       "      <th>5</th>\n",
       "      <td>2454</td>\n",
       "      <td>聯發科</td>\n",
       "      <td>2017/09</td>\n",
       "      <td>5102.0</td>\n",
       "      <td>3935.3</td>\n",
       "      <td>3780.5</td>\n",
       "    </tr>\n",
       "    <tr>\n",
       "      <th>6</th>\n",
       "      <td>2454</td>\n",
       "      <td>聯發科</td>\n",
       "      <td>2017/12</td>\n",
       "      <td>10160.5</td>\n",
       "      <td>3318.2</td>\n",
       "      <td>3756.2</td>\n",
       "    </tr>\n",
       "    <tr>\n",
       "      <th>7</th>\n",
       "      <td>2454</td>\n",
       "      <td>聯發科</td>\n",
       "      <td>2018/03</td>\n",
       "      <td>2519.2</td>\n",
       "      <td>2123.9</td>\n",
       "      <td>1449.4</td>\n",
       "    </tr>\n",
       "    <tr>\n",
       "      <th>8</th>\n",
       "      <td>2454</td>\n",
       "      <td>聯發科</td>\n",
       "      <td>2018/06</td>\n",
       "      <td>7379.5</td>\n",
       "      <td>4407.3</td>\n",
       "      <td>4315.0</td>\n",
       "    </tr>\n",
       "    <tr>\n",
       "      <th>9</th>\n",
       "      <td>2454</td>\n",
       "      <td>聯發科</td>\n",
       "      <td>2018/09</td>\n",
       "      <td>6738.5</td>\n",
       "      <td>5465.3</td>\n",
       "      <td>5183.1</td>\n",
       "    </tr>\n",
       "    <tr>\n",
       "      <th>10</th>\n",
       "      <td>2454</td>\n",
       "      <td>聯發科</td>\n",
       "      <td>2018/12</td>\n",
       "      <td>4123.2</td>\n",
       "      <td>5013.9</td>\n",
       "      <td>5068.6</td>\n",
       "    </tr>\n",
       "    <tr>\n",
       "      <th>11</th>\n",
       "      <td>2454</td>\n",
       "      <td>聯發科</td>\n",
       "      <td>2019/03</td>\n",
       "      <td>3405.8</td>\n",
       "      <td>3477.4</td>\n",
       "      <td>3212.9</td>\n",
       "    </tr>\n",
       "    <tr>\n",
       "      <th>12</th>\n",
       "      <td>2454</td>\n",
       "      <td>聯發科</td>\n",
       "      <td>2019/06</td>\n",
       "      <td>6430.1</td>\n",
       "      <td>4547.6</td>\n",
       "      <td>4667.8</td>\n",
       "    </tr>\n",
       "    <tr>\n",
       "      <th>13</th>\n",
       "      <td>2454</td>\n",
       "      <td>聯發科</td>\n",
       "      <td>2019/09</td>\n",
       "      <td>6870.7</td>\n",
       "      <td>6199.0</td>\n",
       "      <td>6464.5</td>\n",
       "    </tr>\n",
       "    <tr>\n",
       "      <th>14</th>\n",
       "      <td>2454</td>\n",
       "      <td>聯發科</td>\n",
       "      <td>2019/12</td>\n",
       "      <td>6326.3</td>\n",
       "      <td>5537.5</td>\n",
       "      <td>5869.2</td>\n",
       "    </tr>\n",
       "    <tr>\n",
       "      <th>15</th>\n",
       "      <td>2454</td>\n",
       "      <td>聯發科</td>\n",
       "      <td>2020/03</td>\n",
       "      <td>5715.3</td>\n",
       "      <td>4767.4</td>\n",
       "      <td>4853.2</td>\n",
       "    </tr>\n",
       "    <tr>\n",
       "      <th>16</th>\n",
       "      <td>2454</td>\n",
       "      <td>聯發科</td>\n",
       "      <td>2020/06</td>\n",
       "      <td>7203.9</td>\n",
       "      <td>6428.9</td>\n",
       "      <td>6501.9</td>\n",
       "    </tr>\n",
       "    <tr>\n",
       "      <th>17</th>\n",
       "      <td>2454</td>\n",
       "      <td>聯發科</td>\n",
       "      <td>2020/09</td>\n",
       "      <td>13251.1</td>\n",
       "      <td>11130.8</td>\n",
       "      <td>12071.9</td>\n",
       "    </tr>\n",
       "    <tr>\n",
       "      <th>18</th>\n",
       "      <td>2454</td>\n",
       "      <td>聯發科</td>\n",
       "      <td>2020/12</td>\n",
       "      <td>14746.4</td>\n",
       "      <td>12286.9</td>\n",
       "      <td>12458.5</td>\n",
       "    </tr>\n",
       "    <tr>\n",
       "      <th>19</th>\n",
       "      <td>2454</td>\n",
       "      <td>聯發科</td>\n",
       "      <td>2021/03</td>\n",
       "      <td>25572.3</td>\n",
       "      <td>14846.4</td>\n",
       "      <td>14703.2</td>\n",
       "    </tr>\n",
       "    <tr>\n",
       "      <th>20</th>\n",
       "      <td>2454</td>\n",
       "      <td>聯發科</td>\n",
       "      <td>2021/06</td>\n",
       "      <td>27510.6</td>\n",
       "      <td>20351.5</td>\n",
       "      <td>21008.7</td>\n",
       "    </tr>\n",
       "    <tr>\n",
       "      <th>21</th>\n",
       "      <td>2454</td>\n",
       "      <td>聯發科</td>\n",
       "      <td>2021/09</td>\n",
       "      <td>28287.3</td>\n",
       "      <td>24967.5</td>\n",
       "      <td>25240.1</td>\n",
       "    </tr>\n",
       "    <tr>\n",
       "      <th>22</th>\n",
       "      <td>2454</td>\n",
       "      <td>聯發科</td>\n",
       "      <td>2021/12</td>\n",
       "      <td>30051.0</td>\n",
       "      <td>25119.6</td>\n",
       "      <td>25374.5</td>\n",
       "    </tr>\n",
       "    <tr>\n",
       "      <th>23</th>\n",
       "      <td>2454</td>\n",
       "      <td>聯發科</td>\n",
       "      <td>2022/03</td>\n",
       "      <td>33261.3</td>\n",
       "      <td>30714.0</td>\n",
       "      <td>31171.2</td>\n",
       "    </tr>\n",
       "    <tr>\n",
       "      <th>24</th>\n",
       "      <td>2454</td>\n",
       "      <td>聯發科</td>\n",
       "      <td>2022/06</td>\n",
       "      <td>35437.1</td>\n",
       "      <td>36423.8</td>\n",
       "      <td>35971.9</td>\n",
       "    </tr>\n",
       "    <tr>\n",
       "      <th>25</th>\n",
       "      <td>2454</td>\n",
       "      <td>聯發科</td>\n",
       "      <td>2022/09</td>\n",
       "      <td>30954.7</td>\n",
       "      <td>30107.8</td>\n",
       "      <td>29154.9</td>\n",
       "    </tr>\n",
       "  </tbody>\n",
       "</table>\n",
       "</div>"
      ],
      "text/plain": [
       "      代號   名稱      年/月     稅後淨利  forecast_roll_5  forecast_wls_roll_5\n",
       "4   2454  聯發科  2017/06   2367.9           3496.1               2738.6\n",
       "5   2454  聯發科  2017/09   5102.0           3935.3               3780.5\n",
       "6   2454  聯發科  2017/12  10160.5           3318.2               3756.2\n",
       "7   2454  聯發科  2018/03   2519.2           2123.9               1449.4\n",
       "8   2454  聯發科  2018/06   7379.5           4407.3               4315.0\n",
       "9   2454  聯發科  2018/09   6738.5           5465.3               5183.1\n",
       "10  2454  聯發科  2018/12   4123.2           5013.9               5068.6\n",
       "11  2454  聯發科  2019/03   3405.8           3477.4               3212.9\n",
       "12  2454  聯發科  2019/06   6430.1           4547.6               4667.8\n",
       "13  2454  聯發科  2019/09   6870.7           6199.0               6464.5\n",
       "14  2454  聯發科  2019/12   6326.3           5537.5               5869.2\n",
       "15  2454  聯發科  2020/03   5715.3           4767.4               4853.2\n",
       "16  2454  聯發科  2020/06   7203.9           6428.9               6501.9\n",
       "17  2454  聯發科  2020/09  13251.1          11130.8              12071.9\n",
       "18  2454  聯發科  2020/12  14746.4          12286.9              12458.5\n",
       "19  2454  聯發科  2021/03  25572.3          14846.4              14703.2\n",
       "20  2454  聯發科  2021/06  27510.6          20351.5              21008.7\n",
       "21  2454  聯發科  2021/09  28287.3          24967.5              25240.1\n",
       "22  2454  聯發科  2021/12  30051.0          25119.6              25374.5\n",
       "23  2454  聯發科  2022/03  33261.3          30714.0              31171.2\n",
       "24  2454  聯發科  2022/06  35437.1          36423.8              35971.9\n",
       "25  2454  聯發科  2022/09  30954.7          30107.8              29154.9"
      ]
     },
     "execution_count": 697,
     "metadata": {},
     "output_type": "execute_result"
    }
   ],
   "source": [
    "a.dropna().loc[:, ['代號', '名稱', '年/月', '稅後淨利', 'forecast_roll_5','forecast_wls_roll_5']]"
   ]
  },
  {
   "cell_type": "code",
   "execution_count": null,
   "id": "4d2f67a4",
   "metadata": {},
   "outputs": [],
   "source": []
  },
  {
   "cell_type": "code",
   "execution_count": null,
   "id": "d76253cb",
   "metadata": {},
   "outputs": [],
   "source": []
  },
  {
   "cell_type": "markdown",
   "id": "d72ade48",
   "metadata": {},
   "source": [
    "1. 沒有發布日期跟財報年月的都是產業或指數"
   ]
  },
  {
   "cell_type": "code",
   "execution_count": 74,
   "id": "fdda4829",
   "metadata": {
    "collapsed": true
   },
   "outputs": [
    {
     "data": {
      "text/html": [
       "<div>\n",
       "<style scoped>\n",
       "    .dataframe tbody tr th:only-of-type {\n",
       "        vertical-align: middle;\n",
       "    }\n",
       "\n",
       "    .dataframe tbody tr th {\n",
       "        vertical-align: top;\n",
       "    }\n",
       "\n",
       "    .dataframe thead th {\n",
       "        text-align: right;\n",
       "    }\n",
       "</style>\n",
       "<table border=\"1\" class=\"dataframe\">\n",
       "  <thead>\n",
       "    <tr style=\"text-align: right;\">\n",
       "      <th></th>\n",
       "      <th>st_code</th>\n",
       "      <th>st_name</th>\n",
       "      <th>month</th>\n",
       "      <th>new_industry_name</th>\n",
       "      <th>minor_industry_name</th>\n",
       "    </tr>\n",
       "  </thead>\n",
       "  <tbody>\n",
       "    <tr>\n",
       "      <th>0</th>\n",
       "      <td>2801</td>\n",
       "      <td>彰銀</td>\n",
       "      <td>31</td>\n",
       "      <td>M2800 金融業</td>\n",
       "      <td>M28A 本國銀行</td>\n",
       "    </tr>\n",
       "    <tr>\n",
       "      <th>1</th>\n",
       "      <td>2809</td>\n",
       "      <td>京城銀</td>\n",
       "      <td>31</td>\n",
       "      <td>M2800 金融業</td>\n",
       "      <td>M28A 本國銀行</td>\n",
       "    </tr>\n",
       "    <tr>\n",
       "      <th>2</th>\n",
       "      <td>2812</td>\n",
       "      <td>台中銀</td>\n",
       "      <td>31</td>\n",
       "      <td>M2800 金融業</td>\n",
       "      <td>M28A 本國銀行</td>\n",
       "    </tr>\n",
       "    <tr>\n",
       "      <th>3</th>\n",
       "      <td>2816</td>\n",
       "      <td>旺旺保</td>\n",
       "      <td>31</td>\n",
       "      <td>M2800 金融業</td>\n",
       "      <td>M28J 產險業</td>\n",
       "    </tr>\n",
       "    <tr>\n",
       "      <th>4</th>\n",
       "      <td>2820</td>\n",
       "      <td>華票</td>\n",
       "      <td>31</td>\n",
       "      <td>M2800 金融業</td>\n",
       "      <td>M28F 票券公司</td>\n",
       "    </tr>\n",
       "    <tr>\n",
       "      <th>5</th>\n",
       "      <td>2832</td>\n",
       "      <td>台產</td>\n",
       "      <td>31</td>\n",
       "      <td>M2800 金融業</td>\n",
       "      <td>M28J 產險業</td>\n",
       "    </tr>\n",
       "    <tr>\n",
       "      <th>6</th>\n",
       "      <td>2834</td>\n",
       "      <td>臺企銀</td>\n",
       "      <td>31</td>\n",
       "      <td>M2800 金融業</td>\n",
       "      <td>M28A 本國銀行</td>\n",
       "    </tr>\n",
       "    <tr>\n",
       "      <th>7</th>\n",
       "      <td>2836</td>\n",
       "      <td>高雄銀</td>\n",
       "      <td>31</td>\n",
       "      <td>M2800 金融業</td>\n",
       "      <td>M28A 本國銀行</td>\n",
       "    </tr>\n",
       "    <tr>\n",
       "      <th>8</th>\n",
       "      <td>2838</td>\n",
       "      <td>聯邦銀</td>\n",
       "      <td>31</td>\n",
       "      <td>M2800 金融業</td>\n",
       "      <td>M28A 本國銀行</td>\n",
       "    </tr>\n",
       "    <tr>\n",
       "      <th>9</th>\n",
       "      <td>2845</td>\n",
       "      <td>遠東銀</td>\n",
       "      <td>31</td>\n",
       "      <td>M2800 金融業</td>\n",
       "      <td>M28A 本國銀行</td>\n",
       "    </tr>\n",
       "    <tr>\n",
       "      <th>10</th>\n",
       "      <td>2849</td>\n",
       "      <td>安泰銀</td>\n",
       "      <td>31</td>\n",
       "      <td>M2800 金融業</td>\n",
       "      <td>M28A 本國銀行</td>\n",
       "    </tr>\n",
       "    <tr>\n",
       "      <th>11</th>\n",
       "      <td>2850</td>\n",
       "      <td>新產</td>\n",
       "      <td>31</td>\n",
       "      <td>M2800 金融業</td>\n",
       "      <td>M28J 產險業</td>\n",
       "    </tr>\n",
       "    <tr>\n",
       "      <th>12</th>\n",
       "      <td>2851</td>\n",
       "      <td>中再保</td>\n",
       "      <td>31</td>\n",
       "      <td>M2800 金融業</td>\n",
       "      <td>M28J 產險業</td>\n",
       "    </tr>\n",
       "    <tr>\n",
       "      <th>13</th>\n",
       "      <td>2852</td>\n",
       "      <td>第一保</td>\n",
       "      <td>31</td>\n",
       "      <td>M2800 金融業</td>\n",
       "      <td>M28J 產險業</td>\n",
       "    </tr>\n",
       "    <tr>\n",
       "      <th>14</th>\n",
       "      <td>2855</td>\n",
       "      <td>統一證</td>\n",
       "      <td>31</td>\n",
       "      <td>M2800 金融業</td>\n",
       "      <td>M30A 證券</td>\n",
       "    </tr>\n",
       "    <tr>\n",
       "      <th>15</th>\n",
       "      <td>2867</td>\n",
       "      <td>三商壽</td>\n",
       "      <td>31</td>\n",
       "      <td>M2800 金融業</td>\n",
       "      <td>M28I 壽險業</td>\n",
       "    </tr>\n",
       "    <tr>\n",
       "      <th>16</th>\n",
       "      <td>2880</td>\n",
       "      <td>華南金</td>\n",
       "      <td>31</td>\n",
       "      <td>M2800 金融業</td>\n",
       "      <td>M28L 金融控股</td>\n",
       "    </tr>\n",
       "    <tr>\n",
       "      <th>17</th>\n",
       "      <td>2881</td>\n",
       "      <td>富邦金</td>\n",
       "      <td>31</td>\n",
       "      <td>M2800 金融業</td>\n",
       "      <td>M28L 金融控股</td>\n",
       "    </tr>\n",
       "    <tr>\n",
       "      <th>18</th>\n",
       "      <td>2882</td>\n",
       "      <td>國泰金</td>\n",
       "      <td>31</td>\n",
       "      <td>M2800 金融業</td>\n",
       "      <td>M28L 金融控股</td>\n",
       "    </tr>\n",
       "    <tr>\n",
       "      <th>19</th>\n",
       "      <td>2883</td>\n",
       "      <td>開發金</td>\n",
       "      <td>31</td>\n",
       "      <td>M2800 金融業</td>\n",
       "      <td>M28L 金融控股</td>\n",
       "    </tr>\n",
       "    <tr>\n",
       "      <th>20</th>\n",
       "      <td>2884</td>\n",
       "      <td>玉山金</td>\n",
       "      <td>31</td>\n",
       "      <td>M2800 金融業</td>\n",
       "      <td>M28L 金融控股</td>\n",
       "    </tr>\n",
       "    <tr>\n",
       "      <th>21</th>\n",
       "      <td>2885</td>\n",
       "      <td>元大金</td>\n",
       "      <td>31</td>\n",
       "      <td>M2800 金融業</td>\n",
       "      <td>M28L 金融控股</td>\n",
       "    </tr>\n",
       "    <tr>\n",
       "      <th>22</th>\n",
       "      <td>2886</td>\n",
       "      <td>兆豐金</td>\n",
       "      <td>31</td>\n",
       "      <td>M2800 金融業</td>\n",
       "      <td>M28L 金融控股</td>\n",
       "    </tr>\n",
       "    <tr>\n",
       "      <th>23</th>\n",
       "      <td>2887</td>\n",
       "      <td>台新金</td>\n",
       "      <td>31</td>\n",
       "      <td>M2800 金融業</td>\n",
       "      <td>M28L 金融控股</td>\n",
       "    </tr>\n",
       "    <tr>\n",
       "      <th>24</th>\n",
       "      <td>2888</td>\n",
       "      <td>新光金</td>\n",
       "      <td>31</td>\n",
       "      <td>M2800 金融業</td>\n",
       "      <td>M28L 金融控股</td>\n",
       "    </tr>\n",
       "    <tr>\n",
       "      <th>25</th>\n",
       "      <td>2889</td>\n",
       "      <td>國票金</td>\n",
       "      <td>31</td>\n",
       "      <td>M2800 金融業</td>\n",
       "      <td>M28L 金融控股</td>\n",
       "    </tr>\n",
       "    <tr>\n",
       "      <th>26</th>\n",
       "      <td>2890</td>\n",
       "      <td>永豐金</td>\n",
       "      <td>31</td>\n",
       "      <td>M2800 金融業</td>\n",
       "      <td>M28L 金融控股</td>\n",
       "    </tr>\n",
       "    <tr>\n",
       "      <th>27</th>\n",
       "      <td>2891</td>\n",
       "      <td>中信金</td>\n",
       "      <td>31</td>\n",
       "      <td>M2800 金融業</td>\n",
       "      <td>M28L 金融控股</td>\n",
       "    </tr>\n",
       "    <tr>\n",
       "      <th>28</th>\n",
       "      <td>2892</td>\n",
       "      <td>第一金</td>\n",
       "      <td>31</td>\n",
       "      <td>M2800 金融業</td>\n",
       "      <td>M28L 金融控股</td>\n",
       "    </tr>\n",
       "    <tr>\n",
       "      <th>29</th>\n",
       "      <td>2897</td>\n",
       "      <td>王道銀行</td>\n",
       "      <td>30</td>\n",
       "      <td>M2800 金融業</td>\n",
       "      <td>M28A 本國銀行</td>\n",
       "    </tr>\n",
       "    <tr>\n",
       "      <th>30</th>\n",
       "      <td>5864</td>\n",
       "      <td>致和證</td>\n",
       "      <td>28</td>\n",
       "      <td>M2800 金融業</td>\n",
       "      <td>M30A 證券</td>\n",
       "    </tr>\n",
       "    <tr>\n",
       "      <th>31</th>\n",
       "      <td>5876</td>\n",
       "      <td>上海商銀</td>\n",
       "      <td>27</td>\n",
       "      <td>M2800 金融業</td>\n",
       "      <td>M28A 本國銀行</td>\n",
       "    </tr>\n",
       "    <tr>\n",
       "      <th>32</th>\n",
       "      <td>5880</td>\n",
       "      <td>合庫金</td>\n",
       "      <td>31</td>\n",
       "      <td>M2800 金融業</td>\n",
       "      <td>M28L 金融控股</td>\n",
       "    </tr>\n",
       "    <tr>\n",
       "      <th>33</th>\n",
       "      <td>6005</td>\n",
       "      <td>群益證</td>\n",
       "      <td>31</td>\n",
       "      <td>M2800 金融業</td>\n",
       "      <td>M30A 證券</td>\n",
       "    </tr>\n",
       "    <tr>\n",
       "      <th>34</th>\n",
       "      <td>6015</td>\n",
       "      <td>宏遠證</td>\n",
       "      <td>31</td>\n",
       "      <td>M2800 金融業</td>\n",
       "      <td>M30A 證券</td>\n",
       "    </tr>\n",
       "    <tr>\n",
       "      <th>35</th>\n",
       "      <td>6016</td>\n",
       "      <td>康和證</td>\n",
       "      <td>31</td>\n",
       "      <td>M2800 金融業</td>\n",
       "      <td>M30A 證券</td>\n",
       "    </tr>\n",
       "    <tr>\n",
       "      <th>36</th>\n",
       "      <td>6020</td>\n",
       "      <td>大展證</td>\n",
       "      <td>31</td>\n",
       "      <td>M2800 金融業</td>\n",
       "      <td>M30A 證券</td>\n",
       "    </tr>\n",
       "    <tr>\n",
       "      <th>37</th>\n",
       "      <td>6023</td>\n",
       "      <td>元大期</td>\n",
       "      <td>31</td>\n",
       "      <td>M2800 金融業</td>\n",
       "      <td>M30C 期貨</td>\n",
       "    </tr>\n",
       "    <tr>\n",
       "      <th>38</th>\n",
       "      <td>6024</td>\n",
       "      <td>群益期</td>\n",
       "      <td>31</td>\n",
       "      <td>M2800 金融業</td>\n",
       "      <td>M30C 期貨</td>\n",
       "    </tr>\n",
       "    <tr>\n",
       "      <th>39</th>\n",
       "      <td>6026</td>\n",
       "      <td>福邦證</td>\n",
       "      <td>31</td>\n",
       "      <td>M2800 金融業</td>\n",
       "      <td>M30A 證券</td>\n",
       "    </tr>\n",
       "  </tbody>\n",
       "</table>\n",
       "</div>"
      ],
      "text/plain": [
       "   st_code st_name  month new_industry_name minor_industry_name\n",
       "0     2801      彰銀     31         M2800 金融業           M28A 本國銀行\n",
       "1     2809     京城銀     31         M2800 金融業           M28A 本國銀行\n",
       "2     2812     台中銀     31         M2800 金融業           M28A 本國銀行\n",
       "3     2816     旺旺保     31         M2800 金融業            M28J 產險業\n",
       "4     2820      華票     31         M2800 金融業           M28F 票券公司\n",
       "5     2832      台產     31         M2800 金融業            M28J 產險業\n",
       "6     2834     臺企銀     31         M2800 金融業           M28A 本國銀行\n",
       "7     2836     高雄銀     31         M2800 金融業           M28A 本國銀行\n",
       "8     2838     聯邦銀     31         M2800 金融業           M28A 本國銀行\n",
       "9     2845     遠東銀     31         M2800 金融業           M28A 本國銀行\n",
       "10    2849     安泰銀     31         M2800 金融業           M28A 本國銀行\n",
       "11    2850      新產     31         M2800 金融業            M28J 產險業\n",
       "12    2851     中再保     31         M2800 金融業            M28J 產險業\n",
       "13    2852     第一保     31         M2800 金融業            M28J 產險業\n",
       "14    2855     統一證     31         M2800 金融業             M30A 證券\n",
       "15    2867     三商壽     31         M2800 金融業            M28I 壽險業\n",
       "16    2880     華南金     31         M2800 金融業           M28L 金融控股\n",
       "17    2881     富邦金     31         M2800 金融業           M28L 金融控股\n",
       "18    2882     國泰金     31         M2800 金融業           M28L 金融控股\n",
       "19    2883     開發金     31         M2800 金融業           M28L 金融控股\n",
       "20    2884     玉山金     31         M2800 金融業           M28L 金融控股\n",
       "21    2885     元大金     31         M2800 金融業           M28L 金融控股\n",
       "22    2886     兆豐金     31         M2800 金融業           M28L 金融控股\n",
       "23    2887     台新金     31         M2800 金融業           M28L 金融控股\n",
       "24    2888     新光金     31         M2800 金融業           M28L 金融控股\n",
       "25    2889     國票金     31         M2800 金融業           M28L 金融控股\n",
       "26    2890     永豐金     31         M2800 金融業           M28L 金融控股\n",
       "27    2891     中信金     31         M2800 金融業           M28L 金融控股\n",
       "28    2892     第一金     31         M2800 金融業           M28L 金融控股\n",
       "29    2897    王道銀行     30         M2800 金融業           M28A 本國銀行\n",
       "30    5864     致和證     28         M2800 金融業             M30A 證券\n",
       "31    5876    上海商銀     27         M2800 金融業           M28A 本國銀行\n",
       "32    5880     合庫金     31         M2800 金融業           M28L 金融控股\n",
       "33    6005     群益證     31         M2800 金融業             M30A 證券\n",
       "34    6015     宏遠證     31         M2800 金融業             M30A 證券\n",
       "35    6016     康和證     31         M2800 金融業             M30A 證券\n",
       "36    6020     大展證     31         M2800 金融業             M30A 證券\n",
       "37    6023     元大期     31         M2800 金融業             M30C 期貨\n",
       "38    6024     群益期     31         M2800 金融業             M30C 期貨\n",
       "39    6026     福邦證     31         M2800 金融業             M30A 證券"
      ]
     },
     "execution_count": 74,
     "metadata": {},
     "output_type": "execute_result"
    }
   ],
   "source": [
    "\"\"\"\n",
    "資料有缺漏的個股\n",
    "\"\"\"\n",
    "data = df[df['財報年月起日'].isna() != True]\n",
    "data[data.cost.isna() == True].groupby(['period'], as_index=False).agg({'month':'count'})\n",
    "\n",
    "stock_info = pd.read_csv('stock_info.csv')\n",
    "stock_info.st_code = stock_info.st_code.astype(str)\n",
    "pd.merge(data[data.cost.isna() == True].groupby(['st_code', 'st_name'], as_index=False).agg({'month':'count'}), \n",
    "         stock_info, on=['st_code', 'st_name'], how='inner')"
   ]
  },
  {
   "cell_type": "code",
   "execution_count": 138,
   "id": "e5b9cc76",
   "metadata": {},
   "outputs": [],
   "source": [
    "def get_reg(a):\n",
    "    lm = LinearRegression()\n",
    "    lm.fit(np.array(data.tail(5)['rev']).reshape(-1, 1), np.array(data.tail(5)['margin']))\n",
    "    intercept = round(lm.intercept_, 4)\n",
    "    coef = lm.coef_[0]\n",
    "    return pd.DataFrame([intercept, coef])\n",
    "\n",
    "def get_wet_reg(a):\n",
    "    a = a.tail(5)\n",
    "    sample_weight = [1, 1, 2, 3, 5]\n",
    "    lm = LinearRegression()\n",
    "    lm.fit(np.array(data.tail(5)['rev']).reshape(-1, 1), np.array(data.tail(5)['margin']), sample_weight)\n",
    "    intercept = round(lm.intercept_, 4)\n",
    "    coef = lm.coef_[0]\n",
    "    return pd.DataFrame([intercept, coef])\n",
    "\n",
    "\n",
    "# 業外損益\n",
    "def get_non_operating(yoy):\n",
    "    predict = pd.DataFrame()\n",
    "    predict['avg_non_operating'] = (yoy.single_non_operate.sum() - yoy.single_non_operate.max() - yoy.single_non_operate.min())/3\n",
    "    return avg_non_operating"
   ]
  },
  {
   "cell_type": "code",
   "execution_count": 279,
   "id": "9d8428ed",
   "metadata": {},
   "outputs": [],
   "source": [
    "df = pd.read_excel('tej_eps.xlsx')\n",
    "df = df.set_axis(['st_code', 'st_name', 'period', 'quarter', 'month', 'Q/H(Half year)', 'declaration_date', \n",
    "                  '財報年月起日','財報年月迄日', 'rev', 'cost', 'margin', 'expense', 'other_pnl', '營業利益',\n",
    "                  'non_operating', 'ebit', 'tax_exp', 'OCI', 'ttl_comp_income', 'eps'], axis=1)\n",
    "# stock_outstanding = pd.read_excel('/Users/yuchun/Downloads/在外流通率.xlsx')\n",
    "# stock_outstanding = stock_outstanding.rename({'代號':'st_code', '名稱':'st_name', '年月':'period', '流通在外股數(千股)':'outstanding_stock'}, axis=1)\n",
    "# df.loc[:['rev', 'cost', 'margin', 'expense', 'other_pnl', '營業利益','non_operating', 'ebit', 'tax_exp', 'OCI', 'ttl_comp_income', 'eps'])\n",
    "# df['expense%'] = round(df.expense / df.rev, 3)\n",
    "# df['outstanding_stock'] = round(df.ttl_comp_income/df.eps)\n",
    "# data = df[(df.margin.isna() != True) & (df.st_code =='1101')]\n",
    "# data\n",
    "# pd.merge(data, stock_outstanding, on=['st_code','st_name', 'period'], how='inner')\n"
   ]
  },
  {
   "cell_type": "markdown",
   "id": "a4446fcd",
   "metadata": {},
   "source": [
    "#### 純數字"
   ]
  },
  {
   "cell_type": "code",
   "execution_count": 281,
   "id": "8cd5af53",
   "metadata": {
    "scrolled": false
   },
   "outputs": [
    {
     "data": {
      "text/html": [
       "<div>\n",
       "<style scoped>\n",
       "    .dataframe tbody tr th:only-of-type {\n",
       "        vertical-align: middle;\n",
       "    }\n",
       "\n",
       "    .dataframe tbody tr th {\n",
       "        vertical-align: top;\n",
       "    }\n",
       "\n",
       "    .dataframe thead th {\n",
       "        text-align: right;\n",
       "    }\n",
       "</style>\n",
       "<table border=\"1\" class=\"dataframe\">\n",
       "  <thead>\n",
       "    <tr style=\"text-align: right;\">\n",
       "      <th></th>\n",
       "      <th>st_code</th>\n",
       "      <th>st_name</th>\n",
       "      <th>period</th>\n",
       "      <th>rev</th>\n",
       "      <th>cost</th>\n",
       "      <th>margin</th>\n",
       "      <th>ttl_comp_income</th>\n",
       "      <th>eps</th>\n",
       "      <th>fixed cost</th>\n",
       "      <th>variable cost</th>\n",
       "      <th>avg_expense</th>\n",
       "      <th>avg_non_operating</th>\n",
       "      <th>avg_OCI</th>\n",
       "      <th>est_margin</th>\n",
       "      <th>error</th>\n",
       "      <th>predict_ttl</th>\n",
       "      <th>predict_eps</th>\n",
       "      <th>predict_error</th>\n",
       "    </tr>\n",
       "  </thead>\n",
       "  <tbody>\n",
       "    <tr>\n",
       "      <th>352</th>\n",
       "      <td>2412</td>\n",
       "      <td>中華電</td>\n",
       "      <td>2015/06</td>\n",
       "      <td>56920593.0</td>\n",
       "      <td>35710904.0</td>\n",
       "      <td>21209689.0</td>\n",
       "      <td>10544420.0</td>\n",
       "      <td>1.44</td>\n",
       "      <td>NaN</td>\n",
       "      <td>NaN</td>\n",
       "      <td>NaN</td>\n",
       "      <td>NaN</td>\n",
       "      <td>NaN</td>\n",
       "      <td>NaN</td>\n",
       "      <td>NaN</td>\n",
       "      <td>NaN</td>\n",
       "      <td>NaN</td>\n",
       "      <td>NaN</td>\n",
       "    </tr>\n",
       "    <tr>\n",
       "      <th>1962</th>\n",
       "      <td>2412</td>\n",
       "      <td>中華電</td>\n",
       "      <td>2015/09</td>\n",
       "      <td>56177648.0</td>\n",
       "      <td>33894856.0</td>\n",
       "      <td>22282792.0</td>\n",
       "      <td>11697787.0</td>\n",
       "      <td>1.52</td>\n",
       "      <td>NaN</td>\n",
       "      <td>NaN</td>\n",
       "      <td>NaN</td>\n",
       "      <td>NaN</td>\n",
       "      <td>NaN</td>\n",
       "      <td>NaN</td>\n",
       "      <td>NaN</td>\n",
       "      <td>NaN</td>\n",
       "      <td>NaN</td>\n",
       "      <td>NaN</td>\n",
       "    </tr>\n",
       "    <tr>\n",
       "      <th>3669</th>\n",
       "      <td>2412</td>\n",
       "      <td>中華電</td>\n",
       "      <td>2015/12</td>\n",
       "      <td>62224056.0</td>\n",
       "      <td>41824572.0</td>\n",
       "      <td>20399484.0</td>\n",
       "      <td>9624222.0</td>\n",
       "      <td>1.22</td>\n",
       "      <td>NaN</td>\n",
       "      <td>NaN</td>\n",
       "      <td>NaN</td>\n",
       "      <td>NaN</td>\n",
       "      <td>NaN</td>\n",
       "      <td>NaN</td>\n",
       "      <td>NaN</td>\n",
       "      <td>NaN</td>\n",
       "      <td>NaN</td>\n",
       "      <td>NaN</td>\n",
       "    </tr>\n",
       "    <tr>\n",
       "      <th>5294</th>\n",
       "      <td>2412</td>\n",
       "      <td>中華電</td>\n",
       "      <td>2016/03</td>\n",
       "      <td>56944156.0</td>\n",
       "      <td>35105652.0</td>\n",
       "      <td>21838504.0</td>\n",
       "      <td>11718513.0</td>\n",
       "      <td>1.50</td>\n",
       "      <td>NaN</td>\n",
       "      <td>NaN</td>\n",
       "      <td>NaN</td>\n",
       "      <td>NaN</td>\n",
       "      <td>NaN</td>\n",
       "      <td>NaN</td>\n",
       "      <td>NaN</td>\n",
       "      <td>NaN</td>\n",
       "      <td>NaN</td>\n",
       "      <td>NaN</td>\n",
       "    </tr>\n",
       "    <tr>\n",
       "      <th>7004</th>\n",
       "      <td>2412</td>\n",
       "      <td>中華電</td>\n",
       "      <td>2016/06</td>\n",
       "      <td>56195429.0</td>\n",
       "      <td>35253226.0</td>\n",
       "      <td>20942203.0</td>\n",
       "      <td>10840073.0</td>\n",
       "      <td>1.43</td>\n",
       "      <td>30152628.91</td>\n",
       "      <td>-0.16</td>\n",
       "      <td>8250236.8</td>\n",
       "      <td>392175.33</td>\n",
       "      <td>-206909.33</td>\n",
       "      <td>21161360.27</td>\n",
       "      <td>219157.27</td>\n",
       "      <td>10435729.71</td>\n",
       "      <td>10435729.71</td>\n",
       "      <td>-404343.29</td>\n",
       "    </tr>\n",
       "    <tr>\n",
       "      <th>8646</th>\n",
       "      <td>2412</td>\n",
       "      <td>中華電</td>\n",
       "      <td>2016/09</td>\n",
       "      <td>58517979.0</td>\n",
       "      <td>38515425.0</td>\n",
       "      <td>20002554.0</td>\n",
       "      <td>9697215.0</td>\n",
       "      <td>1.23</td>\n",
       "      <td>33140844.80</td>\n",
       "      <td>-0.20</td>\n",
       "      <td>8268819.0</td>\n",
       "      <td>392175.33</td>\n",
       "      <td>-323907.67</td>\n",
       "      <td>21437249.00</td>\n",
       "      <td>1434695.00</td>\n",
       "      <td>10524576.59</td>\n",
       "      <td>10524576.59</td>\n",
       "      <td>827361.59</td>\n",
       "    </tr>\n",
       "    <tr>\n",
       "      <th>10384</th>\n",
       "      <td>2412</td>\n",
       "      <td>中華電</td>\n",
       "      <td>2016/12</td>\n",
       "      <td>58333864.0</td>\n",
       "      <td>38677491.0</td>\n",
       "      <td>19656373.0</td>\n",
       "      <td>6917978.0</td>\n",
       "      <td>1.00</td>\n",
       "      <td>34982041.33</td>\n",
       "      <td>-0.24</td>\n",
       "      <td>8369581.4</td>\n",
       "      <td>404296.67</td>\n",
       "      <td>-233270.67</td>\n",
       "      <td>20981913.97</td>\n",
       "      <td>1325540.97</td>\n",
       "      <td>10180032.72</td>\n",
       "      <td>10180032.72</td>\n",
       "      <td>3262054.72</td>\n",
       "    </tr>\n",
       "    <tr>\n",
       "      <th>12051</th>\n",
       "      <td>2412</td>\n",
       "      <td>中華電</td>\n",
       "      <td>2017/03</td>\n",
       "      <td>54533400.0</td>\n",
       "      <td>34620763.0</td>\n",
       "      <td>19912637.0</td>\n",
       "      <td>9953026.0</td>\n",
       "      <td>1.24</td>\n",
       "      <td>29560371.82</td>\n",
       "      <td>-0.15</td>\n",
       "      <td>8575395.4</td>\n",
       "      <td>404296.67</td>\n",
       "      <td>-307644.67</td>\n",
       "      <td>21380361.82</td>\n",
       "      <td>1467724.82</td>\n",
       "      <td>10259765.80</td>\n",
       "      <td>10259765.80</td>\n",
       "      <td>306739.80</td>\n",
       "    </tr>\n",
       "    <tr>\n",
       "      <th>13793</th>\n",
       "      <td>2412</td>\n",
       "      <td>中華電</td>\n",
       "      <td>2017/06</td>\n",
       "      <td>55671141.0</td>\n",
       "      <td>35077964.0</td>\n",
       "      <td>20593177.0</td>\n",
       "      <td>10454748.0</td>\n",
       "      <td>1.35</td>\n",
       "      <td>25098641.22</td>\n",
       "      <td>-0.08</td>\n",
       "      <td>8440984.4</td>\n",
       "      <td>385141.33</td>\n",
       "      <td>-307644.67</td>\n",
       "      <td>20644949.94</td>\n",
       "      <td>51772.94</td>\n",
       "      <td>9763640.83</td>\n",
       "      <td>9763640.83</td>\n",
       "      <td>-691107.17</td>\n",
       "    </tr>\n",
       "    <tr>\n",
       "      <th>15489</th>\n",
       "      <td>2412</td>\n",
       "      <td>中華電</td>\n",
       "      <td>2017/09</td>\n",
       "      <td>56424903.0</td>\n",
       "      <td>35655368.0</td>\n",
       "      <td>20769535.0</td>\n",
       "      <td>11053049.0</td>\n",
       "      <td>1.31</td>\n",
       "      <td>26839248.79</td>\n",
       "      <td>-0.12</td>\n",
       "      <td>8485075.8</td>\n",
       "      <td>402977.00</td>\n",
       "      <td>-345834.67</td>\n",
       "      <td>20068260.43</td>\n",
       "      <td>-701274.57</td>\n",
       "      <td>9243094.63</td>\n",
       "      <td>9243094.63</td>\n",
       "      <td>-1809954.37</td>\n",
       "    </tr>\n",
       "    <tr>\n",
       "      <th>17264</th>\n",
       "      <td>2412</td>\n",
       "      <td>中華電</td>\n",
       "      <td>2017/12</td>\n",
       "      <td>60884739.0</td>\n",
       "      <td>41483388.0</td>\n",
       "      <td>19401351.0</td>\n",
       "      <td>7276252.0</td>\n",
       "      <td>1.12</td>\n",
       "      <td>25883977.89</td>\n",
       "      <td>-0.10</td>\n",
       "      <td>8541148.0</td>\n",
       "      <td>273591.67</td>\n",
       "      <td>-144970.00</td>\n",
       "      <td>19795503.99</td>\n",
       "      <td>394152.99</td>\n",
       "      <td>9077388.13</td>\n",
       "      <td>9077388.13</td>\n",
       "      <td>1801136.13</td>\n",
       "    </tr>\n",
       "    <tr>\n",
       "      <th>18979</th>\n",
       "      <td>2412</td>\n",
       "      <td>中華電</td>\n",
       "      <td>2018/03</td>\n",
       "      <td>53632358.0</td>\n",
       "      <td>34450367.0</td>\n",
       "      <td>19181991.0</td>\n",
       "      <td>8920449.0</td>\n",
       "      <td>1.13</td>\n",
       "      <td>28916721.96</td>\n",
       "      <td>-0.15</td>\n",
       "      <td>8620213.0</td>\n",
       "      <td>246692.33</td>\n",
       "      <td>-449023.00</td>\n",
       "      <td>20871868.26</td>\n",
       "      <td>1689877.26</td>\n",
       "      <td>9549655.07</td>\n",
       "      <td>9549655.07</td>\n",
       "      <td>629206.07</td>\n",
       "    </tr>\n",
       "    <tr>\n",
       "      <th>20755</th>\n",
       "      <td>2412</td>\n",
       "      <td>中華電</td>\n",
       "      <td>2018/06</td>\n",
       "      <td>53658359.0</td>\n",
       "      <td>33192438.0</td>\n",
       "      <td>20465921.0</td>\n",
       "      <td>9729685.0</td>\n",
       "      <td>1.27</td>\n",
       "      <td>21206841.54</td>\n",
       "      <td>-0.02</td>\n",
       "      <td>8407310.8</td>\n",
       "      <td>246692.33</td>\n",
       "      <td>-96950.67</td>\n",
       "      <td>20133674.36</td>\n",
       "      <td>-332246.64</td>\n",
       "      <td>9481494.04</td>\n",
       "      <td>9481494.04</td>\n",
       "      <td>-248190.96</td>\n",
       "    </tr>\n",
       "    <tr>\n",
       "      <th>22486</th>\n",
       "      <td>2412</td>\n",
       "      <td>中華電</td>\n",
       "      <td>2018/09</td>\n",
       "      <td>52704885.0</td>\n",
       "      <td>34431469.0</td>\n",
       "      <td>18273416.0</td>\n",
       "      <td>8572168.0</td>\n",
       "      <td>1.10</td>\n",
       "      <td>23215789.47</td>\n",
       "      <td>-0.06</td>\n",
       "      <td>8414559.6</td>\n",
       "      <td>317146.00</td>\n",
       "      <td>-244707.33</td>\n",
       "      <td>20053496.37</td>\n",
       "      <td>1780080.37</td>\n",
       "      <td>9320158.89</td>\n",
       "      <td>9320158.89</td>\n",
       "      <td>747990.89</td>\n",
       "    </tr>\n",
       "    <tr>\n",
       "      <th>24289</th>\n",
       "      <td>2412</td>\n",
       "      <td>中華電</td>\n",
       "      <td>2018/12</td>\n",
       "      <td>55487556.0</td>\n",
       "      <td>37471183.0</td>\n",
       "      <td>18016373.0</td>\n",
       "      <td>8219416.0</td>\n",
       "      <td>1.08</td>\n",
       "      <td>15995122.25</td>\n",
       "      <td>0.07</td>\n",
       "      <td>8330307.4</td>\n",
       "      <td>305959.33</td>\n",
       "      <td>-186954.33</td>\n",
       "      <td>19879251.17</td>\n",
       "      <td>1862878.17</td>\n",
       "      <td>9296968.15</td>\n",
       "      <td>9296968.15</td>\n",
       "      <td>1077552.15</td>\n",
       "    </tr>\n",
       "    <tr>\n",
       "      <th>26036</th>\n",
       "      <td>2412</td>\n",
       "      <td>中華電</td>\n",
       "      <td>2019/03</td>\n",
       "      <td>51331161.0</td>\n",
       "      <td>33480788.0</td>\n",
       "      <td>17850373.0</td>\n",
       "      <td>8387637.0</td>\n",
       "      <td>1.08</td>\n",
       "      <td>17487843.98</td>\n",
       "      <td>0.03</td>\n",
       "      <td>8260259.6</td>\n",
       "      <td>341925.33</td>\n",
       "      <td>-312466.00</td>\n",
       "      <td>19027778.81</td>\n",
       "      <td>1177405.81</td>\n",
       "      <td>8575089.63</td>\n",
       "      <td>8575089.63</td>\n",
       "      <td>187452.63</td>\n",
       "    </tr>\n",
       "    <tr>\n",
       "      <th>27844</th>\n",
       "      <td>2412</td>\n",
       "      <td>中華電</td>\n",
       "      <td>2019/06</td>\n",
       "      <td>50108175.0</td>\n",
       "      <td>32267298.0</td>\n",
       "      <td>17840877.0</td>\n",
       "      <td>8676231.0</td>\n",
       "      <td>1.10</td>\n",
       "      <td>11788436.47</td>\n",
       "      <td>0.13</td>\n",
       "      <td>7969709.6</td>\n",
       "      <td>286833.67</td>\n",
       "      <td>-207628.00</td>\n",
       "      <td>18302499.22</td>\n",
       "      <td>461622.22</td>\n",
       "      <td>8288070.63</td>\n",
       "      <td>8288070.63</td>\n",
       "      <td>-388160.37</td>\n",
       "    </tr>\n",
       "    <tr>\n",
       "      <th>29606</th>\n",
       "      <td>2412</td>\n",
       "      <td>中華電</td>\n",
       "      <td>2019/09</td>\n",
       "      <td>50848160.0</td>\n",
       "      <td>33019129.0</td>\n",
       "      <td>17829031.0</td>\n",
       "      <td>8235767.0</td>\n",
       "      <td>1.04</td>\n",
       "      <td>8946007.76</td>\n",
       "      <td>0.18</td>\n",
       "      <td>7842693.0</td>\n",
       "      <td>393942.67</td>\n",
       "      <td>-207628.00</td>\n",
       "      <td>18098676.56</td>\n",
       "      <td>269645.56</td>\n",
       "      <td>8312312.98</td>\n",
       "      <td>8312312.98</td>\n",
       "      <td>76545.98</td>\n",
       "    </tr>\n",
       "    <tr>\n",
       "      <th>31432</th>\n",
       "      <td>2412</td>\n",
       "      <td>中華電</td>\n",
       "      <td>2019/12</td>\n",
       "      <td>55232565.0</td>\n",
       "      <td>37185325.0</td>\n",
       "      <td>18047240.0</td>\n",
       "      <td>9906814.0</td>\n",
       "      <td>1.00</td>\n",
       "      <td>15450720.98</td>\n",
       "      <td>0.05</td>\n",
       "      <td>7722086.2</td>\n",
       "      <td>381594.67</td>\n",
       "      <td>-166470.67</td>\n",
       "      <td>18212349.23</td>\n",
       "      <td>165109.23</td>\n",
       "      <td>8531015.49</td>\n",
       "      <td>8531015.49</td>\n",
       "      <td>-1375798.51</td>\n",
       "    </tr>\n",
       "    <tr>\n",
       "      <th>33204</th>\n",
       "      <td>2412</td>\n",
       "      <td>中華電</td>\n",
       "      <td>2020/03</td>\n",
       "      <td>48149999.0</td>\n",
       "      <td>30390800.0</td>\n",
       "      <td>17759199.0</td>\n",
       "      <td>7134882.0</td>\n",
       "      <td>1.07</td>\n",
       "      <td>15788815.46</td>\n",
       "      <td>0.04</td>\n",
       "      <td>7756050.4</td>\n",
       "      <td>281284.33</td>\n",
       "      <td>-143190.33</td>\n",
       "      <td>17714815.42</td>\n",
       "      <td>-44383.58</td>\n",
       "      <td>8048849.15</td>\n",
       "      <td>8048849.15</td>\n",
       "      <td>913967.15</td>\n",
       "    </tr>\n",
       "    <tr>\n",
       "      <th>35033</th>\n",
       "      <td>2412</td>\n",
       "      <td>中華電</td>\n",
       "      <td>2020/06</td>\n",
       "      <td>47807864.0</td>\n",
       "      <td>29801214.0</td>\n",
       "      <td>18006650.0</td>\n",
       "      <td>9741971.0</td>\n",
       "      <td>1.11</td>\n",
       "      <td>15782386.35</td>\n",
       "      <td>0.04</td>\n",
       "      <td>7604546.4</td>\n",
       "      <td>230452.33</td>\n",
       "      <td>-143190.33</td>\n",
       "      <td>17694700.91</td>\n",
       "      <td>-311949.09</td>\n",
       "      <td>8113295.14</td>\n",
       "      <td>8113295.14</td>\n",
       "      <td>-1628675.86</td>\n",
       "    </tr>\n",
       "    <tr>\n",
       "      <th>36825</th>\n",
       "      <td>2412</td>\n",
       "      <td>中華電</td>\n",
       "      <td>2020/09</td>\n",
       "      <td>52171326.0</td>\n",
       "      <td>34505914.0</td>\n",
       "      <td>17665412.0</td>\n",
       "      <td>9393394.0</td>\n",
       "      <td>1.07</td>\n",
       "      <td>16846002.50</td>\n",
       "      <td>0.02</td>\n",
       "      <td>7592611.4</td>\n",
       "      <td>293520.00</td>\n",
       "      <td>199496.67</td>\n",
       "      <td>17889429.02</td>\n",
       "      <td>224017.02</td>\n",
       "      <td>8671766.77</td>\n",
       "      <td>8671766.77</td>\n",
       "      <td>-721627.23</td>\n",
       "    </tr>\n",
       "    <tr>\n",
       "      <th>38666</th>\n",
       "      <td>2412</td>\n",
       "      <td>中華電</td>\n",
       "      <td>2020/12</td>\n",
       "      <td>59479809.0</td>\n",
       "      <td>42330924.0</td>\n",
       "      <td>17148885.0</td>\n",
       "      <td>9610212.0</td>\n",
       "      <td>1.06</td>\n",
       "      <td>17333212.39</td>\n",
       "      <td>0.01</td>\n",
       "      <td>7531972.4</td>\n",
       "      <td>185492.33</td>\n",
       "      <td>452124.67</td>\n",
       "      <td>17928010.48</td>\n",
       "      <td>779125.48</td>\n",
       "      <td>8917349.00</td>\n",
       "      <td>8917349.00</td>\n",
       "      <td>-692863.00</td>\n",
       "    </tr>\n",
       "    <tr>\n",
       "      <th>40481</th>\n",
       "      <td>2412</td>\n",
       "      <td>中華電</td>\n",
       "      <td>2021/03</td>\n",
       "      <td>50100995.0</td>\n",
       "      <td>31892915.0</td>\n",
       "      <td>18208080.0</td>\n",
       "      <td>8135554.0</td>\n",
       "      <td>1.14</td>\n",
       "      <td>20208484.87</td>\n",
       "      <td>-0.05</td>\n",
       "      <td>7566284.0</td>\n",
       "      <td>97987.33</td>\n",
       "      <td>862466.00</td>\n",
       "      <td>17703435.12</td>\n",
       "      <td>-504644.88</td>\n",
       "      <td>9050576.76</td>\n",
       "      <td>9050576.76</td>\n",
       "      <td>915022.76</td>\n",
       "    </tr>\n",
       "    <tr>\n",
       "      <th>42323</th>\n",
       "      <td>2412</td>\n",
       "      <td>中華電</td>\n",
       "      <td>2021/06</td>\n",
       "      <td>49601135.0</td>\n",
       "      <td>31058232.0</td>\n",
       "      <td>18542903.0</td>\n",
       "      <td>9181422.0</td>\n",
       "      <td>1.15</td>\n",
       "      <td>21427526.76</td>\n",
       "      <td>-0.07</td>\n",
       "      <td>7384080.8</td>\n",
       "      <td>146933.67</td>\n",
       "      <td>193508.67</td>\n",
       "      <td>17955447.31</td>\n",
       "      <td>-587455.69</td>\n",
       "      <td>8768148.81</td>\n",
       "      <td>8768148.81</td>\n",
       "      <td>-413273.19</td>\n",
       "    </tr>\n",
       "    <tr>\n",
       "      <th>44156</th>\n",
       "      <td>2412</td>\n",
       "      <td>中華電</td>\n",
       "      <td>2021/09</td>\n",
       "      <td>50885502.0</td>\n",
       "      <td>32045819.0</td>\n",
       "      <td>18839683.0</td>\n",
       "      <td>9481204.0</td>\n",
       "      <td>1.21</td>\n",
       "      <td>23062290.70</td>\n",
       "      <td>-0.10</td>\n",
       "      <td>7390480.4</td>\n",
       "      <td>167244.00</td>\n",
       "      <td>492854.33</td>\n",
       "      <td>17973740.50</td>\n",
       "      <td>-865942.50</td>\n",
       "      <td>9093257.61</td>\n",
       "      <td>9093257.61</td>\n",
       "      <td>-387946.39</td>\n",
       "    </tr>\n",
       "    <tr>\n",
       "      <th>45999</th>\n",
       "      <td>2412</td>\n",
       "      <td>中華電</td>\n",
       "      <td>2021/12</td>\n",
       "      <td>59890316.0</td>\n",
       "      <td>40113785.0</td>\n",
       "      <td>19776531.0</td>\n",
       "      <td>9430868.0</td>\n",
       "      <td>1.11</td>\n",
       "      <td>25469518.18</td>\n",
       "      <td>-0.14</td>\n",
       "      <td>7392188.0</td>\n",
       "      <td>167244.00</td>\n",
       "      <td>112668.33</td>\n",
       "      <td>17084873.94</td>\n",
       "      <td>-2691657.06</td>\n",
       "      <td>8000612.28</td>\n",
       "      <td>8000612.28</td>\n",
       "      <td>-1430255.72</td>\n",
       "    </tr>\n",
       "    <tr>\n",
       "      <th>47835</th>\n",
       "      <td>2412</td>\n",
       "      <td>中華電</td>\n",
       "      <td>2022/03</td>\n",
       "      <td>51294739.0</td>\n",
       "      <td>31690894.0</td>\n",
       "      <td>19603845.0</td>\n",
       "      <td>9441138.0</td>\n",
       "      <td>1.17</td>\n",
       "      <td>18499755.37</td>\n",
       "      <td>0.00</td>\n",
       "      <td>7607989.6</td>\n",
       "      <td>159048.67</td>\n",
       "      <td>6748.33</td>\n",
       "      <td>18499755.37</td>\n",
       "      <td>-1104089.63</td>\n",
       "      <td>8847399.88</td>\n",
       "      <td>8847399.88</td>\n",
       "      <td>-593738.12</td>\n",
       "    </tr>\n",
       "    <tr>\n",
       "      <th>49678</th>\n",
       "      <td>2412</td>\n",
       "      <td>中華電</td>\n",
       "      <td>2022/06</td>\n",
       "      <td>52435710.0</td>\n",
       "      <td>32345819.0</td>\n",
       "      <td>20089891.0</td>\n",
       "      <td>10017478.0</td>\n",
       "      <td>1.24</td>\n",
       "      <td>12882230.65</td>\n",
       "      <td>0.12</td>\n",
       "      <td>7602114.4</td>\n",
       "      <td>159048.67</td>\n",
       "      <td>-96483.67</td>\n",
       "      <td>19174515.85</td>\n",
       "      <td>-915375.15</td>\n",
       "      <td>9288676.43</td>\n",
       "      <td>9288676.43</td>\n",
       "      <td>-728801.57</td>\n",
       "    </tr>\n",
       "    <tr>\n",
       "      <th>51510</th>\n",
       "      <td>2412</td>\n",
       "      <td>中華電</td>\n",
       "      <td>2022/09</td>\n",
       "      <td>53507811.0</td>\n",
       "      <td>33174844.0</td>\n",
       "      <td>20332967.0</td>\n",
       "      <td>9985298.0</td>\n",
       "      <td>1.21</td>\n",
       "      <td>14665697.94</td>\n",
       "      <td>0.09</td>\n",
       "      <td>7792925.6</td>\n",
       "      <td>245865.00</td>\n",
       "      <td>-18630.67</td>\n",
       "      <td>19481400.93</td>\n",
       "      <td>-851566.07</td>\n",
       "      <td>9528841.59</td>\n",
       "      <td>9528841.59</td>\n",
       "      <td>-456456.41</td>\n",
       "    </tr>\n",
       "    <tr>\n",
       "      <th>53352</th>\n",
       "      <td>NaN</td>\n",
       "      <td>NaN</td>\n",
       "      <td>NaN</td>\n",
       "      <td>NaN</td>\n",
       "      <td>NaN</td>\n",
       "      <td>NaN</td>\n",
       "      <td>NaN</td>\n",
       "      <td>NaN</td>\n",
       "      <td>17203455.40</td>\n",
       "      <td>0.05</td>\n",
       "      <td>7970764.0</td>\n",
       "      <td>193276.00</td>\n",
       "      <td>80438.33</td>\n",
       "      <td>NaN</td>\n",
       "      <td>NaN</td>\n",
       "      <td>NaN</td>\n",
       "      <td>NaN</td>\n",
       "      <td>NaN</td>\n",
       "    </tr>\n",
       "  </tbody>\n",
       "</table>\n",
       "</div>"
      ],
      "text/plain": [
       "      st_code st_name   period         rev        cost      margin  \\\n",
       "352      2412     中華電  2015/06  56920593.0  35710904.0  21209689.0   \n",
       "1962     2412     中華電  2015/09  56177648.0  33894856.0  22282792.0   \n",
       "3669     2412     中華電  2015/12  62224056.0  41824572.0  20399484.0   \n",
       "5294     2412     中華電  2016/03  56944156.0  35105652.0  21838504.0   \n",
       "7004     2412     中華電  2016/06  56195429.0  35253226.0  20942203.0   \n",
       "8646     2412     中華電  2016/09  58517979.0  38515425.0  20002554.0   \n",
       "10384    2412     中華電  2016/12  58333864.0  38677491.0  19656373.0   \n",
       "12051    2412     中華電  2017/03  54533400.0  34620763.0  19912637.0   \n",
       "13793    2412     中華電  2017/06  55671141.0  35077964.0  20593177.0   \n",
       "15489    2412     中華電  2017/09  56424903.0  35655368.0  20769535.0   \n",
       "17264    2412     中華電  2017/12  60884739.0  41483388.0  19401351.0   \n",
       "18979    2412     中華電  2018/03  53632358.0  34450367.0  19181991.0   \n",
       "20755    2412     中華電  2018/06  53658359.0  33192438.0  20465921.0   \n",
       "22486    2412     中華電  2018/09  52704885.0  34431469.0  18273416.0   \n",
       "24289    2412     中華電  2018/12  55487556.0  37471183.0  18016373.0   \n",
       "26036    2412     中華電  2019/03  51331161.0  33480788.0  17850373.0   \n",
       "27844    2412     中華電  2019/06  50108175.0  32267298.0  17840877.0   \n",
       "29606    2412     中華電  2019/09  50848160.0  33019129.0  17829031.0   \n",
       "31432    2412     中華電  2019/12  55232565.0  37185325.0  18047240.0   \n",
       "33204    2412     中華電  2020/03  48149999.0  30390800.0  17759199.0   \n",
       "35033    2412     中華電  2020/06  47807864.0  29801214.0  18006650.0   \n",
       "36825    2412     中華電  2020/09  52171326.0  34505914.0  17665412.0   \n",
       "38666    2412     中華電  2020/12  59479809.0  42330924.0  17148885.0   \n",
       "40481    2412     中華電  2021/03  50100995.0  31892915.0  18208080.0   \n",
       "42323    2412     中華電  2021/06  49601135.0  31058232.0  18542903.0   \n",
       "44156    2412     中華電  2021/09  50885502.0  32045819.0  18839683.0   \n",
       "45999    2412     中華電  2021/12  59890316.0  40113785.0  19776531.0   \n",
       "47835    2412     中華電  2022/03  51294739.0  31690894.0  19603845.0   \n",
       "49678    2412     中華電  2022/06  52435710.0  32345819.0  20089891.0   \n",
       "51510    2412     中華電  2022/09  53507811.0  33174844.0  20332967.0   \n",
       "53352     NaN     NaN      NaN         NaN         NaN         NaN   \n",
       "\n",
       "       ttl_comp_income   eps   fixed cost  variable cost  avg_expense  \\\n",
       "352         10544420.0  1.44          NaN            NaN          NaN   \n",
       "1962        11697787.0  1.52          NaN            NaN          NaN   \n",
       "3669         9624222.0  1.22          NaN            NaN          NaN   \n",
       "5294        11718513.0  1.50          NaN            NaN          NaN   \n",
       "7004        10840073.0  1.43  30152628.91          -0.16    8250236.8   \n",
       "8646         9697215.0  1.23  33140844.80          -0.20    8268819.0   \n",
       "10384        6917978.0  1.00  34982041.33          -0.24    8369581.4   \n",
       "12051        9953026.0  1.24  29560371.82          -0.15    8575395.4   \n",
       "13793       10454748.0  1.35  25098641.22          -0.08    8440984.4   \n",
       "15489       11053049.0  1.31  26839248.79          -0.12    8485075.8   \n",
       "17264        7276252.0  1.12  25883977.89          -0.10    8541148.0   \n",
       "18979        8920449.0  1.13  28916721.96          -0.15    8620213.0   \n",
       "20755        9729685.0  1.27  21206841.54          -0.02    8407310.8   \n",
       "22486        8572168.0  1.10  23215789.47          -0.06    8414559.6   \n",
       "24289        8219416.0  1.08  15995122.25           0.07    8330307.4   \n",
       "26036        8387637.0  1.08  17487843.98           0.03    8260259.6   \n",
       "27844        8676231.0  1.10  11788436.47           0.13    7969709.6   \n",
       "29606        8235767.0  1.04   8946007.76           0.18    7842693.0   \n",
       "31432        9906814.0  1.00  15450720.98           0.05    7722086.2   \n",
       "33204        7134882.0  1.07  15788815.46           0.04    7756050.4   \n",
       "35033        9741971.0  1.11  15782386.35           0.04    7604546.4   \n",
       "36825        9393394.0  1.07  16846002.50           0.02    7592611.4   \n",
       "38666        9610212.0  1.06  17333212.39           0.01    7531972.4   \n",
       "40481        8135554.0  1.14  20208484.87          -0.05    7566284.0   \n",
       "42323        9181422.0  1.15  21427526.76          -0.07    7384080.8   \n",
       "44156        9481204.0  1.21  23062290.70          -0.10    7390480.4   \n",
       "45999        9430868.0  1.11  25469518.18          -0.14    7392188.0   \n",
       "47835        9441138.0  1.17  18499755.37           0.00    7607989.6   \n",
       "49678       10017478.0  1.24  12882230.65           0.12    7602114.4   \n",
       "51510        9985298.0  1.21  14665697.94           0.09    7792925.6   \n",
       "53352              NaN   NaN  17203455.40           0.05    7970764.0   \n",
       "\n",
       "       avg_non_operating    avg_OCI   est_margin       error  predict_ttl  \\\n",
       "352                  NaN        NaN          NaN         NaN          NaN   \n",
       "1962                 NaN        NaN          NaN         NaN          NaN   \n",
       "3669                 NaN        NaN          NaN         NaN          NaN   \n",
       "5294                 NaN        NaN          NaN         NaN          NaN   \n",
       "7004           392175.33 -206909.33  21161360.27   219157.27  10435729.71   \n",
       "8646           392175.33 -323907.67  21437249.00  1434695.00  10524576.59   \n",
       "10384          404296.67 -233270.67  20981913.97  1325540.97  10180032.72   \n",
       "12051          404296.67 -307644.67  21380361.82  1467724.82  10259765.80   \n",
       "13793          385141.33 -307644.67  20644949.94    51772.94   9763640.83   \n",
       "15489          402977.00 -345834.67  20068260.43  -701274.57   9243094.63   \n",
       "17264          273591.67 -144970.00  19795503.99   394152.99   9077388.13   \n",
       "18979          246692.33 -449023.00  20871868.26  1689877.26   9549655.07   \n",
       "20755          246692.33  -96950.67  20133674.36  -332246.64   9481494.04   \n",
       "22486          317146.00 -244707.33  20053496.37  1780080.37   9320158.89   \n",
       "24289          305959.33 -186954.33  19879251.17  1862878.17   9296968.15   \n",
       "26036          341925.33 -312466.00  19027778.81  1177405.81   8575089.63   \n",
       "27844          286833.67 -207628.00  18302499.22   461622.22   8288070.63   \n",
       "29606          393942.67 -207628.00  18098676.56   269645.56   8312312.98   \n",
       "31432          381594.67 -166470.67  18212349.23   165109.23   8531015.49   \n",
       "33204          281284.33 -143190.33  17714815.42   -44383.58   8048849.15   \n",
       "35033          230452.33 -143190.33  17694700.91  -311949.09   8113295.14   \n",
       "36825          293520.00  199496.67  17889429.02   224017.02   8671766.77   \n",
       "38666          185492.33  452124.67  17928010.48   779125.48   8917349.00   \n",
       "40481           97987.33  862466.00  17703435.12  -504644.88   9050576.76   \n",
       "42323          146933.67  193508.67  17955447.31  -587455.69   8768148.81   \n",
       "44156          167244.00  492854.33  17973740.50  -865942.50   9093257.61   \n",
       "45999          167244.00  112668.33  17084873.94 -2691657.06   8000612.28   \n",
       "47835          159048.67    6748.33  18499755.37 -1104089.63   8847399.88   \n",
       "49678          159048.67  -96483.67  19174515.85  -915375.15   9288676.43   \n",
       "51510          245865.00  -18630.67  19481400.93  -851566.07   9528841.59   \n",
       "53352          193276.00   80438.33          NaN         NaN          NaN   \n",
       "\n",
       "       predict_eps  predict_error  \n",
       "352            NaN            NaN  \n",
       "1962           NaN            NaN  \n",
       "3669           NaN            NaN  \n",
       "5294           NaN            NaN  \n",
       "7004   10435729.71     -404343.29  \n",
       "8646   10524576.59      827361.59  \n",
       "10384  10180032.72     3262054.72  \n",
       "12051  10259765.80      306739.80  \n",
       "13793   9763640.83     -691107.17  \n",
       "15489   9243094.63    -1809954.37  \n",
       "17264   9077388.13     1801136.13  \n",
       "18979   9549655.07      629206.07  \n",
       "20755   9481494.04     -248190.96  \n",
       "22486   9320158.89      747990.89  \n",
       "24289   9296968.15     1077552.15  \n",
       "26036   8575089.63      187452.63  \n",
       "27844   8288070.63     -388160.37  \n",
       "29606   8312312.98       76545.98  \n",
       "31432   8531015.49    -1375798.51  \n",
       "33204   8048849.15      913967.15  \n",
       "35033   8113295.14    -1628675.86  \n",
       "36825   8671766.77     -721627.23  \n",
       "38666   8917349.00     -692863.00  \n",
       "40481   9050576.76      915022.76  \n",
       "42323   8768148.81     -413273.19  \n",
       "44156   9093257.61     -387946.39  \n",
       "45999   8000612.28    -1430255.72  \n",
       "47835   8847399.88     -593738.12  \n",
       "49678   9288676.43     -728801.57  \n",
       "51510   9528841.59     -456456.41  \n",
       "53352          NaN            NaN  "
      ]
     },
     "execution_count": 281,
     "metadata": {},
     "output_type": "execute_result"
    }
   ],
   "source": [
    "weight = [1/12, 1/12, 2/12, 3/12, 5/12]\n",
    "tax = 0.2\n",
    "data = df[(df.margin.isna() != True) & (df.st_code =='2412')]\n",
    "\n",
    "mod = RollingOLS.from_formula(\"margin ~ rev\", data=data, window=5)\n",
    "rres = mod.fit()\n",
    "result = pd.concat([data, round(rres.params.rename({'Intercept':'fixed cost', 'rev':'variable cost'}, axis=1), 2)], axis=1)\n",
    "\n",
    "result['avg_expense'] = result.expense.rolling(5).mean()\n",
    "result['avg_non_operating'] = round((result.non_operating.rolling(5).sum() - result.non_operating.rolling(5).max() - result.non_operating.rolling(5).min())/3, 2)\n",
    "result['avg_OCI'] = round((result.OCI.rolling(5).sum() - result.OCI.rolling(5).max() - result.OCI.rolling(5).min())/3, 2)\n",
    "\n",
    "a =  pd.concat([result.loc[:, ['st_code', 'st_name', 'period', 'rev', 'cost', 'margin', 'ttl_comp_income', 'eps']].shift(-1), \n",
    "                result.loc[:, ['fixed cost', 'variable cost', 'avg_expense', 'avg_non_operating', 'avg_OCI']]], axis=1)\n",
    "\n",
    "a['est_margin'] = (a.rev * a['variable cost'] + a['fixed cost'])\n",
    "a['error'] = a['est_margin'] - a.margin\n",
    "\n",
    "a['predict_ttl'] = round((a.rev * a['variable cost'] + a['fixed cost'] - a.avg_expense + a.avg_non_operating) * (1 - tax) + a.avg_OCI, 2)\n",
    "a['predict_eps'] = a['predict_ttl']\n",
    "a['predict_error'] = a['predict_ttl'] - a.ttl_comp_income\n",
    "# a = pd.merge(stock_outstanding, a, on=['st_code','st_name', 'period'], how='inner')\n",
    "# a['ni'] = a.eps*a.outstanding_stock\n",
    "# a['ni%'] = a.ni/a.ttl_comp_income\n",
    "a"
   ]
  },
  {
   "cell_type": "code",
   "execution_count": 282,
   "id": "7037118d",
   "metadata": {
    "jupyter": {
     "outputs_hidden": true
    },
    "tags": []
   },
   "outputs": [
    {
     "name": "stdout",
     "output_type": "stream",
     "text": [
      "2023-02-07 17:07:46,418 INFO sqlalchemy.engine.Engine select pg_catalog.version()\n",
      "2023-02-07 17:07:46,429 INFO sqlalchemy.engine.Engine [raw sql] {}\n",
      "2023-02-07 17:07:46,835 INFO sqlalchemy.engine.Engine select current_schema()\n",
      "2023-02-07 17:07:46,836 INFO sqlalchemy.engine.Engine [raw sql] {}\n",
      "2023-02-07 17:07:47,237 INFO sqlalchemy.engine.Engine show standard_conforming_strings\n",
      "2023-02-07 17:07:47,238 INFO sqlalchemy.engine.Engine [raw sql] {}\n",
      "2023-02-07 17:07:47,647 INFO sqlalchemy.engine.Engine select relname from pg_class c join pg_namespace n on n.oid=c.relnamespace where pg_catalog.pg_table_is_visible(c.oid) and relname=%(name)s\n",
      "2023-02-07 17:07:47,647 INFO sqlalchemy.engine.Engine [generated in 0.00115s] {'name': 'industry'}\n",
      "2023-02-07 17:07:48,254 INFO sqlalchemy.engine.Engine SELECT c.relname FROM pg_class c JOIN pg_namespace n ON n.oid = c.relnamespace WHERE n.nspname = %(schema)s AND c.relkind in ('r', 'p')\n",
      "2023-02-07 17:07:48,255 INFO sqlalchemy.engine.Engine [generated in 0.00088s] {'schema': 'public'}\n",
      "2023-02-07 17:07:48,669 INFO sqlalchemy.engine.Engine \n",
      "            SELECT c.oid\n",
      "            FROM pg_catalog.pg_class c\n",
      "            LEFT JOIN pg_catalog.pg_namespace n ON n.oid = c.relnamespace\n",
      "            WHERE (pg_catalog.pg_table_is_visible(c.oid))\n",
      "            AND c.relname = %(table_name)s AND c.relkind in\n",
      "            ('r', 'v', 'm', 'f', 'p')\n",
      "        \n",
      "2023-02-07 17:07:48,670 INFO sqlalchemy.engine.Engine [generated in 0.00148s] {'table_name': 'industry'}\n",
      "2023-02-07 17:07:48,880 INFO sqlalchemy.engine.Engine \n",
      "            SELECT a.attname,\n",
      "              pg_catalog.format_type(a.atttypid, a.atttypmod),\n",
      "              (\n",
      "                SELECT pg_catalog.pg_get_expr(d.adbin, d.adrelid)\n",
      "                FROM pg_catalog.pg_attrdef d\n",
      "                WHERE d.adrelid = a.attrelid AND d.adnum = a.attnum\n",
      "                AND a.atthasdef\n",
      "              ) AS DEFAULT,\n",
      "              a.attnotnull,\n",
      "              a.attrelid as table_oid,\n",
      "              pgd.description as comment,\n",
      "              a.attgenerated as generated,\n",
      "                              (SELECT json_build_object(\n",
      "                    'always', a.attidentity = 'a',\n",
      "                    'start', s.seqstart,\n",
      "                    'increment', s.seqincrement,\n",
      "                    'minvalue', s.seqmin,\n",
      "                    'maxvalue', s.seqmax,\n",
      "                    'cache', s.seqcache,\n",
      "                    'cycle', s.seqcycle)\n",
      "                FROM pg_catalog.pg_sequence s\n",
      "                JOIN pg_catalog.pg_class c on s.seqrelid = c.\"oid\"\n",
      "                WHERE c.relkind = 'S'\n",
      "                AND a.attidentity != ''\n",
      "                AND s.seqrelid = pg_catalog.pg_get_serial_sequence(\n",
      "                    a.attrelid::regclass::text, a.attname\n",
      "                )::regclass::oid\n",
      "                ) as identity_options                \n",
      "            FROM pg_catalog.pg_attribute a\n",
      "            LEFT JOIN pg_catalog.pg_description pgd ON (\n",
      "                pgd.objoid = a.attrelid AND pgd.objsubid = a.attnum)\n",
      "            WHERE a.attrelid = %(table_oid)s\n",
      "            AND a.attnum > 0 AND NOT a.attisdropped\n",
      "            ORDER BY a.attnum\n",
      "        \n",
      "2023-02-07 17:07:48,881 INFO sqlalchemy.engine.Engine [generated in 0.00166s] {'table_oid': 16461}\n",
      "2023-02-07 17:07:49,095 INFO sqlalchemy.engine.Engine \n",
      "            SELECT t.typname as \"name\",\n",
      "               pg_catalog.format_type(t.typbasetype, t.typtypmod) as \"attype\",\n",
      "               not t.typnotnull as \"nullable\",\n",
      "               t.typdefault as \"default\",\n",
      "               pg_catalog.pg_type_is_visible(t.oid) as \"visible\",\n",
      "               n.nspname as \"schema\"\n",
      "            FROM pg_catalog.pg_type t\n",
      "               LEFT JOIN pg_catalog.pg_namespace n ON n.oid = t.typnamespace\n",
      "            WHERE t.typtype = 'd'\n",
      "        \n",
      "2023-02-07 17:07:49,096 INFO sqlalchemy.engine.Engine [generated in 0.00132s] {}\n",
      "2023-02-07 17:07:49,301 INFO sqlalchemy.engine.Engine \n",
      "            SELECT t.typname as \"name\",\n",
      "               -- no enum defaults in 8.4 at least\n",
      "               -- t.typdefault as \"default\",\n",
      "               pg_catalog.pg_type_is_visible(t.oid) as \"visible\",\n",
      "               n.nspname as \"schema\",\n",
      "               e.enumlabel as \"label\"\n",
      "            FROM pg_catalog.pg_type t\n",
      "                 LEFT JOIN pg_catalog.pg_namespace n ON n.oid = t.typnamespace\n",
      "                 LEFT JOIN pg_catalog.pg_enum e ON t.oid = e.enumtypid\n",
      "            WHERE t.typtype = 'e'\n",
      "        ORDER BY \"schema\", \"name\", e.oid\n",
      "2023-02-07 17:07:49,302 INFO sqlalchemy.engine.Engine [generated in 0.00088s] {}\n",
      "2023-02-07 17:07:49,527 INFO sqlalchemy.engine.Engine \n",
      "                SELECT a.attname\n",
      "                FROM pg_attribute a JOIN (\n",
      "                    SELECT unnest(ix.indkey) attnum,\n",
      "                           generate_subscripts(ix.indkey, 1) ord\n",
      "                    FROM pg_index ix\n",
      "                    WHERE ix.indrelid = %(table_oid)s AND ix.indisprimary\n",
      "                    ) k ON a.attnum=k.attnum\n",
      "                WHERE a.attrelid = %(table_oid)s\n",
      "                ORDER BY k.ord\n",
      "            \n",
      "2023-02-07 17:07:49,529 INFO sqlalchemy.engine.Engine [generated in 0.00216s] {'table_oid': 16461}\n",
      "2023-02-07 17:07:49,731 INFO sqlalchemy.engine.Engine \n",
      "        SELECT conname\n",
      "           FROM  pg_catalog.pg_constraint r\n",
      "           WHERE r.conrelid = %(table_oid)s AND r.contype = 'p'\n",
      "           ORDER BY 1\n",
      "        \n",
      "2023-02-07 17:07:49,732 INFO sqlalchemy.engine.Engine [generated in 0.00079s] {'table_oid': 16461}\n",
      "2023-02-07 17:07:49,958 INFO sqlalchemy.engine.Engine \n",
      "          SELECT r.conname,\n",
      "                pg_catalog.pg_get_constraintdef(r.oid, true) as condef,\n",
      "                n.nspname as conschema\n",
      "          FROM  pg_catalog.pg_constraint r,\n",
      "                pg_namespace n,\n",
      "                pg_class c\n",
      "\n",
      "          WHERE r.conrelid = %(table)s AND\n",
      "                r.contype = 'f' AND\n",
      "                c.oid = confrelid AND\n",
      "                n.oid = c.relnamespace\n",
      "          ORDER BY 1\n",
      "        \n",
      "2023-02-07 17:07:49,976 INFO sqlalchemy.engine.Engine [generated in 0.01833s] {'table': 16461}\n",
      "2023-02-07 17:07:50,181 INFO sqlalchemy.engine.Engine \n",
      "              SELECT\n",
      "                  i.relname as relname,\n",
      "                  ix.indisunique, ix.indexprs,\n",
      "                  a.attname, a.attnum, c.conrelid, ix.indkey::varchar,\n",
      "                  ix.indoption::varchar, i.reloptions, am.amname,\n",
      "                  pg_get_expr(ix.indpred, ix.indrelid),\n",
      "                  ix.indnkeyatts as indnkeyatts\n",
      "              FROM\n",
      "                  pg_class t\n",
      "                        join pg_index ix on t.oid = ix.indrelid\n",
      "                        join pg_class i on i.oid = ix.indexrelid\n",
      "                        left outer join\n",
      "                            pg_attribute a\n",
      "                            on t.oid = a.attrelid and a.attnum = ANY(ix.indkey)\n",
      "                        left outer join\n",
      "                            pg_constraint c\n",
      "                            on (ix.indrelid = c.conrelid and\n",
      "                                ix.indexrelid = c.conindid and\n",
      "                                c.contype in ('p', 'u', 'x'))\n",
      "                        left outer join\n",
      "                            pg_am am\n",
      "                            on i.relam = am.oid\n",
      "              WHERE\n",
      "                  t.relkind IN ('r', 'v', 'f', 'm', 'p')\n",
      "                  and t.oid = %(table_oid)s\n",
      "                  and ix.indisprimary = 'f'\n",
      "              ORDER BY\n",
      "                  t.relname,\n",
      "                  i.relname\n",
      "            \n",
      "2023-02-07 17:07:50,182 INFO sqlalchemy.engine.Engine [generated in 0.00073s] {'table_oid': 16461}\n",
      "2023-02-07 17:07:50,393 INFO sqlalchemy.engine.Engine \n",
      "            SELECT\n",
      "                cons.conname as name,\n",
      "                cons.conkey as key,\n",
      "                a.attnum as col_num,\n",
      "                a.attname as col_name\n",
      "            FROM\n",
      "                pg_catalog.pg_constraint cons\n",
      "                join pg_attribute a\n",
      "                  on cons.conrelid = a.attrelid AND\n",
      "                    a.attnum = ANY(cons.conkey)\n",
      "            WHERE\n",
      "                cons.conrelid = %(table_oid)s AND\n",
      "                cons.contype = 'u'\n",
      "        \n",
      "2023-02-07 17:07:50,396 INFO sqlalchemy.engine.Engine [generated in 0.00339s] {'table_oid': 16461}\n",
      "2023-02-07 17:07:50,602 INFO sqlalchemy.engine.Engine \n",
      "            SELECT\n",
      "                cons.conname as name,\n",
      "                pg_get_constraintdef(cons.oid) as src\n",
      "            FROM\n",
      "                pg_catalog.pg_constraint cons\n",
      "            WHERE\n",
      "                cons.conrelid = %(table_oid)s AND\n",
      "                cons.contype = 'c'\n",
      "        \n"
     ]
    },
    {
     "name": "stdout",
     "output_type": "stream",
     "text": [
      "2023-02-07 17:07:50,603 INFO sqlalchemy.engine.Engine [generated in 0.00124s] {'table_oid': 16461}\n",
      "2023-02-07 17:07:50,818 INFO sqlalchemy.engine.Engine \n",
      "            SELECT\n",
      "                pgd.description as table_comment\n",
      "            FROM\n",
      "                pg_catalog.pg_description pgd\n",
      "            WHERE\n",
      "                pgd.objsubid = 0 AND\n",
      "                pgd.objoid = %(table_oid)s\n",
      "        \n",
      "2023-02-07 17:07:50,820 INFO sqlalchemy.engine.Engine [generated in 0.00145s] {'table_oid': 16461}\n",
      "2023-02-07 17:07:51,247 INFO sqlalchemy.engine.Engine SELECT industry.index, industry.\"公司簡稱\", industry.\"TSE新產業名\", industry.\"TEJ子產業名\", industry.\"Unnamed: 3\", industry.\"TSE新產業名.1\", industry.\"TEJ子產業名.1\", industry.\"Unnamed: 6\", industry.\"公司簡稱.1\", industry.\"TSE新產業名.2\", industry.\"TEJ子產業名.2\", industry.\"Unnamed: 10\", industry.\"Unnamed: 11\", industry.\"單月營收(千元)\", industry.\"單月營收(千元).1\", industry.\"單月營收(千元).2\", industry.\"單月營收(千元).3\", industry.\"單月營收(千元).4\", industry.\"單月營收(千元).5\", industry.\"單月營收(千元).6\", industry.\"單月營收(千元).7\", industry.\"單月營收(千元).8\", industry.\"單月營收(千元).9\", industry.\"單月營收(千元).10\", industry.\"單月營收(千元).11\", industry.\"Unnamed: 24\", industry.\"Unnamed: 25\", industry.\"單月營收(千元).12\", industry.\"單月營收(千元).13\", industry.\"單月營收(千元).14\", industry.\"單月營收(千元).15\", industry.\"單月營收(千元).16\", industry.\"單月營收(千元).17\", industry.\"單月營收(千元).18\", industry.\"單月營收(千元).19\", industry.\"單月營收(千元).20\", industry.\"單月營收(千元).21\", industry.\"單月營收(千元).22\", industry.\"單月營收(千元).23\", industry.\"Unnamed: 38\", industry.\"Unnamed: 39\", industry.\"單月營收(千元).24\", industry.\"單月營收(千元).25\", industry.\"單月營收(千元).26\", industry.\"單月營收(千元).27\", industry.\"單月營收(千元).28\", industry.\"單月營收(千元).29\", industry.\"單月營收(千元).30\", industry.\"單月營收(千元).31\", industry.\"單月營收(千元).32\", industry.\"單月營收(千元).33\", industry.\"單月營收(千元).34\", industry.\"單月營收(千元).35\", industry.\"Unnamed: 52\", industry.\"Unnamed: 53\", industry.\"單月營收(千元).36\", industry.\"單月營收(千元).37\", industry.\"單月營收(千元).38\", industry.\"單月營收(千元).39\", industry.\"單月營收(千元).40\", industry.\"單月營收(千元).41\", industry.\"單月營收(千元).42\", industry.\"單月營收(千元).43\", industry.\"單月營收(千元).44\", industry.\"單月營收(千元).45\", industry.\"單月營收(千元).46\", industry.\"單月營收(千元).47\", industry.\"Unnamed: 66\", industry.\"Unnamed: 67\", industry.\"去年單月營收(千元)\", industry.\"去年單月營收(千元).1\", industry.\"去年單月營收(千元).2\", industry.\"去年單月營收(千元).3\", industry.\"去年單月營收(千元).4\", industry.\"去年單月營收(千元).5\", industry.\"去年單月營收(千元).6\", industry.\"去年單月營收(千元).7\", industry.\"去年單月營收(千元).8\", industry.\"去年單月營收(千元).9\", industry.\"去年單月營收(千元).10\", industry.\"去年單月營收(千元).11\" \n",
      "FROM industry\n",
      "2023-02-07 17:07:51,248 INFO sqlalchemy.engine.Engine [generated in 0.00078s] {}\n"
     ]
    }
   ],
   "source": [
    "\"\"\"\n",
    "connect to db\n",
    "\"\"\"\n",
    "host='database-1.cyn7ldoposru.us-east-1.rds.amazonaws.com'\n",
    "port='5432'\n",
    "user='Yu'\n",
    "password='m#WA12J#'\n",
    "database=\"JQC_Revenue1\"\n",
    "\n",
    "engine = create_engine('postgresql://{}:{}@{}:{}/{}'.format(\n",
    "        user, password, host, port, database), echo=True)\n",
    "\n",
    "stock_info = pd.read_csv('stock_info.csv')\n",
    "stock_info.st_code = stock_info.st_code.astype(str)\n",
    "\n",
    "\"\"\"\n",
    "callback input & output detail \n",
    "\"\"\"\n",
    "revenue = pd.read_sql('industry', engine)\n",
    "new_industry_name = revenue['TSE新產業名.1'].dropna()\n",
    "minor_industry_name = revenue['TEJ子產業名.1'].dropna()"
   ]
  },
  {
   "cell_type": "code",
   "execution_count": 704,
   "id": "41537938",
   "metadata": {},
   "outputs": [
    {
     "name": "stdout",
     "output_type": "stream",
     "text": [
      "2023-02-08 15:58:10,653 INFO sqlalchemy.engine.Engine select relname from pg_class c join pg_namespace n on n.oid=c.relnamespace where pg_catalog.pg_table_is_visible(c.oid) and relname=%(name)s\n",
      "2023-02-08 15:58:10,660 INFO sqlalchemy.engine.Engine [cached since 3.233e+04s ago] {'name': \"\\n        select st_code, st_name, rev_period, declaration_date, rev\\n        from tej_revenue\\n        where new_industry_name = 'M2327 通信網路業';\\n        \"}\n",
      "2023-02-08 15:58:12,263 INFO sqlalchemy.engine.Engine \n",
      "        select st_code, st_name, rev_period, declaration_date, rev\n",
      "        from tej_revenue\n",
      "        where new_industry_name = 'M2327 通信網路業';\n",
      "        \n",
      "2023-02-08 15:58:12,265 INFO sqlalchemy.engine.Engine [raw sql] {}\n"
     ]
    }
   ],
   "source": [
    "import revenue_function as fn\n",
    "dropdown1 = new_industry_name[1]\n",
    "dropdown2 = minor_industry_name[1]\n",
    "st_input = '3558'\n",
    "\n",
    "def get_latest(data):\n",
    "    latest = data.drop_duplicates(subset='st_code', keep='last')\n",
    "    # latest = latest.drop('index', axis=1)\n",
    "    latest = latest.sort_values('declaration_date', ascending=True)\n",
    "    latest = latest.loc[:, ['st_code', 'st_name', 'declaration_date', 'rev', 'mom', 'yoy']]\n",
    "    latest = latest.set_axis(['公司代碼', '公司簡稱', '最新公告月份', '營收', 'MOM%', 'YOY%'], axis=1)\n",
    "    return latest.to_dict('records')\n",
    "\n",
    "\n",
    "# def update_table(dropdown1, dropdown2, st_input):\n",
    "if st_input is None or st_input == '':\n",
    "    try:\n",
    "        if (dropdown1 is not new_industry_name[0]) and (dropdown2 is minor_industry_name[0]):\n",
    "            mask = (\"new_industry_name = '\" + dropdown1 + \"'\")\n",
    "\n",
    "        elif (dropdown2 is not minor_industry_name[0]) and (dropdown1 is new_industry_name[0]):\n",
    "            mask = (\"minor_industry_name = '\" + dropdown2 + \"'\")\n",
    "\n",
    "        elif (dropdown1 is not new_industry_name[0]) and (dropdown2 is not minor_industry_name[0]):\n",
    "            mask = (\"new_industry_name = '\" + dropdown1 + \"' and \" + \"minor_industry_name = '\" + dropdown2 + \"'\")\n",
    "\n",
    "        # 從 db 撈資料\n",
    "        st_search = \"\"\"\n",
    "        select st_code, st_name, rev_period, declaration_date, rev\n",
    "        from tej_revenue\n",
    "        where {};\n",
    "        \"\"\".format(mask)\n",
    "\n",
    "        data = pd.read_sql(st_search, engine)\n",
    "        data = data.groupby(by='st_code', as_index=False).apply(fn.get_st_mom_yoy).reset_index(drop=True,\n",
    "                                                                                                inplace=False)\n",
    "\n",
    "        # 產業最新營收公布情形\n",
    "        latest = get_latest(data)\n",
    "\n",
    "        # 產業總營收狀況\n",
    "        data = data.groupby(by='rev_period', as_index=False).agg({'rev': 'sum'})\n",
    "        data = fn.get_st_mom_yoy(data)\n",
    "\n",
    "        # 預測資料\n",
    "        data_predict = fn.predict(data)\n",
    "\n",
    "        # 繪圖\n",
    "        title = dropdown1 + ' '\n",
    "        REV = fn.get_revpic(data, data_predict, (title + ' 各年度月營收'))\n",
    "        MOM = fn.get_mompic(data, data_predict, (title + ' 各年度月營收'))\n",
    "        YOY = fn.get_yoypic(data, data_predict, (title + ' 各年度月營收'))\n",
    "\n",
    "        # 整理營收資訊表\n",
    "        table = data.pivot_table(values='rev', index='Year', columns='month').reset_index()\n",
    "        data_predict.Year = data_predict.Year + str(' 預估值')\n",
    "        table = pd.concat([table, data_predict.tail(12).pivot_table(index='Year', columns='month', values='rev').reset_index()],axis=0)\n",
    "        # return table.to_dict('records'), latest, REV, MOM, YOY\n",
    "    \n",
    "    except KeyError:\n",
    "        print(\"跳警示通知：該分類沒有相關個股，請重新選擇，並reset\")\n",
    "\n",
    "\n",
    "else:\n",
    "    try:\n",
    "        if (st_input.isdigit() == True):\n",
    "            industry = stock_info[stock_info.st_code == st_input].new_industry_name.values[0]\n",
    "            mask = (\"new_industry_name = '\" + industry + \"'\")\n",
    "            st_mask = 'st_code'\n",
    "\n",
    "        else:\n",
    "            industry = stock_info[stock_info.st_name == st_input].new_industry_name.values[0]\n",
    "            mask = (\"new_industry_name = '\" + industry + \"'\")\n",
    "            st_mask = 'st_name'\n",
    "\n",
    "        # 從 db 撈資料\n",
    "        st_search = \"\"\"\n",
    "        select st_code, st_name, rev_period, declaration_date, rev\n",
    "        from tej_revenue\n",
    "        where {};\n",
    "        \"\"\".format(mask)\n",
    "        data = pd.read_sql(st_search, engine)\n",
    "        data = data.groupby(by='st_code', as_index=False).apply(fn.get_st_mom_yoy).reset_index(drop=True,\n",
    "                                                                                                inplace=False)\n",
    "\n",
    "        # 產業最新營收公布情形\n",
    "        latest = fn.get_latest(data)\n",
    "\n",
    "        # 轉換成個股總營收\n",
    "        data = data[data[st_mask] == st_input]\n",
    "        data = fn.get_st_mom_yoy(data)\n",
    "\n",
    "        # 預測資料\n",
    "        data_predict = fn.predict(data)\n",
    "\n",
    "        # 繪圖\n",
    "        title = data.st_code[0] + ' ' + data.st_name[0]\n",
    "        REV = fn.get_revpic(data, data_predict, (title + ' 各年度月營收'))\n",
    "        MOM = fn.get_mompic(data, data_predict, (title + ' 各年度月營收'))\n",
    "        YOY = fn.get_yoypic(data, data_predict, (title + ' 各年度月營收'))\n",
    "\n",
    "        # 整理營收資訊表\n",
    "        table = data.pivot_table(values='rev', index='Year', columns='month').reset_index()\n",
    "        data_predict.Year = data_predict.Year + str(' 預估值')\n",
    "        table = pd.concat([table, data_predict.tail(12).pivot_table(index='Year', columns='month', values='rev').reset_index()],axis=0)\n",
    "        # return table.to_dict('records'), latest, REV, MOM, YOY\n",
    "        \n",
    "    except IndexError:\n",
    "        print('跳警示通知：查無該股票營收，請重新輸入，並reset')\n",
    "        \n",
    "# REV.show(), MOM.show(), YOY.show()"
   ]
  },
  {
   "cell_type": "code",
   "execution_count": 705,
   "id": "bd03af4f",
   "metadata": {
    "scrolled": false
   },
   "outputs": [
    {
     "data": {
      "application/vnd.plotly.v1+json": {
       "config": {
        "plotlyServerURL": "https://plot.ly"
       },
       "data": [
        {
         "name": "2017",
         "opacity": 0.7,
         "type": "bar",
         "x": [
          "01",
          "02",
          "03",
          "04",
          "05",
          "06",
          "07",
          "08",
          "09",
          "10",
          "11",
          "12"
         ],
         "y": [
          615551,
          530603,
          588582,
          529945,
          595857,
          683618,
          652864,
          832567,
          830836,
          918102,
          831190,
          852264
         ]
        },
        {
         "name": "2018",
         "opacity": 0.7,
         "type": "bar",
         "x": [
          "01",
          "02",
          "03",
          "04",
          "05",
          "06",
          "07",
          "08",
          "09",
          "10",
          "11",
          "12"
         ],
         "y": [
          825783,
          727256,
          738224,
          767284,
          828922,
          765337,
          729766,
          735444,
          630195,
          635212,
          569198,
          665718
         ]
        },
        {
         "name": "2019",
         "opacity": 0.7,
         "type": "bar",
         "x": [
          "01",
          "02",
          "03",
          "04",
          "05",
          "06",
          "07",
          "08",
          "09",
          "10",
          "11",
          "12"
         ],
         "y": [
          609860,
          566100,
          645262,
          696810,
          685359,
          722684,
          701483,
          639706,
          701488,
          668215,
          676676,
          626227
         ]
        },
        {
         "name": "2020",
         "opacity": 0.7,
         "type": "bar",
         "x": [
          "01",
          "02",
          "03",
          "04",
          "05",
          "06",
          "07",
          "08",
          "09",
          "10",
          "11",
          "12"
         ],
         "y": [
          635673,
          529475,
          604898,
          589463,
          588459,
          626194,
          656586,
          616538,
          706773,
          669231,
          677769,
          865392
         ]
        },
        {
         "name": "2021",
         "opacity": 0.7,
         "type": "bar",
         "x": [
          "01",
          "02",
          "03",
          "04",
          "05",
          "06",
          "07",
          "08",
          "09",
          "10",
          "11",
          "12"
         ],
         "y": [
          704551,
          559950,
          717269,
          707360,
          705140,
          801830,
          869137,
          873747,
          778321,
          753127,
          756627,
          952732
         ]
        },
        {
         "name": "2022",
         "opacity": 0.7,
         "type": "bar",
         "x": [
          "01",
          "02",
          "03",
          "04",
          "05",
          "06",
          "07",
          "08",
          "09",
          "10",
          "11",
          "12"
         ],
         "y": [
          935780,
          747433,
          1178937,
          889301,
          1193038,
          1410177,
          1523790,
          1479508,
          1588934,
          1628743,
          1891504,
          1855137
         ]
        },
        {
         "marker": {
          "color": "black",
          "line": {
           "color": "black"
          },
          "pattern": {
           "fillmode": "replace",
           "shape": "\\"
          }
         },
         "name": "預估值",
         "opacity": 1,
         "type": "bar",
         "x": [
          "12",
          "01",
          "02",
          "03",
          "04",
          "05",
          "06",
          "07",
          "08",
          "09",
          "10",
          "11",
          "12"
         ],
         "y": [
          null,
          1297641,
          1080552,
          1278054,
          1264996,
          1282951,
          1393944,
          1449441,
          1452705,
          1420060,
          1387415,
          1369460,
          1646944
         ]
        }
       ],
       "layout": {
        "barmode": "group",
        "hovermode": "x unified",
        "legend": {
         "title": {
          "text": "年份"
         }
        },
        "template": {
         "data": {
          "bar": [
           {
            "error_x": {
             "color": "#2a3f5f"
            },
            "error_y": {
             "color": "#2a3f5f"
            },
            "marker": {
             "line": {
              "color": "#E5ECF6",
              "width": 0.5
             },
             "pattern": {
              "fillmode": "overlay",
              "size": 10,
              "solidity": 0.2
             }
            },
            "type": "bar"
           }
          ],
          "barpolar": [
           {
            "marker": {
             "line": {
              "color": "#E5ECF6",
              "width": 0.5
             },
             "pattern": {
              "fillmode": "overlay",
              "size": 10,
              "solidity": 0.2
             }
            },
            "type": "barpolar"
           }
          ],
          "carpet": [
           {
            "aaxis": {
             "endlinecolor": "#2a3f5f",
             "gridcolor": "white",
             "linecolor": "white",
             "minorgridcolor": "white",
             "startlinecolor": "#2a3f5f"
            },
            "baxis": {
             "endlinecolor": "#2a3f5f",
             "gridcolor": "white",
             "linecolor": "white",
             "minorgridcolor": "white",
             "startlinecolor": "#2a3f5f"
            },
            "type": "carpet"
           }
          ],
          "choropleth": [
           {
            "colorbar": {
             "outlinewidth": 0,
             "ticks": ""
            },
            "type": "choropleth"
           }
          ],
          "contour": [
           {
            "colorbar": {
             "outlinewidth": 0,
             "ticks": ""
            },
            "colorscale": [
             [
              0,
              "#0d0887"
             ],
             [
              0.1111111111111111,
              "#46039f"
             ],
             [
              0.2222222222222222,
              "#7201a8"
             ],
             [
              0.3333333333333333,
              "#9c179e"
             ],
             [
              0.4444444444444444,
              "#bd3786"
             ],
             [
              0.5555555555555556,
              "#d8576b"
             ],
             [
              0.6666666666666666,
              "#ed7953"
             ],
             [
              0.7777777777777778,
              "#fb9f3a"
             ],
             [
              0.8888888888888888,
              "#fdca26"
             ],
             [
              1,
              "#f0f921"
             ]
            ],
            "type": "contour"
           }
          ],
          "contourcarpet": [
           {
            "colorbar": {
             "outlinewidth": 0,
             "ticks": ""
            },
            "type": "contourcarpet"
           }
          ],
          "heatmap": [
           {
            "colorbar": {
             "outlinewidth": 0,
             "ticks": ""
            },
            "colorscale": [
             [
              0,
              "#0d0887"
             ],
             [
              0.1111111111111111,
              "#46039f"
             ],
             [
              0.2222222222222222,
              "#7201a8"
             ],
             [
              0.3333333333333333,
              "#9c179e"
             ],
             [
              0.4444444444444444,
              "#bd3786"
             ],
             [
              0.5555555555555556,
              "#d8576b"
             ],
             [
              0.6666666666666666,
              "#ed7953"
             ],
             [
              0.7777777777777778,
              "#fb9f3a"
             ],
             [
              0.8888888888888888,
              "#fdca26"
             ],
             [
              1,
              "#f0f921"
             ]
            ],
            "type": "heatmap"
           }
          ],
          "heatmapgl": [
           {
            "colorbar": {
             "outlinewidth": 0,
             "ticks": ""
            },
            "colorscale": [
             [
              0,
              "#0d0887"
             ],
             [
              0.1111111111111111,
              "#46039f"
             ],
             [
              0.2222222222222222,
              "#7201a8"
             ],
             [
              0.3333333333333333,
              "#9c179e"
             ],
             [
              0.4444444444444444,
              "#bd3786"
             ],
             [
              0.5555555555555556,
              "#d8576b"
             ],
             [
              0.6666666666666666,
              "#ed7953"
             ],
             [
              0.7777777777777778,
              "#fb9f3a"
             ],
             [
              0.8888888888888888,
              "#fdca26"
             ],
             [
              1,
              "#f0f921"
             ]
            ],
            "type": "heatmapgl"
           }
          ],
          "histogram": [
           {
            "marker": {
             "pattern": {
              "fillmode": "overlay",
              "size": 10,
              "solidity": 0.2
             }
            },
            "type": "histogram"
           }
          ],
          "histogram2d": [
           {
            "colorbar": {
             "outlinewidth": 0,
             "ticks": ""
            },
            "colorscale": [
             [
              0,
              "#0d0887"
             ],
             [
              0.1111111111111111,
              "#46039f"
             ],
             [
              0.2222222222222222,
              "#7201a8"
             ],
             [
              0.3333333333333333,
              "#9c179e"
             ],
             [
              0.4444444444444444,
              "#bd3786"
             ],
             [
              0.5555555555555556,
              "#d8576b"
             ],
             [
              0.6666666666666666,
              "#ed7953"
             ],
             [
              0.7777777777777778,
              "#fb9f3a"
             ],
             [
              0.8888888888888888,
              "#fdca26"
             ],
             [
              1,
              "#f0f921"
             ]
            ],
            "type": "histogram2d"
           }
          ],
          "histogram2dcontour": [
           {
            "colorbar": {
             "outlinewidth": 0,
             "ticks": ""
            },
            "colorscale": [
             [
              0,
              "#0d0887"
             ],
             [
              0.1111111111111111,
              "#46039f"
             ],
             [
              0.2222222222222222,
              "#7201a8"
             ],
             [
              0.3333333333333333,
              "#9c179e"
             ],
             [
              0.4444444444444444,
              "#bd3786"
             ],
             [
              0.5555555555555556,
              "#d8576b"
             ],
             [
              0.6666666666666666,
              "#ed7953"
             ],
             [
              0.7777777777777778,
              "#fb9f3a"
             ],
             [
              0.8888888888888888,
              "#fdca26"
             ],
             [
              1,
              "#f0f921"
             ]
            ],
            "type": "histogram2dcontour"
           }
          ],
          "mesh3d": [
           {
            "colorbar": {
             "outlinewidth": 0,
             "ticks": ""
            },
            "type": "mesh3d"
           }
          ],
          "parcoords": [
           {
            "line": {
             "colorbar": {
              "outlinewidth": 0,
              "ticks": ""
             }
            },
            "type": "parcoords"
           }
          ],
          "pie": [
           {
            "automargin": true,
            "type": "pie"
           }
          ],
          "scatter": [
           {
            "marker": {
             "colorbar": {
              "outlinewidth": 0,
              "ticks": ""
             }
            },
            "type": "scatter"
           }
          ],
          "scatter3d": [
           {
            "line": {
             "colorbar": {
              "outlinewidth": 0,
              "ticks": ""
             }
            },
            "marker": {
             "colorbar": {
              "outlinewidth": 0,
              "ticks": ""
             }
            },
            "type": "scatter3d"
           }
          ],
          "scattercarpet": [
           {
            "marker": {
             "colorbar": {
              "outlinewidth": 0,
              "ticks": ""
             }
            },
            "type": "scattercarpet"
           }
          ],
          "scattergeo": [
           {
            "marker": {
             "colorbar": {
              "outlinewidth": 0,
              "ticks": ""
             }
            },
            "type": "scattergeo"
           }
          ],
          "scattergl": [
           {
            "marker": {
             "colorbar": {
              "outlinewidth": 0,
              "ticks": ""
             }
            },
            "type": "scattergl"
           }
          ],
          "scattermapbox": [
           {
            "marker": {
             "colorbar": {
              "outlinewidth": 0,
              "ticks": ""
             }
            },
            "type": "scattermapbox"
           }
          ],
          "scatterpolar": [
           {
            "marker": {
             "colorbar": {
              "outlinewidth": 0,
              "ticks": ""
             }
            },
            "type": "scatterpolar"
           }
          ],
          "scatterpolargl": [
           {
            "marker": {
             "colorbar": {
              "outlinewidth": 0,
              "ticks": ""
             }
            },
            "type": "scatterpolargl"
           }
          ],
          "scatterternary": [
           {
            "marker": {
             "colorbar": {
              "outlinewidth": 0,
              "ticks": ""
             }
            },
            "type": "scatterternary"
           }
          ],
          "surface": [
           {
            "colorbar": {
             "outlinewidth": 0,
             "ticks": ""
            },
            "colorscale": [
             [
              0,
              "#0d0887"
             ],
             [
              0.1111111111111111,
              "#46039f"
             ],
             [
              0.2222222222222222,
              "#7201a8"
             ],
             [
              0.3333333333333333,
              "#9c179e"
             ],
             [
              0.4444444444444444,
              "#bd3786"
             ],
             [
              0.5555555555555556,
              "#d8576b"
             ],
             [
              0.6666666666666666,
              "#ed7953"
             ],
             [
              0.7777777777777778,
              "#fb9f3a"
             ],
             [
              0.8888888888888888,
              "#fdca26"
             ],
             [
              1,
              "#f0f921"
             ]
            ],
            "type": "surface"
           }
          ],
          "table": [
           {
            "cells": {
             "fill": {
              "color": "#EBF0F8"
             },
             "line": {
              "color": "white"
             }
            },
            "header": {
             "fill": {
              "color": "#C8D4E3"
             },
             "line": {
              "color": "white"
             }
            },
            "type": "table"
           }
          ]
         },
         "layout": {
          "annotationdefaults": {
           "arrowcolor": "#2a3f5f",
           "arrowhead": 0,
           "arrowwidth": 1
          },
          "autotypenumbers": "strict",
          "coloraxis": {
           "colorbar": {
            "outlinewidth": 0,
            "ticks": ""
           }
          },
          "colorscale": {
           "diverging": [
            [
             0,
             "#8e0152"
            ],
            [
             0.1,
             "#c51b7d"
            ],
            [
             0.2,
             "#de77ae"
            ],
            [
             0.3,
             "#f1b6da"
            ],
            [
             0.4,
             "#fde0ef"
            ],
            [
             0.5,
             "#f7f7f7"
            ],
            [
             0.6,
             "#e6f5d0"
            ],
            [
             0.7,
             "#b8e186"
            ],
            [
             0.8,
             "#7fbc41"
            ],
            [
             0.9,
             "#4d9221"
            ],
            [
             1,
             "#276419"
            ]
           ],
           "sequential": [
            [
             0,
             "#0d0887"
            ],
            [
             0.1111111111111111,
             "#46039f"
            ],
            [
             0.2222222222222222,
             "#7201a8"
            ],
            [
             0.3333333333333333,
             "#9c179e"
            ],
            [
             0.4444444444444444,
             "#bd3786"
            ],
            [
             0.5555555555555556,
             "#d8576b"
            ],
            [
             0.6666666666666666,
             "#ed7953"
            ],
            [
             0.7777777777777778,
             "#fb9f3a"
            ],
            [
             0.8888888888888888,
             "#fdca26"
            ],
            [
             1,
             "#f0f921"
            ]
           ],
           "sequentialminus": [
            [
             0,
             "#0d0887"
            ],
            [
             0.1111111111111111,
             "#46039f"
            ],
            [
             0.2222222222222222,
             "#7201a8"
            ],
            [
             0.3333333333333333,
             "#9c179e"
            ],
            [
             0.4444444444444444,
             "#bd3786"
            ],
            [
             0.5555555555555556,
             "#d8576b"
            ],
            [
             0.6666666666666666,
             "#ed7953"
            ],
            [
             0.7777777777777778,
             "#fb9f3a"
            ],
            [
             0.8888888888888888,
             "#fdca26"
            ],
            [
             1,
             "#f0f921"
            ]
           ]
          },
          "colorway": [
           "#636efa",
           "#EF553B",
           "#00cc96",
           "#ab63fa",
           "#FFA15A",
           "#19d3f3",
           "#FF6692",
           "#B6E880",
           "#FF97FF",
           "#FECB52"
          ],
          "font": {
           "color": "#2a3f5f"
          },
          "geo": {
           "bgcolor": "white",
           "lakecolor": "white",
           "landcolor": "#E5ECF6",
           "showlakes": true,
           "showland": true,
           "subunitcolor": "white"
          },
          "hoverlabel": {
           "align": "left"
          },
          "hovermode": "closest",
          "mapbox": {
           "style": "light"
          },
          "paper_bgcolor": "white",
          "plot_bgcolor": "#E5ECF6",
          "polar": {
           "angularaxis": {
            "gridcolor": "white",
            "linecolor": "white",
            "ticks": ""
           },
           "bgcolor": "#E5ECF6",
           "radialaxis": {
            "gridcolor": "white",
            "linecolor": "white",
            "ticks": ""
           }
          },
          "scene": {
           "xaxis": {
            "backgroundcolor": "#E5ECF6",
            "gridcolor": "white",
            "gridwidth": 2,
            "linecolor": "white",
            "showbackground": true,
            "ticks": "",
            "zerolinecolor": "white"
           },
           "yaxis": {
            "backgroundcolor": "#E5ECF6",
            "gridcolor": "white",
            "gridwidth": 2,
            "linecolor": "white",
            "showbackground": true,
            "ticks": "",
            "zerolinecolor": "white"
           },
           "zaxis": {
            "backgroundcolor": "#E5ECF6",
            "gridcolor": "white",
            "gridwidth": 2,
            "linecolor": "white",
            "showbackground": true,
            "ticks": "",
            "zerolinecolor": "white"
           }
          },
          "shapedefaults": {
           "line": {
            "color": "#2a3f5f"
           }
          },
          "ternary": {
           "aaxis": {
            "gridcolor": "white",
            "linecolor": "white",
            "ticks": ""
           },
           "baxis": {
            "gridcolor": "white",
            "linecolor": "white",
            "ticks": ""
           },
           "bgcolor": "#E5ECF6",
           "caxis": {
            "gridcolor": "white",
            "linecolor": "white",
            "ticks": ""
           }
          },
          "title": {
           "x": 0.05
          },
          "xaxis": {
           "automargin": true,
           "gridcolor": "white",
           "linecolor": "white",
           "ticks": "",
           "title": {
            "standoff": 15
           },
           "zerolinecolor": "white",
           "zerolinewidth": 2
          },
          "yaxis": {
           "automargin": true,
           "gridcolor": "white",
           "linecolor": "white",
           "ticks": "",
           "title": {
            "standoff": 15
           },
           "zerolinecolor": "white",
           "zerolinewidth": 2
          }
         }
        },
        "title": {
         "text": "3558 神準 各年度月營收"
        },
        "xaxis": {
         "title": {
          "text": "月份"
         }
        },
        "yaxis": {
         "title": {
          "text": "累計營收"
         }
        }
       }
      },
      "text/html": [
       "<div>                            <div id=\"cb33d4c4-1f6f-4d23-ad77-3765a4e0e4b6\" class=\"plotly-graph-div\" style=\"height:525px; width:100%;\"></div>            <script type=\"text/javascript\">                require([\"plotly\"], function(Plotly) {                    window.PLOTLYENV=window.PLOTLYENV || {};                                    if (document.getElementById(\"cb33d4c4-1f6f-4d23-ad77-3765a4e0e4b6\")) {                    Plotly.newPlot(                        \"cb33d4c4-1f6f-4d23-ad77-3765a4e0e4b6\",                        [{\"name\":\"2017\",\"opacity\":0.7,\"x\":[\"01\",\"02\",\"03\",\"04\",\"05\",\"06\",\"07\",\"08\",\"09\",\"10\",\"11\",\"12\"],\"y\":[615551.0,530603.0,588582.0,529945.0,595857.0,683618.0,652864.0,832567.0,830836.0,918102.0,831190.0,852264.0],\"type\":\"bar\"},{\"name\":\"2018\",\"opacity\":0.7,\"x\":[\"01\",\"02\",\"03\",\"04\",\"05\",\"06\",\"07\",\"08\",\"09\",\"10\",\"11\",\"12\"],\"y\":[825783.0,727256.0,738224.0,767284.0,828922.0,765337.0,729766.0,735444.0,630195.0,635212.0,569198.0,665718.0],\"type\":\"bar\"},{\"name\":\"2019\",\"opacity\":0.7,\"x\":[\"01\",\"02\",\"03\",\"04\",\"05\",\"06\",\"07\",\"08\",\"09\",\"10\",\"11\",\"12\"],\"y\":[609860.0,566100.0,645262.0,696810.0,685359.0,722684.0,701483.0,639706.0,701488.0,668215.0,676676.0,626227.0],\"type\":\"bar\"},{\"name\":\"2020\",\"opacity\":0.7,\"x\":[\"01\",\"02\",\"03\",\"04\",\"05\",\"06\",\"07\",\"08\",\"09\",\"10\",\"11\",\"12\"],\"y\":[635673.0,529475.0,604898.0,589463.0,588459.0,626194.0,656586.0,616538.0,706773.0,669231.0,677769.0,865392.0],\"type\":\"bar\"},{\"name\":\"2021\",\"opacity\":0.7,\"x\":[\"01\",\"02\",\"03\",\"04\",\"05\",\"06\",\"07\",\"08\",\"09\",\"10\",\"11\",\"12\"],\"y\":[704551.0,559950.0,717269.0,707360.0,705140.0,801830.0,869137.0,873747.0,778321.0,753127.0,756627.0,952732.0],\"type\":\"bar\"},{\"name\":\"2022\",\"opacity\":0.7,\"x\":[\"01\",\"02\",\"03\",\"04\",\"05\",\"06\",\"07\",\"08\",\"09\",\"10\",\"11\",\"12\"],\"y\":[935780.0,747433.0,1178937.0,889301.0,1193038.0,1410177.0,1523790.0,1479508.0,1588934.0,1628743.0,1891504.0,1855137.0],\"type\":\"bar\"},{\"marker\":{\"color\":\"black\",\"line\":{\"color\":\"black\"},\"pattern\":{\"fillmode\":\"replace\",\"shape\":\"\\\\\"}},\"name\":\"\\u9810\\u4f30\\u503c\",\"opacity\":1,\"x\":[\"12\",\"01\",\"02\",\"03\",\"04\",\"05\",\"06\",\"07\",\"08\",\"09\",\"10\",\"11\",\"12\"],\"y\":[null,1297641.0,1080552.0,1278054.0,1264996.0,1282951.0,1393944.0,1449441.0,1452705.0,1420060.0,1387415.0,1369460.0,1646944.0],\"type\":\"bar\"}],                        {\"barmode\":\"group\",\"hovermode\":\"x unified\",\"legend\":{\"title\":{\"text\":\"\\u5e74\\u4efd\"}},\"title\":{\"text\":\"3558 \\u795e\\u6e96 \\u5404\\u5e74\\u5ea6\\u6708\\u71df\\u6536\"},\"xaxis\":{\"title\":{\"text\":\"\\u6708\\u4efd\"}},\"yaxis\":{\"title\":{\"text\":\"\\u7d2f\\u8a08\\u71df\\u6536\"}},\"template\":{\"data\":{\"bar\":[{\"error_x\":{\"color\":\"#2a3f5f\"},\"error_y\":{\"color\":\"#2a3f5f\"},\"marker\":{\"line\":{\"color\":\"#E5ECF6\",\"width\":0.5},\"pattern\":{\"fillmode\":\"overlay\",\"size\":10,\"solidity\":0.2}},\"type\":\"bar\"}],\"barpolar\":[{\"marker\":{\"line\":{\"color\":\"#E5ECF6\",\"width\":0.5},\"pattern\":{\"fillmode\":\"overlay\",\"size\":10,\"solidity\":0.2}},\"type\":\"barpolar\"}],\"carpet\":[{\"aaxis\":{\"endlinecolor\":\"#2a3f5f\",\"gridcolor\":\"white\",\"linecolor\":\"white\",\"minorgridcolor\":\"white\",\"startlinecolor\":\"#2a3f5f\"},\"baxis\":{\"endlinecolor\":\"#2a3f5f\",\"gridcolor\":\"white\",\"linecolor\":\"white\",\"minorgridcolor\":\"white\",\"startlinecolor\":\"#2a3f5f\"},\"type\":\"carpet\"}],\"choropleth\":[{\"colorbar\":{\"outlinewidth\":0,\"ticks\":\"\"},\"type\":\"choropleth\"}],\"contour\":[{\"colorbar\":{\"outlinewidth\":0,\"ticks\":\"\"},\"colorscale\":[[0.0,\"#0d0887\"],[0.1111111111111111,\"#46039f\"],[0.2222222222222222,\"#7201a8\"],[0.3333333333333333,\"#9c179e\"],[0.4444444444444444,\"#bd3786\"],[0.5555555555555556,\"#d8576b\"],[0.6666666666666666,\"#ed7953\"],[0.7777777777777778,\"#fb9f3a\"],[0.8888888888888888,\"#fdca26\"],[1.0,\"#f0f921\"]],\"type\":\"contour\"}],\"contourcarpet\":[{\"colorbar\":{\"outlinewidth\":0,\"ticks\":\"\"},\"type\":\"contourcarpet\"}],\"heatmap\":[{\"colorbar\":{\"outlinewidth\":0,\"ticks\":\"\"},\"colorscale\":[[0.0,\"#0d0887\"],[0.1111111111111111,\"#46039f\"],[0.2222222222222222,\"#7201a8\"],[0.3333333333333333,\"#9c179e\"],[0.4444444444444444,\"#bd3786\"],[0.5555555555555556,\"#d8576b\"],[0.6666666666666666,\"#ed7953\"],[0.7777777777777778,\"#fb9f3a\"],[0.8888888888888888,\"#fdca26\"],[1.0,\"#f0f921\"]],\"type\":\"heatmap\"}],\"heatmapgl\":[{\"colorbar\":{\"outlinewidth\":0,\"ticks\":\"\"},\"colorscale\":[[0.0,\"#0d0887\"],[0.1111111111111111,\"#46039f\"],[0.2222222222222222,\"#7201a8\"],[0.3333333333333333,\"#9c179e\"],[0.4444444444444444,\"#bd3786\"],[0.5555555555555556,\"#d8576b\"],[0.6666666666666666,\"#ed7953\"],[0.7777777777777778,\"#fb9f3a\"],[0.8888888888888888,\"#fdca26\"],[1.0,\"#f0f921\"]],\"type\":\"heatmapgl\"}],\"histogram\":[{\"marker\":{\"pattern\":{\"fillmode\":\"overlay\",\"size\":10,\"solidity\":0.2}},\"type\":\"histogram\"}],\"histogram2d\":[{\"colorbar\":{\"outlinewidth\":0,\"ticks\":\"\"},\"colorscale\":[[0.0,\"#0d0887\"],[0.1111111111111111,\"#46039f\"],[0.2222222222222222,\"#7201a8\"],[0.3333333333333333,\"#9c179e\"],[0.4444444444444444,\"#bd3786\"],[0.5555555555555556,\"#d8576b\"],[0.6666666666666666,\"#ed7953\"],[0.7777777777777778,\"#fb9f3a\"],[0.8888888888888888,\"#fdca26\"],[1.0,\"#f0f921\"]],\"type\":\"histogram2d\"}],\"histogram2dcontour\":[{\"colorbar\":{\"outlinewidth\":0,\"ticks\":\"\"},\"colorscale\":[[0.0,\"#0d0887\"],[0.1111111111111111,\"#46039f\"],[0.2222222222222222,\"#7201a8\"],[0.3333333333333333,\"#9c179e\"],[0.4444444444444444,\"#bd3786\"],[0.5555555555555556,\"#d8576b\"],[0.6666666666666666,\"#ed7953\"],[0.7777777777777778,\"#fb9f3a\"],[0.8888888888888888,\"#fdca26\"],[1.0,\"#f0f921\"]],\"type\":\"histogram2dcontour\"}],\"mesh3d\":[{\"colorbar\":{\"outlinewidth\":0,\"ticks\":\"\"},\"type\":\"mesh3d\"}],\"parcoords\":[{\"line\":{\"colorbar\":{\"outlinewidth\":0,\"ticks\":\"\"}},\"type\":\"parcoords\"}],\"pie\":[{\"automargin\":true,\"type\":\"pie\"}],\"scatter\":[{\"marker\":{\"colorbar\":{\"outlinewidth\":0,\"ticks\":\"\"}},\"type\":\"scatter\"}],\"scatter3d\":[{\"line\":{\"colorbar\":{\"outlinewidth\":0,\"ticks\":\"\"}},\"marker\":{\"colorbar\":{\"outlinewidth\":0,\"ticks\":\"\"}},\"type\":\"scatter3d\"}],\"scattercarpet\":[{\"marker\":{\"colorbar\":{\"outlinewidth\":0,\"ticks\":\"\"}},\"type\":\"scattercarpet\"}],\"scattergeo\":[{\"marker\":{\"colorbar\":{\"outlinewidth\":0,\"ticks\":\"\"}},\"type\":\"scattergeo\"}],\"scattergl\":[{\"marker\":{\"colorbar\":{\"outlinewidth\":0,\"ticks\":\"\"}},\"type\":\"scattergl\"}],\"scattermapbox\":[{\"marker\":{\"colorbar\":{\"outlinewidth\":0,\"ticks\":\"\"}},\"type\":\"scattermapbox\"}],\"scatterpolar\":[{\"marker\":{\"colorbar\":{\"outlinewidth\":0,\"ticks\":\"\"}},\"type\":\"scatterpolar\"}],\"scatterpolargl\":[{\"marker\":{\"colorbar\":{\"outlinewidth\":0,\"ticks\":\"\"}},\"type\":\"scatterpolargl\"}],\"scatterternary\":[{\"marker\":{\"colorbar\":{\"outlinewidth\":0,\"ticks\":\"\"}},\"type\":\"scatterternary\"}],\"surface\":[{\"colorbar\":{\"outlinewidth\":0,\"ticks\":\"\"},\"colorscale\":[[0.0,\"#0d0887\"],[0.1111111111111111,\"#46039f\"],[0.2222222222222222,\"#7201a8\"],[0.3333333333333333,\"#9c179e\"],[0.4444444444444444,\"#bd3786\"],[0.5555555555555556,\"#d8576b\"],[0.6666666666666666,\"#ed7953\"],[0.7777777777777778,\"#fb9f3a\"],[0.8888888888888888,\"#fdca26\"],[1.0,\"#f0f921\"]],\"type\":\"surface\"}],\"table\":[{\"cells\":{\"fill\":{\"color\":\"#EBF0F8\"},\"line\":{\"color\":\"white\"}},\"header\":{\"fill\":{\"color\":\"#C8D4E3\"},\"line\":{\"color\":\"white\"}},\"type\":\"table\"}]},\"layout\":{\"annotationdefaults\":{\"arrowcolor\":\"#2a3f5f\",\"arrowhead\":0,\"arrowwidth\":1},\"autotypenumbers\":\"strict\",\"coloraxis\":{\"colorbar\":{\"outlinewidth\":0,\"ticks\":\"\"}},\"colorscale\":{\"diverging\":[[0,\"#8e0152\"],[0.1,\"#c51b7d\"],[0.2,\"#de77ae\"],[0.3,\"#f1b6da\"],[0.4,\"#fde0ef\"],[0.5,\"#f7f7f7\"],[0.6,\"#e6f5d0\"],[0.7,\"#b8e186\"],[0.8,\"#7fbc41\"],[0.9,\"#4d9221\"],[1,\"#276419\"]],\"sequential\":[[0.0,\"#0d0887\"],[0.1111111111111111,\"#46039f\"],[0.2222222222222222,\"#7201a8\"],[0.3333333333333333,\"#9c179e\"],[0.4444444444444444,\"#bd3786\"],[0.5555555555555556,\"#d8576b\"],[0.6666666666666666,\"#ed7953\"],[0.7777777777777778,\"#fb9f3a\"],[0.8888888888888888,\"#fdca26\"],[1.0,\"#f0f921\"]],\"sequentialminus\":[[0.0,\"#0d0887\"],[0.1111111111111111,\"#46039f\"],[0.2222222222222222,\"#7201a8\"],[0.3333333333333333,\"#9c179e\"],[0.4444444444444444,\"#bd3786\"],[0.5555555555555556,\"#d8576b\"],[0.6666666666666666,\"#ed7953\"],[0.7777777777777778,\"#fb9f3a\"],[0.8888888888888888,\"#fdca26\"],[1.0,\"#f0f921\"]]},\"colorway\":[\"#636efa\",\"#EF553B\",\"#00cc96\",\"#ab63fa\",\"#FFA15A\",\"#19d3f3\",\"#FF6692\",\"#B6E880\",\"#FF97FF\",\"#FECB52\"],\"font\":{\"color\":\"#2a3f5f\"},\"geo\":{\"bgcolor\":\"white\",\"lakecolor\":\"white\",\"landcolor\":\"#E5ECF6\",\"showlakes\":true,\"showland\":true,\"subunitcolor\":\"white\"},\"hoverlabel\":{\"align\":\"left\"},\"hovermode\":\"closest\",\"mapbox\":{\"style\":\"light\"},\"paper_bgcolor\":\"white\",\"plot_bgcolor\":\"#E5ECF6\",\"polar\":{\"angularaxis\":{\"gridcolor\":\"white\",\"linecolor\":\"white\",\"ticks\":\"\"},\"bgcolor\":\"#E5ECF6\",\"radialaxis\":{\"gridcolor\":\"white\",\"linecolor\":\"white\",\"ticks\":\"\"}},\"scene\":{\"xaxis\":{\"backgroundcolor\":\"#E5ECF6\",\"gridcolor\":\"white\",\"gridwidth\":2,\"linecolor\":\"white\",\"showbackground\":true,\"ticks\":\"\",\"zerolinecolor\":\"white\"},\"yaxis\":{\"backgroundcolor\":\"#E5ECF6\",\"gridcolor\":\"white\",\"gridwidth\":2,\"linecolor\":\"white\",\"showbackground\":true,\"ticks\":\"\",\"zerolinecolor\":\"white\"},\"zaxis\":{\"backgroundcolor\":\"#E5ECF6\",\"gridcolor\":\"white\",\"gridwidth\":2,\"linecolor\":\"white\",\"showbackground\":true,\"ticks\":\"\",\"zerolinecolor\":\"white\"}},\"shapedefaults\":{\"line\":{\"color\":\"#2a3f5f\"}},\"ternary\":{\"aaxis\":{\"gridcolor\":\"white\",\"linecolor\":\"white\",\"ticks\":\"\"},\"baxis\":{\"gridcolor\":\"white\",\"linecolor\":\"white\",\"ticks\":\"\"},\"bgcolor\":\"#E5ECF6\",\"caxis\":{\"gridcolor\":\"white\",\"linecolor\":\"white\",\"ticks\":\"\"}},\"title\":{\"x\":0.05},\"xaxis\":{\"automargin\":true,\"gridcolor\":\"white\",\"linecolor\":\"white\",\"ticks\":\"\",\"title\":{\"standoff\":15},\"zerolinecolor\":\"white\",\"zerolinewidth\":2},\"yaxis\":{\"automargin\":true,\"gridcolor\":\"white\",\"linecolor\":\"white\",\"ticks\":\"\",\"title\":{\"standoff\":15},\"zerolinecolor\":\"white\",\"zerolinewidth\":2}}}},                        {\"responsive\": true}                    ).then(function(){\n",
       "                            \n",
       "var gd = document.getElementById('cb33d4c4-1f6f-4d23-ad77-3765a4e0e4b6');\n",
       "var x = new MutationObserver(function (mutations, observer) {{\n",
       "        var display = window.getComputedStyle(gd).display;\n",
       "        if (!display || display === 'none') {{\n",
       "            console.log([gd, 'removed!']);\n",
       "            Plotly.purge(gd);\n",
       "            observer.disconnect();\n",
       "        }}\n",
       "}});\n",
       "\n",
       "// Listen for the removal of the full notebook cells\n",
       "var notebookContainer = gd.closest('#notebook-container');\n",
       "if (notebookContainer) {{\n",
       "    x.observe(notebookContainer, {childList: true});\n",
       "}}\n",
       "\n",
       "// Listen for the clearing of the current output cell\n",
       "var outputEl = gd.closest('.output');\n",
       "if (outputEl) {{\n",
       "    x.observe(outputEl, {childList: true});\n",
       "}}\n",
       "\n",
       "                        })                };                });            </script>        </div>"
      ]
     },
     "metadata": {},
     "output_type": "display_data"
    },
    {
     "data": {
      "application/vnd.plotly.v1+json": {
       "config": {
        "plotlyServerURL": "https://plot.ly"
       },
       "data": [
        {
         "name": "2017",
         "opacity": 0.5,
         "type": "scatter",
         "x": [
          "01",
          "02",
          "03",
          "04",
          "05",
          "06",
          "07",
          "08",
          "09",
          "10",
          "11",
          "12"
         ],
         "y": [
          null,
          -0.138,
          0.1093,
          -0.0996,
          0.1244,
          0.1473,
          -0.045,
          0.2753,
          -0.0021,
          0.105,
          -0.0947,
          0.0254
         ]
        },
        {
         "name": "2018",
         "opacity": 0.5,
         "type": "scatter",
         "x": [
          "01",
          "02",
          "03",
          "04",
          "05",
          "06",
          "07",
          "08",
          "09",
          "10",
          "11",
          "12"
         ],
         "y": [
          -0.0311,
          -0.1193,
          0.0151,
          0.0394,
          0.0803,
          -0.0767,
          -0.0465,
          0.0078,
          -0.1431,
          0.008,
          -0.1039,
          0.1696
         ]
        },
        {
         "name": "2019",
         "opacity": 0.5,
         "type": "scatter",
         "x": [
          "01",
          "02",
          "03",
          "04",
          "05",
          "06",
          "07",
          "08",
          "09",
          "10",
          "11",
          "12"
         ],
         "y": [
          -0.0839,
          -0.0718,
          0.1398,
          0.0799,
          -0.0164,
          0.0545,
          -0.0293,
          -0.0881,
          0.0966,
          -0.0474,
          0.0127,
          -0.0746
         ]
        },
        {
         "name": "2020",
         "opacity": 0.5,
         "type": "scatter",
         "x": [
          "01",
          "02",
          "03",
          "04",
          "05",
          "06",
          "07",
          "08",
          "09",
          "10",
          "11",
          "12"
         ],
         "y": [
          0.0151,
          -0.1671,
          0.1424,
          -0.0255,
          -0.0017,
          0.0641,
          0.0485,
          -0.061,
          0.1464,
          -0.0531,
          0.0128,
          0.2768
         ]
        },
        {
         "name": "2021",
         "opacity": 0.5,
         "type": "scatter",
         "x": [
          "01",
          "02",
          "03",
          "04",
          "05",
          "06",
          "07",
          "08",
          "09",
          "10",
          "11",
          "12"
         ],
         "y": [
          -0.1859,
          -0.2052,
          0.281,
          -0.0138,
          -0.0031,
          0.1371,
          0.0839,
          0.0053,
          -0.1092,
          -0.0324,
          0.0046,
          0.2592
         ]
        },
        {
         "name": "2022",
         "opacity": 0.5,
         "type": "scatter",
         "x": [
          "01",
          "02",
          "03",
          "04",
          "05",
          "06",
          "07",
          "08",
          "09",
          "10",
          "11",
          "12"
         ],
         "y": [
          -0.0178,
          -0.2013,
          0.5773,
          -0.2457,
          0.3415,
          0.182,
          0.0806,
          -0.0291,
          0.074,
          0.0251,
          0.1613,
          -0.0192
         ]
        },
        {
         "connectgaps": false,
         "line": {
          "dash": "dash"
         },
         "name": "2022預估值",
         "type": "scatter",
         "x": [
          "12"
         ],
         "y": [
          -0.019226499124506212
         ]
        },
        {
         "connectgaps": false,
         "line": {
          "dash": "dash"
         },
         "name": "2023預估值",
         "type": "scatter",
         "x": [
          "01",
          "02",
          "03",
          "04",
          "05",
          "06",
          "07",
          "08",
          "09",
          "10",
          "11",
          "12"
         ],
         "y": [
          -0.30051473287417585,
          -0.16729511475053577,
          0.18277880194567223,
          -0.010217095678273376,
          0.014193720770658563,
          0.08651382632696027,
          0.03981293366161051,
          0.002251902630048412,
          -0.02247187143983121,
          -0.022988465276115092,
          -0.012941333342943532,
          0.20262293166649628
         ]
        }
       ],
       "layout": {
        "hovermode": "x unified",
        "legend": {
         "title": {
          "text": "年份"
         }
        },
        "template": {
         "data": {
          "bar": [
           {
            "error_x": {
             "color": "#2a3f5f"
            },
            "error_y": {
             "color": "#2a3f5f"
            },
            "marker": {
             "line": {
              "color": "#E5ECF6",
              "width": 0.5
             },
             "pattern": {
              "fillmode": "overlay",
              "size": 10,
              "solidity": 0.2
             }
            },
            "type": "bar"
           }
          ],
          "barpolar": [
           {
            "marker": {
             "line": {
              "color": "#E5ECF6",
              "width": 0.5
             },
             "pattern": {
              "fillmode": "overlay",
              "size": 10,
              "solidity": 0.2
             }
            },
            "type": "barpolar"
           }
          ],
          "carpet": [
           {
            "aaxis": {
             "endlinecolor": "#2a3f5f",
             "gridcolor": "white",
             "linecolor": "white",
             "minorgridcolor": "white",
             "startlinecolor": "#2a3f5f"
            },
            "baxis": {
             "endlinecolor": "#2a3f5f",
             "gridcolor": "white",
             "linecolor": "white",
             "minorgridcolor": "white",
             "startlinecolor": "#2a3f5f"
            },
            "type": "carpet"
           }
          ],
          "choropleth": [
           {
            "colorbar": {
             "outlinewidth": 0,
             "ticks": ""
            },
            "type": "choropleth"
           }
          ],
          "contour": [
           {
            "colorbar": {
             "outlinewidth": 0,
             "ticks": ""
            },
            "colorscale": [
             [
              0,
              "#0d0887"
             ],
             [
              0.1111111111111111,
              "#46039f"
             ],
             [
              0.2222222222222222,
              "#7201a8"
             ],
             [
              0.3333333333333333,
              "#9c179e"
             ],
             [
              0.4444444444444444,
              "#bd3786"
             ],
             [
              0.5555555555555556,
              "#d8576b"
             ],
             [
              0.6666666666666666,
              "#ed7953"
             ],
             [
              0.7777777777777778,
              "#fb9f3a"
             ],
             [
              0.8888888888888888,
              "#fdca26"
             ],
             [
              1,
              "#f0f921"
             ]
            ],
            "type": "contour"
           }
          ],
          "contourcarpet": [
           {
            "colorbar": {
             "outlinewidth": 0,
             "ticks": ""
            },
            "type": "contourcarpet"
           }
          ],
          "heatmap": [
           {
            "colorbar": {
             "outlinewidth": 0,
             "ticks": ""
            },
            "colorscale": [
             [
              0,
              "#0d0887"
             ],
             [
              0.1111111111111111,
              "#46039f"
             ],
             [
              0.2222222222222222,
              "#7201a8"
             ],
             [
              0.3333333333333333,
              "#9c179e"
             ],
             [
              0.4444444444444444,
              "#bd3786"
             ],
             [
              0.5555555555555556,
              "#d8576b"
             ],
             [
              0.6666666666666666,
              "#ed7953"
             ],
             [
              0.7777777777777778,
              "#fb9f3a"
             ],
             [
              0.8888888888888888,
              "#fdca26"
             ],
             [
              1,
              "#f0f921"
             ]
            ],
            "type": "heatmap"
           }
          ],
          "heatmapgl": [
           {
            "colorbar": {
             "outlinewidth": 0,
             "ticks": ""
            },
            "colorscale": [
             [
              0,
              "#0d0887"
             ],
             [
              0.1111111111111111,
              "#46039f"
             ],
             [
              0.2222222222222222,
              "#7201a8"
             ],
             [
              0.3333333333333333,
              "#9c179e"
             ],
             [
              0.4444444444444444,
              "#bd3786"
             ],
             [
              0.5555555555555556,
              "#d8576b"
             ],
             [
              0.6666666666666666,
              "#ed7953"
             ],
             [
              0.7777777777777778,
              "#fb9f3a"
             ],
             [
              0.8888888888888888,
              "#fdca26"
             ],
             [
              1,
              "#f0f921"
             ]
            ],
            "type": "heatmapgl"
           }
          ],
          "histogram": [
           {
            "marker": {
             "pattern": {
              "fillmode": "overlay",
              "size": 10,
              "solidity": 0.2
             }
            },
            "type": "histogram"
           }
          ],
          "histogram2d": [
           {
            "colorbar": {
             "outlinewidth": 0,
             "ticks": ""
            },
            "colorscale": [
             [
              0,
              "#0d0887"
             ],
             [
              0.1111111111111111,
              "#46039f"
             ],
             [
              0.2222222222222222,
              "#7201a8"
             ],
             [
              0.3333333333333333,
              "#9c179e"
             ],
             [
              0.4444444444444444,
              "#bd3786"
             ],
             [
              0.5555555555555556,
              "#d8576b"
             ],
             [
              0.6666666666666666,
              "#ed7953"
             ],
             [
              0.7777777777777778,
              "#fb9f3a"
             ],
             [
              0.8888888888888888,
              "#fdca26"
             ],
             [
              1,
              "#f0f921"
             ]
            ],
            "type": "histogram2d"
           }
          ],
          "histogram2dcontour": [
           {
            "colorbar": {
             "outlinewidth": 0,
             "ticks": ""
            },
            "colorscale": [
             [
              0,
              "#0d0887"
             ],
             [
              0.1111111111111111,
              "#46039f"
             ],
             [
              0.2222222222222222,
              "#7201a8"
             ],
             [
              0.3333333333333333,
              "#9c179e"
             ],
             [
              0.4444444444444444,
              "#bd3786"
             ],
             [
              0.5555555555555556,
              "#d8576b"
             ],
             [
              0.6666666666666666,
              "#ed7953"
             ],
             [
              0.7777777777777778,
              "#fb9f3a"
             ],
             [
              0.8888888888888888,
              "#fdca26"
             ],
             [
              1,
              "#f0f921"
             ]
            ],
            "type": "histogram2dcontour"
           }
          ],
          "mesh3d": [
           {
            "colorbar": {
             "outlinewidth": 0,
             "ticks": ""
            },
            "type": "mesh3d"
           }
          ],
          "parcoords": [
           {
            "line": {
             "colorbar": {
              "outlinewidth": 0,
              "ticks": ""
             }
            },
            "type": "parcoords"
           }
          ],
          "pie": [
           {
            "automargin": true,
            "type": "pie"
           }
          ],
          "scatter": [
           {
            "marker": {
             "colorbar": {
              "outlinewidth": 0,
              "ticks": ""
             }
            },
            "type": "scatter"
           }
          ],
          "scatter3d": [
           {
            "line": {
             "colorbar": {
              "outlinewidth": 0,
              "ticks": ""
             }
            },
            "marker": {
             "colorbar": {
              "outlinewidth": 0,
              "ticks": ""
             }
            },
            "type": "scatter3d"
           }
          ],
          "scattercarpet": [
           {
            "marker": {
             "colorbar": {
              "outlinewidth": 0,
              "ticks": ""
             }
            },
            "type": "scattercarpet"
           }
          ],
          "scattergeo": [
           {
            "marker": {
             "colorbar": {
              "outlinewidth": 0,
              "ticks": ""
             }
            },
            "type": "scattergeo"
           }
          ],
          "scattergl": [
           {
            "marker": {
             "colorbar": {
              "outlinewidth": 0,
              "ticks": ""
             }
            },
            "type": "scattergl"
           }
          ],
          "scattermapbox": [
           {
            "marker": {
             "colorbar": {
              "outlinewidth": 0,
              "ticks": ""
             }
            },
            "type": "scattermapbox"
           }
          ],
          "scatterpolar": [
           {
            "marker": {
             "colorbar": {
              "outlinewidth": 0,
              "ticks": ""
             }
            },
            "type": "scatterpolar"
           }
          ],
          "scatterpolargl": [
           {
            "marker": {
             "colorbar": {
              "outlinewidth": 0,
              "ticks": ""
             }
            },
            "type": "scatterpolargl"
           }
          ],
          "scatterternary": [
           {
            "marker": {
             "colorbar": {
              "outlinewidth": 0,
              "ticks": ""
             }
            },
            "type": "scatterternary"
           }
          ],
          "surface": [
           {
            "colorbar": {
             "outlinewidth": 0,
             "ticks": ""
            },
            "colorscale": [
             [
              0,
              "#0d0887"
             ],
             [
              0.1111111111111111,
              "#46039f"
             ],
             [
              0.2222222222222222,
              "#7201a8"
             ],
             [
              0.3333333333333333,
              "#9c179e"
             ],
             [
              0.4444444444444444,
              "#bd3786"
             ],
             [
              0.5555555555555556,
              "#d8576b"
             ],
             [
              0.6666666666666666,
              "#ed7953"
             ],
             [
              0.7777777777777778,
              "#fb9f3a"
             ],
             [
              0.8888888888888888,
              "#fdca26"
             ],
             [
              1,
              "#f0f921"
             ]
            ],
            "type": "surface"
           }
          ],
          "table": [
           {
            "cells": {
             "fill": {
              "color": "#EBF0F8"
             },
             "line": {
              "color": "white"
             }
            },
            "header": {
             "fill": {
              "color": "#C8D4E3"
             },
             "line": {
              "color": "white"
             }
            },
            "type": "table"
           }
          ]
         },
         "layout": {
          "annotationdefaults": {
           "arrowcolor": "#2a3f5f",
           "arrowhead": 0,
           "arrowwidth": 1
          },
          "autotypenumbers": "strict",
          "coloraxis": {
           "colorbar": {
            "outlinewidth": 0,
            "ticks": ""
           }
          },
          "colorscale": {
           "diverging": [
            [
             0,
             "#8e0152"
            ],
            [
             0.1,
             "#c51b7d"
            ],
            [
             0.2,
             "#de77ae"
            ],
            [
             0.3,
             "#f1b6da"
            ],
            [
             0.4,
             "#fde0ef"
            ],
            [
             0.5,
             "#f7f7f7"
            ],
            [
             0.6,
             "#e6f5d0"
            ],
            [
             0.7,
             "#b8e186"
            ],
            [
             0.8,
             "#7fbc41"
            ],
            [
             0.9,
             "#4d9221"
            ],
            [
             1,
             "#276419"
            ]
           ],
           "sequential": [
            [
             0,
             "#0d0887"
            ],
            [
             0.1111111111111111,
             "#46039f"
            ],
            [
             0.2222222222222222,
             "#7201a8"
            ],
            [
             0.3333333333333333,
             "#9c179e"
            ],
            [
             0.4444444444444444,
             "#bd3786"
            ],
            [
             0.5555555555555556,
             "#d8576b"
            ],
            [
             0.6666666666666666,
             "#ed7953"
            ],
            [
             0.7777777777777778,
             "#fb9f3a"
            ],
            [
             0.8888888888888888,
             "#fdca26"
            ],
            [
             1,
             "#f0f921"
            ]
           ],
           "sequentialminus": [
            [
             0,
             "#0d0887"
            ],
            [
             0.1111111111111111,
             "#46039f"
            ],
            [
             0.2222222222222222,
             "#7201a8"
            ],
            [
             0.3333333333333333,
             "#9c179e"
            ],
            [
             0.4444444444444444,
             "#bd3786"
            ],
            [
             0.5555555555555556,
             "#d8576b"
            ],
            [
             0.6666666666666666,
             "#ed7953"
            ],
            [
             0.7777777777777778,
             "#fb9f3a"
            ],
            [
             0.8888888888888888,
             "#fdca26"
            ],
            [
             1,
             "#f0f921"
            ]
           ]
          },
          "colorway": [
           "#636efa",
           "#EF553B",
           "#00cc96",
           "#ab63fa",
           "#FFA15A",
           "#19d3f3",
           "#FF6692",
           "#B6E880",
           "#FF97FF",
           "#FECB52"
          ],
          "font": {
           "color": "#2a3f5f"
          },
          "geo": {
           "bgcolor": "white",
           "lakecolor": "white",
           "landcolor": "#E5ECF6",
           "showlakes": true,
           "showland": true,
           "subunitcolor": "white"
          },
          "hoverlabel": {
           "align": "left"
          },
          "hovermode": "closest",
          "mapbox": {
           "style": "light"
          },
          "paper_bgcolor": "white",
          "plot_bgcolor": "#E5ECF6",
          "polar": {
           "angularaxis": {
            "gridcolor": "white",
            "linecolor": "white",
            "ticks": ""
           },
           "bgcolor": "#E5ECF6",
           "radialaxis": {
            "gridcolor": "white",
            "linecolor": "white",
            "ticks": ""
           }
          },
          "scene": {
           "xaxis": {
            "backgroundcolor": "#E5ECF6",
            "gridcolor": "white",
            "gridwidth": 2,
            "linecolor": "white",
            "showbackground": true,
            "ticks": "",
            "zerolinecolor": "white"
           },
           "yaxis": {
            "backgroundcolor": "#E5ECF6",
            "gridcolor": "white",
            "gridwidth": 2,
            "linecolor": "white",
            "showbackground": true,
            "ticks": "",
            "zerolinecolor": "white"
           },
           "zaxis": {
            "backgroundcolor": "#E5ECF6",
            "gridcolor": "white",
            "gridwidth": 2,
            "linecolor": "white",
            "showbackground": true,
            "ticks": "",
            "zerolinecolor": "white"
           }
          },
          "shapedefaults": {
           "line": {
            "color": "#2a3f5f"
           }
          },
          "ternary": {
           "aaxis": {
            "gridcolor": "white",
            "linecolor": "white",
            "ticks": ""
           },
           "baxis": {
            "gridcolor": "white",
            "linecolor": "white",
            "ticks": ""
           },
           "bgcolor": "#E5ECF6",
           "caxis": {
            "gridcolor": "white",
            "linecolor": "white",
            "ticks": ""
           }
          },
          "title": {
           "x": 0.05
          },
          "xaxis": {
           "automargin": true,
           "gridcolor": "white",
           "linecolor": "white",
           "ticks": "",
           "title": {
            "standoff": 15
           },
           "zerolinecolor": "white",
           "zerolinewidth": 2
          },
          "yaxis": {
           "automargin": true,
           "gridcolor": "white",
           "linecolor": "white",
           "ticks": "",
           "title": {
            "standoff": 15
           },
           "zerolinecolor": "white",
           "zerolinewidth": 2
          }
         }
        },
        "title": {
         "text": "3558 神準 各年度月營收 MOM %"
        },
        "xaxis": {
         "title": {
          "text": "月份"
         }
        },
        "yaxis": {
         "title": {
          "text": "MOM %"
         }
        }
       }
      },
      "text/html": [
       "<div>                            <div id=\"f3d9243f-ccb5-4afa-86cf-413880f0d927\" class=\"plotly-graph-div\" style=\"height:525px; width:100%;\"></div>            <script type=\"text/javascript\">                require([\"plotly\"], function(Plotly) {                    window.PLOTLYENV=window.PLOTLYENV || {};                                    if (document.getElementById(\"f3d9243f-ccb5-4afa-86cf-413880f0d927\")) {                    Plotly.newPlot(                        \"f3d9243f-ccb5-4afa-86cf-413880f0d927\",                        [{\"name\":\"2017\",\"opacity\":0.5,\"x\":[\"01\",\"02\",\"03\",\"04\",\"05\",\"06\",\"07\",\"08\",\"09\",\"10\",\"11\",\"12\"],\"y\":[null,-0.138,0.1093,-0.0996,0.1244,0.1473,-0.045,0.2753,-0.0021,0.105,-0.0947,0.0254],\"type\":\"scatter\"},{\"name\":\"2018\",\"opacity\":0.5,\"x\":[\"01\",\"02\",\"03\",\"04\",\"05\",\"06\",\"07\",\"08\",\"09\",\"10\",\"11\",\"12\"],\"y\":[-0.0311,-0.1193,0.0151,0.0394,0.0803,-0.0767,-0.0465,0.0078,-0.1431,0.008,-0.1039,0.1696],\"type\":\"scatter\"},{\"name\":\"2019\",\"opacity\":0.5,\"x\":[\"01\",\"02\",\"03\",\"04\",\"05\",\"06\",\"07\",\"08\",\"09\",\"10\",\"11\",\"12\"],\"y\":[-0.0839,-0.0718,0.1398,0.0799,-0.0164,0.0545,-0.0293,-0.0881,0.0966,-0.0474,0.0127,-0.0746],\"type\":\"scatter\"},{\"name\":\"2020\",\"opacity\":0.5,\"x\":[\"01\",\"02\",\"03\",\"04\",\"05\",\"06\",\"07\",\"08\",\"09\",\"10\",\"11\",\"12\"],\"y\":[0.0151,-0.1671,0.1424,-0.0255,-0.0017,0.0641,0.0485,-0.061,0.1464,-0.0531,0.0128,0.2768],\"type\":\"scatter\"},{\"name\":\"2021\",\"opacity\":0.5,\"x\":[\"01\",\"02\",\"03\",\"04\",\"05\",\"06\",\"07\",\"08\",\"09\",\"10\",\"11\",\"12\"],\"y\":[-0.1859,-0.2052,0.281,-0.0138,-0.0031,0.1371,0.0839,0.0053,-0.1092,-0.0324,0.0046,0.2592],\"type\":\"scatter\"},{\"name\":\"2022\",\"opacity\":0.5,\"x\":[\"01\",\"02\",\"03\",\"04\",\"05\",\"06\",\"07\",\"08\",\"09\",\"10\",\"11\",\"12\"],\"y\":[-0.0178,-0.2013,0.5773,-0.2457,0.3415,0.182,0.0806,-0.0291,0.074,0.0251,0.1613,-0.0192],\"type\":\"scatter\"},{\"connectgaps\":false,\"line\":{\"dash\":\"dash\"},\"name\":\"2022\\u9810\\u4f30\\u503c\",\"x\":[\"12\"],\"y\":[-0.019226499124506212],\"type\":\"scatter\"},{\"connectgaps\":false,\"line\":{\"dash\":\"dash\"},\"name\":\"2023\\u9810\\u4f30\\u503c\",\"x\":[\"01\",\"02\",\"03\",\"04\",\"05\",\"06\",\"07\",\"08\",\"09\",\"10\",\"11\",\"12\"],\"y\":[-0.30051473287417585,-0.16729511475053577,0.18277880194567223,-0.010217095678273376,0.014193720770658563,0.08651382632696027,0.03981293366161051,0.002251902630048412,-0.02247187143983121,-0.022988465276115092,-0.012941333342943532,0.20262293166649628],\"type\":\"scatter\"}],                        {\"hovermode\":\"x unified\",\"legend\":{\"title\":{\"text\":\"\\u5e74\\u4efd\"}},\"title\":{\"text\":\"3558 \\u795e\\u6e96 \\u5404\\u5e74\\u5ea6\\u6708\\u71df\\u6536 MOM %\"},\"xaxis\":{\"title\":{\"text\":\"\\u6708\\u4efd\"}},\"yaxis\":{\"title\":{\"text\":\"MOM %\"}},\"template\":{\"data\":{\"bar\":[{\"error_x\":{\"color\":\"#2a3f5f\"},\"error_y\":{\"color\":\"#2a3f5f\"},\"marker\":{\"line\":{\"color\":\"#E5ECF6\",\"width\":0.5},\"pattern\":{\"fillmode\":\"overlay\",\"size\":10,\"solidity\":0.2}},\"type\":\"bar\"}],\"barpolar\":[{\"marker\":{\"line\":{\"color\":\"#E5ECF6\",\"width\":0.5},\"pattern\":{\"fillmode\":\"overlay\",\"size\":10,\"solidity\":0.2}},\"type\":\"barpolar\"}],\"carpet\":[{\"aaxis\":{\"endlinecolor\":\"#2a3f5f\",\"gridcolor\":\"white\",\"linecolor\":\"white\",\"minorgridcolor\":\"white\",\"startlinecolor\":\"#2a3f5f\"},\"baxis\":{\"endlinecolor\":\"#2a3f5f\",\"gridcolor\":\"white\",\"linecolor\":\"white\",\"minorgridcolor\":\"white\",\"startlinecolor\":\"#2a3f5f\"},\"type\":\"carpet\"}],\"choropleth\":[{\"colorbar\":{\"outlinewidth\":0,\"ticks\":\"\"},\"type\":\"choropleth\"}],\"contour\":[{\"colorbar\":{\"outlinewidth\":0,\"ticks\":\"\"},\"colorscale\":[[0.0,\"#0d0887\"],[0.1111111111111111,\"#46039f\"],[0.2222222222222222,\"#7201a8\"],[0.3333333333333333,\"#9c179e\"],[0.4444444444444444,\"#bd3786\"],[0.5555555555555556,\"#d8576b\"],[0.6666666666666666,\"#ed7953\"],[0.7777777777777778,\"#fb9f3a\"],[0.8888888888888888,\"#fdca26\"],[1.0,\"#f0f921\"]],\"type\":\"contour\"}],\"contourcarpet\":[{\"colorbar\":{\"outlinewidth\":0,\"ticks\":\"\"},\"type\":\"contourcarpet\"}],\"heatmap\":[{\"colorbar\":{\"outlinewidth\":0,\"ticks\":\"\"},\"colorscale\":[[0.0,\"#0d0887\"],[0.1111111111111111,\"#46039f\"],[0.2222222222222222,\"#7201a8\"],[0.3333333333333333,\"#9c179e\"],[0.4444444444444444,\"#bd3786\"],[0.5555555555555556,\"#d8576b\"],[0.6666666666666666,\"#ed7953\"],[0.7777777777777778,\"#fb9f3a\"],[0.8888888888888888,\"#fdca26\"],[1.0,\"#f0f921\"]],\"type\":\"heatmap\"}],\"heatmapgl\":[{\"colorbar\":{\"outlinewidth\":0,\"ticks\":\"\"},\"colorscale\":[[0.0,\"#0d0887\"],[0.1111111111111111,\"#46039f\"],[0.2222222222222222,\"#7201a8\"],[0.3333333333333333,\"#9c179e\"],[0.4444444444444444,\"#bd3786\"],[0.5555555555555556,\"#d8576b\"],[0.6666666666666666,\"#ed7953\"],[0.7777777777777778,\"#fb9f3a\"],[0.8888888888888888,\"#fdca26\"],[1.0,\"#f0f921\"]],\"type\":\"heatmapgl\"}],\"histogram\":[{\"marker\":{\"pattern\":{\"fillmode\":\"overlay\",\"size\":10,\"solidity\":0.2}},\"type\":\"histogram\"}],\"histogram2d\":[{\"colorbar\":{\"outlinewidth\":0,\"ticks\":\"\"},\"colorscale\":[[0.0,\"#0d0887\"],[0.1111111111111111,\"#46039f\"],[0.2222222222222222,\"#7201a8\"],[0.3333333333333333,\"#9c179e\"],[0.4444444444444444,\"#bd3786\"],[0.5555555555555556,\"#d8576b\"],[0.6666666666666666,\"#ed7953\"],[0.7777777777777778,\"#fb9f3a\"],[0.8888888888888888,\"#fdca26\"],[1.0,\"#f0f921\"]],\"type\":\"histogram2d\"}],\"histogram2dcontour\":[{\"colorbar\":{\"outlinewidth\":0,\"ticks\":\"\"},\"colorscale\":[[0.0,\"#0d0887\"],[0.1111111111111111,\"#46039f\"],[0.2222222222222222,\"#7201a8\"],[0.3333333333333333,\"#9c179e\"],[0.4444444444444444,\"#bd3786\"],[0.5555555555555556,\"#d8576b\"],[0.6666666666666666,\"#ed7953\"],[0.7777777777777778,\"#fb9f3a\"],[0.8888888888888888,\"#fdca26\"],[1.0,\"#f0f921\"]],\"type\":\"histogram2dcontour\"}],\"mesh3d\":[{\"colorbar\":{\"outlinewidth\":0,\"ticks\":\"\"},\"type\":\"mesh3d\"}],\"parcoords\":[{\"line\":{\"colorbar\":{\"outlinewidth\":0,\"ticks\":\"\"}},\"type\":\"parcoords\"}],\"pie\":[{\"automargin\":true,\"type\":\"pie\"}],\"scatter\":[{\"marker\":{\"colorbar\":{\"outlinewidth\":0,\"ticks\":\"\"}},\"type\":\"scatter\"}],\"scatter3d\":[{\"line\":{\"colorbar\":{\"outlinewidth\":0,\"ticks\":\"\"}},\"marker\":{\"colorbar\":{\"outlinewidth\":0,\"ticks\":\"\"}},\"type\":\"scatter3d\"}],\"scattercarpet\":[{\"marker\":{\"colorbar\":{\"outlinewidth\":0,\"ticks\":\"\"}},\"type\":\"scattercarpet\"}],\"scattergeo\":[{\"marker\":{\"colorbar\":{\"outlinewidth\":0,\"ticks\":\"\"}},\"type\":\"scattergeo\"}],\"scattergl\":[{\"marker\":{\"colorbar\":{\"outlinewidth\":0,\"ticks\":\"\"}},\"type\":\"scattergl\"}],\"scattermapbox\":[{\"marker\":{\"colorbar\":{\"outlinewidth\":0,\"ticks\":\"\"}},\"type\":\"scattermapbox\"}],\"scatterpolar\":[{\"marker\":{\"colorbar\":{\"outlinewidth\":0,\"ticks\":\"\"}},\"type\":\"scatterpolar\"}],\"scatterpolargl\":[{\"marker\":{\"colorbar\":{\"outlinewidth\":0,\"ticks\":\"\"}},\"type\":\"scatterpolargl\"}],\"scatterternary\":[{\"marker\":{\"colorbar\":{\"outlinewidth\":0,\"ticks\":\"\"}},\"type\":\"scatterternary\"}],\"surface\":[{\"colorbar\":{\"outlinewidth\":0,\"ticks\":\"\"},\"colorscale\":[[0.0,\"#0d0887\"],[0.1111111111111111,\"#46039f\"],[0.2222222222222222,\"#7201a8\"],[0.3333333333333333,\"#9c179e\"],[0.4444444444444444,\"#bd3786\"],[0.5555555555555556,\"#d8576b\"],[0.6666666666666666,\"#ed7953\"],[0.7777777777777778,\"#fb9f3a\"],[0.8888888888888888,\"#fdca26\"],[1.0,\"#f0f921\"]],\"type\":\"surface\"}],\"table\":[{\"cells\":{\"fill\":{\"color\":\"#EBF0F8\"},\"line\":{\"color\":\"white\"}},\"header\":{\"fill\":{\"color\":\"#C8D4E3\"},\"line\":{\"color\":\"white\"}},\"type\":\"table\"}]},\"layout\":{\"annotationdefaults\":{\"arrowcolor\":\"#2a3f5f\",\"arrowhead\":0,\"arrowwidth\":1},\"autotypenumbers\":\"strict\",\"coloraxis\":{\"colorbar\":{\"outlinewidth\":0,\"ticks\":\"\"}},\"colorscale\":{\"diverging\":[[0,\"#8e0152\"],[0.1,\"#c51b7d\"],[0.2,\"#de77ae\"],[0.3,\"#f1b6da\"],[0.4,\"#fde0ef\"],[0.5,\"#f7f7f7\"],[0.6,\"#e6f5d0\"],[0.7,\"#b8e186\"],[0.8,\"#7fbc41\"],[0.9,\"#4d9221\"],[1,\"#276419\"]],\"sequential\":[[0.0,\"#0d0887\"],[0.1111111111111111,\"#46039f\"],[0.2222222222222222,\"#7201a8\"],[0.3333333333333333,\"#9c179e\"],[0.4444444444444444,\"#bd3786\"],[0.5555555555555556,\"#d8576b\"],[0.6666666666666666,\"#ed7953\"],[0.7777777777777778,\"#fb9f3a\"],[0.8888888888888888,\"#fdca26\"],[1.0,\"#f0f921\"]],\"sequentialminus\":[[0.0,\"#0d0887\"],[0.1111111111111111,\"#46039f\"],[0.2222222222222222,\"#7201a8\"],[0.3333333333333333,\"#9c179e\"],[0.4444444444444444,\"#bd3786\"],[0.5555555555555556,\"#d8576b\"],[0.6666666666666666,\"#ed7953\"],[0.7777777777777778,\"#fb9f3a\"],[0.8888888888888888,\"#fdca26\"],[1.0,\"#f0f921\"]]},\"colorway\":[\"#636efa\",\"#EF553B\",\"#00cc96\",\"#ab63fa\",\"#FFA15A\",\"#19d3f3\",\"#FF6692\",\"#B6E880\",\"#FF97FF\",\"#FECB52\"],\"font\":{\"color\":\"#2a3f5f\"},\"geo\":{\"bgcolor\":\"white\",\"lakecolor\":\"white\",\"landcolor\":\"#E5ECF6\",\"showlakes\":true,\"showland\":true,\"subunitcolor\":\"white\"},\"hoverlabel\":{\"align\":\"left\"},\"hovermode\":\"closest\",\"mapbox\":{\"style\":\"light\"},\"paper_bgcolor\":\"white\",\"plot_bgcolor\":\"#E5ECF6\",\"polar\":{\"angularaxis\":{\"gridcolor\":\"white\",\"linecolor\":\"white\",\"ticks\":\"\"},\"bgcolor\":\"#E5ECF6\",\"radialaxis\":{\"gridcolor\":\"white\",\"linecolor\":\"white\",\"ticks\":\"\"}},\"scene\":{\"xaxis\":{\"backgroundcolor\":\"#E5ECF6\",\"gridcolor\":\"white\",\"gridwidth\":2,\"linecolor\":\"white\",\"showbackground\":true,\"ticks\":\"\",\"zerolinecolor\":\"white\"},\"yaxis\":{\"backgroundcolor\":\"#E5ECF6\",\"gridcolor\":\"white\",\"gridwidth\":2,\"linecolor\":\"white\",\"showbackground\":true,\"ticks\":\"\",\"zerolinecolor\":\"white\"},\"zaxis\":{\"backgroundcolor\":\"#E5ECF6\",\"gridcolor\":\"white\",\"gridwidth\":2,\"linecolor\":\"white\",\"showbackground\":true,\"ticks\":\"\",\"zerolinecolor\":\"white\"}},\"shapedefaults\":{\"line\":{\"color\":\"#2a3f5f\"}},\"ternary\":{\"aaxis\":{\"gridcolor\":\"white\",\"linecolor\":\"white\",\"ticks\":\"\"},\"baxis\":{\"gridcolor\":\"white\",\"linecolor\":\"white\",\"ticks\":\"\"},\"bgcolor\":\"#E5ECF6\",\"caxis\":{\"gridcolor\":\"white\",\"linecolor\":\"white\",\"ticks\":\"\"}},\"title\":{\"x\":0.05},\"xaxis\":{\"automargin\":true,\"gridcolor\":\"white\",\"linecolor\":\"white\",\"ticks\":\"\",\"title\":{\"standoff\":15},\"zerolinecolor\":\"white\",\"zerolinewidth\":2},\"yaxis\":{\"automargin\":true,\"gridcolor\":\"white\",\"linecolor\":\"white\",\"ticks\":\"\",\"title\":{\"standoff\":15},\"zerolinecolor\":\"white\",\"zerolinewidth\":2}}}},                        {\"responsive\": true}                    ).then(function(){\n",
       "                            \n",
       "var gd = document.getElementById('f3d9243f-ccb5-4afa-86cf-413880f0d927');\n",
       "var x = new MutationObserver(function (mutations, observer) {{\n",
       "        var display = window.getComputedStyle(gd).display;\n",
       "        if (!display || display === 'none') {{\n",
       "            console.log([gd, 'removed!']);\n",
       "            Plotly.purge(gd);\n",
       "            observer.disconnect();\n",
       "        }}\n",
       "}});\n",
       "\n",
       "// Listen for the removal of the full notebook cells\n",
       "var notebookContainer = gd.closest('#notebook-container');\n",
       "if (notebookContainer) {{\n",
       "    x.observe(notebookContainer, {childList: true});\n",
       "}}\n",
       "\n",
       "// Listen for the clearing of the current output cell\n",
       "var outputEl = gd.closest('.output');\n",
       "if (outputEl) {{\n",
       "    x.observe(outputEl, {childList: true});\n",
       "}}\n",
       "\n",
       "                        })                };                });            </script>        </div>"
      ]
     },
     "metadata": {},
     "output_type": "display_data"
    },
    {
     "data": {
      "application/vnd.plotly.v1+json": {
       "config": {
        "plotlyServerURL": "https://plot.ly"
       },
       "data": [
        {
         "name": "2017",
         "opacity": 0.5,
         "type": "scatter",
         "x": [
          "01",
          "02",
          "03",
          "04",
          "05",
          "06",
          "07",
          "08",
          "09",
          "10",
          "11",
          "12"
         ],
         "y": [
          null,
          null,
          null,
          null,
          null,
          null,
          null,
          null,
          null,
          null,
          null,
          null
         ]
        },
        {
         "name": "2018",
         "opacity": 0.5,
         "type": "scatter",
         "x": [
          "01",
          "02",
          "03",
          "04",
          "05",
          "06",
          "07",
          "08",
          "09",
          "10",
          "11",
          "12"
         ],
         "y": [
          0.3415,
          0.3706,
          0.2542,
          0.4479,
          0.3911,
          0.1195,
          0.1178,
          -0.1167,
          -0.2415,
          -0.3081,
          -0.3152,
          -0.2189
         ]
        },
        {
         "name": "2019",
         "opacity": 0.5,
         "type": "scatter",
         "x": [
          "01",
          "02",
          "03",
          "04",
          "05",
          "06",
          "07",
          "08",
          "09",
          "10",
          "11",
          "12"
         ],
         "y": [
          -0.2615,
          -0.2216,
          -0.1259,
          -0.0918,
          -0.1732,
          -0.0557,
          -0.0388,
          -0.1302,
          0.1131,
          0.052,
          0.1888,
          -0.0593
         ]
        },
        {
         "name": "2020",
         "opacity": 0.5,
         "type": "scatter",
         "x": [
          "01",
          "02",
          "03",
          "04",
          "05",
          "06",
          "07",
          "08",
          "09",
          "10",
          "11",
          "12"
         ],
         "y": [
          0.0423,
          -0.0647,
          -0.0626,
          -0.1541,
          -0.1414,
          -0.1335,
          -0.064,
          -0.0362,
          0.0075,
          0.0015,
          0.0016,
          0.3819
         ]
        },
        {
         "name": "2021",
         "opacity": 0.5,
         "type": "scatter",
         "x": [
          "01",
          "02",
          "03",
          "04",
          "05",
          "06",
          "07",
          "08",
          "09",
          "10",
          "11",
          "12"
         ],
         "y": [
          0.1084,
          0.0576,
          0.1858,
          0.2,
          0.1983,
          0.2805,
          0.3237,
          0.4172,
          0.1012,
          0.1254,
          0.1163,
          0.1009
         ]
        },
        {
         "name": "2022",
         "opacity": 0.5,
         "type": "scatter",
         "x": [
          "01",
          "02",
          "03",
          "04",
          "05",
          "06",
          "07",
          "08",
          "09",
          "10",
          "11",
          "12"
         ],
         "y": [
          0.3282,
          0.3348,
          0.6436,
          0.2572,
          0.6919,
          0.7587,
          0.7532,
          0.6933,
          1.0415,
          1.1626,
          1.4999,
          0.9472
         ]
        },
        {
         "connectgaps": false,
         "line": {
          "dash": "dash"
         },
         "name": "2022預估值",
         "type": "scatter",
         "x": [
          "12"
         ],
         "y": [
          0.9472
         ]
        },
        {
         "connectgaps": false,
         "line": {
          "dash": "dash"
         },
         "name": "2023預估值",
         "type": "scatter",
         "x": [
          "01",
          "02",
          "03",
          "04",
          "05",
          "06",
          "07",
          "08",
          "09",
          "10",
          "11",
          "12"
         ],
         "y": [
          0.3867,
          0.4457,
          0.0841,
          0.4225,
          0.0754,
          -0.0115,
          -0.0488,
          -0.0181,
          -0.1063,
          -0.1482,
          -0.276,
          -0.1122
         ]
        }
       ],
       "layout": {
        "hovermode": "x unified",
        "legend": {
         "title": {
          "text": "年份"
         }
        },
        "template": {
         "data": {
          "bar": [
           {
            "error_x": {
             "color": "#2a3f5f"
            },
            "error_y": {
             "color": "#2a3f5f"
            },
            "marker": {
             "line": {
              "color": "#E5ECF6",
              "width": 0.5
             },
             "pattern": {
              "fillmode": "overlay",
              "size": 10,
              "solidity": 0.2
             }
            },
            "type": "bar"
           }
          ],
          "barpolar": [
           {
            "marker": {
             "line": {
              "color": "#E5ECF6",
              "width": 0.5
             },
             "pattern": {
              "fillmode": "overlay",
              "size": 10,
              "solidity": 0.2
             }
            },
            "type": "barpolar"
           }
          ],
          "carpet": [
           {
            "aaxis": {
             "endlinecolor": "#2a3f5f",
             "gridcolor": "white",
             "linecolor": "white",
             "minorgridcolor": "white",
             "startlinecolor": "#2a3f5f"
            },
            "baxis": {
             "endlinecolor": "#2a3f5f",
             "gridcolor": "white",
             "linecolor": "white",
             "minorgridcolor": "white",
             "startlinecolor": "#2a3f5f"
            },
            "type": "carpet"
           }
          ],
          "choropleth": [
           {
            "colorbar": {
             "outlinewidth": 0,
             "ticks": ""
            },
            "type": "choropleth"
           }
          ],
          "contour": [
           {
            "colorbar": {
             "outlinewidth": 0,
             "ticks": ""
            },
            "colorscale": [
             [
              0,
              "#0d0887"
             ],
             [
              0.1111111111111111,
              "#46039f"
             ],
             [
              0.2222222222222222,
              "#7201a8"
             ],
             [
              0.3333333333333333,
              "#9c179e"
             ],
             [
              0.4444444444444444,
              "#bd3786"
             ],
             [
              0.5555555555555556,
              "#d8576b"
             ],
             [
              0.6666666666666666,
              "#ed7953"
             ],
             [
              0.7777777777777778,
              "#fb9f3a"
             ],
             [
              0.8888888888888888,
              "#fdca26"
             ],
             [
              1,
              "#f0f921"
             ]
            ],
            "type": "contour"
           }
          ],
          "contourcarpet": [
           {
            "colorbar": {
             "outlinewidth": 0,
             "ticks": ""
            },
            "type": "contourcarpet"
           }
          ],
          "heatmap": [
           {
            "colorbar": {
             "outlinewidth": 0,
             "ticks": ""
            },
            "colorscale": [
             [
              0,
              "#0d0887"
             ],
             [
              0.1111111111111111,
              "#46039f"
             ],
             [
              0.2222222222222222,
              "#7201a8"
             ],
             [
              0.3333333333333333,
              "#9c179e"
             ],
             [
              0.4444444444444444,
              "#bd3786"
             ],
             [
              0.5555555555555556,
              "#d8576b"
             ],
             [
              0.6666666666666666,
              "#ed7953"
             ],
             [
              0.7777777777777778,
              "#fb9f3a"
             ],
             [
              0.8888888888888888,
              "#fdca26"
             ],
             [
              1,
              "#f0f921"
             ]
            ],
            "type": "heatmap"
           }
          ],
          "heatmapgl": [
           {
            "colorbar": {
             "outlinewidth": 0,
             "ticks": ""
            },
            "colorscale": [
             [
              0,
              "#0d0887"
             ],
             [
              0.1111111111111111,
              "#46039f"
             ],
             [
              0.2222222222222222,
              "#7201a8"
             ],
             [
              0.3333333333333333,
              "#9c179e"
             ],
             [
              0.4444444444444444,
              "#bd3786"
             ],
             [
              0.5555555555555556,
              "#d8576b"
             ],
             [
              0.6666666666666666,
              "#ed7953"
             ],
             [
              0.7777777777777778,
              "#fb9f3a"
             ],
             [
              0.8888888888888888,
              "#fdca26"
             ],
             [
              1,
              "#f0f921"
             ]
            ],
            "type": "heatmapgl"
           }
          ],
          "histogram": [
           {
            "marker": {
             "pattern": {
              "fillmode": "overlay",
              "size": 10,
              "solidity": 0.2
             }
            },
            "type": "histogram"
           }
          ],
          "histogram2d": [
           {
            "colorbar": {
             "outlinewidth": 0,
             "ticks": ""
            },
            "colorscale": [
             [
              0,
              "#0d0887"
             ],
             [
              0.1111111111111111,
              "#46039f"
             ],
             [
              0.2222222222222222,
              "#7201a8"
             ],
             [
              0.3333333333333333,
              "#9c179e"
             ],
             [
              0.4444444444444444,
              "#bd3786"
             ],
             [
              0.5555555555555556,
              "#d8576b"
             ],
             [
              0.6666666666666666,
              "#ed7953"
             ],
             [
              0.7777777777777778,
              "#fb9f3a"
             ],
             [
              0.8888888888888888,
              "#fdca26"
             ],
             [
              1,
              "#f0f921"
             ]
            ],
            "type": "histogram2d"
           }
          ],
          "histogram2dcontour": [
           {
            "colorbar": {
             "outlinewidth": 0,
             "ticks": ""
            },
            "colorscale": [
             [
              0,
              "#0d0887"
             ],
             [
              0.1111111111111111,
              "#46039f"
             ],
             [
              0.2222222222222222,
              "#7201a8"
             ],
             [
              0.3333333333333333,
              "#9c179e"
             ],
             [
              0.4444444444444444,
              "#bd3786"
             ],
             [
              0.5555555555555556,
              "#d8576b"
             ],
             [
              0.6666666666666666,
              "#ed7953"
             ],
             [
              0.7777777777777778,
              "#fb9f3a"
             ],
             [
              0.8888888888888888,
              "#fdca26"
             ],
             [
              1,
              "#f0f921"
             ]
            ],
            "type": "histogram2dcontour"
           }
          ],
          "mesh3d": [
           {
            "colorbar": {
             "outlinewidth": 0,
             "ticks": ""
            },
            "type": "mesh3d"
           }
          ],
          "parcoords": [
           {
            "line": {
             "colorbar": {
              "outlinewidth": 0,
              "ticks": ""
             }
            },
            "type": "parcoords"
           }
          ],
          "pie": [
           {
            "automargin": true,
            "type": "pie"
           }
          ],
          "scatter": [
           {
            "marker": {
             "colorbar": {
              "outlinewidth": 0,
              "ticks": ""
             }
            },
            "type": "scatter"
           }
          ],
          "scatter3d": [
           {
            "line": {
             "colorbar": {
              "outlinewidth": 0,
              "ticks": ""
             }
            },
            "marker": {
             "colorbar": {
              "outlinewidth": 0,
              "ticks": ""
             }
            },
            "type": "scatter3d"
           }
          ],
          "scattercarpet": [
           {
            "marker": {
             "colorbar": {
              "outlinewidth": 0,
              "ticks": ""
             }
            },
            "type": "scattercarpet"
           }
          ],
          "scattergeo": [
           {
            "marker": {
             "colorbar": {
              "outlinewidth": 0,
              "ticks": ""
             }
            },
            "type": "scattergeo"
           }
          ],
          "scattergl": [
           {
            "marker": {
             "colorbar": {
              "outlinewidth": 0,
              "ticks": ""
             }
            },
            "type": "scattergl"
           }
          ],
          "scattermapbox": [
           {
            "marker": {
             "colorbar": {
              "outlinewidth": 0,
              "ticks": ""
             }
            },
            "type": "scattermapbox"
           }
          ],
          "scatterpolar": [
           {
            "marker": {
             "colorbar": {
              "outlinewidth": 0,
              "ticks": ""
             }
            },
            "type": "scatterpolar"
           }
          ],
          "scatterpolargl": [
           {
            "marker": {
             "colorbar": {
              "outlinewidth": 0,
              "ticks": ""
             }
            },
            "type": "scatterpolargl"
           }
          ],
          "scatterternary": [
           {
            "marker": {
             "colorbar": {
              "outlinewidth": 0,
              "ticks": ""
             }
            },
            "type": "scatterternary"
           }
          ],
          "surface": [
           {
            "colorbar": {
             "outlinewidth": 0,
             "ticks": ""
            },
            "colorscale": [
             [
              0,
              "#0d0887"
             ],
             [
              0.1111111111111111,
              "#46039f"
             ],
             [
              0.2222222222222222,
              "#7201a8"
             ],
             [
              0.3333333333333333,
              "#9c179e"
             ],
             [
              0.4444444444444444,
              "#bd3786"
             ],
             [
              0.5555555555555556,
              "#d8576b"
             ],
             [
              0.6666666666666666,
              "#ed7953"
             ],
             [
              0.7777777777777778,
              "#fb9f3a"
             ],
             [
              0.8888888888888888,
              "#fdca26"
             ],
             [
              1,
              "#f0f921"
             ]
            ],
            "type": "surface"
           }
          ],
          "table": [
           {
            "cells": {
             "fill": {
              "color": "#EBF0F8"
             },
             "line": {
              "color": "white"
             }
            },
            "header": {
             "fill": {
              "color": "#C8D4E3"
             },
             "line": {
              "color": "white"
             }
            },
            "type": "table"
           }
          ]
         },
         "layout": {
          "annotationdefaults": {
           "arrowcolor": "#2a3f5f",
           "arrowhead": 0,
           "arrowwidth": 1
          },
          "autotypenumbers": "strict",
          "coloraxis": {
           "colorbar": {
            "outlinewidth": 0,
            "ticks": ""
           }
          },
          "colorscale": {
           "diverging": [
            [
             0,
             "#8e0152"
            ],
            [
             0.1,
             "#c51b7d"
            ],
            [
             0.2,
             "#de77ae"
            ],
            [
             0.3,
             "#f1b6da"
            ],
            [
             0.4,
             "#fde0ef"
            ],
            [
             0.5,
             "#f7f7f7"
            ],
            [
             0.6,
             "#e6f5d0"
            ],
            [
             0.7,
             "#b8e186"
            ],
            [
             0.8,
             "#7fbc41"
            ],
            [
             0.9,
             "#4d9221"
            ],
            [
             1,
             "#276419"
            ]
           ],
           "sequential": [
            [
             0,
             "#0d0887"
            ],
            [
             0.1111111111111111,
             "#46039f"
            ],
            [
             0.2222222222222222,
             "#7201a8"
            ],
            [
             0.3333333333333333,
             "#9c179e"
            ],
            [
             0.4444444444444444,
             "#bd3786"
            ],
            [
             0.5555555555555556,
             "#d8576b"
            ],
            [
             0.6666666666666666,
             "#ed7953"
            ],
            [
             0.7777777777777778,
             "#fb9f3a"
            ],
            [
             0.8888888888888888,
             "#fdca26"
            ],
            [
             1,
             "#f0f921"
            ]
           ],
           "sequentialminus": [
            [
             0,
             "#0d0887"
            ],
            [
             0.1111111111111111,
             "#46039f"
            ],
            [
             0.2222222222222222,
             "#7201a8"
            ],
            [
             0.3333333333333333,
             "#9c179e"
            ],
            [
             0.4444444444444444,
             "#bd3786"
            ],
            [
             0.5555555555555556,
             "#d8576b"
            ],
            [
             0.6666666666666666,
             "#ed7953"
            ],
            [
             0.7777777777777778,
             "#fb9f3a"
            ],
            [
             0.8888888888888888,
             "#fdca26"
            ],
            [
             1,
             "#f0f921"
            ]
           ]
          },
          "colorway": [
           "#636efa",
           "#EF553B",
           "#00cc96",
           "#ab63fa",
           "#FFA15A",
           "#19d3f3",
           "#FF6692",
           "#B6E880",
           "#FF97FF",
           "#FECB52"
          ],
          "font": {
           "color": "#2a3f5f"
          },
          "geo": {
           "bgcolor": "white",
           "lakecolor": "white",
           "landcolor": "#E5ECF6",
           "showlakes": true,
           "showland": true,
           "subunitcolor": "white"
          },
          "hoverlabel": {
           "align": "left"
          },
          "hovermode": "closest",
          "mapbox": {
           "style": "light"
          },
          "paper_bgcolor": "white",
          "plot_bgcolor": "#E5ECF6",
          "polar": {
           "angularaxis": {
            "gridcolor": "white",
            "linecolor": "white",
            "ticks": ""
           },
           "bgcolor": "#E5ECF6",
           "radialaxis": {
            "gridcolor": "white",
            "linecolor": "white",
            "ticks": ""
           }
          },
          "scene": {
           "xaxis": {
            "backgroundcolor": "#E5ECF6",
            "gridcolor": "white",
            "gridwidth": 2,
            "linecolor": "white",
            "showbackground": true,
            "ticks": "",
            "zerolinecolor": "white"
           },
           "yaxis": {
            "backgroundcolor": "#E5ECF6",
            "gridcolor": "white",
            "gridwidth": 2,
            "linecolor": "white",
            "showbackground": true,
            "ticks": "",
            "zerolinecolor": "white"
           },
           "zaxis": {
            "backgroundcolor": "#E5ECF6",
            "gridcolor": "white",
            "gridwidth": 2,
            "linecolor": "white",
            "showbackground": true,
            "ticks": "",
            "zerolinecolor": "white"
           }
          },
          "shapedefaults": {
           "line": {
            "color": "#2a3f5f"
           }
          },
          "ternary": {
           "aaxis": {
            "gridcolor": "white",
            "linecolor": "white",
            "ticks": ""
           },
           "baxis": {
            "gridcolor": "white",
            "linecolor": "white",
            "ticks": ""
           },
           "bgcolor": "#E5ECF6",
           "caxis": {
            "gridcolor": "white",
            "linecolor": "white",
            "ticks": ""
           }
          },
          "title": {
           "x": 0.05
          },
          "xaxis": {
           "automargin": true,
           "gridcolor": "white",
           "linecolor": "white",
           "ticks": "",
           "title": {
            "standoff": 15
           },
           "zerolinecolor": "white",
           "zerolinewidth": 2
          },
          "yaxis": {
           "automargin": true,
           "gridcolor": "white",
           "linecolor": "white",
           "ticks": "",
           "title": {
            "standoff": 15
           },
           "zerolinecolor": "white",
           "zerolinewidth": 2
          }
         }
        },
        "title": {
         "text": "3558 神準 各年度月營收 YOY %"
        },
        "xaxis": {
         "title": {
          "text": "月份"
         }
        },
        "yaxis": {
         "title": {
          "text": "YOY %"
         }
        }
       }
      },
      "text/html": [
       "<div>                            <div id=\"b209781e-5232-4eb2-ac47-1fe02d37886d\" class=\"plotly-graph-div\" style=\"height:525px; width:100%;\"></div>            <script type=\"text/javascript\">                require([\"plotly\"], function(Plotly) {                    window.PLOTLYENV=window.PLOTLYENV || {};                                    if (document.getElementById(\"b209781e-5232-4eb2-ac47-1fe02d37886d\")) {                    Plotly.newPlot(                        \"b209781e-5232-4eb2-ac47-1fe02d37886d\",                        [{\"name\":\"2017\",\"opacity\":0.5,\"x\":[\"01\",\"02\",\"03\",\"04\",\"05\",\"06\",\"07\",\"08\",\"09\",\"10\",\"11\",\"12\"],\"y\":[null,null,null,null,null,null,null,null,null,null,null,null],\"type\":\"scatter\"},{\"name\":\"2018\",\"opacity\":0.5,\"x\":[\"01\",\"02\",\"03\",\"04\",\"05\",\"06\",\"07\",\"08\",\"09\",\"10\",\"11\",\"12\"],\"y\":[0.3415,0.3706,0.2542,0.4479,0.3911,0.1195,0.1178,-0.1167,-0.2415,-0.3081,-0.3152,-0.2189],\"type\":\"scatter\"},{\"name\":\"2019\",\"opacity\":0.5,\"x\":[\"01\",\"02\",\"03\",\"04\",\"05\",\"06\",\"07\",\"08\",\"09\",\"10\",\"11\",\"12\"],\"y\":[-0.2615,-0.2216,-0.1259,-0.0918,-0.1732,-0.0557,-0.0388,-0.1302,0.1131,0.052,0.1888,-0.0593],\"type\":\"scatter\"},{\"name\":\"2020\",\"opacity\":0.5,\"x\":[\"01\",\"02\",\"03\",\"04\",\"05\",\"06\",\"07\",\"08\",\"09\",\"10\",\"11\",\"12\"],\"y\":[0.0423,-0.0647,-0.0626,-0.1541,-0.1414,-0.1335,-0.064,-0.0362,0.0075,0.0015,0.0016,0.3819],\"type\":\"scatter\"},{\"name\":\"2021\",\"opacity\":0.5,\"x\":[\"01\",\"02\",\"03\",\"04\",\"05\",\"06\",\"07\",\"08\",\"09\",\"10\",\"11\",\"12\"],\"y\":[0.1084,0.0576,0.1858,0.2,0.1983,0.2805,0.3237,0.4172,0.1012,0.1254,0.1163,0.1009],\"type\":\"scatter\"},{\"name\":\"2022\",\"opacity\":0.5,\"x\":[\"01\",\"02\",\"03\",\"04\",\"05\",\"06\",\"07\",\"08\",\"09\",\"10\",\"11\",\"12\"],\"y\":[0.3282,0.3348,0.6436,0.2572,0.6919,0.7587,0.7532,0.6933,1.0415,1.1626,1.4999,0.9472],\"type\":\"scatter\"},{\"connectgaps\":false,\"line\":{\"dash\":\"dash\"},\"name\":\"2022\\u9810\\u4f30\\u503c\",\"x\":[\"12\"],\"y\":[0.9472],\"type\":\"scatter\"},{\"connectgaps\":false,\"line\":{\"dash\":\"dash\"},\"name\":\"2023\\u9810\\u4f30\\u503c\",\"x\":[\"01\",\"02\",\"03\",\"04\",\"05\",\"06\",\"07\",\"08\",\"09\",\"10\",\"11\",\"12\"],\"y\":[0.3867,0.4457,0.0841,0.4225,0.0754,-0.0115,-0.0488,-0.0181,-0.1063,-0.1482,-0.276,-0.1122],\"type\":\"scatter\"}],                        {\"hovermode\":\"x unified\",\"legend\":{\"title\":{\"text\":\"\\u5e74\\u4efd\"}},\"title\":{\"text\":\"3558 \\u795e\\u6e96 \\u5404\\u5e74\\u5ea6\\u6708\\u71df\\u6536 YOY %\"},\"xaxis\":{\"title\":{\"text\":\"\\u6708\\u4efd\"}},\"yaxis\":{\"title\":{\"text\":\"YOY %\"}},\"template\":{\"data\":{\"bar\":[{\"error_x\":{\"color\":\"#2a3f5f\"},\"error_y\":{\"color\":\"#2a3f5f\"},\"marker\":{\"line\":{\"color\":\"#E5ECF6\",\"width\":0.5},\"pattern\":{\"fillmode\":\"overlay\",\"size\":10,\"solidity\":0.2}},\"type\":\"bar\"}],\"barpolar\":[{\"marker\":{\"line\":{\"color\":\"#E5ECF6\",\"width\":0.5},\"pattern\":{\"fillmode\":\"overlay\",\"size\":10,\"solidity\":0.2}},\"type\":\"barpolar\"}],\"carpet\":[{\"aaxis\":{\"endlinecolor\":\"#2a3f5f\",\"gridcolor\":\"white\",\"linecolor\":\"white\",\"minorgridcolor\":\"white\",\"startlinecolor\":\"#2a3f5f\"},\"baxis\":{\"endlinecolor\":\"#2a3f5f\",\"gridcolor\":\"white\",\"linecolor\":\"white\",\"minorgridcolor\":\"white\",\"startlinecolor\":\"#2a3f5f\"},\"type\":\"carpet\"}],\"choropleth\":[{\"colorbar\":{\"outlinewidth\":0,\"ticks\":\"\"},\"type\":\"choropleth\"}],\"contour\":[{\"colorbar\":{\"outlinewidth\":0,\"ticks\":\"\"},\"colorscale\":[[0.0,\"#0d0887\"],[0.1111111111111111,\"#46039f\"],[0.2222222222222222,\"#7201a8\"],[0.3333333333333333,\"#9c179e\"],[0.4444444444444444,\"#bd3786\"],[0.5555555555555556,\"#d8576b\"],[0.6666666666666666,\"#ed7953\"],[0.7777777777777778,\"#fb9f3a\"],[0.8888888888888888,\"#fdca26\"],[1.0,\"#f0f921\"]],\"type\":\"contour\"}],\"contourcarpet\":[{\"colorbar\":{\"outlinewidth\":0,\"ticks\":\"\"},\"type\":\"contourcarpet\"}],\"heatmap\":[{\"colorbar\":{\"outlinewidth\":0,\"ticks\":\"\"},\"colorscale\":[[0.0,\"#0d0887\"],[0.1111111111111111,\"#46039f\"],[0.2222222222222222,\"#7201a8\"],[0.3333333333333333,\"#9c179e\"],[0.4444444444444444,\"#bd3786\"],[0.5555555555555556,\"#d8576b\"],[0.6666666666666666,\"#ed7953\"],[0.7777777777777778,\"#fb9f3a\"],[0.8888888888888888,\"#fdca26\"],[1.0,\"#f0f921\"]],\"type\":\"heatmap\"}],\"heatmapgl\":[{\"colorbar\":{\"outlinewidth\":0,\"ticks\":\"\"},\"colorscale\":[[0.0,\"#0d0887\"],[0.1111111111111111,\"#46039f\"],[0.2222222222222222,\"#7201a8\"],[0.3333333333333333,\"#9c179e\"],[0.4444444444444444,\"#bd3786\"],[0.5555555555555556,\"#d8576b\"],[0.6666666666666666,\"#ed7953\"],[0.7777777777777778,\"#fb9f3a\"],[0.8888888888888888,\"#fdca26\"],[1.0,\"#f0f921\"]],\"type\":\"heatmapgl\"}],\"histogram\":[{\"marker\":{\"pattern\":{\"fillmode\":\"overlay\",\"size\":10,\"solidity\":0.2}},\"type\":\"histogram\"}],\"histogram2d\":[{\"colorbar\":{\"outlinewidth\":0,\"ticks\":\"\"},\"colorscale\":[[0.0,\"#0d0887\"],[0.1111111111111111,\"#46039f\"],[0.2222222222222222,\"#7201a8\"],[0.3333333333333333,\"#9c179e\"],[0.4444444444444444,\"#bd3786\"],[0.5555555555555556,\"#d8576b\"],[0.6666666666666666,\"#ed7953\"],[0.7777777777777778,\"#fb9f3a\"],[0.8888888888888888,\"#fdca26\"],[1.0,\"#f0f921\"]],\"type\":\"histogram2d\"}],\"histogram2dcontour\":[{\"colorbar\":{\"outlinewidth\":0,\"ticks\":\"\"},\"colorscale\":[[0.0,\"#0d0887\"],[0.1111111111111111,\"#46039f\"],[0.2222222222222222,\"#7201a8\"],[0.3333333333333333,\"#9c179e\"],[0.4444444444444444,\"#bd3786\"],[0.5555555555555556,\"#d8576b\"],[0.6666666666666666,\"#ed7953\"],[0.7777777777777778,\"#fb9f3a\"],[0.8888888888888888,\"#fdca26\"],[1.0,\"#f0f921\"]],\"type\":\"histogram2dcontour\"}],\"mesh3d\":[{\"colorbar\":{\"outlinewidth\":0,\"ticks\":\"\"},\"type\":\"mesh3d\"}],\"parcoords\":[{\"line\":{\"colorbar\":{\"outlinewidth\":0,\"ticks\":\"\"}},\"type\":\"parcoords\"}],\"pie\":[{\"automargin\":true,\"type\":\"pie\"}],\"scatter\":[{\"marker\":{\"colorbar\":{\"outlinewidth\":0,\"ticks\":\"\"}},\"type\":\"scatter\"}],\"scatter3d\":[{\"line\":{\"colorbar\":{\"outlinewidth\":0,\"ticks\":\"\"}},\"marker\":{\"colorbar\":{\"outlinewidth\":0,\"ticks\":\"\"}},\"type\":\"scatter3d\"}],\"scattercarpet\":[{\"marker\":{\"colorbar\":{\"outlinewidth\":0,\"ticks\":\"\"}},\"type\":\"scattercarpet\"}],\"scattergeo\":[{\"marker\":{\"colorbar\":{\"outlinewidth\":0,\"ticks\":\"\"}},\"type\":\"scattergeo\"}],\"scattergl\":[{\"marker\":{\"colorbar\":{\"outlinewidth\":0,\"ticks\":\"\"}},\"type\":\"scattergl\"}],\"scattermapbox\":[{\"marker\":{\"colorbar\":{\"outlinewidth\":0,\"ticks\":\"\"}},\"type\":\"scattermapbox\"}],\"scatterpolar\":[{\"marker\":{\"colorbar\":{\"outlinewidth\":0,\"ticks\":\"\"}},\"type\":\"scatterpolar\"}],\"scatterpolargl\":[{\"marker\":{\"colorbar\":{\"outlinewidth\":0,\"ticks\":\"\"}},\"type\":\"scatterpolargl\"}],\"scatterternary\":[{\"marker\":{\"colorbar\":{\"outlinewidth\":0,\"ticks\":\"\"}},\"type\":\"scatterternary\"}],\"surface\":[{\"colorbar\":{\"outlinewidth\":0,\"ticks\":\"\"},\"colorscale\":[[0.0,\"#0d0887\"],[0.1111111111111111,\"#46039f\"],[0.2222222222222222,\"#7201a8\"],[0.3333333333333333,\"#9c179e\"],[0.4444444444444444,\"#bd3786\"],[0.5555555555555556,\"#d8576b\"],[0.6666666666666666,\"#ed7953\"],[0.7777777777777778,\"#fb9f3a\"],[0.8888888888888888,\"#fdca26\"],[1.0,\"#f0f921\"]],\"type\":\"surface\"}],\"table\":[{\"cells\":{\"fill\":{\"color\":\"#EBF0F8\"},\"line\":{\"color\":\"white\"}},\"header\":{\"fill\":{\"color\":\"#C8D4E3\"},\"line\":{\"color\":\"white\"}},\"type\":\"table\"}]},\"layout\":{\"annotationdefaults\":{\"arrowcolor\":\"#2a3f5f\",\"arrowhead\":0,\"arrowwidth\":1},\"autotypenumbers\":\"strict\",\"coloraxis\":{\"colorbar\":{\"outlinewidth\":0,\"ticks\":\"\"}},\"colorscale\":{\"diverging\":[[0,\"#8e0152\"],[0.1,\"#c51b7d\"],[0.2,\"#de77ae\"],[0.3,\"#f1b6da\"],[0.4,\"#fde0ef\"],[0.5,\"#f7f7f7\"],[0.6,\"#e6f5d0\"],[0.7,\"#b8e186\"],[0.8,\"#7fbc41\"],[0.9,\"#4d9221\"],[1,\"#276419\"]],\"sequential\":[[0.0,\"#0d0887\"],[0.1111111111111111,\"#46039f\"],[0.2222222222222222,\"#7201a8\"],[0.3333333333333333,\"#9c179e\"],[0.4444444444444444,\"#bd3786\"],[0.5555555555555556,\"#d8576b\"],[0.6666666666666666,\"#ed7953\"],[0.7777777777777778,\"#fb9f3a\"],[0.8888888888888888,\"#fdca26\"],[1.0,\"#f0f921\"]],\"sequentialminus\":[[0.0,\"#0d0887\"],[0.1111111111111111,\"#46039f\"],[0.2222222222222222,\"#7201a8\"],[0.3333333333333333,\"#9c179e\"],[0.4444444444444444,\"#bd3786\"],[0.5555555555555556,\"#d8576b\"],[0.6666666666666666,\"#ed7953\"],[0.7777777777777778,\"#fb9f3a\"],[0.8888888888888888,\"#fdca26\"],[1.0,\"#f0f921\"]]},\"colorway\":[\"#636efa\",\"#EF553B\",\"#00cc96\",\"#ab63fa\",\"#FFA15A\",\"#19d3f3\",\"#FF6692\",\"#B6E880\",\"#FF97FF\",\"#FECB52\"],\"font\":{\"color\":\"#2a3f5f\"},\"geo\":{\"bgcolor\":\"white\",\"lakecolor\":\"white\",\"landcolor\":\"#E5ECF6\",\"showlakes\":true,\"showland\":true,\"subunitcolor\":\"white\"},\"hoverlabel\":{\"align\":\"left\"},\"hovermode\":\"closest\",\"mapbox\":{\"style\":\"light\"},\"paper_bgcolor\":\"white\",\"plot_bgcolor\":\"#E5ECF6\",\"polar\":{\"angularaxis\":{\"gridcolor\":\"white\",\"linecolor\":\"white\",\"ticks\":\"\"},\"bgcolor\":\"#E5ECF6\",\"radialaxis\":{\"gridcolor\":\"white\",\"linecolor\":\"white\",\"ticks\":\"\"}},\"scene\":{\"xaxis\":{\"backgroundcolor\":\"#E5ECF6\",\"gridcolor\":\"white\",\"gridwidth\":2,\"linecolor\":\"white\",\"showbackground\":true,\"ticks\":\"\",\"zerolinecolor\":\"white\"},\"yaxis\":{\"backgroundcolor\":\"#E5ECF6\",\"gridcolor\":\"white\",\"gridwidth\":2,\"linecolor\":\"white\",\"showbackground\":true,\"ticks\":\"\",\"zerolinecolor\":\"white\"},\"zaxis\":{\"backgroundcolor\":\"#E5ECF6\",\"gridcolor\":\"white\",\"gridwidth\":2,\"linecolor\":\"white\",\"showbackground\":true,\"ticks\":\"\",\"zerolinecolor\":\"white\"}},\"shapedefaults\":{\"line\":{\"color\":\"#2a3f5f\"}},\"ternary\":{\"aaxis\":{\"gridcolor\":\"white\",\"linecolor\":\"white\",\"ticks\":\"\"},\"baxis\":{\"gridcolor\":\"white\",\"linecolor\":\"white\",\"ticks\":\"\"},\"bgcolor\":\"#E5ECF6\",\"caxis\":{\"gridcolor\":\"white\",\"linecolor\":\"white\",\"ticks\":\"\"}},\"title\":{\"x\":0.05},\"xaxis\":{\"automargin\":true,\"gridcolor\":\"white\",\"linecolor\":\"white\",\"ticks\":\"\",\"title\":{\"standoff\":15},\"zerolinecolor\":\"white\",\"zerolinewidth\":2},\"yaxis\":{\"automargin\":true,\"gridcolor\":\"white\",\"linecolor\":\"white\",\"ticks\":\"\",\"title\":{\"standoff\":15},\"zerolinecolor\":\"white\",\"zerolinewidth\":2}}}},                        {\"responsive\": true}                    ).then(function(){\n",
       "                            \n",
       "var gd = document.getElementById('b209781e-5232-4eb2-ac47-1fe02d37886d');\n",
       "var x = new MutationObserver(function (mutations, observer) {{\n",
       "        var display = window.getComputedStyle(gd).display;\n",
       "        if (!display || display === 'none') {{\n",
       "            console.log([gd, 'removed!']);\n",
       "            Plotly.purge(gd);\n",
       "            observer.disconnect();\n",
       "        }}\n",
       "}});\n",
       "\n",
       "// Listen for the removal of the full notebook cells\n",
       "var notebookContainer = gd.closest('#notebook-container');\n",
       "if (notebookContainer) {{\n",
       "    x.observe(notebookContainer, {childList: true});\n",
       "}}\n",
       "\n",
       "// Listen for the clearing of the current output cell\n",
       "var outputEl = gd.closest('.output');\n",
       "if (outputEl) {{\n",
       "    x.observe(outputEl, {childList: true});\n",
       "}}\n",
       "\n",
       "                        })                };                });            </script>        </div>"
      ]
     },
     "metadata": {},
     "output_type": "display_data"
    },
    {
     "data": {
      "text/plain": [
       "(None, None, None)"
      ]
     },
     "execution_count": 705,
     "metadata": {},
     "output_type": "execute_result"
    }
   ],
   "source": [
    "REV.show(), MOM.show(), YOY.show()"
   ]
  },
  {
   "cell_type": "code",
   "execution_count": 311,
   "id": "e0bdfccd",
   "metadata": {},
   "outputs": [
    {
     "data": {
      "text/html": [
       "<div>\n",
       "<style scoped>\n",
       "    .dataframe tbody tr th:only-of-type {\n",
       "        vertical-align: middle;\n",
       "    }\n",
       "\n",
       "    .dataframe tbody tr th {\n",
       "        vertical-align: top;\n",
       "    }\n",
       "\n",
       "    .dataframe thead th {\n",
       "        text-align: right;\n",
       "    }\n",
       "</style>\n",
       "<table border=\"1\" class=\"dataframe\">\n",
       "  <thead>\n",
       "    <tr style=\"text-align: right;\">\n",
       "      <th>month</th>\n",
       "      <th>Year</th>\n",
       "      <th>01</th>\n",
       "      <th>02</th>\n",
       "      <th>03</th>\n",
       "      <th>04</th>\n",
       "      <th>05</th>\n",
       "      <th>06</th>\n",
       "      <th>07</th>\n",
       "      <th>08</th>\n",
       "      <th>09</th>\n",
       "      <th>10</th>\n",
       "      <th>11</th>\n",
       "      <th>12</th>\n",
       "    </tr>\n",
       "  </thead>\n",
       "  <tbody>\n",
       "    <tr>\n",
       "      <th>0</th>\n",
       "      <td>2017</td>\n",
       "      <td>1268757.0</td>\n",
       "      <td>1428898.0</td>\n",
       "      <td>1590477.0</td>\n",
       "      <td>1640959.0</td>\n",
       "      <td>1690148.0</td>\n",
       "      <td>1771107.0</td>\n",
       "      <td>1822209.0</td>\n",
       "      <td>1870316.0</td>\n",
       "      <td>1921189.0</td>\n",
       "      <td>1971326.0</td>\n",
       "      <td>2041337.0</td>\n",
       "      <td>2136962.0</td>\n",
       "    </tr>\n",
       "    <tr>\n",
       "      <th>1</th>\n",
       "      <td>2018</td>\n",
       "      <td>2255359.0</td>\n",
       "      <td>1911575.0</td>\n",
       "      <td>2384745.0</td>\n",
       "      <td>2462095.0</td>\n",
       "      <td>2620473.0</td>\n",
       "      <td>2701630.0</td>\n",
       "      <td>2811145.0</td>\n",
       "      <td>2734603.0</td>\n",
       "      <td>2809488.0</td>\n",
       "      <td>2650004.0</td>\n",
       "      <td>2301474.0</td>\n",
       "      <td>1751055.0</td>\n",
       "    </tr>\n",
       "    <tr>\n",
       "      <th>2</th>\n",
       "      <td>2019</td>\n",
       "      <td>1667522.0</td>\n",
       "      <td>1501218.0</td>\n",
       "      <td>1880117.0</td>\n",
       "      <td>1957222.0</td>\n",
       "      <td>2044873.0</td>\n",
       "      <td>2083989.0</td>\n",
       "      <td>2116093.0</td>\n",
       "      <td>1572389.0</td>\n",
       "      <td>1374363.0</td>\n",
       "      <td>1407133.0</td>\n",
       "      <td>1278641.0</td>\n",
       "      <td>1323171.0</td>\n",
       "    </tr>\n",
       "    <tr>\n",
       "      <th>3</th>\n",
       "      <td>2020</td>\n",
       "      <td>1039231.0</td>\n",
       "      <td>1217899.0</td>\n",
       "      <td>1364012.0</td>\n",
       "      <td>1746884.0</td>\n",
       "      <td>1861385.0</td>\n",
       "      <td>2011222.0</td>\n",
       "      <td>2041883.0</td>\n",
       "      <td>1819821.0</td>\n",
       "      <td>2007872.0</td>\n",
       "      <td>1977041.0</td>\n",
       "      <td>2044943.0</td>\n",
       "      <td>2124419.0</td>\n",
       "    </tr>\n",
       "    <tr>\n",
       "      <th>4</th>\n",
       "      <td>2021</td>\n",
       "      <td>1965642.0</td>\n",
       "      <td>1865920.0</td>\n",
       "      <td>2160488.0</td>\n",
       "      <td>2236269.0</td>\n",
       "      <td>2369013.0</td>\n",
       "      <td>2443235.0</td>\n",
       "      <td>2500543.0</td>\n",
       "      <td>2529149.0</td>\n",
       "      <td>2500398.0</td>\n",
       "      <td>2410871.0</td>\n",
       "      <td>2262241.0</td>\n",
       "      <td>2022010.0</td>\n",
       "    </tr>\n",
       "    <tr>\n",
       "      <th>5</th>\n",
       "      <td>2022</td>\n",
       "      <td>2401483.0</td>\n",
       "      <td>2453621.0</td>\n",
       "      <td>2711936.0</td>\n",
       "      <td>2742688.0</td>\n",
       "      <td>2745135.0</td>\n",
       "      <td>2751204.0</td>\n",
       "      <td>2781486.0</td>\n",
       "      <td>2627868.0</td>\n",
       "      <td>2511383.0</td>\n",
       "      <td>2110428.0</td>\n",
       "      <td>1802808.0</td>\n",
       "      <td>1680534.0</td>\n",
       "    </tr>\n",
       "    <tr>\n",
       "      <th>0</th>\n",
       "      <td>2023 預估值</td>\n",
       "      <td>1935144.0</td>\n",
       "      <td>1920484.0</td>\n",
       "      <td>2234211.0</td>\n",
       "      <td>2439454.0</td>\n",
       "      <td>2580192.0</td>\n",
       "      <td>2694541.0</td>\n",
       "      <td>2753182.0</td>\n",
       "      <td>2612444.0</td>\n",
       "      <td>2656425.0</td>\n",
       "      <td>2594852.0</td>\n",
       "      <td>2509823.0</td>\n",
       "      <td>2389609.0</td>\n",
       "    </tr>\n",
       "  </tbody>\n",
       "</table>\n",
       "</div>"
      ],
      "text/plain": [
       "month      Year         01         02         03         04         05  \\\n",
       "0          2017  1268757.0  1428898.0  1590477.0  1640959.0  1690148.0   \n",
       "1          2018  2255359.0  1911575.0  2384745.0  2462095.0  2620473.0   \n",
       "2          2019  1667522.0  1501218.0  1880117.0  1957222.0  2044873.0   \n",
       "3          2020  1039231.0  1217899.0  1364012.0  1746884.0  1861385.0   \n",
       "4          2021  1965642.0  1865920.0  2160488.0  2236269.0  2369013.0   \n",
       "5          2022  2401483.0  2453621.0  2711936.0  2742688.0  2745135.0   \n",
       "0      2023 預估值  1935144.0  1920484.0  2234211.0  2439454.0  2580192.0   \n",
       "\n",
       "month         06         07         08         09         10         11  \\\n",
       "0      1771107.0  1822209.0  1870316.0  1921189.0  1971326.0  2041337.0   \n",
       "1      2701630.0  2811145.0  2734603.0  2809488.0  2650004.0  2301474.0   \n",
       "2      2083989.0  2116093.0  1572389.0  1374363.0  1407133.0  1278641.0   \n",
       "3      2011222.0  2041883.0  1819821.0  2007872.0  1977041.0  2044943.0   \n",
       "4      2443235.0  2500543.0  2529149.0  2500398.0  2410871.0  2262241.0   \n",
       "5      2751204.0  2781486.0  2627868.0  2511383.0  2110428.0  1802808.0   \n",
       "0      2694541.0  2753182.0  2612444.0  2656425.0  2594852.0  2509823.0   \n",
       "\n",
       "month         12  \n",
       "0      2136962.0  \n",
       "1      1751055.0  \n",
       "2      1323171.0  \n",
       "3      2124419.0  \n",
       "4      2022010.0  \n",
       "5      1680534.0  \n",
       "0      2389609.0  "
      ]
     },
     "execution_count": 311,
     "metadata": {},
     "output_type": "execute_result"
    }
   ],
   "source": [
    "table"
   ]
  },
  {
   "cell_type": "code",
   "execution_count": 25,
   "id": "11e5c281",
   "metadata": {},
   "outputs": [
    {
     "data": {
      "text/html": [
       "<div>\n",
       "<style scoped>\n",
       "    .dataframe tbody tr th:only-of-type {\n",
       "        vertical-align: middle;\n",
       "    }\n",
       "\n",
       "    .dataframe tbody tr th {\n",
       "        vertical-align: top;\n",
       "    }\n",
       "\n",
       "    .dataframe thead th {\n",
       "        text-align: right;\n",
       "    }\n",
       "</style>\n",
       "<table border=\"1\" class=\"dataframe\">\n",
       "  <thead>\n",
       "    <tr style=\"text-align: right;\">\n",
       "      <th></th>\n",
       "      <th>公司代碼</th>\n",
       "      <th>公司簡稱</th>\n",
       "      <th>最新公告月份</th>\n",
       "      <th>營收</th>\n",
       "      <th>MOM%</th>\n",
       "      <th>YOY%</th>\n",
       "    </tr>\n",
       "  </thead>\n",
       "  <tbody>\n",
       "    <tr>\n",
       "      <th>119</th>\n",
       "      <td>1101</td>\n",
       "      <td>台泥</td>\n",
       "      <td>2023/01/10</td>\n",
       "      <td>12584154.0</td>\n",
       "      <td>0.300745</td>\n",
       "      <td>0.162910</td>\n",
       "    </tr>\n",
       "    <tr>\n",
       "      <th>239</th>\n",
       "      <td>1102</td>\n",
       "      <td>亞泥</td>\n",
       "      <td>2023/01/10</td>\n",
       "      <td>8340507.0</td>\n",
       "      <td>0.004147</td>\n",
       "      <td>-0.113063</td>\n",
       "    </tr>\n",
       "    <tr>\n",
       "      <th>359</th>\n",
       "      <td>1103</td>\n",
       "      <td>嘉泥</td>\n",
       "      <td>2023/01/10</td>\n",
       "      <td>228644.0</td>\n",
       "      <td>0.031029</td>\n",
       "      <td>0.333061</td>\n",
       "    </tr>\n",
       "    <tr>\n",
       "      <th>479</th>\n",
       "      <td>1104</td>\n",
       "      <td>環泥</td>\n",
       "      <td>2023/01/10</td>\n",
       "      <td>725055.0</td>\n",
       "      <td>0.147553</td>\n",
       "      <td>0.272864</td>\n",
       "    </tr>\n",
       "    <tr>\n",
       "      <th>599</th>\n",
       "      <td>1108</td>\n",
       "      <td>幸福</td>\n",
       "      <td>2023/01/10</td>\n",
       "      <td>418326.0</td>\n",
       "      <td>0.090035</td>\n",
       "      <td>0.309856</td>\n",
       "    </tr>\n",
       "    <tr>\n",
       "      <th>719</th>\n",
       "      <td>1109</td>\n",
       "      <td>信大</td>\n",
       "      <td>2023/01/10</td>\n",
       "      <td>516142.0</td>\n",
       "      <td>-0.229164</td>\n",
       "      <td>-0.336393</td>\n",
       "    </tr>\n",
       "    <tr>\n",
       "      <th>839</th>\n",
       "      <td>1110</td>\n",
       "      <td>東泥</td>\n",
       "      <td>2023/01/10</td>\n",
       "      <td>167733.0</td>\n",
       "      <td>-0.154213</td>\n",
       "      <td>-0.092717</td>\n",
       "    </tr>\n",
       "  </tbody>\n",
       "</table>\n",
       "</div>"
      ],
      "text/plain": [
       "     公司代碼 公司簡稱      最新公告月份          營收      MOM%      YOY%\n",
       "119  1101   台泥  2023/01/10  12584154.0  0.300745  0.162910\n",
       "239  1102   亞泥  2023/01/10   8340507.0  0.004147 -0.113063\n",
       "359  1103   嘉泥  2023/01/10    228644.0  0.031029  0.333061\n",
       "479  1104   環泥  2023/01/10    725055.0  0.147553  0.272864\n",
       "599  1108   幸福  2023/01/10    418326.0  0.090035  0.309856\n",
       "719  1109   信大  2023/01/10    516142.0 -0.229164 -0.336393\n",
       "839  1110   東泥  2023/01/10    167733.0 -0.154213 -0.092717"
      ]
     },
     "execution_count": 25,
     "metadata": {},
     "output_type": "execute_result"
    }
   ],
   "source": [
    "# latestlatest = 'st_code', 'st_name', 'declaration_date', 'rev', 'mom', 'yoy'\n",
    "# latest.rename({'st_code':'公司代碼', 'st_name':'公司簡稱', 'declaration_date':'最新公告日期', \n",
    "#                'rev':'營收', 'mom':'MOM%', 'yoy':'YOY%'}, axis=1)\n",
    "latest"
   ]
  },
  {
   "cell_type": "code",
   "execution_count": 301,
   "id": "a26ded53",
   "metadata": {},
   "outputs": [
    {
     "data": {
      "text/html": [
       "<div>\n",
       "<style scoped>\n",
       "    .dataframe tbody tr th:only-of-type {\n",
       "        vertical-align: middle;\n",
       "    }\n",
       "\n",
       "    .dataframe tbody tr th {\n",
       "        vertical-align: top;\n",
       "    }\n",
       "\n",
       "    .dataframe thead th {\n",
       "        text-align: right;\n",
       "    }\n",
       "</style>\n",
       "<table border=\"1\" class=\"dataframe\">\n",
       "  <thead>\n",
       "    <tr style=\"text-align: right;\">\n",
       "      <th></th>\n",
       "      <th>st_code</th>\n",
       "      <th>st_name</th>\n",
       "      <th>rev_period</th>\n",
       "      <th>declaration_date</th>\n",
       "      <th>rev</th>\n",
       "      <th>Year</th>\n",
       "      <th>month</th>\n",
       "      <th>mom</th>\n",
       "      <th>yoy</th>\n",
       "    </tr>\n",
       "  </thead>\n",
       "  <tbody>\n",
       "    <tr>\n",
       "      <th>61</th>\n",
       "      <td>6505</td>\n",
       "      <td>台塑化</td>\n",
       "      <td>2022/02</td>\n",
       "      <td>2022/03/08</td>\n",
       "      <td>52347498.0</td>\n",
       "      <td>2022</td>\n",
       "      <td>02</td>\n",
       "      <td>-0.1874</td>\n",
       "      <td>0.2653</td>\n",
       "    </tr>\n",
       "    <tr>\n",
       "      <th>62</th>\n",
       "      <td>6505</td>\n",
       "      <td>台塑化</td>\n",
       "      <td>2022/03</td>\n",
       "      <td>2022/04/11</td>\n",
       "      <td>68780496.0</td>\n",
       "      <td>2022</td>\n",
       "      <td>03</td>\n",
       "      <td>0.3139</td>\n",
       "      <td>0.4732</td>\n",
       "    </tr>\n",
       "    <tr>\n",
       "      <th>63</th>\n",
       "      <td>6505</td>\n",
       "      <td>台塑化</td>\n",
       "      <td>2022/04</td>\n",
       "      <td>2022/05/06</td>\n",
       "      <td>65350494.0</td>\n",
       "      <td>2022</td>\n",
       "      <td>04</td>\n",
       "      <td>-0.0499</td>\n",
       "      <td>0.4038</td>\n",
       "    </tr>\n",
       "    <tr>\n",
       "      <th>64</th>\n",
       "      <td>6505</td>\n",
       "      <td>台塑化</td>\n",
       "      <td>2022/05</td>\n",
       "      <td>2022/06/08</td>\n",
       "      <td>85486875.0</td>\n",
       "      <td>2022</td>\n",
       "      <td>05</td>\n",
       "      <td>0.3081</td>\n",
       "      <td>0.6152</td>\n",
       "    </tr>\n",
       "    <tr>\n",
       "      <th>65</th>\n",
       "      <td>6505</td>\n",
       "      <td>台塑化</td>\n",
       "      <td>2022/06</td>\n",
       "      <td>2022/07/11</td>\n",
       "      <td>88448405.0</td>\n",
       "      <td>2022</td>\n",
       "      <td>06</td>\n",
       "      <td>0.0346</td>\n",
       "      <td>0.9443</td>\n",
       "    </tr>\n",
       "    <tr>\n",
       "      <th>66</th>\n",
       "      <td>6505</td>\n",
       "      <td>台塑化</td>\n",
       "      <td>2022/07</td>\n",
       "      <td>2022/08/08</td>\n",
       "      <td>76588503.0</td>\n",
       "      <td>2022</td>\n",
       "      <td>07</td>\n",
       "      <td>-0.1341</td>\n",
       "      <td>0.4230</td>\n",
       "    </tr>\n",
       "    <tr>\n",
       "      <th>67</th>\n",
       "      <td>6505</td>\n",
       "      <td>台塑化</td>\n",
       "      <td>2022/08</td>\n",
       "      <td>2022/09/07</td>\n",
       "      <td>82746460.0</td>\n",
       "      <td>2022</td>\n",
       "      <td>08</td>\n",
       "      <td>0.0804</td>\n",
       "      <td>0.5466</td>\n",
       "    </tr>\n",
       "    <tr>\n",
       "      <th>68</th>\n",
       "      <td>6505</td>\n",
       "      <td>台塑化</td>\n",
       "      <td>2022/09</td>\n",
       "      <td>2022/10/11</td>\n",
       "      <td>69729663.0</td>\n",
       "      <td>2022</td>\n",
       "      <td>09</td>\n",
       "      <td>-0.1573</td>\n",
       "      <td>0.2302</td>\n",
       "    </tr>\n",
       "    <tr>\n",
       "      <th>69</th>\n",
       "      <td>6505</td>\n",
       "      <td>台塑化</td>\n",
       "      <td>2022/10</td>\n",
       "      <td>2022/11/08</td>\n",
       "      <td>69805243.0</td>\n",
       "      <td>2022</td>\n",
       "      <td>10</td>\n",
       "      <td>0.0011</td>\n",
       "      <td>0.1543</td>\n",
       "    </tr>\n",
       "    <tr>\n",
       "      <th>70</th>\n",
       "      <td>6505</td>\n",
       "      <td>台塑化</td>\n",
       "      <td>2022/11</td>\n",
       "      <td>2022/12/07</td>\n",
       "      <td>62084809.0</td>\n",
       "      <td>2022</td>\n",
       "      <td>11</td>\n",
       "      <td>-0.1106</td>\n",
       "      <td>0.0458</td>\n",
       "    </tr>\n",
       "    <tr>\n",
       "      <th>71</th>\n",
       "      <td>6505</td>\n",
       "      <td>台塑化</td>\n",
       "      <td>2022/12</td>\n",
       "      <td>2023/01/10</td>\n",
       "      <td>62256273.0</td>\n",
       "      <td>2022</td>\n",
       "      <td>12</td>\n",
       "      <td>0.0028</td>\n",
       "      <td>0.0216</td>\n",
       "    </tr>\n",
       "    <tr>\n",
       "      <th>72</th>\n",
       "      <td>6505</td>\n",
       "      <td>台塑化</td>\n",
       "      <td>2023/01</td>\n",
       "      <td>2023/02/07</td>\n",
       "      <td>60935919.0</td>\n",
       "      <td>2023</td>\n",
       "      <td>01</td>\n",
       "      <td>-0.0212</td>\n",
       "      <td>-0.0541</td>\n",
       "    </tr>\n",
       "  </tbody>\n",
       "</table>\n",
       "</div>"
      ],
      "text/plain": [
       "   st_code st_name rev_period declaration_date         rev  Year month  \\\n",
       "61    6505     台塑化    2022/02       2022/03/08  52347498.0  2022    02   \n",
       "62    6505     台塑化    2022/03       2022/04/11  68780496.0  2022    03   \n",
       "63    6505     台塑化    2022/04       2022/05/06  65350494.0  2022    04   \n",
       "64    6505     台塑化    2022/05       2022/06/08  85486875.0  2022    05   \n",
       "65    6505     台塑化    2022/06       2022/07/11  88448405.0  2022    06   \n",
       "66    6505     台塑化    2022/07       2022/08/08  76588503.0  2022    07   \n",
       "67    6505     台塑化    2022/08       2022/09/07  82746460.0  2022    08   \n",
       "68    6505     台塑化    2022/09       2022/10/11  69729663.0  2022    09   \n",
       "69    6505     台塑化    2022/10       2022/11/08  69805243.0  2022    10   \n",
       "70    6505     台塑化    2022/11       2022/12/07  62084809.0  2022    11   \n",
       "71    6505     台塑化    2022/12       2023/01/10  62256273.0  2022    12   \n",
       "72    6505     台塑化    2023/01       2023/02/07  60935919.0  2023    01   \n",
       "\n",
       "       mom     yoy  \n",
       "61 -0.1874  0.2653  \n",
       "62  0.3139  0.4732  \n",
       "63 -0.0499  0.4038  \n",
       "64  0.3081  0.6152  \n",
       "65  0.0346  0.9443  \n",
       "66 -0.1341  0.4230  \n",
       "67  0.0804  0.5466  \n",
       "68 -0.1573  0.2302  \n",
       "69  0.0011  0.1543  \n",
       "70 -0.1106  0.0458  \n",
       "71  0.0028  0.0216  \n",
       "72 -0.0212 -0.0541  "
      ]
     },
     "execution_count": 301,
     "metadata": {},
     "output_type": "execute_result"
    }
   ],
   "source": [
    "data.tail(12)"
   ]
  },
  {
   "cell_type": "code",
   "execution_count": 356,
   "id": "b86b256d",
   "metadata": {},
   "outputs": [
    {
     "name": "stdout",
     "output_type": "stream",
     "text": [
      "2023-01-31 16:26:58,025 INFO sqlalchemy.engine.Engine select relname from pg_class c join pg_namespace n on n.oid=c.relnamespace where pg_catalog.pg_table_is_visible(c.oid) and relname=%(name)s\n",
      "2023-01-31 16:26:58,026 INFO sqlalchemy.engine.Engine [cached since 5.404e+04s ago] {'name': \"\\n        select st_code, st_name, rev_period, declaration_date, rev\\n        from tej_revenue \\n        where new_industry_name = 'M2500 建材營造'; \\n        \"}\n",
      "2023-01-31 16:26:58,614 INFO sqlalchemy.engine.Engine \n",
      "        select st_code, st_name, rev_period, declaration_date, rev\n",
      "        from tej_revenue \n",
      "        where new_industry_name = 'M2500 建材營造'; \n",
      "        \n",
      "2023-01-31 16:26:58,616 INFO sqlalchemy.engine.Engine [raw sql] {}\n"
     ]
    }
   ],
   "source": [
    "dropdown1 = new_industry_name[1]\n",
    "dropdown2 = minor_industry_name[1] #minor_industry_name[5] #None\n",
    "st_input = '2539'\n",
    "\n",
    "\n",
    "if st_input is None or st_input == '':\n",
    "    try:\n",
    "        if dropdown1 is not None and dropdown2 is None or dropdown2 == '':\n",
    "            mask = (\"new_industry_name = '\" + dropdown1 + \"'\")\n",
    "\n",
    "        elif dropdown1 is None and dropdown2 is not None or dropdown1 == '':\n",
    "            mask = (\"minor_industry_name = '\" + dropdown2 + \"'\")\n",
    "\n",
    "        elif dropdown1 is not None and dropdown2 is not None:\n",
    "            mask = (\"new_industry_name = '\" + dropdown1 + \"' and \" + \"minor_industry_name = '\" + dropdown2 + \"'\")\n",
    "\n",
    "        # 從 db 撈資料\n",
    "        st_search = \"\"\"\n",
    "        select st_code, st_name, rev_period, declaration_date, rev\n",
    "        from tej_revenue \n",
    "        where {};\n",
    "        \"\"\".format(mask)\n",
    "\n",
    "        data = pd.read_sql(st_search, engine)\n",
    "        data = data.groupby(by='st_code', as_index=False).apply(get_st_mom_yoy).reset_index(drop=True, inplace=False)\n",
    "\n",
    "        # 產業最新營收公布情形\n",
    "        latest = get_latest(data)\n",
    "\n",
    "        # 產業總營收狀況\n",
    "        data = data.groupby(by='rev_period', as_index=False).agg({'rev':'sum'})\n",
    "        data = get_st_mom_yoy(data)\n",
    "\n",
    "        # 預測資料\n",
    "        data_predict = predict(data)\n",
    "\n",
    "        # 繪圖\n",
    "        title = dropdown1 + ' '\n",
    "        REV = get_revpic(data, data_predict, (title + ' 各年度月營收'))\n",
    "        MOM = get_mompic(data, data_predict, (title + ' 各年度月營收'))\n",
    "        YOY = get_yoypic(data, data_predict, (title + ' 各年度月營收'))\n",
    "\n",
    "        # 整理營收資訊表\n",
    "        table = data.pivot_table(values='rev', index='Year', columns='month').reset_index()\n",
    "        data_predict.Year = data_predict.Year + str(' 預估值')\n",
    "        table = pd.concat([table, data_predict.tail(12).pivot_table(index='Year', columns='month', values='rev').reset_index()],axis=0)\n",
    "\n",
    "    except KeyError:\n",
    "        print('跳警示通知⚠️：該分類沒有相關個股，請重新選擇，並reset')\n",
    "\n",
    "\n",
    "else:\n",
    "    try:\n",
    "        if (st_input.isdigit() == True):\n",
    "            industry = stock_info[stock_info.st_code == st_input].new_industry_name.values[0]\n",
    "            mask = (\"new_industry_name = '\" + industry + \"'\")\n",
    "            st_mask = 'st_code'\n",
    "\n",
    "        else:\n",
    "            industry = stock_info[stock_info.st_name == st_input].new_industry_name.values[0]\n",
    "            mask = (\"new_industry_name = '\" + industry + \"'\")\n",
    "            st_mask = 'st_name'\n",
    "\n",
    "        # 從 db 撈資料\n",
    "        st_search = \"\"\"\n",
    "        select st_code, st_name, rev_period, declaration_date, rev\n",
    "        from tej_revenue \n",
    "        where {}; \n",
    "        \"\"\".format(mask)\n",
    "        data = pd.read_sql(st_search, engine)\n",
    "        data = data.groupby(by='st_code', as_index=False).apply(get_st_mom_yoy).reset_index(drop=True, inplace=False)\n",
    "\n",
    "        # 產業最新營收公布情形\n",
    "        latest = get_latest(data)\n",
    "\n",
    "        # 轉換成個股總營收\n",
    "        data = data[data[st_mask] == st_input]\n",
    "        data = get_st_mom_yoy(data)\n",
    "\n",
    "        # 預測資料\n",
    "        data_predict = predict(data)\n",
    "\n",
    "        # 繪圖\n",
    "        title = data.st_code[0] + ' ' + data.st_name[0]\n",
    "        REV = get_revpic(data, data_predict, (title + ' 各年度月營收'))\n",
    "        MOM = get_mompic(data, data_predict, (title + ' 各年度月營收'))\n",
    "        YOY = get_yoypic(data, data_predict, (title + ' 各年度月營收'))   \n",
    "\n",
    "        # 整理營收資訊表\n",
    "        table = data.pivot_table(values='rev', index='Year', columns='month').reset_index()\n",
    "        data_predict.Year = data_predict.Year + str(' 預估值')\n",
    "        table = pd.concat([table, data_predict.tail(12).pivot_table(index='Year', columns='month', values='rev').reset_index()],axis=0)\n",
    "\n",
    "    except IndexError:\n",
    "        print('跳警示通知⚠️：查無該股票營收，請重新輸入，並reset')"
   ]
  },
  {
   "cell_type": "code",
   "execution_count": null,
   "id": "876079f6",
   "metadata": {},
   "outputs": [],
   "source": []
  }
 ],
 "metadata": {
  "kernelspec": {
   "display_name": "Python 3 (ipykernel)",
   "language": "python",
   "name": "python3"
  },
  "language_info": {
   "codemirror_mode": {
    "name": "ipython",
    "version": 3
   },
   "file_extension": ".py",
   "mimetype": "text/x-python",
   "name": "python",
   "nbconvert_exporter": "python",
   "pygments_lexer": "ipython3",
   "version": "3.9.12"
  },
  "vscode": {
   "interpreter": {
    "hash": "fae76a53c89e02d9d66740d1fe92d8161e170862926fb0375f474a8df1983dfd"
   }
  }
 },
 "nbformat": 4,
 "nbformat_minor": 5
}
