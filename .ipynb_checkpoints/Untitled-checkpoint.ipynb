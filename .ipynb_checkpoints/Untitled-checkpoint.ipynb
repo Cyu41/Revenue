{
 "cells": [
  {
   "cell_type": "code",
   "execution_count": 1,
   "id": "7037118d",
   "metadata": {},
   "outputs": [],
   "source": [
    "import pandas as pd\n",
    "import plotly.express as px\n",
    "import plotly.graph_objects as go\n",
    "import plotly.figure_factory as ff  # 圖形工廠\n",
    "from plotly.subplots import make_subplots  # 繪製子圖\n",
    "import numpy as np\n",
    "from Upload_git import upload\n",
    "from os import system\n",
    "import time\n",
    "from time import ctime, sleep\n",
    "from Upload_git import upload\n",
    "import schedule\n",
    "import psycopg2\n",
    "import psycopg2.extras as extras\n",
    "from sqlalchemy import create_engine\n",
    "\n",
    "\"\"\"\n",
    "connect to db\n",
    "\"\"\"\n",
    "host='database-1.cyn7ldoposru.us-east-1.rds.amazonaws.com'\n",
    "port='5432'\n",
    "user='Yu'\n",
    "password='m#WA12J#'\n",
    "database=\"JQC_Revenue1\"\n",
    "\n",
    "engine = create_engine('postgresql://{}:{}@{}:{}/{}'.format(\n",
    "        user, password, host, port, database), echo=True)\n",
    "\n",
    "stock_info = pd.read_csv('stock_info.csv')\n",
    "stock_info.st_code = stock_info.st_code.astype(str)"
   ]
  },
  {
   "cell_type": "code",
   "execution_count": 2,
   "id": "7d3f6ff0",
   "metadata": {},
   "outputs": [
    {
     "ename": "NameError",
     "evalue": "name 'mask' is not defined",
     "output_type": "error",
     "traceback": [
      "\u001b[0;31m---------------------------------------------------------------------------\u001b[0m",
      "\u001b[0;31mNameError\u001b[0m                                 Traceback (most recent call last)",
      "Input \u001b[0;32mIn [2]\u001b[0m, in \u001b[0;36m<cell line: 4>\u001b[0;34m()\u001b[0m\n\u001b[1;32m      1\u001b[0m \u001b[38;5;124;03m\"\"\"\u001b[39;00m\n\u001b[1;32m      2\u001b[0m \u001b[38;5;124;03msearch in sql\u001b[39;00m\n\u001b[1;32m      3\u001b[0m \u001b[38;5;124;03m\"\"\"\u001b[39;00m\n\u001b[1;32m      4\u001b[0m ind_search \u001b[38;5;241m=\u001b[39m \u001b[38;5;124m\"\"\"\u001b[39m\n\u001b[1;32m      5\u001b[0m \u001b[38;5;124mselect rev_period, sum(rev) as ttl_rev \u001b[39m\n\u001b[1;32m      6\u001b[0m \u001b[38;5;124mfrom tej_revenue \u001b[39m\n\u001b[1;32m      7\u001b[0m \u001b[38;5;124mwhere \u001b[39m\u001b[38;5;132;01m{}\u001b[39;00m\u001b[38;5;124m \u001b[39m\n\u001b[1;32m      8\u001b[0m \u001b[38;5;124mgroup by rev_period;\u001b[39m\n\u001b[0;32m----> 9\u001b[0m \u001b[38;5;124m\"\"\"\u001b[39m\u001b[38;5;241m.\u001b[39mformat(\u001b[43mmask\u001b[49m)\n\u001b[1;32m     11\u001b[0m st_search \u001b[38;5;241m=\u001b[39m \u001b[38;5;124m\"\"\"\u001b[39m\n\u001b[1;32m     12\u001b[0m \u001b[38;5;124mselect st_code, st_name, rev_period, declaration_date, rev\u001b[39m\n\u001b[1;32m     13\u001b[0m \u001b[38;5;124mfrom tej_revenue \u001b[39m\n\u001b[1;32m     14\u001b[0m \u001b[38;5;124mwhere \u001b[39m\u001b[38;5;132;01m{}\u001b[39;00m\u001b[38;5;124m;\u001b[39m\n\u001b[1;32m     15\u001b[0m \u001b[38;5;124m\"\"\"\u001b[39m\u001b[38;5;241m.\u001b[39mformat(mask)\n",
      "\u001b[0;31mNameError\u001b[0m: name 'mask' is not defined"
     ]
    }
   ],
   "source": [
    "\"\"\"\n",
    "search in sql\n",
    "\"\"\"\n",
    "ind_search = \"\"\"\n",
    "select rev_period, sum(rev) as ttl_rev \n",
    "from tej_revenue \n",
    "where {} \n",
    "group by rev_period;\n",
    "\"\"\".format(mask)\n",
    "\n",
    "st_search = \"\"\"\n",
    "select st_code, st_name, rev_period, declaration_date, rev\n",
    "from tej_revenue \n",
    "where {};\n",
    "\"\"\".format(mask)"
   ]
  },
  {
   "cell_type": "code",
   "execution_count": 31,
   "id": "ae0af6a1",
   "metadata": {},
   "outputs": [],
   "source": [
    "# def get_yoy(data):\n",
    "#     data = data.sort_values('Year')\n",
    "#     data['yoy'] = data.rev.diff()/data.rev.shift(1)\n",
    "#     return data\n",
    "\n",
    "# def get_st_mom_yoy(data):\n",
    "#     data['Year'] =  data.rev_period.astype(str).str[0:4]\n",
    "#     data['month'] = data.rev_period.astype(str).str[5:7]\n",
    "#     data['mom'] = data.rev.diff()/data.rev.shift(1)\n",
    "#     yoy = pd.DataFrame()\n",
    "#     yoy = data.groupby('month').apply(get_yoy).reset_index(drop=True, inplace=False)\n",
    "#     return yoy\n",
    "\n",
    "# def get_latest(data):\n",
    "#     latest = data.drop_duplicates(subset='st_code', keep='last')\n",
    "#     # latest = latest.drop('index', axis=1)\n",
    "#     latest = latest.sort_values('declaration_date', ascending=True)\n",
    "#     latest = latest.loc[:, ['st_code', 'st_name', 'declaration_date', 'rev', 'mom', 'yoy']]\n",
    "#     return latest.to_dict('records')\n",
    "\n",
    "# def get_mompic(st_data, st_predict, pic_title):\n",
    "#     MOM_pic = []\n",
    "#     for i in st_data.Year.drop_duplicates():\n",
    "#         globals()['trace' + str(i)] = go.Scatter(x=st_data[st_data.Year == i].month, y=st_data[st_data.Year == i].mom, name=i, opacity=0.5)\n",
    "#         MOM_pic.append(globals()['trace' + str(i)])\n",
    "#     for i in st_predict.Year.drop_duplicates():\n",
    "#         globals()['trace_predict' + str(i)] = go.Scatter(x=st_predict[st_predict.Year == i].month, y=st_predict[st_predict.Year == i].mom, name=str(i) + '預估值', #marker_color='black',\n",
    "#                                                          line=dict(dash = \"dash\"), connectgaps=False)\n",
    "#         MOM_pic.append(globals()['trace_predict' + str(i)])\n",
    "#     layout = go.Layout(title=pic_title+' MOM %', xaxis_title=\"月份\", yaxis_title=\"MOM %\", hovermode='x unified', legend_title_text='年份')\n",
    "#     MOM = go.Figure(data = MOM_pic, layout=layout)\n",
    "#     return MOM\n",
    "\n",
    "# def get_yoypic(st_yoy, st_predict, pic_title):\n",
    "#     YOY_pic = []\n",
    "#     for i in st_yoy.Year.drop_duplicates():\n",
    "#         globals()['trace' + str(i)] = go.Scatter(x=st_yoy[st_yoy.Year == i].month, y=st_yoy[st_yoy.Year == i].yoy, name=i, opacity=0.5)\n",
    "#         YOY_pic.append(globals()['trace' + str(i)])\n",
    "#     for i in st_predict.Year.drop_duplicates():\n",
    "#         globals()['trace_predict' + str(i)] = go.Scatter(x=st_predict[st_predict.Year == i].month, y=st_predict[st_predict.Year == i].yoy, name=str(i) + '預估值',  #marker_color='black',\n",
    "#                                                          line=dict(dash = \"dash\"), connectgaps=False)\n",
    "#         YOY_pic.append(globals()['trace_predict' + str(i)])\n",
    "#     layout = go.Layout(title=pic_title+' YOY %', xaxis_title=\"月份\", yaxis_title=\"YOY %\", hovermode='x unified', legend_title_text='年份')\n",
    "#     YOY = go.Figure(data = YOY_pic, layout=layout)\n",
    "#     return YOY\n",
    "\n",
    "\n",
    "# def get_revpic(st_data, st_predict, title_name):\n",
    "#     REV_pic = []\n",
    "#     for i in st_data.Year.drop_duplicates():\n",
    "#         globals()['trace' + str(i)] = go.Bar(x=st_data[st_data.Year == i].month, y=st_data[st_data.Year == i].rev, name=i, opacity=0.7)\n",
    "#         REV_pic.append(globals()['trace' + str(i)])\n",
    "#     trace_predict = go.Bar(x=st_predict.month, y=st_predict.predict_month_rev, opacity=1,\n",
    "#                            marker_color='black', name='預估值', marker_pattern_shape=\"\\\\\",\n",
    "#                            marker=dict(color=\"white\", line_color=\"black\", pattern_fillmode=\"replace\"))\n",
    "#     REV_pic.append(trace_predict)\n",
    "#     layout = go.Layout(barmode = 'group', title=title_name, xaxis_title=\"月份\", yaxis_title=\"累計營收\", hovermode='x unified', legend_title_text='年份')\n",
    "#     REV = go.Figure(data = REV_pic, layout=layout)\n",
    "#     return REV\n",
    "\n",
    "# # weight = [1, 1, 1, 3, 5]\n",
    "\n",
    "# # def get_ratio(data):\n",
    "# #     data['ratio'] = round(data.rev/data.rev.sum(), 4)\n",
    "# #     return data\n",
    "\n",
    "# # def get_avg_ratio(data):\n",
    "# #     roll_num = len(weight)\n",
    "# #     data = data.sort_values('Year').reset_index(drop=True, inplace=False).tail(roll_num + 1).head(roll_num)  # 抓到最後一年的前 n 年，n 隨權重年份個變\n",
    "# #     return round(np.average(data.ratio, weights = weight), 4)\n",
    "\n",
    "# def predict(data):\n",
    "#     a = data.groupby('Year', as_index=False).apply(get_ratio)\n",
    "#     ratio = pd.DataFrame(a.groupby('month', as_index=False).apply(get_avg_ratio)).set_axis(['month', 'wt_avg_ratio'],axis=1)\n",
    "#     predict = pd.merge(data, ratio, on='month', how='outer').sort_values('rev_period').reset_index(drop=True,inplace=False).tail(12)  # 僅向後預測一年\n",
    "#     predict['predict_annul_rev'] = round(predict.rev / predict.ratio)\n",
    "#     predict['predict_month_rev'] = round(round(predict['predict_annul_rev'].mean(), 2) * predict.wt_avg_ratio)\n",
    "#     predict['Year'] = (predict.Year.astype(int) + 1).astype(str)\n",
    "#     predict['rev'] = predict['predict_month_rev']\n",
    "#     predict = pd.concat([data.sort_values('rev_period'), predict], axis=0).sort_values(['Year', 'month'])\n",
    "#     predict['mom'] = predict.rev.diff() / predict.rev.shift(1)\n",
    "#     predict = predict.groupby('month', as_index=False).apply(get_yoy).sort_values(['Year', 'month'])\n",
    "#     return predict.tail(13)\n",
    "\n",
    "# weight = [1, 1, 1, 3, 5]\n",
    "\n",
    "# def get_ratio(data):\n",
    "#     data['ratio'] = round(data.rev/data.rev.sum(), 4)\n",
    "#     return data\n",
    "\n",
    "# def get_avg_ratio(data):\n",
    "#     roll_num = len(weight)\n",
    "#     data = data.sort_values('Year').reset_index(drop=True, inplace=False).tail(roll_num + 1).head(roll_num)  # 抓到最後一年的前 n 年，n 隨權重年份個變\n",
    "#     return round(np.average(data.ratio, weights = weight), 4)\n",
    "\n",
    "def predict(data):\n",
    "    data = data.groupby('Year', as_index=False).apply(get_ratio)\n",
    "    ratio = pd.DataFrame(data.groupby('month', as_index=False).apply(get_avg_ratio)).set_axis(['month', 'wt_avg_ratio'],axis=1)\n",
    "    predict = pd.merge(data, ratio, on='month', how='outer').sort_values('rev_period').reset_index(drop=True,inplace=False).tail(12)  # 僅向後預測一年\n",
    "    predict['predict_annul_rev'] = round(predict.rev / predict.ratio)\n",
    "    predict['predict_month_rev'] = round(round(predict['predict_annul_rev'].mean(), 2) * predict.wt_avg_ratio)\n",
    "    predict['Year'] = (predict.Year.astype(int) + 1).astype(str)\n",
    "    predict['rev'] = predict['predict_month_rev']\n",
    "    predict = pd.concat([data.sort_values('rev_period'), predict], axis=0).sort_values(['Year', 'month'])\n",
    "    predict['mom'] = predict.rev.diff() / predict.rev.shift(1)\n",
    "    predict = predict.groupby('month', as_index=False).apply(get_yoy).sort_values(['Year', 'month'])\n",
    "    return predict.tail(13)\n"
   ]
  },
  {
   "cell_type": "code",
   "execution_count": 4,
   "id": "aecead50",
   "metadata": {},
   "outputs": [
    {
     "name": "stdout",
     "output_type": "stream",
     "text": [
      "2023-01-28 13:03:20,763 INFO sqlalchemy.engine.Engine select pg_catalog.version()\n",
      "2023-01-28 13:03:20,763 INFO sqlalchemy.engine.Engine [raw sql] {}\n",
      "2023-01-28 13:03:21,166 INFO sqlalchemy.engine.Engine select current_schema()\n",
      "2023-01-28 13:03:21,167 INFO sqlalchemy.engine.Engine [raw sql] {}\n",
      "2023-01-28 13:03:21,567 INFO sqlalchemy.engine.Engine show standard_conforming_strings\n",
      "2023-01-28 13:03:21,569 INFO sqlalchemy.engine.Engine [raw sql] {}\n",
      "2023-01-28 13:03:21,971 INFO sqlalchemy.engine.Engine select relname from pg_class c join pg_namespace n on n.oid=c.relnamespace where pg_catalog.pg_table_is_visible(c.oid) and relname=%(name)s\n",
      "2023-01-28 13:03:21,972 INFO sqlalchemy.engine.Engine [generated in 0.00082s] {'name': 'industry'}\n",
      "2023-01-28 13:03:22,576 INFO sqlalchemy.engine.Engine SELECT c.relname FROM pg_class c JOIN pg_namespace n ON n.oid = c.relnamespace WHERE n.nspname = %(schema)s AND c.relkind in ('r', 'p')\n",
      "2023-01-28 13:03:22,577 INFO sqlalchemy.engine.Engine [generated in 0.00147s] {'schema': 'public'}\n",
      "2023-01-28 13:03:22,983 INFO sqlalchemy.engine.Engine \n",
      "            SELECT c.oid\n",
      "            FROM pg_catalog.pg_class c\n",
      "            LEFT JOIN pg_catalog.pg_namespace n ON n.oid = c.relnamespace\n",
      "            WHERE (pg_catalog.pg_table_is_visible(c.oid))\n",
      "            AND c.relname = %(table_name)s AND c.relkind in\n",
      "            ('r', 'v', 'm', 'f', 'p')\n",
      "        \n",
      "2023-01-28 13:03:22,984 INFO sqlalchemy.engine.Engine [generated in 0.00148s] {'table_name': 'industry'}\n",
      "2023-01-28 13:03:23,187 INFO sqlalchemy.engine.Engine \n",
      "            SELECT a.attname,\n",
      "              pg_catalog.format_type(a.atttypid, a.atttypmod),\n",
      "              (\n",
      "                SELECT pg_catalog.pg_get_expr(d.adbin, d.adrelid)\n",
      "                FROM pg_catalog.pg_attrdef d\n",
      "                WHERE d.adrelid = a.attrelid AND d.adnum = a.attnum\n",
      "                AND a.atthasdef\n",
      "              ) AS DEFAULT,\n",
      "              a.attnotnull,\n",
      "              a.attrelid as table_oid,\n",
      "              pgd.description as comment,\n",
      "              a.attgenerated as generated,\n",
      "                              (SELECT json_build_object(\n",
      "                    'always', a.attidentity = 'a',\n",
      "                    'start', s.seqstart,\n",
      "                    'increment', s.seqincrement,\n",
      "                    'minvalue', s.seqmin,\n",
      "                    'maxvalue', s.seqmax,\n",
      "                    'cache', s.seqcache,\n",
      "                    'cycle', s.seqcycle)\n",
      "                FROM pg_catalog.pg_sequence s\n",
      "                JOIN pg_catalog.pg_class c on s.seqrelid = c.\"oid\"\n",
      "                WHERE c.relkind = 'S'\n",
      "                AND a.attidentity != ''\n",
      "                AND s.seqrelid = pg_catalog.pg_get_serial_sequence(\n",
      "                    a.attrelid::regclass::text, a.attname\n",
      "                )::regclass::oid\n",
      "                ) as identity_options                \n",
      "            FROM pg_catalog.pg_attribute a\n",
      "            LEFT JOIN pg_catalog.pg_description pgd ON (\n",
      "                pgd.objoid = a.attrelid AND pgd.objsubid = a.attnum)\n",
      "            WHERE a.attrelid = %(table_oid)s\n",
      "            AND a.attnum > 0 AND NOT a.attisdropped\n",
      "            ORDER BY a.attnum\n",
      "        \n",
      "2023-01-28 13:03:23,189 INFO sqlalchemy.engine.Engine [generated in 0.00154s] {'table_oid': 16461}\n",
      "2023-01-28 13:03:23,396 INFO sqlalchemy.engine.Engine \n",
      "            SELECT t.typname as \"name\",\n",
      "               pg_catalog.format_type(t.typbasetype, t.typtypmod) as \"attype\",\n",
      "               not t.typnotnull as \"nullable\",\n",
      "               t.typdefault as \"default\",\n",
      "               pg_catalog.pg_type_is_visible(t.oid) as \"visible\",\n",
      "               n.nspname as \"schema\"\n",
      "            FROM pg_catalog.pg_type t\n",
      "               LEFT JOIN pg_catalog.pg_namespace n ON n.oid = t.typnamespace\n",
      "            WHERE t.typtype = 'd'\n",
      "        \n",
      "2023-01-28 13:03:23,397 INFO sqlalchemy.engine.Engine [generated in 0.00151s] {}\n",
      "2023-01-28 13:03:23,602 INFO sqlalchemy.engine.Engine \n",
      "            SELECT t.typname as \"name\",\n",
      "               -- no enum defaults in 8.4 at least\n",
      "               -- t.typdefault as \"default\",\n",
      "               pg_catalog.pg_type_is_visible(t.oid) as \"visible\",\n",
      "               n.nspname as \"schema\",\n",
      "               e.enumlabel as \"label\"\n",
      "            FROM pg_catalog.pg_type t\n",
      "                 LEFT JOIN pg_catalog.pg_namespace n ON n.oid = t.typnamespace\n",
      "                 LEFT JOIN pg_catalog.pg_enum e ON t.oid = e.enumtypid\n",
      "            WHERE t.typtype = 'e'\n",
      "        ORDER BY \"schema\", \"name\", e.oid\n",
      "2023-01-28 13:03:23,603 INFO sqlalchemy.engine.Engine [generated in 0.00148s] {}\n",
      "2023-01-28 13:03:23,817 INFO sqlalchemy.engine.Engine \n",
      "                SELECT a.attname\n",
      "                FROM pg_attribute a JOIN (\n",
      "                    SELECT unnest(ix.indkey) attnum,\n",
      "                           generate_subscripts(ix.indkey, 1) ord\n",
      "                    FROM pg_index ix\n",
      "                    WHERE ix.indrelid = %(table_oid)s AND ix.indisprimary\n",
      "                    ) k ON a.attnum=k.attnum\n",
      "                WHERE a.attrelid = %(table_oid)s\n",
      "                ORDER BY k.ord\n",
      "            \n",
      "2023-01-28 13:03:23,817 INFO sqlalchemy.engine.Engine [generated in 0.00103s] {'table_oid': 16461}\n",
      "2023-01-28 13:03:24,021 INFO sqlalchemy.engine.Engine \n",
      "        SELECT conname\n",
      "           FROM  pg_catalog.pg_constraint r\n",
      "           WHERE r.conrelid = %(table_oid)s AND r.contype = 'p'\n",
      "           ORDER BY 1\n",
      "        \n",
      "2023-01-28 13:03:24,022 INFO sqlalchemy.engine.Engine [generated in 0.00159s] {'table_oid': 16461}\n",
      "2023-01-28 13:03:24,228 INFO sqlalchemy.engine.Engine \n",
      "          SELECT r.conname,\n",
      "                pg_catalog.pg_get_constraintdef(r.oid, true) as condef,\n",
      "                n.nspname as conschema\n",
      "          FROM  pg_catalog.pg_constraint r,\n",
      "                pg_namespace n,\n",
      "                pg_class c\n",
      "\n",
      "          WHERE r.conrelid = %(table)s AND\n",
      "                r.contype = 'f' AND\n",
      "                c.oid = confrelid AND\n",
      "                n.oid = c.relnamespace\n",
      "          ORDER BY 1\n",
      "        \n",
      "2023-01-28 13:03:24,230 INFO sqlalchemy.engine.Engine [generated in 0.00146s] {'table': 16461}\n",
      "2023-01-28 13:03:24,434 INFO sqlalchemy.engine.Engine \n",
      "              SELECT\n",
      "                  i.relname as relname,\n",
      "                  ix.indisunique, ix.indexprs,\n",
      "                  a.attname, a.attnum, c.conrelid, ix.indkey::varchar,\n",
      "                  ix.indoption::varchar, i.reloptions, am.amname,\n",
      "                  pg_get_expr(ix.indpred, ix.indrelid),\n",
      "                  ix.indnkeyatts as indnkeyatts\n",
      "              FROM\n",
      "                  pg_class t\n",
      "                        join pg_index ix on t.oid = ix.indrelid\n",
      "                        join pg_class i on i.oid = ix.indexrelid\n",
      "                        left outer join\n",
      "                            pg_attribute a\n",
      "                            on t.oid = a.attrelid and a.attnum = ANY(ix.indkey)\n",
      "                        left outer join\n",
      "                            pg_constraint c\n",
      "                            on (ix.indrelid = c.conrelid and\n",
      "                                ix.indexrelid = c.conindid and\n",
      "                                c.contype in ('p', 'u', 'x'))\n",
      "                        left outer join\n",
      "                            pg_am am\n",
      "                            on i.relam = am.oid\n",
      "              WHERE\n",
      "                  t.relkind IN ('r', 'v', 'f', 'm', 'p')\n",
      "                  and t.oid = %(table_oid)s\n",
      "                  and ix.indisprimary = 'f'\n",
      "              ORDER BY\n",
      "                  t.relname,\n",
      "                  i.relname\n",
      "            \n",
      "2023-01-28 13:03:24,436 INFO sqlalchemy.engine.Engine [generated in 0.00152s] {'table_oid': 16461}\n",
      "2023-01-28 13:03:24,661 INFO sqlalchemy.engine.Engine \n",
      "            SELECT\n",
      "                cons.conname as name,\n",
      "                cons.conkey as key,\n",
      "                a.attnum as col_num,\n",
      "                a.attname as col_name\n",
      "            FROM\n",
      "                pg_catalog.pg_constraint cons\n",
      "                join pg_attribute a\n",
      "                  on cons.conrelid = a.attrelid AND\n",
      "                    a.attnum = ANY(cons.conkey)\n",
      "            WHERE\n",
      "                cons.conrelid = %(table_oid)s AND\n",
      "                cons.contype = 'u'\n",
      "        \n",
      "2023-01-28 13:03:24,662 INFO sqlalchemy.engine.Engine [generated in 0.00149s] {'table_oid': 16461}\n",
      "2023-01-28 13:03:24,865 INFO sqlalchemy.engine.Engine \n",
      "            SELECT\n",
      "                cons.conname as name,\n",
      "                pg_get_constraintdef(cons.oid) as src\n",
      "            FROM\n",
      "                pg_catalog.pg_constraint cons\n",
      "            WHERE\n",
      "                cons.conrelid = %(table_oid)s AND\n",
      "                cons.contype = 'c'\n",
      "        \n"
     ]
    },
    {
     "name": "stdout",
     "output_type": "stream",
     "text": [
      "2023-01-28 13:03:24,866 INFO sqlalchemy.engine.Engine [generated in 0.00150s] {'table_oid': 16461}\n",
      "2023-01-28 13:03:25,069 INFO sqlalchemy.engine.Engine \n",
      "            SELECT\n",
      "                pgd.description as table_comment\n",
      "            FROM\n",
      "                pg_catalog.pg_description pgd\n",
      "            WHERE\n",
      "                pgd.objsubid = 0 AND\n",
      "                pgd.objoid = %(table_oid)s\n",
      "        \n",
      "2023-01-28 13:03:25,071 INFO sqlalchemy.engine.Engine [generated in 0.00153s] {'table_oid': 16461}\n",
      "2023-01-28 13:03:25,487 INFO sqlalchemy.engine.Engine SELECT industry.index, industry.\"公司簡稱\", industry.\"TSE新產業名\", industry.\"TEJ子產業名\", industry.\"Unnamed: 3\", industry.\"TSE新產業名.1\", industry.\"TEJ子產業名.1\", industry.\"Unnamed: 6\", industry.\"公司簡稱.1\", industry.\"TSE新產業名.2\", industry.\"TEJ子產業名.2\", industry.\"Unnamed: 10\", industry.\"Unnamed: 11\", industry.\"單月營收(千元)\", industry.\"單月營收(千元).1\", industry.\"單月營收(千元).2\", industry.\"單月營收(千元).3\", industry.\"單月營收(千元).4\", industry.\"單月營收(千元).5\", industry.\"單月營收(千元).6\", industry.\"單月營收(千元).7\", industry.\"單月營收(千元).8\", industry.\"單月營收(千元).9\", industry.\"單月營收(千元).10\", industry.\"單月營收(千元).11\", industry.\"Unnamed: 24\", industry.\"Unnamed: 25\", industry.\"單月營收(千元).12\", industry.\"單月營收(千元).13\", industry.\"單月營收(千元).14\", industry.\"單月營收(千元).15\", industry.\"單月營收(千元).16\", industry.\"單月營收(千元).17\", industry.\"單月營收(千元).18\", industry.\"單月營收(千元).19\", industry.\"單月營收(千元).20\", industry.\"單月營收(千元).21\", industry.\"單月營收(千元).22\", industry.\"單月營收(千元).23\", industry.\"Unnamed: 38\", industry.\"Unnamed: 39\", industry.\"單月營收(千元).24\", industry.\"單月營收(千元).25\", industry.\"單月營收(千元).26\", industry.\"單月營收(千元).27\", industry.\"單月營收(千元).28\", industry.\"單月營收(千元).29\", industry.\"單月營收(千元).30\", industry.\"單月營收(千元).31\", industry.\"單月營收(千元).32\", industry.\"單月營收(千元).33\", industry.\"單月營收(千元).34\", industry.\"單月營收(千元).35\", industry.\"Unnamed: 52\", industry.\"Unnamed: 53\", industry.\"單月營收(千元).36\", industry.\"單月營收(千元).37\", industry.\"單月營收(千元).38\", industry.\"單月營收(千元).39\", industry.\"單月營收(千元).40\", industry.\"單月營收(千元).41\", industry.\"單月營收(千元).42\", industry.\"單月營收(千元).43\", industry.\"單月營收(千元).44\", industry.\"單月營收(千元).45\", industry.\"單月營收(千元).46\", industry.\"單月營收(千元).47\", industry.\"Unnamed: 66\", industry.\"Unnamed: 67\", industry.\"去年單月營收(千元)\", industry.\"去年單月營收(千元).1\", industry.\"去年單月營收(千元).2\", industry.\"去年單月營收(千元).3\", industry.\"去年單月營收(千元).4\", industry.\"去年單月營收(千元).5\", industry.\"去年單月營收(千元).6\", industry.\"去年單月營收(千元).7\", industry.\"去年單月營收(千元).8\", industry.\"去年單月營收(千元).9\", industry.\"去年單月營收(千元).10\", industry.\"去年單月營收(千元).11\" \n",
      "FROM industry\n",
      "2023-01-28 13:03:25,488 INFO sqlalchemy.engine.Engine [generated in 0.00108s] {}\n"
     ]
    }
   ],
   "source": [
    "\"\"\"\n",
    "callback input & output detail \n",
    "\"\"\"\n",
    "revenue = pd.read_sql('industry', engine)\n",
    "new_industry_name = revenue['TSE新產業名.1'].dropna()\n",
    "minor_industry_name = revenue['TEJ子產業名.1'].dropna()\n",
    "dropdown1 = new_industry_name[2]\n",
    "dropdown2 = minor_industry_name[1]\n",
    "st_input = '2330'\n",
    "year = [2018, 2023]"
   ]
  },
  {
   "cell_type": "code",
   "execution_count": 38,
   "id": "b86b256d",
   "metadata": {
    "scrolled": true
   },
   "outputs": [
    {
     "name": "stdout",
     "output_type": "stream",
     "text": [
      "2023-01-28 13:23:46,255 INFO sqlalchemy.engine.Engine select relname from pg_class c join pg_namespace n on n.oid=c.relnamespace where pg_catalog.pg_table_is_visible(c.oid) and relname=%(name)s\n",
      "2023-01-28 13:23:46,256 INFO sqlalchemy.engine.Engine [cached since 1224s ago] {'name': \"\\n        select st_code, st_name, rev_period, declaration_date, rev\\n        from tej_revenue \\n        where new_industry_name = 'M1100 水泥工業' and minor_industry_name = 'M11A 水泥製造';\\n        \"}\n",
      "2023-01-28 13:23:46,865 INFO sqlalchemy.engine.Engine \n",
      "        select st_code, st_name, rev_period, declaration_date, rev\n",
      "        from tej_revenue \n",
      "        where new_industry_name = 'M1100 水泥工業' and minor_industry_name = 'M11A 水泥製造';\n",
      "        \n",
      "2023-01-28 13:23:46,866 INFO sqlalchemy.engine.Engine [raw sql] {}\n"
     ]
    }
   ],
   "source": [
    "dropdown1 = new_industry_name[1]\n",
    "dropdown2 = minor_industry_name[1] #minor_industry_name[5] #None\n",
    "st_input = ''\n",
    "\n",
    "\n",
    "if st_input is None or st_input == '':\n",
    "    try:\n",
    "        if dropdown1 is not None and dropdown2 is None or dropdown2 == '':\n",
    "            mask = (\"new_industry_name = '\" + dropdown1 + \"'\")\n",
    "            \n",
    "        elif dropdown1 is None and dropdown2 is not None or dropdown1 == '':\n",
    "            mask = (\"minor_industry_name = '\" + dropdown2 + \"'\")\n",
    "            \n",
    "        elif dropdown1 is not None and dropdown2 is not None:\n",
    "            mask = (\"new_industry_name = '\" + dropdown1 + \"' and \" + \"minor_industry_name = '\" + dropdown2 + \"'\")\n",
    "            \n",
    "        # 從 db 撈資料\n",
    "        st_search = \"\"\"\n",
    "        select st_code, st_name, rev_period, declaration_date, rev\n",
    "        from tej_revenue \n",
    "        where {};\n",
    "        \"\"\".format(mask)\n",
    "        \n",
    "        data = pd.read_sql(st_search, engine)\n",
    "        data = data.groupby(by='st_code', as_index=False).apply(get_st_mom_yoy).reset_index(drop=True, inplace=False)\n",
    "\n",
    "        # 產業最新營收公布情形\n",
    "        latest = get_latest(data)\n",
    "        \n",
    "        # 產業總營收狀況\n",
    "        data = data.groupby(by='rev_period', as_index=False).agg({'rev':'sum'})\n",
    "        data = get_st_mom_yoy(data)\n",
    "        \n",
    "        try:\n",
    "            # 預測資料\n",
    "            predict = predict(data)\n",
    "        except TypeError:            \n",
    "            def predict(data):\n",
    "                data = data.groupby('Year', as_index=False).apply(get_ratio)\n",
    "                ratio = pd.DataFrame(data.groupby('month', as_index=False).apply(get_avg_ratio)).set_axis(['month', 'wt_avg_ratio'],axis=1)\n",
    "                predict = pd.merge(data, ratio, on='month', how='outer').sort_values('rev_period').reset_index(drop=True,inplace=False).tail(12)  # 僅向後預測一年\n",
    "                predict['predict_annul_rev'] = round(predict.rev / predict.ratio)\n",
    "                predict['predict_month_rev'] = round(round(predict['predict_annul_rev'].mean(), 2) * predict.wt_avg_ratio)\n",
    "                predict['Year'] = (predict.Year.astype(int) + 1).astype(str)\n",
    "                predict['rev'] = predict['predict_month_rev']\n",
    "                predict = pd.concat([data.sort_values('rev_period'), predict], axis=0).sort_values(['Year', 'month'])\n",
    "                predict['mom'] = predict.rev.diff() / predict.rev.shift(1)\n",
    "                predict = predict.groupby('month', as_index=False).apply(get_yoy).sort_values(['Year', 'month'])\n",
    "                return predict.tail(13)\n",
    "            # 預測資料\n",
    "            predict = predict(data)\n",
    "        \n",
    "        # 繪圖\n",
    "        REV = get_revpic(data, predict, dropdown1 + ' ' + ' 各年度月營收')\n",
    "        MOM = get_mompic(data, predict, dropdown1 + ' ' + ' 各年度月營收')\n",
    "        YOY = get_yoypic(data, predict, dropdown1 + ' ' + ' 各年度月營收')\n",
    "\n",
    "    except KeyError:\n",
    "        print('跳警示通知⚠️：該分類沒有相關個股，請重新選擇，並reset')\n",
    "        \n",
    "        \n",
    "else:\n",
    "    try:\n",
    "        if (st_input.isdigit() == True):\n",
    "            industry = stock_info[stock_info.st_code == st_input].new_industry_name.values[0]\n",
    "            mask = (\"new_industry_name = '\" + industry + \"'\")\n",
    "            st_mask = 'st_code'\n",
    "\n",
    "        else:\n",
    "            industry = stock_info[stock_info.st_name == st_input].new_industry_name.values[0]\n",
    "            mask = (\"new_industry_name = '\" + industry + \"'\")\n",
    "            st_mask = 'st_name'\n",
    "\n",
    "        # 從 db 撈資料\n",
    "        st_search = \"\"\"\n",
    "        select st_code, st_name, rev_period, declaration_date, rev\n",
    "        from tej_revenue \n",
    "        where {}; \n",
    "        \"\"\".format(mask)\n",
    "        data = pd.read_sql(st_search, engine)\n",
    "        print('- - get data successfully! - -')\n",
    "        data = data.groupby(by='st_code', as_index=False).apply(get_st_mom_yoy).reset_index(drop=True, inplace=False)\n",
    "\n",
    "        # 產業最新營收公布情形\n",
    "        latest = get_latest(data)\n",
    "        \n",
    "        # 轉換成個股總營收\n",
    "        data = data[data[st_mask] == st_input]\n",
    "        data = get_st_mom_yoy(data)\n",
    "        \n",
    "        try:\n",
    "            # 預測資料\n",
    "            predict = predict(data)\n",
    "        except TypeError:            \n",
    "            def predict(data):\n",
    "                data = data.groupby('Year', as_index=False).apply(get_ratio)\n",
    "                ratio = pd.DataFrame(data.groupby('month', as_index=False).apply(get_avg_ratio)).set_axis(['month', 'wt_avg_ratio'],axis=1)\n",
    "                predict = pd.merge(data, ratio, on='month', how='outer').sort_values('rev_period').reset_index(drop=True,inplace=False).tail(12)  # 僅向後預測一年\n",
    "                predict['predict_annul_rev'] = round(predict.rev / predict.ratio)\n",
    "                predict['predict_month_rev'] = round(round(predict['predict_annul_rev'].mean(), 2) * predict.wt_avg_ratio)\n",
    "                predict['Year'] = (predict.Year.astype(int) + 1).astype(str)\n",
    "                predict['rev'] = predict['predict_month_rev']\n",
    "                predict = pd.concat([data.sort_values('rev_period'), predict], axis=0).sort_values(['Year', 'month'])\n",
    "                predict['mom'] = predict.rev.diff() / predict.rev.shift(1)\n",
    "                predict = predict.groupby('month', as_index=False).apply(get_yoy).sort_values(['Year', 'month'])\n",
    "                return predict.tail(13)\n",
    "            # 預測資料\n",
    "            predict = predict(data)\n",
    "\n",
    "        # 繪圖\n",
    "        title = data.st_code[0] + ' ' + data.st_name[0]\n",
    "        REV = get_revpic(data, predict, (title + ' 各年度月營收'))\n",
    "        MOM = get_mompic(data, predict, (title + ' 各年度月營收'))\n",
    "        YOY = get_yoypic(data, predict, (title + ' 各年度月營收'))   \n",
    "        \n",
    "    except IndexError:\n",
    "        print('跳警示通知⚠️：查無該股票營收，請重新輸入，並reset')"
   ]
  },
  {
   "cell_type": "code",
   "execution_count": 39,
   "id": "11481f2d",
   "metadata": {},
   "outputs": [
    {
     "data": {
      "application/vnd.plotly.v1+json": {
       "config": {
        "plotlyServerURL": "https://plot.ly"
       },
       "data": [
        {
         "name": "2013",
         "opacity": 0.7,
         "type": "bar",
         "x": [
          "01",
          "02",
          "03",
          "04",
          "05",
          "06",
          "07",
          "08",
          "09",
          "10",
          "11",
          "12"
         ],
         "y": [
          16972856,
          9099023,
          16628616,
          17528976,
          17444029,
          17009293,
          17480460,
          17211858,
          17620878,
          19260414,
          20267728,
          20840985
         ]
        },
        {
         "name": "2014",
         "opacity": 0.7,
         "type": "bar",
         "x": [
          "01",
          "02",
          "03",
          "04",
          "05",
          "06",
          "07",
          "08",
          "09",
          "10",
          "11",
          "12"
         ],
         "y": [
          17930828,
          10339592,
          20025052,
          20312201,
          20096893,
          18306415,
          18646873,
          18144334,
          18068218,
          19269990,
          17778146,
          19105313
         ]
        },
        {
         "name": "2015",
         "opacity": 0.7,
         "type": "bar",
         "x": [
          "01",
          "02",
          "03",
          "04",
          "05",
          "06",
          "07",
          "08",
          "09",
          "10",
          "11",
          "12"
         ],
         "y": [
          17748399,
          9272095,
          14543073,
          15930996,
          15326305,
          15552390,
          15532948,
          14299008,
          14107860,
          15737799,
          15251190,
          16100562
         ]
        },
        {
         "name": "2016",
         "opacity": 0.7,
         "type": "bar",
         "x": [
          "01",
          "02",
          "03",
          "04",
          "05",
          "06",
          "07",
          "08",
          "09",
          "10",
          "11",
          "12"
         ],
         "y": [
          13039654,
          7155371,
          14433039,
          14383103,
          14893160,
          14476318,
          13987557,
          14002975,
          13501045,
          15328704,
          15881114,
          17291802
         ]
        },
        {
         "name": "2017",
         "opacity": 0.7,
         "type": "bar",
         "x": [
          "01",
          "02",
          "03",
          "04",
          "05",
          "06",
          "07",
          "08",
          "09",
          "10",
          "11",
          "12"
         ],
         "y": [
          11644158,
          10016844,
          15953849,
          14968856,
          15682473,
          14423068,
          14599291,
          13864495,
          15479426,
          15538838,
          18304045,
          19734864
         ]
        },
        {
         "name": "2018",
         "opacity": 0.7,
         "type": "bar",
         "x": [
          "01",
          "02",
          "03",
          "04",
          "05",
          "06",
          "07",
          "08",
          "09",
          "10",
          "11",
          "12"
         ],
         "y": [
          17969058,
          9091598,
          17636323,
          19711257,
          20912858,
          19791166,
          19579855,
          19369227,
          19796880,
          21254538,
          20970915,
          19845281
         ]
        },
        {
         "name": "2019",
         "opacity": 0.7,
         "type": "bar",
         "x": [
          "01",
          "02",
          "03",
          "04",
          "05",
          "06",
          "07",
          "08",
          "09",
          "10",
          "11",
          "12"
         ],
         "y": [
          19164929,
          9031099,
          20802415,
          20806183,
          21145402,
          18932272,
          19885768,
          19121906,
          19214389,
          20038762,
          21727505,
          22300871
         ]
        },
        {
         "name": "2020",
         "opacity": 0.7,
         "type": "bar",
         "x": [
          "01",
          "02",
          "03",
          "04",
          "05",
          "06",
          "07",
          "08",
          "09",
          "10",
          "11",
          "12"
         ],
         "y": [
          14136827,
          9122019,
          16262956,
          18931118,
          19213429,
          18436089,
          18792530,
          18178900,
          18815672,
          19703782,
          20781676,
          21411429
         ]
        },
        {
         "name": "2021",
         "opacity": 0.7,
         "type": "bar",
         "x": [
          "01",
          "02",
          "03",
          "04",
          "05",
          "06",
          "07",
          "08",
          "09",
          "10",
          "11",
          "12"
         ],
         "y": [
          18033987,
          9058675,
          18943976,
          19467245,
          19377987,
          17032017,
          16446563,
          17705599,
          18945697,
          20860429,
          20738870,
          22248155
         ]
        },
        {
         "name": "2022",
         "opacity": 0.7,
         "type": "bar",
         "x": [
          "01",
          "02",
          "03",
          "04",
          "05",
          "06",
          "07",
          "08",
          "09",
          "10",
          "11",
          "12"
         ],
         "y": [
          16747415,
          10528814,
          19959347,
          18805611,
          17510737,
          18719721,
          19744899,
          19592228,
          19340385,
          20939529,
          20085904,
          22980561
         ]
        },
        {
         "marker": {
          "color": "black",
          "line": {
           "color": "black"
          },
          "pattern": {
           "fillmode": "replace",
           "shape": "\\"
          }
         },
         "name": "預估值",
         "opacity": 1,
         "type": "bar",
         "x": [
          "12",
          "01",
          "02",
          "03",
          "04",
          "05",
          "06",
          "07",
          "08",
          "09",
          "10",
          "11",
          "12"
         ],
         "y": [
          null,
          17119487,
          9605809,
          18761698,
          19841508,
          20111460,
          18334273,
          18244289,
          18491746,
          19504067,
          20853830,
          21551207,
          22541033
         ]
        }
       ],
       "layout": {
        "barmode": "group",
        "hovermode": "x unified",
        "legend": {
         "title": {
          "text": "年份"
         }
        },
        "template": {
         "data": {
          "bar": [
           {
            "error_x": {
             "color": "#2a3f5f"
            },
            "error_y": {
             "color": "#2a3f5f"
            },
            "marker": {
             "line": {
              "color": "#E5ECF6",
              "width": 0.5
             },
             "pattern": {
              "fillmode": "overlay",
              "size": 10,
              "solidity": 0.2
             }
            },
            "type": "bar"
           }
          ],
          "barpolar": [
           {
            "marker": {
             "line": {
              "color": "#E5ECF6",
              "width": 0.5
             },
             "pattern": {
              "fillmode": "overlay",
              "size": 10,
              "solidity": 0.2
             }
            },
            "type": "barpolar"
           }
          ],
          "carpet": [
           {
            "aaxis": {
             "endlinecolor": "#2a3f5f",
             "gridcolor": "white",
             "linecolor": "white",
             "minorgridcolor": "white",
             "startlinecolor": "#2a3f5f"
            },
            "baxis": {
             "endlinecolor": "#2a3f5f",
             "gridcolor": "white",
             "linecolor": "white",
             "minorgridcolor": "white",
             "startlinecolor": "#2a3f5f"
            },
            "type": "carpet"
           }
          ],
          "choropleth": [
           {
            "colorbar": {
             "outlinewidth": 0,
             "ticks": ""
            },
            "type": "choropleth"
           }
          ],
          "contour": [
           {
            "colorbar": {
             "outlinewidth": 0,
             "ticks": ""
            },
            "colorscale": [
             [
              0,
              "#0d0887"
             ],
             [
              0.1111111111111111,
              "#46039f"
             ],
             [
              0.2222222222222222,
              "#7201a8"
             ],
             [
              0.3333333333333333,
              "#9c179e"
             ],
             [
              0.4444444444444444,
              "#bd3786"
             ],
             [
              0.5555555555555556,
              "#d8576b"
             ],
             [
              0.6666666666666666,
              "#ed7953"
             ],
             [
              0.7777777777777778,
              "#fb9f3a"
             ],
             [
              0.8888888888888888,
              "#fdca26"
             ],
             [
              1,
              "#f0f921"
             ]
            ],
            "type": "contour"
           }
          ],
          "contourcarpet": [
           {
            "colorbar": {
             "outlinewidth": 0,
             "ticks": ""
            },
            "type": "contourcarpet"
           }
          ],
          "heatmap": [
           {
            "colorbar": {
             "outlinewidth": 0,
             "ticks": ""
            },
            "colorscale": [
             [
              0,
              "#0d0887"
             ],
             [
              0.1111111111111111,
              "#46039f"
             ],
             [
              0.2222222222222222,
              "#7201a8"
             ],
             [
              0.3333333333333333,
              "#9c179e"
             ],
             [
              0.4444444444444444,
              "#bd3786"
             ],
             [
              0.5555555555555556,
              "#d8576b"
             ],
             [
              0.6666666666666666,
              "#ed7953"
             ],
             [
              0.7777777777777778,
              "#fb9f3a"
             ],
             [
              0.8888888888888888,
              "#fdca26"
             ],
             [
              1,
              "#f0f921"
             ]
            ],
            "type": "heatmap"
           }
          ],
          "heatmapgl": [
           {
            "colorbar": {
             "outlinewidth": 0,
             "ticks": ""
            },
            "colorscale": [
             [
              0,
              "#0d0887"
             ],
             [
              0.1111111111111111,
              "#46039f"
             ],
             [
              0.2222222222222222,
              "#7201a8"
             ],
             [
              0.3333333333333333,
              "#9c179e"
             ],
             [
              0.4444444444444444,
              "#bd3786"
             ],
             [
              0.5555555555555556,
              "#d8576b"
             ],
             [
              0.6666666666666666,
              "#ed7953"
             ],
             [
              0.7777777777777778,
              "#fb9f3a"
             ],
             [
              0.8888888888888888,
              "#fdca26"
             ],
             [
              1,
              "#f0f921"
             ]
            ],
            "type": "heatmapgl"
           }
          ],
          "histogram": [
           {
            "marker": {
             "pattern": {
              "fillmode": "overlay",
              "size": 10,
              "solidity": 0.2
             }
            },
            "type": "histogram"
           }
          ],
          "histogram2d": [
           {
            "colorbar": {
             "outlinewidth": 0,
             "ticks": ""
            },
            "colorscale": [
             [
              0,
              "#0d0887"
             ],
             [
              0.1111111111111111,
              "#46039f"
             ],
             [
              0.2222222222222222,
              "#7201a8"
             ],
             [
              0.3333333333333333,
              "#9c179e"
             ],
             [
              0.4444444444444444,
              "#bd3786"
             ],
             [
              0.5555555555555556,
              "#d8576b"
             ],
             [
              0.6666666666666666,
              "#ed7953"
             ],
             [
              0.7777777777777778,
              "#fb9f3a"
             ],
             [
              0.8888888888888888,
              "#fdca26"
             ],
             [
              1,
              "#f0f921"
             ]
            ],
            "type": "histogram2d"
           }
          ],
          "histogram2dcontour": [
           {
            "colorbar": {
             "outlinewidth": 0,
             "ticks": ""
            },
            "colorscale": [
             [
              0,
              "#0d0887"
             ],
             [
              0.1111111111111111,
              "#46039f"
             ],
             [
              0.2222222222222222,
              "#7201a8"
             ],
             [
              0.3333333333333333,
              "#9c179e"
             ],
             [
              0.4444444444444444,
              "#bd3786"
             ],
             [
              0.5555555555555556,
              "#d8576b"
             ],
             [
              0.6666666666666666,
              "#ed7953"
             ],
             [
              0.7777777777777778,
              "#fb9f3a"
             ],
             [
              0.8888888888888888,
              "#fdca26"
             ],
             [
              1,
              "#f0f921"
             ]
            ],
            "type": "histogram2dcontour"
           }
          ],
          "mesh3d": [
           {
            "colorbar": {
             "outlinewidth": 0,
             "ticks": ""
            },
            "type": "mesh3d"
           }
          ],
          "parcoords": [
           {
            "line": {
             "colorbar": {
              "outlinewidth": 0,
              "ticks": ""
             }
            },
            "type": "parcoords"
           }
          ],
          "pie": [
           {
            "automargin": true,
            "type": "pie"
           }
          ],
          "scatter": [
           {
            "marker": {
             "colorbar": {
              "outlinewidth": 0,
              "ticks": ""
             }
            },
            "type": "scatter"
           }
          ],
          "scatter3d": [
           {
            "line": {
             "colorbar": {
              "outlinewidth": 0,
              "ticks": ""
             }
            },
            "marker": {
             "colorbar": {
              "outlinewidth": 0,
              "ticks": ""
             }
            },
            "type": "scatter3d"
           }
          ],
          "scattercarpet": [
           {
            "marker": {
             "colorbar": {
              "outlinewidth": 0,
              "ticks": ""
             }
            },
            "type": "scattercarpet"
           }
          ],
          "scattergeo": [
           {
            "marker": {
             "colorbar": {
              "outlinewidth": 0,
              "ticks": ""
             }
            },
            "type": "scattergeo"
           }
          ],
          "scattergl": [
           {
            "marker": {
             "colorbar": {
              "outlinewidth": 0,
              "ticks": ""
             }
            },
            "type": "scattergl"
           }
          ],
          "scattermapbox": [
           {
            "marker": {
             "colorbar": {
              "outlinewidth": 0,
              "ticks": ""
             }
            },
            "type": "scattermapbox"
           }
          ],
          "scatterpolar": [
           {
            "marker": {
             "colorbar": {
              "outlinewidth": 0,
              "ticks": ""
             }
            },
            "type": "scatterpolar"
           }
          ],
          "scatterpolargl": [
           {
            "marker": {
             "colorbar": {
              "outlinewidth": 0,
              "ticks": ""
             }
            },
            "type": "scatterpolargl"
           }
          ],
          "scatterternary": [
           {
            "marker": {
             "colorbar": {
              "outlinewidth": 0,
              "ticks": ""
             }
            },
            "type": "scatterternary"
           }
          ],
          "surface": [
           {
            "colorbar": {
             "outlinewidth": 0,
             "ticks": ""
            },
            "colorscale": [
             [
              0,
              "#0d0887"
             ],
             [
              0.1111111111111111,
              "#46039f"
             ],
             [
              0.2222222222222222,
              "#7201a8"
             ],
             [
              0.3333333333333333,
              "#9c179e"
             ],
             [
              0.4444444444444444,
              "#bd3786"
             ],
             [
              0.5555555555555556,
              "#d8576b"
             ],
             [
              0.6666666666666666,
              "#ed7953"
             ],
             [
              0.7777777777777778,
              "#fb9f3a"
             ],
             [
              0.8888888888888888,
              "#fdca26"
             ],
             [
              1,
              "#f0f921"
             ]
            ],
            "type": "surface"
           }
          ],
          "table": [
           {
            "cells": {
             "fill": {
              "color": "#EBF0F8"
             },
             "line": {
              "color": "white"
             }
            },
            "header": {
             "fill": {
              "color": "#C8D4E3"
             },
             "line": {
              "color": "white"
             }
            },
            "type": "table"
           }
          ]
         },
         "layout": {
          "annotationdefaults": {
           "arrowcolor": "#2a3f5f",
           "arrowhead": 0,
           "arrowwidth": 1
          },
          "autotypenumbers": "strict",
          "coloraxis": {
           "colorbar": {
            "outlinewidth": 0,
            "ticks": ""
           }
          },
          "colorscale": {
           "diverging": [
            [
             0,
             "#8e0152"
            ],
            [
             0.1,
             "#c51b7d"
            ],
            [
             0.2,
             "#de77ae"
            ],
            [
             0.3,
             "#f1b6da"
            ],
            [
             0.4,
             "#fde0ef"
            ],
            [
             0.5,
             "#f7f7f7"
            ],
            [
             0.6,
             "#e6f5d0"
            ],
            [
             0.7,
             "#b8e186"
            ],
            [
             0.8,
             "#7fbc41"
            ],
            [
             0.9,
             "#4d9221"
            ],
            [
             1,
             "#276419"
            ]
           ],
           "sequential": [
            [
             0,
             "#0d0887"
            ],
            [
             0.1111111111111111,
             "#46039f"
            ],
            [
             0.2222222222222222,
             "#7201a8"
            ],
            [
             0.3333333333333333,
             "#9c179e"
            ],
            [
             0.4444444444444444,
             "#bd3786"
            ],
            [
             0.5555555555555556,
             "#d8576b"
            ],
            [
             0.6666666666666666,
             "#ed7953"
            ],
            [
             0.7777777777777778,
             "#fb9f3a"
            ],
            [
             0.8888888888888888,
             "#fdca26"
            ],
            [
             1,
             "#f0f921"
            ]
           ],
           "sequentialminus": [
            [
             0,
             "#0d0887"
            ],
            [
             0.1111111111111111,
             "#46039f"
            ],
            [
             0.2222222222222222,
             "#7201a8"
            ],
            [
             0.3333333333333333,
             "#9c179e"
            ],
            [
             0.4444444444444444,
             "#bd3786"
            ],
            [
             0.5555555555555556,
             "#d8576b"
            ],
            [
             0.6666666666666666,
             "#ed7953"
            ],
            [
             0.7777777777777778,
             "#fb9f3a"
            ],
            [
             0.8888888888888888,
             "#fdca26"
            ],
            [
             1,
             "#f0f921"
            ]
           ]
          },
          "colorway": [
           "#636efa",
           "#EF553B",
           "#00cc96",
           "#ab63fa",
           "#FFA15A",
           "#19d3f3",
           "#FF6692",
           "#B6E880",
           "#FF97FF",
           "#FECB52"
          ],
          "font": {
           "color": "#2a3f5f"
          },
          "geo": {
           "bgcolor": "white",
           "lakecolor": "white",
           "landcolor": "#E5ECF6",
           "showlakes": true,
           "showland": true,
           "subunitcolor": "white"
          },
          "hoverlabel": {
           "align": "left"
          },
          "hovermode": "closest",
          "mapbox": {
           "style": "light"
          },
          "paper_bgcolor": "white",
          "plot_bgcolor": "#E5ECF6",
          "polar": {
           "angularaxis": {
            "gridcolor": "white",
            "linecolor": "white",
            "ticks": ""
           },
           "bgcolor": "#E5ECF6",
           "radialaxis": {
            "gridcolor": "white",
            "linecolor": "white",
            "ticks": ""
           }
          },
          "scene": {
           "xaxis": {
            "backgroundcolor": "#E5ECF6",
            "gridcolor": "white",
            "gridwidth": 2,
            "linecolor": "white",
            "showbackground": true,
            "ticks": "",
            "zerolinecolor": "white"
           },
           "yaxis": {
            "backgroundcolor": "#E5ECF6",
            "gridcolor": "white",
            "gridwidth": 2,
            "linecolor": "white",
            "showbackground": true,
            "ticks": "",
            "zerolinecolor": "white"
           },
           "zaxis": {
            "backgroundcolor": "#E5ECF6",
            "gridcolor": "white",
            "gridwidth": 2,
            "linecolor": "white",
            "showbackground": true,
            "ticks": "",
            "zerolinecolor": "white"
           }
          },
          "shapedefaults": {
           "line": {
            "color": "#2a3f5f"
           }
          },
          "ternary": {
           "aaxis": {
            "gridcolor": "white",
            "linecolor": "white",
            "ticks": ""
           },
           "baxis": {
            "gridcolor": "white",
            "linecolor": "white",
            "ticks": ""
           },
           "bgcolor": "#E5ECF6",
           "caxis": {
            "gridcolor": "white",
            "linecolor": "white",
            "ticks": ""
           }
          },
          "title": {
           "x": 0.05
          },
          "xaxis": {
           "automargin": true,
           "gridcolor": "white",
           "linecolor": "white",
           "ticks": "",
           "title": {
            "standoff": 15
           },
           "zerolinecolor": "white",
           "zerolinewidth": 2
          },
          "yaxis": {
           "automargin": true,
           "gridcolor": "white",
           "linecolor": "white",
           "ticks": "",
           "title": {
            "standoff": 15
           },
           "zerolinecolor": "white",
           "zerolinewidth": 2
          }
         }
        },
        "title": {
         "text": "M1100 水泥工業  各年度月營收"
        },
        "xaxis": {
         "title": {
          "text": "月份"
         }
        },
        "yaxis": {
         "title": {
          "text": "累計營收"
         }
        }
       }
      },
      "text/html": [
       "<div>                            <div id=\"4ea9e527-b25b-4010-8808-8ddb3ff483f3\" class=\"plotly-graph-div\" style=\"height:525px; width:100%;\"></div>            <script type=\"text/javascript\">                require([\"plotly\"], function(Plotly) {                    window.PLOTLYENV=window.PLOTLYENV || {};                                    if (document.getElementById(\"4ea9e527-b25b-4010-8808-8ddb3ff483f3\")) {                    Plotly.newPlot(                        \"4ea9e527-b25b-4010-8808-8ddb3ff483f3\",                        [{\"name\":\"2013\",\"opacity\":0.7,\"x\":[\"01\",\"02\",\"03\",\"04\",\"05\",\"06\",\"07\",\"08\",\"09\",\"10\",\"11\",\"12\"],\"y\":[16972856.0,9099023.0,16628616.0,17528976.0,17444029.0,17009293.0,17480460.0,17211858.0,17620878.0,19260414.0,20267728.0,20840985.0],\"type\":\"bar\"},{\"name\":\"2014\",\"opacity\":0.7,\"x\":[\"01\",\"02\",\"03\",\"04\",\"05\",\"06\",\"07\",\"08\",\"09\",\"10\",\"11\",\"12\"],\"y\":[17930828.0,10339592.0,20025052.0,20312201.0,20096893.0,18306415.0,18646873.0,18144334.0,18068218.0,19269990.0,17778146.0,19105313.0],\"type\":\"bar\"},{\"name\":\"2015\",\"opacity\":0.7,\"x\":[\"01\",\"02\",\"03\",\"04\",\"05\",\"06\",\"07\",\"08\",\"09\",\"10\",\"11\",\"12\"],\"y\":[17748399.0,9272095.0,14543073.0,15930996.0,15326305.0,15552390.0,15532948.0,14299008.0,14107860.0,15737799.0,15251190.0,16100562.0],\"type\":\"bar\"},{\"name\":\"2016\",\"opacity\":0.7,\"x\":[\"01\",\"02\",\"03\",\"04\",\"05\",\"06\",\"07\",\"08\",\"09\",\"10\",\"11\",\"12\"],\"y\":[13039654.0,7155371.0,14433039.0,14383103.0,14893160.0,14476318.0,13987557.0,14002975.0,13501045.0,15328704.0,15881114.0,17291802.0],\"type\":\"bar\"},{\"name\":\"2017\",\"opacity\":0.7,\"x\":[\"01\",\"02\",\"03\",\"04\",\"05\",\"06\",\"07\",\"08\",\"09\",\"10\",\"11\",\"12\"],\"y\":[11644158.0,10016844.0,15953849.0,14968856.0,15682473.0,14423068.0,14599291.0,13864495.0,15479426.0,15538838.0,18304045.0,19734864.0],\"type\":\"bar\"},{\"name\":\"2018\",\"opacity\":0.7,\"x\":[\"01\",\"02\",\"03\",\"04\",\"05\",\"06\",\"07\",\"08\",\"09\",\"10\",\"11\",\"12\"],\"y\":[17969058.0,9091598.0,17636323.0,19711257.0,20912858.0,19791166.0,19579855.0,19369227.0,19796880.0,21254538.0,20970915.0,19845281.0],\"type\":\"bar\"},{\"name\":\"2019\",\"opacity\":0.7,\"x\":[\"01\",\"02\",\"03\",\"04\",\"05\",\"06\",\"07\",\"08\",\"09\",\"10\",\"11\",\"12\"],\"y\":[19164929.0,9031099.0,20802415.0,20806183.0,21145402.0,18932272.0,19885768.0,19121906.0,19214389.0,20038762.0,21727505.0,22300871.0],\"type\":\"bar\"},{\"name\":\"2020\",\"opacity\":0.7,\"x\":[\"01\",\"02\",\"03\",\"04\",\"05\",\"06\",\"07\",\"08\",\"09\",\"10\",\"11\",\"12\"],\"y\":[14136827.0,9122019.0,16262956.0,18931118.0,19213429.0,18436089.0,18792530.0,18178900.0,18815672.0,19703782.0,20781676.0,21411429.0],\"type\":\"bar\"},{\"name\":\"2021\",\"opacity\":0.7,\"x\":[\"01\",\"02\",\"03\",\"04\",\"05\",\"06\",\"07\",\"08\",\"09\",\"10\",\"11\",\"12\"],\"y\":[18033987.0,9058675.0,18943976.0,19467245.0,19377987.0,17032017.0,16446563.0,17705599.0,18945697.0,20860429.0,20738870.0,22248155.0],\"type\":\"bar\"},{\"name\":\"2022\",\"opacity\":0.7,\"x\":[\"01\",\"02\",\"03\",\"04\",\"05\",\"06\",\"07\",\"08\",\"09\",\"10\",\"11\",\"12\"],\"y\":[16747415.0,10528814.0,19959347.0,18805611.0,17510737.0,18719721.0,19744899.0,19592228.0,19340385.0,20939529.0,20085904.0,22980561.0],\"type\":\"bar\"},{\"marker\":{\"color\":\"black\",\"line\":{\"color\":\"black\"},\"pattern\":{\"fillmode\":\"replace\",\"shape\":\"\\\\\"}},\"name\":\"\\u9810\\u4f30\\u503c\",\"opacity\":1,\"x\":[\"12\",\"01\",\"02\",\"03\",\"04\",\"05\",\"06\",\"07\",\"08\",\"09\",\"10\",\"11\",\"12\"],\"y\":[null,17119487.0,9605809.0,18761698.0,19841508.0,20111460.0,18334273.0,18244289.0,18491746.0,19504067.0,20853830.0,21551207.0,22541033.0],\"type\":\"bar\"}],                        {\"barmode\":\"group\",\"hovermode\":\"x unified\",\"legend\":{\"title\":{\"text\":\"\\u5e74\\u4efd\"}},\"title\":{\"text\":\"M1100 \\u6c34\\u6ce5\\u5de5\\u696d  \\u5404\\u5e74\\u5ea6\\u6708\\u71df\\u6536\"},\"xaxis\":{\"title\":{\"text\":\"\\u6708\\u4efd\"}},\"yaxis\":{\"title\":{\"text\":\"\\u7d2f\\u8a08\\u71df\\u6536\"}},\"template\":{\"data\":{\"bar\":[{\"error_x\":{\"color\":\"#2a3f5f\"},\"error_y\":{\"color\":\"#2a3f5f\"},\"marker\":{\"line\":{\"color\":\"#E5ECF6\",\"width\":0.5},\"pattern\":{\"fillmode\":\"overlay\",\"size\":10,\"solidity\":0.2}},\"type\":\"bar\"}],\"barpolar\":[{\"marker\":{\"line\":{\"color\":\"#E5ECF6\",\"width\":0.5},\"pattern\":{\"fillmode\":\"overlay\",\"size\":10,\"solidity\":0.2}},\"type\":\"barpolar\"}],\"carpet\":[{\"aaxis\":{\"endlinecolor\":\"#2a3f5f\",\"gridcolor\":\"white\",\"linecolor\":\"white\",\"minorgridcolor\":\"white\",\"startlinecolor\":\"#2a3f5f\"},\"baxis\":{\"endlinecolor\":\"#2a3f5f\",\"gridcolor\":\"white\",\"linecolor\":\"white\",\"minorgridcolor\":\"white\",\"startlinecolor\":\"#2a3f5f\"},\"type\":\"carpet\"}],\"choropleth\":[{\"colorbar\":{\"outlinewidth\":0,\"ticks\":\"\"},\"type\":\"choropleth\"}],\"contour\":[{\"colorbar\":{\"outlinewidth\":0,\"ticks\":\"\"},\"colorscale\":[[0.0,\"#0d0887\"],[0.1111111111111111,\"#46039f\"],[0.2222222222222222,\"#7201a8\"],[0.3333333333333333,\"#9c179e\"],[0.4444444444444444,\"#bd3786\"],[0.5555555555555556,\"#d8576b\"],[0.6666666666666666,\"#ed7953\"],[0.7777777777777778,\"#fb9f3a\"],[0.8888888888888888,\"#fdca26\"],[1.0,\"#f0f921\"]],\"type\":\"contour\"}],\"contourcarpet\":[{\"colorbar\":{\"outlinewidth\":0,\"ticks\":\"\"},\"type\":\"contourcarpet\"}],\"heatmap\":[{\"colorbar\":{\"outlinewidth\":0,\"ticks\":\"\"},\"colorscale\":[[0.0,\"#0d0887\"],[0.1111111111111111,\"#46039f\"],[0.2222222222222222,\"#7201a8\"],[0.3333333333333333,\"#9c179e\"],[0.4444444444444444,\"#bd3786\"],[0.5555555555555556,\"#d8576b\"],[0.6666666666666666,\"#ed7953\"],[0.7777777777777778,\"#fb9f3a\"],[0.8888888888888888,\"#fdca26\"],[1.0,\"#f0f921\"]],\"type\":\"heatmap\"}],\"heatmapgl\":[{\"colorbar\":{\"outlinewidth\":0,\"ticks\":\"\"},\"colorscale\":[[0.0,\"#0d0887\"],[0.1111111111111111,\"#46039f\"],[0.2222222222222222,\"#7201a8\"],[0.3333333333333333,\"#9c179e\"],[0.4444444444444444,\"#bd3786\"],[0.5555555555555556,\"#d8576b\"],[0.6666666666666666,\"#ed7953\"],[0.7777777777777778,\"#fb9f3a\"],[0.8888888888888888,\"#fdca26\"],[1.0,\"#f0f921\"]],\"type\":\"heatmapgl\"}],\"histogram\":[{\"marker\":{\"pattern\":{\"fillmode\":\"overlay\",\"size\":10,\"solidity\":0.2}},\"type\":\"histogram\"}],\"histogram2d\":[{\"colorbar\":{\"outlinewidth\":0,\"ticks\":\"\"},\"colorscale\":[[0.0,\"#0d0887\"],[0.1111111111111111,\"#46039f\"],[0.2222222222222222,\"#7201a8\"],[0.3333333333333333,\"#9c179e\"],[0.4444444444444444,\"#bd3786\"],[0.5555555555555556,\"#d8576b\"],[0.6666666666666666,\"#ed7953\"],[0.7777777777777778,\"#fb9f3a\"],[0.8888888888888888,\"#fdca26\"],[1.0,\"#f0f921\"]],\"type\":\"histogram2d\"}],\"histogram2dcontour\":[{\"colorbar\":{\"outlinewidth\":0,\"ticks\":\"\"},\"colorscale\":[[0.0,\"#0d0887\"],[0.1111111111111111,\"#46039f\"],[0.2222222222222222,\"#7201a8\"],[0.3333333333333333,\"#9c179e\"],[0.4444444444444444,\"#bd3786\"],[0.5555555555555556,\"#d8576b\"],[0.6666666666666666,\"#ed7953\"],[0.7777777777777778,\"#fb9f3a\"],[0.8888888888888888,\"#fdca26\"],[1.0,\"#f0f921\"]],\"type\":\"histogram2dcontour\"}],\"mesh3d\":[{\"colorbar\":{\"outlinewidth\":0,\"ticks\":\"\"},\"type\":\"mesh3d\"}],\"parcoords\":[{\"line\":{\"colorbar\":{\"outlinewidth\":0,\"ticks\":\"\"}},\"type\":\"parcoords\"}],\"pie\":[{\"automargin\":true,\"type\":\"pie\"}],\"scatter\":[{\"marker\":{\"colorbar\":{\"outlinewidth\":0,\"ticks\":\"\"}},\"type\":\"scatter\"}],\"scatter3d\":[{\"line\":{\"colorbar\":{\"outlinewidth\":0,\"ticks\":\"\"}},\"marker\":{\"colorbar\":{\"outlinewidth\":0,\"ticks\":\"\"}},\"type\":\"scatter3d\"}],\"scattercarpet\":[{\"marker\":{\"colorbar\":{\"outlinewidth\":0,\"ticks\":\"\"}},\"type\":\"scattercarpet\"}],\"scattergeo\":[{\"marker\":{\"colorbar\":{\"outlinewidth\":0,\"ticks\":\"\"}},\"type\":\"scattergeo\"}],\"scattergl\":[{\"marker\":{\"colorbar\":{\"outlinewidth\":0,\"ticks\":\"\"}},\"type\":\"scattergl\"}],\"scattermapbox\":[{\"marker\":{\"colorbar\":{\"outlinewidth\":0,\"ticks\":\"\"}},\"type\":\"scattermapbox\"}],\"scatterpolar\":[{\"marker\":{\"colorbar\":{\"outlinewidth\":0,\"ticks\":\"\"}},\"type\":\"scatterpolar\"}],\"scatterpolargl\":[{\"marker\":{\"colorbar\":{\"outlinewidth\":0,\"ticks\":\"\"}},\"type\":\"scatterpolargl\"}],\"scatterternary\":[{\"marker\":{\"colorbar\":{\"outlinewidth\":0,\"ticks\":\"\"}},\"type\":\"scatterternary\"}],\"surface\":[{\"colorbar\":{\"outlinewidth\":0,\"ticks\":\"\"},\"colorscale\":[[0.0,\"#0d0887\"],[0.1111111111111111,\"#46039f\"],[0.2222222222222222,\"#7201a8\"],[0.3333333333333333,\"#9c179e\"],[0.4444444444444444,\"#bd3786\"],[0.5555555555555556,\"#d8576b\"],[0.6666666666666666,\"#ed7953\"],[0.7777777777777778,\"#fb9f3a\"],[0.8888888888888888,\"#fdca26\"],[1.0,\"#f0f921\"]],\"type\":\"surface\"}],\"table\":[{\"cells\":{\"fill\":{\"color\":\"#EBF0F8\"},\"line\":{\"color\":\"white\"}},\"header\":{\"fill\":{\"color\":\"#C8D4E3\"},\"line\":{\"color\":\"white\"}},\"type\":\"table\"}]},\"layout\":{\"annotationdefaults\":{\"arrowcolor\":\"#2a3f5f\",\"arrowhead\":0,\"arrowwidth\":1},\"autotypenumbers\":\"strict\",\"coloraxis\":{\"colorbar\":{\"outlinewidth\":0,\"ticks\":\"\"}},\"colorscale\":{\"diverging\":[[0,\"#8e0152\"],[0.1,\"#c51b7d\"],[0.2,\"#de77ae\"],[0.3,\"#f1b6da\"],[0.4,\"#fde0ef\"],[0.5,\"#f7f7f7\"],[0.6,\"#e6f5d0\"],[0.7,\"#b8e186\"],[0.8,\"#7fbc41\"],[0.9,\"#4d9221\"],[1,\"#276419\"]],\"sequential\":[[0.0,\"#0d0887\"],[0.1111111111111111,\"#46039f\"],[0.2222222222222222,\"#7201a8\"],[0.3333333333333333,\"#9c179e\"],[0.4444444444444444,\"#bd3786\"],[0.5555555555555556,\"#d8576b\"],[0.6666666666666666,\"#ed7953\"],[0.7777777777777778,\"#fb9f3a\"],[0.8888888888888888,\"#fdca26\"],[1.0,\"#f0f921\"]],\"sequentialminus\":[[0.0,\"#0d0887\"],[0.1111111111111111,\"#46039f\"],[0.2222222222222222,\"#7201a8\"],[0.3333333333333333,\"#9c179e\"],[0.4444444444444444,\"#bd3786\"],[0.5555555555555556,\"#d8576b\"],[0.6666666666666666,\"#ed7953\"],[0.7777777777777778,\"#fb9f3a\"],[0.8888888888888888,\"#fdca26\"],[1.0,\"#f0f921\"]]},\"colorway\":[\"#636efa\",\"#EF553B\",\"#00cc96\",\"#ab63fa\",\"#FFA15A\",\"#19d3f3\",\"#FF6692\",\"#B6E880\",\"#FF97FF\",\"#FECB52\"],\"font\":{\"color\":\"#2a3f5f\"},\"geo\":{\"bgcolor\":\"white\",\"lakecolor\":\"white\",\"landcolor\":\"#E5ECF6\",\"showlakes\":true,\"showland\":true,\"subunitcolor\":\"white\"},\"hoverlabel\":{\"align\":\"left\"},\"hovermode\":\"closest\",\"mapbox\":{\"style\":\"light\"},\"paper_bgcolor\":\"white\",\"plot_bgcolor\":\"#E5ECF6\",\"polar\":{\"angularaxis\":{\"gridcolor\":\"white\",\"linecolor\":\"white\",\"ticks\":\"\"},\"bgcolor\":\"#E5ECF6\",\"radialaxis\":{\"gridcolor\":\"white\",\"linecolor\":\"white\",\"ticks\":\"\"}},\"scene\":{\"xaxis\":{\"backgroundcolor\":\"#E5ECF6\",\"gridcolor\":\"white\",\"gridwidth\":2,\"linecolor\":\"white\",\"showbackground\":true,\"ticks\":\"\",\"zerolinecolor\":\"white\"},\"yaxis\":{\"backgroundcolor\":\"#E5ECF6\",\"gridcolor\":\"white\",\"gridwidth\":2,\"linecolor\":\"white\",\"showbackground\":true,\"ticks\":\"\",\"zerolinecolor\":\"white\"},\"zaxis\":{\"backgroundcolor\":\"#E5ECF6\",\"gridcolor\":\"white\",\"gridwidth\":2,\"linecolor\":\"white\",\"showbackground\":true,\"ticks\":\"\",\"zerolinecolor\":\"white\"}},\"shapedefaults\":{\"line\":{\"color\":\"#2a3f5f\"}},\"ternary\":{\"aaxis\":{\"gridcolor\":\"white\",\"linecolor\":\"white\",\"ticks\":\"\"},\"baxis\":{\"gridcolor\":\"white\",\"linecolor\":\"white\",\"ticks\":\"\"},\"bgcolor\":\"#E5ECF6\",\"caxis\":{\"gridcolor\":\"white\",\"linecolor\":\"white\",\"ticks\":\"\"}},\"title\":{\"x\":0.05},\"xaxis\":{\"automargin\":true,\"gridcolor\":\"white\",\"linecolor\":\"white\",\"ticks\":\"\",\"title\":{\"standoff\":15},\"zerolinecolor\":\"white\",\"zerolinewidth\":2},\"yaxis\":{\"automargin\":true,\"gridcolor\":\"white\",\"linecolor\":\"white\",\"ticks\":\"\",\"title\":{\"standoff\":15},\"zerolinecolor\":\"white\",\"zerolinewidth\":2}}}},                        {\"responsive\": true}                    ).then(function(){\n",
       "                            \n",
       "var gd = document.getElementById('4ea9e527-b25b-4010-8808-8ddb3ff483f3');\n",
       "var x = new MutationObserver(function (mutations, observer) {{\n",
       "        var display = window.getComputedStyle(gd).display;\n",
       "        if (!display || display === 'none') {{\n",
       "            console.log([gd, 'removed!']);\n",
       "            Plotly.purge(gd);\n",
       "            observer.disconnect();\n",
       "        }}\n",
       "}});\n",
       "\n",
       "// Listen for the removal of the full notebook cells\n",
       "var notebookContainer = gd.closest('#notebook-container');\n",
       "if (notebookContainer) {{\n",
       "    x.observe(notebookContainer, {childList: true});\n",
       "}}\n",
       "\n",
       "// Listen for the clearing of the current output cell\n",
       "var outputEl = gd.closest('.output');\n",
       "if (outputEl) {{\n",
       "    x.observe(outputEl, {childList: true});\n",
       "}}\n",
       "\n",
       "                        })                };                });            </script>        </div>"
      ]
     },
     "metadata": {},
     "output_type": "display_data"
    },
    {
     "data": {
      "application/vnd.plotly.v1+json": {
       "config": {
        "plotlyServerURL": "https://plot.ly"
       },
       "data": [
        {
         "name": "2013",
         "opacity": 0.5,
         "type": "scatter",
         "x": [
          "01",
          "02",
          "03",
          "04",
          "05",
          "06",
          "07",
          "08",
          "09",
          "10",
          "11",
          "12"
         ],
         "y": [
          null,
          -0.4639073706864655,
          0.8275166465674392,
          0.054145215693236284,
          -0.004846090267908405,
          -0.024921765493510703,
          0.0277005634508148,
          -0.01536584277530454,
          0.02376384931830137,
          0.09304507981951864,
          0.05229970653797992,
          0.028284226036583874
         ]
        },
        {
         "name": "2014",
         "opacity": 0.5,
         "type": "scatter",
         "x": [
          "01",
          "02",
          "03",
          "04",
          "05",
          "06",
          "07",
          "08",
          "09",
          "10",
          "11",
          "12"
         ],
         "y": [
          -0.13963625039795383,
          -0.42336226748703404,
          0.9367352212737214,
          0.014339488356884167,
          -0.010599934492574192,
          -0.08909227909010611,
          0.018597742922358093,
          -0.02695030957737525,
          -0.004195028596806033,
          0.06651303410220089,
          -0.07741799554644294,
          0.07465159752878618
         ]
        },
        {
         "name": "2015",
         "opacity": 0.5,
         "type": "scatter",
         "x": [
          "01",
          "02",
          "03",
          "04",
          "05",
          "06",
          "07",
          "08",
          "09",
          "10",
          "11",
          "12"
         ],
         "y": [
          -0.07102286154641906,
          -0.4775813300117943,
          0.5684775662889563,
          0.0954353319962019,
          -0.037956886060356805,
          0.01475143552213009,
          -0.0012500972519336256,
          -0.07944016808657313,
          -0.013367920348040928,
          0.11553410651934454,
          -0.030919762032797598,
          0.05569217877424647
         ]
        },
        {
         "name": "2016",
         "opacity": 0.5,
         "type": "scatter",
         "x": [
          "01",
          "02",
          "03",
          "04",
          "05",
          "06",
          "07",
          "08",
          "09",
          "10",
          "11",
          "12"
         ],
         "y": [
          -0.19011187311349753,
          -0.4512606699533592,
          1.017091636478388,
          -0.0034598396082765382,
          0.035462236486799824,
          -0.02798882171412917,
          -0.03376279797114156,
          0.0011022653920194927,
          -0.035844525895390084,
          0.13537166937818518,
          0.0360376193577748,
          0.08882802554027382
         ]
        },
        {
         "name": "2017",
         "opacity": 0.5,
         "type": "scatter",
         "x": [
          "01",
          "02",
          "03",
          "04",
          "05",
          "06",
          "07",
          "08",
          "09",
          "10",
          "11",
          "12"
         ],
         "y": [
          -0.3266081811485003,
          -0.13975368592559462,
          0.5927021524943386,
          -0.06174014809843067,
          0.047673449460666865,
          -0.08030653073657452,
          0.0122181355589532,
          -0.05033093730373619,
          0.1164796121315634,
          0.0038381268142630093,
          0.1779545549030114,
          0.0781695521399778
         ]
        },
        {
         "name": "2018",
         "opacity": 0.5,
         "type": "scatter",
         "x": [
          "01",
          "02",
          "03",
          "04",
          "05",
          "06",
          "07",
          "08",
          "09",
          "10",
          "11",
          "12"
         ],
         "y": [
          -0.08947647168989865,
          -0.49404147952552663,
          0.939848528278527,
          0.11765116799006232,
          0.06096014069523826,
          -0.05363647570312963,
          -0.010677036411093717,
          -0.010757383034756898,
          0.022078991588048404,
          0.07363069332137186,
          -0.013344115030870114,
          -0.053675960252568856
         ]
        },
        {
         "name": "2019",
         "opacity": 0.5,
         "type": "scatter",
         "x": [
          "01",
          "02",
          "03",
          "04",
          "05",
          "06",
          "07",
          "08",
          "09",
          "10",
          "11",
          "12"
         ],
         "y": [
          -0.03428281010483046,
          -0.5287695039204163,
          1.3034201042420197,
          0.00018113281558895927,
          0.01630375932000598,
          -0.10466246988352361,
          0.05036352742026948,
          -0.03841249681681894,
          0.004836494855690641,
          0.04290394037510118,
          0.08427381891156749,
          0.026388948017731444
         ]
        },
        {
         "name": "2020",
         "opacity": 0.5,
         "type": "scatter",
         "x": [
          "01",
          "02",
          "03",
          "04",
          "05",
          "06",
          "07",
          "08",
          "09",
          "10",
          "11",
          "12"
         ],
         "y": [
          -0.3660863290945004,
          -0.354733632943234,
          0.7828241752182274,
          0.16406377782735193,
          0.014912537125382664,
          -0.040458160799928006,
          0.019333872818687304,
          -0.032652867921456025,
          0.03502808200716215,
          0.04720054643809692,
          0.05470492923642781,
          0.03030328256489034
         ]
        },
        {
         "name": "2021",
         "opacity": 0.5,
         "type": "scatter",
         "x": [
          "01",
          "02",
          "03",
          "04",
          "05",
          "06",
          "07",
          "08",
          "09",
          "10",
          "11",
          "12"
         ],
         "y": [
          -0.15774014896436853,
          -0.49768872518317775,
          1.0912524182620527,
          0.027621920551419616,
          -0.004585035016511068,
          -0.12106365846978842,
          -0.03437373271762235,
          0.07655313757652586,
          0.07003987834582721,
          0.10106421526745625,
          -0.0058272531212085815,
          0.07277566231911382
         ]
        },
        {
         "name": "2022",
         "opacity": 0.5,
         "type": "scatter",
         "x": [
          "01",
          "02",
          "03",
          "04",
          "05",
          "06",
          "07",
          "08",
          "09",
          "10",
          "11",
          "12"
         ],
         "y": [
          -0.24724477153274058,
          -0.37131706594719244,
          0.8956880613523992,
          -0.05780429590206533,
          -0.06885572609153726,
          0.06904243950440235,
          0.054764598254429114,
          -0.007732174269415103,
          -0.012854229748653394,
          0.08268418648336111,
          -0.04076619870485148,
          0.1441138521821074
         ]
        },
        {
         "connectgaps": false,
         "line": {
          "dash": "dash"
         },
         "name": "2022預估值",
         "type": "scatter",
         "x": [
          "12"
         ],
         "y": [
          0.1441138521821074
         ]
        },
        {
         "connectgaps": false,
         "line": {
          "dash": "dash"
         },
         "name": "2023預估值",
         "type": "scatter",
         "x": [
          "01",
          "02",
          "03",
          "04",
          "05",
          "06",
          "07",
          "08",
          "09",
          "10",
          "11",
          "12"
         ],
         "y": [
          -0.2550448616115159,
          -0.4388962122521545,
          0.9531616753987092,
          0.05755395913525524,
          0.013605417491452767,
          -0.0883668813701243,
          -0.004907966626219649,
          0.013563532127779821,
          0.05474447896915737,
          0.06920418187652862,
          0.03344119521450017,
          0.04592902847622409
         ]
        }
       ],
       "layout": {
        "hovermode": "x unified",
        "legend": {
         "title": {
          "text": "年份"
         }
        },
        "template": {
         "data": {
          "bar": [
           {
            "error_x": {
             "color": "#2a3f5f"
            },
            "error_y": {
             "color": "#2a3f5f"
            },
            "marker": {
             "line": {
              "color": "#E5ECF6",
              "width": 0.5
             },
             "pattern": {
              "fillmode": "overlay",
              "size": 10,
              "solidity": 0.2
             }
            },
            "type": "bar"
           }
          ],
          "barpolar": [
           {
            "marker": {
             "line": {
              "color": "#E5ECF6",
              "width": 0.5
             },
             "pattern": {
              "fillmode": "overlay",
              "size": 10,
              "solidity": 0.2
             }
            },
            "type": "barpolar"
           }
          ],
          "carpet": [
           {
            "aaxis": {
             "endlinecolor": "#2a3f5f",
             "gridcolor": "white",
             "linecolor": "white",
             "minorgridcolor": "white",
             "startlinecolor": "#2a3f5f"
            },
            "baxis": {
             "endlinecolor": "#2a3f5f",
             "gridcolor": "white",
             "linecolor": "white",
             "minorgridcolor": "white",
             "startlinecolor": "#2a3f5f"
            },
            "type": "carpet"
           }
          ],
          "choropleth": [
           {
            "colorbar": {
             "outlinewidth": 0,
             "ticks": ""
            },
            "type": "choropleth"
           }
          ],
          "contour": [
           {
            "colorbar": {
             "outlinewidth": 0,
             "ticks": ""
            },
            "colorscale": [
             [
              0,
              "#0d0887"
             ],
             [
              0.1111111111111111,
              "#46039f"
             ],
             [
              0.2222222222222222,
              "#7201a8"
             ],
             [
              0.3333333333333333,
              "#9c179e"
             ],
             [
              0.4444444444444444,
              "#bd3786"
             ],
             [
              0.5555555555555556,
              "#d8576b"
             ],
             [
              0.6666666666666666,
              "#ed7953"
             ],
             [
              0.7777777777777778,
              "#fb9f3a"
             ],
             [
              0.8888888888888888,
              "#fdca26"
             ],
             [
              1,
              "#f0f921"
             ]
            ],
            "type": "contour"
           }
          ],
          "contourcarpet": [
           {
            "colorbar": {
             "outlinewidth": 0,
             "ticks": ""
            },
            "type": "contourcarpet"
           }
          ],
          "heatmap": [
           {
            "colorbar": {
             "outlinewidth": 0,
             "ticks": ""
            },
            "colorscale": [
             [
              0,
              "#0d0887"
             ],
             [
              0.1111111111111111,
              "#46039f"
             ],
             [
              0.2222222222222222,
              "#7201a8"
             ],
             [
              0.3333333333333333,
              "#9c179e"
             ],
             [
              0.4444444444444444,
              "#bd3786"
             ],
             [
              0.5555555555555556,
              "#d8576b"
             ],
             [
              0.6666666666666666,
              "#ed7953"
             ],
             [
              0.7777777777777778,
              "#fb9f3a"
             ],
             [
              0.8888888888888888,
              "#fdca26"
             ],
             [
              1,
              "#f0f921"
             ]
            ],
            "type": "heatmap"
           }
          ],
          "heatmapgl": [
           {
            "colorbar": {
             "outlinewidth": 0,
             "ticks": ""
            },
            "colorscale": [
             [
              0,
              "#0d0887"
             ],
             [
              0.1111111111111111,
              "#46039f"
             ],
             [
              0.2222222222222222,
              "#7201a8"
             ],
             [
              0.3333333333333333,
              "#9c179e"
             ],
             [
              0.4444444444444444,
              "#bd3786"
             ],
             [
              0.5555555555555556,
              "#d8576b"
             ],
             [
              0.6666666666666666,
              "#ed7953"
             ],
             [
              0.7777777777777778,
              "#fb9f3a"
             ],
             [
              0.8888888888888888,
              "#fdca26"
             ],
             [
              1,
              "#f0f921"
             ]
            ],
            "type": "heatmapgl"
           }
          ],
          "histogram": [
           {
            "marker": {
             "pattern": {
              "fillmode": "overlay",
              "size": 10,
              "solidity": 0.2
             }
            },
            "type": "histogram"
           }
          ],
          "histogram2d": [
           {
            "colorbar": {
             "outlinewidth": 0,
             "ticks": ""
            },
            "colorscale": [
             [
              0,
              "#0d0887"
             ],
             [
              0.1111111111111111,
              "#46039f"
             ],
             [
              0.2222222222222222,
              "#7201a8"
             ],
             [
              0.3333333333333333,
              "#9c179e"
             ],
             [
              0.4444444444444444,
              "#bd3786"
             ],
             [
              0.5555555555555556,
              "#d8576b"
             ],
             [
              0.6666666666666666,
              "#ed7953"
             ],
             [
              0.7777777777777778,
              "#fb9f3a"
             ],
             [
              0.8888888888888888,
              "#fdca26"
             ],
             [
              1,
              "#f0f921"
             ]
            ],
            "type": "histogram2d"
           }
          ],
          "histogram2dcontour": [
           {
            "colorbar": {
             "outlinewidth": 0,
             "ticks": ""
            },
            "colorscale": [
             [
              0,
              "#0d0887"
             ],
             [
              0.1111111111111111,
              "#46039f"
             ],
             [
              0.2222222222222222,
              "#7201a8"
             ],
             [
              0.3333333333333333,
              "#9c179e"
             ],
             [
              0.4444444444444444,
              "#bd3786"
             ],
             [
              0.5555555555555556,
              "#d8576b"
             ],
             [
              0.6666666666666666,
              "#ed7953"
             ],
             [
              0.7777777777777778,
              "#fb9f3a"
             ],
             [
              0.8888888888888888,
              "#fdca26"
             ],
             [
              1,
              "#f0f921"
             ]
            ],
            "type": "histogram2dcontour"
           }
          ],
          "mesh3d": [
           {
            "colorbar": {
             "outlinewidth": 0,
             "ticks": ""
            },
            "type": "mesh3d"
           }
          ],
          "parcoords": [
           {
            "line": {
             "colorbar": {
              "outlinewidth": 0,
              "ticks": ""
             }
            },
            "type": "parcoords"
           }
          ],
          "pie": [
           {
            "automargin": true,
            "type": "pie"
           }
          ],
          "scatter": [
           {
            "marker": {
             "colorbar": {
              "outlinewidth": 0,
              "ticks": ""
             }
            },
            "type": "scatter"
           }
          ],
          "scatter3d": [
           {
            "line": {
             "colorbar": {
              "outlinewidth": 0,
              "ticks": ""
             }
            },
            "marker": {
             "colorbar": {
              "outlinewidth": 0,
              "ticks": ""
             }
            },
            "type": "scatter3d"
           }
          ],
          "scattercarpet": [
           {
            "marker": {
             "colorbar": {
              "outlinewidth": 0,
              "ticks": ""
             }
            },
            "type": "scattercarpet"
           }
          ],
          "scattergeo": [
           {
            "marker": {
             "colorbar": {
              "outlinewidth": 0,
              "ticks": ""
             }
            },
            "type": "scattergeo"
           }
          ],
          "scattergl": [
           {
            "marker": {
             "colorbar": {
              "outlinewidth": 0,
              "ticks": ""
             }
            },
            "type": "scattergl"
           }
          ],
          "scattermapbox": [
           {
            "marker": {
             "colorbar": {
              "outlinewidth": 0,
              "ticks": ""
             }
            },
            "type": "scattermapbox"
           }
          ],
          "scatterpolar": [
           {
            "marker": {
             "colorbar": {
              "outlinewidth": 0,
              "ticks": ""
             }
            },
            "type": "scatterpolar"
           }
          ],
          "scatterpolargl": [
           {
            "marker": {
             "colorbar": {
              "outlinewidth": 0,
              "ticks": ""
             }
            },
            "type": "scatterpolargl"
           }
          ],
          "scatterternary": [
           {
            "marker": {
             "colorbar": {
              "outlinewidth": 0,
              "ticks": ""
             }
            },
            "type": "scatterternary"
           }
          ],
          "surface": [
           {
            "colorbar": {
             "outlinewidth": 0,
             "ticks": ""
            },
            "colorscale": [
             [
              0,
              "#0d0887"
             ],
             [
              0.1111111111111111,
              "#46039f"
             ],
             [
              0.2222222222222222,
              "#7201a8"
             ],
             [
              0.3333333333333333,
              "#9c179e"
             ],
             [
              0.4444444444444444,
              "#bd3786"
             ],
             [
              0.5555555555555556,
              "#d8576b"
             ],
             [
              0.6666666666666666,
              "#ed7953"
             ],
             [
              0.7777777777777778,
              "#fb9f3a"
             ],
             [
              0.8888888888888888,
              "#fdca26"
             ],
             [
              1,
              "#f0f921"
             ]
            ],
            "type": "surface"
           }
          ],
          "table": [
           {
            "cells": {
             "fill": {
              "color": "#EBF0F8"
             },
             "line": {
              "color": "white"
             }
            },
            "header": {
             "fill": {
              "color": "#C8D4E3"
             },
             "line": {
              "color": "white"
             }
            },
            "type": "table"
           }
          ]
         },
         "layout": {
          "annotationdefaults": {
           "arrowcolor": "#2a3f5f",
           "arrowhead": 0,
           "arrowwidth": 1
          },
          "autotypenumbers": "strict",
          "coloraxis": {
           "colorbar": {
            "outlinewidth": 0,
            "ticks": ""
           }
          },
          "colorscale": {
           "diverging": [
            [
             0,
             "#8e0152"
            ],
            [
             0.1,
             "#c51b7d"
            ],
            [
             0.2,
             "#de77ae"
            ],
            [
             0.3,
             "#f1b6da"
            ],
            [
             0.4,
             "#fde0ef"
            ],
            [
             0.5,
             "#f7f7f7"
            ],
            [
             0.6,
             "#e6f5d0"
            ],
            [
             0.7,
             "#b8e186"
            ],
            [
             0.8,
             "#7fbc41"
            ],
            [
             0.9,
             "#4d9221"
            ],
            [
             1,
             "#276419"
            ]
           ],
           "sequential": [
            [
             0,
             "#0d0887"
            ],
            [
             0.1111111111111111,
             "#46039f"
            ],
            [
             0.2222222222222222,
             "#7201a8"
            ],
            [
             0.3333333333333333,
             "#9c179e"
            ],
            [
             0.4444444444444444,
             "#bd3786"
            ],
            [
             0.5555555555555556,
             "#d8576b"
            ],
            [
             0.6666666666666666,
             "#ed7953"
            ],
            [
             0.7777777777777778,
             "#fb9f3a"
            ],
            [
             0.8888888888888888,
             "#fdca26"
            ],
            [
             1,
             "#f0f921"
            ]
           ],
           "sequentialminus": [
            [
             0,
             "#0d0887"
            ],
            [
             0.1111111111111111,
             "#46039f"
            ],
            [
             0.2222222222222222,
             "#7201a8"
            ],
            [
             0.3333333333333333,
             "#9c179e"
            ],
            [
             0.4444444444444444,
             "#bd3786"
            ],
            [
             0.5555555555555556,
             "#d8576b"
            ],
            [
             0.6666666666666666,
             "#ed7953"
            ],
            [
             0.7777777777777778,
             "#fb9f3a"
            ],
            [
             0.8888888888888888,
             "#fdca26"
            ],
            [
             1,
             "#f0f921"
            ]
           ]
          },
          "colorway": [
           "#636efa",
           "#EF553B",
           "#00cc96",
           "#ab63fa",
           "#FFA15A",
           "#19d3f3",
           "#FF6692",
           "#B6E880",
           "#FF97FF",
           "#FECB52"
          ],
          "font": {
           "color": "#2a3f5f"
          },
          "geo": {
           "bgcolor": "white",
           "lakecolor": "white",
           "landcolor": "#E5ECF6",
           "showlakes": true,
           "showland": true,
           "subunitcolor": "white"
          },
          "hoverlabel": {
           "align": "left"
          },
          "hovermode": "closest",
          "mapbox": {
           "style": "light"
          },
          "paper_bgcolor": "white",
          "plot_bgcolor": "#E5ECF6",
          "polar": {
           "angularaxis": {
            "gridcolor": "white",
            "linecolor": "white",
            "ticks": ""
           },
           "bgcolor": "#E5ECF6",
           "radialaxis": {
            "gridcolor": "white",
            "linecolor": "white",
            "ticks": ""
           }
          },
          "scene": {
           "xaxis": {
            "backgroundcolor": "#E5ECF6",
            "gridcolor": "white",
            "gridwidth": 2,
            "linecolor": "white",
            "showbackground": true,
            "ticks": "",
            "zerolinecolor": "white"
           },
           "yaxis": {
            "backgroundcolor": "#E5ECF6",
            "gridcolor": "white",
            "gridwidth": 2,
            "linecolor": "white",
            "showbackground": true,
            "ticks": "",
            "zerolinecolor": "white"
           },
           "zaxis": {
            "backgroundcolor": "#E5ECF6",
            "gridcolor": "white",
            "gridwidth": 2,
            "linecolor": "white",
            "showbackground": true,
            "ticks": "",
            "zerolinecolor": "white"
           }
          },
          "shapedefaults": {
           "line": {
            "color": "#2a3f5f"
           }
          },
          "ternary": {
           "aaxis": {
            "gridcolor": "white",
            "linecolor": "white",
            "ticks": ""
           },
           "baxis": {
            "gridcolor": "white",
            "linecolor": "white",
            "ticks": ""
           },
           "bgcolor": "#E5ECF6",
           "caxis": {
            "gridcolor": "white",
            "linecolor": "white",
            "ticks": ""
           }
          },
          "title": {
           "x": 0.05
          },
          "xaxis": {
           "automargin": true,
           "gridcolor": "white",
           "linecolor": "white",
           "ticks": "",
           "title": {
            "standoff": 15
           },
           "zerolinecolor": "white",
           "zerolinewidth": 2
          },
          "yaxis": {
           "automargin": true,
           "gridcolor": "white",
           "linecolor": "white",
           "ticks": "",
           "title": {
            "standoff": 15
           },
           "zerolinecolor": "white",
           "zerolinewidth": 2
          }
         }
        },
        "title": {
         "text": "M1100 水泥工業  各年度月營收 MOM %"
        },
        "xaxis": {
         "title": {
          "text": "月份"
         }
        },
        "yaxis": {
         "title": {
          "text": "MOM %"
         }
        }
       }
      },
      "text/html": [
       "<div>                            <div id=\"98d4ab3d-4df4-4374-9d5f-3cdeb83a06dc\" class=\"plotly-graph-div\" style=\"height:525px; width:100%;\"></div>            <script type=\"text/javascript\">                require([\"plotly\"], function(Plotly) {                    window.PLOTLYENV=window.PLOTLYENV || {};                                    if (document.getElementById(\"98d4ab3d-4df4-4374-9d5f-3cdeb83a06dc\")) {                    Plotly.newPlot(                        \"98d4ab3d-4df4-4374-9d5f-3cdeb83a06dc\",                        [{\"name\":\"2013\",\"opacity\":0.5,\"x\":[\"01\",\"02\",\"03\",\"04\",\"05\",\"06\",\"07\",\"08\",\"09\",\"10\",\"11\",\"12\"],\"y\":[null,-0.4639073706864655,0.8275166465674392,0.054145215693236284,-0.004846090267908405,-0.024921765493510703,0.0277005634508148,-0.01536584277530454,0.02376384931830137,0.09304507981951864,0.05229970653797992,0.028284226036583874],\"type\":\"scatter\"},{\"name\":\"2014\",\"opacity\":0.5,\"x\":[\"01\",\"02\",\"03\",\"04\",\"05\",\"06\",\"07\",\"08\",\"09\",\"10\",\"11\",\"12\"],\"y\":[-0.13963625039795383,-0.42336226748703404,0.9367352212737214,0.014339488356884167,-0.010599934492574192,-0.08909227909010611,0.018597742922358093,-0.02695030957737525,-0.004195028596806033,0.06651303410220089,-0.07741799554644294,0.07465159752878618],\"type\":\"scatter\"},{\"name\":\"2015\",\"opacity\":0.5,\"x\":[\"01\",\"02\",\"03\",\"04\",\"05\",\"06\",\"07\",\"08\",\"09\",\"10\",\"11\",\"12\"],\"y\":[-0.07102286154641906,-0.4775813300117943,0.5684775662889563,0.0954353319962019,-0.037956886060356805,0.01475143552213009,-0.0012500972519336256,-0.07944016808657313,-0.013367920348040928,0.11553410651934454,-0.030919762032797598,0.05569217877424647],\"type\":\"scatter\"},{\"name\":\"2016\",\"opacity\":0.5,\"x\":[\"01\",\"02\",\"03\",\"04\",\"05\",\"06\",\"07\",\"08\",\"09\",\"10\",\"11\",\"12\"],\"y\":[-0.19011187311349753,-0.4512606699533592,1.017091636478388,-0.0034598396082765382,0.035462236486799824,-0.02798882171412917,-0.03376279797114156,0.0011022653920194927,-0.035844525895390084,0.13537166937818518,0.0360376193577748,0.08882802554027382],\"type\":\"scatter\"},{\"name\":\"2017\",\"opacity\":0.5,\"x\":[\"01\",\"02\",\"03\",\"04\",\"05\",\"06\",\"07\",\"08\",\"09\",\"10\",\"11\",\"12\"],\"y\":[-0.3266081811485003,-0.13975368592559462,0.5927021524943386,-0.06174014809843067,0.047673449460666865,-0.08030653073657452,0.0122181355589532,-0.05033093730373619,0.1164796121315634,0.0038381268142630093,0.1779545549030114,0.0781695521399778],\"type\":\"scatter\"},{\"name\":\"2018\",\"opacity\":0.5,\"x\":[\"01\",\"02\",\"03\",\"04\",\"05\",\"06\",\"07\",\"08\",\"09\",\"10\",\"11\",\"12\"],\"y\":[-0.08947647168989865,-0.49404147952552663,0.939848528278527,0.11765116799006232,0.06096014069523826,-0.05363647570312963,-0.010677036411093717,-0.010757383034756898,0.022078991588048404,0.07363069332137186,-0.013344115030870114,-0.053675960252568856],\"type\":\"scatter\"},{\"name\":\"2019\",\"opacity\":0.5,\"x\":[\"01\",\"02\",\"03\",\"04\",\"05\",\"06\",\"07\",\"08\",\"09\",\"10\",\"11\",\"12\"],\"y\":[-0.03428281010483046,-0.5287695039204163,1.3034201042420197,0.00018113281558895927,0.01630375932000598,-0.10466246988352361,0.05036352742026948,-0.03841249681681894,0.004836494855690641,0.04290394037510118,0.08427381891156749,0.026388948017731444],\"type\":\"scatter\"},{\"name\":\"2020\",\"opacity\":0.5,\"x\":[\"01\",\"02\",\"03\",\"04\",\"05\",\"06\",\"07\",\"08\",\"09\",\"10\",\"11\",\"12\"],\"y\":[-0.3660863290945004,-0.354733632943234,0.7828241752182274,0.16406377782735193,0.014912537125382664,-0.040458160799928006,0.019333872818687304,-0.032652867921456025,0.03502808200716215,0.04720054643809692,0.05470492923642781,0.03030328256489034],\"type\":\"scatter\"},{\"name\":\"2021\",\"opacity\":0.5,\"x\":[\"01\",\"02\",\"03\",\"04\",\"05\",\"06\",\"07\",\"08\",\"09\",\"10\",\"11\",\"12\"],\"y\":[-0.15774014896436853,-0.49768872518317775,1.0912524182620527,0.027621920551419616,-0.004585035016511068,-0.12106365846978842,-0.03437373271762235,0.07655313757652586,0.07003987834582721,0.10106421526745625,-0.0058272531212085815,0.07277566231911382],\"type\":\"scatter\"},{\"name\":\"2022\",\"opacity\":0.5,\"x\":[\"01\",\"02\",\"03\",\"04\",\"05\",\"06\",\"07\",\"08\",\"09\",\"10\",\"11\",\"12\"],\"y\":[-0.24724477153274058,-0.37131706594719244,0.8956880613523992,-0.05780429590206533,-0.06885572609153726,0.06904243950440235,0.054764598254429114,-0.007732174269415103,-0.012854229748653394,0.08268418648336111,-0.04076619870485148,0.1441138521821074],\"type\":\"scatter\"},{\"connectgaps\":false,\"line\":{\"dash\":\"dash\"},\"name\":\"2022\\u9810\\u4f30\\u503c\",\"x\":[\"12\"],\"y\":[0.1441138521821074],\"type\":\"scatter\"},{\"connectgaps\":false,\"line\":{\"dash\":\"dash\"},\"name\":\"2023\\u9810\\u4f30\\u503c\",\"x\":[\"01\",\"02\",\"03\",\"04\",\"05\",\"06\",\"07\",\"08\",\"09\",\"10\",\"11\",\"12\"],\"y\":[-0.2550448616115159,-0.4388962122521545,0.9531616753987092,0.05755395913525524,0.013605417491452767,-0.0883668813701243,-0.004907966626219649,0.013563532127779821,0.05474447896915737,0.06920418187652862,0.03344119521450017,0.04592902847622409],\"type\":\"scatter\"}],                        {\"hovermode\":\"x unified\",\"legend\":{\"title\":{\"text\":\"\\u5e74\\u4efd\"}},\"title\":{\"text\":\"M1100 \\u6c34\\u6ce5\\u5de5\\u696d  \\u5404\\u5e74\\u5ea6\\u6708\\u71df\\u6536 MOM %\"},\"xaxis\":{\"title\":{\"text\":\"\\u6708\\u4efd\"}},\"yaxis\":{\"title\":{\"text\":\"MOM %\"}},\"template\":{\"data\":{\"bar\":[{\"error_x\":{\"color\":\"#2a3f5f\"},\"error_y\":{\"color\":\"#2a3f5f\"},\"marker\":{\"line\":{\"color\":\"#E5ECF6\",\"width\":0.5},\"pattern\":{\"fillmode\":\"overlay\",\"size\":10,\"solidity\":0.2}},\"type\":\"bar\"}],\"barpolar\":[{\"marker\":{\"line\":{\"color\":\"#E5ECF6\",\"width\":0.5},\"pattern\":{\"fillmode\":\"overlay\",\"size\":10,\"solidity\":0.2}},\"type\":\"barpolar\"}],\"carpet\":[{\"aaxis\":{\"endlinecolor\":\"#2a3f5f\",\"gridcolor\":\"white\",\"linecolor\":\"white\",\"minorgridcolor\":\"white\",\"startlinecolor\":\"#2a3f5f\"},\"baxis\":{\"endlinecolor\":\"#2a3f5f\",\"gridcolor\":\"white\",\"linecolor\":\"white\",\"minorgridcolor\":\"white\",\"startlinecolor\":\"#2a3f5f\"},\"type\":\"carpet\"}],\"choropleth\":[{\"colorbar\":{\"outlinewidth\":0,\"ticks\":\"\"},\"type\":\"choropleth\"}],\"contour\":[{\"colorbar\":{\"outlinewidth\":0,\"ticks\":\"\"},\"colorscale\":[[0.0,\"#0d0887\"],[0.1111111111111111,\"#46039f\"],[0.2222222222222222,\"#7201a8\"],[0.3333333333333333,\"#9c179e\"],[0.4444444444444444,\"#bd3786\"],[0.5555555555555556,\"#d8576b\"],[0.6666666666666666,\"#ed7953\"],[0.7777777777777778,\"#fb9f3a\"],[0.8888888888888888,\"#fdca26\"],[1.0,\"#f0f921\"]],\"type\":\"contour\"}],\"contourcarpet\":[{\"colorbar\":{\"outlinewidth\":0,\"ticks\":\"\"},\"type\":\"contourcarpet\"}],\"heatmap\":[{\"colorbar\":{\"outlinewidth\":0,\"ticks\":\"\"},\"colorscale\":[[0.0,\"#0d0887\"],[0.1111111111111111,\"#46039f\"],[0.2222222222222222,\"#7201a8\"],[0.3333333333333333,\"#9c179e\"],[0.4444444444444444,\"#bd3786\"],[0.5555555555555556,\"#d8576b\"],[0.6666666666666666,\"#ed7953\"],[0.7777777777777778,\"#fb9f3a\"],[0.8888888888888888,\"#fdca26\"],[1.0,\"#f0f921\"]],\"type\":\"heatmap\"}],\"heatmapgl\":[{\"colorbar\":{\"outlinewidth\":0,\"ticks\":\"\"},\"colorscale\":[[0.0,\"#0d0887\"],[0.1111111111111111,\"#46039f\"],[0.2222222222222222,\"#7201a8\"],[0.3333333333333333,\"#9c179e\"],[0.4444444444444444,\"#bd3786\"],[0.5555555555555556,\"#d8576b\"],[0.6666666666666666,\"#ed7953\"],[0.7777777777777778,\"#fb9f3a\"],[0.8888888888888888,\"#fdca26\"],[1.0,\"#f0f921\"]],\"type\":\"heatmapgl\"}],\"histogram\":[{\"marker\":{\"pattern\":{\"fillmode\":\"overlay\",\"size\":10,\"solidity\":0.2}},\"type\":\"histogram\"}],\"histogram2d\":[{\"colorbar\":{\"outlinewidth\":0,\"ticks\":\"\"},\"colorscale\":[[0.0,\"#0d0887\"],[0.1111111111111111,\"#46039f\"],[0.2222222222222222,\"#7201a8\"],[0.3333333333333333,\"#9c179e\"],[0.4444444444444444,\"#bd3786\"],[0.5555555555555556,\"#d8576b\"],[0.6666666666666666,\"#ed7953\"],[0.7777777777777778,\"#fb9f3a\"],[0.8888888888888888,\"#fdca26\"],[1.0,\"#f0f921\"]],\"type\":\"histogram2d\"}],\"histogram2dcontour\":[{\"colorbar\":{\"outlinewidth\":0,\"ticks\":\"\"},\"colorscale\":[[0.0,\"#0d0887\"],[0.1111111111111111,\"#46039f\"],[0.2222222222222222,\"#7201a8\"],[0.3333333333333333,\"#9c179e\"],[0.4444444444444444,\"#bd3786\"],[0.5555555555555556,\"#d8576b\"],[0.6666666666666666,\"#ed7953\"],[0.7777777777777778,\"#fb9f3a\"],[0.8888888888888888,\"#fdca26\"],[1.0,\"#f0f921\"]],\"type\":\"histogram2dcontour\"}],\"mesh3d\":[{\"colorbar\":{\"outlinewidth\":0,\"ticks\":\"\"},\"type\":\"mesh3d\"}],\"parcoords\":[{\"line\":{\"colorbar\":{\"outlinewidth\":0,\"ticks\":\"\"}},\"type\":\"parcoords\"}],\"pie\":[{\"automargin\":true,\"type\":\"pie\"}],\"scatter\":[{\"marker\":{\"colorbar\":{\"outlinewidth\":0,\"ticks\":\"\"}},\"type\":\"scatter\"}],\"scatter3d\":[{\"line\":{\"colorbar\":{\"outlinewidth\":0,\"ticks\":\"\"}},\"marker\":{\"colorbar\":{\"outlinewidth\":0,\"ticks\":\"\"}},\"type\":\"scatter3d\"}],\"scattercarpet\":[{\"marker\":{\"colorbar\":{\"outlinewidth\":0,\"ticks\":\"\"}},\"type\":\"scattercarpet\"}],\"scattergeo\":[{\"marker\":{\"colorbar\":{\"outlinewidth\":0,\"ticks\":\"\"}},\"type\":\"scattergeo\"}],\"scattergl\":[{\"marker\":{\"colorbar\":{\"outlinewidth\":0,\"ticks\":\"\"}},\"type\":\"scattergl\"}],\"scattermapbox\":[{\"marker\":{\"colorbar\":{\"outlinewidth\":0,\"ticks\":\"\"}},\"type\":\"scattermapbox\"}],\"scatterpolar\":[{\"marker\":{\"colorbar\":{\"outlinewidth\":0,\"ticks\":\"\"}},\"type\":\"scatterpolar\"}],\"scatterpolargl\":[{\"marker\":{\"colorbar\":{\"outlinewidth\":0,\"ticks\":\"\"}},\"type\":\"scatterpolargl\"}],\"scatterternary\":[{\"marker\":{\"colorbar\":{\"outlinewidth\":0,\"ticks\":\"\"}},\"type\":\"scatterternary\"}],\"surface\":[{\"colorbar\":{\"outlinewidth\":0,\"ticks\":\"\"},\"colorscale\":[[0.0,\"#0d0887\"],[0.1111111111111111,\"#46039f\"],[0.2222222222222222,\"#7201a8\"],[0.3333333333333333,\"#9c179e\"],[0.4444444444444444,\"#bd3786\"],[0.5555555555555556,\"#d8576b\"],[0.6666666666666666,\"#ed7953\"],[0.7777777777777778,\"#fb9f3a\"],[0.8888888888888888,\"#fdca26\"],[1.0,\"#f0f921\"]],\"type\":\"surface\"}],\"table\":[{\"cells\":{\"fill\":{\"color\":\"#EBF0F8\"},\"line\":{\"color\":\"white\"}},\"header\":{\"fill\":{\"color\":\"#C8D4E3\"},\"line\":{\"color\":\"white\"}},\"type\":\"table\"}]},\"layout\":{\"annotationdefaults\":{\"arrowcolor\":\"#2a3f5f\",\"arrowhead\":0,\"arrowwidth\":1},\"autotypenumbers\":\"strict\",\"coloraxis\":{\"colorbar\":{\"outlinewidth\":0,\"ticks\":\"\"}},\"colorscale\":{\"diverging\":[[0,\"#8e0152\"],[0.1,\"#c51b7d\"],[0.2,\"#de77ae\"],[0.3,\"#f1b6da\"],[0.4,\"#fde0ef\"],[0.5,\"#f7f7f7\"],[0.6,\"#e6f5d0\"],[0.7,\"#b8e186\"],[0.8,\"#7fbc41\"],[0.9,\"#4d9221\"],[1,\"#276419\"]],\"sequential\":[[0.0,\"#0d0887\"],[0.1111111111111111,\"#46039f\"],[0.2222222222222222,\"#7201a8\"],[0.3333333333333333,\"#9c179e\"],[0.4444444444444444,\"#bd3786\"],[0.5555555555555556,\"#d8576b\"],[0.6666666666666666,\"#ed7953\"],[0.7777777777777778,\"#fb9f3a\"],[0.8888888888888888,\"#fdca26\"],[1.0,\"#f0f921\"]],\"sequentialminus\":[[0.0,\"#0d0887\"],[0.1111111111111111,\"#46039f\"],[0.2222222222222222,\"#7201a8\"],[0.3333333333333333,\"#9c179e\"],[0.4444444444444444,\"#bd3786\"],[0.5555555555555556,\"#d8576b\"],[0.6666666666666666,\"#ed7953\"],[0.7777777777777778,\"#fb9f3a\"],[0.8888888888888888,\"#fdca26\"],[1.0,\"#f0f921\"]]},\"colorway\":[\"#636efa\",\"#EF553B\",\"#00cc96\",\"#ab63fa\",\"#FFA15A\",\"#19d3f3\",\"#FF6692\",\"#B6E880\",\"#FF97FF\",\"#FECB52\"],\"font\":{\"color\":\"#2a3f5f\"},\"geo\":{\"bgcolor\":\"white\",\"lakecolor\":\"white\",\"landcolor\":\"#E5ECF6\",\"showlakes\":true,\"showland\":true,\"subunitcolor\":\"white\"},\"hoverlabel\":{\"align\":\"left\"},\"hovermode\":\"closest\",\"mapbox\":{\"style\":\"light\"},\"paper_bgcolor\":\"white\",\"plot_bgcolor\":\"#E5ECF6\",\"polar\":{\"angularaxis\":{\"gridcolor\":\"white\",\"linecolor\":\"white\",\"ticks\":\"\"},\"bgcolor\":\"#E5ECF6\",\"radialaxis\":{\"gridcolor\":\"white\",\"linecolor\":\"white\",\"ticks\":\"\"}},\"scene\":{\"xaxis\":{\"backgroundcolor\":\"#E5ECF6\",\"gridcolor\":\"white\",\"gridwidth\":2,\"linecolor\":\"white\",\"showbackground\":true,\"ticks\":\"\",\"zerolinecolor\":\"white\"},\"yaxis\":{\"backgroundcolor\":\"#E5ECF6\",\"gridcolor\":\"white\",\"gridwidth\":2,\"linecolor\":\"white\",\"showbackground\":true,\"ticks\":\"\",\"zerolinecolor\":\"white\"},\"zaxis\":{\"backgroundcolor\":\"#E5ECF6\",\"gridcolor\":\"white\",\"gridwidth\":2,\"linecolor\":\"white\",\"showbackground\":true,\"ticks\":\"\",\"zerolinecolor\":\"white\"}},\"shapedefaults\":{\"line\":{\"color\":\"#2a3f5f\"}},\"ternary\":{\"aaxis\":{\"gridcolor\":\"white\",\"linecolor\":\"white\",\"ticks\":\"\"},\"baxis\":{\"gridcolor\":\"white\",\"linecolor\":\"white\",\"ticks\":\"\"},\"bgcolor\":\"#E5ECF6\",\"caxis\":{\"gridcolor\":\"white\",\"linecolor\":\"white\",\"ticks\":\"\"}},\"title\":{\"x\":0.05},\"xaxis\":{\"automargin\":true,\"gridcolor\":\"white\",\"linecolor\":\"white\",\"ticks\":\"\",\"title\":{\"standoff\":15},\"zerolinecolor\":\"white\",\"zerolinewidth\":2},\"yaxis\":{\"automargin\":true,\"gridcolor\":\"white\",\"linecolor\":\"white\",\"ticks\":\"\",\"title\":{\"standoff\":15},\"zerolinecolor\":\"white\",\"zerolinewidth\":2}}}},                        {\"responsive\": true}                    ).then(function(){\n",
       "                            \n",
       "var gd = document.getElementById('98d4ab3d-4df4-4374-9d5f-3cdeb83a06dc');\n",
       "var x = new MutationObserver(function (mutations, observer) {{\n",
       "        var display = window.getComputedStyle(gd).display;\n",
       "        if (!display || display === 'none') {{\n",
       "            console.log([gd, 'removed!']);\n",
       "            Plotly.purge(gd);\n",
       "            observer.disconnect();\n",
       "        }}\n",
       "}});\n",
       "\n",
       "// Listen for the removal of the full notebook cells\n",
       "var notebookContainer = gd.closest('#notebook-container');\n",
       "if (notebookContainer) {{\n",
       "    x.observe(notebookContainer, {childList: true});\n",
       "}}\n",
       "\n",
       "// Listen for the clearing of the current output cell\n",
       "var outputEl = gd.closest('.output');\n",
       "if (outputEl) {{\n",
       "    x.observe(outputEl, {childList: true});\n",
       "}}\n",
       "\n",
       "                        })                };                });            </script>        </div>"
      ]
     },
     "metadata": {},
     "output_type": "display_data"
    },
    {
     "data": {
      "application/vnd.plotly.v1+json": {
       "config": {
        "plotlyServerURL": "https://plot.ly"
       },
       "data": [
        {
         "name": "2013",
         "opacity": 0.5,
         "type": "scatter",
         "x": [
          "01",
          "02",
          "03",
          "04",
          "05",
          "06",
          "07",
          "08",
          "09",
          "10",
          "11",
          "12"
         ],
         "y": [
          null,
          null,
          null,
          null,
          null,
          null,
          null,
          null,
          null,
          null,
          null,
          null
         ]
        },
        {
         "name": "2014",
         "opacity": 0.5,
         "type": "scatter",
         "x": [
          "01",
          "02",
          "03",
          "04",
          "05",
          "06",
          "07",
          "08",
          "09",
          "10",
          "11",
          "12"
         ],
         "y": [
          0.05644141445611746,
          0.1363409016550458,
          0.20425247657411777,
          0.15877852762192154,
          0.15207862816554593,
          0.0762596070277583,
          0.06672667652910735,
          0.05417637073231722,
          0.02538693020858552,
          0.000497185574515688,
          -0.12283478444155162,
          -0.08328166830886352
         ]
        },
        {
         "name": "2015",
         "opacity": 0.5,
         "type": "scatter",
         "x": [
          "01",
          "02",
          "03",
          "04",
          "05",
          "06",
          "07",
          "08",
          "09",
          "10",
          "11",
          "12"
         ],
         "y": [
          -0.010174042158008543,
          -0.10324362895557194,
          -0.2737560431803123,
          -0.21569326731258714,
          -0.2373793799867472,
          -0.1504404330394564,
          -0.16699448749396212,
          -0.2119298509385905,
          -0.2191891862274409,
          -0.18330009512200057,
          -0.14213833095982,
          -0.1572730580231792
         ]
        },
        {
         "name": "2016",
         "opacity": 0.5,
         "type": "scatter",
         "x": [
          "01",
          "02",
          "03",
          "04",
          "05",
          "06",
          "07",
          "08",
          "09",
          "10",
          "11",
          "12"
         ],
         "y": [
          -0.26530533824487496,
          -0.22828972308847137,
          -0.007566076303130707,
          -0.09716234942247176,
          -0.028261541186867935,
          -0.06919013733580498,
          -0.09949115905107002,
          -0.020703044574840436,
          -0.043012547615300975,
          -0.025994422727091633,
          0.041303268794107215,
          0.07398747944326416
         ]
        },
        {
         "name": "2017",
         "opacity": 0.5,
         "type": "scatter",
         "x": [
          "01",
          "02",
          "03",
          "04",
          "05",
          "06",
          "07",
          "08",
          "09",
          "10",
          "11",
          "12"
         ],
         "y": [
          -0.10701940404246922,
          0.39990560936672603,
          0.10537004715361747,
          0.04072507858700588,
          0.0529983562924188,
          -0.003678421543378641,
          0.043734156007371405,
          -0.009889327089422069,
          0.14653539781550243,
          0.013708530088388425,
          0.1525668161565996,
          0.14128440748974572
         ]
        },
        {
         "name": "2018",
         "opacity": 0.5,
         "type": "scatter",
         "x": [
          "01",
          "02",
          "03",
          "04",
          "05",
          "06",
          "07",
          "08",
          "09",
          "10",
          "11",
          "12"
         ],
         "y": [
          0.5431822549986011,
          -0.09236901363343585,
          0.10545881435884218,
          0.3168178650392522,
          0.3335178705552371,
          0.372188358260531,
          0.34115108740554595,
          0.39703804574201945,
          0.2789156393783594,
          0.3678331674479134,
          0.14569839617417898,
          0.005595022088827164
         ]
        },
        {
         "name": "2019",
         "opacity": 0.5,
         "type": "scatter",
         "x": [
          "01",
          "02",
          "03",
          "04",
          "05",
          "06",
          "07",
          "08",
          "09",
          "10",
          "11",
          "12"
         ],
         "y": [
          0.066551680115897,
          -0.0066543857306493315,
          0.17952109405118064,
          0.0555482585407922,
          0.011119666188141286,
          -0.04339784730217512,
          0.015623864425962296,
          -0.012768759434746674,
          -0.029423373784151847,
          -0.05720077284201614,
          0.03607806335584308,
          0.12373672108749682
         ]
        },
        {
         "name": "2020",
         "opacity": 0.5,
         "type": "scatter",
         "x": [
          "01",
          "02",
          "03",
          "04",
          "05",
          "06",
          "07",
          "08",
          "09",
          "10",
          "11",
          "12"
         ],
         "y": [
          -0.2623595422659797,
          0.010067434760708526,
          -0.2182178847984717,
          -0.09012056656427563,
          -0.09136610408258022,
          -0.026208317733867337,
          -0.05497590035245307,
          -0.04931548141696753,
          -0.020750959085922536,
          -0.016716601554527172,
          -0.04353141329388717,
          -0.03988373368914604
         ]
        },
        {
         "name": "2021",
         "opacity": 0.5,
         "type": "scatter",
         "x": [
          "01",
          "02",
          "03",
          "04",
          "05",
          "06",
          "07",
          "08",
          "09",
          "10",
          "11",
          "12"
         ],
         "y": [
          0.27567430796175124,
          -0.006944076744413709,
          0.16485440900165996,
          0.028319880526865873,
          0.008564738756418753,
          -0.07615888597630441,
          -0.12483508074750978,
          -0.02603573373526451,
          0.006910462724902942,
          0.05870177613617528,
          -0.002059795369728601,
          0.03907847533202945
         ]
        },
        {
         "name": "2022",
         "opacity": 0.5,
         "type": "scatter",
         "x": [
          "01",
          "02",
          "03",
          "04",
          "05",
          "06",
          "07",
          "08",
          "09",
          "10",
          "11",
          "12"
         ],
         "y": [
          -0.07134151754684086,
          0.16229073236428065,
          0.053598621535415794,
          -0.033987038227545806,
          -0.09635933804682602,
          0.0990900842806815,
          0.20054864958715082,
          0.10655550258423903,
          0.020832593279624393,
          0.0037918683263896444,
          -0.0314851291319151,
          0.03291985335413206
         ]
        },
        {
         "connectgaps": false,
         "line": {
          "dash": "dash"
         },
         "name": "2022預估值",
         "type": "scatter",
         "x": [
          "12"
         ],
         "y": [
          0.03291985335413206
         ]
        },
        {
         "connectgaps": false,
         "line": {
          "dash": "dash"
         },
         "name": "2023預估值",
         "type": "scatter",
         "x": [
          "01",
          "02",
          "03",
          "04",
          "05",
          "06",
          "07",
          "08",
          "09",
          "10",
          "11",
          "12"
         ],
         "y": [
          0.022216682395462223,
          -0.08766466954397713,
          -0.06000441798020747,
          0.055084463886868655,
          0.14852161847899378,
          -0.020590477817484566,
          -0.07599988229871421,
          -0.05616931366866494,
          0.008463223457030458,
          -0.004092689954965081,
          0.07295180739686896,
          -0.019126077905582895
         ]
        }
       ],
       "layout": {
        "hovermode": "x unified",
        "legend": {
         "title": {
          "text": "年份"
         }
        },
        "template": {
         "data": {
          "bar": [
           {
            "error_x": {
             "color": "#2a3f5f"
            },
            "error_y": {
             "color": "#2a3f5f"
            },
            "marker": {
             "line": {
              "color": "#E5ECF6",
              "width": 0.5
             },
             "pattern": {
              "fillmode": "overlay",
              "size": 10,
              "solidity": 0.2
             }
            },
            "type": "bar"
           }
          ],
          "barpolar": [
           {
            "marker": {
             "line": {
              "color": "#E5ECF6",
              "width": 0.5
             },
             "pattern": {
              "fillmode": "overlay",
              "size": 10,
              "solidity": 0.2
             }
            },
            "type": "barpolar"
           }
          ],
          "carpet": [
           {
            "aaxis": {
             "endlinecolor": "#2a3f5f",
             "gridcolor": "white",
             "linecolor": "white",
             "minorgridcolor": "white",
             "startlinecolor": "#2a3f5f"
            },
            "baxis": {
             "endlinecolor": "#2a3f5f",
             "gridcolor": "white",
             "linecolor": "white",
             "minorgridcolor": "white",
             "startlinecolor": "#2a3f5f"
            },
            "type": "carpet"
           }
          ],
          "choropleth": [
           {
            "colorbar": {
             "outlinewidth": 0,
             "ticks": ""
            },
            "type": "choropleth"
           }
          ],
          "contour": [
           {
            "colorbar": {
             "outlinewidth": 0,
             "ticks": ""
            },
            "colorscale": [
             [
              0,
              "#0d0887"
             ],
             [
              0.1111111111111111,
              "#46039f"
             ],
             [
              0.2222222222222222,
              "#7201a8"
             ],
             [
              0.3333333333333333,
              "#9c179e"
             ],
             [
              0.4444444444444444,
              "#bd3786"
             ],
             [
              0.5555555555555556,
              "#d8576b"
             ],
             [
              0.6666666666666666,
              "#ed7953"
             ],
             [
              0.7777777777777778,
              "#fb9f3a"
             ],
             [
              0.8888888888888888,
              "#fdca26"
             ],
             [
              1,
              "#f0f921"
             ]
            ],
            "type": "contour"
           }
          ],
          "contourcarpet": [
           {
            "colorbar": {
             "outlinewidth": 0,
             "ticks": ""
            },
            "type": "contourcarpet"
           }
          ],
          "heatmap": [
           {
            "colorbar": {
             "outlinewidth": 0,
             "ticks": ""
            },
            "colorscale": [
             [
              0,
              "#0d0887"
             ],
             [
              0.1111111111111111,
              "#46039f"
             ],
             [
              0.2222222222222222,
              "#7201a8"
             ],
             [
              0.3333333333333333,
              "#9c179e"
             ],
             [
              0.4444444444444444,
              "#bd3786"
             ],
             [
              0.5555555555555556,
              "#d8576b"
             ],
             [
              0.6666666666666666,
              "#ed7953"
             ],
             [
              0.7777777777777778,
              "#fb9f3a"
             ],
             [
              0.8888888888888888,
              "#fdca26"
             ],
             [
              1,
              "#f0f921"
             ]
            ],
            "type": "heatmap"
           }
          ],
          "heatmapgl": [
           {
            "colorbar": {
             "outlinewidth": 0,
             "ticks": ""
            },
            "colorscale": [
             [
              0,
              "#0d0887"
             ],
             [
              0.1111111111111111,
              "#46039f"
             ],
             [
              0.2222222222222222,
              "#7201a8"
             ],
             [
              0.3333333333333333,
              "#9c179e"
             ],
             [
              0.4444444444444444,
              "#bd3786"
             ],
             [
              0.5555555555555556,
              "#d8576b"
             ],
             [
              0.6666666666666666,
              "#ed7953"
             ],
             [
              0.7777777777777778,
              "#fb9f3a"
             ],
             [
              0.8888888888888888,
              "#fdca26"
             ],
             [
              1,
              "#f0f921"
             ]
            ],
            "type": "heatmapgl"
           }
          ],
          "histogram": [
           {
            "marker": {
             "pattern": {
              "fillmode": "overlay",
              "size": 10,
              "solidity": 0.2
             }
            },
            "type": "histogram"
           }
          ],
          "histogram2d": [
           {
            "colorbar": {
             "outlinewidth": 0,
             "ticks": ""
            },
            "colorscale": [
             [
              0,
              "#0d0887"
             ],
             [
              0.1111111111111111,
              "#46039f"
             ],
             [
              0.2222222222222222,
              "#7201a8"
             ],
             [
              0.3333333333333333,
              "#9c179e"
             ],
             [
              0.4444444444444444,
              "#bd3786"
             ],
             [
              0.5555555555555556,
              "#d8576b"
             ],
             [
              0.6666666666666666,
              "#ed7953"
             ],
             [
              0.7777777777777778,
              "#fb9f3a"
             ],
             [
              0.8888888888888888,
              "#fdca26"
             ],
             [
              1,
              "#f0f921"
             ]
            ],
            "type": "histogram2d"
           }
          ],
          "histogram2dcontour": [
           {
            "colorbar": {
             "outlinewidth": 0,
             "ticks": ""
            },
            "colorscale": [
             [
              0,
              "#0d0887"
             ],
             [
              0.1111111111111111,
              "#46039f"
             ],
             [
              0.2222222222222222,
              "#7201a8"
             ],
             [
              0.3333333333333333,
              "#9c179e"
             ],
             [
              0.4444444444444444,
              "#bd3786"
             ],
             [
              0.5555555555555556,
              "#d8576b"
             ],
             [
              0.6666666666666666,
              "#ed7953"
             ],
             [
              0.7777777777777778,
              "#fb9f3a"
             ],
             [
              0.8888888888888888,
              "#fdca26"
             ],
             [
              1,
              "#f0f921"
             ]
            ],
            "type": "histogram2dcontour"
           }
          ],
          "mesh3d": [
           {
            "colorbar": {
             "outlinewidth": 0,
             "ticks": ""
            },
            "type": "mesh3d"
           }
          ],
          "parcoords": [
           {
            "line": {
             "colorbar": {
              "outlinewidth": 0,
              "ticks": ""
             }
            },
            "type": "parcoords"
           }
          ],
          "pie": [
           {
            "automargin": true,
            "type": "pie"
           }
          ],
          "scatter": [
           {
            "marker": {
             "colorbar": {
              "outlinewidth": 0,
              "ticks": ""
             }
            },
            "type": "scatter"
           }
          ],
          "scatter3d": [
           {
            "line": {
             "colorbar": {
              "outlinewidth": 0,
              "ticks": ""
             }
            },
            "marker": {
             "colorbar": {
              "outlinewidth": 0,
              "ticks": ""
             }
            },
            "type": "scatter3d"
           }
          ],
          "scattercarpet": [
           {
            "marker": {
             "colorbar": {
              "outlinewidth": 0,
              "ticks": ""
             }
            },
            "type": "scattercarpet"
           }
          ],
          "scattergeo": [
           {
            "marker": {
             "colorbar": {
              "outlinewidth": 0,
              "ticks": ""
             }
            },
            "type": "scattergeo"
           }
          ],
          "scattergl": [
           {
            "marker": {
             "colorbar": {
              "outlinewidth": 0,
              "ticks": ""
             }
            },
            "type": "scattergl"
           }
          ],
          "scattermapbox": [
           {
            "marker": {
             "colorbar": {
              "outlinewidth": 0,
              "ticks": ""
             }
            },
            "type": "scattermapbox"
           }
          ],
          "scatterpolar": [
           {
            "marker": {
             "colorbar": {
              "outlinewidth": 0,
              "ticks": ""
             }
            },
            "type": "scatterpolar"
           }
          ],
          "scatterpolargl": [
           {
            "marker": {
             "colorbar": {
              "outlinewidth": 0,
              "ticks": ""
             }
            },
            "type": "scatterpolargl"
           }
          ],
          "scatterternary": [
           {
            "marker": {
             "colorbar": {
              "outlinewidth": 0,
              "ticks": ""
             }
            },
            "type": "scatterternary"
           }
          ],
          "surface": [
           {
            "colorbar": {
             "outlinewidth": 0,
             "ticks": ""
            },
            "colorscale": [
             [
              0,
              "#0d0887"
             ],
             [
              0.1111111111111111,
              "#46039f"
             ],
             [
              0.2222222222222222,
              "#7201a8"
             ],
             [
              0.3333333333333333,
              "#9c179e"
             ],
             [
              0.4444444444444444,
              "#bd3786"
             ],
             [
              0.5555555555555556,
              "#d8576b"
             ],
             [
              0.6666666666666666,
              "#ed7953"
             ],
             [
              0.7777777777777778,
              "#fb9f3a"
             ],
             [
              0.8888888888888888,
              "#fdca26"
             ],
             [
              1,
              "#f0f921"
             ]
            ],
            "type": "surface"
           }
          ],
          "table": [
           {
            "cells": {
             "fill": {
              "color": "#EBF0F8"
             },
             "line": {
              "color": "white"
             }
            },
            "header": {
             "fill": {
              "color": "#C8D4E3"
             },
             "line": {
              "color": "white"
             }
            },
            "type": "table"
           }
          ]
         },
         "layout": {
          "annotationdefaults": {
           "arrowcolor": "#2a3f5f",
           "arrowhead": 0,
           "arrowwidth": 1
          },
          "autotypenumbers": "strict",
          "coloraxis": {
           "colorbar": {
            "outlinewidth": 0,
            "ticks": ""
           }
          },
          "colorscale": {
           "diverging": [
            [
             0,
             "#8e0152"
            ],
            [
             0.1,
             "#c51b7d"
            ],
            [
             0.2,
             "#de77ae"
            ],
            [
             0.3,
             "#f1b6da"
            ],
            [
             0.4,
             "#fde0ef"
            ],
            [
             0.5,
             "#f7f7f7"
            ],
            [
             0.6,
             "#e6f5d0"
            ],
            [
             0.7,
             "#b8e186"
            ],
            [
             0.8,
             "#7fbc41"
            ],
            [
             0.9,
             "#4d9221"
            ],
            [
             1,
             "#276419"
            ]
           ],
           "sequential": [
            [
             0,
             "#0d0887"
            ],
            [
             0.1111111111111111,
             "#46039f"
            ],
            [
             0.2222222222222222,
             "#7201a8"
            ],
            [
             0.3333333333333333,
             "#9c179e"
            ],
            [
             0.4444444444444444,
             "#bd3786"
            ],
            [
             0.5555555555555556,
             "#d8576b"
            ],
            [
             0.6666666666666666,
             "#ed7953"
            ],
            [
             0.7777777777777778,
             "#fb9f3a"
            ],
            [
             0.8888888888888888,
             "#fdca26"
            ],
            [
             1,
             "#f0f921"
            ]
           ],
           "sequentialminus": [
            [
             0,
             "#0d0887"
            ],
            [
             0.1111111111111111,
             "#46039f"
            ],
            [
             0.2222222222222222,
             "#7201a8"
            ],
            [
             0.3333333333333333,
             "#9c179e"
            ],
            [
             0.4444444444444444,
             "#bd3786"
            ],
            [
             0.5555555555555556,
             "#d8576b"
            ],
            [
             0.6666666666666666,
             "#ed7953"
            ],
            [
             0.7777777777777778,
             "#fb9f3a"
            ],
            [
             0.8888888888888888,
             "#fdca26"
            ],
            [
             1,
             "#f0f921"
            ]
           ]
          },
          "colorway": [
           "#636efa",
           "#EF553B",
           "#00cc96",
           "#ab63fa",
           "#FFA15A",
           "#19d3f3",
           "#FF6692",
           "#B6E880",
           "#FF97FF",
           "#FECB52"
          ],
          "font": {
           "color": "#2a3f5f"
          },
          "geo": {
           "bgcolor": "white",
           "lakecolor": "white",
           "landcolor": "#E5ECF6",
           "showlakes": true,
           "showland": true,
           "subunitcolor": "white"
          },
          "hoverlabel": {
           "align": "left"
          },
          "hovermode": "closest",
          "mapbox": {
           "style": "light"
          },
          "paper_bgcolor": "white",
          "plot_bgcolor": "#E5ECF6",
          "polar": {
           "angularaxis": {
            "gridcolor": "white",
            "linecolor": "white",
            "ticks": ""
           },
           "bgcolor": "#E5ECF6",
           "radialaxis": {
            "gridcolor": "white",
            "linecolor": "white",
            "ticks": ""
           }
          },
          "scene": {
           "xaxis": {
            "backgroundcolor": "#E5ECF6",
            "gridcolor": "white",
            "gridwidth": 2,
            "linecolor": "white",
            "showbackground": true,
            "ticks": "",
            "zerolinecolor": "white"
           },
           "yaxis": {
            "backgroundcolor": "#E5ECF6",
            "gridcolor": "white",
            "gridwidth": 2,
            "linecolor": "white",
            "showbackground": true,
            "ticks": "",
            "zerolinecolor": "white"
           },
           "zaxis": {
            "backgroundcolor": "#E5ECF6",
            "gridcolor": "white",
            "gridwidth": 2,
            "linecolor": "white",
            "showbackground": true,
            "ticks": "",
            "zerolinecolor": "white"
           }
          },
          "shapedefaults": {
           "line": {
            "color": "#2a3f5f"
           }
          },
          "ternary": {
           "aaxis": {
            "gridcolor": "white",
            "linecolor": "white",
            "ticks": ""
           },
           "baxis": {
            "gridcolor": "white",
            "linecolor": "white",
            "ticks": ""
           },
           "bgcolor": "#E5ECF6",
           "caxis": {
            "gridcolor": "white",
            "linecolor": "white",
            "ticks": ""
           }
          },
          "title": {
           "x": 0.05
          },
          "xaxis": {
           "automargin": true,
           "gridcolor": "white",
           "linecolor": "white",
           "ticks": "",
           "title": {
            "standoff": 15
           },
           "zerolinecolor": "white",
           "zerolinewidth": 2
          },
          "yaxis": {
           "automargin": true,
           "gridcolor": "white",
           "linecolor": "white",
           "ticks": "",
           "title": {
            "standoff": 15
           },
           "zerolinecolor": "white",
           "zerolinewidth": 2
          }
         }
        },
        "title": {
         "text": "M1100 水泥工業  各年度月營收 YOY %"
        },
        "xaxis": {
         "title": {
          "text": "月份"
         }
        },
        "yaxis": {
         "title": {
          "text": "YOY %"
         }
        }
       }
      },
      "text/html": [
       "<div>                            <div id=\"80222331-a46a-4fdc-801d-f9a421cc2ce4\" class=\"plotly-graph-div\" style=\"height:525px; width:100%;\"></div>            <script type=\"text/javascript\">                require([\"plotly\"], function(Plotly) {                    window.PLOTLYENV=window.PLOTLYENV || {};                                    if (document.getElementById(\"80222331-a46a-4fdc-801d-f9a421cc2ce4\")) {                    Plotly.newPlot(                        \"80222331-a46a-4fdc-801d-f9a421cc2ce4\",                        [{\"name\":\"2013\",\"opacity\":0.5,\"x\":[\"01\",\"02\",\"03\",\"04\",\"05\",\"06\",\"07\",\"08\",\"09\",\"10\",\"11\",\"12\"],\"y\":[null,null,null,null,null,null,null,null,null,null,null,null],\"type\":\"scatter\"},{\"name\":\"2014\",\"opacity\":0.5,\"x\":[\"01\",\"02\",\"03\",\"04\",\"05\",\"06\",\"07\",\"08\",\"09\",\"10\",\"11\",\"12\"],\"y\":[0.05644141445611746,0.1363409016550458,0.20425247657411777,0.15877852762192154,0.15207862816554593,0.0762596070277583,0.06672667652910735,0.05417637073231722,0.02538693020858552,0.000497185574515688,-0.12283478444155162,-0.08328166830886352],\"type\":\"scatter\"},{\"name\":\"2015\",\"opacity\":0.5,\"x\":[\"01\",\"02\",\"03\",\"04\",\"05\",\"06\",\"07\",\"08\",\"09\",\"10\",\"11\",\"12\"],\"y\":[-0.010174042158008543,-0.10324362895557194,-0.2737560431803123,-0.21569326731258714,-0.2373793799867472,-0.1504404330394564,-0.16699448749396212,-0.2119298509385905,-0.2191891862274409,-0.18330009512200057,-0.14213833095982,-0.1572730580231792],\"type\":\"scatter\"},{\"name\":\"2016\",\"opacity\":0.5,\"x\":[\"01\",\"02\",\"03\",\"04\",\"05\",\"06\",\"07\",\"08\",\"09\",\"10\",\"11\",\"12\"],\"y\":[-0.26530533824487496,-0.22828972308847137,-0.007566076303130707,-0.09716234942247176,-0.028261541186867935,-0.06919013733580498,-0.09949115905107002,-0.020703044574840436,-0.043012547615300975,-0.025994422727091633,0.041303268794107215,0.07398747944326416],\"type\":\"scatter\"},{\"name\":\"2017\",\"opacity\":0.5,\"x\":[\"01\",\"02\",\"03\",\"04\",\"05\",\"06\",\"07\",\"08\",\"09\",\"10\",\"11\",\"12\"],\"y\":[-0.10701940404246922,0.39990560936672603,0.10537004715361747,0.04072507858700588,0.0529983562924188,-0.003678421543378641,0.043734156007371405,-0.009889327089422069,0.14653539781550243,0.013708530088388425,0.1525668161565996,0.14128440748974572],\"type\":\"scatter\"},{\"name\":\"2018\",\"opacity\":0.5,\"x\":[\"01\",\"02\",\"03\",\"04\",\"05\",\"06\",\"07\",\"08\",\"09\",\"10\",\"11\",\"12\"],\"y\":[0.5431822549986011,-0.09236901363343585,0.10545881435884218,0.3168178650392522,0.3335178705552371,0.372188358260531,0.34115108740554595,0.39703804574201945,0.2789156393783594,0.3678331674479134,0.14569839617417898,0.005595022088827164],\"type\":\"scatter\"},{\"name\":\"2019\",\"opacity\":0.5,\"x\":[\"01\",\"02\",\"03\",\"04\",\"05\",\"06\",\"07\",\"08\",\"09\",\"10\",\"11\",\"12\"],\"y\":[0.066551680115897,-0.0066543857306493315,0.17952109405118064,0.0555482585407922,0.011119666188141286,-0.04339784730217512,0.015623864425962296,-0.012768759434746674,-0.029423373784151847,-0.05720077284201614,0.03607806335584308,0.12373672108749682],\"type\":\"scatter\"},{\"name\":\"2020\",\"opacity\":0.5,\"x\":[\"01\",\"02\",\"03\",\"04\",\"05\",\"06\",\"07\",\"08\",\"09\",\"10\",\"11\",\"12\"],\"y\":[-0.2623595422659797,0.010067434760708526,-0.2182178847984717,-0.09012056656427563,-0.09136610408258022,-0.026208317733867337,-0.05497590035245307,-0.04931548141696753,-0.020750959085922536,-0.016716601554527172,-0.04353141329388717,-0.03988373368914604],\"type\":\"scatter\"},{\"name\":\"2021\",\"opacity\":0.5,\"x\":[\"01\",\"02\",\"03\",\"04\",\"05\",\"06\",\"07\",\"08\",\"09\",\"10\",\"11\",\"12\"],\"y\":[0.27567430796175124,-0.006944076744413709,0.16485440900165996,0.028319880526865873,0.008564738756418753,-0.07615888597630441,-0.12483508074750978,-0.02603573373526451,0.006910462724902942,0.05870177613617528,-0.002059795369728601,0.03907847533202945],\"type\":\"scatter\"},{\"name\":\"2022\",\"opacity\":0.5,\"x\":[\"01\",\"02\",\"03\",\"04\",\"05\",\"06\",\"07\",\"08\",\"09\",\"10\",\"11\",\"12\"],\"y\":[-0.07134151754684086,0.16229073236428065,0.053598621535415794,-0.033987038227545806,-0.09635933804682602,0.0990900842806815,0.20054864958715082,0.10655550258423903,0.020832593279624393,0.0037918683263896444,-0.0314851291319151,0.03291985335413206],\"type\":\"scatter\"},{\"connectgaps\":false,\"line\":{\"dash\":\"dash\"},\"name\":\"2022\\u9810\\u4f30\\u503c\",\"x\":[\"12\"],\"y\":[0.03291985335413206],\"type\":\"scatter\"},{\"connectgaps\":false,\"line\":{\"dash\":\"dash\"},\"name\":\"2023\\u9810\\u4f30\\u503c\",\"x\":[\"01\",\"02\",\"03\",\"04\",\"05\",\"06\",\"07\",\"08\",\"09\",\"10\",\"11\",\"12\"],\"y\":[0.022216682395462223,-0.08766466954397713,-0.06000441798020747,0.055084463886868655,0.14852161847899378,-0.020590477817484566,-0.07599988229871421,-0.05616931366866494,0.008463223457030458,-0.004092689954965081,0.07295180739686896,-0.019126077905582895],\"type\":\"scatter\"}],                        {\"hovermode\":\"x unified\",\"legend\":{\"title\":{\"text\":\"\\u5e74\\u4efd\"}},\"title\":{\"text\":\"M1100 \\u6c34\\u6ce5\\u5de5\\u696d  \\u5404\\u5e74\\u5ea6\\u6708\\u71df\\u6536 YOY %\"},\"xaxis\":{\"title\":{\"text\":\"\\u6708\\u4efd\"}},\"yaxis\":{\"title\":{\"text\":\"YOY %\"}},\"template\":{\"data\":{\"bar\":[{\"error_x\":{\"color\":\"#2a3f5f\"},\"error_y\":{\"color\":\"#2a3f5f\"},\"marker\":{\"line\":{\"color\":\"#E5ECF6\",\"width\":0.5},\"pattern\":{\"fillmode\":\"overlay\",\"size\":10,\"solidity\":0.2}},\"type\":\"bar\"}],\"barpolar\":[{\"marker\":{\"line\":{\"color\":\"#E5ECF6\",\"width\":0.5},\"pattern\":{\"fillmode\":\"overlay\",\"size\":10,\"solidity\":0.2}},\"type\":\"barpolar\"}],\"carpet\":[{\"aaxis\":{\"endlinecolor\":\"#2a3f5f\",\"gridcolor\":\"white\",\"linecolor\":\"white\",\"minorgridcolor\":\"white\",\"startlinecolor\":\"#2a3f5f\"},\"baxis\":{\"endlinecolor\":\"#2a3f5f\",\"gridcolor\":\"white\",\"linecolor\":\"white\",\"minorgridcolor\":\"white\",\"startlinecolor\":\"#2a3f5f\"},\"type\":\"carpet\"}],\"choropleth\":[{\"colorbar\":{\"outlinewidth\":0,\"ticks\":\"\"},\"type\":\"choropleth\"}],\"contour\":[{\"colorbar\":{\"outlinewidth\":0,\"ticks\":\"\"},\"colorscale\":[[0.0,\"#0d0887\"],[0.1111111111111111,\"#46039f\"],[0.2222222222222222,\"#7201a8\"],[0.3333333333333333,\"#9c179e\"],[0.4444444444444444,\"#bd3786\"],[0.5555555555555556,\"#d8576b\"],[0.6666666666666666,\"#ed7953\"],[0.7777777777777778,\"#fb9f3a\"],[0.8888888888888888,\"#fdca26\"],[1.0,\"#f0f921\"]],\"type\":\"contour\"}],\"contourcarpet\":[{\"colorbar\":{\"outlinewidth\":0,\"ticks\":\"\"},\"type\":\"contourcarpet\"}],\"heatmap\":[{\"colorbar\":{\"outlinewidth\":0,\"ticks\":\"\"},\"colorscale\":[[0.0,\"#0d0887\"],[0.1111111111111111,\"#46039f\"],[0.2222222222222222,\"#7201a8\"],[0.3333333333333333,\"#9c179e\"],[0.4444444444444444,\"#bd3786\"],[0.5555555555555556,\"#d8576b\"],[0.6666666666666666,\"#ed7953\"],[0.7777777777777778,\"#fb9f3a\"],[0.8888888888888888,\"#fdca26\"],[1.0,\"#f0f921\"]],\"type\":\"heatmap\"}],\"heatmapgl\":[{\"colorbar\":{\"outlinewidth\":0,\"ticks\":\"\"},\"colorscale\":[[0.0,\"#0d0887\"],[0.1111111111111111,\"#46039f\"],[0.2222222222222222,\"#7201a8\"],[0.3333333333333333,\"#9c179e\"],[0.4444444444444444,\"#bd3786\"],[0.5555555555555556,\"#d8576b\"],[0.6666666666666666,\"#ed7953\"],[0.7777777777777778,\"#fb9f3a\"],[0.8888888888888888,\"#fdca26\"],[1.0,\"#f0f921\"]],\"type\":\"heatmapgl\"}],\"histogram\":[{\"marker\":{\"pattern\":{\"fillmode\":\"overlay\",\"size\":10,\"solidity\":0.2}},\"type\":\"histogram\"}],\"histogram2d\":[{\"colorbar\":{\"outlinewidth\":0,\"ticks\":\"\"},\"colorscale\":[[0.0,\"#0d0887\"],[0.1111111111111111,\"#46039f\"],[0.2222222222222222,\"#7201a8\"],[0.3333333333333333,\"#9c179e\"],[0.4444444444444444,\"#bd3786\"],[0.5555555555555556,\"#d8576b\"],[0.6666666666666666,\"#ed7953\"],[0.7777777777777778,\"#fb9f3a\"],[0.8888888888888888,\"#fdca26\"],[1.0,\"#f0f921\"]],\"type\":\"histogram2d\"}],\"histogram2dcontour\":[{\"colorbar\":{\"outlinewidth\":0,\"ticks\":\"\"},\"colorscale\":[[0.0,\"#0d0887\"],[0.1111111111111111,\"#46039f\"],[0.2222222222222222,\"#7201a8\"],[0.3333333333333333,\"#9c179e\"],[0.4444444444444444,\"#bd3786\"],[0.5555555555555556,\"#d8576b\"],[0.6666666666666666,\"#ed7953\"],[0.7777777777777778,\"#fb9f3a\"],[0.8888888888888888,\"#fdca26\"],[1.0,\"#f0f921\"]],\"type\":\"histogram2dcontour\"}],\"mesh3d\":[{\"colorbar\":{\"outlinewidth\":0,\"ticks\":\"\"},\"type\":\"mesh3d\"}],\"parcoords\":[{\"line\":{\"colorbar\":{\"outlinewidth\":0,\"ticks\":\"\"}},\"type\":\"parcoords\"}],\"pie\":[{\"automargin\":true,\"type\":\"pie\"}],\"scatter\":[{\"marker\":{\"colorbar\":{\"outlinewidth\":0,\"ticks\":\"\"}},\"type\":\"scatter\"}],\"scatter3d\":[{\"line\":{\"colorbar\":{\"outlinewidth\":0,\"ticks\":\"\"}},\"marker\":{\"colorbar\":{\"outlinewidth\":0,\"ticks\":\"\"}},\"type\":\"scatter3d\"}],\"scattercarpet\":[{\"marker\":{\"colorbar\":{\"outlinewidth\":0,\"ticks\":\"\"}},\"type\":\"scattercarpet\"}],\"scattergeo\":[{\"marker\":{\"colorbar\":{\"outlinewidth\":0,\"ticks\":\"\"}},\"type\":\"scattergeo\"}],\"scattergl\":[{\"marker\":{\"colorbar\":{\"outlinewidth\":0,\"ticks\":\"\"}},\"type\":\"scattergl\"}],\"scattermapbox\":[{\"marker\":{\"colorbar\":{\"outlinewidth\":0,\"ticks\":\"\"}},\"type\":\"scattermapbox\"}],\"scatterpolar\":[{\"marker\":{\"colorbar\":{\"outlinewidth\":0,\"ticks\":\"\"}},\"type\":\"scatterpolar\"}],\"scatterpolargl\":[{\"marker\":{\"colorbar\":{\"outlinewidth\":0,\"ticks\":\"\"}},\"type\":\"scatterpolargl\"}],\"scatterternary\":[{\"marker\":{\"colorbar\":{\"outlinewidth\":0,\"ticks\":\"\"}},\"type\":\"scatterternary\"}],\"surface\":[{\"colorbar\":{\"outlinewidth\":0,\"ticks\":\"\"},\"colorscale\":[[0.0,\"#0d0887\"],[0.1111111111111111,\"#46039f\"],[0.2222222222222222,\"#7201a8\"],[0.3333333333333333,\"#9c179e\"],[0.4444444444444444,\"#bd3786\"],[0.5555555555555556,\"#d8576b\"],[0.6666666666666666,\"#ed7953\"],[0.7777777777777778,\"#fb9f3a\"],[0.8888888888888888,\"#fdca26\"],[1.0,\"#f0f921\"]],\"type\":\"surface\"}],\"table\":[{\"cells\":{\"fill\":{\"color\":\"#EBF0F8\"},\"line\":{\"color\":\"white\"}},\"header\":{\"fill\":{\"color\":\"#C8D4E3\"},\"line\":{\"color\":\"white\"}},\"type\":\"table\"}]},\"layout\":{\"annotationdefaults\":{\"arrowcolor\":\"#2a3f5f\",\"arrowhead\":0,\"arrowwidth\":1},\"autotypenumbers\":\"strict\",\"coloraxis\":{\"colorbar\":{\"outlinewidth\":0,\"ticks\":\"\"}},\"colorscale\":{\"diverging\":[[0,\"#8e0152\"],[0.1,\"#c51b7d\"],[0.2,\"#de77ae\"],[0.3,\"#f1b6da\"],[0.4,\"#fde0ef\"],[0.5,\"#f7f7f7\"],[0.6,\"#e6f5d0\"],[0.7,\"#b8e186\"],[0.8,\"#7fbc41\"],[0.9,\"#4d9221\"],[1,\"#276419\"]],\"sequential\":[[0.0,\"#0d0887\"],[0.1111111111111111,\"#46039f\"],[0.2222222222222222,\"#7201a8\"],[0.3333333333333333,\"#9c179e\"],[0.4444444444444444,\"#bd3786\"],[0.5555555555555556,\"#d8576b\"],[0.6666666666666666,\"#ed7953\"],[0.7777777777777778,\"#fb9f3a\"],[0.8888888888888888,\"#fdca26\"],[1.0,\"#f0f921\"]],\"sequentialminus\":[[0.0,\"#0d0887\"],[0.1111111111111111,\"#46039f\"],[0.2222222222222222,\"#7201a8\"],[0.3333333333333333,\"#9c179e\"],[0.4444444444444444,\"#bd3786\"],[0.5555555555555556,\"#d8576b\"],[0.6666666666666666,\"#ed7953\"],[0.7777777777777778,\"#fb9f3a\"],[0.8888888888888888,\"#fdca26\"],[1.0,\"#f0f921\"]]},\"colorway\":[\"#636efa\",\"#EF553B\",\"#00cc96\",\"#ab63fa\",\"#FFA15A\",\"#19d3f3\",\"#FF6692\",\"#B6E880\",\"#FF97FF\",\"#FECB52\"],\"font\":{\"color\":\"#2a3f5f\"},\"geo\":{\"bgcolor\":\"white\",\"lakecolor\":\"white\",\"landcolor\":\"#E5ECF6\",\"showlakes\":true,\"showland\":true,\"subunitcolor\":\"white\"},\"hoverlabel\":{\"align\":\"left\"},\"hovermode\":\"closest\",\"mapbox\":{\"style\":\"light\"},\"paper_bgcolor\":\"white\",\"plot_bgcolor\":\"#E5ECF6\",\"polar\":{\"angularaxis\":{\"gridcolor\":\"white\",\"linecolor\":\"white\",\"ticks\":\"\"},\"bgcolor\":\"#E5ECF6\",\"radialaxis\":{\"gridcolor\":\"white\",\"linecolor\":\"white\",\"ticks\":\"\"}},\"scene\":{\"xaxis\":{\"backgroundcolor\":\"#E5ECF6\",\"gridcolor\":\"white\",\"gridwidth\":2,\"linecolor\":\"white\",\"showbackground\":true,\"ticks\":\"\",\"zerolinecolor\":\"white\"},\"yaxis\":{\"backgroundcolor\":\"#E5ECF6\",\"gridcolor\":\"white\",\"gridwidth\":2,\"linecolor\":\"white\",\"showbackground\":true,\"ticks\":\"\",\"zerolinecolor\":\"white\"},\"zaxis\":{\"backgroundcolor\":\"#E5ECF6\",\"gridcolor\":\"white\",\"gridwidth\":2,\"linecolor\":\"white\",\"showbackground\":true,\"ticks\":\"\",\"zerolinecolor\":\"white\"}},\"shapedefaults\":{\"line\":{\"color\":\"#2a3f5f\"}},\"ternary\":{\"aaxis\":{\"gridcolor\":\"white\",\"linecolor\":\"white\",\"ticks\":\"\"},\"baxis\":{\"gridcolor\":\"white\",\"linecolor\":\"white\",\"ticks\":\"\"},\"bgcolor\":\"#E5ECF6\",\"caxis\":{\"gridcolor\":\"white\",\"linecolor\":\"white\",\"ticks\":\"\"}},\"title\":{\"x\":0.05},\"xaxis\":{\"automargin\":true,\"gridcolor\":\"white\",\"linecolor\":\"white\",\"ticks\":\"\",\"title\":{\"standoff\":15},\"zerolinecolor\":\"white\",\"zerolinewidth\":2},\"yaxis\":{\"automargin\":true,\"gridcolor\":\"white\",\"linecolor\":\"white\",\"ticks\":\"\",\"title\":{\"standoff\":15},\"zerolinecolor\":\"white\",\"zerolinewidth\":2}}}},                        {\"responsive\": true}                    ).then(function(){\n",
       "                            \n",
       "var gd = document.getElementById('80222331-a46a-4fdc-801d-f9a421cc2ce4');\n",
       "var x = new MutationObserver(function (mutations, observer) {{\n",
       "        var display = window.getComputedStyle(gd).display;\n",
       "        if (!display || display === 'none') {{\n",
       "            console.log([gd, 'removed!']);\n",
       "            Plotly.purge(gd);\n",
       "            observer.disconnect();\n",
       "        }}\n",
       "}});\n",
       "\n",
       "// Listen for the removal of the full notebook cells\n",
       "var notebookContainer = gd.closest('#notebook-container');\n",
       "if (notebookContainer) {{\n",
       "    x.observe(notebookContainer, {childList: true});\n",
       "}}\n",
       "\n",
       "// Listen for the clearing of the current output cell\n",
       "var outputEl = gd.closest('.output');\n",
       "if (outputEl) {{\n",
       "    x.observe(outputEl, {childList: true});\n",
       "}}\n",
       "\n",
       "                        })                };                });            </script>        </div>"
      ]
     },
     "metadata": {},
     "output_type": "display_data"
    },
    {
     "data": {
      "text/plain": [
       "(    rev_period         rev  Year month       mom       yoy\n",
       " 0      2013/01  16972856.0  2013    01       NaN       NaN\n",
       " 1      2013/02   9099023.0  2013    02 -0.463907       NaN\n",
       " 2      2013/03  16628616.0  2013    03  0.827517       NaN\n",
       " 3      2013/04  17528976.0  2013    04  0.054145       NaN\n",
       " 4      2013/05  17444029.0  2013    05 -0.004846       NaN\n",
       " ..         ...         ...   ...   ...       ...       ...\n",
       " 115    2022/08  19592228.0  2022    08 -0.007732  0.106556\n",
       " 116    2022/09  19340385.0  2022    09 -0.012854  0.020833\n",
       " 117    2022/10  20939529.0  2022    10  0.082684  0.003792\n",
       " 118    2022/11  20085904.0  2022    11 -0.040766 -0.031485\n",
       " 119    2022/12  22980561.0  2022    12  0.144114  0.032920\n",
       " \n",
       " [120 rows x 6 columns],\n",
       " [{'st_code': '1101',\n",
       "   'st_name': '台泥',\n",
       "   'declaration_date': '2023/01/10',\n",
       "   'rev': 12584154.0,\n",
       "   'mom': 0.30074475615262103,\n",
       "   'yoy': 0.16290980425207258},\n",
       "  {'st_code': '1102',\n",
       "   'st_name': '亞泥',\n",
       "   'declaration_date': '2023/01/10',\n",
       "   'rev': 8340507.0,\n",
       "   'mom': 0.004146971212109903,\n",
       "   'yoy': -0.11306330482086722},\n",
       "  {'st_code': '1103',\n",
       "   'st_name': '嘉泥',\n",
       "   'declaration_date': '2023/01/10',\n",
       "   'rev': 228644.0,\n",
       "   'mom': 0.031028620644561987,\n",
       "   'yoy': 0.3330612530463275},\n",
       "  {'st_code': '1104',\n",
       "   'st_name': '環泥',\n",
       "   'declaration_date': '2023/01/10',\n",
       "   'rev': 725055.0,\n",
       "   'mom': 0.14755304854018583,\n",
       "   'yoy': 0.27286372613561555},\n",
       "  {'st_code': '1108',\n",
       "   'st_name': '幸福',\n",
       "   'declaration_date': '2023/01/10',\n",
       "   'rev': 418326.0,\n",
       "   'mom': 0.09003499464527208,\n",
       "   'yoy': 0.30985571503719844},\n",
       "  {'st_code': '1109',\n",
       "   'st_name': '信大',\n",
       "   'declaration_date': '2023/01/10',\n",
       "   'rev': 516142.0,\n",
       "   'mom': -0.22916364863714497,\n",
       "   'yoy': -0.33639331278775697},\n",
       "  {'st_code': '1110',\n",
       "   'st_name': '東泥',\n",
       "   'declaration_date': '2023/01/10',\n",
       "   'rev': 167733.0,\n",
       "   'mom': -0.15421347748038483,\n",
       "   'yoy': -0.09271720198621763}],\n",
       "     rev_period         rev  Year month       mom       yoy   ratio  \\\n",
       " 119    2022/12  22980561.0  2022    12  0.144114  0.032920  0.1022   \n",
       " 108    2022/01  17119487.0  2023    01 -0.255045  0.022217  0.0744   \n",
       " 109    2022/02   9605809.0  2023    02 -0.438896 -0.087665  0.0468   \n",
       " 110    2022/03  18761698.0  2023    03  0.953162 -0.060004  0.0887   \n",
       " 111    2022/04  19841508.0  2023    04  0.057554  0.055084  0.0836   \n",
       " 112    2022/05  20111460.0  2023    05  0.013605  0.148522  0.0778   \n",
       " 113    2022/06  18334273.0  2023    06 -0.088367 -0.020590  0.0832   \n",
       " 114    2022/07  18244289.0  2023    07 -0.004908 -0.076000  0.0878   \n",
       " 115    2022/08  18491746.0  2023    08  0.013564 -0.056169  0.0871   \n",
       " 116    2022/09  19504067.0  2023    09  0.054744  0.008463  0.0860   \n",
       " 117    2022/10  20853830.0  2023    10  0.069204 -0.004093  0.0931   \n",
       " 118    2022/11  21551207.0  2023    11  0.033441  0.072952  0.0893   \n",
       " 119    2022/12  22541033.0  2023    12  0.045929 -0.019126  0.1022   \n",
       " \n",
       "      wt_avg_ratio  predict_annul_rev  predict_month_rev  \n",
       " 119           NaN                NaN                NaN  \n",
       " 108        0.0761        225099664.0         17119487.0  \n",
       " 109        0.0427        224974658.0          9605809.0  \n",
       " 110        0.0834        225020823.0         18761698.0  \n",
       " 111        0.0882        224947500.0         19841508.0  \n",
       " 112        0.0894        225073740.0         20111460.0  \n",
       " 113        0.0815        224996647.0         18334273.0  \n",
       " 114        0.0811        224884954.0         18244289.0  \n",
       " 115        0.0822        224939472.0         18491746.0  \n",
       " 116        0.0867        224888198.0         19504067.0  \n",
       " 117        0.0927        224914382.0         20853830.0  \n",
       " 118        0.0958        224926137.0         21551207.0  \n",
       " 119        0.1002        224858718.0         22541033.0  ,\n",
       " None,\n",
       " None,\n",
       " None)"
      ]
     },
     "execution_count": 39,
     "metadata": {},
     "output_type": "execute_result"
    }
   ],
   "source": [
    "data, latest, predict, REV.show(), MOM.show(), YOY.show()"
   ]
  },
  {
   "cell_type": "code",
   "execution_count": null,
   "id": "e02b93eb",
   "metadata": {},
   "outputs": [],
   "source": []
  }
 ],
 "metadata": {
  "kernelspec": {
   "display_name": "Python 3 (ipykernel)",
   "language": "python",
   "name": "python3"
  },
  "language_info": {
   "codemirror_mode": {
    "name": "ipython",
    "version": 3
   },
   "file_extension": ".py",
   "mimetype": "text/x-python",
   "name": "python",
   "nbconvert_exporter": "python",
   "pygments_lexer": "ipython3",
   "version": "3.9.12"
  }
 },
 "nbformat": 4,
 "nbformat_minor": 5
}
