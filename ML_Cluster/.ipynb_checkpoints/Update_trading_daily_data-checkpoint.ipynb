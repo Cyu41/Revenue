{
 "cells": [
  {
   "cell_type": "code",
   "execution_count": 158,
   "id": "c51ba699",
   "metadata": {},
   "outputs": [],
   "source": [
    "import pandas as pd\n",
    "import datetime\n",
    "from sqlalchemy import create_engine"
   ]
  },
  {
   "cell_type": "code",
   "execution_count": 159,
   "id": "febb5284",
   "metadata": {},
   "outputs": [],
   "source": [
    "# 連接 sql 引擎\n",
    "host='database-1.cyn7ldoposru.us-east-1.rds.amazonaws.com'\n",
    "port='5432'\n",
    "user='Yu'\n",
    "password='m#WA12J#'\n",
    "database=\"JQC_Revenue1\"\n",
    "\n",
    "engine = create_engine('postgresql://{}:{}@{}:{}/{}'.format(\n",
    "        user, password, host, port, database), echo=True)"
   ]
  },
  {
   "cell_type": "code",
   "execution_count": 193,
   "id": "50acf8dc",
   "metadata": {},
   "outputs": [
    {
     "name": "stdout",
     "output_type": "stream",
     "text": [
      "2023-03-23 12:52:35,599 INFO sqlalchemy.engine.Engine select relname from pg_class c join pg_namespace n on n.oid=c.relnamespace where pg_catalog.pg_table_is_visible(c.oid) and relname=%(name)s\n",
      "2023-03-23 12:52:35,599 INFO sqlalchemy.engine.Engine [cached since 639.6s ago] {'name': 'daily_stock_price'}\n",
      "2023-03-23 12:52:36,382 INFO sqlalchemy.engine.Engine BEGIN (implicit)\n",
      "2023-03-23 12:52:36,398 INFO sqlalchemy.engine.Engine INSERT INTO daily_stock_price (index, st_code, st_name, date, open, high, low, close, volume, \"成交筆數\") VALUES (%(index)s, %(st_code)s, %(st_name)s, %(date)s, %(open)s, %(high)s, %(low)s, %(close)s, %(volume)s, %(成交筆數)s)\n",
      "2023-03-23 12:52:36,399 INFO sqlalchemy.engine.Engine [generated in 0.01227s] ({'index': 0, 'st_code': '0050', 'st_name': '元大台灣50', 'date': '2023/02/24', 'open': '119.90', 'high': '120.10', 'low': '118.80', 'close': '118.80', 'volume': 5828709, '成交筆數': 9038}, {'index': 1, 'st_code': '0051', 'st_name': '元大中型100', 'date': '2023/02/24', 'open': '56.55', 'high': '56.70', 'low': '56.45', 'close': '56.45', 'volume': 21982, '成交筆數': 134}, {'index': 2, 'st_code': '0052', 'st_name': '富邦科技', 'date': '2023/02/24', 'open': '106.00', 'high': '106.40', 'low': '104.60', 'close': '104.60', 'volume': 319969, '成交筆數': 424}, {'index': 3, 'st_code': '0053', 'st_name': '元大電子', 'date': '2023/02/24', 'open': '59.00', 'high': '59.25', 'low': '58.70', 'close': '58.70', 'volume': 16182, '成交筆數': 1010}, {'index': 4, 'st_code': '0055', 'st_name': '元大MSCI金融', 'date': '2023/02/24', 'open': '22.51', 'high': '22.56', 'low': '22.42', 'close': '22.50', 'volume': 142157, '成交筆數': 210}, {'index': 5, 'st_code': '0056', 'st_name': '元大高股息', 'date': '2023/02/24', 'open': '27.77', 'high': '27.85', 'low': '27.65', 'close': '27.67', 'volume': 44514038, '成交筆數': 25509}, {'index': 6, 'st_code': '0057', 'st_name': '富邦摩台', 'date': '2023/02/24', 'open': '87.00', 'high': '87.00', 'low': '86.60', 'close': '86.60', 'volume': 3988, '成交筆數': 990}, {'index': 7, 'st_code': '0061', 'st_name': '元大寶滬深', 'date': '2023/02/24', 'open': '19.55', 'high': '19.55', 'low': '19.36', 'close': '19.38', 'volume': 94606, '成交筆數': 161}  ... displaying 10 of 1180 total bound parameter sets ...  {'index': 1178, 'st_code': '9955', 'st_name': '佳龍', 'date': '2023/02/24', 'open': '21.50', 'high': '21.50', 'low': '21.10', 'close': '21.10', 'volume': 376645, '成交筆數': 230}, {'index': 1179, 'st_code': '9958', 'st_name': '世紀鋼', 'date': '2023/02/24', 'open': '106.50', 'high': '106.50', 'low': '103.50', 'close': '104.00', 'volume': 2087427, '成交筆數': 1725})\n",
      "2023-03-23 12:52:37,235 INFO sqlalchemy.engine.Engine COMMIT\n",
      "2023-03-23 12:52:37,445 INFO sqlalchemy.engine.Engine select relname from pg_class c join pg_namespace n on n.oid=c.relnamespace where pg_catalog.pg_table_is_visible(c.oid) and relname=%(name)s\n",
      "2023-03-23 12:52:37,446 INFO sqlalchemy.engine.Engine [cached since 641.5s ago] {'name': 'daily_stock_price'}\n",
      "2023-03-23 12:52:38,123 INFO sqlalchemy.engine.Engine BEGIN (implicit)\n",
      "2023-03-23 12:52:38,133 INFO sqlalchemy.engine.Engine INSERT INTO daily_stock_price (index, st_code, st_name, date, open, high, low, close, volume, \"成交筆數\") VALUES (%(index)s, %(st_code)s, %(st_name)s, %(date)s, %(open)s, %(high)s, %(low)s, %(close)s, %(volume)s, %(成交筆數)s)\n",
      "2023-03-23 12:52:38,133 INFO sqlalchemy.engine.Engine [generated in 0.00777s] ({'index': 0, 'st_code': '00679B', 'st_name': '元大美債20年', 'date': '2023/02/24', 'open': '31.14', 'high': '31.21', 'low': '31.08', 'close': '31.21', 'volume': '12038000', '成交筆數': '2449'}, {'index': 1, 'st_code': '00687B', 'st_name': '國泰20年美債', 'date': '2023/02/24', 'open': '32.32', 'high': '32.45', 'low': '32.29', 'close': '32.45', 'volume': '5755000', '成交筆數': '463'}, {'index': 2, 'st_code': '00694B', 'st_name': '富邦美債1-3', 'date': '2023/02/24', 'open': '37.95', 'high': '38.08', 'low': '37.95', 'close': '38.08', 'volume': '260000', '成交筆數': '12'}, {'index': 3, 'st_code': '00695B', 'st_name': '富邦美債7-10', 'date': '2023/02/24', 'open': '33.61', 'high': '33.76', 'low': '33.61', 'close': '33.76', 'volume': '284000', '成交筆數': '18'}, {'index': 4, 'st_code': '00696B', 'st_name': '富邦美債20年', 'date': '2023/02/24', 'open': '32.65', 'high': '32.79', 'low': '32.65', 'close': '32.77', 'volume': '1667000', '成交筆數': '131'}, {'index': 5, 'st_code': '00697B', 'st_name': '元大美債7-10', 'date': '2023/02/24', 'open': '35.09', 'high': '35.10', 'low': '35.00', 'close': '35.09', 'volume': '153000', '成交筆數': '17'}, {'index': 6, 'st_code': '00718B', 'st_name': '富邦中國政策債', 'date': '2023/02/24', 'open': '19.74', 'high': '19.79', 'low': '19.74', 'close': '19.77', 'volume': '8000', '成交筆數': '7'}, {'index': 7, 'st_code': '00719B', 'st_name': '元大美債1-3', 'date': '2023/02/24', 'open': '30.10', 'high': '30.22', 'low': '30.10', 'close': '30.22', 'volume': '69000', '成交筆數': '34'}  ... displaying 10 of 903 total bound parameter sets ...  {'index': 901, 'st_code': '020033', 'st_name': '統一恒生科期N', 'date': '2023/02/24', 'open': '3.80', 'high': '3.80', 'low': '3.75', 'close': '3.75', 'volume': '60000', '成交筆數': '21'}, {'index': 902, 'st_code': '020035', 'st_name': '元大上櫃ESG高息N', 'date': '2023/02/24', 'open': '6.21', 'high': '6.21', 'low': '6.10', 'close': '6.10', 'volume': '28000', '成交筆數': '9'})\n",
      "2023-03-23 12:52:38,599 INFO sqlalchemy.engine.Engine COMMIT\n"
     ]
    },
    {
     "data": {
      "text/plain": [
       "903"
      ]
     },
     "execution_count": 193,
     "metadata": {},
     "output_type": "execute_result"
    }
   ],
   "source": [
    "otc_year = datetime.datetime.today().year - 1911\n",
    "otc_date = str(year) + '/' + datetime.datetime.today().strftime(\"%Y/%m/%d\")[5:]\n",
    "tse_date = ''.join(datetime.datetime.today().strftime(\"%Y/%m/%d\").split('/'))\n",
    "\n",
    "# otc_date = '112/02/24'\n",
    "# tse_date = '20230224'\n",
    "\n",
    "tse_url = 'https://www.twse.com.tw/rwd/zh/afterTrading/MI_INDEX?date=' + tse_date + '&type=ALLBUT0999&response=html'\n",
    "otc_url = 'https://www.tpex.org.tw/web/stock/aftertrading/otc_quotes_no1430/stk_wn1430_result.php?l=zh-tw&o=htm&d=' + otc_date + '&se=EW&s=0,asc,0'\n",
    "tse = pd.read_html(tse_url)[-1]\n",
    "otc = pd.read_html(otc_url)[0]\n",
    "tse.columns = tse.columns.droplevel(level=0)\n",
    "otc.columns = otc.columns.droplevel(level=0)\n",
    "otc = otc[otc['次日漲停價'].isna() == False]\n",
    "\n",
    "otc['date'] = datetime.datetime.today().strftime(\"%Y/%m/%d\")\n",
    "tse['date'] = datetime.datetime.today().strftime(\"%Y/%m/%d\")\n",
    "\n",
    "otc = otc.loc[:, ['代號','名稱','date','開盤','最高','最低','收盤','成交股數','成交筆數']]\n",
    "otc = otc.set_axis(['st_code', 'st_name', 'date', 'open', 'high', 'low', 'close', 'volume', '成交筆數'], axis=1)\n",
    "tse = tse.loc[:, ['證券代號','證券名稱','date','開盤價','最高價','最低價','收盤價','成交股數','成交筆數']]\n",
    "tse = tse.set_axis(['st_code', 'st_name', 'date', 'open', 'high', 'low', 'close', 'volume', '成交筆數'], axis=1)\n",
    "tse.to_sql('daily_stock_price', engine, if_exists='append')\n",
    "otc.to_sql('daily_stock_price', engine, if_exists='append')"
   ]
  },
  {
   "cell_type": "code",
   "execution_count": null,
   "id": "58164eda",
   "metadata": {},
   "outputs": [],
   "source": []
  }
 ],
 "metadata": {
  "kernelspec": {
   "display_name": "Python 3 (ipykernel)",
   "language": "python",
   "name": "python3"
  },
  "language_info": {
   "codemirror_mode": {
    "name": "ipython",
    "version": 3
   },
   "file_extension": ".py",
   "mimetype": "text/x-python",
   "name": "python",
   "nbconvert_exporter": "python",
   "pygments_lexer": "ipython3",
   "version": "3.9.12"
  }
 },
 "nbformat": 4,
 "nbformat_minor": 5
}
